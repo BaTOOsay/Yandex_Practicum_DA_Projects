{
 "cells": [
  {
   "cell_type": "markdown",
   "id": "c0c9a94d",
   "metadata": {},
   "source": [
    "# Библиотека полезных материалов из пачки"
   ]
  },
  {
   "cell_type": "markdown",
   "id": "03437fd1",
   "metadata": {},
   "source": [
    "**Спринт «Предобработка данных»:**\n",
    "\n",
    "🔥 Туториал по Jupyter Notebook + анализ похожих данных по кредитам от Глеба Михайлова:https://disk.yandex.ru/d/1othZJ-U9SbmPA\n",
    "\n",
    "🔥 Intoduction to Pandas. Работа с пропусками от Александры Кузнецовой:https://disk.yandex.ru/d/lWB_HxoGJgbO6A\n",
    "\n",
    "🔥 Introduction to Pandas и предобработка данных от Александра Синюкова:https://disk.yandex.ru/d/MfMkkHagTc-O7g\n",
    "\n",
    "🔥 Фишки pandas и работа с текстом от Юрия Белякова:https://disk.yandex.ru/d/7hR2QU0KNctsOg"
   ]
  },
  {
   "cell_type": "markdown",
   "id": "a6996b55",
   "metadata": {},
   "source": [
    "**Спринт «Исследовательский анализ данных»:**\n",
    "\n",
    "💻 Декомпозиция второго проекта от Алексея Козинова:https://disk.yandex.ru/d/ZOqqx24hrSHpsg\n",
    "\n",
    "💻 Ретроспектива спринта Исследовательский анализ данных от Дарины Кухтиной:https://disk.yandex.ru/d/zuhUb4iqdmvu9w\n",
    "\n",
    "💻 Фишки проекта EDA от Эльвиры Нассировой:https://disk.yandex.ru/d/ic0fY4-e6SGFXA\n",
    "\n",
    "💻 Отчёт по продажам от Глеба Михайлова:https://disk.yandex.ru/d/Vtm4yaCUQlIluw\n",
    "\n",
    "💻 Как построить красивые графики от Александра Синюкова:https://disk.yandex.ru/d/xYrqoVqqoSRSpg\n",
    "\n",
    "💻 Разбор типов визуализаций на примере данных проекта от Юрия Белякова:https://disk.yandex.ru/d/dJsGKEoi9prCFQ"
   ]
  },
  {
   "cell_type": "markdown",
   "id": "a4670783",
   "metadata": {},
   "source": [
    "**Спринт «Статистический анализ данных»:**\n",
    "\n",
    "Основы статистики от Карпова:\n",
    "\n",
    " - Часть 1: https://stepik.org/course/76/promo\n",
    " - Часть 2: https://stepik.org/course/524/promo\n",
    " - Часть 3: https://stepik.org/course/2152/promo\n",
    " \n",
    "Книги\n",
    "\n",
    " - «Статистика и котики», Владимир Савельев\n",
    "Из этой книги вы узнаете, что такое дисперсия и стандартное отклонение, как найти t-критерий Стьюдента и U-критерий Манна-Уитни, для чего используются регрессионный и факторный анализы, а также многое и многое другое. И все это — на простых и понятных примерах из жизни милых и пушистых котиков, которые дарят нам множество приятных эмоций.\n",
    "\n",
    " - «Practical Statistics for Data Scientists: 50 Essential Concepts», Peter Bruce, Andrew Bruce\n",
    "Statistical methods are a key part of data science, yet very few data scientists have any formal statistics training. Courses and books on basic statistics rarely cover the topic from a data science perspective. This practical guide explains how to apply various statistical methods to data science, tells you how to avoid their misuse, and gives you advice on what's important and what's not. \n",
    "Код на питоне к книге\n",
    "\n",
    " - «Статистика», Донелли Р.А.\n",
    "Книга знакомит с основными законами статистики, их применением в различных ситуациях выбора. Вы научитесь формулировать гипотезы, выбирать критерии и принимать решения, опираясь на законы статистики.\n",
    "\n",
    " - «Статистика для всех», Сара Бослаф\n",
    "Ясное и краткое введение и руководство для всех новичков. Тщательно переработанное и расширенное, это издание поможет вам глубоко понять статистику, избегая ошеломляющей сложности многих университетских учебников.\n",
    "\n",
    "\n",
    " - Непараметрические тесты от Александры Кузнецовой: https://disk.yandex.ru/d/v-j_GfO3CaLChw\n",
    " - Работа с джойнами от Александры Кузнецовой: https://disk.yandex.ru/d/uLP3rNISMffYbQ\n",
    " - Введение в статистику и проверку гипотез от Юлии Соловьевой: https://disk.yandex.ru/d/bjkc-x1GDPO4YQ\n",
    " - Введение в статистику от Глеба Михайлова: https://disk.yandex.ru/d/opnFCkS8b6OKJw\n",
    " - Введение в статистику (академическое) часть 1 и часть 2 от Александра Синюкова: https://disk.yandex.ru/d/fkUIsCBlsCtMcA\n",
    " https://disk.yandex.ru/d/5c3cXKAZXomSXQ\n",
    " \n",
    " \n",
    " Топ книг о Python: https://habr.com/ru/companies/yandex_praktikum/articles/553900/\n",
    "\n",
    "Автор курса «Мидл python-разработчик» Слава Безбородов поделился своим списком книг, которые помогут структурировать и углубить знания о разработке на языке Python.\n",
    "\n",
    "\n",
    " Как понять, чему учиться, чтобы быть востребованным на рынке труда: https://theoryandpractice.ru/posts/18975-kak-ponyat-chemu-uchitsya-chtoby-byt-vostrebovannym-na-rynke-truda\n",
    "\n",
    "Дарья Дуденкова, педагогический дизайнер и лид методического направления в Яндекс.Практикуме, рассказала T&P о том, как выбрать необходимые для профессионального роста навыки и построить собственную траекторию обучения.\n",
    "\n",
    "\n",
    "Вот реально прикладная статистика от Академии аналитиков Авито: https://avito.tech/education/statistics"
   ]
  },
  {
   "cell_type": "markdown",
   "id": "94e353cf",
   "metadata": {},
   "source": [
    "**Спринт «Базовый SQL + Продвинутый»:**\n",
    "\n",
    "\n",
    "Интерактивный учебник по SQL: http://www.sql-tutorial.ru/ru\n",
    "\n",
    "Интерактивный онлайн курс по SQL: https://sql-academy.org/ru\n",
    "\n",
    "\n",
    "☀️ Введение в парсинг и задачи на SQL от Юлии Соловьевой: https://disk.yandex.ru/d/y3jqb-_ajNvtVw\n",
    "☀️ Парсинг GSuite от Эльвиры Насировой: https://disk.yandex.ru/d/1mTnYm9Epb-qug\n",
    "☀️ Работа с API от Эльвиры Насировой: https://disk.yandex.ru/d/gIcsOkYFgULWSA\n",
    "☀️ Мастер-класс по SQL на примере проекта Телеком от Глеба Михайлова: https://disk.yandex.ru/d/gtyPBTXBEVtzfQ\n",
    "☀️ Решение задач с sql-ex от Глеба Михайлова: https://disk.yandex.ru/d/dQuJUhr4cFrN4Q\n",
    "☀️ Практика SQL в pandas от Александра Синюква: https://disk.yandex.ru/d/oLvn8biXnJcOrQ\n",
    "\n",
    "А еще посмотрите, какой кладезь информации у Глеба Михайлова на youtube-канале! Это просто праздник какой-то: https://www.youtube.com/c/GlebMikhaylov/playlists\n",
    "\n",
    "Вопросы на собеседованиях SQL:https://www.stratascratch.com/blog/sql-interview-questions-you-must-prepare-the-ultimate-guide/"
   ]
  },
  {
   "cell_type": "markdown",
   "id": "466bdd8d",
   "metadata": {},
   "source": [
    "**Спринт «Анализ бизнес-показателей»:**\n",
    "\n",
    "🔹 Как метрики обманывают людей от Константина Башевого: https://disk.yandex.ru/d/D9rfRTUE6gu44Q/%D0%91%D0%B0%D1%88%D0%B5%D0%B2%D0%BE%D0%B9%20%D0%9A%D0%BE%D0%BD%D1%81%D1%82%D0%B0%D0%BD%D1%82%D0%B8%D0%BD%20-%20%D0%9A%D0%B0%D0%BA%20%D0%BC%D0%B5%D1%82%D1%80%D0%B8%D0%BA%D0%B8%20%D0%BE%D0%B1%D0%BC%D0%B0%D0%BD%D1%8B%D0%B2%D0%B0%D1%8E%D1%82%20%D0%BB%D1%8E%D0%B4%D0%B5%D0%B9\n",
    "\n",
    "🔹 Метрики и выводы от Александра Синюкова: https://disk.yandex.ru/d/D9rfRTUE6gu44Q/%D0%A1%D0%B8%D0%BD%D1%8E%D0%BA%D0%BE%D0%B2%20%D0%90%D0%BB%D0%B5%D0%BA%D1%81%D0%B0%D0%BD%D0%B4%D1%80%20%E2%80%93%20%D0%9C%D0%B5%D1%82%D1%80%D0%B8%D0%BA%D0%B8%20%D0%B8%20%D0%B2%D1%8B%D0%B2%D0%BE%D0%B4%D1%8B\n",
    "\n",
    "🔹 Бизнес-метрики и А/Б тесты от Андрея Сухань: https://disk.yandex.ru/d/D9rfRTUE6gu44Q/%D0%A1%D1%83%D1%85%D0%B0%D0%BD%D1%8C%20%D0%90%D0%BD%D0%B4%D1%80%D0%B5%D0%B9%20-%20%D0%91%D0%B8%D0%B7%D0%BD%D0%B5%D1%81-%D0%BC%D0%B5%D1%82%D1%80%D0%B8%D0%BA%D0%B8%20%D0%B8%20%D0%90%D0%91%20%D1%82%D0%B5%D1%81%D1%82%D1%8B\n",
    "\n",
    "🔹 Статья Метрики продукта: как оценить эффективность бизнеса: https://practicum.yandex.ru/blog/chto-takoe-produktovye-metriki-i-kakimi-oni-byvayut/"
   ]
  },
  {
   "cell_type": "markdown",
   "id": "ba617e2f",
   "metadata": {},
   "source": [
    "**Подкасты:**\n",
    "\n",
    "Принесла вам подборку подкастов от Андрея Чевозёрова, одного из наших старших студентов:\n",
    "\n",
    "- ❇️ «Большая дата» — подкаст о машинном обучении, нейросетках, Big Data и всём таком: рассказывают, как это всё применяется и в каких компаниях.\n",
    "- ❇️ «Каждый МОЖЕТ» — подкаст Яндекс Практикума об айти.\n",
    "- ❇️ «Запуск завтра» — айтишный подкаст на разные тематики.\n",
    "- ❇️ «Sebrant Chatting» — крутой подкаст от Андрея Себранта.\n",
    "- ❇️ «Неопознанный искусственный интеллект» — возможно, не самый популярный подкаст, но туда приходят классные специалисты и рассказывают о перспективах развития сильного ИИ на основе нейросетей."
   ]
  },
  {
   "cell_type": "markdown",
   "id": "e5997768",
   "metadata": {},
   "source": [
    "**Спринт «Принятие решений в бизнесе»:**\n",
    "\n",
    "🔹Статья на английском про мощность A/B-тестов: https://towardsdatascience.com/required-sample-size-for-a-b-testing-6f6608dd330a?gi=f2f61b76932b\n",
    "\n",
    "🔹Видео от Анатолия Карпова про оценку выборки А/В-теста: https://www.youtube.com/watch?v=2nP_gcut7SU&t=3044s\n",
    "\n",
    "🔹Лекция Яндекса \"Как у нас устроено A/Б-тестирование\": https://habr.com/ru/companies/yandex/articles/342704/\n",
    "\n",
    "🔹Как провести A/B-тестирование: 6 простых шагов: https://education.yandex.ru/journal/kak-provesti-a-b-testirovanie-6-prostykh-shagov\n",
    "\n",
    "🔹Множественные эксперименты: теория и практика: https://habr.com/ru/companies/yandex/articles/476826/\n",
    "\n",
    "🔹Как улучшить ваши A/B-тесты: лайфхаки аналитиков Авито: https://habr.com/ru/companies/avito/articles/571094/"
   ]
  },
  {
   "cell_type": "markdown",
   "id": "4e521c69",
   "metadata": {},
   "source": [
    "**Спринт «Как рассказать историю с помощью данных»:**\n",
    "\n",
    "🔹Статья на английском как делать Бизнес-презентации: https://slidemodel.com/business-presentation-examples/\n",
    "\n",
    "🔹Статья на английском про разные лайвхаки для интерактивных презентаций: https://slidemodel.com/23-powerpoint-presentation-tips-creating-engaging-interactive-presentations/"
   ]
  },
  {
   "cell_type": "markdown",
   "id": "99564acb",
   "metadata": {},
   "source": [
    "**Спринт «Построение дашбордов в Tableau»:**\n",
    "\n",
    "🔹Статья про российские аналоги Power BI: https://vc.ru/u/1298619-tehnologii-budushego/506156-luchshie-rossiiskie-analogi-power-bi\n",
    "🔹Визуализация данных с помощью Python Dash: https://habr.com/ru/companies/otus/articles/716190/"
   ]
  },
  {
   "cell_type": "markdown",
   "id": "81a6c708",
   "metadata": {},
   "source": [
    "**Спринт «Машинки»:**\n",
    "\n",
    "Если подробнее хочется в теорию: https://education.yandex.ru/handbook/ml"
   ]
  },
  {
   "cell_type": "markdown",
   "id": "c9c7d34f",
   "metadata": {},
   "source": [
    "**Интересные инструменты и собственный горизонт обучения:**\n",
    "\n",
    "- Финальный веб: https://disk.yandex.ru/d/7aVxHSwX2huXMA\n",
    "- Блог по продуктовой аналитике https://koch-kir.medium.com/\n",
    "- Задачи: https://itresume.ru/problems/revers-linked-list"
   ]
  }
 ],
 "metadata": {
  "kernelspec": {
   "display_name": "Python 3 (ipykernel)",
   "language": "python",
   "name": "python3"
  },
  "language_info": {
   "codemirror_mode": {
    "name": "ipython",
    "version": 3
   },
   "file_extension": ".py",
   "mimetype": "text/x-python",
   "name": "python",
   "nbconvert_exporter": "python",
   "pygments_lexer": "ipython3",
   "version": "3.11.5"
  },
  "toc": {
   "base_numbering": 1,
   "nav_menu": {},
   "number_sections": true,
   "sideBar": true,
   "skip_h1_title": false,
   "title_cell": "Table of Contents",
   "title_sidebar": "Contents",
   "toc_cell": false,
   "toc_position": {},
   "toc_section_display": true,
   "toc_window_display": false
  }
 },
 "nbformat": 4,
 "nbformat_minor": 5
}
