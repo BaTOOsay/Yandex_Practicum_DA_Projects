{
 "cells": [
  {
   "cell_type": "markdown",
   "id": "b7120386",
   "metadata": {},
   "source": [
    "# Проект: Построение дашбордов в Tableau"
   ]
  },
  {
   "cell_type": "markdown",
   "id": "be29acd0",
   "metadata": {},
   "source": [
    "**Описание проекта**\n",
    "\n",
    "TED (от англ. technology, education, design — «технологии, образование, дизайн») — некоммерческий фонд, который проводит популярные конференции. На них выступают специалисты из разных областей и читают лекции на актуальные социальные, культурные и научные темы. \n",
    "В разное время на TED-конференциях выступали математик Бенуа Мандельброт, теоретик искусственного интеллекта Марвин Минский, спортсменка Дана Ньяд и основатель Google Ларри Пейдж. В истории TED также были неоднозначные и даже скандальные выступления. Например, в 2010 году на конференции выступил Рэнди Пауэлл с рассказом о псевдонаучной «вихревой математике», а в 2014 году в конференции TEDMED участвовала Элизабет Холмс — основательница печально известного стартапа Theranos.\n",
    "В этом проекте вы исследуете историю TED-конференций с помощью Tableau.\n",
    "\n",
    "**Описание данных:**\n",
    "\n",
    "- tableau_project_data_1.csv\n",
    "- tableau_project_data_2.csv\n",
    "- tableau_project_data_3.csv\n",
    "- tableau_project_event_dict.csv\n",
    "- tableau_project_speakers_dict.csv\n",
    "\n",
    "Файлы tableau_project_data_1.csv, tableau_project_data_2.csv, tableau_project_data_3.csv хранят данные выступлений. У них одинаковая структура:\n",
    "- talk_id — идентификатор выступления;\n",
    "- url — ссылка на запись выступления;\n",
    "- title — название выступления;\n",
    "- description — краткое описание;\n",
    "- film_date — дата записи выступления;\n",
    "- duration — длительность в секундах;\n",
    "- views — количество просмотров;\n",
    "- main_tag — основная категория, к которой относится выступление;\n",
    "- speaker_id — уникальный идентификатор автора выступления;\n",
    "- laughter_count — количество раз, когда аудитория смеялась в ходе выступления;\n",
    "- applause_count — количество раз, когда аудитория аплодировала в ходе выступления;\n",
    "- language — язык, на котором велось выступление;\n",
    "- event_id — уникальный идентификатор конференции.\n",
    "\n",
    "Файл tableau_project_event_dict.csv — справочник конференций. Описание таблицы:\n",
    "- conf_id — уникальный идентификатор конференции;\n",
    "- event — название конференции;\n",
    "- country — страна проведения конференции.\n",
    "\n",
    "Файл tableau_project_speakers_dict.csv — справочник авторов выступления. Описание таблицы:\n",
    "\n",
    "- author_id — уникальный идентификатор автора выступления;\n",
    "- speaker_name — имя автора;\n",
    "- speaker_occupation — профессиональная область автора;\n",
    "- speaker_description — описание профессиональной деятельности автора.\n",
    "\n",
    "Набор данных проекта мог вам напомнить известный датасет TED Talks, размещённый в библиотеке Kaggle. Он не является его копией: мы собрали данные на основе материалов сайта TED с помощью специальной программы."
   ]
  },
  {
   "cell_type": "markdown",
   "id": "9e2c2f06",
   "metadata": {},
   "source": [
    "\n",
    "**Шаг 1. Загрузите и изучите данные**\n"
   ]
  },
  {
   "cell_type": "markdown",
   "id": "2cb9b8ad",
   "metadata": {},
   "source": [
    "График количества конференций по годам\n",
    "\n",
    "Линейный график  для  проведённых TED-конференций в разрезе по году: после 2001-го года началсястремительный рост количества конференций.\n",
    "\n",
    "https://public.tableau.com/app/profile/rafael.gataullin/viz/my_yandex_project_viz_1/sheet0?publish=yes"
   ]
  },
  {
   "cell_type": "markdown",
   "id": "ec68be46",
   "metadata": {},
   "source": [
    "**Шаг 2. Постройте дашборд «История выступлений»**"
   ]
  },
  {
   "cell_type": "markdown",
   "id": "af1913aa",
   "metadata": {},
   "source": [
    "Ссылка на дашборд «История выступлений» по макету:\n",
    "\n",
    "https://public.tableau.com/app/profile/rafael.gataullin/viz/dash_1_17260923838410/sheet3?publish=yes"
   ]
  },
  {
   "cell_type": "markdown",
   "id": "772d400f",
   "metadata": {},
   "source": [
    "**Шаг 3. Создание дашборда «Тематики выступлений»**\n",
    "\n",
    "https://public.tableau.com/app/profile/rafael.gataullin/viz/dash_2_17260925527230/sheet5?publish=yes"
   ]
  },
  {
   "cell_type": "markdown",
   "id": "8bbc2ec6",
   "metadata": {},
   "source": [
    "**Шаг 4. Создание дашборда «Авторы выступлений»**\n",
    "\n",
    "Ссылка на дашборд «Авторы выступлений» по макету:\n",
    "\n",
    "https://public.tableau.com/app/profile/rafael.gataullin/viz/dash_3_17260926541190/sheet17?publish=yes"
   ]
  },
  {
   "cell_type": "markdown",
   "id": "5594187e",
   "metadata": {},
   "source": [
    "**Шаг 5. Создание дашборда на свободную тему**\n",
    "\n",
    "https://public.tableau.com/app/profile/rafael.gataullin/viz/dash_4_17260927623870/sheet4?publish=yes"
   ]
  },
  {
   "cell_type": "markdown",
   "id": "411183ca",
   "metadata": {},
   "source": [
    "**Шаг 6. Создание презентации**\n",
    "\n",
    "https://public.tableau.com/app/profile/rafael.gataullin/viz/yandex_project_full/TED-?publish=yes"
   ]
  }
 ],
 "metadata": {
  "kernelspec": {
   "display_name": "Python 3 (ipykernel)",
   "language": "python",
   "name": "python3"
  },
  "language_info": {
   "codemirror_mode": {
    "name": "ipython",
    "version": 3
   },
   "file_extension": ".py",
   "mimetype": "text/x-python",
   "name": "python",
   "nbconvert_exporter": "python",
   "pygments_lexer": "ipython3",
   "version": "3.11.5"
  },
  "toc": {
   "base_numbering": 1,
   "nav_menu": {},
   "number_sections": true,
   "sideBar": true,
   "skip_h1_title": true,
   "title_cell": "Table of Contents",
   "title_sidebar": "Contents",
   "toc_cell": false,
   "toc_position": {},
   "toc_section_display": true,
   "toc_window_display": false
  }
 },
 "nbformat": 4,
 "nbformat_minor": 5
}
