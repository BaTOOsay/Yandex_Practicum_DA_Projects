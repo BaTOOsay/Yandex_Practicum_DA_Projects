{
 "cells": [
  {
   "cell_type": "markdown",
   "metadata": {},
   "source": [
    "# Повышения выручки интернет магазина"
   ]
  },
  {
   "cell_type": "markdown",
   "metadata": {},
   "source": [
    "# Часть 1. Приоритизация гипотез."
   ]
  },
  {
   "cell_type": "markdown",
   "metadata": {},
   "source": [
    "***Описание данных***"
   ]
  },
  {
   "cell_type": "markdown",
   "metadata": {},
   "source": [
    "Файл /datasets/hypothesis.csv\n",
    "- Hypothesis — краткое описание гипотезы;\n",
    "- Reach — охват пользователей по 10-балльной шкале;\n",
    "- Impact — влияние на пользователей по 10-балльной шкале;\n",
    "- Confidence — уверенность в гипотезе по 10-балльной шкале;\n",
    "- Efforts — затраты ресурсов на проверку гипотезы по 10-балльной шкале. Чем больше значение Efforts, тем дороже проверка гипотезы."
   ]
  },
  {
   "cell_type": "markdown",
   "metadata": {},
   "source": [
    "**Ход исследования:**\n",
    "\n",
    "Для начала работы получим данные из CSV-файла с гипотезами. Ознакомимся с данными и при необходимости подкорректируем. Приоритизируем гипотезы и составим градацию гипотез по приоритету с помощью метода приоритезации ICE, а затем выполним аналогичные действия с помощью метода приоритезации RICE, сравним полученные итоги и при наличии отличий дадим интерпритацию возможной причины.\n",
    "\n",
    "Таким образом, моё исследование певрой части проекта пройдёт в 3 этапа:\n",
    "\n",
    "- Загрузка и подготовка данных к анализу.\n",
    "- Приоритезация гипотез и составление градации гипотез по приоритету ICE и RICE.\n",
    "- Сравнение этих 2-х результатов между собой и интепритация  причины отличий приоритетов."
   ]
  },
  {
   "cell_type": "markdown",
   "metadata": {},
   "source": [
    "### Загружаем данные и готовим их к анализу"
   ]
  },
  {
   "cell_type": "markdown",
   "metadata": {},
   "source": [
    "Импортируем необходимые библиотеки"
   ]
  },
  {
   "cell_type": "code",
   "execution_count": 2,
   "metadata": {
    "ExecuteTime": {
     "end_time": "2024-08-03T12:53:40.659627Z",
     "start_time": "2024-08-03T12:53:38.367758Z"
    }
   },
   "outputs": [],
   "source": [
    "import pandas as pd\n",
    "\n",
    "import warnings\n",
    "warnings.filterwarnings(\"ignore\")\n",
    "\n",
    "import datetime as dt\n",
    "\n",
    "import numpy as np\n",
    "\n",
    "import matplotlib.pyplot as plt\n",
    "from pandas.plotting import register_matplotlib_converters\n",
    "\n",
    "import scipy.stats as stats"
   ]
  },
  {
   "cell_type": "markdown",
   "metadata": {},
   "source": [
    "Записываем данные в переменную для дальшейшей работы"
   ]
  },
  {
   "cell_type": "code",
   "execution_count": 3,
   "metadata": {
    "ExecuteTime": {
     "end_time": "2024-08-03T12:53:55.716119Z",
     "start_time": "2024-08-03T12:53:54.729640Z"
    }
   },
   "outputs": [],
   "source": [
    "try:\n",
    "    hypothesis = pd.read_csv('/datasets/hypothesis.csv', sep=',')\n",
    "except:\n",
    "    hypothesis = pd.read_csv('https://code.s3.yandex.net/datasets/hypothesis.csv')\n",
    "\n",
    "# P.S Можно не указывать необязательный параметр разделителя в CSV если sep=',' !"
   ]
  },
  {
   "cell_type": "markdown",
   "metadata": {},
   "source": [
    "Знакомимся с нашими данными"
   ]
  },
  {
   "cell_type": "code",
   "execution_count": 3,
   "metadata": {},
   "outputs": [
    {
     "data": {
      "text/html": [
       "<div>\n",
       "<style scoped>\n",
       "    .dataframe tbody tr th:only-of-type {\n",
       "        vertical-align: middle;\n",
       "    }\n",
       "\n",
       "    .dataframe tbody tr th {\n",
       "        vertical-align: top;\n",
       "    }\n",
       "\n",
       "    .dataframe thead th {\n",
       "        text-align: right;\n",
       "    }\n",
       "</style>\n",
       "<table border=\"1\" class=\"dataframe\">\n",
       "  <thead>\n",
       "    <tr style=\"text-align: right;\">\n",
       "      <th></th>\n",
       "      <th>Hypothesis</th>\n",
       "      <th>Reach</th>\n",
       "      <th>Impact</th>\n",
       "      <th>Confidence</th>\n",
       "      <th>Efforts</th>\n",
       "    </tr>\n",
       "  </thead>\n",
       "  <tbody>\n",
       "    <tr>\n",
       "      <th>0</th>\n",
       "      <td>Добавить два новых канала привлечения трафика,...</td>\n",
       "      <td>3</td>\n",
       "      <td>10</td>\n",
       "      <td>8</td>\n",
       "      <td>6</td>\n",
       "    </tr>\n",
       "    <tr>\n",
       "      <th>1</th>\n",
       "      <td>Запустить собственную службу доставки, что сок...</td>\n",
       "      <td>2</td>\n",
       "      <td>5</td>\n",
       "      <td>4</td>\n",
       "      <td>10</td>\n",
       "    </tr>\n",
       "    <tr>\n",
       "      <th>2</th>\n",
       "      <td>Добавить блоки рекомендаций товаров на сайт ин...</td>\n",
       "      <td>8</td>\n",
       "      <td>3</td>\n",
       "      <td>7</td>\n",
       "      <td>3</td>\n",
       "    </tr>\n",
       "    <tr>\n",
       "      <th>3</th>\n",
       "      <td>Изменить структура категорий, что увеличит кон...</td>\n",
       "      <td>8</td>\n",
       "      <td>3</td>\n",
       "      <td>3</td>\n",
       "      <td>8</td>\n",
       "    </tr>\n",
       "    <tr>\n",
       "      <th>4</th>\n",
       "      <td>Изменить цвет фона главной страницы, чтобы уве...</td>\n",
       "      <td>3</td>\n",
       "      <td>1</td>\n",
       "      <td>1</td>\n",
       "      <td>1</td>\n",
       "    </tr>\n",
       "    <tr>\n",
       "      <th>5</th>\n",
       "      <td>Добавить страницу отзывов клиентов о магазине,...</td>\n",
       "      <td>3</td>\n",
       "      <td>2</td>\n",
       "      <td>2</td>\n",
       "      <td>3</td>\n",
       "    </tr>\n",
       "    <tr>\n",
       "      <th>6</th>\n",
       "      <td>Показать на главной странице баннеры с актуаль...</td>\n",
       "      <td>5</td>\n",
       "      <td>3</td>\n",
       "      <td>8</td>\n",
       "      <td>3</td>\n",
       "    </tr>\n",
       "    <tr>\n",
       "      <th>7</th>\n",
       "      <td>Добавить форму подписки на все основные страни...</td>\n",
       "      <td>10</td>\n",
       "      <td>7</td>\n",
       "      <td>8</td>\n",
       "      <td>5</td>\n",
       "    </tr>\n",
       "    <tr>\n",
       "      <th>8</th>\n",
       "      <td>Запустить акцию, дающую скидку на товар в день...</td>\n",
       "      <td>1</td>\n",
       "      <td>9</td>\n",
       "      <td>9</td>\n",
       "      <td>5</td>\n",
       "    </tr>\n",
       "  </tbody>\n",
       "</table>\n",
       "</div>"
      ],
      "text/plain": [
       "                                          Hypothesis  Reach  Impact  \\\n",
       "0  Добавить два новых канала привлечения трафика,...      3      10   \n",
       "1  Запустить собственную службу доставки, что сок...      2       5   \n",
       "2  Добавить блоки рекомендаций товаров на сайт ин...      8       3   \n",
       "3  Изменить структура категорий, что увеличит кон...      8       3   \n",
       "4  Изменить цвет фона главной страницы, чтобы уве...      3       1   \n",
       "5  Добавить страницу отзывов клиентов о магазине,...      3       2   \n",
       "6  Показать на главной странице баннеры с актуаль...      5       3   \n",
       "7  Добавить форму подписки на все основные страни...     10       7   \n",
       "8  Запустить акцию, дающую скидку на товар в день...      1       9   \n",
       "\n",
       "   Confidence  Efforts  \n",
       "0           8        6  \n",
       "1           4       10  \n",
       "2           7        3  \n",
       "3           3        8  \n",
       "4           1        1  \n",
       "5           2        3  \n",
       "6           8        3  \n",
       "7           8        5  \n",
       "8           9        5  "
      ]
     },
     "metadata": {},
     "output_type": "display_data"
    }
   ],
   "source": [
    "display(hypothesis)"
   ]
  },
  {
   "cell_type": "markdown",
   "metadata": {},
   "source": [
    "Видим 9 гипотез, каждая из которых имеет краткое описание, охват пользователей, влияние, уверенность в гипотезе, затраты на проведение. Все количественные атрибуты представлены в 10-и балльной шкале, что облегчает восприятие и даёт возможность использование методов приоритезации ICE и RICE(это одни из самых популярных способов приоритизации задач). Для соблюдения хорошего тона приведём название столбцов к единому стилю."
   ]
  },
  {
   "cell_type": "code",
   "execution_count": 4,
   "metadata": {},
   "outputs": [],
   "source": [
    "# Функция для приведения названий атрибутов к единому стилю\n",
    "def snake_style(df):\n",
    "    df.columns = df.columns.str.lower().str.replace(' ', '_')"
   ]
  },
  {
   "cell_type": "code",
   "execution_count": 5,
   "metadata": {},
   "outputs": [],
   "source": [
    "snake_style(hypothesis)"
   ]
  },
  {
   "cell_type": "code",
   "execution_count": 6,
   "metadata": {},
   "outputs": [
    {
     "data": {
      "text/html": [
       "<div>\n",
       "<style scoped>\n",
       "    .dataframe tbody tr th:only-of-type {\n",
       "        vertical-align: middle;\n",
       "    }\n",
       "\n",
       "    .dataframe tbody tr th {\n",
       "        vertical-align: top;\n",
       "    }\n",
       "\n",
       "    .dataframe thead th {\n",
       "        text-align: right;\n",
       "    }\n",
       "</style>\n",
       "<table border=\"1\" class=\"dataframe\">\n",
       "  <thead>\n",
       "    <tr style=\"text-align: right;\">\n",
       "      <th></th>\n",
       "      <th>hypothesis</th>\n",
       "      <th>reach</th>\n",
       "      <th>impact</th>\n",
       "      <th>confidence</th>\n",
       "      <th>efforts</th>\n",
       "    </tr>\n",
       "  </thead>\n",
       "  <tbody>\n",
       "    <tr>\n",
       "      <th>0</th>\n",
       "      <td>Добавить два новых канала привлечения трафика,...</td>\n",
       "      <td>3</td>\n",
       "      <td>10</td>\n",
       "      <td>8</td>\n",
       "      <td>6</td>\n",
       "    </tr>\n",
       "    <tr>\n",
       "      <th>1</th>\n",
       "      <td>Запустить собственную службу доставки, что сок...</td>\n",
       "      <td>2</td>\n",
       "      <td>5</td>\n",
       "      <td>4</td>\n",
       "      <td>10</td>\n",
       "    </tr>\n",
       "    <tr>\n",
       "      <th>2</th>\n",
       "      <td>Добавить блоки рекомендаций товаров на сайт ин...</td>\n",
       "      <td>8</td>\n",
       "      <td>3</td>\n",
       "      <td>7</td>\n",
       "      <td>3</td>\n",
       "    </tr>\n",
       "    <tr>\n",
       "      <th>3</th>\n",
       "      <td>Изменить структура категорий, что увеличит кон...</td>\n",
       "      <td>8</td>\n",
       "      <td>3</td>\n",
       "      <td>3</td>\n",
       "      <td>8</td>\n",
       "    </tr>\n",
       "    <tr>\n",
       "      <th>4</th>\n",
       "      <td>Изменить цвет фона главной страницы, чтобы уве...</td>\n",
       "      <td>3</td>\n",
       "      <td>1</td>\n",
       "      <td>1</td>\n",
       "      <td>1</td>\n",
       "    </tr>\n",
       "    <tr>\n",
       "      <th>5</th>\n",
       "      <td>Добавить страницу отзывов клиентов о магазине,...</td>\n",
       "      <td>3</td>\n",
       "      <td>2</td>\n",
       "      <td>2</td>\n",
       "      <td>3</td>\n",
       "    </tr>\n",
       "    <tr>\n",
       "      <th>6</th>\n",
       "      <td>Показать на главной странице баннеры с актуаль...</td>\n",
       "      <td>5</td>\n",
       "      <td>3</td>\n",
       "      <td>8</td>\n",
       "      <td>3</td>\n",
       "    </tr>\n",
       "    <tr>\n",
       "      <th>7</th>\n",
       "      <td>Добавить форму подписки на все основные страни...</td>\n",
       "      <td>10</td>\n",
       "      <td>7</td>\n",
       "      <td>8</td>\n",
       "      <td>5</td>\n",
       "    </tr>\n",
       "    <tr>\n",
       "      <th>8</th>\n",
       "      <td>Запустить акцию, дающую скидку на товар в день...</td>\n",
       "      <td>1</td>\n",
       "      <td>9</td>\n",
       "      <td>9</td>\n",
       "      <td>5</td>\n",
       "    </tr>\n",
       "  </tbody>\n",
       "</table>\n",
       "</div>"
      ],
      "text/plain": [
       "                                          hypothesis  reach  impact  \\\n",
       "0  Добавить два новых канала привлечения трафика,...      3      10   \n",
       "1  Запустить собственную службу доставки, что сок...      2       5   \n",
       "2  Добавить блоки рекомендаций товаров на сайт ин...      8       3   \n",
       "3  Изменить структура категорий, что увеличит кон...      8       3   \n",
       "4  Изменить цвет фона главной страницы, чтобы уве...      3       1   \n",
       "5  Добавить страницу отзывов клиентов о магазине,...      3       2   \n",
       "6  Показать на главной странице баннеры с актуаль...      5       3   \n",
       "7  Добавить форму подписки на все основные страни...     10       7   \n",
       "8  Запустить акцию, дающую скидку на товар в день...      1       9   \n",
       "\n",
       "   confidence  efforts  \n",
       "0           8        6  \n",
       "1           4       10  \n",
       "2           7        3  \n",
       "3           3        8  \n",
       "4           1        1  \n",
       "5           2        3  \n",
       "6           8        3  \n",
       "7           8        5  \n",
       "8           9        5  "
      ]
     },
     "metadata": {},
     "output_type": "display_data"
    },
    {
     "data": {
      "text/plain": [
       "False"
      ]
     },
     "metadata": {},
     "output_type": "display_data"
    }
   ],
   "source": [
    "display(hypothesis, pd.options.display.max_colwidth == 200)"
   ]
  },
  {
   "cell_type": "markdown",
   "metadata": {},
   "source": [
    "Этап загрузки и ознакомления с данными исчерпан: у нас появилось понятное представление о данных и чёткая структура с которой мы продолжим работать."
   ]
  },
  {
   "cell_type": "markdown",
   "metadata": {},
   "source": [
    "### Приоритезация гипотез и составление градации гипотез по приоритету  ICE и RICE."
   ]
  },
  {
   "cell_type": "markdown",
   "metadata": {},
   "source": [
    "**Интерпритация и разъяснение этапа:**"
   ]
  },
  {
   "cell_type": "markdown",
   "metadata": {},
   "source": [
    "Гипотезы приоритизируют, чтобы сократить расходы на эксперименты и запускать тестирование только наиболее перспективных идей. Нужно понимать, что на этапе генерации идей не существует критерия \"плохая\" и \"хорошая\" идея, существует только цель достижения максимального количества более менее адекватных и в теории реализуемых идей, которые уже потом будут оценены(в нашем случае с помощью ICE и RICE, можно ещё допустим с помощью метода WSJF или Матрицы Эйзенхауэра).\n",
    "\n",
    "Проверка гипотез чаще всего стоит дорого, а ресурсов не хватает. Придётся выбрать, что будем тестировать, а чему скажем «нет». Чтобы максимизировать ожидаемое улучшение ключевых метрик бизнеса, сформулированные гипотезы приоритизируют."
   ]
  },
  {
   "cell_type": "markdown",
   "metadata": {},
   "source": [
    "**ICE и RICE\n",
    "ICE (от англ. impact, confidence, effort / ease «влияние, уверенность, усилия / простота») — один из самых популярных способов приоритизации задач:**\n",
    "\n",
    "Фреймворк RICE состоит из четырёх компонент:\n",
    "- Reach — скольких пользователей затронет изменение, которое вы хотите внести;\n",
    "- Impact — насколько сильно изменение повлияет на пользователей, их опыт и удовлетворение от продукта;\n",
    "- Confidence — насколько вы уверены, что это изменение повлияет на пользователей именно так; \n",
    "- Efforts — сколько стоит протестировать эту гипотезу. \n",
    "\n",
    "Проведём приоритезацию по 2-м этим методам (с формулами можно ознакомиться в коде):"
   ]
  },
  {
   "cell_type": "markdown",
   "metadata": {},
   "source": [
    "- Приоритезации по методу ICE:"
   ]
  },
  {
   "cell_type": "code",
   "execution_count": 7,
   "metadata": {},
   "outputs": [
    {
     "data": {
      "text/html": [
       "<style  type=\"text/css\" >\n",
       "#T_fc3e7_row0_col1{\n",
       "            background-color:  #b40426;\n",
       "            color:  #f1f1f1;\n",
       "        }#T_fc3e7_row1_col1{\n",
       "            background-color:  #ec7f63;\n",
       "            color:  #000000;\n",
       "        }#T_fc3e7_row2_col1{\n",
       "            background-color:  #f7b79b;\n",
       "            color:  #000000;\n",
       "        }#T_fc3e7_row3_col1{\n",
       "            background-color:  #d2dbe8;\n",
       "            color:  #000000;\n",
       "        }#T_fc3e7_row4_col1{\n",
       "            background-color:  #bfd3f6;\n",
       "            color:  #000000;\n",
       "        }#T_fc3e7_row5_col1{\n",
       "            background-color:  #4e68d8;\n",
       "            color:  #000000;\n",
       "        }#T_fc3e7_row6_col1{\n",
       "            background-color:  #4055c8;\n",
       "            color:  #f1f1f1;\n",
       "        }#T_fc3e7_row7_col1{\n",
       "            background-color:  #3d50c3;\n",
       "            color:  #f1f1f1;\n",
       "        }#T_fc3e7_row8_col1{\n",
       "            background-color:  #3b4cc0;\n",
       "            color:  #f1f1f1;\n",
       "        }</style><table id=\"T_fc3e7_\" ><thead>    <tr>        <th class=\"blank level0\" ></th>        <th class=\"col_heading level0 col0\" >hypothesis</th>        <th class=\"col_heading level0 col1\" >ICE</th>    </tr></thead><tbody>\n",
       "                <tr>\n",
       "                        <th id=\"T_fc3e7_level0_row0\" class=\"row_heading level0 row0\" >8</th>\n",
       "                        <td id=\"T_fc3e7_row0_col0\" class=\"data row0 col0\" >Запустить акцию, дающую скидку на товар в день рождения</td>\n",
       "                        <td id=\"T_fc3e7_row0_col1\" class=\"data row0 col1\" >16.200000</td>\n",
       "            </tr>\n",
       "            <tr>\n",
       "                        <th id=\"T_fc3e7_level0_row1\" class=\"row_heading level0 row1\" >0</th>\n",
       "                        <td id=\"T_fc3e7_row1_col0\" class=\"data row1 col0\" >Добавить два новых канала привлечения трафика, что позволит привлекать на 30% больше пользователей</td>\n",
       "                        <td id=\"T_fc3e7_row1_col1\" class=\"data row1 col1\" >13.333333</td>\n",
       "            </tr>\n",
       "            <tr>\n",
       "                        <th id=\"T_fc3e7_level0_row2\" class=\"row_heading level0 row2\" >7</th>\n",
       "                        <td id=\"T_fc3e7_row2_col0\" class=\"data row2 col0\" >Добавить форму подписки на все основные страницы, чтобы собрать базу клиентов для email-рассылок</td>\n",
       "                        <td id=\"T_fc3e7_row2_col1\" class=\"data row2 col1\" >11.200000</td>\n",
       "            </tr>\n",
       "            <tr>\n",
       "                        <th id=\"T_fc3e7_level0_row3\" class=\"row_heading level0 row3\" >6</th>\n",
       "                        <td id=\"T_fc3e7_row3_col0\" class=\"data row3 col0\" >Показать на главной странице баннеры с актуальными акциями и распродажами, чтобы увеличить конверсию</td>\n",
       "                        <td id=\"T_fc3e7_row3_col1\" class=\"data row3 col1\" >8.000000</td>\n",
       "            </tr>\n",
       "            <tr>\n",
       "                        <th id=\"T_fc3e7_level0_row4\" class=\"row_heading level0 row4\" >2</th>\n",
       "                        <td id=\"T_fc3e7_row4_col0\" class=\"data row4 col0\" >Добавить блоки рекомендаций товаров на сайт интернет магазина, чтобы повысить конверсию и средний чек заказа</td>\n",
       "                        <td id=\"T_fc3e7_row4_col1\" class=\"data row4 col1\" >7.000000</td>\n",
       "            </tr>\n",
       "            <tr>\n",
       "                        <th id=\"T_fc3e7_level0_row5\" class=\"row_heading level0 row5\" >1</th>\n",
       "                        <td id=\"T_fc3e7_row5_col0\" class=\"data row5 col0\" >Запустить собственную службу доставки, что сократит срок доставки заказов</td>\n",
       "                        <td id=\"T_fc3e7_row5_col1\" class=\"data row5 col1\" >2.000000</td>\n",
       "            </tr>\n",
       "            <tr>\n",
       "                        <th id=\"T_fc3e7_level0_row6\" class=\"row_heading level0 row6\" >5</th>\n",
       "                        <td id=\"T_fc3e7_row6_col0\" class=\"data row6 col0\" >Добавить страницу отзывов клиентов о магазине, что позволит увеличить количество заказов</td>\n",
       "                        <td id=\"T_fc3e7_row6_col1\" class=\"data row6 col1\" >1.333333</td>\n",
       "            </tr>\n",
       "            <tr>\n",
       "                        <th id=\"T_fc3e7_level0_row7\" class=\"row_heading level0 row7\" >3</th>\n",
       "                        <td id=\"T_fc3e7_row7_col0\" class=\"data row7 col0\" >Изменить структура категорий, что увеличит конверсию, т.к. пользователи быстрее найдут нужный товар</td>\n",
       "                        <td id=\"T_fc3e7_row7_col1\" class=\"data row7 col1\" >1.125000</td>\n",
       "            </tr>\n",
       "            <tr>\n",
       "                        <th id=\"T_fc3e7_level0_row8\" class=\"row_heading level0 row8\" >4</th>\n",
       "                        <td id=\"T_fc3e7_row8_col0\" class=\"data row8 col0\" >Изменить цвет фона главной страницы, чтобы увеличить вовлеченность пользователей</td>\n",
       "                        <td id=\"T_fc3e7_row8_col1\" class=\"data row8 col1\" >1.000000</td>\n",
       "            </tr>\n",
       "    </tbody></table>"
      ],
      "text/plain": [
       "<pandas.io.formats.style.Styler at 0x7f613f55ea60>"
      ]
     },
     "metadata": {},
     "output_type": "display_data"
    }
   ],
   "source": [
    "# Приоритезации по методу ICE\n",
    "hypothesis['ICE'] = hypothesis['impact'] * hypothesis['confidence'] / hypothesis['efforts']\n",
    "display(hypothesis[['hypothesis', 'ICE']].sort_values(by='ICE', ascending=False).style.background_gradient('coolwarm'))"
   ]
  },
  {
   "cell_type": "markdown",
   "metadata": {},
   "source": [
    "Добавим график приоритезации гипотез по ICE:"
   ]
  },
  {
   "cell_type": "code",
   "execution_count": 8,
   "metadata": {},
   "outputs": [
    {
     "data": {
      "image/png": "[encoded data removed]",
      "text/plain": [
       "<Figure size 432x288 with 1 Axes>"
      ]
     },
     "metadata": {
      "needs_background": "light"
     },
     "output_type": "display_data"
    }
   ],
   "source": [
    "# Построение перевёрнутой столбчатой диаграммы\n",
    "hypothesis.sort_values(by='ICE', ascending=True).set_index('hypothesis')['ICE'].plot(kind='barh', color='green')\n",
    "plt.xlabel('Результат по каждой гипотезе')\n",
    "plt.ylabel('Название гипотезы')\n",
    "plt.title('Очки ICE по гипотезам')\n",
    "plt.show()"
   ]
  },
  {
   "cell_type": "markdown",
   "metadata": {},
   "source": [
    "Теперь нам более наглядно представлена степень разлчия гипотез по методу приоритезации ICE. "
   ]
  },
  {
   "cell_type": "markdown",
   "metadata": {},
   "source": [
    "- Приоритезации по методу RICE:"
   ]
  },
  {
   "cell_type": "code",
   "execution_count": 9,
   "metadata": {},
   "outputs": [
    {
     "data": {
      "text/html": [
       "<style  type=\"text/css\" >\n",
       "#T_1d101_row0_col1{\n",
       "            background-color:  #b40426;\n",
       "            color:  #f1f1f1;\n",
       "        }#T_1d101_row1_col1{\n",
       "            background-color:  #d9dce1;\n",
       "            color:  #000000;\n",
       "        }#T_1d101_row2_col1,#T_1d101_row3_col1{\n",
       "            background-color:  #abc8fd;\n",
       "            color:  #000000;\n",
       "        }#T_1d101_row4_col1{\n",
       "            background-color:  #6180e9;\n",
       "            color:  #000000;\n",
       "        }#T_1d101_row5_col1{\n",
       "            background-color:  #4b64d5;\n",
       "            color:  #f1f1f1;\n",
       "        }#T_1d101_row6_col1,#T_1d101_row7_col1{\n",
       "            background-color:  #3d50c3;\n",
       "            color:  #f1f1f1;\n",
       "        }#T_1d101_row8_col1{\n",
       "            background-color:  #3b4cc0;\n",
       "            color:  #f1f1f1;\n",
       "        }</style><table id=\"T_1d101_\" ><thead>    <tr>        <th class=\"blank level0\" ></th>        <th class=\"col_heading level0 col0\" >hypothesis</th>        <th class=\"col_heading level0 col1\" >RICE</th>    </tr></thead><tbody>\n",
       "                <tr>\n",
       "                        <th id=\"T_1d101_level0_row0\" class=\"row_heading level0 row0\" >7</th>\n",
       "                        <td id=\"T_1d101_row0_col0\" class=\"data row0 col0\" >Добавить форму подписки на все основные страницы, чтобы собрать базу клиентов для email-рассылок</td>\n",
       "                        <td id=\"T_1d101_row0_col1\" class=\"data row0 col1\" >112.000000</td>\n",
       "            </tr>\n",
       "            <tr>\n",
       "                        <th id=\"T_1d101_level0_row1\" class=\"row_heading level0 row1\" >2</th>\n",
       "                        <td id=\"T_1d101_row1_col0\" class=\"data row1 col0\" >Добавить блоки рекомендаций товаров на сайт интернет магазина, чтобы повысить конверсию и средний чек заказа</td>\n",
       "                        <td id=\"T_1d101_row1_col1\" class=\"data row1 col1\" >56.000000</td>\n",
       "            </tr>\n",
       "            <tr>\n",
       "                        <th id=\"T_1d101_level0_row2\" class=\"row_heading level0 row2\" >0</th>\n",
       "                        <td id=\"T_1d101_row2_col0\" class=\"data row2 col0\" >Добавить два новых канала привлечения трафика, что позволит привлекать на 30% больше пользователей</td>\n",
       "                        <td id=\"T_1d101_row2_col1\" class=\"data row2 col1\" >40.000000</td>\n",
       "            </tr>\n",
       "            <tr>\n",
       "                        <th id=\"T_1d101_level0_row3\" class=\"row_heading level0 row3\" >6</th>\n",
       "                        <td id=\"T_1d101_row3_col0\" class=\"data row3 col0\" >Показать на главной странице баннеры с актуальными акциями и распродажами, чтобы увеличить конверсию</td>\n",
       "                        <td id=\"T_1d101_row3_col1\" class=\"data row3 col1\" >40.000000</td>\n",
       "            </tr>\n",
       "            <tr>\n",
       "                        <th id=\"T_1d101_level0_row4\" class=\"row_heading level0 row4\" >8</th>\n",
       "                        <td id=\"T_1d101_row4_col0\" class=\"data row4 col0\" >Запустить акцию, дающую скидку на товар в день рождения</td>\n",
       "                        <td id=\"T_1d101_row4_col1\" class=\"data row4 col1\" >16.200000</td>\n",
       "            </tr>\n",
       "            <tr>\n",
       "                        <th id=\"T_1d101_level0_row5\" class=\"row_heading level0 row5\" >3</th>\n",
       "                        <td id=\"T_1d101_row5_col0\" class=\"data row5 col0\" >Изменить структура категорий, что увеличит конверсию, т.к. пользователи быстрее найдут нужный товар</td>\n",
       "                        <td id=\"T_1d101_row5_col1\" class=\"data row5 col1\" >9.000000</td>\n",
       "            </tr>\n",
       "            <tr>\n",
       "                        <th id=\"T_1d101_level0_row6\" class=\"row_heading level0 row6\" >1</th>\n",
       "                        <td id=\"T_1d101_row6_col0\" class=\"data row6 col0\" >Запустить собственную службу доставки, что сократит срок доставки заказов</td>\n",
       "                        <td id=\"T_1d101_row6_col1\" class=\"data row6 col1\" >4.000000</td>\n",
       "            </tr>\n",
       "            <tr>\n",
       "                        <th id=\"T_1d101_level0_row7\" class=\"row_heading level0 row7\" >5</th>\n",
       "                        <td id=\"T_1d101_row7_col0\" class=\"data row7 col0\" >Добавить страницу отзывов клиентов о магазине, что позволит увеличить количество заказов</td>\n",
       "                        <td id=\"T_1d101_row7_col1\" class=\"data row7 col1\" >4.000000</td>\n",
       "            </tr>\n",
       "            <tr>\n",
       "                        <th id=\"T_1d101_level0_row8\" class=\"row_heading level0 row8\" >4</th>\n",
       "                        <td id=\"T_1d101_row8_col0\" class=\"data row8 col0\" >Изменить цвет фона главной страницы, чтобы увеличить вовлеченность пользователей</td>\n",
       "                        <td id=\"T_1d101_row8_col1\" class=\"data row8 col1\" >3.000000</td>\n",
       "            </tr>\n",
       "    </tbody></table>"
      ],
      "text/plain": [
       "<pandas.io.formats.style.Styler at 0x7f6137297f10>"
      ]
     },
     "metadata": {},
     "output_type": "display_data"
    }
   ],
   "source": [
    "# Приоритезации по методу RICE\n",
    "hypothesis['RICE'] = hypothesis['reach'] * hypothesis['impact'] * hypothesis['confidence'] / hypothesis['efforts']\n",
    "display(hypothesis[['hypothesis', 'RICE']].sort_values(by='RICE', ascending=False).style.background_gradient('coolwarm'))"
   ]
  },
  {
   "cell_type": "markdown",
   "metadata": {},
   "source": [
    "Добавим график приоритезации гипотез по RICE:"
   ]
  },
  {
   "cell_type": "code",
   "execution_count": 10,
   "metadata": {},
   "outputs": [
    {
     "data": {
      "image/png": "[encoded data removed]",
      "text/plain": [
       "<Figure size 432x288 with 1 Axes>"
      ]
     },
     "metadata": {
      "needs_background": "light"
     },
     "output_type": "display_data"
    }
   ],
   "source": [
    "# Построение перевёрнутой столбчатой диаграммы\n",
    "hypothesis.sort_values(by='RICE', ascending=True).set_index('hypothesis')['RICE'].plot(kind='barh', color='green')\n",
    "plt.xlabel('Результат по каждой гипотезе')\n",
    "plt.ylabel('Название гипотезы')\n",
    "plt.title('Очки RICE по гипотезам')\n",
    "plt.show()"
   ]
  },
  {
   "cell_type": "markdown",
   "metadata": {},
   "source": [
    "Имеем визульное представление метода приоритезации гипотез по RICE методу: из графика легко увидеть что допустим гипотеза с добавлением формы записи на все основные страницы лидирует и имеет результат по методу минимум в 2 раза выше, чем у остальных исследуемых гипотез."
   ]
  },
  {
   "cell_type": "markdown",
   "metadata": {},
   "source": [
    "Построим перевёрнутую столбчатую диаграмму с результатами двух методов приоритезации для полного и наглядного понимания ситуации:"
   ]
  },
  {
   "cell_type": "code",
   "execution_count": 11,
   "metadata": {},
   "outputs": [
    {
     "data": {
      "image/png": "[encoded data removed]",
      "text/plain": [
       "<Figure size 432x288 with 1 Axes>"
      ]
     },
     "metadata": {
      "needs_background": "light"
     },
     "output_type": "display_data"
    }
   ],
   "source": [
    "# Построение графика\n",
    "fig, ax = plt.subplots()\n",
    "hypothesis = hypothesis.sort_values(by='RICE').set_index('hypothesis')\n",
    "\n",
    "# Построение столбцов для RICE\n",
    "hypothesis['RICE'].plot(kind='barh', color='blue', ax=ax, position=1, legend=True, alpha=0.3)\n",
    "\n",
    "# Построение столбцов для ICE\n",
    "hypothesis['ICE'].plot(kind='barh', color='green', ax=ax, position=1, legend=True, alpha=0.3)\n",
    "\n",
    "# Настройка графика\n",
    "plt.xlabel('Результат по каждой гипотезе')\n",
    "plt.ylabel('Название гипотезы')\n",
    "plt.title('Очки ICE и RICE по гипотезам')\n",
    "plt.legend(['ICE', 'RICE'])\n",
    "plt.show()"
   ]
  },
  {
   "cell_type": "markdown",
   "metadata": {},
   "source": [
    "С помощью данного графика мы можем оценить пригодность гипотезы наглядно сразу по 2-м методам приоритезации и более эффективно выбрать гипотезы."
   ]
  },
  {
   "cell_type": "markdown",
   "metadata": {},
   "source": [
    "Приоритет для каждой из гипотез выявлен: у нас получились результаты приоритезации гипотез по 2-м методам: ICE и RICE.\n",
    "\n",
    "Результаты отличны друг от друга. Различия обусловлены тем, что метод RICE является форкой(ответвлением) метода ICE и их различия состоит в том, что RICE ко всему прочему учитывает ещё и охват пользователей. Таким образом, если нам важно ещё учесть охват пользователей, то стоит довериться приоритезации по RICE, хотя она и подразумевает большие временные затраты."
   ]
  },
  {
   "cell_type": "markdown",
   "metadata": {},
   "source": [
    "# Часть 2. Анализ A/B-теста"
   ]
  },
  {
   "cell_type": "markdown",
   "metadata": {},
   "source": [
    "***Описание данных***"
   ]
  },
  {
   "cell_type": "markdown",
   "metadata": {},
   "source": [
    "Файл /datasets/orders.csv:\n",
    "\n",
    "- transactionId — идентификатор заказа;\n",
    "- visitorId — идентификатор пользователя, совершившего заказ;\n",
    "- date — дата, когда был совершён заказ;\n",
    "- revenue — выручка заказа;\n",
    "- group — группа A/B-теста, в которую попал заказ.\n",
    "\n",
    "\n",
    "Файл /datasets/visitors.csv:\n",
    "- date — дата;\n",
    "- group — группа A/B-теста;\n",
    "- visitors — количество пользователей в указанную дату в указанной группе A/B-теста"
   ]
  },
  {
   "cell_type": "markdown",
   "metadata": {},
   "source": [
    "**Ход исследования:**\n",
    "\n",
    "Для начала работы получим данные из CSV-файлов. Ознакомимся с данными и при необходимости подкорректируем, затем проанализируем А/Б - тест. \n",
    "\n",
    "A/B-тест (2-ая часть проекта) пройдёт в 14 этапов, которые подразумевают следующие задачи:\n",
    "\n",
    "- Постройте график кумулятивной выручки по группам. Сделайте выводы и предположения.\n",
    "- Постройте график кумулятивного среднего чека по группам. Сделайте выводы и предположения.\n",
    "- Постройте график относительного изменения кумулятивного среднего чека группы B к группе A. Сделайте выводы и предположения.\n",
    "- Постройте график кумулятивного среднего количества заказов на посетителя по группам. Сделайте выводы и предположения.\n",
    "- Постройте график относительного изменения кумулятивного среднего количества заказов на посетителя группы B к группе A. Сделайте выводы и предположения.\n",
    "- Постройте точечный график количества заказов по пользователям. Сделайте выводы и предположения.\n",
    "- Посчитайте 95-й и 99-й перцентили количества заказов на пользователя. Выберите границу для определения аномальных пользователей.\n",
    "- Постройте точечный график стоимостей заказов. Сделайте выводы и предположения.\n",
    "- Посчитайте 95-й и 99-й перцентили стоимости заказов. Выберите границу для определения аномальных заказов.\n",
    "- Посчитайте статистическую значимость различий в среднем количестве заказов на посетителя между группами по «сырым» данным. Сделайте выводы и предположения.\n",
    "- Посчитайте статистическую значимость различий в среднем чеке заказа между группами по «сырым» данным. Сделайте выводы и предположения.\n",
    "- Посчитайте статистическую значимость различий в среднем количестве заказов на посетителя между группами по «очищенным» данным. Сделайте выводы и предположения.\n",
    "- Посчитайте статистическую значимость различий в среднем чеке заказа между группами по «очищенным» данным. Сделайте выводы и предположения.\n",
    "- Примите решение по результатам теста и объясните его. Варианты решений:\n",
    "1. Остановить тест, зафиксировать победу одной из групп.\n",
    "2. Остановить тест, зафиксировать отсутствие различий между группами.\n",
    "3. Продолжить тест."
   ]
  },
  {
   "cell_type": "markdown",
   "metadata": {},
   "source": [
    "## Загрузка и ознакомление с данными:"
   ]
  },
  {
   "cell_type": "code",
   "execution_count": 12,
   "metadata": {},
   "outputs": [],
   "source": [
    "try:\n",
    "    orders = pd.read_csv('/datasets/orders.csv', sep=',')\n",
    "except:\n",
    "    orders = pd.read_csv('https://code.s3.yandex.net/datasets/orders.csv')\n",
    "\n",
    "# P.S Можно не указывать необязательный параметр разделителя в CSV если sep=',' !"
   ]
  },
  {
   "cell_type": "code",
   "execution_count": 13,
   "metadata": {},
   "outputs": [],
   "source": [
    "try:\n",
    "    visitors = pd.read_csv('/datasets/visitors.csv', sep=',')\n",
    "except:\n",
    "    visitors = pd.read_csv('https://code.s3.yandex.net/datasets/visitors.csv')\n",
    "\n",
    "# P.S Можно не указывать необязательный параметр разделителя в CSV если sep=',' !"
   ]
  },
  {
   "cell_type": "markdown",
   "metadata": {},
   "source": [
    "Используем функцию которая покажет нам информацию о датафреймах для ознакомления:"
   ]
  },
  {
   "cell_type": "code",
   "execution_count": 14,
   "metadata": {},
   "outputs": [
    {
     "name": "stdout",
     "output_type": "stream",
     "text": [
      "\u001b[1mКоличество дубликатов в таблице orders:\u001b[0m 0\n",
      "transactionId : кол-во NaN 0 , процент NaN 0.0 %\n",
      "-------------------------\n",
      "visitorId : кол-во NaN 0 , процент NaN 0.0 %\n",
      "-------------------------\n",
      "date : кол-во NaN 0 , процент NaN 0.0 %\n",
      "-------------------------\n",
      "revenue : кол-во NaN 0 , процент NaN 0.0 %\n",
      "-------------------------\n",
      "group : кол-во NaN 0 , процент NaN 0.0 %\n",
      "-------------------------\n",
      "<class 'pandas.core.frame.DataFrame'>\n",
      "RangeIndex: 1197 entries, 0 to 1196\n",
      "Data columns (total 5 columns):\n",
      " #   Column         Non-Null Count  Dtype \n",
      "---  ------         --------------  ----- \n",
      " 0   transactionId  1197 non-null   int64 \n",
      " 1   visitorId      1197 non-null   int64 \n",
      " 2   date           1197 non-null   object\n",
      " 3   revenue        1197 non-null   int64 \n",
      " 4   group          1197 non-null   object\n",
      "dtypes: int64(3), object(2)\n",
      "memory usage: 46.9+ KB\n"
     ]
    },
    {
     "data": {
      "text/plain": [
       "None"
      ]
     },
     "metadata": {},
     "output_type": "display_data"
    },
    {
     "data": {
      "text/html": [
       "<div>\n",
       "<style scoped>\n",
       "    .dataframe tbody tr th:only-of-type {\n",
       "        vertical-align: middle;\n",
       "    }\n",
       "\n",
       "    .dataframe tbody tr th {\n",
       "        vertical-align: top;\n",
       "    }\n",
       "\n",
       "    .dataframe thead th {\n",
       "        text-align: right;\n",
       "    }\n",
       "</style>\n",
       "<table border=\"1\" class=\"dataframe\">\n",
       "  <thead>\n",
       "    <tr style=\"text-align: right;\">\n",
       "      <th></th>\n",
       "      <th>transactionId</th>\n",
       "      <th>visitorId</th>\n",
       "      <th>date</th>\n",
       "      <th>revenue</th>\n",
       "      <th>group</th>\n",
       "    </tr>\n",
       "  </thead>\n",
       "  <tbody>\n",
       "    <tr>\n",
       "      <th>0</th>\n",
       "      <td>3667963787</td>\n",
       "      <td>3312258926</td>\n",
       "      <td>2019-08-15</td>\n",
       "      <td>1650</td>\n",
       "      <td>B</td>\n",
       "    </tr>\n",
       "    <tr>\n",
       "      <th>1</th>\n",
       "      <td>2804400009</td>\n",
       "      <td>3642806036</td>\n",
       "      <td>2019-08-15</td>\n",
       "      <td>730</td>\n",
       "      <td>B</td>\n",
       "    </tr>\n",
       "    <tr>\n",
       "      <th>2</th>\n",
       "      <td>2961555356</td>\n",
       "      <td>4069496402</td>\n",
       "      <td>2019-08-15</td>\n",
       "      <td>400</td>\n",
       "      <td>A</td>\n",
       "    </tr>\n",
       "    <tr>\n",
       "      <th>3</th>\n",
       "      <td>3797467345</td>\n",
       "      <td>1196621759</td>\n",
       "      <td>2019-08-15</td>\n",
       "      <td>9759</td>\n",
       "      <td>B</td>\n",
       "    </tr>\n",
       "    <tr>\n",
       "      <th>4</th>\n",
       "      <td>2282983706</td>\n",
       "      <td>2322279887</td>\n",
       "      <td>2019-08-15</td>\n",
       "      <td>2308</td>\n",
       "      <td>B</td>\n",
       "    </tr>\n",
       "  </tbody>\n",
       "</table>\n",
       "</div>"
      ],
      "text/plain": [
       "   transactionId   visitorId        date  revenue group\n",
       "0     3667963787  3312258926  2019-08-15     1650     B\n",
       "1     2804400009  3642806036  2019-08-15      730     B\n",
       "2     2961555356  4069496402  2019-08-15      400     A\n",
       "3     3797467345  1196621759  2019-08-15     9759     B\n",
       "4     2282983706  2322279887  2019-08-15     2308     B"
      ]
     },
     "metadata": {},
     "output_type": "display_data"
    },
    {
     "name": "stdout",
     "output_type": "stream",
     "text": [
      "\n",
      "\u001b[1mКоличество дубликатов в таблице visitors:\u001b[0m 0\n",
      "date : кол-во NaN 0 , процент NaN 0.0 %\n",
      "-------------------------\n",
      "group : кол-во NaN 0 , процент NaN 0.0 %\n",
      "-------------------------\n",
      "visitors : кол-во NaN 0 , процент NaN 0.0 %\n",
      "-------------------------\n",
      "<class 'pandas.core.frame.DataFrame'>\n",
      "RangeIndex: 62 entries, 0 to 61\n",
      "Data columns (total 3 columns):\n",
      " #   Column    Non-Null Count  Dtype \n",
      "---  ------    --------------  ----- \n",
      " 0   date      62 non-null     object\n",
      " 1   group     62 non-null     object\n",
      " 2   visitors  62 non-null     int64 \n",
      "dtypes: int64(1), object(2)\n",
      "memory usage: 1.6+ KB\n"
     ]
    },
    {
     "data": {
      "text/plain": [
       "None"
      ]
     },
     "metadata": {},
     "output_type": "display_data"
    },
    {
     "data": {
      "text/html": [
       "<div>\n",
       "<style scoped>\n",
       "    .dataframe tbody tr th:only-of-type {\n",
       "        vertical-align: middle;\n",
       "    }\n",
       "\n",
       "    .dataframe tbody tr th {\n",
       "        vertical-align: top;\n",
       "    }\n",
       "\n",
       "    .dataframe thead th {\n",
       "        text-align: right;\n",
       "    }\n",
       "</style>\n",
       "<table border=\"1\" class=\"dataframe\">\n",
       "  <thead>\n",
       "    <tr style=\"text-align: right;\">\n",
       "      <th></th>\n",
       "      <th>date</th>\n",
       "      <th>group</th>\n",
       "      <th>visitors</th>\n",
       "    </tr>\n",
       "  </thead>\n",
       "  <tbody>\n",
       "    <tr>\n",
       "      <th>0</th>\n",
       "      <td>2019-08-01</td>\n",
       "      <td>A</td>\n",
       "      <td>719</td>\n",
       "    </tr>\n",
       "    <tr>\n",
       "      <th>1</th>\n",
       "      <td>2019-08-02</td>\n",
       "      <td>A</td>\n",
       "      <td>619</td>\n",
       "    </tr>\n",
       "    <tr>\n",
       "      <th>2</th>\n",
       "      <td>2019-08-03</td>\n",
       "      <td>A</td>\n",
       "      <td>507</td>\n",
       "    </tr>\n",
       "    <tr>\n",
       "      <th>3</th>\n",
       "      <td>2019-08-04</td>\n",
       "      <td>A</td>\n",
       "      <td>717</td>\n",
       "    </tr>\n",
       "    <tr>\n",
       "      <th>4</th>\n",
       "      <td>2019-08-05</td>\n",
       "      <td>A</td>\n",
       "      <td>756</td>\n",
       "    </tr>\n",
       "  </tbody>\n",
       "</table>\n",
       "</div>"
      ],
      "text/plain": [
       "         date group  visitors\n",
       "0  2019-08-01     A       719\n",
       "1  2019-08-02     A       619\n",
       "2  2019-08-03     A       507\n",
       "3  2019-08-04     A       717\n",
       "4  2019-08-05     A       756"
      ]
     },
     "metadata": {},
     "output_type": "display_data"
    },
    {
     "name": "stdout",
     "output_type": "stream",
     "text": [
      "\n"
     ]
    }
   ],
   "source": [
    "def duplicated_sum(dataframes, names):\n",
    "    for frame, name in zip(dataframes, names):\n",
    "        duplicated_count = frame.duplicated().sum()\n",
    "        print(f'\\033[1m' + 'Количество дубликатов в таблице ' + name + ':' + '\\033[0m', duplicated_count)\n",
    "        temp = frame.copy()\n",
    "        list_c = list(temp.columns)\n",
    "        for col_l in list_c:\n",
    "            print(col_l,': кол-во NaN',temp[col_l].isna().sum(),\n",
    "                  ', процент NaN', round(temp[col_l].isna().mean()*100,2),'%')\n",
    "            print('-'* 25)\n",
    "        display(frame.info())\n",
    "        display(frame.head(5))\n",
    "        print()\n",
    "duplicated_sum([orders, visitors], ['orders', 'visitors'])"
   ]
  },
  {
   "cell_type": "markdown",
   "metadata": {},
   "source": [
    "У нас есть 2 датафрейма: 'orders' и  'visitors'. Пропуски в данных датафреймах отсутствуют, типы данных корректны, требование собледения единого стиля выполнено, объёмы строк не велики, вероятно что данные подготовлены к работе. На всякий случай проверим наличие явных дубликатов и обозначим временной диапозон. "
   ]
  },
  {
   "cell_type": "code",
   "execution_count": 15,
   "metadata": {},
   "outputs": [],
   "source": [
    "visitors = visitors.drop_duplicates()\n",
    "orders = orders.drop_duplicates()"
   ]
  },
  {
   "cell_type": "code",
   "execution_count": 16,
   "metadata": {},
   "outputs": [
    {
     "name": "stdout",
     "output_type": "stream",
     "text": [
      "1197 - объём датафрейма \"orders\" после попытки удалить явные дубликаты\n",
      "62 - объём датафрейма \"visitors\" после попытки удалить явные дубликаты\n"
     ]
    }
   ],
   "source": [
    "print(f'{len(orders)} - объём датафрейма \"orders\" после попытки удалить явные дубликаты')\n",
    "print(f'{len(visitors)} - объём датафрейма \"visitors\" после попытки удалить явные дубликаты')"
   ]
  },
  {
   "cell_type": "markdown",
   "metadata": {},
   "source": [
    "Явных дубликатов также нет, необходимость в проверке на наличие не явных дубликатов отсутствует."
   ]
  },
  {
   "cell_type": "markdown",
   "metadata": {},
   "source": [
    "Узнаем временной диапозон проведения А/Б теста:"
   ]
  },
  {
   "cell_type": "code",
   "execution_count": 17,
   "metadata": {},
   "outputs": [],
   "source": [
    "def date_range(col):\n",
    "    print(f'Временной диапозон исследуемого датафрейма: {col.min()} - {col.max()}')"
   ]
  },
  {
   "cell_type": "code",
   "execution_count": 18,
   "metadata": {},
   "outputs": [
    {
     "name": "stdout",
     "output_type": "stream",
     "text": [
      "Временной диапозон исследуемого датафрейма: 2019-08-01 - 2019-08-31\n"
     ]
    }
   ],
   "source": [
    "date_range(visitors['date'])"
   ]
  },
  {
   "cell_type": "markdown",
   "metadata": {},
   "source": [
    "Проверим корректность разбиения пользователей на группы - может быть есть пользователи, попавшие в обе группы?"
   ]
  },
  {
   "cell_type": "code",
   "execution_count": 19,
   "metadata": {},
   "outputs": [
    {
     "name": "stdout",
     "output_type": "stream",
     "text": [
      "58 - число проблемных пользователей, которые попали сразу в 2 группы исследования\n"
     ]
    }
   ],
   "source": [
    "# Сгруппипуем данные по пользователям и найдём количество уникальных значений в атрибубе 'group'\n",
    "\n",
    "# Группировка данных по пользователям и подсчет уникальных значений в 'group'\n",
    "unique_groups = orders.groupby('visitorId')['group'].agg('nunique')\n",
    "\n",
    "# Фильтрация записей, где количество уникальных значений больше одного\n",
    "problem_visitors = unique_groups.loc[unique_groups > 1]\n",
    "\n",
    "print(f'{len(problem_visitors)} - число проблемных пользователей, которые попали сразу в 2 группы исследования')"
   ]
  },
  {
   "cell_type": "markdown",
   "metadata": {},
   "source": [
    "У нас появилась проблема: есть 58 пользователей которые попали сразу в обе группы. Какие есть пути решения данной проблемы:\n",
    "- удалить проблемных пользователей из исследования\n",
    "- установим первоначальное определение в группу проблемного пользователя для последующих покупок"
   ]
  },
  {
   "cell_type": "markdown",
   "metadata": {},
   "source": [
    "Уберём проблемных пользователей из исследования:"
   ]
  },
  {
   "cell_type": "code",
   "execution_count": 20,
   "metadata": {},
   "outputs": [
    {
     "name": "stdout",
     "output_type": "stream",
     "text": [
      "      transactionId   visitorId        date  revenue group\n",
      "0        3667963787  3312258926  2019-08-15     1650     B\n",
      "1        2804400009  3642806036  2019-08-15      730     B\n",
      "3        3797467345  1196621759  2019-08-15     9759     B\n",
      "4        2282983706  2322279887  2019-08-15     2308     B\n",
      "5         182168103   935554773  2019-08-15     2210     B\n",
      "...             ...         ...         ...      ...   ...\n",
      "1191     3592955527   608641596  2019-08-14    16490     B\n",
      "1192     2662137336  3733762160  2019-08-14     6490     B\n",
      "1193     2203539145   370388673  2019-08-14     3190     A\n",
      "1194     1807773912   573423106  2019-08-14    10550     A\n",
      "1196     3936777065  2108080724  2019-08-15   202740     B\n",
      "\n",
      "[1016 rows x 5 columns]\n"
     ]
    }
   ],
   "source": [
    "orders = orders.loc[~orders['visitorId'].isin(problem_visitors.index)]\n",
    "print(orders)"
   ]
  },
  {
   "cell_type": "markdown",
   "metadata": {},
   "source": [
    "Результируем: данные полностью готовы для дальнейшей работы, датафрейм 'visitors' хранит данные о объёме посещений по датам и группам исследования, датафрейм 'orders' хранит данные о объёме продаж также по датам и группам, время проведения А/Б теста - 1 месяц(август 2019 года), решение проблемы с пользователями которые попали сразу в 2 группы найдено и реализовано."
   ]
  },
  {
   "cell_type": "markdown",
   "metadata": {},
   "source": [
    "## Приступим к анализу А/Б теста(включает в себя 14 этапов):"
   ]
  },
  {
   "cell_type": "markdown",
   "metadata": {},
   "source": [
    "**1) Постройте график кумулятивной выручки по группам. Сделайте выводы и предположения.**"
   ]
  },
  {
   "cell_type": "code",
   "execution_count": 21,
   "metadata": {},
   "outputs": [
    {
     "name": "stdout",
     "output_type": "stream",
     "text": [
      "         date group  orders  buyers  revenue  visitors\n",
      "0  2019-08-01     A      19      23   142779       719\n",
      "1  2019-08-01     B      17      17    59758       713\n",
      "2  2019-08-02     A      36      42   234381      1338\n",
      "3  2019-08-02     B      39      40   221801      1294\n",
      "4  2019-08-03     A      60      66   346854      1845\n"
     ]
    }
   ],
   "source": [
    "# 1. Создадим датафрейм datesGroups с уникальными парами значений 'date' и 'group', таблицы orders. Избавимся от дубликатов методом drop_duplicates().\n",
    "datesGroups = orders[['date', 'group']].drop_duplicates().sort_values(by='date')\n",
    "\n",
    "# 2. Объявите переменную ordersAggregated с агрегированными данными\n",
    "ordersAggregated = datesGroups.apply(\n",
    "    lambda x: orders[np.logical_and(orders['date'] <= x['date'], orders['group'] == x['group'])].agg({\n",
    "'date' : 'max',\n",
    "'group' : 'max',\n",
    "'visitorId' : pd.Series.nunique,\n",
    "'transactionId' : pd.Series.nunique,\n",
    "'revenue' : 'sum'}), axis=1).sort_values(by=['date','group'])\n",
    "\n",
    "# 3. Объявляем переменную visitorsAggregated, подсчитывая количество уникальных посетителей кумулятивно\n",
    "visitorsAggregated = datesGroups.apply(\n",
    "    lambda x: visitors[(visitors['date'] <= x['date']) & (visitors['group'] == x['group'])].agg({\n",
    "        'date': 'max',\n",
    "        'group': 'max',\n",
    "        'visitors': 'sum'\n",
    "    }), axis=1).sort_values(by=['date', 'group']).sort_values(by=['date','group'])\n",
    "\n",
    "# 5. Объединяем агрегированные данные\n",
    "cumulativeData = ordersAggregated.merge(visitorsAggregated, left_on=['date', 'group'], right_on=['date', 'group'])\n",
    "\n",
    "# 6. Переименовываем столбцы\n",
    "cumulativeData.columns = ['date', 'group', 'orders', 'buyers', 'revenue', 'visitors']\n",
    "\n",
    "# 7. Выводим первые 5 строк\n",
    "print(cumulativeData.head(5))"
   ]
  },
  {
   "cell_type": "code",
   "execution_count": 22,
   "metadata": {},
   "outputs": [],
   "source": [
    "cumulativeData['date'] = pd.to_datetime(cumulativeData['date'])"
   ]
  },
  {
   "cell_type": "code",
   "execution_count": 23,
   "metadata": {},
   "outputs": [
    {
     "data": {
      "image/png": "[encoded data removed]",
      "text/plain": [
       "<Figure size 720x432 with 1 Axes>"
      ]
     },
     "metadata": {
      "needs_background": "light"
     },
     "output_type": "display_data"
    }
   ],
   "source": [
    "plt.figure(figsize=(10, 6))\n",
    "# датафрейм с кумулятивным количеством заказов и кумулятивной выручкой по дням в группе А\n",
    "cumulativeRevenueA = cumulativeData[cumulativeData['group']=='A'][['date','revenue', 'orders']]\n",
    "\n",
    "# датафрейм с кумулятивным количеством заказов и кумулятивной выручкой по дням в группе B\n",
    "cumulativeRevenueB = cumulativeData[cumulativeData['group']=='B'][['date','revenue', 'orders']]\n",
    "\n",
    "# Строим график выручки группы А\n",
    "plt.plot(cumulativeRevenueA['date'], cumulativeRevenueA['revenue'], label='A')\n",
    "\n",
    "# Строим график выручки группы B\n",
    "plt.plot(cumulativeRevenueB['date'], cumulativeRevenueB['revenue'], label='B')\n",
    "\n",
    "# Извлекаем дни из столбца 'date'\n",
    "days = cumulativeRevenueA['date'].dt.strftime('%d').astype(int)\n",
    "\n",
    "# Устанавливаем метки для оси X\n",
    "plt.xticks(cumulativeRevenueA['date'], days)\n",
    "\n",
    "plt.title('Кумулятивная выручка по группам')\n",
    "plt.xlabel('День месяца')\n",
    "plt.ylabel('Кумулятивная выручка')\n",
    "plt.legend() \n",
    "plt.show()"
   ]
  },
  {
   "cell_type": "markdown",
   "metadata": {},
   "source": [
    "  Можно заметить на графике, что кумулятивная выручка по группам накапливалась схожими темпами и даже на 13-ое августа сравнялась между группами, т.е. примерно половину времени от всего А/Б теста исследование шло адекватными темпами, ведь предварительно группы старались сформировать максимально схожими (с помощью А/А теста) и соответсвенно поведение этих групп от изменения или внедрения какой-то всего одной фичи координально сильно поменяться было не должно, что заставляет нас насторожиться.\n",
    "  \n",
    "  Явная проблема появилась после 18-го авгуса: прослеживается уж очень сильная дифференциация в накопительной выручке после этой даты в сторону группы Б, что заставляет задуматься: очень маловероятно что нововведение так сильно подымает выручку. \n",
    "  \n",
    "  Соответсвенно, что с большой вероятностью появились факторы искажающие результаты наблюдений: они могут быть различны, но в нашем случае первоочерёдно следует устранить аномально большие покупки и после данного действия снова взглянуть на дианмику накопительной выручки групп (эта одна из наиболее вероятных проблем), если проблема не исчезнет, то необходимо дальше осуществить попытку поиска искажающего фактора."
   ]
  },
  {
   "cell_type": "markdown",
   "metadata": {},
   "source": [
    "**2) Постройте график кумулятивного среднего чека по группам. Сделайте выводы и предположения:**"
   ]
  },
  {
   "cell_type": "code",
   "execution_count": 24,
   "metadata": {},
   "outputs": [
    {
     "data": {
      "image/png": "[encoded data removed]",
      "text/plain": [
       "<Figure size 720x432 with 1 Axes>"
      ]
     },
     "metadata": {
      "needs_background": "light"
     },
     "output_type": "display_data"
    }
   ],
   "source": [
    "plt.figure(figsize=(10, 6))\n",
    "plt.plot(cumulativeRevenueA['date'], cumulativeRevenueA['revenue']/cumulativeRevenueA['orders'], label='A')\n",
    "plt.plot(cumulativeRevenueB['date'], cumulativeRevenueB['revenue']/cumulativeRevenueB['orders'], label='B')\n",
    "# Устанавливаем метки для оси X\n",
    "plt.xticks(cumulativeRevenueA['date'], days)\n",
    "plt.title('Средний чек по группам')\n",
    "plt.xlabel('День месяца')\n",
    "plt.ylabel('Значение среднего чека')\n",
    "plt.legend()\n",
    "plt.show()"
   ]
  },
  {
   "cell_type": "markdown",
   "metadata": {},
   "source": [
    "На графике видим, что значения среднего чека групп на протяжении всего исследования колеблются, но  после 18-го августа средний чек группы Б невероятно сильно вырос, снова видим проблему от 18-го числа: темпы роста кумулятивной выручки после 19-го числа в обоих группах оказываются примерно одинаковыми и динамика среднего чека после 19-го тоже приходит в адекватное состояние: вероятно аномально большие покупки в группе Б были совершены в 18-19-х числах августа.  "
   ]
  },
  {
   "cell_type": "markdown",
   "metadata": {},
   "source": [
    "**3)Постройте график относительного изменения кумулятивного среднего чека группы B к группе A. Сделайте выводы и предположения.**"
   ]
  },
  {
   "cell_type": "code",
   "execution_count": 25,
   "metadata": {},
   "outputs": [
    {
     "data": {
      "image/png": "[encoded data removed]",
      "text/plain": [
       "<Figure size 720x432 with 1 Axes>"
      ]
     },
     "metadata": {
      "needs_background": "light"
     },
     "output_type": "display_data"
    }
   ],
   "source": [
    "# собираем данные в одном датафрейме\n",
    "mergedCumulativeRevenue = cumulativeRevenueA.merge(cumulativeRevenueB, left_on='date', right_on='date', how='left', suffixes=['A', 'B'])\n",
    "\n",
    "plt.figure(figsize=(10, 6))\n",
    "# cтроим отношение средних чеков\n",
    "plt.plot(mergedCumulativeRevenue['date'], (mergedCumulativeRevenue['revenueB']/mergedCumulativeRevenue['ordersB'])/(mergedCumulativeRevenue['revenueA']/mergedCumulativeRevenue['ordersA'])-1)\n",
    "\n",
    "# добавляем ось X\n",
    "plt.axhline(y=0, color='black', linestyle='--')\n",
    "\n",
    "plt.xticks(cumulativeRevenueA['date'], days)\n",
    "plt.title('График относительного изменения кумулятивного среднего чека группы B к группе A')\n",
    "plt.xlabel('День месяца')\n",
    "plt.ylabel('Отношение')\n",
    "\n",
    "plt.show()"
   ]
  },
  {
   "cell_type": "markdown",
   "metadata": {},
   "source": [
    "Результаты теста значительно и резко менялись в несколько дат. Видимо, именно тогда были совершены аномальные заказы."
   ]
  },
  {
   "cell_type": "markdown",
   "metadata": {},
   "source": [
    "**4) Постройте график кумулятивного среднего количества заказов на посетителя по группам. Сделайте выводы и предположения.**"
   ]
  },
  {
   "cell_type": "code",
   "execution_count": 26,
   "metadata": {},
   "outputs": [
    {
     "data": {
      "image/png": "[encoded data removed]",
      "text/plain": [
       "<Figure size 720x432 with 1 Axes>"
      ]
     },
     "metadata": {
      "needs_background": "light"
     },
     "output_type": "display_data"
    }
   ],
   "source": [
    "\n",
    "# считаем среднее количество заказов на посетителя\n",
    "cumulativeData['conversion'] = cumulativeData['orders']/cumulativeData['visitors']\n",
    "\n",
    "# отделяем данные по группе A\n",
    "cumulativeDataA = cumulativeData[cumulativeData['group']=='A']\n",
    "\n",
    "# отделяем данные по группе B\n",
    "cumulativeDataB = cumulativeData[cumulativeData['group']=='B']\n",
    "\n",
    "# строим графики\n",
    "plt.figure(figsize=(10, 6))\n",
    "plt.plot(cumulativeDataA['date'], cumulativeDataA['conversion'], label='A')\n",
    "plt.plot(cumulativeDataB['date'], cumulativeDataB['conversion'], label='B')\n",
    "plt.legend()\n",
    "plt.xticks(cumulativeRevenueA['date'], days)\n",
    "plt.title('График кумулятивного среднего количества заказов на посетителя по группам')\n",
    "plt.xlabel('День месяца')\n",
    "plt.ylabel('Значение среднего количества заказов')\n",
    "plt.axis([dt.datetime(2019, 8, 1), dt.datetime(2019, 8, 31), 0, 0.05])\n",
    "plt.show()"
   ]
  },
  {
   "cell_type": "markdown",
   "metadata": {},
   "source": [
    "Изначально кумулятивное среднее количество заказов на посетителя в группах приблизительно схоже, после 6-го числа можно заметить что группа Б начала перегонять группу А по данному показателю и под конец месяца зафиксировало постоянство превосходтсва."
   ]
  },
  {
   "cell_type": "markdown",
   "metadata": {},
   "source": [
    "**5) Постройте график относительного изменения кумулятивного среднего количества заказов на посетителя группы B к группе A. Сделайте выводы и предположения.**"
   ]
  },
  {
   "cell_type": "code",
   "execution_count": 27,
   "metadata": {},
   "outputs": [
    {
     "data": {
      "image/png": "[encoded data removed]",
      "text/plain": [
       "<Figure size 720x432 with 1 Axes>"
      ]
     },
     "metadata": {
      "needs_background": "light"
     },
     "output_type": "display_data"
    }
   ],
   "source": [
    "# Объединение данных\n",
    "mergedCumulativeConversions = cumulativeDataA[['date','conversion']].merge(\n",
    "    cumulativeDataB[['date','conversion']], \n",
    "    left_on='date', \n",
    "    right_on='date', \n",
    "    how='left', \n",
    "    suffixes=['A', 'B']\n",
    ")\n",
    "\n",
    "# Преобразование дат\n",
    "mergedCumulativeConversions['date'] = pd.to_datetime(mergedCumulativeConversions['date'])\n",
    "\n",
    "# Построение графика\n",
    "plt.figure(figsize=(10, 6))\n",
    "\n",
    "plt.plot(mergedCumulativeConversions['date'], \n",
    "         mergedCumulativeConversions['conversionB'] / mergedCumulativeConversions['conversionA'] - 1, \n",
    "         label=\"Относительный прирост кумулятивного среднего количества заказов на посетителя\")\n",
    "plt.legend()\n",
    "\n",
    "# Добавление горизонтальных линий\n",
    "plt.axhline(y=0, color='black', linestyle='--')\n",
    "plt.axhline(y=0.2, color='grey', linestyle='--')\n",
    "\n",
    "# Обновление осей\n",
    "plt.gca().set_xlim(pd.Timestamp('2019-08-01'), pd.Timestamp('2019-08-31'))\n",
    "plt.gca().set_ylim(-0.5, 0.5)\n",
    "\n",
    "# Отображение графика\n",
    "\n",
    "plt.title('График относительного изменения кумулятивного среднего количества заказов на посетителя группы B к группе A')\n",
    "plt.ylabel('Отношение')\n",
    "plt.xlabel('День месяца')\n",
    "plt.xticks(cumulativeRevenueA['date'], days)\n",
    "plt.show()"
   ]
  },
  {
   "cell_type": "markdown",
   "metadata": {},
   "source": [
    "Мы построили график относительного различия метрики между группами.\n",
    "Почти с самого начала теста группа B лидирует по метрике: становится лучше и лучше, либо зафиксировалась около прироста в 20 - 25% относительно группы A."
   ]
  },
  {
   "cell_type": "markdown",
   "metadata": {},
   "source": [
    "**6) Постройте точечный график количества заказов по пользователям. Сделайте выводы и предположения.**"
   ]
  },
  {
   "cell_type": "code",
   "execution_count": 28,
   "metadata": {},
   "outputs": [
    {
     "name": "stdout",
     "output_type": "stream",
     "text": [
      "         userId  orders\n",
      "908  3967698036       3\n",
      "55    249864742       3\n",
      "478  2108163459       3\n",
      "687  2988190573       3\n",
      "890  3908431265       3\n",
      "138   611059232       3\n",
      "632  2742574263       3\n",
      "157   678354126       2\n",
      "323  1404560065       2\n",
      "452  1985475298       2\n"
     ]
    },
    {
     "data": {
      "image/png": "[encoded data removed]",
      "text/plain": [
       "<Figure size 720x432 with 1 Axes>"
      ]
     },
     "metadata": {
      "needs_background": "light"
     },
     "output_type": "display_data"
    }
   ],
   "source": [
    "ordersByUsers = (\n",
    "    orders.groupby('visitorId', as_index=False)\n",
    "    .agg({'transactionId': 'nunique'})\n",
    ")\n",
    "ordersByUsers.columns = ['userId', 'orders']\n",
    "\n",
    "print(ordersByUsers.sort_values(by='orders', ascending=False).head(10))\n",
    "\n",
    "x_values = pd.Series(range(0,len(ordersByUsers)))\n",
    "\n",
    "plt.figure(figsize=(10, 6))\n",
    "\n",
    "plt.scatter(x_values, ordersByUsers['orders'])\n",
    "x_values = pd.Series(range(0, len(ordersByUsers)))\n",
    "\n",
    "plt.title('Диаграмма рассеяния покупок')\n",
    "plt.ylabel('Количество покупок')\n",
    "plt.xlabel('Покупатель №')\n",
    "\n",
    "plt.show()"
   ]
  },
  {
   "cell_type": "markdown",
   "metadata": {},
   "source": [
    "Пользователей, заказавших более двух раз, совсем мало. Они вполне могут быть аномальными. \n",
    "2 заказа — нормально или много? Ответим на этот вопрос, посчитав выборочные перцентили."
   ]
  },
  {
   "cell_type": "markdown",
   "metadata": {},
   "source": [
    "**7) Посчитайте 95-й и 99-й перцентили количества заказов на пользователя. Выберите границу для определения аномальных пользователей.**"
   ]
  },
  {
   "cell_type": "code",
   "execution_count": 29,
   "metadata": {},
   "outputs": [
    {
     "name": "stdout",
     "output_type": "stream",
     "text": [
      "         userId  orders\n",
      "908  3967698036       3\n",
      "55    249864742       3\n",
      "478  2108163459       3\n",
      "687  2988190573       3\n",
      "890  3908431265       3\n",
      "138   611059232       3\n",
      "632  2742574263       3\n",
      "157   678354126       2\n",
      "323  1404560065       2\n",
      "452  1985475298       2\n",
      "[1. 2.]\n"
     ]
    }
   ],
   "source": [
    "print(ordersByUsers.sort_values(by='orders', ascending=False).head(10))\n",
    "\n",
    "print(np.percentile(ordersByUsers['orders'], [95, 99])) "
   ]
  },
  {
   "cell_type": "markdown",
   "metadata": {},
   "source": [
    "Не более 1% пользователей совершали больше двух заказов. За выбросы будем считать клиентов которые совершили больше 2 и более покупок, исключим наиболее радикальные значения количества покупок на пользователя: наиболее оптимальный путь разрешения.  "
   ]
  },
  {
   "cell_type": "markdown",
   "metadata": {},
   "source": [
    "**8) Постройте точечный график стоимостей заказов. Сделайте выводы и предположения.**"
   ]
  },
  {
   "cell_type": "code",
   "execution_count": 30,
   "metadata": {},
   "outputs": [
    {
     "data": {
      "image/png": "[encoded data removed]",
      "text/plain": [
       "<Figure size 576x432 with 1 Axes>"
      ]
     },
     "metadata": {
      "needs_background": "light"
     },
     "output_type": "display_data"
    }
   ],
   "source": [
    "x_values = pd.Series(range(0, len(orders['revenue'])))\n",
    "plt.figure(figsize=(8, 6))\n",
    "plt.scatter(x_values, orders['revenue'])\n",
    "\n",
    "plt.title('Диаграмма рассеяния стоимостей заказов')\n",
    "plt.ylabel('Стоимость')\n",
    "plt.xlabel('Покупатель №')\n",
    "\n",
    "plt.show()"
   ]
  },
  {
   "cell_type": "markdown",
   "metadata": {},
   "source": [
    "Заказов стоимостью более 170.000 практически нет(есть только 2 аномально дорогих заказов). Аномальными случаями являются покупки стоимостью  1294500 руб. и 202740 руб., они однозначно входят в 1% наиболее дорогостоящих, их стоит исключить их исследования, лучше подстраховаться и поискать ещё возможные выбросы с помощью перцентилей."
   ]
  },
  {
   "cell_type": "markdown",
   "metadata": {},
   "source": [
    "**9) Посчитайте 95-й и 99-й перцентили стоимости заказов. Выберите границу для определения аномальных заказов.**"
   ]
  },
  {
   "cell_type": "code",
   "execution_count": 31,
   "metadata": {},
   "outputs": [
    {
     "name": "stdout",
     "output_type": "stream",
     "text": [
      "[26785. 53904.]\n"
     ]
    }
   ],
   "source": [
    "print(np.percentile(orders['revenue'], [95, 99]))"
   ]
  },
  {
   "cell_type": "markdown",
   "metadata": {},
   "source": [
    "Теряем 5% данных и исключаем заказы которые дороже 26785 рублей: не более 5% клиентов совершали заказ на сумму больше 26785 рублей, не больше 1% клиентов совершали заказы на сумму более 53904 рублей."
   ]
  },
  {
   "cell_type": "markdown",
   "metadata": {},
   "source": [
    "**10) Посчитайте статистическую значимость различий в среднем количестве заказов на посетителя между группами по «сырым» данным. Сделайте выводы и предположения.**"
   ]
  },
  {
   "cell_type": "markdown",
   "metadata": {},
   "source": [
    "Сформулируем гипотезы:\n",
    "- H0: различий в среднем количестве заказов на посетителя между группами по «сырым» данным отсутствуют\n",
    "- H1: различий в среднем количестве заказов на посетителя между группами по «сырым» данным присутствуют"
   ]
  },
  {
   "cell_type": "code",
   "execution_count": 32,
   "metadata": {},
   "outputs": [
    {
     "name": "stdout",
     "output_type": "stream",
     "text": [
      "p-value: 0.01102\n",
      "0.160\n"
     ]
    }
   ],
   "source": [
    "orders.columns = ['orderId', 'userId', 'date', 'revenue', 'group']\n",
    "visitorsADaily = visitors[visitors['group'] == 'A'][['date', 'visitors']]\n",
    "visitorsADaily.columns = ['date', 'visitorsPerDateA']\n",
    "\n",
    "visitorsACummulative = visitorsADaily.apply(\n",
    "    lambda x: visitorsADaily[visitorsADaily['date'] <= x['date']].agg(\n",
    "        {'date': 'max', 'visitorsPerDateA': 'sum'}\n",
    "    ),\n",
    "    axis=1,\n",
    ")\n",
    "visitorsACummulative.columns = ['date', 'visitorsCummulativeA']\n",
    "\n",
    "visitorsBDaily = visitors[visitors['group'] == 'B'][['date', 'visitors']]\n",
    "visitorsBDaily.columns = ['date', 'visitorsPerDateB']\n",
    "\n",
    "visitorsBCummulative = visitorsBDaily.apply(\n",
    "    lambda x: visitorsBDaily[visitorsBDaily['date'] <= x['date']].agg(\n",
    "        {'date': 'max', 'visitorsPerDateB': 'sum'}\n",
    "    ),\n",
    "    axis=1,\n",
    ")\n",
    "visitorsBCummulative.columns = ['date', 'visitorsCummulativeB']\n",
    "\n",
    "ordersADaily = (\n",
    "    orders[orders['group'] == 'A'][['date', 'orderId', 'userId', 'revenue']]\n",
    "    .groupby('date', as_index=False)\n",
    "    .agg({'orderId': pd.Series.nunique, 'revenue': 'sum'})\n",
    ")\n",
    "ordersADaily.columns = ['date', 'ordersPerDateA', 'revenuePerDateA']\n",
    "\n",
    "ordersACummulative = ordersADaily.apply(\n",
    "    lambda x: ordersADaily[ordersADaily['date'] <= x['date']].agg(\n",
    "        {'date': 'max', 'ordersPerDateA': 'sum', 'revenuePerDateA': 'sum'}\n",
    "    ),\n",
    "    axis=1,\n",
    ").sort_values(by=['date'])\n",
    "ordersACummulative.columns = [\n",
    "    'date',\n",
    "    'ordersCummulativeA',\n",
    "    'revenueCummulativeA',\n",
    "]\n",
    "\n",
    "ordersBDaily = (\n",
    "    orders[orders['group'] == 'B'][['date', 'orderId', 'userId', 'revenue']]\n",
    "    .groupby('date', as_index=False)\n",
    "    .agg({'orderId': pd.Series.nunique, 'revenue': 'sum'})\n",
    ")\n",
    "ordersBDaily.columns = ['date', 'ordersPerDateB', 'revenuePerDateB']\n",
    "\n",
    "ordersBCummulative = ordersBDaily.apply(\n",
    "    lambda x: ordersBDaily[ordersBDaily['date'] <= x['date']].agg(\n",
    "        {'date': 'max', 'ordersPerDateB': 'sum', 'revenuePerDateB': 'sum'}\n",
    "    ),\n",
    "    axis=1,\n",
    ").sort_values(by=['date'])\n",
    "ordersBCummulative.columns = [\n",
    "    'date',\n",
    "    'ordersCummulativeB',\n",
    "    'revenueCummulativeB',\n",
    "]\n",
    "\n",
    "data = (\n",
    "    ordersADaily.merge(\n",
    "        ordersBDaily, left_on='date', right_on='date', how='left'\n",
    "    )\n",
    "    .merge(ordersACummulative, left_on='date', right_on='date', how='left')\n",
    "    .merge(ordersBCummulative, left_on='date', right_on='date', how='left')\n",
    "    .merge(visitorsADaily, left_on='date', right_on='date', how='left')\n",
    "    .merge(visitorsBDaily, left_on='date', right_on='date', how='left')\n",
    "    .merge(visitorsACummulative, left_on='date', right_on='date', how='left')\n",
    "    .merge(visitorsBCummulative, left_on='date', right_on='date', how='left')\n",
    ")\n",
    "\n",
    "#print(data.head(5))\n",
    "\n",
    "ordersByUsersA = (\n",
    "    orders[orders['group'] == 'A']\n",
    "    .groupby('userId', as_index=False)\n",
    "    .agg({'orderId': pd.Series.nunique})\n",
    ")\n",
    "ordersByUsersA.columns = ['userId', 'orders']\n",
    "\n",
    "ordersByUsersB = (\n",
    "    orders[orders['group'] == 'B']\n",
    "    .groupby('userId', as_index=False)\n",
    "    .agg({'orderId': pd.Series.nunique})\n",
    ")\n",
    "ordersByUsersB.columns = ['userId', 'orders']\n",
    "\n",
    "sampleA = pd.concat([ordersByUsersA['orders'],pd.Series(0, index=np.arange(data['visitorsPerDateA'].sum() - len(ordersByUsersA['orders'])), name='orders')],axis=0)\n",
    "\n",
    "sampleB = pd.concat([ordersByUsersB['orders'],pd.Series(0, index=np.arange(data['visitorsPerDateB'].sum() - len(ordersByUsersB['orders'])), name='orders')],axis=0)\n",
    "\n",
    "ordersByUsersA = (\n",
    "    orders[orders['group'] == 'A']\n",
    "    .groupby('userId', as_index=False)\n",
    "    .agg({'orderId': pd.Series.nunique})\n",
    ")\n",
    "ordersByUsersA.columns = ['userId', 'orders']\n",
    "\n",
    "ordersByUsersB = (\n",
    "    orders[orders['group'] == 'B']\n",
    "    .groupby('userId', as_index=False)\n",
    "    .agg({'orderId': pd.Series.nunique})\n",
    ")\n",
    "ordersByUsersB.columns = ['userId', 'orders']\n",
    "\n",
    "sampleA = pd.concat(\n",
    "    [\n",
    "        ordersByUsersA['orders'],\n",
    "        pd.Series(\n",
    "            0,\n",
    "            index=np.arange(\n",
    "                data['visitorsPerDateA'].sum() - len(ordersByUsersA['orders'])\n",
    "            ),\n",
    "            name='orders',\n",
    "        ),\n",
    "    ],\n",
    "    axis=0,\n",
    ")\n",
    "\n",
    "sampleB = pd.concat(\n",
    "    [\n",
    "        ordersByUsersB['orders'],\n",
    "        pd.Series(\n",
    "            0,\n",
    "            index=np.arange(\n",
    "                data['visitorsPerDateB'].sum() - len(ordersByUsersB['orders'])\n",
    "            ),\n",
    "            name='orders',\n",
    "        ),\n",
    "    ],\n",
    "    axis=0,\n",
    ")\n",
    "print('p-value:', end=' ')\n",
    "print(\"{0:.5f}\".format(stats.mannwhitneyu(sampleA, sampleB)[1]))\n",
    "\n",
    "\n",
    "print(\"{0:.3f}\".format(sampleB.mean() / sampleA.mean() - 1))"
   ]
  },
  {
   "cell_type": "markdown",
   "metadata": {},
   "source": [
    "P-value  меньше 0.05, потому нулевую гипотезу отвергаем. Анализ «сырых данных» сообщает, что в среднем количестве заказов между группами есть статистически значимые различия. Относительный прирост среднего группы B к конверсии группы A равен 13.8%.\n",
    "Осталось сравнить средние чеки по «сырым данным», а затем обе метрики ещё раз после удаления выбросов."
   ]
  },
  {
   "cell_type": "markdown",
   "metadata": {},
   "source": [
    "**11) Посчитайте статистическую значимость различий в среднем чеке заказа между группами по «сырым» данным. Сделайте выводы и предположения.**"
   ]
  },
  {
   "cell_type": "markdown",
   "metadata": {},
   "source": [
    "Сформулируем гипотезы:\n",
    "- H0: различий в средних чеках отсутствуют\n",
    "- H1: различий в средних чеках присутствуют"
   ]
  },
  {
   "cell_type": "code",
   "execution_count": 33,
   "metadata": {},
   "outputs": [
    {
     "name": "stdout",
     "output_type": "stream",
     "text": [
      "p-value: 0.829\n",
      "0.287\n"
     ]
    }
   ],
   "source": [
    "print('p-value:', end=' ')\n",
    "print('{0:.3f}'.format(stats.mannwhitneyu(orders[orders['group']=='A']['revenue'], orders[orders['group']=='B']['revenue'])[1]))\n",
    "print('{0:.3f}'.format(orders[orders['group']=='B']['revenue'].mean()/orders[orders['group']=='A']['revenue'].mean()-1))"
   ]
  },
  {
   "cell_type": "markdown",
   "metadata": {},
   "source": [
    "P-value больше 0.05 — статистически значимых отличий в среднем чеке между группами нет: принимаем нулевую гипотезу об отсутствии отличий. Относительное различие среднего чека между сегментами  25.9% не является статистически значимым."
   ]
  },
  {
   "cell_type": "markdown",
   "metadata": {},
   "source": [
    "**12) Посчитайте статистическую значимость различий в среднем количестве заказов на посетителя между группами по «очищенным» данным. Сделайте выводы и предположения.**"
   ]
  },
  {
   "cell_type": "code",
   "execution_count": 34,
   "metadata": {},
   "outputs": [
    {
     "name": "stdout",
     "output_type": "stream",
     "text": [
      "p-value: 0.01593\n",
      "0.174\n"
     ]
    }
   ],
   "source": [
    "usersWithManyOrders = pd.concat(\n",
    "    [\n",
    "        ordersByUsersA[ordersByUsersA['orders'] > 1]['userId'],\n",
    "        ordersByUsersB[ordersByUsersB['orders'] > 1]['userId'],\n",
    "    ],\n",
    "    axis=0,\n",
    ")\n",
    "usersWithExpensiveOrders = orders[orders['revenue'] > 26785]['userId']\n",
    "abnormalUsers = (\n",
    "    pd.concat([usersWithManyOrders, usersWithExpensiveOrders], axis=0)\n",
    "    .drop_duplicates()\n",
    "    .sort_values()\n",
    ")\n",
    "#len(abnormalUsers)\n",
    "# 74 - аномальных клиента\n",
    "\n",
    "sampleAFiltered = pd.concat(\n",
    "    [\n",
    "        ordersByUsersA[\n",
    "            np.logical_not(ordersByUsersA['userId'].isin(abnormalUsers))\n",
    "        ]['orders'],\n",
    "        pd.Series(\n",
    "            0,\n",
    "            index=np.arange(\n",
    "                data['visitorsPerDateA'].sum() - len(ordersByUsersA['orders'])\n",
    "            ),\n",
    "            name='orders',\n",
    "        ),\n",
    "    ],\n",
    "    axis=0,\n",
    ")\n",
    "\n",
    "sampleBFiltered = pd.concat(\n",
    "    [\n",
    "        ordersByUsersB[\n",
    "            np.logical_not(ordersByUsersB['userId'].isin(abnormalUsers))\n",
    "        ]['orders'],\n",
    "        pd.Series(\n",
    "            0,\n",
    "            index=np.arange(\n",
    "                data['visitorsPerDateB'].sum() - len(ordersByUsersB['orders'])\n",
    "            ),\n",
    "            name='orders',\n",
    "        ),\n",
    "    ],\n",
    "    axis=0,\n",
    ")\n",
    "print('p-value:', end=' ')\n",
    "print('{0:.5f}'.format(stats.mannwhitneyu(sampleAFiltered, sampleBFiltered)[1]))\n",
    "print('{0:.3f}'.format(sampleBFiltered.mean()/sampleAFiltered.mean()-1))"
   ]
  },
  {
   "cell_type": "markdown",
   "metadata": {},
   "source": [
    "P-value меньше 0.05, потому нулевую гипотезу отвергаем. Анализ «очищенных данных» сообщает, что в среднем количестве заказов между группами есть статистически значимые различия. Относительный прирост среднего группы B к конверсии группы A равен 17.3%. Сегмент B значительно лучше сегмента A."
   ]
  },
  {
   "cell_type": "markdown",
   "metadata": {},
   "source": [
    "**13) Посчитайте статистическую значимость различий в среднем чеке заказа между группами по «очищенным» данным. Сделайте выводы и предположения.**"
   ]
  },
  {
   "cell_type": "code",
   "execution_count": 35,
   "metadata": {},
   "outputs": [
    {
     "name": "stdout",
     "output_type": "stream",
     "text": [
      "p-value: 0.727\n",
      "-0.034\n"
     ]
    }
   ],
   "source": [
    "print('p-value:', end=' ')\n",
    "print(\n",
    "    '{0:.3f}'.format(\n",
    "        stats.mannwhitneyu(\n",
    "            orders[\n",
    "                np.logical_and(\n",
    "                    orders['group'] == 'A',\n",
    "                    np.logical_not(orders['userId'].isin(abnormalUsers)),\n",
    "                )\n",
    "            ]['revenue'],\n",
    "            orders[\n",
    "                np.logical_and(\n",
    "                    orders['group'] == 'B',\n",
    "                    np.logical_not(orders['userId'].isin(abnormalUsers)),\n",
    "                )\n",
    "            ]['revenue'],\n",
    "        )[1]\n",
    "    )\n",
    ")\n",
    "\n",
    "print(\n",
    "    \"{0:.3f}\".format(\n",
    "        orders[\n",
    "            np.logical_and(\n",
    "                orders['group'] == 'B',\n",
    "                np.logical_not(orders['userId'].isin(abnormalUsers)),\n",
    "            )\n",
    "        ]['revenue'].mean()\n",
    "        / orders[\n",
    "            np.logical_and(\n",
    "                orders['group'] == 'A',\n",
    "                np.logical_not(orders['userId'].isin(abnormalUsers)),\n",
    "            )\n",
    "        ]['revenue'].mean()\n",
    "        - 1\n",
    "    )\n",
    ")"
   ]
  },
  {
   "cell_type": "markdown",
   "metadata": {},
   "source": [
    "P-value больше 0.05 — статистически значимых отличий в среднем чеке между группами нет: принимаем нулевую гипотезу об отсутствии отличий. Относительное различие среднего чека между сегментами после \"очистки\" данных не являются статистически значимыми."
   ]
  },
  {
   "cell_type": "markdown",
   "metadata": {},
   "source": [
    "**14) Примите решение по результатам теста и объясните его. Варианты решений:**\n",
    "- Остановить тест, зафиксировать победу одной из групп.\n",
    "- Остановить тест, зафиксировать отсутствие различий между группами.\n",
    "- Продолжить тест."
   ]
  },
  {
   "cell_type": "markdown",
   "metadata": {},
   "source": [
    "Относительный прирост среднего количества заказов группы B к среднему количеству группы A равен 17.3%. Сегмент B значительно лучше сегмента A по среднему количеству заказов, а гипотеза об отсутствии различий в средних чеках групп не была отвергнута. Результируем: пользователи группы Б в среднем больше совершают заказы относительно группы А, средние чеки у этих двух групп примерно идентичны, времени с начала А/Б теста прошло достаточно чтобы его закончить, а значит мы останавливаем тест и фиксируем победу группы Б: она показала себя более пригодной с точки зрения бизнеса. При глобальном обновлении интернет магазина по пути Б группы ожидается прирост среднего количества заказов и сохранение текущего среднего чека."
   ]
  }
 ],
 "metadata": {
  "ExecuteTimeLog": [
   {
    "duration": 452,
    "start_time": "2024-07-01T10:52:58.061Z"
   },
   {
    "duration": 72,
    "start_time": "2024-07-01T10:54:06.805Z"
   },
   {
    "duration": 28,
    "start_time": "2024-07-01T10:54:40.482Z"
   },
   {
    "duration": 17,
    "start_time": "2024-07-01T10:54:43.875Z"
   },
   {
    "duration": 8,
    "start_time": "2024-07-01T10:55:20.525Z"
   },
   {
    "duration": 8,
    "start_time": "2024-07-01T10:55:29.063Z"
   },
   {
    "duration": 4,
    "start_time": "2024-07-01T11:00:03.610Z"
   },
   {
    "duration": 3,
    "start_time": "2024-07-01T11:01:07.543Z"
   },
   {
    "duration": 26,
    "start_time": "2024-07-01T11:01:08.419Z"
   },
   {
    "duration": 8,
    "start_time": "2024-07-01T11:01:10.106Z"
   },
   {
    "duration": 2,
    "start_time": "2024-07-01T11:01:17.223Z"
   },
   {
    "duration": 4,
    "start_time": "2024-07-01T11:01:17.670Z"
   },
   {
    "duration": 10,
    "start_time": "2024-07-01T11:01:24.273Z"
   },
   {
    "duration": 12,
    "start_time": "2024-07-01T11:01:55.064Z"
   },
   {
    "duration": 3,
    "start_time": "2024-07-01T11:02:41.161Z"
   },
   {
    "duration": 4,
    "start_time": "2024-07-01T11:02:41.473Z"
   },
   {
    "duration": 5,
    "start_time": "2024-07-01T11:04:20.597Z"
   },
   {
    "duration": 4,
    "start_time": "2024-07-01T11:04:27.725Z"
   },
   {
    "duration": 8,
    "start_time": "2024-07-01T11:05:47.627Z"
   },
   {
    "duration": 13,
    "start_time": "2024-07-01T11:39:43.412Z"
   },
   {
    "duration": 77,
    "start_time": "2024-07-01T11:41:09.066Z"
   },
   {
    "duration": 10,
    "start_time": "2024-07-01T11:41:18.657Z"
   },
   {
    "duration": 445,
    "start_time": "2024-07-03T15:54:29.234Z"
   },
   {
    "duration": 78,
    "start_time": "2024-07-03T15:54:30.445Z"
   },
   {
    "duration": 23,
    "start_time": "2024-07-03T15:54:31.869Z"
   },
   {
    "duration": 3,
    "start_time": "2024-07-03T15:54:32.477Z"
   },
   {
    "duration": 4,
    "start_time": "2024-07-03T15:54:32.931Z"
   },
   {
    "duration": 16,
    "start_time": "2024-07-03T15:54:33.370Z"
   },
   {
    "duration": 12,
    "start_time": "2024-07-03T15:54:35.498Z"
   },
   {
    "duration": 10,
    "start_time": "2024-07-03T15:54:36.619Z"
   },
   {
    "duration": 466,
    "start_time": "2024-07-04T06:48:38.136Z"
   },
   {
    "duration": 81,
    "start_time": "2024-07-04T06:48:39.447Z"
   },
   {
    "duration": 17,
    "start_time": "2024-07-04T06:48:40.399Z"
   },
   {
    "duration": 4,
    "start_time": "2024-07-04T06:48:40.969Z"
   },
   {
    "duration": 4,
    "start_time": "2024-07-04T06:48:41.209Z"
   },
   {
    "duration": 9,
    "start_time": "2024-07-04T06:48:41.501Z"
   },
   {
    "duration": 9,
    "start_time": "2024-07-04T06:48:43.210Z"
   },
   {
    "duration": 9,
    "start_time": "2024-07-04T06:48:43.904Z"
   },
   {
    "duration": 101,
    "start_time": "2024-07-04T06:55:56.236Z"
   },
   {
    "duration": 80,
    "start_time": "2024-07-04T06:56:35.697Z"
   },
   {
    "duration": 80,
    "start_time": "2024-07-04T06:58:58.854Z"
   },
   {
    "duration": 54,
    "start_time": "2024-07-04T07:00:04.705Z"
   },
   {
    "duration": 413,
    "start_time": "2024-07-04T09:16:47.301Z"
   },
   {
    "duration": 91,
    "start_time": "2024-07-04T09:16:47.716Z"
   },
   {
    "duration": 20,
    "start_time": "2024-07-04T09:16:47.969Z"
   },
   {
    "duration": 3,
    "start_time": "2024-07-04T09:16:48.313Z"
   },
   {
    "duration": 3,
    "start_time": "2024-07-04T09:16:48.500Z"
   },
   {
    "duration": 8,
    "start_time": "2024-07-04T09:16:48.670Z"
   },
   {
    "duration": 9,
    "start_time": "2024-07-04T09:16:49.900Z"
   },
   {
    "duration": 8,
    "start_time": "2024-07-04T09:16:50.249Z"
   },
   {
    "duration": 91,
    "start_time": "2024-07-04T09:16:51.562Z"
   },
   {
    "duration": 58,
    "start_time": "2024-07-04T09:16:51.754Z"
   },
   {
    "duration": 47,
    "start_time": "2024-07-04T09:16:52.150Z"
   },
   {
    "duration": 67,
    "start_time": "2024-07-04T09:44:32.151Z"
   },
   {
    "duration": 7,
    "start_time": "2024-07-04T09:45:14.571Z"
   },
   {
    "duration": 38,
    "start_time": "2024-07-04T09:45:54.482Z"
   },
   {
    "duration": 3,
    "start_time": "2024-07-04T09:48:32.722Z"
   },
   {
    "duration": 4,
    "start_time": "2024-07-04T09:52:00.566Z"
   },
   {
    "duration": 3,
    "start_time": "2024-07-04T09:52:27.350Z"
   },
   {
    "duration": 3,
    "start_time": "2024-07-04T09:52:33.676Z"
   },
   {
    "duration": 7,
    "start_time": "2024-07-04T09:53:58.953Z"
   },
   {
    "duration": 2,
    "start_time": "2024-07-04T09:57:45.655Z"
   },
   {
    "duration": 3,
    "start_time": "2024-07-04T09:58:07.977Z"
   },
   {
    "duration": 3,
    "start_time": "2024-07-04T09:58:56.187Z"
   },
   {
    "duration": 4,
    "start_time": "2024-07-04T09:59:12.594Z"
   },
   {
    "duration": 4,
    "start_time": "2024-07-04T09:59:18.525Z"
   },
   {
    "duration": 6,
    "start_time": "2024-07-04T10:00:49.055Z"
   },
   {
    "duration": 3,
    "start_time": "2024-07-04T10:00:49.726Z"
   },
   {
    "duration": 2,
    "start_time": "2024-07-04T10:00:50.972Z"
   },
   {
    "duration": 3,
    "start_time": "2024-07-04T10:00:52.174Z"
   },
   {
    "duration": 19,
    "start_time": "2024-07-04T10:11:36.891Z"
   },
   {
    "duration": 2,
    "start_time": "2024-07-04T10:12:14.180Z"
   },
   {
    "duration": 21,
    "start_time": "2024-07-04T10:12:19.474Z"
   },
   {
    "duration": 195,
    "start_time": "2024-07-04T10:22:57.594Z"
   },
   {
    "duration": 11,
    "start_time": "2024-07-04T10:24:05.813Z"
   },
   {
    "duration": 8,
    "start_time": "2024-07-04T10:29:31.928Z"
   },
   {
    "duration": 9,
    "start_time": "2024-07-04T10:29:39.696Z"
   },
   {
    "duration": 9,
    "start_time": "2024-07-04T10:30:13.285Z"
   },
   {
    "duration": 9,
    "start_time": "2024-07-04T10:30:20.508Z"
   },
   {
    "duration": 170,
    "start_time": "2024-07-04T10:32:10.029Z"
   },
   {
    "duration": 165,
    "start_time": "2024-07-04T10:32:24.689Z"
   },
   {
    "duration": 255,
    "start_time": "2024-07-04T10:37:09.336Z"
   },
   {
    "duration": 9,
    "start_time": "2024-07-04T10:38:44.926Z"
   },
   {
    "duration": 396,
    "start_time": "2024-07-04T10:39:09.488Z"
   },
   {
    "duration": 269,
    "start_time": "2024-07-04T10:39:14.321Z"
   },
   {
    "duration": 54,
    "start_time": "2024-07-04T10:42:33.191Z"
   },
   {
    "duration": 274,
    "start_time": "2024-07-04T10:42:43.501Z"
   },
   {
    "duration": 234,
    "start_time": "2024-07-04T10:43:11.601Z"
   },
   {
    "duration": 284,
    "start_time": "2024-07-04T10:43:23.433Z"
   },
   {
    "duration": 222,
    "start_time": "2024-07-04T10:45:32.835Z"
   },
   {
    "duration": 10,
    "start_time": "2024-07-04T10:46:58.764Z"
   },
   {
    "duration": 7,
    "start_time": "2024-07-04T10:47:37.255Z"
   },
   {
    "duration": 4,
    "start_time": "2024-07-04T10:47:41.689Z"
   },
   {
    "duration": 990,
    "start_time": "2024-07-04T10:47:45.283Z"
   },
   {
    "duration": 154,
    "start_time": "2024-07-04T10:49:30.553Z"
   },
   {
    "duration": 206,
    "start_time": "2024-07-04T10:50:48.458Z"
   },
   {
    "duration": 202,
    "start_time": "2024-07-04T10:51:30.291Z"
   },
   {
    "duration": 200,
    "start_time": "2024-07-04T10:51:38.293Z"
   },
   {
    "duration": 179,
    "start_time": "2024-07-04T10:52:17.430Z"
   },
   {
    "duration": 280,
    "start_time": "2024-07-04T10:53:09.854Z"
   },
   {
    "duration": 253,
    "start_time": "2024-07-04T10:53:24.363Z"
   },
   {
    "duration": 341,
    "start_time": "2024-07-04T10:53:34.333Z"
   },
   {
    "duration": 207,
    "start_time": "2024-07-04T10:53:51.490Z"
   },
   {
    "duration": 234,
    "start_time": "2024-07-04T10:54:42.668Z"
   },
   {
    "duration": 231,
    "start_time": "2024-07-04T10:55:44.992Z"
   },
   {
    "duration": 234,
    "start_time": "2024-07-04T10:56:06.609Z"
   },
   {
    "duration": 259,
    "start_time": "2024-07-04T10:56:39.072Z"
   },
   {
    "duration": 233,
    "start_time": "2024-07-04T10:56:47.220Z"
   },
   {
    "duration": 157,
    "start_time": "2024-07-04T11:32:43.182Z"
   },
   {
    "duration": 212,
    "start_time": "2024-07-04T11:34:28.337Z"
   },
   {
    "duration": 248,
    "start_time": "2024-07-04T11:34:39.447Z"
   },
   {
    "duration": 187,
    "start_time": "2024-07-04T11:34:55.844Z"
   },
   {
    "duration": 214,
    "start_time": "2024-07-04T11:35:41.522Z"
   },
   {
    "duration": 219,
    "start_time": "2024-07-04T11:36:38.829Z"
   },
   {
    "duration": 237,
    "start_time": "2024-07-04T11:36:45.704Z"
   },
   {
    "duration": 280,
    "start_time": "2024-07-04T11:49:01.354Z"
   },
   {
    "duration": 350,
    "start_time": "2024-07-04T11:53:42.704Z"
   },
   {
    "duration": 288,
    "start_time": "2024-07-04T11:53:55.173Z"
   },
   {
    "duration": 300,
    "start_time": "2024-07-04T11:54:07.472Z"
   },
   {
    "duration": 299,
    "start_time": "2024-07-04T11:54:33.560Z"
   },
   {
    "duration": 343,
    "start_time": "2024-07-04T12:51:26.383Z"
   },
   {
    "duration": 202,
    "start_time": "2024-07-04T13:08:49.939Z"
   },
   {
    "duration": 167,
    "start_time": "2024-07-04T13:09:09.881Z"
   },
   {
    "duration": 245,
    "start_time": "2024-07-04T13:11:25.131Z"
   },
   {
    "duration": 224,
    "start_time": "2024-07-04T13:18:32.647Z"
   },
   {
    "duration": 312,
    "start_time": "2024-07-04T13:22:20.816Z"
   },
   {
    "duration": 319,
    "start_time": "2024-07-04T13:22:46.396Z"
   },
   {
    "duration": 333,
    "start_time": "2024-07-04T13:23:14.120Z"
   },
   {
    "duration": 348,
    "start_time": "2024-07-04T13:23:52.004Z"
   },
   {
    "duration": 307,
    "start_time": "2024-07-04T13:23:56.513Z"
   },
   {
    "duration": 302,
    "start_time": "2024-07-04T13:25:23.225Z"
   },
   {
    "duration": 293,
    "start_time": "2024-07-04T13:26:29.887Z"
   },
   {
    "duration": 362,
    "start_time": "2024-07-04T13:27:09.625Z"
   },
   {
    "duration": 279,
    "start_time": "2024-07-04T13:28:59.741Z"
   },
   {
    "duration": 304,
    "start_time": "2024-07-04T13:29:06.632Z"
   },
   {
    "duration": 326,
    "start_time": "2024-07-04T13:29:43.110Z"
   },
   {
    "duration": 237,
    "start_time": "2024-07-04T13:29:57.857Z"
   },
   {
    "duration": 227,
    "start_time": "2024-07-04T13:31:19.165Z"
   },
   {
    "duration": 318,
    "start_time": "2024-07-04T13:33:20.551Z"
   },
   {
    "duration": 359,
    "start_time": "2024-07-04T13:33:37.402Z"
   },
   {
    "duration": 461,
    "start_time": "2024-07-04T13:34:06.057Z"
   },
   {
    "duration": 332,
    "start_time": "2024-07-04T13:34:25.943Z"
   },
   {
    "duration": 7,
    "start_time": "2024-07-04T13:37:29.540Z"
   },
   {
    "duration": 11,
    "start_time": "2024-07-04T13:38:30.585Z"
   },
   {
    "duration": 171,
    "start_time": "2024-07-04T13:39:11.112Z"
   },
   {
    "duration": 136,
    "start_time": "2024-07-04T13:43:30.348Z"
   },
   {
    "duration": 143,
    "start_time": "2024-07-04T13:45:23.903Z"
   },
   {
    "duration": 6,
    "start_time": "2024-07-04T13:47:04.881Z"
   },
   {
    "duration": 8,
    "start_time": "2024-07-04T13:49:16.514Z"
   },
   {
    "duration": 7,
    "start_time": "2024-07-04T13:55:36.217Z"
   },
   {
    "duration": 113,
    "start_time": "2024-07-04T13:55:51.496Z"
   },
   {
    "duration": 134,
    "start_time": "2024-07-04T13:57:20.395Z"
   },
   {
    "duration": 149,
    "start_time": "2024-07-04T13:58:29.877Z"
   },
   {
    "duration": 146,
    "start_time": "2024-07-04T13:58:34.471Z"
   },
   {
    "duration": 133,
    "start_time": "2024-07-04T13:58:39.358Z"
   },
   {
    "duration": 6,
    "start_time": "2024-07-04T13:59:52.055Z"
   },
   {
    "duration": 4,
    "start_time": "2024-07-04T14:00:02.861Z"
   },
   {
    "duration": 5,
    "start_time": "2024-07-04T14:01:13.789Z"
   },
   {
    "duration": 6,
    "start_time": "2024-07-04T14:01:24.521Z"
   },
   {
    "duration": 4,
    "start_time": "2024-07-04T14:08:12.956Z"
   },
   {
    "duration": 3,
    "start_time": "2024-07-04T14:08:18.802Z"
   },
   {
    "duration": 17,
    "start_time": "2024-07-04T14:18:42.047Z"
   },
   {
    "duration": 11,
    "start_time": "2024-07-04T14:19:21.797Z"
   },
   {
    "duration": 6,
    "start_time": "2024-07-04T14:20:41.269Z"
   },
   {
    "duration": 8,
    "start_time": "2024-07-04T14:21:16.375Z"
   },
   {
    "duration": 2,
    "start_time": "2024-07-04T14:21:52.035Z"
   },
   {
    "duration": 138,
    "start_time": "2024-07-04T14:21:54.756Z"
   },
   {
    "duration": 139,
    "start_time": "2024-07-04T14:22:41.316Z"
   },
   {
    "duration": 945,
    "start_time": "2024-07-04T14:23:08.719Z"
   },
   {
    "duration": 453,
    "start_time": "2024-07-04T14:24:05.908Z"
   },
   {
    "duration": 487,
    "start_time": "2024-07-04T14:24:28.487Z"
   },
   {
    "duration": 464,
    "start_time": "2024-07-04T14:24:36.918Z"
   },
   {
    "duration": 3,
    "start_time": "2024-07-04T14:25:48.736Z"
   },
   {
    "duration": 459,
    "start_time": "2024-07-04T14:25:49.012Z"
   },
   {
    "duration": 450,
    "start_time": "2024-07-04T14:26:03.633Z"
   },
   {
    "duration": 9,
    "start_time": "2024-07-04T15:13:30.561Z"
   },
   {
    "duration": 1365,
    "start_time": "2024-07-05T06:20:08.828Z"
   },
   {
    "duration": 80,
    "start_time": "2024-07-05T06:20:10.599Z"
   },
   {
    "duration": 14,
    "start_time": "2024-07-05T06:20:11.336Z"
   },
   {
    "duration": 4,
    "start_time": "2024-07-05T06:20:12.048Z"
   },
   {
    "duration": 3,
    "start_time": "2024-07-05T06:20:12.375Z"
   },
   {
    "duration": 8,
    "start_time": "2024-07-05T06:20:12.822Z"
   },
   {
    "duration": 10,
    "start_time": "2024-07-05T06:20:14.468Z"
   },
   {
    "duration": 11,
    "start_time": "2024-07-05T06:20:15.137Z"
   },
   {
    "duration": 89,
    "start_time": "2024-07-05T06:20:16.998Z"
   },
   {
    "duration": 56,
    "start_time": "2024-07-05T06:20:17.538Z"
   },
   {
    "duration": 47,
    "start_time": "2024-07-05T06:20:18.381Z"
   },
   {
    "duration": 7,
    "start_time": "2024-07-05T06:20:19.273Z"
   },
   {
    "duration": 4,
    "start_time": "2024-07-05T06:20:19.868Z"
   },
   {
    "duration": 2,
    "start_time": "2024-07-05T06:20:20.566Z"
   },
   {
    "duration": 4,
    "start_time": "2024-07-05T06:20:20.731Z"
   },
   {
    "duration": 302,
    "start_time": "2024-07-05T06:20:21.668Z"
   },
   {
    "duration": 5,
    "start_time": "2024-07-05T06:20:22.174Z"
   },
   {
    "duration": 281,
    "start_time": "2024-07-05T06:20:22.661Z"
   },
   {
    "duration": 260,
    "start_time": "2024-07-05T06:20:23.822Z"
   },
   {
    "duration": 445,
    "start_time": "2024-07-05T06:20:25.360Z"
   },
   {
    "duration": 272,
    "start_time": "2024-07-05T06:20:26.875Z"
   },
   {
    "duration": 408,
    "start_time": "2024-07-05T06:20:28.376Z"
   },
   {
    "duration": 151,
    "start_time": "2024-07-05T06:20:30.212Z"
   },
   {
    "duration": 7,
    "start_time": "2024-07-05T06:20:31.662Z"
   },
   {
    "duration": 167,
    "start_time": "2024-07-05T06:20:32.934Z"
   },
   {
    "duration": 5,
    "start_time": "2024-07-05T06:20:34.362Z"
   },
   {
    "duration": 554,
    "start_time": "2024-07-05T06:20:35.770Z"
   },
   {
    "duration": 10,
    "start_time": "2024-07-05T06:20:37.867Z"
   },
   {
    "duration": 10,
    "start_time": "2024-07-05T06:22:03.601Z"
   },
   {
    "duration": 9,
    "start_time": "2024-07-05T06:23:21.704Z"
   },
   {
    "duration": 10,
    "start_time": "2024-07-05T06:23:40.001Z"
   },
   {
    "duration": 42,
    "start_time": "2024-07-05T06:25:22.884Z"
   },
   {
    "duration": 578,
    "start_time": "2024-07-05T06:26:42.863Z"
   },
   {
    "duration": 155,
    "start_time": "2024-07-05T06:28:37.457Z"
   },
   {
    "duration": 64,
    "start_time": "2024-07-05T06:28:49.056Z"
   },
   {
    "duration": 37,
    "start_time": "2024-07-05T06:30:36.162Z"
   },
   {
    "duration": 15,
    "start_time": "2024-07-05T06:32:13.425Z"
   },
   {
    "duration": 1173,
    "start_time": "2024-07-05T07:04:34.483Z"
   },
   {
    "duration": 72,
    "start_time": "2024-07-05T07:04:35.658Z"
   },
   {
    "duration": 20,
    "start_time": "2024-07-05T07:04:35.732Z"
   },
   {
    "duration": 4,
    "start_time": "2024-07-05T07:04:35.754Z"
   },
   {
    "duration": 7,
    "start_time": "2024-07-05T07:04:35.760Z"
   },
   {
    "duration": 12,
    "start_time": "2024-07-05T07:04:35.769Z"
   },
   {
    "duration": 17,
    "start_time": "2024-07-05T07:04:35.783Z"
   },
   {
    "duration": 13,
    "start_time": "2024-07-05T07:04:35.802Z"
   },
   {
    "duration": 95,
    "start_time": "2024-07-05T07:04:35.818Z"
   },
   {
    "duration": 70,
    "start_time": "2024-07-05T07:04:35.916Z"
   },
   {
    "duration": 52,
    "start_time": "2024-07-05T07:04:35.988Z"
   },
   {
    "duration": 44,
    "start_time": "2024-07-05T07:04:36.042Z"
   },
   {
    "duration": 4,
    "start_time": "2024-07-05T07:04:36.088Z"
   },
   {
    "duration": 6,
    "start_time": "2024-07-05T07:04:36.093Z"
   },
   {
    "duration": 5,
    "start_time": "2024-07-05T07:04:36.100Z"
   },
   {
    "duration": 349,
    "start_time": "2024-07-05T07:04:36.107Z"
   },
   {
    "duration": 11,
    "start_time": "2024-07-05T07:04:36.457Z"
   },
   {
    "duration": 298,
    "start_time": "2024-07-05T07:04:36.470Z"
   },
   {
    "duration": 275,
    "start_time": "2024-07-05T07:04:36.770Z"
   },
   {
    "duration": 405,
    "start_time": "2024-07-05T07:04:37.047Z"
   },
   {
    "duration": 317,
    "start_time": "2024-07-05T07:04:37.454Z"
   },
   {
    "duration": 369,
    "start_time": "2024-07-05T07:04:37.774Z"
   },
   {
    "duration": 173,
    "start_time": "2024-07-05T07:04:38.145Z"
   },
   {
    "duration": 7,
    "start_time": "2024-07-05T07:04:38.320Z"
   },
   {
    "duration": 165,
    "start_time": "2024-07-05T07:04:38.329Z"
   },
   {
    "duration": 4,
    "start_time": "2024-07-05T07:04:38.497Z"
   },
   {
    "duration": 562,
    "start_time": "2024-07-05T07:04:38.503Z"
   },
   {
    "duration": 11,
    "start_time": "2024-07-05T07:04:39.069Z"
   },
   {
    "duration": 36,
    "start_time": "2024-07-05T07:04:39.082Z"
   },
   {
    "duration": 13,
    "start_time": "2024-07-05T07:04:39.120Z"
   },
   {
    "duration": 74,
    "start_time": "2024-07-05T07:25:12.820Z"
   },
   {
    "duration": 44,
    "start_time": "2024-07-05T09:41:20.098Z"
   },
   {
    "duration": 1281,
    "start_time": "2024-07-05T09:41:26.915Z"
   },
   {
    "duration": 69,
    "start_time": "2024-07-05T09:41:28.198Z"
   },
   {
    "duration": 13,
    "start_time": "2024-07-05T09:41:28.786Z"
   },
   {
    "duration": 3,
    "start_time": "2024-07-05T09:41:29.772Z"
   },
   {
    "duration": 4,
    "start_time": "2024-07-05T09:41:29.928Z"
   },
   {
    "duration": 8,
    "start_time": "2024-07-05T09:41:30.320Z"
   },
   {
    "duration": 10,
    "start_time": "2024-07-05T09:41:41.687Z"
   },
   {
    "duration": 60,
    "start_time": "2024-07-05T09:42:28.879Z"
   },
   {
    "duration": 10,
    "start_time": "2024-07-05T09:42:33.880Z"
   },
   {
    "duration": 9,
    "start_time": "2024-07-05T09:42:41.102Z"
   },
   {
    "duration": 9,
    "start_time": "2024-07-05T09:42:44.765Z"
   },
   {
    "duration": 8,
    "start_time": "2024-07-05T09:42:59.739Z"
   },
   {
    "duration": 14,
    "start_time": "2024-07-05T09:43:29.503Z"
   },
   {
    "duration": 10,
    "start_time": "2024-07-05T09:44:34.395Z"
   },
   {
    "duration": 12,
    "start_time": "2024-07-05T09:45:07.567Z"
   },
   {
    "duration": 10,
    "start_time": "2024-07-05T09:47:36.495Z"
   },
   {
    "duration": 48,
    "start_time": "2024-07-05T09:49:20.275Z"
   },
   {
    "duration": 12,
    "start_time": "2024-07-05T09:49:32.232Z"
   },
   {
    "duration": 1286,
    "start_time": "2024-07-06T15:36:18.839Z"
   },
   {
    "duration": 93,
    "start_time": "2024-07-06T15:36:20.856Z"
   },
   {
    "duration": 12,
    "start_time": "2024-07-06T15:36:21.619Z"
   },
   {
    "duration": 2,
    "start_time": "2024-07-06T15:36:22.478Z"
   },
   {
    "duration": 3,
    "start_time": "2024-07-06T15:36:22.889Z"
   },
   {
    "duration": 9,
    "start_time": "2024-07-06T15:36:23.259Z"
   },
   {
    "duration": 54,
    "start_time": "2024-07-06T15:36:25.169Z"
   },
   {
    "duration": 15,
    "start_time": "2024-07-06T15:36:36.892Z"
   },
   {
    "duration": 148,
    "start_time": "2024-07-06T15:44:56.223Z"
   },
   {
    "duration": 157,
    "start_time": "2024-07-06T15:45:29.837Z"
   },
   {
    "duration": 100,
    "start_time": "2024-07-06T15:48:12.186Z"
   },
   {
    "duration": 305,
    "start_time": "2024-07-06T15:48:24.226Z"
   },
   {
    "duration": 302,
    "start_time": "2024-07-06T15:49:22.238Z"
   },
   {
    "duration": 257,
    "start_time": "2024-07-06T15:50:33.205Z"
   },
   {
    "duration": 237,
    "start_time": "2024-07-06T15:50:45.774Z"
   },
   {
    "duration": 249,
    "start_time": "2024-07-06T15:52:00.834Z"
   },
   {
    "duration": 270,
    "start_time": "2024-07-06T15:52:34.454Z"
   },
   {
    "duration": 318,
    "start_time": "2024-07-06T15:52:47.675Z"
   },
   {
    "duration": 236,
    "start_time": "2024-07-06T15:56:02.213Z"
   },
   {
    "duration": 278,
    "start_time": "2024-07-06T16:03:04.981Z"
   },
   {
    "duration": 15,
    "start_time": "2024-07-06T16:03:25.374Z"
   },
   {
    "duration": 11,
    "start_time": "2024-07-06T16:03:50.524Z"
   },
   {
    "duration": 293,
    "start_time": "2024-07-06T16:04:38.515Z"
   },
   {
    "duration": 291,
    "start_time": "2024-07-06T16:05:22.665Z"
   },
   {
    "duration": 281,
    "start_time": "2024-07-06T16:06:11.871Z"
   },
   {
    "duration": 284,
    "start_time": "2024-07-06T16:06:56.155Z"
   },
   {
    "duration": 280,
    "start_time": "2024-07-06T16:07:07.768Z"
   },
   {
    "duration": 286,
    "start_time": "2024-07-06T16:07:25.821Z"
   },
   {
    "duration": 249,
    "start_time": "2024-07-06T16:07:42.477Z"
   },
   {
    "duration": 281,
    "start_time": "2024-07-06T16:07:45.376Z"
   },
   {
    "duration": 347,
    "start_time": "2024-07-06T16:09:24.845Z"
   },
   {
    "duration": 4,
    "start_time": "2024-07-06T16:16:39.826Z"
   },
   {
    "duration": 27,
    "start_time": "2024-07-06T16:16:41.187Z"
   },
   {
    "duration": 8,
    "start_time": "2024-07-06T16:16:41.922Z"
   },
   {
    "duration": 3,
    "start_time": "2024-07-06T16:16:44.062Z"
   },
   {
    "duration": 3,
    "start_time": "2024-07-06T16:16:44.411Z"
   },
   {
    "duration": 9,
    "start_time": "2024-07-06T16:16:44.784Z"
   },
   {
    "duration": 12,
    "start_time": "2024-07-06T16:16:47.383Z"
   },
   {
    "duration": 248,
    "start_time": "2024-07-06T16:16:51.646Z"
   },
   {
    "duration": 17,
    "start_time": "2024-07-06T16:16:54.612Z"
   },
   {
    "duration": 229,
    "start_time": "2024-07-06T16:16:55.701Z"
   },
   {
    "duration": 178,
    "start_time": "2024-07-06T16:16:57.508Z"
   },
   {
    "duration": 281,
    "start_time": "2024-07-06T16:18:04.105Z"
   },
   {
    "duration": 93,
    "start_time": "2024-07-06T16:18:13.416Z"
   },
   {
    "duration": 59,
    "start_time": "2024-07-06T16:18:13.864Z"
   },
   {
    "duration": 47,
    "start_time": "2024-07-06T16:18:14.560Z"
   },
   {
    "duration": 6,
    "start_time": "2024-07-06T16:18:15.305Z"
   },
   {
    "duration": 3,
    "start_time": "2024-07-06T16:18:15.494Z"
   },
   {
    "duration": 2,
    "start_time": "2024-07-06T16:18:16.558Z"
   },
   {
    "duration": 4,
    "start_time": "2024-07-06T16:18:16.987Z"
   },
   {
    "duration": 14,
    "start_time": "2024-07-06T16:34:28.800Z"
   },
   {
    "duration": 12,
    "start_time": "2024-07-06T16:34:48.163Z"
   },
   {
    "duration": 12,
    "start_time": "2024-07-06T16:35:12.273Z"
   },
   {
    "duration": 10,
    "start_time": "2024-07-06T16:35:32.482Z"
   },
   {
    "duration": 10,
    "start_time": "2024-07-06T16:35:44.389Z"
   },
   {
    "duration": 11,
    "start_time": "2024-07-06T16:35:50.192Z"
   },
   {
    "duration": 7,
    "start_time": "2024-07-06T16:36:21.861Z"
   },
   {
    "duration": 12,
    "start_time": "2024-07-06T16:36:58.826Z"
   },
   {
    "duration": 10,
    "start_time": "2024-07-06T16:37:19.709Z"
   },
   {
    "duration": 7,
    "start_time": "2024-07-06T16:37:25.044Z"
   },
   {
    "duration": 9,
    "start_time": "2024-07-06T16:37:48.704Z"
   },
   {
    "duration": 5,
    "start_time": "2024-07-06T16:37:54.951Z"
   },
   {
    "duration": 6,
    "start_time": "2024-07-06T16:38:01.911Z"
   },
   {
    "duration": 8,
    "start_time": "2024-07-06T16:38:07.420Z"
   },
   {
    "duration": 7,
    "start_time": "2024-07-06T16:38:12.339Z"
   },
   {
    "duration": 6,
    "start_time": "2024-07-06T16:38:15.891Z"
   },
   {
    "duration": 7,
    "start_time": "2024-07-06T16:38:20.598Z"
   },
   {
    "duration": 9,
    "start_time": "2024-07-06T16:38:37.918Z"
   },
   {
    "duration": 7,
    "start_time": "2024-07-06T16:38:42.722Z"
   },
   {
    "duration": 7,
    "start_time": "2024-07-06T16:38:45.256Z"
   },
   {
    "duration": 7,
    "start_time": "2024-07-06T16:38:47.697Z"
   },
   {
    "duration": 7,
    "start_time": "2024-07-06T16:38:49.937Z"
   },
   {
    "duration": 8,
    "start_time": "2024-07-06T16:42:27.836Z"
   },
   {
    "duration": 6,
    "start_time": "2024-07-06T16:43:20.972Z"
   },
   {
    "duration": 6,
    "start_time": "2024-07-06T16:43:30.083Z"
   },
   {
    "duration": 8,
    "start_time": "2024-07-06T16:44:44.712Z"
   },
   {
    "duration": 6,
    "start_time": "2024-07-06T16:45:46.616Z"
   },
   {
    "duration": 4,
    "start_time": "2024-07-06T16:46:30.751Z"
   },
   {
    "duration": 4,
    "start_time": "2024-07-06T16:46:36.047Z"
   },
   {
    "duration": 6,
    "start_time": "2024-07-06T17:08:52.251Z"
   },
   {
    "duration": 600,
    "start_time": "2024-07-06T17:09:05.666Z"
   },
   {
    "duration": 10,
    "start_time": "2024-07-06T17:09:14.089Z"
   },
   {
    "duration": 5,
    "start_time": "2024-07-06T17:09:18.131Z"
   },
   {
    "duration": 10,
    "start_time": "2024-07-06T17:10:24.295Z"
   },
   {
    "duration": 7,
    "start_time": "2024-07-06T17:11:40.569Z"
   },
   {
    "duration": 13,
    "start_time": "2024-07-06T17:11:56.219Z"
   },
   {
    "duration": 5,
    "start_time": "2024-07-06T17:12:25.901Z"
   },
   {
    "duration": 4,
    "start_time": "2024-07-06T17:12:40.632Z"
   },
   {
    "duration": 4,
    "start_time": "2024-07-06T17:12:47.139Z"
   },
   {
    "duration": 5,
    "start_time": "2024-07-06T17:13:28.505Z"
   },
   {
    "duration": 5,
    "start_time": "2024-07-06T17:13:37.920Z"
   },
   {
    "duration": 5,
    "start_time": "2024-07-06T17:13:41.076Z"
   },
   {
    "duration": 74,
    "start_time": "2024-07-06T17:14:27.977Z"
   },
   {
    "duration": 5,
    "start_time": "2024-07-06T17:14:46.604Z"
   },
   {
    "duration": 29,
    "start_time": "2024-07-06T17:28:38.746Z"
   },
   {
    "duration": 13,
    "start_time": "2024-07-06T17:28:56.186Z"
   },
   {
    "duration": 28,
    "start_time": "2024-07-06T17:29:09.986Z"
   },
   {
    "duration": 23,
    "start_time": "2024-07-06T17:29:45.353Z"
   },
   {
    "duration": 18,
    "start_time": "2024-07-06T17:29:58.937Z"
   },
   {
    "duration": 27,
    "start_time": "2024-07-06T17:30:01.486Z"
   },
   {
    "duration": 15,
    "start_time": "2024-07-06T17:30:23.795Z"
   },
   {
    "duration": 6,
    "start_time": "2024-07-06T17:30:34.085Z"
   },
   {
    "duration": 6,
    "start_time": "2024-07-06T17:30:44.789Z"
   },
   {
    "duration": 8,
    "start_time": "2024-07-06T17:30:54.848Z"
   },
   {
    "duration": 7,
    "start_time": "2024-07-06T17:32:39.980Z"
   },
   {
    "duration": 10,
    "start_time": "2024-07-06T17:37:12.934Z"
   },
   {
    "duration": 14,
    "start_time": "2024-07-06T17:37:59.725Z"
   },
   {
    "duration": 81,
    "start_time": "2024-07-06T17:40:15.695Z"
   },
   {
    "duration": 15,
    "start_time": "2024-07-06T17:43:20.086Z"
   },
   {
    "duration": 10,
    "start_time": "2024-07-06T17:43:45.568Z"
   },
   {
    "duration": 12,
    "start_time": "2024-07-06T17:43:52.091Z"
   },
   {
    "duration": 7,
    "start_time": "2024-07-06T17:44:37.537Z"
   },
   {
    "duration": 5,
    "start_time": "2024-07-06T17:44:55.574Z"
   },
   {
    "duration": 6,
    "start_time": "2024-07-06T17:45:52.317Z"
   },
   {
    "duration": 6,
    "start_time": "2024-07-06T17:47:17.013Z"
   },
   {
    "duration": 263,
    "start_time": "2024-07-06T17:51:09.643Z"
   },
   {
    "duration": 5,
    "start_time": "2024-07-06T17:51:11.951Z"
   },
   {
    "duration": 251,
    "start_time": "2024-07-06T17:51:12.577Z"
   },
   {
    "duration": 249,
    "start_time": "2024-07-06T17:51:20.229Z"
   },
   {
    "duration": 399,
    "start_time": "2024-07-06T17:51:22.450Z"
   },
   {
    "duration": 250,
    "start_time": "2024-07-06T17:51:24.277Z"
   },
   {
    "duration": 356,
    "start_time": "2024-07-06T17:51:25.982Z"
   },
   {
    "duration": 227,
    "start_time": "2024-07-06T17:51:28.189Z"
   },
   {
    "duration": 6,
    "start_time": "2024-07-06T17:51:29.956Z"
   },
   {
    "duration": 147,
    "start_time": "2024-07-06T17:53:17.468Z"
   },
   {
    "duration": 4,
    "start_time": "2024-07-06T17:53:25.033Z"
   },
   {
    "duration": 27,
    "start_time": "2024-07-06T18:11:53.990Z"
   },
   {
    "duration": 7,
    "start_time": "2024-07-06T18:11:55.383Z"
   },
   {
    "duration": 4,
    "start_time": "2024-07-06T18:17:34.954Z"
   },
   {
    "duration": 9,
    "start_time": "2024-07-06T18:17:42.629Z"
   },
   {
    "duration": 59,
    "start_time": "2024-07-06T18:18:01.495Z"
   },
   {
    "duration": 7,
    "start_time": "2024-07-06T18:18:29.467Z"
   },
   {
    "duration": 4,
    "start_time": "2024-07-06T18:18:33.116Z"
   },
   {
    "duration": 3,
    "start_time": "2024-07-06T18:19:02.298Z"
   },
   {
    "duration": 26,
    "start_time": "2024-07-06T18:19:03.071Z"
   },
   {
    "duration": 8,
    "start_time": "2024-07-06T18:19:03.638Z"
   },
   {
    "duration": 2,
    "start_time": "2024-07-06T18:19:04.277Z"
   },
   {
    "duration": 3,
    "start_time": "2024-07-06T18:19:04.700Z"
   },
   {
    "duration": 10,
    "start_time": "2024-07-06T18:19:05.074Z"
   },
   {
    "duration": 14,
    "start_time": "2024-07-06T18:19:06.949Z"
   },
   {
    "duration": 253,
    "start_time": "2024-07-06T18:19:08.303Z"
   },
   {
    "duration": 12,
    "start_time": "2024-07-06T18:19:09.162Z"
   },
   {
    "duration": 259,
    "start_time": "2024-07-06T18:19:09.491Z"
   },
   {
    "duration": 292,
    "start_time": "2024-07-06T18:19:10.495Z"
   },
   {
    "duration": 48,
    "start_time": "2024-07-06T18:19:13.642Z"
   },
   {
    "duration": 16,
    "start_time": "2024-07-06T18:19:14.068Z"
   },
   {
    "duration": 40,
    "start_time": "2024-07-06T18:19:14.887Z"
   },
   {
    "duration": 8,
    "start_time": "2024-07-06T18:19:15.701Z"
   },
   {
    "duration": 4,
    "start_time": "2024-07-06T18:19:16.631Z"
   },
   {
    "duration": 2,
    "start_time": "2024-07-06T18:19:18.172Z"
   },
   {
    "duration": 3,
    "start_time": "2024-07-06T18:19:18.333Z"
   },
   {
    "duration": 6,
    "start_time": "2024-07-06T18:19:18.862Z"
   },
   {
    "duration": 8,
    "start_time": "2024-07-06T18:19:20.950Z"
   },
   {
    "duration": 256,
    "start_time": "2024-07-06T18:19:35.700Z"
   },
   {
    "duration": 5,
    "start_time": "2024-07-06T18:19:37.737Z"
   },
   {
    "duration": 256,
    "start_time": "2024-07-06T18:19:37.910Z"
   },
   {
    "duration": 253,
    "start_time": "2024-07-06T18:19:40.116Z"
   },
   {
    "duration": 311,
    "start_time": "2024-07-06T18:19:41.806Z"
   },
   {
    "duration": 273,
    "start_time": "2024-07-06T18:19:43.795Z"
   },
   {
    "duration": 396,
    "start_time": "2024-07-06T18:19:47.145Z"
   },
   {
    "duration": 236,
    "start_time": "2024-07-06T18:19:50.175Z"
   },
   {
    "duration": 7,
    "start_time": "2024-07-06T18:19:53.836Z"
   },
   {
    "duration": 142,
    "start_time": "2024-07-06T18:20:03.508Z"
   },
   {
    "duration": 5,
    "start_time": "2024-07-06T18:20:07.669Z"
   },
   {
    "duration": 4,
    "start_time": "2024-07-06T18:21:08.909Z"
   },
   {
    "duration": 4,
    "start_time": "2024-07-06T18:21:47.417Z"
   },
   {
    "duration": 28,
    "start_time": "2024-07-06T18:21:47.974Z"
   },
   {
    "duration": 8,
    "start_time": "2024-07-06T18:21:48.368Z"
   },
   {
    "duration": 3,
    "start_time": "2024-07-06T18:21:48.809Z"
   },
   {
    "duration": 4,
    "start_time": "2024-07-06T18:21:49.006Z"
   },
   {
    "duration": 10,
    "start_time": "2024-07-06T18:21:49.203Z"
   },
   {
    "duration": 12,
    "start_time": "2024-07-06T18:21:50.515Z"
   },
   {
    "duration": 244,
    "start_time": "2024-07-06T18:21:51.164Z"
   },
   {
    "duration": 13,
    "start_time": "2024-07-06T18:21:51.657Z"
   },
   {
    "duration": 231,
    "start_time": "2024-07-06T18:21:52.125Z"
   },
   {
    "duration": 280,
    "start_time": "2024-07-06T18:21:52.715Z"
   },
   {
    "duration": 48,
    "start_time": "2024-07-06T18:21:55.451Z"
   },
   {
    "duration": 16,
    "start_time": "2024-07-06T18:21:55.731Z"
   },
   {
    "duration": 46,
    "start_time": "2024-07-06T18:21:56.573Z"
   },
   {
    "duration": 6,
    "start_time": "2024-07-06T18:21:57.172Z"
   },
   {
    "duration": 4,
    "start_time": "2024-07-06T18:21:58.495Z"
   },
   {
    "duration": 3,
    "start_time": "2024-07-06T18:21:59.548Z"
   },
   {
    "duration": 4,
    "start_time": "2024-07-06T18:22:00.158Z"
   },
   {
    "duration": 7,
    "start_time": "2024-07-06T18:22:01.451Z"
   },
   {
    "duration": 3,
    "start_time": "2024-07-06T18:22:04.315Z"
   },
   {
    "duration": 8,
    "start_time": "2024-07-06T18:22:08.300Z"
   },
   {
    "duration": 5,
    "start_time": "2024-07-06T18:22:22.028Z"
   },
   {
    "duration": 4,
    "start_time": "2024-07-06T18:22:42.077Z"
   },
   {
    "duration": 11,
    "start_time": "2024-07-06T18:22:43.229Z"
   },
   {
    "duration": 8,
    "start_time": "2024-07-06T18:22:55.969Z"
   },
   {
    "duration": 279,
    "start_time": "2024-07-06T18:22:57.562Z"
   },
   {
    "duration": 4,
    "start_time": "2024-07-06T18:22:57.843Z"
   },
   {
    "duration": 256,
    "start_time": "2024-07-06T18:22:58.446Z"
   },
   {
    "duration": 244,
    "start_time": "2024-07-06T18:22:59.376Z"
   },
   {
    "duration": 365,
    "start_time": "2024-07-06T18:23:00.370Z"
   },
   {
    "duration": 261,
    "start_time": "2024-07-06T18:23:01.752Z"
   },
   {
    "duration": 364,
    "start_time": "2024-07-06T18:23:03.273Z"
   },
   {
    "duration": 237,
    "start_time": "2024-07-06T18:23:05.337Z"
   },
   {
    "duration": 7,
    "start_time": "2024-07-06T18:23:09.661Z"
   },
   {
    "duration": 136,
    "start_time": "2024-07-06T18:27:11.155Z"
   },
   {
    "duration": 4,
    "start_time": "2024-07-06T18:27:15.396Z"
   },
   {
    "duration": 421,
    "start_time": "2024-07-06T18:29:10.901Z"
   },
   {
    "duration": 24,
    "start_time": "2024-07-06T18:30:43.583Z"
   },
   {
    "duration": 24,
    "start_time": "2024-07-06T18:30:48.881Z"
   },
   {
    "duration": 78,
    "start_time": "2024-07-06T18:31:36.056Z"
   },
   {
    "duration": 447,
    "start_time": "2024-07-06T18:32:42.180Z"
   },
   {
    "duration": 79,
    "start_time": "2024-07-06T18:32:57.468Z"
   },
   {
    "duration": 18,
    "start_time": "2024-07-06T18:33:00.078Z"
   },
   {
    "duration": 428,
    "start_time": "2024-07-06T18:33:01.802Z"
   },
   {
    "duration": 476,
    "start_time": "2024-07-06T18:33:07.632Z"
   },
   {
    "duration": 433,
    "start_time": "2024-07-06T18:33:44.406Z"
   },
   {
    "duration": 454,
    "start_time": "2024-07-06T18:34:18.906Z"
   },
   {
    "duration": 424,
    "start_time": "2024-07-06T18:35:48.204Z"
   },
   {
    "duration": 457,
    "start_time": "2024-07-06T18:35:53.808Z"
   },
   {
    "duration": 444,
    "start_time": "2024-07-06T18:36:02.807Z"
   },
   {
    "duration": 26,
    "start_time": "2024-07-06T18:36:09.581Z"
   },
   {
    "duration": 10,
    "start_time": "2024-07-06T18:36:23.577Z"
   },
   {
    "duration": 10,
    "start_time": "2024-07-06T18:36:55.296Z"
   },
   {
    "duration": 37,
    "start_time": "2024-07-06T18:38:50.302Z"
   },
   {
    "duration": 34,
    "start_time": "2024-07-06T18:40:05.502Z"
   },
   {
    "duration": 13,
    "start_time": "2024-07-06T18:41:08.797Z"
   },
   {
    "duration": 16,
    "start_time": "2024-07-06T18:41:27.450Z"
   },
   {
    "duration": 1199,
    "start_time": "2024-07-07T07:57:20.626Z"
   },
   {
    "duration": 71,
    "start_time": "2024-07-07T07:57:21.827Z"
   },
   {
    "duration": 13,
    "start_time": "2024-07-07T07:57:21.900Z"
   },
   {
    "duration": 89,
    "start_time": "2024-07-07T07:57:21.915Z"
   },
   {
    "duration": 35,
    "start_time": "2024-07-07T07:57:22.006Z"
   },
   {
    "duration": 42,
    "start_time": "2024-07-07T07:57:22.043Z"
   },
   {
    "duration": 50,
    "start_time": "2024-07-07T07:57:22.086Z"
   },
   {
    "duration": 446,
    "start_time": "2024-07-07T07:57:22.137Z"
   },
   {
    "duration": 70,
    "start_time": "2024-07-07T07:57:22.585Z"
   },
   {
    "duration": 528,
    "start_time": "2024-07-07T07:57:22.659Z"
   },
   {
    "duration": 664,
    "start_time": "2024-07-07T07:57:23.189Z"
   },
   {
    "duration": 102,
    "start_time": "2024-07-07T07:57:23.854Z"
   },
   {
    "duration": 68,
    "start_time": "2024-07-07T07:57:23.958Z"
   },
   {
    "duration": 48,
    "start_time": "2024-07-07T07:57:24.028Z"
   },
   {
    "duration": 7,
    "start_time": "2024-07-07T07:57:24.078Z"
   },
   {
    "duration": 9,
    "start_time": "2024-07-07T07:57:24.087Z"
   },
   {
    "duration": 25,
    "start_time": "2024-07-07T07:57:24.098Z"
   },
   {
    "duration": 22,
    "start_time": "2024-07-07T07:57:24.125Z"
   },
   {
    "duration": 25,
    "start_time": "2024-07-07T07:57:24.148Z"
   },
   {
    "duration": 10,
    "start_time": "2024-07-07T07:57:24.174Z"
   },
   {
    "duration": 292,
    "start_time": "2024-07-07T07:57:24.186Z"
   },
   {
    "duration": 7,
    "start_time": "2024-07-07T07:57:24.480Z"
   },
   {
    "duration": 290,
    "start_time": "2024-07-07T07:57:24.489Z"
   },
   {
    "duration": 272,
    "start_time": "2024-07-07T07:57:24.781Z"
   },
   {
    "duration": 347,
    "start_time": "2024-07-07T07:57:25.055Z"
   },
   {
    "duration": 277,
    "start_time": "2024-07-07T07:57:25.404Z"
   },
   {
    "duration": 463,
    "start_time": "2024-07-07T07:57:25.683Z"
   },
   {
    "duration": 188,
    "start_time": "2024-07-07T07:57:26.149Z"
   },
   {
    "duration": 11,
    "start_time": "2024-07-07T07:57:26.338Z"
   },
   {
    "duration": 170,
    "start_time": "2024-07-07T07:57:26.351Z"
   },
   {
    "duration": 6,
    "start_time": "2024-07-07T07:57:26.523Z"
   },
   {
    "duration": 487,
    "start_time": "2024-07-07T07:57:26.532Z"
   },
   {
    "duration": 10,
    "start_time": "2024-07-07T07:57:27.021Z"
   },
   {
    "duration": 45,
    "start_time": "2024-07-07T07:57:27.033Z"
   },
   {
    "duration": 12,
    "start_time": "2024-07-07T07:57:27.080Z"
   },
   {
    "duration": 1369,
    "start_time": "2024-07-07T07:57:58.394Z"
   },
   {
    "duration": 28,
    "start_time": "2024-07-07T07:57:59.765Z"
   },
   {
    "duration": 53,
    "start_time": "2024-07-07T07:57:59.794Z"
   },
   {
    "duration": 3,
    "start_time": "2024-07-07T07:57:59.849Z"
   },
   {
    "duration": 7,
    "start_time": "2024-07-07T07:57:59.854Z"
   },
   {
    "duration": 13,
    "start_time": "2024-07-07T07:57:59.863Z"
   },
   {
    "duration": 112,
    "start_time": "2024-07-07T07:57:59.877Z"
   },
   {
    "duration": 595,
    "start_time": "2024-07-07T07:57:59.990Z"
   },
   {
    "duration": 68,
    "start_time": "2024-07-07T07:58:00.587Z"
   },
   {
    "duration": 371,
    "start_time": "2024-07-07T07:58:00.658Z"
   },
   {
    "duration": 315,
    "start_time": "2024-07-07T07:58:01.031Z"
   },
   {
    "duration": 49,
    "start_time": "2024-07-07T07:58:01.348Z"
   },
   {
    "duration": 16,
    "start_time": "2024-07-07T07:58:01.398Z"
   },
   {
    "duration": 48,
    "start_time": "2024-07-07T07:58:01.416Z"
   },
   {
    "duration": 113,
    "start_time": "2024-07-07T07:58:01.466Z"
   },
   {
    "duration": 176,
    "start_time": "2024-07-07T07:58:01.581Z"
   },
   {
    "duration": 45,
    "start_time": "2024-07-07T07:58:01.759Z"
   },
   {
    "duration": 97,
    "start_time": "2024-07-07T07:58:01.806Z"
   },
   {
    "duration": 78,
    "start_time": "2024-07-07T07:58:01.905Z"
   },
   {
    "duration": 85,
    "start_time": "2024-07-07T07:58:01.985Z"
   },
   {
    "duration": 346,
    "start_time": "2024-07-07T07:58:02.072Z"
   },
   {
    "duration": 4,
    "start_time": "2024-07-07T07:58:02.420Z"
   },
   {
    "duration": 320,
    "start_time": "2024-07-07T07:58:02.426Z"
   },
   {
    "duration": 258,
    "start_time": "2024-07-07T07:58:02.748Z"
   },
   {
    "duration": 384,
    "start_time": "2024-07-07T07:58:03.007Z"
   },
   {
    "duration": 264,
    "start_time": "2024-07-07T07:58:03.393Z"
   },
   {
    "duration": 467,
    "start_time": "2024-07-07T07:58:03.659Z"
   },
   {
    "duration": 173,
    "start_time": "2024-07-07T07:58:04.129Z"
   },
   {
    "duration": 7,
    "start_time": "2024-07-07T07:58:04.304Z"
   },
   {
    "duration": 161,
    "start_time": "2024-07-07T07:58:04.312Z"
   },
   {
    "duration": 5,
    "start_time": "2024-07-07T07:58:04.474Z"
   },
   {
    "duration": 506,
    "start_time": "2024-07-07T07:58:04.480Z"
   },
   {
    "duration": 10,
    "start_time": "2024-07-07T07:58:04.988Z"
   },
   {
    "duration": 263,
    "start_time": "2024-07-07T07:58:04.999Z"
   },
   {
    "duration": 14,
    "start_time": "2024-07-07T07:58:05.264Z"
   }
  ],
  "kernelspec": {
   "display_name": "Python 3 (ipykernel)",
   "language": "python",
   "name": "python3"
  },
  "language_info": {
   "codemirror_mode": {
    "name": "ipython",
    "version": 3
   },
   "file_extension": ".py",
   "mimetype": "text/x-python",
   "name": "python",
   "nbconvert_exporter": "python",
   "pygments_lexer": "ipython3",
   "version": "3.11.5"
  },
  "toc": {
   "base_numbering": 1,
   "nav_menu": {},
   "number_sections": true,
   "sideBar": true,
   "skip_h1_title": true,
   "title_cell": "Table of Contents",
   "title_sidebar": "Contents",
   "toc_cell": false,
   "toc_position": {},
   "toc_section_display": true,
   "toc_window_display": false
  }
 },
 "nbformat": 4,
 "nbformat_minor": 2
}
