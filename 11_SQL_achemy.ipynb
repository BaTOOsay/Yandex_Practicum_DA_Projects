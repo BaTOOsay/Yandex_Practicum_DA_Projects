{
 "cells": [
  {
   "cell_type": "markdown",
   "id": "7528f7d1",
   "metadata": {},
   "source": [
    "# Исследование базы данных книжного приложения"
   ]
  },
  {
   "cell_type": "markdown",
   "id": "7bc71d3f",
   "metadata": {},
   "source": [
    "**Цель проекта:**\n",
    "\n",
    "В нашем распоряжении доступ к базе данных книжного приложения, присутствует подробная документация и список необходимых заказчику задач для выполнения. Нашей конечной целью является проведения исследования для данных книжного приложения: знакомство с отношениями и атрибутами, наполнением таблиц, объёмом , а также поиском ответов необходимых заказчику (список необходимых задач приведён ниже). Итог каждого запроса необходимо сохранить в переменные для предоставления заказчику для дальнейших манипуляций.\n",
    "\n",
    "**Задачи:**\n",
    "- [Исследуйте таблицы — выведите первые строки, посчитайте количество строк в каждой таблице](#1);\n",
    "- [Посчитайте, сколько книг вышло после 1 января 2000 года](#2);\n",
    "- [Для каждой книги посчитайте количество обзоров и среднюю оценку](#3);\n",
    "- [Определите издательство, которое выпустило наибольшее число книг толще 50 страниц — так вы исключите из анализа брошюры](#4);\n",
    "- [Определите автора с самой высокой средней оценкой книг — учитывайте только книги с 50 и более оценками](#5);\n",
    "- [Посчитайте среднее количество обзоров от пользователей, которые поставили больше 48 оценок](#6)."
   ]
  },
  {
   "cell_type": "markdown",
   "id": "22a9a0d1",
   "metadata": {},
   "source": [
    "**Документация к базе данных:**\n",
    "\n",
    "Таблица books:\n",
    "Содержит данные о книгах.\n",
    "- book_id — идентификатор книги;\n",
    "- author_id — идентификатор автора;\n",
    "- title — название книги;\n",
    "- num_pages — количество страниц;\n",
    "- publication_date — дата публикации книги;\n",
    "- publisher_id — идентификатор издателя.\n",
    "\n",
    "\n",
    "Таблица authors:\n",
    "Содержит данные об авторах.\n",
    "- author_id — идентификатор автора;\n",
    "- author — имя автора.\n",
    "\n",
    "\n",
    "Таблица publishers:\n",
    "Содержит данные об издательствах.\n",
    "- publisher_id — идентификатор издательства;\n",
    "- publisher — название издательства.\n",
    "\n",
    "\n",
    "Таблица ratings:\n",
    "Содержит данные о пользовательских оценках книг.\n",
    "- rating_id — идентификатор оценки;\n",
    "- book_id — идентификатор книги;\n",
    "- username — имя пользователя, оставившего оценку;\n",
    "- rating — оценка книги.\n",
    "\n",
    "\n",
    "Таблица reviews:\n",
    "Содержит данные о пользовательских обзорах на книги.\n",
    "- review_id — идентификатор обзора;\n",
    "- book_id — идентификатор книги;\n",
    "- username — имя пользователя, написавшего обзор;\n",
    "- text — текст обзора."
   ]
  },
  {
   "cell_type": "markdown",
   "metadata": {},
   "source": [
    "![описание базы данных](описание_бд.png)"
   ]
  },
  {
   "cell_type": "markdown",
   "id": "031f45ea",
   "metadata": {},
   "source": [
    "Подключим необходимые для работы библиотеки:"
   ]
  },
  {
   "cell_type": "code",
   "execution_count": 1,
   "id": "3e481f84",
   "metadata": {
    "ExecuteTime": {
     "end_time": "2024-10-02T22:15:45.917599Z",
     "start_time": "2024-10-02T22:15:45.914406Z"
    }
   },
   "outputs": [],
   "source": [
    "# импортируем библиотеки\n",
    "import pandas as pd   \n",
    "import sqlalchemy as sa  # Импортируем SQLAlchemy для работы с БД через ORM (Object-Relational Mapping)"
   ]
  },
  {
   "cell_type": "markdown",
   "id": "85ef09a2",
   "metadata": {},
   "source": [
    "Создадим словарь, который будет хранить параметры для подключения к базе данных:"
   ]
  },
  {
   "cell_type": "code",
   "execution_count": 2,
   "id": "1a8a1de5",
   "metadata": {
    "ExecuteTime": {
     "end_time": "2024-10-02T22:17:38.496648Z",
     "start_time": "2024-10-02T22:17:38.492384Z"
    }
   },
   "outputs": [],
   "source": [
    "# устанавливаем параметры\n",
    "# устанавливаем параметры\n",
    "db_config = {\n",
    "'user': 'praktikum_student', # имя пользователя\n",
    "'pwd': 'Sdf4$2;d-d30pp', # пароль\n",
    "'host': 'rc1b-wcoijxj3yxfsf3fs.mdb.yandexcloud.net',\n",
    "'port': 6432, # порт подключения\n",
    "'db': 'data-analyst-final-project-db' # название базы данных\n",
    "}"
   ]
  },
  {
   "cell_type": "markdown",
   "id": "ef5ec5ea",
   "metadata": {},
   "source": [
    "Сформируем строку подключения к БД в формате, который поддерживает PostgreSQL. Параметры берутся из словаря db_config и подставляются в соответствующие места."
   ]
  },
  {
   "cell_type": "code",
   "execution_count": 3,
   "id": "eddd7dbc",
   "metadata": {
    "ExecuteTime": {
     "end_time": "2024-10-02T22:17:40.726174Z",
     "start_time": "2024-10-02T22:17:40.723285Z"
    }
   },
   "outputs": [],
   "source": [
    "connection_string = 'postgresql://{user}:{pwd}@{host}:{port}/{db}'.format(**db_config)"
   ]
  },
  {
   "cell_type": "markdown",
   "id": "ca1379d1",
   "metadata": {},
   "source": [
    "Создадим объект engine с использованием метода create_engine из SQLAlchemy. \n",
    "\n",
    "Этот объект отвечает за управление соединением с базой данных. В параметре connect_args указано, что необходимо использовать SSL для безопасного подключения (sslmode='require')."
   ]
  },
  {
   "cell_type": "code",
   "execution_count": 4,
   "id": "5684456f",
   "metadata": {
    "ExecuteTime": {
     "end_time": "2024-10-02T22:17:42.088993Z",
     "start_time": "2024-10-02T22:17:42.085334Z"
    }
   },
   "outputs": [],
   "source": [
    "# сохраняем коннектор\n",
    "engine = sa.create_engine(connection_string, connect_args={'sslmode':'require'})"
   ]
  },
  {
   "cell_type": "markdown",
   "id": "82976c3c",
   "metadata": {},
   "source": [
    "Создадим функцию get_sql_data, которая выполняет SQL-запрос к базе данных.\n",
    "Параметры функции: query (строка с SQL-запросом) и engine (объект подключения, по умолчанию используется ранее созданный).\n",
    "Открывается соединение с базой данных с помощью контекстного менеджера with.\n",
    "Выполняется SQL-запрос с помощью метода Pandas read_sql, результат возвращается в формате датафрейма.\n",
    "По завершении выполнения запроса соединение автоматически закрывается."
   ]
  },
  {
   "cell_type": "code",
   "execution_count": 5,
   "id": "6200b059",
   "metadata": {
    "ExecuteTime": {
     "end_time": "2024-10-02T22:17:42.933165Z",
     "start_time": "2024-10-02T22:17:42.928890Z"
    }
   },
   "outputs": [],
   "source": [
    "# чтобы выполнить SQL-запрос, пишем функцию с использованием Pandas\n",
    "def get_sql_data(query: str, engine: sa.engine.base.Engine=engine) -> pd.DataFrame:\n",
    "    '''Открываем соединение, получаем данные из sql, закрываем соединение'''\n",
    "    with engine.connect() as con:  # Открываем соединение\n",
    "        return pd.read_sql(sql=sa.text(query), con=con)  # Выполняем запрос и возвращаем результат как DataFrame"
   ]
  },
  {
   "cell_type": "markdown",
   "metadata": {},
   "source": [
    "Введём простой запрос для проверки корректности работы:"
   ]
  },
  {
   "cell_type": "code",
   "execution_count": 6,
   "id": "886238ff",
   "metadata": {
    "ExecuteTime": {
     "end_time": "2024-10-02T22:33:22.647196Z",
     "start_time": "2024-10-02T22:33:22.581602Z"
    },
    "code_folding": [],
    "scrolled": false
   },
   "outputs": [
    {
     "data": {
      "text/html": [
       "<div>\n",
       "<style scoped>\n",
       "    .dataframe tbody tr th:only-of-type {\n",
       "        vertical-align: middle;\n",
       "    }\n",
       "\n",
       "    .dataframe tbody tr th {\n",
       "        vertical-align: top;\n",
       "    }\n",
       "\n",
       "    .dataframe thead th {\n",
       "        text-align: right;\n",
       "    }\n",
       "</style>\n",
       "<table border=\"1\" class=\"dataframe\">\n",
       "  <thead>\n",
       "    <tr style=\"text-align: right;\">\n",
       "      <th></th>\n",
       "      <th>book_id</th>\n",
       "      <th>author_id</th>\n",
       "      <th>title</th>\n",
       "      <th>num_pages</th>\n",
       "      <th>publication_date</th>\n",
       "      <th>publisher_id</th>\n",
       "    </tr>\n",
       "  </thead>\n",
       "  <tbody>\n",
       "    <tr>\n",
       "      <th>0</th>\n",
       "      <td>1</td>\n",
       "      <td>546</td>\n",
       "      <td>'Salem's Lot</td>\n",
       "      <td>594</td>\n",
       "      <td>2005-11-01</td>\n",
       "      <td>93</td>\n",
       "    </tr>\n",
       "    <tr>\n",
       "      <th>1</th>\n",
       "      <td>2</td>\n",
       "      <td>465</td>\n",
       "      <td>1 000 Places to See Before You Die</td>\n",
       "      <td>992</td>\n",
       "      <td>2003-05-22</td>\n",
       "      <td>336</td>\n",
       "    </tr>\n",
       "    <tr>\n",
       "      <th>2</th>\n",
       "      <td>3</td>\n",
       "      <td>407</td>\n",
       "      <td>13 Little Blue Envelopes (Little Blue Envelope...</td>\n",
       "      <td>322</td>\n",
       "      <td>2010-12-21</td>\n",
       "      <td>135</td>\n",
       "    </tr>\n",
       "  </tbody>\n",
       "</table>\n",
       "</div>"
      ],
      "text/plain": [
       "   book_id  author_id                                              title  \\\n",
       "0        1        546                                       'Salem's Lot   \n",
       "1        2        465                 1 000 Places to See Before You Die   \n",
       "2        3        407  13 Little Blue Envelopes (Little Blue Envelope...   \n",
       "\n",
       "   num_pages publication_date  publisher_id  \n",
       "0        594       2005-11-01            93  \n",
       "1        992       2003-05-22           336  \n",
       "2        322       2010-12-21           135  "
      ]
     },
     "execution_count": 6,
     "metadata": {},
     "output_type": "execute_result"
    }
   ],
   "source": [
    "# формируем запрос и выводим данные\n",
    "query = '''SELECT * FROM books LIMIT 3'''\n",
    "get_sql_data(query)"
   ]
  },
  {
   "cell_type": "markdown",
   "metadata": {},
   "source": [
    "Всё работает, начнём исследование!"
   ]
  },
  {
   "cell_type": "markdown",
   "metadata": {},
   "source": [
    "## Исследуйте таблицы — выведите первые строки, посчитайте количество строк в каждой таблице.\n",
    "<a id=\"1\"></a>"
   ]
  },
  {
   "cell_type": "markdown",
   "metadata": {},
   "source": [
    "Напишем для этого задания функцию которая выведет количество записей в таблицах и первые 5-ть записей в каждой таблице. Создание функции необходимо для того чтобы в дальнейшем если база данных пополнится иными таблицами, мы могли с лёгкостью перепровести подобную работу без сложных изменений в коде, а также в целом данная функция может пригодиться в других работах."
   ]
  },
  {
   "cell_type": "code",
   "execution_count": 7,
   "metadata": {
    "ExecuteTime": {
     "end_time": "2024-10-02T23:10:44.384712Z",
     "start_time": "2024-10-02T23:10:44.380523Z"
    }
   },
   "outputs": [],
   "source": [
    "def display_table_info(sql_tables_name):\n",
    "    \"\"\"\n",
    "    Функция для отображения количества записей и первых 5 строк в каждой таблице из списка sql_tables_name.\n",
    "    \n",
    "    Параметры:\n",
    "    sql_tables_name (list): Список названий таблиц.\n",
    "    \"\"\"\n",
    "    \n",
    "    # Проходим по каждому имени таблицы\n",
    "    for table_name in sql_tables_name:\n",
    "        # Запрос вывода количества записей в таблице\n",
    "        print(f'Результат выполнения запроса: найти количество записей в таблице {table_name}:')\n",
    "        query = f'''SELECT COUNT(*) FROM {table_name}'''\n",
    "        display(get_sql_data(query))  # Функция для выполнения SQL-запроса и отображения результата\n",
    "\n",
    "        # Запрос вывода первых 5 записей\n",
    "        print(f'\\t\\t\\tПервые 5 записей таблицы - {table_name}:')\n",
    "        query = f'''SELECT * FROM {table_name} LIMIT 5'''\n",
    "        display(get_sql_data(query))\n",
    "        \n",
    "        # Пропуск двух строк для разделения вывода\n",
    "        print()\n",
    "        print()"
   ]
  },
  {
   "cell_type": "code",
   "execution_count": 8,
   "metadata": {
    "ExecuteTime": {
     "end_time": "2024-10-02T23:15:28.013320Z",
     "start_time": "2024-10-02T23:15:26.829600Z"
    }
   },
   "outputs": [
    {
     "name": "stdout",
     "output_type": "stream",
     "text": [
      "Результат выполнения запроса: найти количество записей в таблице books:\n"
     ]
    },
    {
     "data": {
      "text/html": [
       "<div>\n",
       "<style scoped>\n",
       "    .dataframe tbody tr th:only-of-type {\n",
       "        vertical-align: middle;\n",
       "    }\n",
       "\n",
       "    .dataframe tbody tr th {\n",
       "        vertical-align: top;\n",
       "    }\n",
       "\n",
       "    .dataframe thead th {\n",
       "        text-align: right;\n",
       "    }\n",
       "</style>\n",
       "<table border=\"1\" class=\"dataframe\">\n",
       "  <thead>\n",
       "    <tr style=\"text-align: right;\">\n",
       "      <th></th>\n",
       "      <th>count</th>\n",
       "    </tr>\n",
       "  </thead>\n",
       "  <tbody>\n",
       "    <tr>\n",
       "      <th>0</th>\n",
       "      <td>1000</td>\n",
       "    </tr>\n",
       "  </tbody>\n",
       "</table>\n",
       "</div>"
      ],
      "text/plain": [
       "   count\n",
       "0   1000"
      ]
     },
     "metadata": {},
     "output_type": "display_data"
    },
    {
     "name": "stdout",
     "output_type": "stream",
     "text": [
      "\t\t\tПервые 5 записей таблицы - books:\n"
     ]
    },
    {
     "data": {
      "text/html": [
       "<div>\n",
       "<style scoped>\n",
       "    .dataframe tbody tr th:only-of-type {\n",
       "        vertical-align: middle;\n",
       "    }\n",
       "\n",
       "    .dataframe tbody tr th {\n",
       "        vertical-align: top;\n",
       "    }\n",
       "\n",
       "    .dataframe thead th {\n",
       "        text-align: right;\n",
       "    }\n",
       "</style>\n",
       "<table border=\"1\" class=\"dataframe\">\n",
       "  <thead>\n",
       "    <tr style=\"text-align: right;\">\n",
       "      <th></th>\n",
       "      <th>book_id</th>\n",
       "      <th>author_id</th>\n",
       "      <th>title</th>\n",
       "      <th>num_pages</th>\n",
       "      <th>publication_date</th>\n",
       "      <th>publisher_id</th>\n",
       "    </tr>\n",
       "  </thead>\n",
       "  <tbody>\n",
       "    <tr>\n",
       "      <th>0</th>\n",
       "      <td>1</td>\n",
       "      <td>546</td>\n",
       "      <td>'Salem's Lot</td>\n",
       "      <td>594</td>\n",
       "      <td>2005-11-01</td>\n",
       "      <td>93</td>\n",
       "    </tr>\n",
       "    <tr>\n",
       "      <th>1</th>\n",
       "      <td>2</td>\n",
       "      <td>465</td>\n",
       "      <td>1 000 Places to See Before You Die</td>\n",
       "      <td>992</td>\n",
       "      <td>2003-05-22</td>\n",
       "      <td>336</td>\n",
       "    </tr>\n",
       "    <tr>\n",
       "      <th>2</th>\n",
       "      <td>3</td>\n",
       "      <td>407</td>\n",
       "      <td>13 Little Blue Envelopes (Little Blue Envelope...</td>\n",
       "      <td>322</td>\n",
       "      <td>2010-12-21</td>\n",
       "      <td>135</td>\n",
       "    </tr>\n",
       "    <tr>\n",
       "      <th>3</th>\n",
       "      <td>4</td>\n",
       "      <td>82</td>\n",
       "      <td>1491: New Revelations of the Americas Before C...</td>\n",
       "      <td>541</td>\n",
       "      <td>2006-10-10</td>\n",
       "      <td>309</td>\n",
       "    </tr>\n",
       "    <tr>\n",
       "      <th>4</th>\n",
       "      <td>5</td>\n",
       "      <td>125</td>\n",
       "      <td>1776</td>\n",
       "      <td>386</td>\n",
       "      <td>2006-07-04</td>\n",
       "      <td>268</td>\n",
       "    </tr>\n",
       "  </tbody>\n",
       "</table>\n",
       "</div>"
      ],
      "text/plain": [
       "   book_id  author_id                                              title  \\\n",
       "0        1        546                                       'Salem's Lot   \n",
       "1        2        465                 1 000 Places to See Before You Die   \n",
       "2        3        407  13 Little Blue Envelopes (Little Blue Envelope...   \n",
       "3        4         82  1491: New Revelations of the Americas Before C...   \n",
       "4        5        125                                               1776   \n",
       "\n",
       "   num_pages publication_date  publisher_id  \n",
       "0        594       2005-11-01            93  \n",
       "1        992       2003-05-22           336  \n",
       "2        322       2010-12-21           135  \n",
       "3        541       2006-10-10           309  \n",
       "4        386       2006-07-04           268  "
      ]
     },
     "metadata": {},
     "output_type": "display_data"
    },
    {
     "name": "stdout",
     "output_type": "stream",
     "text": [
      "\n",
      "\n",
      "Результат выполнения запроса: найти количество записей в таблице authors:\n"
     ]
    },
    {
     "data": {
      "text/html": [
       "<div>\n",
       "<style scoped>\n",
       "    .dataframe tbody tr th:only-of-type {\n",
       "        vertical-align: middle;\n",
       "    }\n",
       "\n",
       "    .dataframe tbody tr th {\n",
       "        vertical-align: top;\n",
       "    }\n",
       "\n",
       "    .dataframe thead th {\n",
       "        text-align: right;\n",
       "    }\n",
       "</style>\n",
       "<table border=\"1\" class=\"dataframe\">\n",
       "  <thead>\n",
       "    <tr style=\"text-align: right;\">\n",
       "      <th></th>\n",
       "      <th>count</th>\n",
       "    </tr>\n",
       "  </thead>\n",
       "  <tbody>\n",
       "    <tr>\n",
       "      <th>0</th>\n",
       "      <td>636</td>\n",
       "    </tr>\n",
       "  </tbody>\n",
       "</table>\n",
       "</div>"
      ],
      "text/plain": [
       "   count\n",
       "0    636"
      ]
     },
     "metadata": {},
     "output_type": "display_data"
    },
    {
     "name": "stdout",
     "output_type": "stream",
     "text": [
      "\t\t\tПервые 5 записей таблицы - authors:\n"
     ]
    },
    {
     "data": {
      "text/html": [
       "<div>\n",
       "<style scoped>\n",
       "    .dataframe tbody tr th:only-of-type {\n",
       "        vertical-align: middle;\n",
       "    }\n",
       "\n",
       "    .dataframe tbody tr th {\n",
       "        vertical-align: top;\n",
       "    }\n",
       "\n",
       "    .dataframe thead th {\n",
       "        text-align: right;\n",
       "    }\n",
       "</style>\n",
       "<table border=\"1\" class=\"dataframe\">\n",
       "  <thead>\n",
       "    <tr style=\"text-align: right;\">\n",
       "      <th></th>\n",
       "      <th>author_id</th>\n",
       "      <th>author</th>\n",
       "    </tr>\n",
       "  </thead>\n",
       "  <tbody>\n",
       "    <tr>\n",
       "      <th>0</th>\n",
       "      <td>1</td>\n",
       "      <td>A.S. Byatt</td>\n",
       "    </tr>\n",
       "    <tr>\n",
       "      <th>1</th>\n",
       "      <td>2</td>\n",
       "      <td>Aesop/Laura Harris/Laura Gibbs</td>\n",
       "    </tr>\n",
       "    <tr>\n",
       "      <th>2</th>\n",
       "      <td>3</td>\n",
       "      <td>Agatha Christie</td>\n",
       "    </tr>\n",
       "    <tr>\n",
       "      <th>3</th>\n",
       "      <td>4</td>\n",
       "      <td>Alan Brennert</td>\n",
       "    </tr>\n",
       "    <tr>\n",
       "      <th>4</th>\n",
       "      <td>5</td>\n",
       "      <td>Alan Moore/David   Lloyd</td>\n",
       "    </tr>\n",
       "  </tbody>\n",
       "</table>\n",
       "</div>"
      ],
      "text/plain": [
       "   author_id                          author\n",
       "0          1                      A.S. Byatt\n",
       "1          2  Aesop/Laura Harris/Laura Gibbs\n",
       "2          3                 Agatha Christie\n",
       "3          4                   Alan Brennert\n",
       "4          5        Alan Moore/David   Lloyd"
      ]
     },
     "metadata": {},
     "output_type": "display_data"
    },
    {
     "name": "stdout",
     "output_type": "stream",
     "text": [
      "\n",
      "\n",
      "Результат выполнения запроса: найти количество записей в таблице publishers:\n"
     ]
    },
    {
     "data": {
      "text/html": [
       "<div>\n",
       "<style scoped>\n",
       "    .dataframe tbody tr th:only-of-type {\n",
       "        vertical-align: middle;\n",
       "    }\n",
       "\n",
       "    .dataframe tbody tr th {\n",
       "        vertical-align: top;\n",
       "    }\n",
       "\n",
       "    .dataframe thead th {\n",
       "        text-align: right;\n",
       "    }\n",
       "</style>\n",
       "<table border=\"1\" class=\"dataframe\">\n",
       "  <thead>\n",
       "    <tr style=\"text-align: right;\">\n",
       "      <th></th>\n",
       "      <th>count</th>\n",
       "    </tr>\n",
       "  </thead>\n",
       "  <tbody>\n",
       "    <tr>\n",
       "      <th>0</th>\n",
       "      <td>340</td>\n",
       "    </tr>\n",
       "  </tbody>\n",
       "</table>\n",
       "</div>"
      ],
      "text/plain": [
       "   count\n",
       "0    340"
      ]
     },
     "metadata": {},
     "output_type": "display_data"
    },
    {
     "name": "stdout",
     "output_type": "stream",
     "text": [
      "\t\t\tПервые 5 записей таблицы - publishers:\n"
     ]
    },
    {
     "data": {
      "text/html": [
       "<div>\n",
       "<style scoped>\n",
       "    .dataframe tbody tr th:only-of-type {\n",
       "        vertical-align: middle;\n",
       "    }\n",
       "\n",
       "    .dataframe tbody tr th {\n",
       "        vertical-align: top;\n",
       "    }\n",
       "\n",
       "    .dataframe thead th {\n",
       "        text-align: right;\n",
       "    }\n",
       "</style>\n",
       "<table border=\"1\" class=\"dataframe\">\n",
       "  <thead>\n",
       "    <tr style=\"text-align: right;\">\n",
       "      <th></th>\n",
       "      <th>publisher_id</th>\n",
       "      <th>publisher</th>\n",
       "    </tr>\n",
       "  </thead>\n",
       "  <tbody>\n",
       "    <tr>\n",
       "      <th>0</th>\n",
       "      <td>1</td>\n",
       "      <td>Ace</td>\n",
       "    </tr>\n",
       "    <tr>\n",
       "      <th>1</th>\n",
       "      <td>2</td>\n",
       "      <td>Ace Book</td>\n",
       "    </tr>\n",
       "    <tr>\n",
       "      <th>2</th>\n",
       "      <td>3</td>\n",
       "      <td>Ace Books</td>\n",
       "    </tr>\n",
       "    <tr>\n",
       "      <th>3</th>\n",
       "      <td>4</td>\n",
       "      <td>Ace Hardcover</td>\n",
       "    </tr>\n",
       "    <tr>\n",
       "      <th>4</th>\n",
       "      <td>5</td>\n",
       "      <td>Addison Wesley Publishing Company</td>\n",
       "    </tr>\n",
       "  </tbody>\n",
       "</table>\n",
       "</div>"
      ],
      "text/plain": [
       "   publisher_id                          publisher\n",
       "0             1                                Ace\n",
       "1             2                           Ace Book\n",
       "2             3                          Ace Books\n",
       "3             4                      Ace Hardcover\n",
       "4             5  Addison Wesley Publishing Company"
      ]
     },
     "metadata": {},
     "output_type": "display_data"
    },
    {
     "name": "stdout",
     "output_type": "stream",
     "text": [
      "\n",
      "\n",
      "Результат выполнения запроса: найти количество записей в таблице ratings:\n"
     ]
    },
    {
     "data": {
      "text/html": [
       "<div>\n",
       "<style scoped>\n",
       "    .dataframe tbody tr th:only-of-type {\n",
       "        vertical-align: middle;\n",
       "    }\n",
       "\n",
       "    .dataframe tbody tr th {\n",
       "        vertical-align: top;\n",
       "    }\n",
       "\n",
       "    .dataframe thead th {\n",
       "        text-align: right;\n",
       "    }\n",
       "</style>\n",
       "<table border=\"1\" class=\"dataframe\">\n",
       "  <thead>\n",
       "    <tr style=\"text-align: right;\">\n",
       "      <th></th>\n",
       "      <th>count</th>\n",
       "    </tr>\n",
       "  </thead>\n",
       "  <tbody>\n",
       "    <tr>\n",
       "      <th>0</th>\n",
       "      <td>6456</td>\n",
       "    </tr>\n",
       "  </tbody>\n",
       "</table>\n",
       "</div>"
      ],
      "text/plain": [
       "   count\n",
       "0   6456"
      ]
     },
     "metadata": {},
     "output_type": "display_data"
    },
    {
     "name": "stdout",
     "output_type": "stream",
     "text": [
      "\t\t\tПервые 5 записей таблицы - ratings:\n"
     ]
    },
    {
     "data": {
      "text/html": [
       "<div>\n",
       "<style scoped>\n",
       "    .dataframe tbody tr th:only-of-type {\n",
       "        vertical-align: middle;\n",
       "    }\n",
       "\n",
       "    .dataframe tbody tr th {\n",
       "        vertical-align: top;\n",
       "    }\n",
       "\n",
       "    .dataframe thead th {\n",
       "        text-align: right;\n",
       "    }\n",
       "</style>\n",
       "<table border=\"1\" class=\"dataframe\">\n",
       "  <thead>\n",
       "    <tr style=\"text-align: right;\">\n",
       "      <th></th>\n",
       "      <th>rating_id</th>\n",
       "      <th>book_id</th>\n",
       "      <th>username</th>\n",
       "      <th>rating</th>\n",
       "    </tr>\n",
       "  </thead>\n",
       "  <tbody>\n",
       "    <tr>\n",
       "      <th>0</th>\n",
       "      <td>1</td>\n",
       "      <td>1</td>\n",
       "      <td>ryanfranco</td>\n",
       "      <td>4</td>\n",
       "    </tr>\n",
       "    <tr>\n",
       "      <th>1</th>\n",
       "      <td>2</td>\n",
       "      <td>1</td>\n",
       "      <td>grantpatricia</td>\n",
       "      <td>2</td>\n",
       "    </tr>\n",
       "    <tr>\n",
       "      <th>2</th>\n",
       "      <td>3</td>\n",
       "      <td>1</td>\n",
       "      <td>brandtandrea</td>\n",
       "      <td>5</td>\n",
       "    </tr>\n",
       "    <tr>\n",
       "      <th>3</th>\n",
       "      <td>4</td>\n",
       "      <td>2</td>\n",
       "      <td>lorichen</td>\n",
       "      <td>3</td>\n",
       "    </tr>\n",
       "    <tr>\n",
       "      <th>4</th>\n",
       "      <td>5</td>\n",
       "      <td>2</td>\n",
       "      <td>mariokeller</td>\n",
       "      <td>2</td>\n",
       "    </tr>\n",
       "  </tbody>\n",
       "</table>\n",
       "</div>"
      ],
      "text/plain": [
       "   rating_id  book_id       username  rating\n",
       "0          1        1     ryanfranco       4\n",
       "1          2        1  grantpatricia       2\n",
       "2          3        1   brandtandrea       5\n",
       "3          4        2       lorichen       3\n",
       "4          5        2    mariokeller       2"
      ]
     },
     "metadata": {},
     "output_type": "display_data"
    },
    {
     "name": "stdout",
     "output_type": "stream",
     "text": [
      "\n",
      "\n",
      "Результат выполнения запроса: найти количество записей в таблице reviews:\n"
     ]
    },
    {
     "data": {
      "text/html": [
       "<div>\n",
       "<style scoped>\n",
       "    .dataframe tbody tr th:only-of-type {\n",
       "        vertical-align: middle;\n",
       "    }\n",
       "\n",
       "    .dataframe tbody tr th {\n",
       "        vertical-align: top;\n",
       "    }\n",
       "\n",
       "    .dataframe thead th {\n",
       "        text-align: right;\n",
       "    }\n",
       "</style>\n",
       "<table border=\"1\" class=\"dataframe\">\n",
       "  <thead>\n",
       "    <tr style=\"text-align: right;\">\n",
       "      <th></th>\n",
       "      <th>count</th>\n",
       "    </tr>\n",
       "  </thead>\n",
       "  <tbody>\n",
       "    <tr>\n",
       "      <th>0</th>\n",
       "      <td>2793</td>\n",
       "    </tr>\n",
       "  </tbody>\n",
       "</table>\n",
       "</div>"
      ],
      "text/plain": [
       "   count\n",
       "0   2793"
      ]
     },
     "metadata": {},
     "output_type": "display_data"
    },
    {
     "name": "stdout",
     "output_type": "stream",
     "text": [
      "\t\t\tПервые 5 записей таблицы - reviews:\n"
     ]
    },
    {
     "data": {
      "text/html": [
       "<div>\n",
       "<style scoped>\n",
       "    .dataframe tbody tr th:only-of-type {\n",
       "        vertical-align: middle;\n",
       "    }\n",
       "\n",
       "    .dataframe tbody tr th {\n",
       "        vertical-align: top;\n",
       "    }\n",
       "\n",
       "    .dataframe thead th {\n",
       "        text-align: right;\n",
       "    }\n",
       "</style>\n",
       "<table border=\"1\" class=\"dataframe\">\n",
       "  <thead>\n",
       "    <tr style=\"text-align: right;\">\n",
       "      <th></th>\n",
       "      <th>review_id</th>\n",
       "      <th>book_id</th>\n",
       "      <th>username</th>\n",
       "      <th>text</th>\n",
       "    </tr>\n",
       "  </thead>\n",
       "  <tbody>\n",
       "    <tr>\n",
       "      <th>0</th>\n",
       "      <td>1</td>\n",
       "      <td>1</td>\n",
       "      <td>brandtandrea</td>\n",
       "      <td>Mention society tell send professor analysis. ...</td>\n",
       "    </tr>\n",
       "    <tr>\n",
       "      <th>1</th>\n",
       "      <td>2</td>\n",
       "      <td>1</td>\n",
       "      <td>ryanfranco</td>\n",
       "      <td>Foot glass pretty audience hit themselves. Amo...</td>\n",
       "    </tr>\n",
       "    <tr>\n",
       "      <th>2</th>\n",
       "      <td>3</td>\n",
       "      <td>2</td>\n",
       "      <td>lorichen</td>\n",
       "      <td>Listen treat keep worry. Miss husband tax but ...</td>\n",
       "    </tr>\n",
       "    <tr>\n",
       "      <th>3</th>\n",
       "      <td>4</td>\n",
       "      <td>3</td>\n",
       "      <td>johnsonamanda</td>\n",
       "      <td>Finally month interesting blue could nature cu...</td>\n",
       "    </tr>\n",
       "    <tr>\n",
       "      <th>4</th>\n",
       "      <td>5</td>\n",
       "      <td>3</td>\n",
       "      <td>scotttamara</td>\n",
       "      <td>Nation purpose heavy give wait song will. List...</td>\n",
       "    </tr>\n",
       "  </tbody>\n",
       "</table>\n",
       "</div>"
      ],
      "text/plain": [
       "   review_id  book_id       username  \\\n",
       "0          1        1   brandtandrea   \n",
       "1          2        1     ryanfranco   \n",
       "2          3        2       lorichen   \n",
       "3          4        3  johnsonamanda   \n",
       "4          5        3    scotttamara   \n",
       "\n",
       "                                                text  \n",
       "0  Mention society tell send professor analysis. ...  \n",
       "1  Foot glass pretty audience hit themselves. Amo...  \n",
       "2  Listen treat keep worry. Miss husband tax but ...  \n",
       "3  Finally month interesting blue could nature cu...  \n",
       "4  Nation purpose heavy give wait song will. List...  "
      ]
     },
     "metadata": {},
     "output_type": "display_data"
    },
    {
     "name": "stdout",
     "output_type": "stream",
     "text": [
      "\n",
      "\n"
     ]
    }
   ],
   "source": [
    "# Вызов функции для \n",
    "sql_tables_name = ['books', 'authors', 'publishers', 'ratings', 'reviews'] # Названия имеющихся таблиц\n",
    "display_table_info(sql_tables_name)"
   ]
  },
  {
   "cell_type": "markdown",
   "metadata": {},
   "source": [
    "Первичное ознакомление с таблицами показало следующее:\n",
    "\n",
    "1) Таблица books:\n",
    "- количество записей = 1000;\n",
    "- всего 6 атрибутов согласно документации и запросу;\n",
    "- из особенностей: ничего, все записи были предсказуемыми на основе документации.\n",
    "\n",
    "2) Таблица authors:\n",
    "- количество записей = 636;\n",
    "- всего 2 атрибута согласно документации и запросу;\n",
    "- из особенностей: у наименования авторов свободный формат подачи - могут быть инициалы и фамилия, может быть имя и фамилия, могут быть фамилии через / и т.д.\n",
    "\n",
    "3) Таблица publishers:\n",
    "- количество записей = 340;\n",
    "- всего 2 атрибута согласно документации и запросу;\n",
    "- из особенностей: ничего, все записи были предсказуемыми на основе документации.\n",
    "\n",
    "4) Таблица ratings:\n",
    "- количество записей = 6456;\n",
    "- всего 4 атрибута согласно документации и запросу;\n",
    "- из особенностей: ничего, все записи были предсказуемыми на основе документации.\n",
    "\n",
    "5) Таблица reviews:\n",
    "- количество записей = 2793;\n",
    "- всего 4 атрибута согласно документации и запросу;\n",
    "- из особенностей: ничего, все записи были предсказуемыми на основе документации."
   ]
  },
  {
   "cell_type": "markdown",
   "metadata": {},
   "source": [
    "## Посчитайте, сколько книг вышло после 1 января 2000 года.\n",
    "<a id=\"2\"></a>"
   ]
  },
  {
   "cell_type": "code",
   "execution_count": 9,
   "metadata": {
    "ExecuteTime": {
     "end_time": "2024-10-02T23:54:12.973277Z",
     "start_time": "2024-10-02T23:54:12.860683Z"
    }
   },
   "outputs": [
    {
     "data": {
      "text/html": [
       "<div>\n",
       "<style scoped>\n",
       "    .dataframe tbody tr th:only-of-type {\n",
       "        vertical-align: middle;\n",
       "    }\n",
       "\n",
       "    .dataframe tbody tr th {\n",
       "        vertical-align: top;\n",
       "    }\n",
       "\n",
       "    .dataframe thead th {\n",
       "        text-align: right;\n",
       "    }\n",
       "</style>\n",
       "<table border=\"1\" class=\"dataframe\">\n",
       "  <thead>\n",
       "    <tr style=\"text-align: right;\">\n",
       "      <th></th>\n",
       "      <th>total_books_after_2000</th>\n",
       "    </tr>\n",
       "  </thead>\n",
       "  <tbody>\n",
       "    <tr>\n",
       "      <th>0</th>\n",
       "      <td>819</td>\n",
       "    </tr>\n",
       "  </tbody>\n",
       "</table>\n",
       "</div>"
      ],
      "text/plain": [
       "   total_books_after_2000\n",
       "0                     819"
      ]
     },
     "metadata": {},
     "output_type": "display_data"
    }
   ],
   "source": [
    "query = '''SELECT COUNT(*) AS total_books_after_2000\n",
    "           FROM books\n",
    "           WHERE publication_date > '2000-01-01';\n",
    "'''\n",
    "task_1 = get_sql_data(query)\n",
    "display(task_1)"
   ]
  },
  {
   "cell_type": "markdown",
   "metadata": {},
   "source": [
    "Задача №1\n",
    "\n",
    "Формулировка задачи: Посчитайте, сколько книг вышло после 1 января 2000 года.\n",
    "\n",
    "Ответ: после 1 января 2000 года вышло 819 книг.\n",
    "\n",
    "Результат запроса лежит в переменной - task_1."
   ]
  },
  {
   "cell_type": "markdown",
   "metadata": {},
   "source": [
    "## Для каждой книги посчитайте количество обзоров и среднюю оценку.\n",
    "<a id=\"3\"></a>"
   ]
  },
  {
   "cell_type": "markdown",
   "metadata": {},
   "source": [
    "Среднюю оценку мы округлим до 2-х знаков после запятой, а сортировку сделаем по убыванию количества обзоров."
   ]
  },
  {
   "cell_type": "code",
   "execution_count": 10,
   "metadata": {
    "ExecuteTime": {
     "end_time": "2024-10-02T23:58:13.689062Z",
     "start_time": "2024-10-02T23:58:13.343207Z"
    }
   },
   "outputs": [
    {
     "data": {
      "text/html": [
       "<div>\n",
       "<style scoped>\n",
       "    .dataframe tbody tr th:only-of-type {\n",
       "        vertical-align: middle;\n",
       "    }\n",
       "\n",
       "    .dataframe tbody tr th {\n",
       "        vertical-align: top;\n",
       "    }\n",
       "\n",
       "    .dataframe thead th {\n",
       "        text-align: right;\n",
       "    }\n",
       "</style>\n",
       "<table border=\"1\" class=\"dataframe\">\n",
       "  <thead>\n",
       "    <tr style=\"text-align: right;\">\n",
       "      <th></th>\n",
       "      <th>title</th>\n",
       "      <th>review_count</th>\n",
       "      <th>average_rating</th>\n",
       "    </tr>\n",
       "  </thead>\n",
       "  <tbody>\n",
       "    <tr>\n",
       "      <th>0</th>\n",
       "      <td>Twilight (Twilight  #1)</td>\n",
       "      <td>7</td>\n",
       "      <td>3.66</td>\n",
       "    </tr>\n",
       "    <tr>\n",
       "      <th>1</th>\n",
       "      <td>Water for Elephants</td>\n",
       "      <td>6</td>\n",
       "      <td>3.98</td>\n",
       "    </tr>\n",
       "    <tr>\n",
       "      <th>2</th>\n",
       "      <td>The Glass Castle</td>\n",
       "      <td>6</td>\n",
       "      <td>4.21</td>\n",
       "    </tr>\n",
       "    <tr>\n",
       "      <th>3</th>\n",
       "      <td>Harry Potter and the Prisoner of Azkaban (Harr...</td>\n",
       "      <td>6</td>\n",
       "      <td>4.41</td>\n",
       "    </tr>\n",
       "    <tr>\n",
       "      <th>4</th>\n",
       "      <td>The Curious Incident of the Dog in the Night-Time</td>\n",
       "      <td>6</td>\n",
       "      <td>4.08</td>\n",
       "    </tr>\n",
       "    <tr>\n",
       "      <th>...</th>\n",
       "      <td>...</td>\n",
       "      <td>...</td>\n",
       "      <td>...</td>\n",
       "    </tr>\n",
       "    <tr>\n",
       "      <th>995</th>\n",
       "      <td>Anne Rice's The Vampire Lestat: A Graphic Novel</td>\n",
       "      <td>0</td>\n",
       "      <td>3.67</td>\n",
       "    </tr>\n",
       "    <tr>\n",
       "      <th>996</th>\n",
       "      <td>The Natural Way to Draw</td>\n",
       "      <td>0</td>\n",
       "      <td>3.00</td>\n",
       "    </tr>\n",
       "    <tr>\n",
       "      <th>997</th>\n",
       "      <td>The Cat in the Hat and Other Dr. Seuss Favorites</td>\n",
       "      <td>0</td>\n",
       "      <td>5.00</td>\n",
       "    </tr>\n",
       "    <tr>\n",
       "      <th>998</th>\n",
       "      <td>Essential Tales and Poems</td>\n",
       "      <td>0</td>\n",
       "      <td>4.00</td>\n",
       "    </tr>\n",
       "    <tr>\n",
       "      <th>999</th>\n",
       "      <td>Disney's Beauty and the Beast (A Little Golden...</td>\n",
       "      <td>0</td>\n",
       "      <td>4.00</td>\n",
       "    </tr>\n",
       "  </tbody>\n",
       "</table>\n",
       "<p>1000 rows × 3 columns</p>\n",
       "</div>"
      ],
      "text/plain": [
       "                                                 title  review_count  \\\n",
       "0                              Twilight (Twilight  #1)             7   \n",
       "1                                  Water for Elephants             6   \n",
       "2                                     The Glass Castle             6   \n",
       "3    Harry Potter and the Prisoner of Azkaban (Harr...             6   \n",
       "4    The Curious Incident of the Dog in the Night-Time             6   \n",
       "..                                                 ...           ...   \n",
       "995    Anne Rice's The Vampire Lestat: A Graphic Novel             0   \n",
       "996                            The Natural Way to Draw             0   \n",
       "997   The Cat in the Hat and Other Dr. Seuss Favorites             0   \n",
       "998                          Essential Tales and Poems             0   \n",
       "999  Disney's Beauty and the Beast (A Little Golden...             0   \n",
       "\n",
       "     average_rating  \n",
       "0              3.66  \n",
       "1              3.98  \n",
       "2              4.21  \n",
       "3              4.41  \n",
       "4              4.08  \n",
       "..              ...  \n",
       "995            3.67  \n",
       "996            3.00  \n",
       "997            5.00  \n",
       "998            4.00  \n",
       "999            4.00  \n",
       "\n",
       "[1000 rows x 3 columns]"
      ]
     },
     "metadata": {},
     "output_type": "display_data"
    }
   ],
   "source": [
    "query = '''SELECT b.title, \n",
    "                  COUNT(DISTINCT re.review_id) AS review_count, \n",
    "                  ROUND(AVG(ra.rating), 2) AS average_rating \n",
    "           FROM books b\n",
    "           LEFT JOIN reviews re ON b.book_id = re.book_id\n",
    "           LEFT JOIN ratings ra ON b.book_id = ra.book_id\n",
    "           GROUP BY b.book_id\n",
    "           ORDER BY review_count DESC;\n",
    "'''\n",
    "task_2 = get_sql_data(query)\n",
    "display(task_2)"
   ]
  },
  {
   "cell_type": "markdown",
   "metadata": {},
   "source": [
    "Задача №2\n",
    "\n",
    "Формулировка задачи: Для каждой книги посчитайте количество обзоров и среднюю оценку.\n",
    "\n",
    "Ответ: Среднюю оценку мы округлили до 2-х знаков после запятой, а сортировку сделали по убыванию количества обзоров, с результатом запроса можно ознакомиться с помощью переменной.\n",
    "\n",
    "Результат запроса лежит в переменной - task_2."
   ]
  },
  {
   "cell_type": "markdown",
   "metadata": {},
   "source": [
    "## Определите издательство, которое выпустило наибольшее число книг толще 50 страниц — так вы исключите из анализа брошюры.\n",
    "<a id=\"4\"></a>"
   ]
  },
  {
   "cell_type": "code",
   "execution_count": 11,
   "metadata": {
    "ExecuteTime": {
     "end_time": "2024-10-03T00:00:54.686814Z",
     "start_time": "2024-10-03T00:00:54.584130Z"
    }
   },
   "outputs": [
    {
     "data": {
      "text/html": [
       "<div>\n",
       "<style scoped>\n",
       "    .dataframe tbody tr th:only-of-type {\n",
       "        vertical-align: middle;\n",
       "    }\n",
       "\n",
       "    .dataframe tbody tr th {\n",
       "        vertical-align: top;\n",
       "    }\n",
       "\n",
       "    .dataframe thead th {\n",
       "        text-align: right;\n",
       "    }\n",
       "</style>\n",
       "<table border=\"1\" class=\"dataframe\">\n",
       "  <thead>\n",
       "    <tr style=\"text-align: right;\">\n",
       "      <th></th>\n",
       "      <th>publisher</th>\n",
       "      <th>book_count</th>\n",
       "    </tr>\n",
       "  </thead>\n",
       "  <tbody>\n",
       "    <tr>\n",
       "      <th>0</th>\n",
       "      <td>Penguin Books</td>\n",
       "      <td>42</td>\n",
       "    </tr>\n",
       "  </tbody>\n",
       "</table>\n",
       "</div>"
      ],
      "text/plain": [
       "       publisher  book_count\n",
       "0  Penguin Books          42"
      ]
     },
     "metadata": {},
     "output_type": "display_data"
    }
   ],
   "source": [
    "query = '''SELECT p.publisher, \n",
    "                  COUNT(b.book_id) AS book_count \n",
    "           FROM publishers p\n",
    "           JOIN books b ON p.publisher_id = b.publisher_id\n",
    "           WHERE b.num_pages > 50\n",
    "           GROUP BY p.publisher_id\n",
    "           ORDER BY book_count DESC\n",
    "           LIMIT 1;\n",
    "\n",
    "'''\n",
    "task_3 = get_sql_data(query)\n",
    "display(task_3)"
   ]
  },
  {
   "cell_type": "markdown",
   "metadata": {},
   "source": [
    "Задача №3\n",
    "\n",
    "Формулировка задачи: Определите издательство, которое выпустило наибольшее число книг толще 50 страниц — так вы исключите из анализа брошюры.\n",
    "\n",
    "Ответ: Издательство Penguin Books - выпустило наибольшее число книг толще 50 страниц.\n",
    "\n",
    "Результат запроса лежит в переменной - task_3."
   ]
  },
  {
   "cell_type": "markdown",
   "metadata": {},
   "source": [
    "## Определите автора с самой высокой средней оценкой книг — учитывайте только книги с 50 и более оценками.\n",
    "<a id=\"5\"></a>"
   ]
  },
  {
   "cell_type": "code",
   "execution_count": 12,
   "metadata": {
    "ExecuteTime": {
     "end_time": "2024-10-03T00:03:19.807047Z",
     "start_time": "2024-10-03T00:03:19.660619Z"
    }
   },
   "outputs": [
    {
     "data": {
      "text/html": [
       "<div>\n",
       "<style scoped>\n",
       "    .dataframe tbody tr th:only-of-type {\n",
       "        vertical-align: middle;\n",
       "    }\n",
       "\n",
       "    .dataframe tbody tr th {\n",
       "        vertical-align: top;\n",
       "    }\n",
       "\n",
       "    .dataframe thead th {\n",
       "        text-align: right;\n",
       "    }\n",
       "</style>\n",
       "<table border=\"1\" class=\"dataframe\">\n",
       "  <thead>\n",
       "    <tr style=\"text-align: right;\">\n",
       "      <th></th>\n",
       "      <th>author_id</th>\n",
       "      <th>author</th>\n",
       "      <th>avg_rating</th>\n",
       "    </tr>\n",
       "  </thead>\n",
       "  <tbody>\n",
       "    <tr>\n",
       "      <th>0</th>\n",
       "      <td>236</td>\n",
       "      <td>J.K. Rowling/Mary GrandPré</td>\n",
       "      <td>4.287</td>\n",
       "    </tr>\n",
       "  </tbody>\n",
       "</table>\n",
       "</div>"
      ],
      "text/plain": [
       "   author_id                      author  avg_rating\n",
       "0        236  J.K. Rowling/Mary GrandPré       4.287"
      ]
     },
     "metadata": {},
     "output_type": "display_data"
    }
   ],
   "source": [
    "query = '''WITH \n",
    "    book_with_50_plus_ratings AS (\n",
    "        -- Находим книги с количеством оценок более 50\n",
    "        SELECT book_id\n",
    "        FROM ratings\n",
    "        GROUP BY book_id\n",
    "        HAVING COUNT(rating_id) > 50\n",
    "    )\n",
    "SELECT a.author_id, \n",
    "       a.author, \n",
    "       ROUND(AVG(r.rating), 3) AS avg_rating\n",
    "FROM books b\n",
    "-- Соединяем с книгами, у которых оценка 50+ \n",
    "INNER JOIN book_with_50_plus_ratings bw \n",
    "  ON b.book_id = bw.book_id\n",
    "-- Соединяем с таблицей авторов\n",
    "INNER JOIN authors a \n",
    "  ON b.author_id = a.author_id\n",
    "-- Соединяем с оценками\n",
    "INNER JOIN ratings r \n",
    "  ON b.book_id = r.book_id\n",
    "GROUP BY a.author_id, a.author\n",
    "ORDER BY AVG(r.rating) DESC\n",
    "LIMIT 1;\n",
    "'''\n",
    "task_4 = get_sql_data(query)\n",
    "display(task_4)"
   ]
  },
  {
   "cell_type": "markdown",
   "metadata": {},
   "source": [
    "Задача №4\n",
    "\n",
    "Формулировка задачи: Определите автора с самой высокой средней оценкой книг — учитывайте только книги с 50 и более оценками.\n",
    "\n",
    "Ответ: Автор с самой высокой средней оценкой книг — J.K. Rowling/Mary GrandPré, средняя оценка = 4.287\n",
    "\n",
    "Результат запроса лежит в переменной - task_4."
   ]
  },
  {
   "cell_type": "markdown",
   "metadata": {},
   "source": [
    "## Посчитайте среднее количество обзоров от пользователей, которые поставили больше 48 оценок.\n",
    "<a id=\"6\"></a>"
   ]
  },
  {
   "cell_type": "code",
   "execution_count": 13,
   "metadata": {
    "ExecuteTime": {
     "end_time": "2024-10-03T00:08:03.755839Z",
     "start_time": "2024-10-03T00:08:03.483535Z"
    }
   },
   "outputs": [
    {
     "data": {
      "text/html": [
       "<div>\n",
       "<style scoped>\n",
       "    .dataframe tbody tr th:only-of-type {\n",
       "        vertical-align: middle;\n",
       "    }\n",
       "\n",
       "    .dataframe tbody tr th {\n",
       "        vertical-align: top;\n",
       "    }\n",
       "\n",
       "    .dataframe thead th {\n",
       "        text-align: right;\n",
       "    }\n",
       "</style>\n",
       "<table border=\"1\" class=\"dataframe\">\n",
       "  <thead>\n",
       "    <tr style=\"text-align: right;\">\n",
       "      <th></th>\n",
       "      <th>avg_review_count</th>\n",
       "    </tr>\n",
       "  </thead>\n",
       "  <tbody>\n",
       "    <tr>\n",
       "      <th>0</th>\n",
       "      <td>24.0</td>\n",
       "    </tr>\n",
       "  </tbody>\n",
       "</table>\n",
       "</div>"
      ],
      "text/plain": [
       "   avg_review_count\n",
       "0              24.0"
      ]
     },
     "metadata": {},
     "output_type": "display_data"
    }
   ],
   "source": [
    "query = '''WITH users_with_48_plus_ratings AS (\n",
    "    -- Находим пользователей, оставивших более 48 оценок\n",
    "    SELECT username\n",
    "    FROM ratings\n",
    "    GROUP BY username\n",
    "    HAVING COUNT(rating_id) > 48\n",
    ")\n",
    "SELECT ROUND(COUNT(DISTINCT rev.text) / COUNT(DISTINCT rev.username), 2) AS avg_review_count\n",
    "FROM reviews AS rev\n",
    "INNER JOIN users_with_48_plus_ratings AS u48\n",
    "  ON rev.username = u48.username;\n",
    "\n",
    "'''\n",
    "task_5 = get_sql_data(query)\n",
    "display(task_5)"
   ]
  },
  {
   "cell_type": "markdown",
   "metadata": {},
   "source": [
    "Задача №5\n",
    "\n",
    "Формулировка задачи: Посчитайте среднее количество обзоров от пользователей, которые поставили больше 48 оценок.\n",
    "\n",
    "Ответ: Cреднее количество обзоров от пользователей, которые поставили больше 48 оценок - 24.\n",
    "\n",
    "Результат запроса лежит в переменной - task_5."
   ]
  },
  {
   "cell_type": "markdown",
   "metadata": {},
   "source": [
    "**Общий вывод/ответы на все вопросы заказчика:**\n",
    "\n",
    "- Задача №1\n",
    "\n",
    "Формулировка задачи: Посчитайте, сколько книг вышло после 1 января 2000 года.\n",
    "\n",
    "Ответ: после 1 января 2000 года вышло 819 книг.\n",
    "\n",
    "Результат запроса лежит в переменной - task_1.\n",
    "\n",
    "\n",
    "\n",
    "- Задача №2\n",
    "\n",
    "Формулировка задачи: Для каждой книги посчитайте количество обзоров и среднюю оценку.\n",
    "\n",
    "Ответ: Среднюю оценку мы округлили до 2-х знаков после запятой, а сортировку сделали по убыванию количества обзоров, с результатом запроса можно ознакомиться с помощью переменной.\n",
    "\n",
    "Результат запроса лежит в переменной - task_2.\n",
    "\n",
    "\n",
    "- Задача №3\n",
    "\n",
    "Формулировка задачи: Определите издательство, которое выпустило наибольшее число книг толще 50 страниц — так вы исключите из анализа брошюры.\n",
    "\n",
    "Ответ: Издательство Penguin Books - выпустило наибольшее число книг толще 50 страниц.\n",
    "\n",
    "Результат запроса лежит в переменной - task_3.\n",
    "\n",
    "\n",
    "- Задача №4\n",
    "\n",
    "Формулировка задачи: Определите автора с самой высокой средней оценкой книг — учитывайте только книги с 50 и более оценками.\n",
    "\n",
    "Ответ: Автор с самой высокой средней оценкой книг — J.K. Rowling/Mary GrandPré, средняя оценка = 4.287\n",
    "\n",
    "Результат запроса лежит в переменной - task_4.\n",
    "\n",
    "\n",
    "\n",
    "- Задача №5\n",
    "\n",
    "Формулировка задачи: Посчитайте среднее количество обзоров от пользователей, которые поставили больше 48 оценок.\n",
    "\n",
    "Ответ: Cреднее количество обзоров от пользователей, которые поставили больше 48 оценок - 24.\n",
    "\n",
    "Результат запроса лежит в переменной - task_5."
   ]
  }
 ],
 "metadata": {
  "ExecuteTimeLog": [
   {
    "duration": 493,
    "start_time": "2024-10-03T00:14:55.290Z"
   },
   {
    "duration": 3,
    "start_time": "2024-10-03T00:14:59.115Z"
   },
   {
    "duration": 3,
    "start_time": "2024-10-03T00:15:00.246Z"
   },
   {
    "duration": 7962,
    "start_time": "2024-10-03T00:15:01.304Z"
   },
   {
    "duration": 4,
    "start_time": "2024-10-03T00:15:10.980Z"
   },
   {
    "duration": 222,
    "start_time": "2024-10-03T00:15:13.117Z"
   },
   {
    "duration": 5,
    "start_time": "2024-10-03T00:15:15.732Z"
   },
   {
    "duration": 466,
    "start_time": "2024-10-03T00:15:18.880Z"
   },
   {
    "duration": 49,
    "start_time": "2024-10-03T00:15:24.980Z"
   },
   {
    "duration": 84,
    "start_time": "2024-10-03T00:15:27.303Z"
   },
   {
    "duration": 50,
    "start_time": "2024-10-03T00:15:30.055Z"
   },
   {
    "duration": 54,
    "start_time": "2024-10-03T00:15:32.034Z"
   },
   {
    "duration": 76,
    "start_time": "2024-10-03T00:15:34.459Z"
   },
   {
    "duration": 3,
    "start_time": "2024-10-03T00:17:23.624Z"
   },
   {
    "duration": 3,
    "start_time": "2024-10-03T00:17:24.841Z"
   },
   {
    "duration": 3,
    "start_time": "2024-10-03T00:17:25.861Z"
   },
   {
    "duration": 3,
    "start_time": "2024-10-03T00:17:27.036Z"
   },
   {
    "duration": 3,
    "start_time": "2024-10-03T00:17:27.990Z"
   },
   {
    "duration": 232,
    "start_time": "2024-10-03T00:17:28.967Z"
   },
   {
    "duration": 4,
    "start_time": "2024-10-03T00:17:31.683Z"
   },
   {
    "duration": 503,
    "start_time": "2024-10-03T00:17:33.282Z"
   },
   {
    "duration": 50,
    "start_time": "2024-10-03T00:17:38.252Z"
   },
   {
    "duration": 87,
    "start_time": "2024-10-03T00:17:41.088Z"
   },
   {
    "duration": 52,
    "start_time": "2024-10-03T00:17:43.727Z"
   },
   {
    "duration": 55,
    "start_time": "2024-10-03T00:17:45.838Z"
   },
   {
    "duration": 78,
    "start_time": "2024-10-03T00:17:48.456Z"
   },
   {
    "duration": 3,
    "start_time": "2024-10-03T00:19:37.965Z"
   },
   {
    "duration": 3,
    "start_time": "2024-10-03T00:19:38.588Z"
   },
   {
    "duration": 2,
    "start_time": "2024-10-03T00:19:39.318Z"
   },
   {
    "duration": 3,
    "start_time": "2024-10-03T00:19:40.345Z"
   },
   {
    "duration": 4,
    "start_time": "2024-10-03T00:19:41.005Z"
   },
   {
    "duration": 214,
    "start_time": "2024-10-03T00:19:41.700Z"
   },
   {
    "duration": 4,
    "start_time": "2024-10-03T00:19:43.419Z"
   },
   {
    "duration": 461,
    "start_time": "2024-10-03T00:19:44.414Z"
   },
   {
    "duration": 48,
    "start_time": "2024-10-03T00:19:45.989Z"
   },
   {
    "duration": 84,
    "start_time": "2024-10-03T00:19:47.349Z"
   },
   {
    "duration": 49,
    "start_time": "2024-10-03T00:19:48.496Z"
   },
   {
    "duration": 53,
    "start_time": "2024-10-03T00:19:49.735Z"
   },
   {
    "duration": 75,
    "start_time": "2024-10-03T00:19:51.249Z"
   },
   {
    "duration": 522,
    "start_time": "2024-10-03T15:45:38.216Z"
   },
   {
    "duration": 3,
    "start_time": "2024-10-03T15:45:38.740Z"
   },
   {
    "duration": 47,
    "start_time": "2024-10-03T15:45:38.745Z"
   },
   {
    "duration": 6364,
    "start_time": "2024-10-03T15:45:38.794Z"
   },
   {
    "duration": 4,
    "start_time": "2024-10-03T15:45:45.161Z"
   },
   {
    "duration": 277,
    "start_time": "2024-10-03T15:45:45.167Z"
   },
   {
    "duration": 6,
    "start_time": "2024-10-03T15:45:45.446Z"
   },
   {
    "duration": 512,
    "start_time": "2024-10-03T15:45:45.453Z"
   },
   {
    "duration": 52,
    "start_time": "2024-10-03T15:45:45.966Z"
   },
   {
    "duration": 88,
    "start_time": "2024-10-03T15:45:46.020Z"
   },
   {
    "duration": 53,
    "start_time": "2024-10-03T15:45:46.110Z"
   },
   {
    "duration": 58,
    "start_time": "2024-10-03T15:45:46.165Z"
   },
   {
    "duration": 77,
    "start_time": "2024-10-03T15:45:46.225Z"
   },
   {
    "duration": 564,
    "start_time": "2024-10-03T17:51:01.463Z"
   },
   {
    "duration": 4,
    "start_time": "2024-10-03T17:51:03.564Z"
   },
   {
    "duration": 2,
    "start_time": "2024-10-03T17:51:05.040Z"
   },
   {
    "duration": 7377,
    "start_time": "2024-10-03T17:51:06.350Z"
   },
   {
    "duration": 5,
    "start_time": "2024-10-03T17:51:15.921Z"
   },
   {
    "duration": 253,
    "start_time": "2024-10-03T17:51:17.703Z"
   },
   {
    "duration": 6,
    "start_time": "2024-10-03T17:51:20.055Z"
   },
   {
    "duration": 512,
    "start_time": "2024-10-03T17:51:22.851Z"
   },
   {
    "duration": 53,
    "start_time": "2024-10-03T17:51:33.065Z"
   },
   {
    "duration": 93,
    "start_time": "2024-10-03T18:29:41.428Z"
   },
   {
    "duration": 98,
    "start_time": "2024-10-03T18:34:37.802Z"
   },
   {
    "duration": 88,
    "start_time": "2024-10-03T18:35:05.383Z"
   },
   {
    "duration": 138,
    "start_time": "2024-10-03T18:36:39.485Z"
   },
   {
    "duration": 63,
    "start_time": "2024-10-03T18:36:58.552Z"
   },
   {
    "duration": 52,
    "start_time": "2024-10-03T18:38:14.014Z"
   },
   {
    "duration": 89,
    "start_time": "2024-10-03T18:38:29.364Z"
   },
   {
    "duration": 64,
    "start_time": "2024-10-03T18:39:43.724Z"
   },
   {
    "duration": 63,
    "start_time": "2024-10-03T18:42:03.302Z"
   },
   {
    "duration": 62,
    "start_time": "2024-10-03T18:42:06.916Z"
   },
   {
    "duration": 59,
    "start_time": "2024-10-03T18:42:46.685Z"
   },
   {
    "duration": 60,
    "start_time": "2024-10-03T18:44:12.518Z"
   },
   {
    "duration": 61,
    "start_time": "2024-10-03T18:46:10.868Z"
   },
   {
    "duration": 56,
    "start_time": "2024-10-03T18:49:14.888Z"
   },
   {
    "duration": 56,
    "start_time": "2024-10-03T18:49:52.101Z"
   },
   {
    "duration": 59,
    "start_time": "2024-10-03T18:49:57.212Z"
   },
   {
    "duration": 90,
    "start_time": "2024-10-03T18:52:44.787Z"
   },
   {
    "duration": 53,
    "start_time": "2024-10-03T18:55:10.530Z"
   },
   {
    "duration": 67,
    "start_time": "2024-10-03T19:25:26.068Z"
   },
   {
    "duration": 56,
    "start_time": "2024-10-03T19:26:08.906Z"
   },
   {
    "duration": 56,
    "start_time": "2024-10-03T19:27:52.501Z"
   },
   {
    "duration": 57,
    "start_time": "2024-10-03T19:30:00.706Z"
   },
   {
    "duration": 57,
    "start_time": "2024-10-03T19:31:55.926Z"
   },
   {
    "duration": 56,
    "start_time": "2024-10-03T19:34:25.522Z"
   },
   {
    "duration": 56,
    "start_time": "2024-10-03T19:35:17.451Z"
   },
   {
    "duration": 56,
    "start_time": "2024-10-03T19:36:08.695Z"
   },
   {
    "duration": 56,
    "start_time": "2024-10-03T19:36:33.553Z"
   },
   {
    "duration": 60,
    "start_time": "2024-10-03T19:41:13.562Z"
   },
   {
    "duration": 52,
    "start_time": "2024-10-03T19:42:51.074Z"
   },
   {
    "duration": 58,
    "start_time": "2024-10-03T19:44:43.573Z"
   },
   {
    "duration": 3,
    "start_time": "2024-10-03T19:49:26.242Z"
   },
   {
    "duration": 3,
    "start_time": "2024-10-03T19:49:27.235Z"
   },
   {
    "duration": 3,
    "start_time": "2024-10-03T19:49:28.598Z"
   },
   {
    "duration": 3,
    "start_time": "2024-10-03T19:49:30.671Z"
   },
   {
    "duration": 5,
    "start_time": "2024-10-03T19:49:42.354Z"
   },
   {
    "duration": 217,
    "start_time": "2024-10-03T19:49:43.611Z"
   },
   {
    "duration": 5,
    "start_time": "2024-10-03T19:49:52.261Z"
   },
   {
    "duration": 491,
    "start_time": "2024-10-03T19:49:55.782Z"
   },
   {
    "duration": 50,
    "start_time": "2024-10-03T19:50:04.468Z"
   },
   {
    "duration": 89,
    "start_time": "2024-10-03T19:50:13.930Z"
   },
   {
    "duration": 93,
    "start_time": "2024-10-03T19:50:57.246Z"
   },
   {
    "duration": 52,
    "start_time": "2024-10-03T19:51:28.131Z"
   },
   {
    "duration": 57,
    "start_time": "2024-10-03T19:51:34.657Z"
   },
   {
    "duration": 55,
    "start_time": "2024-10-03T19:51:39.146Z"
   },
   {
    "duration": 3,
    "start_time": "2024-10-03T19:52:31.257Z"
   },
   {
    "duration": 2,
    "start_time": "2024-10-03T19:52:32.058Z"
   },
   {
    "duration": 2,
    "start_time": "2024-10-03T19:52:33.255Z"
   },
   {
    "duration": 3,
    "start_time": "2024-10-03T19:52:34.548Z"
   },
   {
    "duration": 3,
    "start_time": "2024-10-03T19:52:35.948Z"
   },
   {
    "duration": 244,
    "start_time": "2024-10-03T19:52:37.149Z"
   },
   {
    "duration": 4,
    "start_time": "2024-10-03T19:52:40.798Z"
   },
   {
    "duration": 503,
    "start_time": "2024-10-03T19:52:43.941Z"
   },
   {
    "duration": 52,
    "start_time": "2024-10-03T19:52:49.096Z"
   },
   {
    "duration": 92,
    "start_time": "2024-10-03T19:52:54.884Z"
   },
   {
    "duration": 53,
    "start_time": "2024-10-03T19:53:17.843Z"
   },
   {
    "duration": 58,
    "start_time": "2024-10-03T19:53:19.585Z"
   },
   {
    "duration": 55,
    "start_time": "2024-10-03T19:53:25.139Z"
   },
   {
    "duration": 543,
    "start_time": "2024-10-04T11:54:41.810Z"
   },
   {
    "duration": 3,
    "start_time": "2024-10-04T11:54:42.355Z"
   },
   {
    "duration": 28,
    "start_time": "2024-10-04T11:54:42.359Z"
   },
   {
    "duration": 6556,
    "start_time": "2024-10-04T11:54:42.389Z"
   },
   {
    "duration": 4,
    "start_time": "2024-10-04T11:54:48.946Z"
   },
   {
    "duration": 89,
    "start_time": "2024-10-04T11:54:48.951Z"
   },
   {
    "duration": 5,
    "start_time": "2024-10-04T11:54:49.041Z"
   },
   {
    "duration": 111,
    "start_time": "2024-10-04T11:54:49.047Z"
   },
   {
    "duration": 9,
    "start_time": "2024-10-04T11:54:49.160Z"
   },
   {
    "duration": 28,
    "start_time": "2024-10-04T11:54:49.171Z"
   },
   {
    "duration": 21,
    "start_time": "2024-10-04T11:54:49.201Z"
   },
   {
    "duration": 15,
    "start_time": "2024-10-04T11:54:49.223Z"
   },
   {
    "duration": 12,
    "start_time": "2024-10-04T11:54:49.239Z"
   }
  ],
  "kernelspec": {
   "display_name": "Python 3 (ipykernel)",
   "language": "python",
   "name": "python3"
  },
  "language_info": {
   "codemirror_mode": {
    "name": "ipython",
    "version": 3
   },
   "file_extension": ".py",
   "mimetype": "text/x-python",
   "name": "python",
   "nbconvert_exporter": "python",
   "pygments_lexer": "ipython3",
   "version": "3.11.5"
  },
  "toc": {
   "base_numbering": 1,
   "nav_menu": {},
   "number_sections": true,
   "sideBar": true,
   "skip_h1_title": true,
   "title_cell": "Table of Contents",
   "title_sidebar": "Contents",
   "toc_cell": false,
   "toc_position": {},
   "toc_section_display": true,
   "toc_window_display": false
  }
 },
 "nbformat": 4,
 "nbformat_minor": 2
}
