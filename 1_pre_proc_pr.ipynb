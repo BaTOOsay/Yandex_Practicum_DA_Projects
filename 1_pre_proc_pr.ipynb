{
 "cells": [
  {
   "cell_type": "markdown",
   "id": "386f2ae7",
   "metadata": {
    "deletable": false,
    "editable": false,
    "id": "386f2ae7"
   },
   "source": [
    "# Исследование надежности заемщиков\n"
   ]
  },
  {
   "cell_type": "markdown",
   "id": "ffe86f65",
   "metadata": {
    "deletable": false,
    "editable": false,
    "id": "ffe86f65"
   },
   "source": [
    "Во второй части проекта вы выполните шаги 3 и 4. Их вручную проверит ревьюер.\n",
    "Чтобы вам не пришлось писать код заново для шагов 1 и 2, мы добавили авторские решения в ячейки с кодом. \n",
    "\n"
   ]
  },
  {
   "cell_type": "markdown",
   "id": "26613308",
   "metadata": {
    "deletable": false,
    "editable": false,
    "id": "26613308"
   },
   "source": [
    "## Откройте таблицу и изучите общую информацию о данных"
   ]
  },
  {
   "cell_type": "markdown",
   "id": "3c9f838e",
   "metadata": {
    "deletable": false,
    "editable": false,
    "id": "3c9f838e"
   },
   "source": [
    "**Задание 1. Импортируйте библиотеку pandas. Считайте данные из csv-файла в датафрейм и сохраните в переменную `data`. Путь к файлу:**\n",
    "\n",
    "`/datasets/data.csv`"
   ]
  },
  {
   "cell_type": "code",
   "execution_count": 1,
   "id": "77a68a90",
   "metadata": {
    "id": "77a68a90"
   },
   "outputs": [],
   "source": [
    "import pandas as pd\n",
    "\n",
    "try:\n",
    "    data = pd.read_csv('/datasets/data.csv')\n",
    "except:\n",
    "    data = pd.read_csv('https://code.s3.yandex.net/datasets/data.csv')"
   ]
  },
  {
   "cell_type": "markdown",
   "id": "45365635",
   "metadata": {
    "deletable": false,
    "editable": false,
    "id": "45365635"
   },
   "source": [
    "**Задание 2. Выведите первые 20 строчек датафрейма `data` на экран.**"
   ]
  },
  {
   "cell_type": "code",
   "execution_count": 2,
   "id": "b0451a9a",
   "metadata": {
    "id": "b0451a9a",
    "outputId": "1a8f3ef2-d323-4ec2-ddf7-89670b5944c4"
   },
   "outputs": [
    {
     "data": {
      "text/html": [
       "<div>\n",
       "<style scoped>\n",
       "    .dataframe tbody tr th:only-of-type {\n",
       "        vertical-align: middle;\n",
       "    }\n",
       "\n",
       "    .dataframe tbody tr th {\n",
       "        vertical-align: top;\n",
       "    }\n",
       "\n",
       "    .dataframe thead th {\n",
       "        text-align: right;\n",
       "    }\n",
       "</style>\n",
       "<table border=\"1\" class=\"dataframe\">\n",
       "  <thead>\n",
       "    <tr style=\"text-align: right;\">\n",
       "      <th></th>\n",
       "      <th>children</th>\n",
       "      <th>days_employed</th>\n",
       "      <th>dob_years</th>\n",
       "      <th>education</th>\n",
       "      <th>education_id</th>\n",
       "      <th>family_status</th>\n",
       "      <th>family_status_id</th>\n",
       "      <th>gender</th>\n",
       "      <th>income_type</th>\n",
       "      <th>debt</th>\n",
       "      <th>total_income</th>\n",
       "      <th>purpose</th>\n",
       "    </tr>\n",
       "  </thead>\n",
       "  <tbody>\n",
       "    <tr>\n",
       "      <th>0</th>\n",
       "      <td>1</td>\n",
       "      <td>-8437.673028</td>\n",
       "      <td>42</td>\n",
       "      <td>высшее</td>\n",
       "      <td>0</td>\n",
       "      <td>женат / замужем</td>\n",
       "      <td>0</td>\n",
       "      <td>F</td>\n",
       "      <td>сотрудник</td>\n",
       "      <td>0</td>\n",
       "      <td>253875.639453</td>\n",
       "      <td>покупка жилья</td>\n",
       "    </tr>\n",
       "    <tr>\n",
       "      <th>1</th>\n",
       "      <td>1</td>\n",
       "      <td>-4024.803754</td>\n",
       "      <td>36</td>\n",
       "      <td>среднее</td>\n",
       "      <td>1</td>\n",
       "      <td>женат / замужем</td>\n",
       "      <td>0</td>\n",
       "      <td>F</td>\n",
       "      <td>сотрудник</td>\n",
       "      <td>0</td>\n",
       "      <td>112080.014102</td>\n",
       "      <td>приобретение автомобиля</td>\n",
       "    </tr>\n",
       "    <tr>\n",
       "      <th>2</th>\n",
       "      <td>0</td>\n",
       "      <td>-5623.422610</td>\n",
       "      <td>33</td>\n",
       "      <td>Среднее</td>\n",
       "      <td>1</td>\n",
       "      <td>женат / замужем</td>\n",
       "      <td>0</td>\n",
       "      <td>M</td>\n",
       "      <td>сотрудник</td>\n",
       "      <td>0</td>\n",
       "      <td>145885.952297</td>\n",
       "      <td>покупка жилья</td>\n",
       "    </tr>\n",
       "    <tr>\n",
       "      <th>3</th>\n",
       "      <td>3</td>\n",
       "      <td>-4124.747207</td>\n",
       "      <td>32</td>\n",
       "      <td>среднее</td>\n",
       "      <td>1</td>\n",
       "      <td>женат / замужем</td>\n",
       "      <td>0</td>\n",
       "      <td>M</td>\n",
       "      <td>сотрудник</td>\n",
       "      <td>0</td>\n",
       "      <td>267628.550329</td>\n",
       "      <td>дополнительное образование</td>\n",
       "    </tr>\n",
       "    <tr>\n",
       "      <th>4</th>\n",
       "      <td>0</td>\n",
       "      <td>340266.072047</td>\n",
       "      <td>53</td>\n",
       "      <td>среднее</td>\n",
       "      <td>1</td>\n",
       "      <td>гражданский брак</td>\n",
       "      <td>1</td>\n",
       "      <td>F</td>\n",
       "      <td>пенсионер</td>\n",
       "      <td>0</td>\n",
       "      <td>158616.077870</td>\n",
       "      <td>сыграть свадьбу</td>\n",
       "    </tr>\n",
       "    <tr>\n",
       "      <th>5</th>\n",
       "      <td>0</td>\n",
       "      <td>-926.185831</td>\n",
       "      <td>27</td>\n",
       "      <td>высшее</td>\n",
       "      <td>0</td>\n",
       "      <td>гражданский брак</td>\n",
       "      <td>1</td>\n",
       "      <td>M</td>\n",
       "      <td>компаньон</td>\n",
       "      <td>0</td>\n",
       "      <td>255763.565419</td>\n",
       "      <td>покупка жилья</td>\n",
       "    </tr>\n",
       "    <tr>\n",
       "      <th>6</th>\n",
       "      <td>0</td>\n",
       "      <td>-2879.202052</td>\n",
       "      <td>43</td>\n",
       "      <td>высшее</td>\n",
       "      <td>0</td>\n",
       "      <td>женат / замужем</td>\n",
       "      <td>0</td>\n",
       "      <td>F</td>\n",
       "      <td>компаньон</td>\n",
       "      <td>0</td>\n",
       "      <td>240525.971920</td>\n",
       "      <td>операции с жильем</td>\n",
       "    </tr>\n",
       "    <tr>\n",
       "      <th>7</th>\n",
       "      <td>0</td>\n",
       "      <td>-152.779569</td>\n",
       "      <td>50</td>\n",
       "      <td>СРЕДНЕЕ</td>\n",
       "      <td>1</td>\n",
       "      <td>женат / замужем</td>\n",
       "      <td>0</td>\n",
       "      <td>M</td>\n",
       "      <td>сотрудник</td>\n",
       "      <td>0</td>\n",
       "      <td>135823.934197</td>\n",
       "      <td>образование</td>\n",
       "    </tr>\n",
       "    <tr>\n",
       "      <th>8</th>\n",
       "      <td>2</td>\n",
       "      <td>-6929.865299</td>\n",
       "      <td>35</td>\n",
       "      <td>ВЫСШЕЕ</td>\n",
       "      <td>0</td>\n",
       "      <td>гражданский брак</td>\n",
       "      <td>1</td>\n",
       "      <td>F</td>\n",
       "      <td>сотрудник</td>\n",
       "      <td>0</td>\n",
       "      <td>95856.832424</td>\n",
       "      <td>на проведение свадьбы</td>\n",
       "    </tr>\n",
       "    <tr>\n",
       "      <th>9</th>\n",
       "      <td>0</td>\n",
       "      <td>-2188.756445</td>\n",
       "      <td>41</td>\n",
       "      <td>среднее</td>\n",
       "      <td>1</td>\n",
       "      <td>женат / замужем</td>\n",
       "      <td>0</td>\n",
       "      <td>M</td>\n",
       "      <td>сотрудник</td>\n",
       "      <td>0</td>\n",
       "      <td>144425.938277</td>\n",
       "      <td>покупка жилья для семьи</td>\n",
       "    </tr>\n",
       "    <tr>\n",
       "      <th>10</th>\n",
       "      <td>2</td>\n",
       "      <td>-4171.483647</td>\n",
       "      <td>36</td>\n",
       "      <td>высшее</td>\n",
       "      <td>0</td>\n",
       "      <td>женат / замужем</td>\n",
       "      <td>0</td>\n",
       "      <td>M</td>\n",
       "      <td>компаньон</td>\n",
       "      <td>0</td>\n",
       "      <td>113943.491460</td>\n",
       "      <td>покупка недвижимости</td>\n",
       "    </tr>\n",
       "    <tr>\n",
       "      <th>11</th>\n",
       "      <td>0</td>\n",
       "      <td>-792.701887</td>\n",
       "      <td>40</td>\n",
       "      <td>среднее</td>\n",
       "      <td>1</td>\n",
       "      <td>женат / замужем</td>\n",
       "      <td>0</td>\n",
       "      <td>F</td>\n",
       "      <td>сотрудник</td>\n",
       "      <td>0</td>\n",
       "      <td>77069.234271</td>\n",
       "      <td>покупка коммерческой недвижимости</td>\n",
       "    </tr>\n",
       "    <tr>\n",
       "      <th>12</th>\n",
       "      <td>0</td>\n",
       "      <td>NaN</td>\n",
       "      <td>65</td>\n",
       "      <td>среднее</td>\n",
       "      <td>1</td>\n",
       "      <td>гражданский брак</td>\n",
       "      <td>1</td>\n",
       "      <td>M</td>\n",
       "      <td>пенсионер</td>\n",
       "      <td>0</td>\n",
       "      <td>NaN</td>\n",
       "      <td>сыграть свадьбу</td>\n",
       "    </tr>\n",
       "    <tr>\n",
       "      <th>13</th>\n",
       "      <td>0</td>\n",
       "      <td>-1846.641941</td>\n",
       "      <td>54</td>\n",
       "      <td>неоконченное высшее</td>\n",
       "      <td>2</td>\n",
       "      <td>женат / замужем</td>\n",
       "      <td>0</td>\n",
       "      <td>F</td>\n",
       "      <td>сотрудник</td>\n",
       "      <td>0</td>\n",
       "      <td>130458.228857</td>\n",
       "      <td>приобретение автомобиля</td>\n",
       "    </tr>\n",
       "    <tr>\n",
       "      <th>14</th>\n",
       "      <td>0</td>\n",
       "      <td>-1844.956182</td>\n",
       "      <td>56</td>\n",
       "      <td>высшее</td>\n",
       "      <td>0</td>\n",
       "      <td>гражданский брак</td>\n",
       "      <td>1</td>\n",
       "      <td>F</td>\n",
       "      <td>компаньон</td>\n",
       "      <td>1</td>\n",
       "      <td>165127.911772</td>\n",
       "      <td>покупка жилой недвижимости</td>\n",
       "    </tr>\n",
       "    <tr>\n",
       "      <th>15</th>\n",
       "      <td>1</td>\n",
       "      <td>-972.364419</td>\n",
       "      <td>26</td>\n",
       "      <td>среднее</td>\n",
       "      <td>1</td>\n",
       "      <td>женат / замужем</td>\n",
       "      <td>0</td>\n",
       "      <td>F</td>\n",
       "      <td>сотрудник</td>\n",
       "      <td>0</td>\n",
       "      <td>116820.904450</td>\n",
       "      <td>строительство собственной недвижимости</td>\n",
       "    </tr>\n",
       "    <tr>\n",
       "      <th>16</th>\n",
       "      <td>0</td>\n",
       "      <td>-1719.934226</td>\n",
       "      <td>35</td>\n",
       "      <td>среднее</td>\n",
       "      <td>1</td>\n",
       "      <td>женат / замужем</td>\n",
       "      <td>0</td>\n",
       "      <td>F</td>\n",
       "      <td>сотрудник</td>\n",
       "      <td>0</td>\n",
       "      <td>289202.704229</td>\n",
       "      <td>недвижимость</td>\n",
       "    </tr>\n",
       "    <tr>\n",
       "      <th>17</th>\n",
       "      <td>0</td>\n",
       "      <td>-2369.999720</td>\n",
       "      <td>33</td>\n",
       "      <td>высшее</td>\n",
       "      <td>0</td>\n",
       "      <td>гражданский брак</td>\n",
       "      <td>1</td>\n",
       "      <td>M</td>\n",
       "      <td>сотрудник</td>\n",
       "      <td>0</td>\n",
       "      <td>90410.586745</td>\n",
       "      <td>строительство недвижимости</td>\n",
       "    </tr>\n",
       "    <tr>\n",
       "      <th>18</th>\n",
       "      <td>0</td>\n",
       "      <td>400281.136913</td>\n",
       "      <td>53</td>\n",
       "      <td>среднее</td>\n",
       "      <td>1</td>\n",
       "      <td>вдовец / вдова</td>\n",
       "      <td>2</td>\n",
       "      <td>F</td>\n",
       "      <td>пенсионер</td>\n",
       "      <td>0</td>\n",
       "      <td>56823.777243</td>\n",
       "      <td>на покупку подержанного автомобиля</td>\n",
       "    </tr>\n",
       "    <tr>\n",
       "      <th>19</th>\n",
       "      <td>0</td>\n",
       "      <td>-10038.818549</td>\n",
       "      <td>48</td>\n",
       "      <td>СРЕДНЕЕ</td>\n",
       "      <td>1</td>\n",
       "      <td>в разводе</td>\n",
       "      <td>3</td>\n",
       "      <td>F</td>\n",
       "      <td>сотрудник</td>\n",
       "      <td>0</td>\n",
       "      <td>242831.107982</td>\n",
       "      <td>на покупку своего автомобиля</td>\n",
       "    </tr>\n",
       "  </tbody>\n",
       "</table>\n",
       "</div>"
      ],
      "text/plain": [
       "    children  days_employed  dob_years            education  education_id  \\\n",
       "0          1   -8437.673028         42               высшее             0   \n",
       "1          1   -4024.803754         36              среднее             1   \n",
       "2          0   -5623.422610         33              Среднее             1   \n",
       "3          3   -4124.747207         32              среднее             1   \n",
       "4          0  340266.072047         53              среднее             1   \n",
       "5          0    -926.185831         27               высшее             0   \n",
       "6          0   -2879.202052         43               высшее             0   \n",
       "7          0    -152.779569         50              СРЕДНЕЕ             1   \n",
       "8          2   -6929.865299         35               ВЫСШЕЕ             0   \n",
       "9          0   -2188.756445         41              среднее             1   \n",
       "10         2   -4171.483647         36               высшее             0   \n",
       "11         0    -792.701887         40              среднее             1   \n",
       "12         0            NaN         65              среднее             1   \n",
       "13         0   -1846.641941         54  неоконченное высшее             2   \n",
       "14         0   -1844.956182         56               высшее             0   \n",
       "15         1    -972.364419         26              среднее             1   \n",
       "16         0   -1719.934226         35              среднее             1   \n",
       "17         0   -2369.999720         33               высшее             0   \n",
       "18         0  400281.136913         53              среднее             1   \n",
       "19         0  -10038.818549         48              СРЕДНЕЕ             1   \n",
       "\n",
       "       family_status  family_status_id gender income_type  debt  \\\n",
       "0    женат / замужем                 0      F   сотрудник     0   \n",
       "1    женат / замужем                 0      F   сотрудник     0   \n",
       "2    женат / замужем                 0      M   сотрудник     0   \n",
       "3    женат / замужем                 0      M   сотрудник     0   \n",
       "4   гражданский брак                 1      F   пенсионер     0   \n",
       "5   гражданский брак                 1      M   компаньон     0   \n",
       "6    женат / замужем                 0      F   компаньон     0   \n",
       "7    женат / замужем                 0      M   сотрудник     0   \n",
       "8   гражданский брак                 1      F   сотрудник     0   \n",
       "9    женат / замужем                 0      M   сотрудник     0   \n",
       "10   женат / замужем                 0      M   компаньон     0   \n",
       "11   женат / замужем                 0      F   сотрудник     0   \n",
       "12  гражданский брак                 1      M   пенсионер     0   \n",
       "13   женат / замужем                 0      F   сотрудник     0   \n",
       "14  гражданский брак                 1      F   компаньон     1   \n",
       "15   женат / замужем                 0      F   сотрудник     0   \n",
       "16   женат / замужем                 0      F   сотрудник     0   \n",
       "17  гражданский брак                 1      M   сотрудник     0   \n",
       "18    вдовец / вдова                 2      F   пенсионер     0   \n",
       "19         в разводе                 3      F   сотрудник     0   \n",
       "\n",
       "     total_income                                 purpose  \n",
       "0   253875.639453                           покупка жилья  \n",
       "1   112080.014102                 приобретение автомобиля  \n",
       "2   145885.952297                           покупка жилья  \n",
       "3   267628.550329              дополнительное образование  \n",
       "4   158616.077870                         сыграть свадьбу  \n",
       "5   255763.565419                           покупка жилья  \n",
       "6   240525.971920                       операции с жильем  \n",
       "7   135823.934197                             образование  \n",
       "8    95856.832424                   на проведение свадьбы  \n",
       "9   144425.938277                 покупка жилья для семьи  \n",
       "10  113943.491460                    покупка недвижимости  \n",
       "11   77069.234271       покупка коммерческой недвижимости  \n",
       "12            NaN                         сыграть свадьбу  \n",
       "13  130458.228857                 приобретение автомобиля  \n",
       "14  165127.911772              покупка жилой недвижимости  \n",
       "15  116820.904450  строительство собственной недвижимости  \n",
       "16  289202.704229                            недвижимость  \n",
       "17   90410.586745              строительство недвижимости  \n",
       "18   56823.777243      на покупку подержанного автомобиля  \n",
       "19  242831.107982            на покупку своего автомобиля  "
      ]
     },
     "execution_count": 2,
     "metadata": {},
     "output_type": "execute_result"
    }
   ],
   "source": [
    "data.head(20)"
   ]
  },
  {
   "cell_type": "markdown",
   "id": "0ed8f27f",
   "metadata": {
    "deletable": false,
    "editable": false,
    "id": "0ed8f27f"
   },
   "source": [
    "**Задание 3. Выведите основную информацию о датафрейме с помощью метода `info()`.**"
   ]
  },
  {
   "cell_type": "code",
   "execution_count": 3,
   "id": "ab3f863b",
   "metadata": {
    "id": "ab3f863b",
    "outputId": "15376089-8dad-46c9-b520-c05248d43158"
   },
   "outputs": [
    {
     "name": "stdout",
     "output_type": "stream",
     "text": [
      "<class 'pandas.core.frame.DataFrame'>\n",
      "RangeIndex: 21525 entries, 0 to 21524\n",
      "Data columns (total 12 columns):\n",
      " #   Column            Non-Null Count  Dtype  \n",
      "---  ------            --------------  -----  \n",
      " 0   children          21525 non-null  int64  \n",
      " 1   days_employed     19351 non-null  float64\n",
      " 2   dob_years         21525 non-null  int64  \n",
      " 3   education         21525 non-null  object \n",
      " 4   education_id      21525 non-null  int64  \n",
      " 5   family_status     21525 non-null  object \n",
      " 6   family_status_id  21525 non-null  int64  \n",
      " 7   gender            21525 non-null  object \n",
      " 8   income_type       21525 non-null  object \n",
      " 9   debt              21525 non-null  int64  \n",
      " 10  total_income      19351 non-null  float64\n",
      " 11  purpose           21525 non-null  object \n",
      "dtypes: float64(2), int64(5), object(5)\n",
      "memory usage: 2.0+ MB\n"
     ]
    }
   ],
   "source": [
    "data.info()"
   ]
  },
  {
   "cell_type": "markdown",
   "id": "60e3e22d",
   "metadata": {
    "deletable": false,
    "editable": false,
    "id": "60e3e22d"
   },
   "source": [
    "## Предобработка данных"
   ]
  },
  {
   "cell_type": "markdown",
   "id": "03dc170c",
   "metadata": {
    "deletable": false,
    "editable": false,
    "id": "03dc170c"
   },
   "source": [
    "### Удаление пропусков"
   ]
  },
  {
   "cell_type": "markdown",
   "id": "a4f54eef",
   "metadata": {
    "deletable": false,
    "editable": false,
    "id": "a4f54eef"
   },
   "source": [
    "**Задание 4. Выведите количество пропущенных значений для каждого столбца. Используйте комбинацию двух методов.**"
   ]
  },
  {
   "cell_type": "code",
   "execution_count": 4,
   "id": "2dc372b2",
   "metadata": {
    "id": "2dc372b2",
    "outputId": "81f4d817-781c-465c-ed15-91ce4446810d"
   },
   "outputs": [
    {
     "data": {
      "text/plain": [
       "children               0\n",
       "days_employed       2174\n",
       "dob_years              0\n",
       "education              0\n",
       "education_id           0\n",
       "family_status          0\n",
       "family_status_id       0\n",
       "gender                 0\n",
       "income_type            0\n",
       "debt                   0\n",
       "total_income        2174\n",
       "purpose                0\n",
       "dtype: int64"
      ]
     },
     "execution_count": 4,
     "metadata": {},
     "output_type": "execute_result"
    }
   ],
   "source": [
    "data.isna().sum()"
   ]
  },
  {
   "cell_type": "markdown",
   "id": "14f011b1",
   "metadata": {
    "deletable": false,
    "editable": false,
    "id": "14f011b1"
   },
   "source": [
    "**Задание 5. В двух столбцах есть пропущенные значения. Один из них — `days_employed`. Пропуски в этом столбце вы обработаете на следующем этапе. Другой столбец с пропущенными значениями — `total_income` — хранит данные о доходах. На сумму дохода сильнее всего влияет тип занятости, поэтому заполнить пропуски в этом столбце нужно медианным значением по каждому типу из столбца `income_type`. Например, у человека с типом занятости `сотрудник` пропуск в столбце `total_income` должен быть заполнен медианным доходом среди всех записей с тем же типом.**"
   ]
  },
  {
   "cell_type": "code",
   "execution_count": 5,
   "id": "bdabfb6e",
   "metadata": {
    "id": "bdabfb6e"
   },
   "outputs": [],
   "source": [
    "for t in data['income_type'].unique():\n",
    "    data.loc[(data['income_type'] == t) & (data['total_income'].isna()), 'total_income'] = \\\n",
    "    data.loc[(data['income_type'] == t), 'total_income'].median()"
   ]
  },
  {
   "cell_type": "markdown",
   "id": "5be34059",
   "metadata": {
    "deletable": false,
    "editable": false,
    "id": "5be34059"
   },
   "source": [
    "### Обработка аномальных значений"
   ]
  },
  {
   "cell_type": "markdown",
   "id": "a87606cb",
   "metadata": {
    "deletable": false,
    "editable": false,
    "id": "a87606cb"
   },
   "source": [
    "**Задание 6. В данных могут встречаться артефакты (аномалии) — значения, которые не отражают действительность и появились по какой-то ошибке. таким артефактом будет отрицательное количество дней трудового стажа в столбце `days_employed`. Для реальных данных это нормально. Обработайте значения в этом столбце: замените все отрицательные значения положительными с помощью метода `abs()`.**"
   ]
  },
  {
   "cell_type": "code",
   "execution_count": 6,
   "id": "020c46cc",
   "metadata": {
    "id": "020c46cc"
   },
   "outputs": [],
   "source": [
    "data['days_employed'] = data['days_employed'].abs()"
   ]
  },
  {
   "cell_type": "markdown",
   "id": "45538a3a",
   "metadata": {
    "deletable": false,
    "editable": false,
    "id": "45538a3a"
   },
   "source": [
    "**Задание 7. Для каждого типа занятости выведите медианное значение трудового стажа `days_employed` в днях.**"
   ]
  },
  {
   "cell_type": "code",
   "execution_count": 7,
   "id": "cd3e6328",
   "metadata": {
    "id": "cd3e6328",
    "outputId": "801ef80e-522b-4668-f34e-565af7432bcf"
   },
   "outputs": [
    {
     "data": {
      "text/plain": [
       "income_type\n",
       "безработный        366413.652744\n",
       "в декрете            3296.759962\n",
       "госслужащий          2689.368353\n",
       "компаньон            1547.382223\n",
       "пенсионер          365213.306266\n",
       "предприниматель       520.848083\n",
       "сотрудник            1574.202821\n",
       "студент               578.751554\n",
       "Name: days_employed, dtype: float64"
      ]
     },
     "execution_count": 7,
     "metadata": {},
     "output_type": "execute_result"
    }
   ],
   "source": [
    "data.groupby('income_type')['days_employed'].agg('median')"
   ]
  },
  {
   "cell_type": "markdown",
   "id": "90c5f058",
   "metadata": {
    "deletable": false,
    "editable": false,
    "id": "90c5f058"
   },
   "source": [
    "У двух типов (безработные и пенсионеры) получатся аномально большие значения. Исправить такие значения сложно, поэтому оставьте их как есть."
   ]
  },
  {
   "cell_type": "markdown",
   "id": "9652e50d",
   "metadata": {
    "deletable": false,
    "editable": false,
    "id": "9652e50d"
   },
   "source": [
    "**Задание 8. Выведите перечень уникальных значений столбца `children`.**"
   ]
  },
  {
   "cell_type": "code",
   "execution_count": 8,
   "id": "dbb37b8e",
   "metadata": {
    "id": "dbb37b8e",
    "outputId": "6975b15c-7f95-4697-d16d-a0c79b657b03"
   },
   "outputs": [
    {
     "data": {
      "text/plain": [
       "array([ 1,  0,  3,  2, -1,  4, 20,  5])"
      ]
     },
     "execution_count": 8,
     "metadata": {},
     "output_type": "execute_result"
    }
   ],
   "source": [
    "data['children'].unique()"
   ]
  },
  {
   "cell_type": "markdown",
   "id": "2b8b0715",
   "metadata": {
    "deletable": false,
    "editable": false,
    "id": "2b8b0715"
   },
   "source": [
    "**Задание 9. В столбце `children` есть два аномальных значения. Удалите строки, в которых встречаются такие аномальные значения из датафрейма `data`.**"
   ]
  },
  {
   "cell_type": "code",
   "execution_count": 9,
   "id": "20009df8",
   "metadata": {
    "id": "20009df8"
   },
   "outputs": [],
   "source": [
    "data = data[(data['children'] != -1) & (data['children'] != 20)]"
   ]
  },
  {
   "cell_type": "markdown",
   "id": "8c6ac9f1",
   "metadata": {
    "deletable": false,
    "editable": false,
    "id": "8c6ac9f1"
   },
   "source": [
    "**Задание 10. Ещё раз выведите перечень уникальных значений столбца `children`, чтобы убедиться, что артефакты удалены.**"
   ]
  },
  {
   "cell_type": "code",
   "execution_count": 10,
   "id": "07337b81",
   "metadata": {
    "id": "07337b81",
    "outputId": "b2097101-d49d-44d9-901b-32a65c9463d1"
   },
   "outputs": [
    {
     "data": {
      "text/plain": [
       "array([1, 0, 3, 2, 4, 5])"
      ]
     },
     "execution_count": 10,
     "metadata": {},
     "output_type": "execute_result"
    }
   ],
   "source": [
    "data['children'].unique()"
   ]
  },
  {
   "cell_type": "markdown",
   "id": "ee3f52d4",
   "metadata": {
    "deletable": false,
    "editable": false,
    "id": "ee3f52d4"
   },
   "source": [
    "### Удаление пропусков (продолжение)"
   ]
  },
  {
   "cell_type": "markdown",
   "id": "a700b0e4",
   "metadata": {
    "deletable": false,
    "editable": false,
    "id": "a700b0e4"
   },
   "source": [
    "**Задание 11. Заполните пропуски в столбце `days_employed` медианными значениями по каждого типа занятости `income_type`.**"
   ]
  },
  {
   "cell_type": "code",
   "execution_count": 11,
   "id": "61946b83",
   "metadata": {
    "id": "61946b83"
   },
   "outputs": [],
   "source": [
    "for t in data['income_type'].unique():\n",
    "    data.loc[(data['income_type'] == t) & (data['days_employed'].isna()), 'days_employed'] = \\\n",
    "    data.loc[(data['income_type'] == t), 'days_employed'].median()"
   ]
  },
  {
   "cell_type": "markdown",
   "id": "550dcd9b",
   "metadata": {
    "deletable": false,
    "editable": false,
    "id": "550dcd9b"
   },
   "source": [
    "**Задание 12. Убедитесь, что все пропуски заполнены. Проверьте себя и ещё раз выведите количество пропущенных значений для каждого столбца с помощью двух методов.**"
   ]
  },
  {
   "cell_type": "code",
   "execution_count": 12,
   "id": "937c7014",
   "metadata": {
    "id": "937c7014",
    "outputId": "8da1e4e1-358e-4e87-98c9-f261bce0a7b2"
   },
   "outputs": [
    {
     "data": {
      "text/plain": [
       "children            0\n",
       "days_employed       0\n",
       "dob_years           0\n",
       "education           0\n",
       "education_id        0\n",
       "family_status       0\n",
       "family_status_id    0\n",
       "gender              0\n",
       "income_type         0\n",
       "debt                0\n",
       "total_income        0\n",
       "purpose             0\n",
       "dtype: int64"
      ]
     },
     "execution_count": 12,
     "metadata": {},
     "output_type": "execute_result"
    }
   ],
   "source": [
    "data.isna().sum()"
   ]
  },
  {
   "cell_type": "markdown",
   "id": "d522e295",
   "metadata": {
    "deletable": false,
    "editable": false,
    "id": "d522e295"
   },
   "source": [
    "### Изменение типов данных"
   ]
  },
  {
   "cell_type": "markdown",
   "id": "c229c581",
   "metadata": {
    "deletable": false,
    "editable": false,
    "id": "c229c581"
   },
   "source": [
    "**Задание 13. Замените вещественный тип данных в столбце `total_income` на целочисленный с помощью метода `astype()`.**"
   ]
  },
  {
   "cell_type": "code",
   "execution_count": 13,
   "id": "31036462",
   "metadata": {
    "id": "31036462"
   },
   "outputs": [],
   "source": [
    "data['total_income'] = data['total_income'].astype(int)"
   ]
  },
  {
   "cell_type": "markdown",
   "id": "b8e3d1d9",
   "metadata": {
    "deletable": false,
    "editable": false,
    "id": "b8e3d1d9"
   },
   "source": [
    "### Обработка дубликатов"
   ]
  },
  {
   "cell_type": "markdown",
   "id": "9be53c49",
   "metadata": {
    "deletable": false,
    "editable": false,
    "id": "9be53c49"
   },
   "source": [
    "**Задание 14. Обработайте неявные дубликаты в столбце `education`. В этом столбце есть одни и те же значения, но записанные по-разному: с использованием заглавных и строчных букв. Приведите их к нижнему регистру.**"
   ]
  },
  {
   "cell_type": "code",
   "execution_count": 14,
   "id": "d89e73e1",
   "metadata": {
    "id": "d89e73e1"
   },
   "outputs": [],
   "source": [
    "data['education'] = data['education'].str.lower()"
   ]
  },
  {
   "cell_type": "markdown",
   "id": "01d4500e",
   "metadata": {
    "deletable": false,
    "editable": false,
    "id": "01d4500e"
   },
   "source": [
    "**Задание 15. Выведите на экран количество строк-дубликатов в данных. Если такие строки присутствуют, удалите их.**"
   ]
  },
  {
   "cell_type": "code",
   "execution_count": 15,
   "id": "e10efb23",
   "metadata": {
    "id": "e10efb23",
    "outputId": "9684deba-1934-42d1-99e1-cda61740f822"
   },
   "outputs": [
    {
     "data": {
      "text/plain": [
       "71"
      ]
     },
     "execution_count": 15,
     "metadata": {},
     "output_type": "execute_result"
    }
   ],
   "source": [
    "data.duplicated().sum()"
   ]
  },
  {
   "cell_type": "code",
   "execution_count": 16,
   "id": "df853f20",
   "metadata": {
    "id": "df853f20"
   },
   "outputs": [],
   "source": [
    "data = data.drop_duplicates()"
   ]
  },
  {
   "cell_type": "markdown",
   "id": "627be38f",
   "metadata": {
    "deletable": false,
    "editable": false,
    "id": "627be38f"
   },
   "source": [
    "### Категоризация данных"
   ]
  },
  {
   "cell_type": "markdown",
   "id": "4684c3e0",
   "metadata": {
    "deletable": false,
    "editable": false,
    "id": "4684c3e0"
   },
   "source": [
    "**Задание 16. На основании диапазонов, указанных ниже, создайте в датафрейме `data` столбец `total_income_category` с категориями:**\n",
    "\n",
    "- 0–30000 — `'E'`;\n",
    "- 30001–50000 — `'D'`;\n",
    "- 50001–200000 — `'C'`;\n",
    "- 200001–1000000 — `'B'`;\n",
    "- 1000001 и выше — `'A'`.\n",
    "\n",
    "\n",
    "**Например, кредитополучателю с доходом 25000 нужно назначить категорию `'E'`, а клиенту, получающему 235000, — `'B'`. Используйте собственную функцию с именем `categorize_income()` и метод `apply()`.**"
   ]
  },
  {
   "cell_type": "code",
   "execution_count": 17,
   "id": "78965238",
   "metadata": {
    "id": "78965238"
   },
   "outputs": [],
   "source": [
    "def categorize_income(income):\n",
    "    try:\n",
    "        if 0 <= income <= 30000:\n",
    "            return 'E'\n",
    "        elif 30001 <= income <= 50000:\n",
    "            return 'D'\n",
    "        elif 50001 <= income <= 200000:\n",
    "            return 'C'\n",
    "        elif 200001 <= income <= 1000000:\n",
    "            return 'B'\n",
    "        elif income >= 1000001:\n",
    "            return 'A'\n",
    "    except:\n",
    "        pass"
   ]
  },
  {
   "cell_type": "code",
   "execution_count": 18,
   "id": "0980ada1",
   "metadata": {
    "id": "0980ada1"
   },
   "outputs": [],
   "source": [
    "data['total_income_category'] = data['total_income'].apply(categorize_income)"
   ]
  },
  {
   "cell_type": "markdown",
   "id": "9917bba0",
   "metadata": {
    "deletable": false,
    "editable": false,
    "id": "9917bba0"
   },
   "source": [
    "**Задание 17. Выведите на экран перечень уникальных целей взятия кредита из столбца `purpose`.**"
   ]
  },
  {
   "cell_type": "code",
   "execution_count": 19,
   "id": "ee07b65e",
   "metadata": {
    "id": "ee07b65e",
    "outputId": "673c12d9-7d7e-4ae0-9812-c622c89dd244"
   },
   "outputs": [
    {
     "data": {
      "text/plain": [
       "array(['покупка жилья', 'приобретение автомобиля',\n",
       "       'дополнительное образование', 'сыграть свадьбу',\n",
       "       'операции с жильем', 'образование', 'на проведение свадьбы',\n",
       "       'покупка жилья для семьи', 'покупка недвижимости',\n",
       "       'покупка коммерческой недвижимости', 'покупка жилой недвижимости',\n",
       "       'строительство собственной недвижимости', 'недвижимость',\n",
       "       'строительство недвижимости', 'на покупку подержанного автомобиля',\n",
       "       'на покупку своего автомобиля',\n",
       "       'операции с коммерческой недвижимостью',\n",
       "       'строительство жилой недвижимости', 'жилье',\n",
       "       'операции со своей недвижимостью', 'автомобили',\n",
       "       'заняться образованием', 'сделка с подержанным автомобилем',\n",
       "       'получение образования', 'автомобиль', 'свадьба',\n",
       "       'получение дополнительного образования', 'покупка своего жилья',\n",
       "       'операции с недвижимостью', 'получение высшего образования',\n",
       "       'свой автомобиль', 'сделка с автомобилем',\n",
       "       'профильное образование', 'высшее образование',\n",
       "       'покупка жилья для сдачи', 'на покупку автомобиля', 'ремонт жилью',\n",
       "       'заняться высшим образованием'], dtype=object)"
      ]
     },
     "execution_count": 19,
     "metadata": {},
     "output_type": "execute_result"
    }
   ],
   "source": [
    "data['purpose'].unique()"
   ]
  },
  {
   "cell_type": "markdown",
   "id": "52b79d56",
   "metadata": {
    "deletable": false,
    "editable": false,
    "id": "52b79d56"
   },
   "source": [
    "**Задание 18. Создайте функцию, которая на основании данных из столбца `purpose` сформирует новый столбец `purpose_category`, в который войдут следующие категории:**\n",
    "\n",
    "- `'операции с автомобилем'`,\n",
    "- `'операции с недвижимостью'`,\n",
    "- `'проведение свадьбы'`,\n",
    "- `'получение образования'`.\n",
    "\n",
    "**Например, если в столбце `purpose` находится подстрока `'на покупку автомобиля'`, то в столбце `purpose_category` должна появиться строка `'операции с автомобилем'`.**\n",
    "\n",
    "**Используйте собственную функцию с именем `categorize_purpose()` и метод `apply()`. Изучите данные в столбце `purpose` и определите, какие подстроки помогут вам правильно определить категорию.**"
   ]
  },
  {
   "cell_type": "code",
   "execution_count": 20,
   "id": "be41da5d",
   "metadata": {
    "id": "be41da5d"
   },
   "outputs": [],
   "source": [
    "def categorize_purpose(row):\n",
    "    try:\n",
    "        if 'автом' in row:\n",
    "            return 'операции с автомобилем'\n",
    "        elif 'жил' in row or 'недвиж' in row:\n",
    "            return 'операции с недвижимостью'\n",
    "        elif 'свад' in row:\n",
    "            return 'проведение свадьбы'\n",
    "        elif 'образов' in row:\n",
    "            return 'получение образования'\n",
    "    except:\n",
    "        return 'нет категории'"
   ]
  },
  {
   "cell_type": "code",
   "execution_count": 21,
   "id": "94c4a19a",
   "metadata": {
    "id": "94c4a19a"
   },
   "outputs": [],
   "source": [
    "data['purpose_category'] = data['purpose'].apply(categorize_purpose)"
   ]
  },
  {
   "cell_type": "markdown",
   "id": "3d596c34",
   "metadata": {
    "deletable": false,
    "editable": false,
    "id": "3d596c34"
   },
   "source": [
    "### Шаг 3. Исследуйте данные и ответьте на вопросы"
   ]
  },
  {
   "cell_type": "markdown",
   "id": "648db036",
   "metadata": {
    "deletable": false,
    "editable": false,
    "id": "648db036"
   },
   "source": [
    "#### 3.1 Есть ли зависимость между количеством детей и возвратом кредита в срок?"
   ]
  },
  {
   "cell_type": "code",
   "execution_count": 22,
   "id": "7fcff25e",
   "metadata": {
    "id": "7fcff25e"
   },
   "outputs": [
    {
     "data": {
      "text/html": [
       "<div>\n",
       "<style scoped>\n",
       "    .dataframe tbody tr th:only-of-type {\n",
       "        vertical-align: middle;\n",
       "    }\n",
       "\n",
       "    .dataframe tbody tr th {\n",
       "        vertical-align: top;\n",
       "    }\n",
       "\n",
       "    .dataframe thead tr th {\n",
       "        text-align: left;\n",
       "    }\n",
       "\n",
       "    .dataframe thead tr:last-of-type th {\n",
       "        text-align: right;\n",
       "    }\n",
       "</style>\n",
       "<table border=\"1\" class=\"dataframe\">\n",
       "  <thead>\n",
       "    <tr>\n",
       "      <th></th>\n",
       "      <th>count</th>\n",
       "      <th>sum</th>\n",
       "      <th>mean</th>\n",
       "    </tr>\n",
       "    <tr>\n",
       "      <th></th>\n",
       "      <th>debt</th>\n",
       "      <th>debt</th>\n",
       "      <th>debt</th>\n",
       "    </tr>\n",
       "    <tr>\n",
       "      <th>child_count_category</th>\n",
       "      <th></th>\n",
       "      <th></th>\n",
       "      <th></th>\n",
       "    </tr>\n",
       "  </thead>\n",
       "  <tbody>\n",
       "    <tr>\n",
       "      <th>бездетный</th>\n",
       "      <td>14091</td>\n",
       "      <td>1063</td>\n",
       "      <td>0.075438</td>\n",
       "    </tr>\n",
       "    <tr>\n",
       "      <th>многодетный</th>\n",
       "      <td>380</td>\n",
       "      <td>31</td>\n",
       "      <td>0.081579</td>\n",
       "    </tr>\n",
       "    <tr>\n",
       "      <th>малодетный</th>\n",
       "      <td>6860</td>\n",
       "      <td>638</td>\n",
       "      <td>0.093003</td>\n",
       "    </tr>\n",
       "  </tbody>\n",
       "</table>\n",
       "</div>"
      ],
      "text/plain": [
       "                      count   sum      mean\n",
       "                       debt  debt      debt\n",
       "child_count_category                       \n",
       "бездетный             14091  1063  0.075438\n",
       "многодетный             380    31  0.081579\n",
       "малодетный             6860   638  0.093003"
      ]
     },
     "execution_count": 22,
     "metadata": {},
     "output_type": "execute_result"
    }
   ],
   "source": [
    "# Проверяем на наличие аномалий Series: data['children'] \n",
    "#print(data['children'].value_counts())\n",
    "# Суммарно категории с 3-я, 4-я и 5-ю детьми сильно уступают в количестве другим единичным категориям, поэтому:\n",
    "\n",
    "# Сегментируем строки на 3 группы по количеству детей(создав функцию): бездетные, малодетные, многодетные\n",
    "def child_count_category(count_children):\n",
    "    try:\n",
    "        if count_children == 0:\n",
    "            return 'бездетный'\n",
    "        elif 1 <= count_children < 3:\n",
    "            return 'малодетный'\n",
    "        elif count_children >= 3:\n",
    "            return 'многодетный'\n",
    "    except:\n",
    "        return 'неизвестно'\n",
    "# Создаём столбец с сегментами, зависящие от количества детей\n",
    "data['child_count_category'] = data['children'].apply(child_count_category)\n",
    "\n",
    "data.pivot_table(index='child_count_category', values='debt', aggfunc=['count', 'sum', 'mean']).sort_values(by=('mean', 'debt'))"
   ]
  },
  {
   "cell_type": "markdown",
   "id": "2eb9088e",
   "metadata": {
    "id": "2eb9088e"
   },
   "source": [
    "**Вывод:**  \n",
    "  В рамках данной выбоки(дата-фрейма) нельзя утверждать что большее количество детей негативно сказывается на выплате долга в срок и обратное, так как найденные коэффиценты не могут продемонстрировать градационную зависимость. Бездетные клиенты реже других сегментов не выплачивают долг в срок, возможно ввиду относительно небольшой группы неожиданных трат. Малодетные клиенты лидируют по числу не выплаченных в срок долгов, вероятно из-за небольшого опыта планирования бюджета с детьми. Многодетные клиенты чаще малодетных возвращают долг в срок, возможно из-за понимания возникновения нежданных трат."
   ]
  },
  {
   "cell_type": "markdown",
   "id": "74c9b3a7",
   "metadata": {
    "deletable": false,
    "editable": false,
    "id": "74c9b3a7"
   },
   "source": [
    "#### 3.2 Есть ли зависимость между семейным положением и возвратом кредита в срок?"
   ]
  },
  {
   "cell_type": "code",
   "execution_count": 23,
   "id": "8098ab3b",
   "metadata": {
    "id": "8098ab3b"
   },
   "outputs": [
    {
     "data": {
      "text/html": [
       "<div>\n",
       "<style scoped>\n",
       "    .dataframe tbody tr th:only-of-type {\n",
       "        vertical-align: middle;\n",
       "    }\n",
       "\n",
       "    .dataframe tbody tr th {\n",
       "        vertical-align: top;\n",
       "    }\n",
       "\n",
       "    .dataframe thead th {\n",
       "        text-align: right;\n",
       "    }\n",
       "</style>\n",
       "<table border=\"1\" class=\"dataframe\">\n",
       "  <thead>\n",
       "    <tr style=\"text-align: right;\">\n",
       "      <th></th>\n",
       "      <th>family_status</th>\n",
       "      <th>share_debt</th>\n",
       "    </tr>\n",
       "  </thead>\n",
       "  <tbody>\n",
       "    <tr>\n",
       "      <th>0</th>\n",
       "      <td>вдовец / вдова</td>\n",
       "      <td>0.066246</td>\n",
       "    </tr>\n",
       "    <tr>\n",
       "      <th>1</th>\n",
       "      <td>в разводе</td>\n",
       "      <td>0.070648</td>\n",
       "    </tr>\n",
       "    <tr>\n",
       "      <th>2</th>\n",
       "      <td>женат / замужем</td>\n",
       "      <td>0.075606</td>\n",
       "    </tr>\n",
       "    <tr>\n",
       "      <th>3</th>\n",
       "      <td>гражданский брак</td>\n",
       "      <td>0.093130</td>\n",
       "    </tr>\n",
       "    <tr>\n",
       "      <th>4</th>\n",
       "      <td>Не женат / не замужем</td>\n",
       "      <td>0.097639</td>\n",
       "    </tr>\n",
       "  </tbody>\n",
       "</table>\n",
       "</div>"
      ],
      "text/plain": [
       "           family_status  share_debt\n",
       "0         вдовец / вдова    0.066246\n",
       "1              в разводе    0.070648\n",
       "2        женат / замужем    0.075606\n",
       "3       гражданский брак    0.093130\n",
       "4  Не женат / не замужем    0.097639"
      ]
     },
     "execution_count": 23,
     "metadata": {},
     "output_type": "execute_result"
    }
   ],
   "source": [
    "shares_debt_fs = []\n",
    "for i in data['family_status'].unique():\n",
    "    share_debt_fs = data[(data['family_status'] == i) & (data['debt'] == 1)]['debt'].count() \\\n",
    "    / data[data['family_status'] == i]['debt'].count()\n",
    "    shares_debt_fs.append(share_debt_fs)\n",
    "for_df_share_fs = {'family_status':data['family_status'].unique(), 'share_debt':shares_debt_fs}\n",
    "df_share_fs = pd.DataFrame(for_df_share_fs).sort_values('share_debt').reset_index(drop=True)\n",
    "df_share_fs\n",
    "# Можно было вывести результат в виде сводной таблицы, но хотелось бы добавить ещё столбцы для полноты исследования,\n",
    "# а из сводной таблицы нельзя извлекать данные(подробнее в следующем цикле)"
   ]
  },
  {
   "cell_type": "markdown",
   "id": "c389ca63",
   "metadata": {
    "id": "c389ca63"
   },
   "source": [
    "**Вывод:** Категория \"вдова/вдовец\" чаще всех остальных категорий погашает долги в срок, за ней идёт категория \n",
    "\"в разводе\", далее \"женат/замужем\", \"гражданский брак\", затем \"не женат/не замужем\". Клиенты которые состоят в официальном браке в среднем лучше выплачивают кредиты в срок относительно категории \"гражданский брак\". Риск неуплаты для каждой категории выявлен, а значит наиболее приоритетные семейные статусы для банка найдены. Но могу предположить что категории \"вдова/вдовец\" и \"в разводе\" в большинстве случаев клиенты значительного возраста, имеющие весомый опыт в понимании своих финансовых возможностей, далее следует категория \"женат/замужем\"(которая по идее тоже должна состоять из зрелых личностей) и т.д. Это наводит на мысль о том, что наше размещение категорий коррелирует с возрастом клиентов. А точно ли данное предположение верно? Эта гипотеза  проверена(в строке ниже) и возможно полезна для данного исследования(медианный возраст устойчив к выбросам, но для большей наглядности средний возраст также посчитан). "
   ]
  },
  {
   "cell_type": "code",
   "execution_count": 24,
   "id": "9f00fe74",
   "metadata": {},
   "outputs": [
    {
     "data": {
      "text/html": [
       "<div>\n",
       "<style scoped>\n",
       "    .dataframe tbody tr th:only-of-type {\n",
       "        vertical-align: middle;\n",
       "    }\n",
       "\n",
       "    .dataframe tbody tr th {\n",
       "        vertical-align: top;\n",
       "    }\n",
       "\n",
       "    .dataframe thead th {\n",
       "        text-align: right;\n",
       "    }\n",
       "</style>\n",
       "<table border=\"1\" class=\"dataframe\">\n",
       "  <thead>\n",
       "    <tr style=\"text-align: right;\">\n",
       "      <th></th>\n",
       "      <th>family_status</th>\n",
       "      <th>share_debt</th>\n",
       "      <th>median_age</th>\n",
       "      <th>average_age</th>\n",
       "    </tr>\n",
       "  </thead>\n",
       "  <tbody>\n",
       "    <tr>\n",
       "      <th>0</th>\n",
       "      <td>вдовец / вдова</td>\n",
       "      <td>0.066246</td>\n",
       "      <td>58.0</td>\n",
       "      <td>56.501577</td>\n",
       "    </tr>\n",
       "    <tr>\n",
       "      <th>1</th>\n",
       "      <td>в разводе</td>\n",
       "      <td>0.070648</td>\n",
       "      <td>46.0</td>\n",
       "      <td>45.561817</td>\n",
       "    </tr>\n",
       "    <tr>\n",
       "      <th>2</th>\n",
       "      <td>женат / замужем</td>\n",
       "      <td>0.075606</td>\n",
       "      <td>43.0</td>\n",
       "      <td>43.558519</td>\n",
       "    </tr>\n",
       "    <tr>\n",
       "      <th>3</th>\n",
       "      <td>гражданский брак</td>\n",
       "      <td>0.093130</td>\n",
       "      <td>41.0</td>\n",
       "      <td>42.067731</td>\n",
       "    </tr>\n",
       "    <tr>\n",
       "      <th>4</th>\n",
       "      <td>Не женат / не замужем</td>\n",
       "      <td>0.097639</td>\n",
       "      <td>36.0</td>\n",
       "      <td>38.368026</td>\n",
       "    </tr>\n",
       "  </tbody>\n",
       "</table>\n",
       "</div>"
      ],
      "text/plain": [
       "           family_status  share_debt  median_age  average_age\n",
       "0         вдовец / вдова    0.066246        58.0    56.501577\n",
       "1              в разводе    0.070648        46.0    45.561817\n",
       "2        женат / замужем    0.075606        43.0    43.558519\n",
       "3       гражданский брак    0.093130        41.0    42.067731\n",
       "4  Не женат / не замужем    0.097639        36.0    38.368026"
      ]
     },
     "execution_count": 24,
     "metadata": {},
     "output_type": "execute_result"
    }
   ],
   "source": [
    "median_list, mean_list = [], []\n",
    "\n",
    "for j in df_share_fs['family_status']:\n",
    "# Если бы df_share_fs был бы сводной таблицей, то 'family_status' был бы неопределён(проверено)    \n",
    "    median_list.append(data[data['family_status'] == j]['dob_years'].median())\n",
    "    mean_list.append(data[data['family_status'] == j]['dob_years'].mean())\n",
    "df_share_fs['median_age'], df_share_fs['average_age'] = median_list, mean_list\n",
    "\n",
    "df_share_fs"
   ]
  },
  {
   "cell_type": "markdown",
   "id": "9529de68",
   "metadata": {
    "deletable": false,
    "editable": false,
    "id": "9529de68"
   },
   "source": [
    "#### 3.3 Есть ли зависимость между уровнем дохода и возвратом кредита в срок?"
   ]
  },
  {
   "cell_type": "code",
   "execution_count": 25,
   "id": "8787f44a",
   "metadata": {
    "id": "8787f44a"
   },
   "outputs": [
    {
     "data": {
      "text/html": [
       "<div>\n",
       "<style scoped>\n",
       "    .dataframe tbody tr th:only-of-type {\n",
       "        vertical-align: middle;\n",
       "    }\n",
       "\n",
       "    .dataframe tbody tr th {\n",
       "        vertical-align: top;\n",
       "    }\n",
       "\n",
       "    .dataframe thead tr th {\n",
       "        text-align: left;\n",
       "    }\n",
       "\n",
       "    .dataframe thead tr:last-of-type th {\n",
       "        text-align: right;\n",
       "    }\n",
       "</style>\n",
       "<table border=\"1\" class=\"dataframe\">\n",
       "  <thead>\n",
       "    <tr>\n",
       "      <th></th>\n",
       "      <th>count</th>\n",
       "      <th>sum</th>\n",
       "      <th>mean</th>\n",
       "    </tr>\n",
       "    <tr>\n",
       "      <th></th>\n",
       "      <th>debt</th>\n",
       "      <th>debt</th>\n",
       "      <th>debt</th>\n",
       "    </tr>\n",
       "    <tr>\n",
       "      <th>income_diaposon</th>\n",
       "      <th></th>\n",
       "      <th></th>\n",
       "      <th></th>\n",
       "    </tr>\n",
       "  </thead>\n",
       "  <tbody>\n",
       "    <tr>\n",
       "      <th>Высокий(200001 - 1000000)</th>\n",
       "      <td>5014</td>\n",
       "      <td>354</td>\n",
       "      <td>0.070602</td>\n",
       "    </tr>\n",
       "    <tr>\n",
       "      <th>Выше среднего(50001 - 200001)</th>\n",
       "      <td>15921</td>\n",
       "      <td>1353</td>\n",
       "      <td>0.084982</td>\n",
       "    </tr>\n",
       "  </tbody>\n",
       "</table>\n",
       "</div>"
      ],
      "text/plain": [
       "                               count   sum      mean\n",
       "                                debt  debt      debt\n",
       "income_diaposon                                     \n",
       "Высокий(200001 - 1000000)       5014   354  0.070602\n",
       "Выше среднего(50001 - 200001)  15921  1353  0.084982"
      ]
     },
     "execution_count": 25,
     "metadata": {},
     "output_type": "execute_result"
    }
   ],
   "source": [
    "#print(data['total_income_category'].value_counts())\n",
    "# Сравниваем клиентов только с категорией дохода B и C, так как данных других категорий слишком мало для исследования\n",
    "\n",
    "# Разброс заработных плат велик, поэтому будем использовать категоризированный уровень дохода(data['total_income_category']\n",
    "\n",
    "# Функция конвертирующая сегмент дохода в промежуток дохода, необходимая для более наглядного представления \n",
    "def revers_total_income_category(category):\n",
    "    try:\n",
    "        if category == 'A':\n",
    "            return 'Очень высокий(10000001 - ?)'\n",
    "        elif category == 'B':\n",
    "            return 'Высокий(200001 - 1000000)'\n",
    "        elif category == 'C':\n",
    "            return 'Выше среднего(50001 - 200001)'\n",
    "        elif category == 'D':\n",
    "            return 'Средний(30001 - 50001)'\n",
    "        elif category == 'E':\n",
    "            return 'Отсутсвующий или низкий(0 - 30000)'\n",
    "    except:\n",
    "        return 'Неизвестный(?)'\n",
    "\n",
    "# Создаём новую колонку в дата-фрейме для последующего более наглядного представления данных\n",
    "data['income_diaposon'] = data['total_income_category'].apply(revers_total_income_category)\n",
    "\n",
    "# Выбираем только значимые категории из всего дата-фрейма(B, C)\n",
    "target_category = data[(data['total_income_category'] == 'B') | (data['total_income_category'] == 'C')]\n",
    "\n",
    "# Строим отсортированную сводную таблицу для интерпритации выводов\n",
    "target_category.pivot_table(index='income_diaposon', values='debt', aggfunc=['count', 'sum', 'mean'])\\\n",
    ".sort_values(('mean', 'debt'))"
   ]
  },
  {
   "cell_type": "markdown",
   "id": "6dd14b57",
   "metadata": {
    "id": "6dd14b57"
   },
   "source": [
    "**Вывод:** Для большинства категорий дохода оказалось слишком мало данных для проведения исследования. Наиболее пригодными для анализа выборками оказались: \"Высокий\" и \"Выше среднего\". В результате удалось выяснить что в среднем клиенты с высоким уровнем дохода лучше справляются с выплатой кредита в срок ежели клиенты с доходом выше среднего.   "
   ]
  },
  {
   "cell_type": "markdown",
   "id": "1dcc9b12",
   "metadata": {
    "deletable": false,
    "editable": false,
    "id": "1dcc9b12"
   },
   "source": [
    "#### 3.4 Как разные цели кредита влияют на его возврат в срок?"
   ]
  },
  {
   "cell_type": "code",
   "execution_count": 26,
   "id": "c602bc8b",
   "metadata": {
    "id": "c602bc8b"
   },
   "outputs": [
    {
     "data": {
      "text/html": [
       "<div>\n",
       "<style scoped>\n",
       "    .dataframe tbody tr th:only-of-type {\n",
       "        vertical-align: middle;\n",
       "    }\n",
       "\n",
       "    .dataframe tbody tr th {\n",
       "        vertical-align: top;\n",
       "    }\n",
       "\n",
       "    .dataframe thead th {\n",
       "        text-align: right;\n",
       "    }\n",
       "</style>\n",
       "<table border=\"1\" class=\"dataframe\">\n",
       "  <thead>\n",
       "    <tr style=\"text-align: right;\">\n",
       "      <th></th>\n",
       "      <th>debt</th>\n",
       "    </tr>\n",
       "    <tr>\n",
       "      <th>purpose_category</th>\n",
       "      <th></th>\n",
       "    </tr>\n",
       "  </thead>\n",
       "  <tbody>\n",
       "    <tr>\n",
       "      <th>операции с недвижимостью</th>\n",
       "      <td>0.072551</td>\n",
       "    </tr>\n",
       "    <tr>\n",
       "      <th>проведение свадьбы</th>\n",
       "      <td>0.079118</td>\n",
       "    </tr>\n",
       "    <tr>\n",
       "      <th>получение образования</th>\n",
       "      <td>0.092528</td>\n",
       "    </tr>\n",
       "    <tr>\n",
       "      <th>операции с автомобилем</th>\n",
       "      <td>0.093480</td>\n",
       "    </tr>\n",
       "  </tbody>\n",
       "</table>\n",
       "</div>"
      ],
      "text/plain": [
       "                              debt\n",
       "purpose_category                  \n",
       "операции с недвижимостью  0.072551\n",
       "проведение свадьбы        0.079118\n",
       "получение образования     0.092528\n",
       "операции с автомобилем    0.093480"
      ]
     },
     "execution_count": 26,
     "metadata": {},
     "output_type": "execute_result"
    }
   ],
   "source": [
    "share_debt_purpose = data.pivot_table(index='purpose_category', values='debt', aggfunc='mean')\n",
    "share_debt_purpose.sort_values('debt')"
   ]
  },
  {
   "cell_type": "markdown",
   "id": "cf05ed63",
   "metadata": {
    "id": "cf05ed63"
   },
   "source": [
    "**Вывод:** Относительно выплатам долга в срок самой стабильной целью является: операции с недвижимостью, самой нестабильной - операции с автомобилем. "
   ]
  },
  {
   "cell_type": "markdown",
   "id": "46c1f10b",
   "metadata": {
    "deletable": false,
    "editable": false,
    "id": "46c1f10b"
   },
   "source": [
    "#### 3.5 Приведите возможные причины появления пропусков в исходных данных."
   ]
  },
  {
   "cell_type": "markdown",
   "id": "3697d2a9",
   "metadata": {
    "id": "3697d2a9"
   },
   "source": [
    "*Ответ:* \n",
    "- пользователь мог не вводить информацию(если это не обязательно);\n",
    "- при обработке данных предыдущее значение могло не подойти под критерии(функции или цикла);\n",
    "- умышленные(допустимые) пропуски;\n",
    "- проблемы с выгрузкой из базы данных;\n",
    "- повреждённый читаемый файл."
   ]
  },
  {
   "cell_type": "markdown",
   "id": "3137d257",
   "metadata": {
    "deletable": false,
    "editable": false,
    "id": "3137d257"
   },
   "source": [
    "#### 3.6 Объясните, почему заполнить пропуски медианным значением — лучшее решение для количественных переменных."
   ]
  },
  {
   "cell_type": "markdown",
   "id": "cf40012a",
   "metadata": {
    "id": "cf40012a"
   },
   "source": [
    "**Ответ:** *Заполнить пропуски медианным значением — лучшее решение для количественных переменных, потому что:*\n",
    "- медианное значение устойчиво к аномалиям(выбросам) в отличии от среднего арифметического;\n",
    "- медианное значение более точно отражает центральную тенденцую в данных;\n",
    "- относительная простота вычисления.\n"
   ]
  },
  {
   "cell_type": "markdown",
   "id": "57bc304e",
   "metadata": {
    "deletable": false,
    "editable": false,
    "id": "57bc304e"
   },
   "source": [
    "### Шаг 4: общий вывод."
   ]
  },
  {
   "cell_type": "markdown",
   "id": "1ab75d1c",
   "metadata": {
    "id": "1ab75d1c"
   },
   "source": [
    "В данном исследовании были найдены различные зависимости для осуществления наиболее эффективной деятельности организации.\n",
    "Расположение этих зависимостей по степени приоритета может быть осуществлено различными путями и каждый из вариантов будет основан на цифрах, визуализации и т.д(у каждого варианта есть риски совершить ошибку)., поэтому нельзя точно утверждать какой их них самый лучший на данный момент. Независимо от варианта приоритезации самый безопасный и наиболее рискованный для организации сегмент клиентов не меняется. В итоге получаем:\n",
    "1. Самый безопасный для выдачи кредита портрет клиента: бездетная семья, вдовец / вдова, высокий доход, с категорией цели: операции с недвижимостью.\n",
    "2. Самый рискованный для выдачи кредита портрет клиента: малодетная семья, не женат / не замужем, с доходом выше среднего, категория цели: операции с автомобилем."
   ]
  }
 ],
 "metadata": {
  "ExecuteTimeLog": [
   {
    "duration": 641,
    "start_time": "2023-12-19T09:28:55.128Z"
   },
   {
    "duration": 20,
    "start_time": "2023-12-19T09:29:04.166Z"
   },
   {
    "duration": 14,
    "start_time": "2023-12-19T09:29:07.887Z"
   },
   {
    "duration": 10,
    "start_time": "2023-12-19T09:29:11.601Z"
   },
   {
    "duration": 38,
    "start_time": "2023-12-19T09:29:14.861Z"
   },
   {
    "duration": 4,
    "start_time": "2023-12-19T09:29:17.493Z"
   },
   {
    "duration": 7,
    "start_time": "2023-12-19T09:29:21.033Z"
   },
   {
    "duration": 4,
    "start_time": "2023-12-19T09:29:25.080Z"
   },
   {
    "duration": 7,
    "start_time": "2023-12-19T09:29:27.985Z"
   },
   {
    "duration": 4,
    "start_time": "2023-12-19T09:29:30.434Z"
   },
   {
    "duration": 32,
    "start_time": "2023-12-19T09:29:33.875Z"
   },
   {
    "duration": 10,
    "start_time": "2023-12-19T09:29:36.643Z"
   },
   {
    "duration": 3,
    "start_time": "2023-12-19T09:29:39.743Z"
   },
   {
    "duration": 10,
    "start_time": "2023-12-19T09:29:42.357Z"
   },
   {
    "duration": 18,
    "start_time": "2023-12-19T09:29:44.867Z"
   },
   {
    "duration": 16,
    "start_time": "2023-12-19T09:29:47.912Z"
   },
   {
    "duration": 4,
    "start_time": "2023-12-19T09:29:52.074Z"
   },
   {
    "duration": 9,
    "start_time": "2023-12-19T09:29:55.229Z"
   },
   {
    "duration": 6,
    "start_time": "2023-12-19T09:29:58.645Z"
   },
   {
    "duration": 4,
    "start_time": "2023-12-19T09:30:03.749Z"
   },
   {
    "duration": 9,
    "start_time": "2023-12-19T09:30:06.774Z"
   },
   {
    "duration": 1228,
    "start_time": "2023-12-19T09:38:11.886Z"
   },
   {
    "duration": 23,
    "start_time": "2023-12-19T09:38:26.900Z"
   },
   {
    "duration": 13,
    "start_time": "2023-12-19T09:40:52.462Z"
   },
   {
    "duration": 23,
    "start_time": "2023-12-19T09:41:07.868Z"
   },
   {
    "duration": 21,
    "start_time": "2023-12-19T09:42:26.030Z"
   },
   {
    "duration": 11,
    "start_time": "2023-12-19T09:42:58.346Z"
   },
   {
    "duration": 10,
    "start_time": "2023-12-19T09:43:15.044Z"
   },
   {
    "duration": 11,
    "start_time": "2023-12-19T09:43:46.345Z"
   },
   {
    "duration": 8,
    "start_time": "2023-12-19T09:44:06.749Z"
   },
   {
    "duration": 8,
    "start_time": "2023-12-19T09:44:10.160Z"
   },
   {
    "duration": 12,
    "start_time": "2023-12-19T09:44:43.337Z"
   },
   {
    "duration": 9,
    "start_time": "2023-12-19T09:46:41.621Z"
   },
   {
    "duration": 21,
    "start_time": "2023-12-19T10:00:49.002Z"
   },
   {
    "duration": 32,
    "start_time": "2023-12-19T10:01:19.682Z"
   },
   {
    "duration": 19,
    "start_time": "2023-12-19T10:01:35.961Z"
   },
   {
    "duration": 625,
    "start_time": "2023-12-19T10:01:41.251Z"
   },
   {
    "duration": 20,
    "start_time": "2023-12-19T10:01:48.341Z"
   },
   {
    "duration": 12,
    "start_time": "2023-12-19T10:03:19.704Z"
   },
   {
    "duration": 518,
    "start_time": "2023-12-19T13:39:01.067Z"
   },
   {
    "duration": 23,
    "start_time": "2023-12-19T13:39:07.353Z"
   },
   {
    "duration": 16,
    "start_time": "2023-12-19T13:39:11.552Z"
   },
   {
    "duration": 11,
    "start_time": "2023-12-19T13:39:14.838Z"
   },
   {
    "duration": 35,
    "start_time": "2023-12-19T13:39:17.846Z"
   },
   {
    "duration": 3,
    "start_time": "2023-12-19T13:39:20.549Z"
   },
   {
    "duration": 7,
    "start_time": "2023-12-19T13:39:22.799Z"
   },
   {
    "duration": 5,
    "start_time": "2023-12-19T13:39:25.659Z"
   },
   {
    "duration": 6,
    "start_time": "2023-12-19T13:39:27.887Z"
   },
   {
    "duration": 4,
    "start_time": "2023-12-19T13:39:29.962Z"
   },
   {
    "duration": 38,
    "start_time": "2023-12-19T13:39:32.823Z"
   },
   {
    "duration": 10,
    "start_time": "2023-12-19T13:39:34.820Z"
   },
   {
    "duration": 4,
    "start_time": "2023-12-19T13:39:37.387Z"
   },
   {
    "duration": 11,
    "start_time": "2023-12-19T13:39:39.690Z"
   },
   {
    "duration": 19,
    "start_time": "2023-12-19T13:39:43.659Z"
   },
   {
    "duration": 17,
    "start_time": "2023-12-19T13:39:46.474Z"
   },
   {
    "duration": 4,
    "start_time": "2023-12-19T13:39:49.663Z"
   },
   {
    "duration": 11,
    "start_time": "2023-12-19T13:39:52.234Z"
   },
   {
    "duration": 6,
    "start_time": "2023-12-19T13:39:54.614Z"
   },
   {
    "duration": 4,
    "start_time": "2023-12-19T13:39:58.168Z"
   },
   {
    "duration": 10,
    "start_time": "2023-12-19T13:40:00.786Z"
   },
   {
    "duration": 19,
    "start_time": "2023-12-19T13:40:04.904Z"
   },
   {
    "duration": 15,
    "start_time": "2023-12-19T13:40:16.794Z"
   },
   {
    "duration": 18,
    "start_time": "2023-12-19T13:47:20.124Z"
   },
   {
    "duration": 16,
    "start_time": "2023-12-19T13:47:26.946Z"
   },
   {
    "duration": 16,
    "start_time": "2023-12-19T13:47:47.325Z"
   },
   {
    "duration": 19,
    "start_time": "2023-12-19T13:48:44.984Z"
   },
   {
    "duration": 16,
    "start_time": "2023-12-19T13:48:56.191Z"
   },
   {
    "duration": 16,
    "start_time": "2023-12-19T13:49:51.968Z"
   },
   {
    "duration": 16,
    "start_time": "2023-12-19T13:50:57.728Z"
   },
   {
    "duration": 55,
    "start_time": "2023-12-19T13:51:52.962Z"
   },
   {
    "duration": 18,
    "start_time": "2023-12-19T14:17:12.065Z"
   },
   {
    "duration": 17,
    "start_time": "2023-12-19T14:17:42.804Z"
   },
   {
    "duration": 18,
    "start_time": "2023-12-19T14:17:55.634Z"
   },
   {
    "duration": 15,
    "start_time": "2023-12-19T14:19:24.722Z"
   },
   {
    "duration": 13,
    "start_time": "2023-12-19T14:19:46.691Z"
   },
   {
    "duration": 17,
    "start_time": "2023-12-19T14:22:33.774Z"
   },
   {
    "duration": 14,
    "start_time": "2023-12-19T14:26:45.396Z"
   },
   {
    "duration": 15,
    "start_time": "2023-12-19T14:33:25.036Z"
   },
   {
    "duration": 13,
    "start_time": "2023-12-19T14:33:52.117Z"
   },
   {
    "duration": 5,
    "start_time": "2023-12-19T14:54:10.948Z"
   },
   {
    "duration": 76,
    "start_time": "2023-12-19T17:15:10.490Z"
   },
   {
    "duration": 21,
    "start_time": "2023-12-19T17:16:36.163Z"
   },
   {
    "duration": 14,
    "start_time": "2023-12-19T17:16:50.560Z"
   },
   {
    "duration": 14,
    "start_time": "2023-12-19T17:16:54.455Z"
   },
   {
    "duration": 13,
    "start_time": "2023-12-19T17:17:06.697Z"
   },
   {
    "duration": 14,
    "start_time": "2023-12-19T17:17:13.912Z"
   },
   {
    "duration": 14,
    "start_time": "2023-12-19T17:17:23.829Z"
   },
   {
    "duration": 13,
    "start_time": "2023-12-19T17:17:32.472Z"
   },
   {
    "duration": 16,
    "start_time": "2023-12-19T19:04:49.147Z"
   },
   {
    "duration": 14,
    "start_time": "2023-12-19T19:08:26.586Z"
   },
   {
    "duration": 55,
    "start_time": "2023-12-19T19:21:04.211Z"
   },
   {
    "duration": 46,
    "start_time": "2023-12-19T19:21:16.552Z"
   },
   {
    "duration": 27,
    "start_time": "2023-12-19T19:21:34.220Z"
   },
   {
    "duration": 24,
    "start_time": "2023-12-19T19:22:01.108Z"
   },
   {
    "duration": 60,
    "start_time": "2023-12-19T19:22:56.061Z"
   },
   {
    "duration": 48,
    "start_time": "2023-12-19T19:23:35.704Z"
   },
   {
    "duration": 27,
    "start_time": "2023-12-19T19:24:07.622Z"
   },
   {
    "duration": 76,
    "start_time": "2023-12-19T19:24:46.196Z"
   },
   {
    "duration": 29,
    "start_time": "2023-12-19T19:24:54.780Z"
   },
   {
    "duration": 29,
    "start_time": "2023-12-19T19:25:09.532Z"
   },
   {
    "duration": 16,
    "start_time": "2023-12-19T19:56:28.312Z"
   },
   {
    "duration": 31,
    "start_time": "2023-12-19T21:08:36.038Z"
   },
   {
    "duration": 38,
    "start_time": "2023-12-19T21:09:17.985Z"
   },
   {
    "duration": 42,
    "start_time": "2023-12-19T21:09:57.572Z"
   },
   {
    "duration": 50,
    "start_time": "2023-12-19T21:10:10.166Z"
   },
   {
    "duration": 54,
    "start_time": "2023-12-19T21:10:16.770Z"
   },
   {
    "duration": 4,
    "start_time": "2023-12-19T21:11:18.242Z"
   },
   {
    "duration": 4,
    "start_time": "2023-12-19T21:11:35.152Z"
   },
   {
    "duration": 5,
    "start_time": "2023-12-19T21:11:50.847Z"
   },
   {
    "duration": 49,
    "start_time": "2023-12-19T21:11:58.560Z"
   },
   {
    "duration": 52,
    "start_time": "2023-12-19T21:12:05.141Z"
   },
   {
    "duration": 4,
    "start_time": "2023-12-19T21:19:33.240Z"
   },
   {
    "duration": 4,
    "start_time": "2023-12-19T21:20:03.206Z"
   },
   {
    "duration": 29,
    "start_time": "2023-12-19T21:20:14.316Z"
   },
   {
    "duration": 62,
    "start_time": "2023-12-19T21:23:46.037Z"
   },
   {
    "duration": 29,
    "start_time": "2023-12-19T21:24:48.680Z"
   },
   {
    "duration": 34,
    "start_time": "2023-12-19T21:33:42.925Z"
   },
   {
    "duration": 31,
    "start_time": "2023-12-19T21:34:55.649Z"
   },
   {
    "duration": 13,
    "start_time": "2023-12-19T21:50:59.803Z"
   },
   {
    "duration": 19,
    "start_time": "2023-12-19T22:02:37.751Z"
   },
   {
    "duration": 39,
    "start_time": "2023-12-19T22:04:30.884Z"
   },
   {
    "duration": 20,
    "start_time": "2023-12-19T22:06:31.484Z"
   },
   {
    "duration": 31,
    "start_time": "2023-12-19T22:53:24.341Z"
   },
   {
    "duration": 30,
    "start_time": "2023-12-19T22:53:52.081Z"
   },
   {
    "duration": 29,
    "start_time": "2023-12-19T22:54:05.542Z"
   },
   {
    "duration": 31,
    "start_time": "2023-12-19T22:57:55.984Z"
   },
   {
    "duration": 29,
    "start_time": "2023-12-19T22:58:18.057Z"
   },
   {
    "duration": 46,
    "start_time": "2023-12-20T10:39:46.396Z"
   },
   {
    "duration": 7,
    "start_time": "2023-12-20T10:40:03.867Z"
   },
   {
    "duration": 703,
    "start_time": "2023-12-20T10:40:06.666Z"
   },
   {
    "duration": 22,
    "start_time": "2023-12-20T10:40:10.994Z"
   },
   {
    "duration": 21,
    "start_time": "2023-12-20T10:40:14.221Z"
   },
   {
    "duration": 11,
    "start_time": "2023-12-20T10:40:16.946Z"
   },
   {
    "duration": 37,
    "start_time": "2023-12-20T10:40:20.410Z"
   },
   {
    "duration": 3,
    "start_time": "2023-12-20T10:40:27.684Z"
   },
   {
    "duration": 8,
    "start_time": "2023-12-20T10:40:29.992Z"
   },
   {
    "duration": 4,
    "start_time": "2023-12-20T10:40:32.815Z"
   },
   {
    "duration": 7,
    "start_time": "2023-12-20T10:40:35.044Z"
   },
   {
    "duration": 5,
    "start_time": "2023-12-20T10:40:37.520Z"
   },
   {
    "duration": 34,
    "start_time": "2023-12-20T10:40:39.756Z"
   },
   {
    "duration": 10,
    "start_time": "2023-12-20T10:40:42.004Z"
   },
   {
    "duration": 4,
    "start_time": "2023-12-20T10:40:44.421Z"
   },
   {
    "duration": 11,
    "start_time": "2023-12-20T10:40:46.770Z"
   },
   {
    "duration": 22,
    "start_time": "2023-12-20T10:40:48.955Z"
   },
   {
    "duration": 18,
    "start_time": "2023-12-20T10:40:53.045Z"
   },
   {
    "duration": 4,
    "start_time": "2023-12-20T10:40:56.236Z"
   },
   {
    "duration": 10,
    "start_time": "2023-12-20T10:40:58.666Z"
   },
   {
    "duration": 6,
    "start_time": "2023-12-20T10:41:01.157Z"
   },
   {
    "duration": 3,
    "start_time": "2023-12-20T10:41:04.720Z"
   },
   {
    "duration": 8,
    "start_time": "2023-12-20T10:41:07.245Z"
   },
   {
    "duration": 16,
    "start_time": "2023-12-20T10:41:11.694Z"
   },
   {
    "duration": 33,
    "start_time": "2023-12-20T10:41:15.011Z"
   },
   {
    "duration": 32,
    "start_time": "2023-12-20T10:41:18.227Z"
   },
   {
    "duration": 34,
    "start_time": "2023-12-20T10:41:45.615Z"
   },
   {
    "duration": 42,
    "start_time": "2023-12-20T10:42:01.298Z"
   },
   {
    "duration": 4,
    "start_time": "2023-12-20T11:04:10.411Z"
   },
   {
    "duration": 18,
    "start_time": "2023-12-20T12:20:12.344Z"
   },
   {
    "duration": 36,
    "start_time": "2023-12-20T12:27:40.673Z"
   },
   {
    "duration": 32,
    "start_time": "2023-12-20T12:28:47.588Z"
   },
   {
    "duration": 33,
    "start_time": "2023-12-20T12:40:27.910Z"
   },
   {
    "duration": 30,
    "start_time": "2023-12-20T12:41:06.264Z"
   },
   {
    "duration": 9,
    "start_time": "2023-12-20T12:41:15.462Z"
   },
   {
    "duration": 33,
    "start_time": "2023-12-20T12:41:21.011Z"
   },
   {
    "duration": 69,
    "start_time": "2023-12-20T12:56:28.264Z"
   },
   {
    "duration": 36,
    "start_time": "2023-12-20T12:56:55.487Z"
   },
   {
    "duration": 36,
    "start_time": "2023-12-20T13:13:48.695Z"
   },
   {
    "duration": 36,
    "start_time": "2023-12-20T13:31:48.600Z"
   },
   {
    "duration": 36,
    "start_time": "2023-12-20T13:32:08.414Z"
   },
   {
    "duration": 13,
    "start_time": "2023-12-20T13:34:39.122Z"
   },
   {
    "duration": 39,
    "start_time": "2023-12-20T13:50:10.397Z"
   },
   {
    "duration": 44,
    "start_time": "2023-12-20T14:14:47.044Z"
   },
   {
    "duration": 38,
    "start_time": "2023-12-20T14:22:43.368Z"
   },
   {
    "duration": 82,
    "start_time": "2023-12-20T14:54:03.622Z"
   },
   {
    "duration": 19,
    "start_time": "2023-12-20T14:56:16.399Z"
   },
   {
    "duration": 17,
    "start_time": "2023-12-20T14:57:23.362Z"
   },
   {
    "duration": 543,
    "start_time": "2023-12-20T20:44:15.690Z"
   },
   {
    "duration": 20,
    "start_time": "2023-12-20T20:44:18.134Z"
   },
   {
    "duration": 14,
    "start_time": "2023-12-20T20:44:21.780Z"
   },
   {
    "duration": 10,
    "start_time": "2023-12-20T20:44:24.393Z"
   },
   {
    "duration": 31,
    "start_time": "2023-12-20T20:44:27.449Z"
   },
   {
    "duration": 4,
    "start_time": "2023-12-20T20:44:30.412Z"
   },
   {
    "duration": 7,
    "start_time": "2023-12-20T20:44:32.569Z"
   },
   {
    "duration": 5,
    "start_time": "2023-12-20T20:44:35.133Z"
   },
   {
    "duration": 6,
    "start_time": "2023-12-20T20:44:37.347Z"
   },
   {
    "duration": 4,
    "start_time": "2023-12-20T20:44:39.470Z"
   },
   {
    "duration": 32,
    "start_time": "2023-12-20T20:44:41.888Z"
   },
   {
    "duration": 10,
    "start_time": "2023-12-20T20:44:44.451Z"
   },
   {
    "duration": 4,
    "start_time": "2023-12-20T20:44:50.040Z"
   },
   {
    "duration": 11,
    "start_time": "2023-12-20T20:44:52.934Z"
   },
   {
    "duration": 18,
    "start_time": "2023-12-20T20:44:54.940Z"
   },
   {
    "duration": 16,
    "start_time": "2023-12-20T20:44:57.215Z"
   },
   {
    "duration": 3,
    "start_time": "2023-12-20T20:44:59.983Z"
   },
   {
    "duration": 9,
    "start_time": "2023-12-20T20:45:02.203Z"
   },
   {
    "duration": 5,
    "start_time": "2023-12-20T20:45:04.488Z"
   },
   {
    "duration": 4,
    "start_time": "2023-12-20T20:45:08.582Z"
   },
   {
    "duration": 8,
    "start_time": "2023-12-20T20:45:11.573Z"
   },
   {
    "duration": 19,
    "start_time": "2023-12-20T20:45:15.185Z"
   },
   {
    "duration": 34,
    "start_time": "2023-12-20T20:45:35.320Z"
   },
   {
    "duration": 32,
    "start_time": "2023-12-20T20:45:42.079Z"
   },
   {
    "duration": 35,
    "start_time": "2023-12-20T20:45:48.465Z"
   },
   {
    "duration": 25,
    "start_time": "2023-12-20T21:38:51.409Z"
   },
   {
    "duration": 19,
    "start_time": "2023-12-20T21:39:00.940Z"
   },
   {
    "duration": 38,
    "start_time": "2023-12-20T21:41:55.145Z"
   },
   {
    "duration": 46,
    "start_time": "2023-12-20T21:42:35.224Z"
   },
   {
    "duration": 103,
    "start_time": "2023-12-20T21:43:20.314Z"
   },
   {
    "duration": 38,
    "start_time": "2023-12-20T21:43:58.451Z"
   },
   {
    "duration": 37,
    "start_time": "2023-12-20T21:45:46.222Z"
   },
   {
    "duration": 31,
    "start_time": "2023-12-20T21:48:27.434Z"
   },
   {
    "duration": 13,
    "start_time": "2023-12-20T21:48:32.783Z"
   },
   {
    "duration": 15,
    "start_time": "2023-12-20T21:55:40.101Z"
   },
   {
    "duration": 16,
    "start_time": "2023-12-20T22:12:30.627Z"
   },
   {
    "duration": 730,
    "start_time": "2023-12-20T22:12:50.310Z"
   },
   {
    "duration": 73,
    "start_time": "2023-12-20T22:14:47.398Z"
   },
   {
    "duration": 13,
    "start_time": "2023-12-20T22:14:51.103Z"
   },
   {
    "duration": 14,
    "start_time": "2023-12-20T22:14:55.103Z"
   },
   {
    "duration": 9,
    "start_time": "2023-12-20T22:14:58.065Z"
   },
   {
    "duration": 36,
    "start_time": "2023-12-20T22:15:01.147Z"
   },
   {
    "duration": 4,
    "start_time": "2023-12-20T22:15:04.120Z"
   },
   {
    "duration": 7,
    "start_time": "2023-12-20T22:15:06.629Z"
   },
   {
    "duration": 4,
    "start_time": "2023-12-20T22:15:10.077Z"
   },
   {
    "duration": 6,
    "start_time": "2023-12-20T22:15:14.011Z"
   },
   {
    "duration": 5,
    "start_time": "2023-12-20T22:15:16.656Z"
   },
   {
    "duration": 30,
    "start_time": "2023-12-20T22:15:19.380Z"
   },
   {
    "duration": 10,
    "start_time": "2023-12-20T22:15:22.026Z"
   },
   {
    "duration": 4,
    "start_time": "2023-12-20T22:15:25.057Z"
   },
   {
    "duration": 11,
    "start_time": "2023-12-20T22:15:27.835Z"
   },
   {
    "duration": 18,
    "start_time": "2023-12-20T22:15:30.300Z"
   },
   {
    "duration": 15,
    "start_time": "2023-12-20T22:15:32.228Z"
   },
   {
    "duration": 3,
    "start_time": "2023-12-20T22:15:35.978Z"
   },
   {
    "duration": 10,
    "start_time": "2023-12-20T22:15:39.228Z"
   },
   {
    "duration": 5,
    "start_time": "2023-12-20T22:15:41.880Z"
   },
   {
    "duration": 3,
    "start_time": "2023-12-20T22:15:45.780Z"
   },
   {
    "duration": 8,
    "start_time": "2023-12-20T22:15:48.653Z"
   },
   {
    "duration": 19,
    "start_time": "2023-12-20T22:15:54.457Z"
   },
   {
    "duration": 14,
    "start_time": "2023-12-20T22:15:59.015Z"
   },
   {
    "duration": 711,
    "start_time": "2023-12-20T22:16:15.798Z"
   },
   {
    "duration": 34,
    "start_time": "2023-12-20T22:29:09.237Z"
   },
   {
    "duration": 41,
    "start_time": "2023-12-20T22:29:23.321Z"
   },
   {
    "duration": 42,
    "start_time": "2023-12-20T22:29:42.669Z"
   },
   {
    "duration": 695,
    "start_time": "2023-12-20T22:35:19.381Z"
   },
   {
    "duration": 38,
    "start_time": "2023-12-20T22:35:23.963Z"
   },
   {
    "duration": 31,
    "start_time": "2023-12-20T22:35:28.257Z"
   },
   {
    "duration": 32,
    "start_time": "2023-12-20T22:40:01.901Z"
   },
   {
    "duration": 30,
    "start_time": "2023-12-20T22:40:37.085Z"
   },
   {
    "duration": 32,
    "start_time": "2023-12-20T22:40:55.094Z"
   },
   {
    "duration": 31,
    "start_time": "2023-12-20T22:42:30.768Z"
   },
   {
    "duration": 14,
    "start_time": "2023-12-20T22:46:41.785Z"
   },
   {
    "duration": 17,
    "start_time": "2023-12-20T22:47:10.796Z"
   },
   {
    "duration": 19,
    "start_time": "2023-12-20T22:47:29.656Z"
   },
   {
    "duration": 21,
    "start_time": "2023-12-20T23:04:23.982Z"
   },
   {
    "duration": 17,
    "start_time": "2023-12-20T23:04:47.268Z"
   },
   {
    "duration": 671,
    "start_time": "2023-12-21T10:46:50.491Z"
   },
   {
    "duration": 24,
    "start_time": "2023-12-21T10:46:51.164Z"
   },
   {
    "duration": 28,
    "start_time": "2023-12-21T10:46:51.190Z"
   },
   {
    "duration": 10,
    "start_time": "2023-12-21T10:46:51.220Z"
   },
   {
    "duration": 34,
    "start_time": "2023-12-21T10:46:51.232Z"
   },
   {
    "duration": 3,
    "start_time": "2023-12-21T10:46:51.268Z"
   },
   {
    "duration": 25,
    "start_time": "2023-12-21T10:46:51.272Z"
   },
   {
    "duration": 22,
    "start_time": "2023-12-21T10:46:51.298Z"
   },
   {
    "duration": 35,
    "start_time": "2023-12-21T10:46:51.322Z"
   },
   {
    "duration": 12,
    "start_time": "2023-12-21T10:46:51.361Z"
   },
   {
    "duration": 48,
    "start_time": "2023-12-21T10:46:51.375Z"
   },
   {
    "duration": 10,
    "start_time": "2023-12-21T10:46:51.425Z"
   },
   {
    "duration": 33,
    "start_time": "2023-12-21T10:46:51.436Z"
   },
   {
    "duration": 26,
    "start_time": "2023-12-21T10:46:51.471Z"
   },
   {
    "duration": 48,
    "start_time": "2023-12-21T10:46:51.499Z"
   },
   {
    "duration": 44,
    "start_time": "2023-12-21T10:46:51.548Z"
   },
   {
    "duration": 4,
    "start_time": "2023-12-21T10:46:51.594Z"
   },
   {
    "duration": 20,
    "start_time": "2023-12-21T10:46:51.599Z"
   },
   {
    "duration": 20,
    "start_time": "2023-12-21T10:46:51.620Z"
   },
   {
    "duration": 12,
    "start_time": "2023-12-21T10:46:51.641Z"
   },
   {
    "duration": 30,
    "start_time": "2023-12-21T10:46:51.654Z"
   },
   {
    "duration": 36,
    "start_time": "2023-12-21T10:46:51.686Z"
   },
   {
    "duration": 92,
    "start_time": "2023-12-21T10:46:51.724Z"
   },
   {
    "duration": 34,
    "start_time": "2023-12-21T10:46:51.818Z"
   },
   {
    "duration": 36,
    "start_time": "2023-12-21T10:46:51.854Z"
   },
   {
    "duration": 14,
    "start_time": "2023-12-21T10:46:51.891Z"
   },
   {
    "duration": 52,
    "start_time": "2023-12-21T13:00:15.814Z"
   },
   {
    "duration": 671,
    "start_time": "2023-12-21T13:00:25.798Z"
   },
   {
    "duration": 23,
    "start_time": "2023-12-21T13:00:28.140Z"
   },
   {
    "duration": 16,
    "start_time": "2023-12-21T13:00:31.420Z"
   },
   {
    "duration": 12,
    "start_time": "2023-12-21T13:00:33.989Z"
   },
   {
    "duration": 35,
    "start_time": "2023-12-21T13:00:36.897Z"
   },
   {
    "duration": 3,
    "start_time": "2023-12-21T13:00:38.999Z"
   },
   {
    "duration": 7,
    "start_time": "2023-12-21T13:00:40.807Z"
   },
   {
    "duration": 4,
    "start_time": "2023-12-21T13:00:43.709Z"
   },
   {
    "duration": 7,
    "start_time": "2023-12-21T13:00:45.856Z"
   },
   {
    "duration": 4,
    "start_time": "2023-12-21T13:00:47.884Z"
   },
   {
    "duration": 37,
    "start_time": "2023-12-21T13:00:50.458Z"
   },
   {
    "duration": 10,
    "start_time": "2023-12-21T13:00:52.439Z"
   },
   {
    "duration": 3,
    "start_time": "2023-12-21T13:00:55.162Z"
   },
   {
    "duration": 12,
    "start_time": "2023-12-21T13:00:57.114Z"
   },
   {
    "duration": 18,
    "start_time": "2023-12-21T13:00:59.275Z"
   },
   {
    "duration": 17,
    "start_time": "2023-12-21T13:01:00.842Z"
   },
   {
    "duration": 3,
    "start_time": "2023-12-21T13:01:03.825Z"
   },
   {
    "duration": 10,
    "start_time": "2023-12-21T13:01:06.050Z"
   },
   {
    "duration": 6,
    "start_time": "2023-12-21T13:01:08.317Z"
   },
   {
    "duration": 3,
    "start_time": "2023-12-21T13:01:12.018Z"
   },
   {
    "duration": 9,
    "start_time": "2023-12-21T13:01:13.813Z"
   },
   {
    "duration": 22,
    "start_time": "2023-12-21T13:01:19.587Z"
   },
   {
    "duration": 80,
    "start_time": "2023-12-21T13:15:34.277Z"
   },
   {
    "duration": 85,
    "start_time": "2023-12-21T13:15:40.491Z"
   },
   {
    "duration": 78,
    "start_time": "2023-12-21T13:16:41.043Z"
   },
   {
    "duration": 87,
    "start_time": "2023-12-21T13:18:18.147Z"
   },
   {
    "duration": 3,
    "start_time": "2023-12-21T13:19:46.083Z"
   },
   {
    "duration": 105,
    "start_time": "2023-12-21T13:19:59.181Z"
   },
   {
    "duration": 26,
    "start_time": "2023-12-21T13:59:48.723Z"
   },
   {
    "duration": 26,
    "start_time": "2023-12-21T14:28:16.245Z"
   },
   {
    "duration": 39,
    "start_time": "2023-12-21T14:31:39.256Z"
   },
   {
    "duration": 34,
    "start_time": "2023-12-21T14:32:15.018Z"
   },
   {
    "duration": 58,
    "start_time": "2023-12-21T14:33:25.756Z"
   },
   {
    "duration": 33,
    "start_time": "2023-12-21T14:33:31.945Z"
   },
   {
    "duration": 31,
    "start_time": "2023-12-21T14:33:38.107Z"
   },
   {
    "duration": 34,
    "start_time": "2023-12-21T14:35:10.759Z"
   },
   {
    "duration": 33,
    "start_time": "2023-12-21T14:35:19.593Z"
   },
   {
    "duration": 14,
    "start_time": "2023-12-21T14:37:45.714Z"
   },
   {
    "duration": 7,
    "start_time": "2023-12-21T14:39:25.690Z"
   },
   {
    "duration": 89,
    "start_time": "2023-12-21T14:41:07.198Z"
   },
   {
    "duration": 103,
    "start_time": "2023-12-21T14:41:47.913Z"
   },
   {
    "duration": 89,
    "start_time": "2023-12-21T14:41:55.951Z"
   },
   {
    "duration": 92,
    "start_time": "2023-12-21T14:42:24.092Z"
   },
   {
    "duration": 38,
    "start_time": "2023-12-21T14:43:27.970Z"
   },
   {
    "duration": 0,
    "start_time": "2023-12-21T14:45:57.633Z"
   },
   {
    "duration": 29,
    "start_time": "2023-12-21T14:47:08.672Z"
   },
   {
    "duration": 34,
    "start_time": "2023-12-21T14:47:46.983Z"
   },
   {
    "duration": 31,
    "start_time": "2023-12-21T15:06:36.362Z"
   },
   {
    "duration": 32,
    "start_time": "2023-12-21T15:06:59.972Z"
   },
   {
    "duration": 33,
    "start_time": "2023-12-21T15:09:00.698Z"
   },
   {
    "duration": 34,
    "start_time": "2023-12-21T15:10:03.733Z"
   },
   {
    "duration": 28,
    "start_time": "2023-12-21T15:10:18.808Z"
   },
   {
    "duration": 35,
    "start_time": "2023-12-21T15:10:25.051Z"
   },
   {
    "duration": 94,
    "start_time": "2023-12-21T15:12:25.925Z"
   },
   {
    "duration": 28,
    "start_time": "2023-12-21T15:13:39.829Z"
   },
   {
    "duration": 33,
    "start_time": "2023-12-21T15:13:51.527Z"
   },
   {
    "duration": 82,
    "start_time": "2023-12-21T15:15:38.147Z"
   },
   {
    "duration": 79,
    "start_time": "2023-12-21T15:15:50.562Z"
   },
   {
    "duration": 32,
    "start_time": "2023-12-21T15:15:56.543Z"
   },
   {
    "duration": 29,
    "start_time": "2023-12-21T15:17:17.396Z"
   },
   {
    "duration": 31,
    "start_time": "2023-12-21T15:17:25.080Z"
   },
   {
    "duration": 32,
    "start_time": "2023-12-21T15:19:57.659Z"
   },
   {
    "duration": 79,
    "start_time": "2023-12-21T15:27:39.738Z"
   },
   {
    "duration": 41,
    "start_time": "2023-12-21T15:28:35.632Z"
   },
   {
    "duration": 108,
    "start_time": "2023-12-21T15:29:40.988Z"
   },
   {
    "duration": 25,
    "start_time": "2023-12-21T17:10:38.073Z"
   },
   {
    "duration": 25,
    "start_time": "2023-12-21T17:11:01.916Z"
   },
   {
    "duration": 1190,
    "start_time": "2023-12-21T17:14:56.938Z"
   },
   {
    "duration": 1363,
    "start_time": "2023-12-21T17:17:29.566Z"
   },
   {
    "duration": 27,
    "start_time": "2023-12-21T17:20:45.846Z"
   },
   {
    "duration": 27,
    "start_time": "2023-12-21T17:20:59.329Z"
   },
   {
    "duration": 28,
    "start_time": "2023-12-21T17:21:11.812Z"
   },
   {
    "duration": 31,
    "start_time": "2023-12-21T17:21:24.567Z"
   },
   {
    "duration": 31,
    "start_time": "2023-12-21T17:21:45.006Z"
   },
   {
    "duration": 40,
    "start_time": "2023-12-21T17:24:25.316Z"
   },
   {
    "duration": 42,
    "start_time": "2023-12-21T17:30:20.043Z"
   },
   {
    "duration": 38,
    "start_time": "2023-12-21T17:32:25.134Z"
   },
   {
    "duration": 41,
    "start_time": "2023-12-21T17:34:56.602Z"
   },
   {
    "duration": 50,
    "start_time": "2023-12-21T17:36:29.080Z"
   },
   {
    "duration": 39,
    "start_time": "2023-12-21T17:36:40.913Z"
   },
   {
    "duration": 39,
    "start_time": "2023-12-21T17:37:12.498Z"
   },
   {
    "duration": 87,
    "start_time": "2023-12-21T17:51:20.727Z"
   },
   {
    "duration": 72,
    "start_time": "2023-12-21T17:54:18.545Z"
   },
   {
    "duration": 37,
    "start_time": "2023-12-21T18:05:36.816Z"
   },
   {
    "duration": 34,
    "start_time": "2023-12-21T18:05:51.499Z"
   },
   {
    "duration": 34,
    "start_time": "2023-12-21T18:05:55.437Z"
   },
   {
    "duration": 40,
    "start_time": "2023-12-21T18:06:02.298Z"
   },
   {
    "duration": 15,
    "start_time": "2023-12-21T18:06:07.146Z"
   },
   {
    "duration": 500,
    "start_time": "2023-12-21T19:23:50.799Z"
   },
   {
    "duration": 21,
    "start_time": "2023-12-21T19:23:51.301Z"
   },
   {
    "duration": 14,
    "start_time": "2023-12-21T19:23:51.324Z"
   },
   {
    "duration": 10,
    "start_time": "2023-12-21T19:23:51.340Z"
   },
   {
    "duration": 36,
    "start_time": "2023-12-21T19:23:51.352Z"
   },
   {
    "duration": 23,
    "start_time": "2023-12-21T19:23:51.390Z"
   },
   {
    "duration": 12,
    "start_time": "2023-12-21T19:23:51.415Z"
   },
   {
    "duration": 17,
    "start_time": "2023-12-21T19:23:51.429Z"
   },
   {
    "duration": 6,
    "start_time": "2023-12-21T19:23:51.448Z"
   },
   {
    "duration": 10,
    "start_time": "2023-12-21T19:23:51.455Z"
   },
   {
    "duration": 45,
    "start_time": "2023-12-21T19:23:51.466Z"
   },
   {
    "duration": 10,
    "start_time": "2023-12-21T19:23:51.512Z"
   },
   {
    "duration": 12,
    "start_time": "2023-12-21T19:23:51.523Z"
   },
   {
    "duration": 11,
    "start_time": "2023-12-21T19:23:51.537Z"
   },
   {
    "duration": 21,
    "start_time": "2023-12-21T19:23:51.550Z"
   },
   {
    "duration": 16,
    "start_time": "2023-12-21T19:23:51.573Z"
   },
   {
    "duration": 4,
    "start_time": "2023-12-21T19:23:51.590Z"
   },
   {
    "duration": 12,
    "start_time": "2023-12-21T19:23:51.611Z"
   },
   {
    "duration": 14,
    "start_time": "2023-12-21T19:23:51.624Z"
   },
   {
    "duration": 3,
    "start_time": "2023-12-21T19:23:51.640Z"
   },
   {
    "duration": 13,
    "start_time": "2023-12-21T19:23:51.644Z"
   },
   {
    "duration": 54,
    "start_time": "2023-12-21T19:23:51.658Z"
   },
   {
    "duration": 32,
    "start_time": "2023-12-21T19:23:51.713Z"
   },
   {
    "duration": 33,
    "start_time": "2023-12-21T19:23:51.747Z"
   },
   {
    "duration": 62,
    "start_time": "2023-12-21T19:23:51.782Z"
   },
   {
    "duration": 13,
    "start_time": "2023-12-21T19:23:51.845Z"
   }
  ],
  "colab": {
   "provenance": []
  },
  "kernelspec": {
   "display_name": "Python 3 (ipykernel)",
   "language": "python",
   "name": "python3"
  },
  "language_info": {
   "codemirror_mode": {
    "name": "ipython",
    "version": 3
   },
   "file_extension": ".py",
   "mimetype": "text/x-python",
   "name": "python",
   "nbconvert_exporter": "python",
   "pygments_lexer": "ipython3",
   "version": "3.11.5"
  },
  "toc": {
   "base_numbering": 1,
   "nav_menu": {},
   "number_sections": true,
   "sideBar": true,
   "skip_h1_title": true,
   "title_cell": "Table of Contents",
   "title_sidebar": "Contents",
   "toc_cell": false,
   "toc_position": {},
   "toc_section_display": true,
   "toc_window_display": false
  }
 },
 "nbformat": 4,
 "nbformat_minor": 5
}
