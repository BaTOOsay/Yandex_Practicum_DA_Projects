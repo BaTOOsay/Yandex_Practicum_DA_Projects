{
 "cells": [
  {
   "cell_type": "markdown",
   "id": "3d4a1510",
   "metadata": {},
   "source": [
    "# Исследование активности пользователей приложения аренды самокатов:\n",
    "\n",
    "В нашем распоряжении данные приложения GoFast — информация о пользователях, их поездках и подписках. Нашей конечной целью является поиск точек роста бизнеса аренды самокатов: выявление полезных закономерностей и паттернов в данных для увелечения прибыли компании."
   ]
  },
  {
   "cell_type": "markdown",
   "id": "31767673",
   "metadata": {},
   "source": [
    "**Полезные цели исследования(для заказчика):**"
   ]
  },
  {
   "cell_type": "markdown",
   "id": "b4173dc0",
   "metadata": {},
   "source": [
    "1)Подсчёт выручки."
   ]
  },
  {
   "cell_type": "markdown",
   "id": "4169986e",
   "metadata": {},
   "source": [
    "2)Проверка гипотез."
   ]
  },
  {
   "cell_type": "markdown",
   "id": "a3519f50",
   "metadata": {},
   "source": [
    "3)Исследовательские задачи."
   ]
  },
  {
   "cell_type": "markdown",
   "id": "30ed3af9",
   "metadata": {},
   "source": [
    "**Ход исследования:**"
   ]
  },
  {
   "cell_type": "markdown",
   "id": "102cbbc4",
   "metadata": {},
   "source": [
    "\n",
    "Для начала работы получим данные из CSV-файлов(их в нашем случае 3). Неизвестно в этих датефреймах качество данных, поэтому необходимо перед началом анализа провести необходимый обзор данных. Проверим данные на ошибки и оценим их влияние на исследование. На этапе предобработки по возможности исправлю данные ошибки, не исказив конечный результат исследования. Создадим новые столбцы для внесения конкретики, затем приступим к исследованию. После соединим таблицы(заджоиним их) и приступим к статистическому анализу: посчитаем выручку, проверим гипотезы, проанализируем распределения. Сделаем общий вывод: найдём точки роста для бизнеса/заказчика(ценовые/неценовые)."
   ]
  },
  {
   "cell_type": "markdown",
   "id": "5e368bb0",
   "metadata": {},
   "source": [
    "Таким образом, моё исследование пройдёт в 9 этапов:"
   ]
  },
  {
   "cell_type": "markdown",
   "id": "21265a1e",
   "metadata": {},
   "source": [
    "- Обзор данных."
   ]
  },
  {
   "cell_type": "markdown",
   "id": "18bddea2",
   "metadata": {},
   "source": [
    "- Подготовка данных/Предобработка данных."
   ]
  },
  {
   "cell_type": "markdown",
   "id": "73741ad8",
   "metadata": {},
   "source": [
    "- Исследовательский анализ данных."
   ]
  },
  {
   "cell_type": "markdown",
   "id": "d94df7a4",
   "metadata": {},
   "source": [
    "- Объединение данных. "
   ]
  },
  {
   "cell_type": "markdown",
   "id": "a5928f38",
   "metadata": {},
   "source": [
    "- Подсчёт выручки."
   ]
  },
  {
   "cell_type": "markdown",
   "id": "59ad084b",
   "metadata": {},
   "source": [
    "- Проверка гипотез."
   ]
  },
  {
   "cell_type": "markdown",
   "id": "3aae27e7",
   "metadata": {},
   "source": [
    "- Выявление полезных паттернов из распределений(опционально)"
   ]
  },
  {
   "cell_type": "markdown",
   "id": "5fce11f6",
   "metadata": {},
   "source": [
    "- выполнение контрольной точки №1."
   ]
  },
  {
   "cell_type": "markdown",
   "id": "4a17596a",
   "metadata": {},
   "source": [
    "- Подведение итогов работы: общий вывод."
   ]
  },
  {
   "cell_type": "markdown",
   "id": "8efe35d5",
   "metadata": {},
   "source": [
    "# Документация:"
   ]
  },
  {
   "cell_type": "markdown",
   "id": "ad593a3f",
   "metadata": {},
   "source": [
    "![image.png](Документация_пользователи.jpg)"
   ]
  },
  {
   "cell_type": "markdown",
   "id": "61d6b1fc",
   "metadata": {},
   "source": [
    "![image.png](Документация_поездки.jpg)"
   ]
  },
  {
   "cell_type": "markdown",
   "id": "42fd5098",
   "metadata": {},
   "source": [
    "![image.png](Документация_подписки.jpg)"
   ]
  },
  {
   "cell_type": "markdown",
   "id": "ff379abc",
   "metadata": {},
   "source": [
    "# Цветовое оформление:"
   ]
  },
  {
   "cell_type": "markdown",
   "id": "888cee44",
   "metadata": {},
   "source": [
    "<td style=\"background-color: skyblue;\">- Интерпритация действий, графиков, методов, а также комментарии и т.д.</td>"
   ]
  },
  {
   "cell_type": "markdown",
   "id": "cbabaf0b",
   "metadata": {},
   "source": [
    "<td style=\"background-color: pink;\">- Требуемые задания от заказчика(наши задачи которые нужно решить/в рамках курса - задачи от Яндекса ).</td>"
   ]
  },
  {
   "cell_type": "markdown",
   "id": "3269b5e8",
   "metadata": {},
   "source": [
    "<td style=\"background-color: lightgreen;\">Рекомендации заказчику(фигурирует только в общем итоге).</td>"
   ]
  },
  {
   "cell_type": "markdown",
   "id": "c42cbe00",
   "metadata": {},
   "source": [
    "#### Шаг 1. Загрузка данных"
   ]
  },
  {
   "cell_type": "markdown",
   "id": "212d41f5",
   "metadata": {},
   "source": [
    "<td style=\"background-color: pink;\">1.1 Считайте CSV-файлы с данными с помощью библиотеки pandas и сохраните их в датафреймы</td>"
   ]
  },
  {
   "cell_type": "markdown",
   "id": "d0ee0643",
   "metadata": {},
   "source": [
    "<td style=\"background-color: skyblue;\">Импортируем необходимые библиотеки</td>"
   ]
  },
  {
   "cell_type": "code",
   "execution_count": 1,
   "id": "eff9f206",
   "metadata": {},
   "outputs": [],
   "source": [
    "import pandas as pd\n",
    "\n",
    "import matplotlib.pyplot as plt\n",
    "\n",
    "from scipy import stats as st\n",
    "\n",
    "import numpy as np"
   ]
  },
  {
   "cell_type": "markdown",
   "id": "e3f7779f",
   "metadata": {},
   "source": [
    "<td style=\"background-color: skyblue;\">Записываем в переменные наши датафреймы</td>"
   ]
  },
  {
   "cell_type": "code",
   "execution_count": 2,
   "id": "582ed390",
   "metadata": {},
   "outputs": [],
   "source": [
    "try:\n",
    "    df_users = pd.read_csv('/datasets/users_go.csv', sep=',')\n",
    "except:\n",
    "    df_users = pd.read_csv('https://code.s3.yandex.net/datasets/users_go.csv', sep='\\t')"
   ]
  },
  {
   "cell_type": "code",
   "execution_count": 3,
   "id": "59e17202",
   "metadata": {},
   "outputs": [],
   "source": [
    "try:\n",
    "    df_rides = pd.read_csv('/datasets/rides_go.csv', sep=',')\n",
    "except:\n",
    "    df_rides = pd.read_csv('https://code.s3.yandex.net/datasets/rides_go.csv', sep='\\t')"
   ]
  },
  {
   "cell_type": "code",
   "execution_count": 4,
   "id": "ea5bee12",
   "metadata": {},
   "outputs": [],
   "source": [
    "try:\n",
    "    df_subs = pd.read_csv('/datasets/subscriptions_go.csv', sep=',')\n",
    "except:\n",
    "    df_subs = pd.read_csv('https://code.s3.yandex.net/datasets/subscriptions_go.csv', sep='\\t')\n",
    "\n",
    "# P.S Можно не указывать необязательный параметр разделителя в CSV если sep=',' !"
   ]
  },
  {
   "cell_type": "markdown",
   "id": "79a7ffbd",
   "metadata": {},
   "source": [
    "<td style=\"background-color: pink;\">1.2 Выведите первые строки каждого набора данных. Изучите общую информацию о каждом датафрейме.</td>"
   ]
  },
  {
   "cell_type": "markdown",
   "id": "43db4f01",
   "metadata": {},
   "source": [
    "<td style=\"background-color: skyblue;\">Выводим первые 20 строчек датафреймов на экран для проверки правильности чтения файлов и частичного ознакомления:</td>"
   ]
  },
  {
   "cell_type": "code",
   "execution_count": 5,
   "id": "36e84b14",
   "metadata": {},
   "outputs": [
    {
     "data": {
      "text/html": [
       "<div>\n",
       "<style scoped>\n",
       "    .dataframe tbody tr th:only-of-type {\n",
       "        vertical-align: middle;\n",
       "    }\n",
       "\n",
       "    .dataframe tbody tr th {\n",
       "        vertical-align: top;\n",
       "    }\n",
       "\n",
       "    .dataframe thead th {\n",
       "        text-align: right;\n",
       "    }\n",
       "</style>\n",
       "<table border=\"1\" class=\"dataframe\">\n",
       "  <thead>\n",
       "    <tr style=\"text-align: right;\">\n",
       "      <th></th>\n",
       "      <th>user_id</th>\n",
       "      <th>name</th>\n",
       "      <th>age</th>\n",
       "      <th>city</th>\n",
       "      <th>subscription_type</th>\n",
       "    </tr>\n",
       "  </thead>\n",
       "  <tbody>\n",
       "    <tr>\n",
       "      <th>0</th>\n",
       "      <td>1</td>\n",
       "      <td>Кира</td>\n",
       "      <td>22</td>\n",
       "      <td>Тюмень</td>\n",
       "      <td>ultra</td>\n",
       "    </tr>\n",
       "    <tr>\n",
       "      <th>1</th>\n",
       "      <td>2</td>\n",
       "      <td>Станислав</td>\n",
       "      <td>31</td>\n",
       "      <td>Омск</td>\n",
       "      <td>ultra</td>\n",
       "    </tr>\n",
       "    <tr>\n",
       "      <th>2</th>\n",
       "      <td>3</td>\n",
       "      <td>Алексей</td>\n",
       "      <td>20</td>\n",
       "      <td>Москва</td>\n",
       "      <td>ultra</td>\n",
       "    </tr>\n",
       "    <tr>\n",
       "      <th>3</th>\n",
       "      <td>4</td>\n",
       "      <td>Константин</td>\n",
       "      <td>26</td>\n",
       "      <td>Ростов-на-Дону</td>\n",
       "      <td>ultra</td>\n",
       "    </tr>\n",
       "    <tr>\n",
       "      <th>4</th>\n",
       "      <td>5</td>\n",
       "      <td>Адель</td>\n",
       "      <td>28</td>\n",
       "      <td>Омск</td>\n",
       "      <td>ultra</td>\n",
       "    </tr>\n",
       "    <tr>\n",
       "      <th>5</th>\n",
       "      <td>6</td>\n",
       "      <td>Регина</td>\n",
       "      <td>25</td>\n",
       "      <td>Краснодар</td>\n",
       "      <td>ultra</td>\n",
       "    </tr>\n",
       "    <tr>\n",
       "      <th>6</th>\n",
       "      <td>7</td>\n",
       "      <td>Игорь</td>\n",
       "      <td>23</td>\n",
       "      <td>Омск</td>\n",
       "      <td>ultra</td>\n",
       "    </tr>\n",
       "    <tr>\n",
       "      <th>7</th>\n",
       "      <td>8</td>\n",
       "      <td>Юрий</td>\n",
       "      <td>23</td>\n",
       "      <td>Краснодар</td>\n",
       "      <td>ultra</td>\n",
       "    </tr>\n",
       "    <tr>\n",
       "      <th>8</th>\n",
       "      <td>9</td>\n",
       "      <td>Ян</td>\n",
       "      <td>21</td>\n",
       "      <td>Пятигорск</td>\n",
       "      <td>ultra</td>\n",
       "    </tr>\n",
       "    <tr>\n",
       "      <th>9</th>\n",
       "      <td>10</td>\n",
       "      <td>Валерий</td>\n",
       "      <td>18</td>\n",
       "      <td>Екатеринбург</td>\n",
       "      <td>ultra</td>\n",
       "    </tr>\n",
       "    <tr>\n",
       "      <th>10</th>\n",
       "      <td>11</td>\n",
       "      <td>Агата</td>\n",
       "      <td>31</td>\n",
       "      <td>Краснодар</td>\n",
       "      <td>ultra</td>\n",
       "    </tr>\n",
       "    <tr>\n",
       "      <th>11</th>\n",
       "      <td>12</td>\n",
       "      <td>Марк</td>\n",
       "      <td>27</td>\n",
       "      <td>Тюмень</td>\n",
       "      <td>ultra</td>\n",
       "    </tr>\n",
       "    <tr>\n",
       "      <th>12</th>\n",
       "      <td>13</td>\n",
       "      <td>Ева</td>\n",
       "      <td>24</td>\n",
       "      <td>Краснодар</td>\n",
       "      <td>ultra</td>\n",
       "    </tr>\n",
       "    <tr>\n",
       "      <th>13</th>\n",
       "      <td>14</td>\n",
       "      <td>Антонина</td>\n",
       "      <td>18</td>\n",
       "      <td>Пятигорск</td>\n",
       "      <td>ultra</td>\n",
       "    </tr>\n",
       "    <tr>\n",
       "      <th>14</th>\n",
       "      <td>15</td>\n",
       "      <td>Валерия</td>\n",
       "      <td>24</td>\n",
       "      <td>Тюмень</td>\n",
       "      <td>ultra</td>\n",
       "    </tr>\n",
       "    <tr>\n",
       "      <th>15</th>\n",
       "      <td>16</td>\n",
       "      <td>Амалия</td>\n",
       "      <td>27</td>\n",
       "      <td>Краснодар</td>\n",
       "      <td>ultra</td>\n",
       "    </tr>\n",
       "    <tr>\n",
       "      <th>16</th>\n",
       "      <td>17</td>\n",
       "      <td>Даниил</td>\n",
       "      <td>29</td>\n",
       "      <td>Москва</td>\n",
       "      <td>ultra</td>\n",
       "    </tr>\n",
       "    <tr>\n",
       "      <th>17</th>\n",
       "      <td>18</td>\n",
       "      <td>Аделина</td>\n",
       "      <td>24</td>\n",
       "      <td>Сочи</td>\n",
       "      <td>ultra</td>\n",
       "    </tr>\n",
       "    <tr>\n",
       "      <th>18</th>\n",
       "      <td>19</td>\n",
       "      <td>Регина</td>\n",
       "      <td>32</td>\n",
       "      <td>Тюмень</td>\n",
       "      <td>ultra</td>\n",
       "    </tr>\n",
       "    <tr>\n",
       "      <th>19</th>\n",
       "      <td>20</td>\n",
       "      <td>Игорь</td>\n",
       "      <td>23</td>\n",
       "      <td>Омск</td>\n",
       "      <td>ultra</td>\n",
       "    </tr>\n",
       "  </tbody>\n",
       "</table>\n",
       "</div>"
      ],
      "text/plain": [
       "    user_id        name  age            city subscription_type\n",
       "0         1        Кира   22          Тюмень             ultra\n",
       "1         2   Станислав   31            Омск             ultra\n",
       "2         3     Алексей   20          Москва             ultra\n",
       "3         4  Константин   26  Ростов-на-Дону             ultra\n",
       "4         5       Адель   28            Омск             ultra\n",
       "5         6      Регина   25       Краснодар             ultra\n",
       "6         7       Игорь   23            Омск             ultra\n",
       "7         8        Юрий   23       Краснодар             ultra\n",
       "8         9          Ян   21       Пятигорск             ultra\n",
       "9        10     Валерий   18    Екатеринбург             ultra\n",
       "10       11       Агата   31       Краснодар             ultra\n",
       "11       12        Марк   27          Тюмень             ultra\n",
       "12       13         Ева   24       Краснодар             ultra\n",
       "13       14    Антонина   18       Пятигорск             ultra\n",
       "14       15     Валерия   24          Тюмень             ultra\n",
       "15       16      Амалия   27       Краснодар             ultra\n",
       "16       17      Даниил   29          Москва             ultra\n",
       "17       18     Аделина   24            Сочи             ultra\n",
       "18       19      Регина   32          Тюмень             ultra\n",
       "19       20       Игорь   23            Омск             ultra"
      ]
     },
     "execution_count": 5,
     "metadata": {},
     "output_type": "execute_result"
    }
   ],
   "source": [
    "df_users.head(20)"
   ]
  },
  {
   "cell_type": "code",
   "execution_count": 6,
   "id": "dfa41a3f",
   "metadata": {},
   "outputs": [
    {
     "data": {
      "text/html": [
       "<div>\n",
       "<style scoped>\n",
       "    .dataframe tbody tr th:only-of-type {\n",
       "        vertical-align: middle;\n",
       "    }\n",
       "\n",
       "    .dataframe tbody tr th {\n",
       "        vertical-align: top;\n",
       "    }\n",
       "\n",
       "    .dataframe thead th {\n",
       "        text-align: right;\n",
       "    }\n",
       "</style>\n",
       "<table border=\"1\" class=\"dataframe\">\n",
       "  <thead>\n",
       "    <tr style=\"text-align: right;\">\n",
       "      <th></th>\n",
       "      <th>user_id</th>\n",
       "      <th>distance</th>\n",
       "      <th>duration</th>\n",
       "      <th>date</th>\n",
       "    </tr>\n",
       "  </thead>\n",
       "  <tbody>\n",
       "    <tr>\n",
       "      <th>0</th>\n",
       "      <td>1</td>\n",
       "      <td>4409.919140</td>\n",
       "      <td>25.599769</td>\n",
       "      <td>2021-01-01</td>\n",
       "    </tr>\n",
       "    <tr>\n",
       "      <th>1</th>\n",
       "      <td>1</td>\n",
       "      <td>2617.592153</td>\n",
       "      <td>15.816871</td>\n",
       "      <td>2021-01-18</td>\n",
       "    </tr>\n",
       "    <tr>\n",
       "      <th>2</th>\n",
       "      <td>1</td>\n",
       "      <td>754.159807</td>\n",
       "      <td>6.232113</td>\n",
       "      <td>2021-04-20</td>\n",
       "    </tr>\n",
       "    <tr>\n",
       "      <th>3</th>\n",
       "      <td>1</td>\n",
       "      <td>2694.783254</td>\n",
       "      <td>18.511000</td>\n",
       "      <td>2021-08-11</td>\n",
       "    </tr>\n",
       "    <tr>\n",
       "      <th>4</th>\n",
       "      <td>1</td>\n",
       "      <td>4028.687306</td>\n",
       "      <td>26.265803</td>\n",
       "      <td>2021-08-28</td>\n",
       "    </tr>\n",
       "    <tr>\n",
       "      <th>5</th>\n",
       "      <td>1</td>\n",
       "      <td>2770.890808</td>\n",
       "      <td>16.650138</td>\n",
       "      <td>2021-10-09</td>\n",
       "    </tr>\n",
       "    <tr>\n",
       "      <th>6</th>\n",
       "      <td>1</td>\n",
       "      <td>3039.020292</td>\n",
       "      <td>14.927879</td>\n",
       "      <td>2021-10-19</td>\n",
       "    </tr>\n",
       "    <tr>\n",
       "      <th>7</th>\n",
       "      <td>1</td>\n",
       "      <td>2842.118050</td>\n",
       "      <td>23.117468</td>\n",
       "      <td>2021-11-06</td>\n",
       "    </tr>\n",
       "    <tr>\n",
       "      <th>8</th>\n",
       "      <td>1</td>\n",
       "      <td>3412.690668</td>\n",
       "      <td>15.238072</td>\n",
       "      <td>2021-11-14</td>\n",
       "    </tr>\n",
       "    <tr>\n",
       "      <th>9</th>\n",
       "      <td>1</td>\n",
       "      <td>748.690645</td>\n",
       "      <td>15.041884</td>\n",
       "      <td>2021-11-22</td>\n",
       "    </tr>\n",
       "    <tr>\n",
       "      <th>10</th>\n",
       "      <td>1</td>\n",
       "      <td>4031.020195</td>\n",
       "      <td>17.674448</td>\n",
       "      <td>2021-12-14</td>\n",
       "    </tr>\n",
       "    <tr>\n",
       "      <th>11</th>\n",
       "      <td>1</td>\n",
       "      <td>2720.609748</td>\n",
       "      <td>9.529463</td>\n",
       "      <td>2021-12-22</td>\n",
       "    </tr>\n",
       "    <tr>\n",
       "      <th>12</th>\n",
       "      <td>2</td>\n",
       "      <td>3105.086678</td>\n",
       "      <td>24.307514</td>\n",
       "      <td>2021-03-15</td>\n",
       "    </tr>\n",
       "    <tr>\n",
       "      <th>13</th>\n",
       "      <td>2</td>\n",
       "      <td>3053.519401</td>\n",
       "      <td>11.543256</td>\n",
       "      <td>2021-03-18</td>\n",
       "    </tr>\n",
       "    <tr>\n",
       "      <th>14</th>\n",
       "      <td>2</td>\n",
       "      <td>4029.116927</td>\n",
       "      <td>25.109188</td>\n",
       "      <td>2021-03-23</td>\n",
       "    </tr>\n",
       "    <tr>\n",
       "      <th>15</th>\n",
       "      <td>2</td>\n",
       "      <td>2805.786329</td>\n",
       "      <td>20.652145</td>\n",
       "      <td>2021-04-08</td>\n",
       "    </tr>\n",
       "    <tr>\n",
       "      <th>16</th>\n",
       "      <td>2</td>\n",
       "      <td>3358.595495</td>\n",
       "      <td>18.396489</td>\n",
       "      <td>2021-04-13</td>\n",
       "    </tr>\n",
       "    <tr>\n",
       "      <th>17</th>\n",
       "      <td>2</td>\n",
       "      <td>3255.338202</td>\n",
       "      <td>13.851127</td>\n",
       "      <td>2021-06-20</td>\n",
       "    </tr>\n",
       "    <tr>\n",
       "      <th>18</th>\n",
       "      <td>2</td>\n",
       "      <td>3942.817648</td>\n",
       "      <td>20.142725</td>\n",
       "      <td>2021-07-02</td>\n",
       "    </tr>\n",
       "    <tr>\n",
       "      <th>19</th>\n",
       "      <td>2</td>\n",
       "      <td>2837.905316</td>\n",
       "      <td>26.027432</td>\n",
       "      <td>2021-07-18</td>\n",
       "    </tr>\n",
       "  </tbody>\n",
       "</table>\n",
       "</div>"
      ],
      "text/plain": [
       "    user_id     distance   duration        date\n",
       "0         1  4409.919140  25.599769  2021-01-01\n",
       "1         1  2617.592153  15.816871  2021-01-18\n",
       "2         1   754.159807   6.232113  2021-04-20\n",
       "3         1  2694.783254  18.511000  2021-08-11\n",
       "4         1  4028.687306  26.265803  2021-08-28\n",
       "5         1  2770.890808  16.650138  2021-10-09\n",
       "6         1  3039.020292  14.927879  2021-10-19\n",
       "7         1  2842.118050  23.117468  2021-11-06\n",
       "8         1  3412.690668  15.238072  2021-11-14\n",
       "9         1   748.690645  15.041884  2021-11-22\n",
       "10        1  4031.020195  17.674448  2021-12-14\n",
       "11        1  2720.609748   9.529463  2021-12-22\n",
       "12        2  3105.086678  24.307514  2021-03-15\n",
       "13        2  3053.519401  11.543256  2021-03-18\n",
       "14        2  4029.116927  25.109188  2021-03-23\n",
       "15        2  2805.786329  20.652145  2021-04-08\n",
       "16        2  3358.595495  18.396489  2021-04-13\n",
       "17        2  3255.338202  13.851127  2021-06-20\n",
       "18        2  3942.817648  20.142725  2021-07-02\n",
       "19        2  2837.905316  26.027432  2021-07-18"
      ]
     },
     "execution_count": 6,
     "metadata": {},
     "output_type": "execute_result"
    }
   ],
   "source": [
    "df_rides.head(20)"
   ]
  },
  {
   "cell_type": "code",
   "execution_count": 7,
   "id": "25f4c748",
   "metadata": {},
   "outputs": [
    {
     "data": {
      "text/html": [
       "<div>\n",
       "<style scoped>\n",
       "    .dataframe tbody tr th:only-of-type {\n",
       "        vertical-align: middle;\n",
       "    }\n",
       "\n",
       "    .dataframe tbody tr th {\n",
       "        vertical-align: top;\n",
       "    }\n",
       "\n",
       "    .dataframe thead th {\n",
       "        text-align: right;\n",
       "    }\n",
       "</style>\n",
       "<table border=\"1\" class=\"dataframe\">\n",
       "  <thead>\n",
       "    <tr style=\"text-align: right;\">\n",
       "      <th></th>\n",
       "      <th>subscription_type</th>\n",
       "      <th>minute_price</th>\n",
       "      <th>start_ride_price</th>\n",
       "      <th>subscription_fee</th>\n",
       "    </tr>\n",
       "  </thead>\n",
       "  <tbody>\n",
       "    <tr>\n",
       "      <th>0</th>\n",
       "      <td>free</td>\n",
       "      <td>8</td>\n",
       "      <td>50</td>\n",
       "      <td>0</td>\n",
       "    </tr>\n",
       "    <tr>\n",
       "      <th>1</th>\n",
       "      <td>ultra</td>\n",
       "      <td>6</td>\n",
       "      <td>0</td>\n",
       "      <td>199</td>\n",
       "    </tr>\n",
       "  </tbody>\n",
       "</table>\n",
       "</div>"
      ],
      "text/plain": [
       "  subscription_type  minute_price  start_ride_price  subscription_fee\n",
       "0              free             8                50                 0\n",
       "1             ultra             6                 0               199"
      ]
     },
     "execution_count": 7,
     "metadata": {},
     "output_type": "execute_result"
    }
   ],
   "source": [
    "df_subs.head(20)"
   ]
  },
  {
   "cell_type": "markdown",
   "id": "a056a91d",
   "metadata": {},
   "source": [
    "<td style=\"background-color: skyblue;\">Выводим основную информацию о датафреймах с помощью метода info():</td>\n"
   ]
  },
  {
   "cell_type": "code",
   "execution_count": 8,
   "id": "8e1e596f",
   "metadata": {},
   "outputs": [
    {
     "name": "stdout",
     "output_type": "stream",
     "text": [
      "<class 'pandas.core.frame.DataFrame'>\n",
      "RangeIndex: 1565 entries, 0 to 1564\n",
      "Data columns (total 5 columns):\n",
      " #   Column             Non-Null Count  Dtype \n",
      "---  ------             --------------  ----- \n",
      " 0   user_id            1565 non-null   int64 \n",
      " 1   name               1565 non-null   object\n",
      " 2   age                1565 non-null   int64 \n",
      " 3   city               1565 non-null   object\n",
      " 4   subscription_type  1565 non-null   object\n",
      "dtypes: int64(2), object(3)\n",
      "memory usage: 61.3+ KB\n"
     ]
    }
   ],
   "source": [
    "df_users.info()"
   ]
  },
  {
   "cell_type": "markdown",
   "id": "9a3010e5",
   "metadata": {},
   "source": [
    "<td style=\"background-color: skyblue;\">В таблице с информацией о пользователях у нас всего 1565 записей, пропуски отсутсвуют, названия атрибутов соблюдают требования единого стиля(1. все на английском языке; 2.названия адекватно отражают сущность записей; 3. snake-case). Приемлемый тип данных подобран для каждого столбца(атрибута).</td>"
   ]
  },
  {
   "cell_type": "code",
   "execution_count": 9,
   "id": "76fa5aa4",
   "metadata": {},
   "outputs": [
    {
     "name": "stdout",
     "output_type": "stream",
     "text": [
      "<class 'pandas.core.frame.DataFrame'>\n",
      "RangeIndex: 18068 entries, 0 to 18067\n",
      "Data columns (total 4 columns):\n",
      " #   Column    Non-Null Count  Dtype  \n",
      "---  ------    --------------  -----  \n",
      " 0   user_id   18068 non-null  int64  \n",
      " 1   distance  18068 non-null  float64\n",
      " 2   duration  18068 non-null  float64\n",
      " 3   date      18068 non-null  object \n",
      "dtypes: float64(2), int64(1), object(1)\n",
      "memory usage: 564.8+ KB\n"
     ]
    }
   ],
   "source": [
    "df_rides.info()"
   ]
  },
  {
   "cell_type": "markdown",
   "id": "9b4d1e3d",
   "metadata": {},
   "source": [
    "<td style=\"background-color: skyblue;\">В таблице с информацией о поездках у нас всего 18068 записей, пропуски отсутсвуют, названия атрибутов соблюдают требования единого стиля(1. все на английском языке; 2.названия адекватно отражают сущность записей; 3. snake-case). Приемлемый тип данных подобран для каждого столбца(атрибута).</td>"
   ]
  },
  {
   "cell_type": "code",
   "execution_count": 10,
   "id": "4d227697",
   "metadata": {},
   "outputs": [
    {
     "name": "stdout",
     "output_type": "stream",
     "text": [
      "<class 'pandas.core.frame.DataFrame'>\n",
      "RangeIndex: 2 entries, 0 to 1\n",
      "Data columns (total 4 columns):\n",
      " #   Column             Non-Null Count  Dtype \n",
      "---  ------             --------------  ----- \n",
      " 0   subscription_type  2 non-null      object\n",
      " 1   minute_price       2 non-null      int64 \n",
      " 2   start_ride_price   2 non-null      int64 \n",
      " 3   subscription_fee   2 non-null      int64 \n",
      "dtypes: int64(3), object(1)\n",
      "memory usage: 192.0+ bytes\n"
     ]
    }
   ],
   "source": [
    "df_subs.info()"
   ]
  },
  {
   "cell_type": "markdown",
   "id": "75821383",
   "metadata": {},
   "source": [
    "<td style=\"background-color: skyblue;\">В таблице с информацией о типах подписок у нас всего 2 записи, пропуски отсутсвуют, названия атрибутов соблюдают требования единого стиля(1. все на английском языке; 2.названия адекватно отражают сущность записей; 3. snake-case). Приемлемый тип данных подобран для каждого столбца(атрибута).</td>"
   ]
  },
  {
   "cell_type": "markdown",
   "id": "b42615e7",
   "metadata": {},
   "source": [
    "<td style=\"background-color: skyblue;\">Таблицы с данными о пользователях и поездках имеют количественные(численные) переменные, выведем первичные описательные статистики:</td>"
   ]
  },
  {
   "cell_type": "code",
   "execution_count": 11,
   "id": "abddb649",
   "metadata": {},
   "outputs": [
    {
     "data": {
      "text/html": [
       "<div>\n",
       "<style scoped>\n",
       "    .dataframe tbody tr th:only-of-type {\n",
       "        vertical-align: middle;\n",
       "    }\n",
       "\n",
       "    .dataframe tbody tr th {\n",
       "        vertical-align: top;\n",
       "    }\n",
       "\n",
       "    .dataframe thead th {\n",
       "        text-align: right;\n",
       "    }\n",
       "</style>\n",
       "<table border=\"1\" class=\"dataframe\">\n",
       "  <thead>\n",
       "    <tr style=\"text-align: right;\">\n",
       "      <th></th>\n",
       "      <th>count</th>\n",
       "      <th>mean</th>\n",
       "      <th>std</th>\n",
       "      <th>min</th>\n",
       "      <th>25%</th>\n",
       "      <th>50%</th>\n",
       "      <th>75%</th>\n",
       "      <th>max</th>\n",
       "    </tr>\n",
       "  </thead>\n",
       "  <tbody>\n",
       "    <tr>\n",
       "      <th>user_id</th>\n",
       "      <td>1565.0</td>\n",
       "      <td>762.633866</td>\n",
       "      <td>443.260155</td>\n",
       "      <td>1.0</td>\n",
       "      <td>378.0</td>\n",
       "      <td>762.0</td>\n",
       "      <td>1146.0</td>\n",
       "      <td>1534.0</td>\n",
       "    </tr>\n",
       "    <tr>\n",
       "      <th>age</th>\n",
       "      <td>1565.0</td>\n",
       "      <td>24.922045</td>\n",
       "      <td>4.553496</td>\n",
       "      <td>12.0</td>\n",
       "      <td>22.0</td>\n",
       "      <td>25.0</td>\n",
       "      <td>28.0</td>\n",
       "      <td>43.0</td>\n",
       "    </tr>\n",
       "  </tbody>\n",
       "</table>\n",
       "</div>"
      ],
      "text/plain": [
       "          count        mean         std   min    25%    50%     75%     max\n",
       "user_id  1565.0  762.633866  443.260155   1.0  378.0  762.0  1146.0  1534.0\n",
       "age      1565.0   24.922045    4.553496  12.0   22.0   25.0    28.0    43.0"
      ]
     },
     "execution_count": 11,
     "metadata": {},
     "output_type": "execute_result"
    }
   ],
   "source": [
    "df_users.describe().T\n",
    "# метод '.T' - транспортирует(меняет местамит наименования столбцов и базовых статистик)\n",
    "# полезный метод условии наличия большого количества атрибутов в таблице"
   ]
  },
  {
   "cell_type": "markdown",
   "id": "b6325eb1",
   "metadata": {},
   "source": [
    "<td style=\"background-color: skyblue;\">В таблице с данными пользователей 1565 записей, но в атрибуте максимальным порядковым значением(уникальным идентификатором клиента) является значение 1534, что говорит о наличии дубликатов. Возраст клиентов приемлемый(аномалий на этапе ознакомление не видно).</td>"
   ]
  },
  {
   "cell_type": "code",
   "execution_count": 12,
   "id": "a2fb4f79",
   "metadata": {},
   "outputs": [
    {
     "data": {
      "text/html": [
       "<style  type=\"text/css\" >\n",
       "#T_97fdc_row0_col1{\n",
       "            background-color:  #67000d;\n",
       "            color:  #f1f1f1;\n",
       "        }#T_97fdc_row1_col1{\n",
       "            background-color:  #fdd3c1;\n",
       "            color:  #000000;\n",
       "        }#T_97fdc_row2_col1{\n",
       "            background-color:  #ffebe2;\n",
       "            color:  #000000;\n",
       "        }#T_97fdc_row3_col1{\n",
       "            background-color:  #fff5f0;\n",
       "            color:  #000000;\n",
       "        }#T_97fdc_row4_col1{\n",
       "            background-color:  #fedbcc;\n",
       "            color:  #000000;\n",
       "        }#T_97fdc_row5_col1{\n",
       "            background-color:  #fdd2bf;\n",
       "            color:  #000000;\n",
       "        }#T_97fdc_row6_col1{\n",
       "            background-color:  #fdc7b2;\n",
       "            color:  #000000;\n",
       "        }#T_97fdc_row7_col1{\n",
       "            background-color:  #fc8a6a;\n",
       "            color:  #000000;\n",
       "        }</style><table id=\"T_97fdc_\" ><thead>    <tr>        <th class=\"blank level0\" ></th>        <th class=\"col_heading level0 col0\" >user_id</th>        <th class=\"col_heading level0 col1\" >distance</th>        <th class=\"col_heading level0 col2\" >duration</th>    </tr></thead><tbody>\n",
       "                <tr>\n",
       "                        <th id=\"T_97fdc_level0_row0\" class=\"row_heading level0 row0\" >count</th>\n",
       "                        <td id=\"T_97fdc_row0_col0\" class=\"data row0 col0\" >18068.000000</td>\n",
       "                        <td id=\"T_97fdc_row0_col1\" class=\"data row0 col1\" >18068.000000</td>\n",
       "                        <td id=\"T_97fdc_row0_col2\" class=\"data row0 col2\" >18068.000000</td>\n",
       "            </tr>\n",
       "            <tr>\n",
       "                        <th id=\"T_97fdc_level0_row1\" class=\"row_heading level0 row1\" >mean</th>\n",
       "                        <td id=\"T_97fdc_row1_col0\" class=\"data row1 col0\" >842.869936</td>\n",
       "                        <td id=\"T_97fdc_row1_col1\" class=\"data row1 col1\" >3070.659976</td>\n",
       "                        <td id=\"T_97fdc_row1_col2\" class=\"data row1 col2\" >17.805011</td>\n",
       "            </tr>\n",
       "            <tr>\n",
       "                        <th id=\"T_97fdc_level0_row2\" class=\"row_heading level0 row2\" >std</th>\n",
       "                        <td id=\"T_97fdc_row2_col0\" class=\"data row2 col0\" >434.734317</td>\n",
       "                        <td id=\"T_97fdc_row2_col1\" class=\"data row2 col1\" >1116.831209</td>\n",
       "                        <td id=\"T_97fdc_row2_col2\" class=\"data row2 col2\" >6.091051</td>\n",
       "            </tr>\n",
       "            <tr>\n",
       "                        <th id=\"T_97fdc_level0_row3\" class=\"row_heading level0 row3\" >min</th>\n",
       "                        <td id=\"T_97fdc_row3_col0\" class=\"data row3 col0\" >1.000000</td>\n",
       "                        <td id=\"T_97fdc_row3_col1\" class=\"data row3 col1\" >0.855683</td>\n",
       "                        <td id=\"T_97fdc_row3_col2\" class=\"data row3 col2\" >0.500000</td>\n",
       "            </tr>\n",
       "            <tr>\n",
       "                        <th id=\"T_97fdc_level0_row4\" class=\"row_heading level0 row4\" >25%</th>\n",
       "                        <td id=\"T_97fdc_row4_col0\" class=\"data row4 col0\" >487.000000</td>\n",
       "                        <td id=\"T_97fdc_row4_col1\" class=\"data row4 col1\" >2543.226360</td>\n",
       "                        <td id=\"T_97fdc_row4_col2\" class=\"data row4 col2\" >13.597563</td>\n",
       "            </tr>\n",
       "            <tr>\n",
       "                        <th id=\"T_97fdc_level0_row5\" class=\"row_heading level0 row5\" >50%</th>\n",
       "                        <td id=\"T_97fdc_row5_col0\" class=\"data row5 col0\" >889.000000</td>\n",
       "                        <td id=\"T_97fdc_row5_col1\" class=\"data row5 col1\" >3133.609994</td>\n",
       "                        <td id=\"T_97fdc_row5_col2\" class=\"data row5 col2\" >17.678395</td>\n",
       "            </tr>\n",
       "            <tr>\n",
       "                        <th id=\"T_97fdc_level0_row6\" class=\"row_heading level0 row6\" >75%</th>\n",
       "                        <td id=\"T_97fdc_row6_col0\" class=\"data row6 col0\" >1213.250000</td>\n",
       "                        <td id=\"T_97fdc_row6_col1\" class=\"data row6 col1\" >3776.222735</td>\n",
       "                        <td id=\"T_97fdc_row6_col2\" class=\"data row6 col2\" >21.724800</td>\n",
       "            </tr>\n",
       "            <tr>\n",
       "                        <th id=\"T_97fdc_level0_row7\" class=\"row_heading level0 row7\" >max</th>\n",
       "                        <td id=\"T_97fdc_row7_col0\" class=\"data row7 col0\" >1534.000000</td>\n",
       "                        <td id=\"T_97fdc_row7_col1\" class=\"data row7 col1\" >7211.007745</td>\n",
       "                        <td id=\"T_97fdc_row7_col2\" class=\"data row7 col2\" >40.823963</td>\n",
       "            </tr>\n",
       "    </tbody></table>"
      ],
      "text/plain": [
       "<pandas.io.formats.style.Styler at 0x7f03055a8910>"
      ]
     },
     "execution_count": 12,
     "metadata": {},
     "output_type": "execute_result"
    }
   ],
   "source": [
    "df_rides.describe().style.background_gradient(\n",
    "    subset=[\"distance\"], cmap=\"Reds\")"
   ]
  },
  {
   "cell_type": "markdown",
   "id": "9e4d31ac",
   "metadata": {},
   "source": [
    "<td style=\"background-color: skyblue;\">В таблице с данными о поездках явных аномалий на этапе ознакомления не видно. Если взять максимальное/минимальное расстояние и разделить на время, то скорость будет вполне адекватной для самоката(это навскидку, далее мы создадим столбец со скоростью и убедимся в этом). Думаю стоит убрать уж очень короткие заезды т. к. врятле это полноценная поездка какого-то пользователя. Это может быть проверкой технического состояния самоката или это самокат который получил неисправность во время использования и выключился и тд.</td>"
   ]
  },
  {
   "cell_type": "markdown",
   "id": "093c6dfb",
   "metadata": {},
   "source": [
    "<td style=\"background-color: skyblue;\">Построю гистограммы для атрибутов датафреймов(о пользователях и о поездках) с целью первичного ознакомления(позже раскроим их более подробно при необходимости):</td>"
   ]
  },
  {
   "cell_type": "code",
   "execution_count": 13,
   "id": "e219f1a7",
   "metadata": {},
   "outputs": [
    {
     "data": {
      "image/png": "[encoded data removed]",
      "text/plain": [
       "<Figure size 720x432 with 1 Axes>"
      ]
     },
     "metadata": {
      "needs_background": "light"
     },
     "output_type": "display_data"
    }
   ],
   "source": [
    "df_users['age'].hist(figsize=(10, 6), color='orange', legend=True, grid=True, bins=30)\n",
    "plt.xlabel('Возраст')\n",
    "plt.ylabel('Частота')\n",
    "plt.title('Гистограмма возраста клиентов')\n",
    "plt.show()"
   ]
  },
  {
   "cell_type": "code",
   "execution_count": 14,
   "id": "ac02592b",
   "metadata": {},
   "outputs": [
    {
     "data": {
      "image/png": "[encoded data removed]",
      "text/plain": [
       "<Figure size 720x432 with 1 Axes>"
      ]
     },
     "metadata": {
      "needs_background": "light"
     },
     "output_type": "display_data"
    }
   ],
   "source": [
    "df_rides['distance'].hist(figsize=(10, 6), color='#89CEEB', legend=True, grid=True, bins=40)\n",
    "plt.xlabel('Расстояние(в метрах)')\n",
    "plt.ylabel('Частота')\n",
    "plt.title('Гистограмма расстояния поездок')\n",
    "plt.show()"
   ]
  },
  {
   "cell_type": "code",
   "execution_count": 15,
   "id": "bb984ace",
   "metadata": {},
   "outputs": [
    {
     "data": {
      "image/png": "[encoded data removed]",
      "text/plain": [
       "<Figure size 720x432 with 1 Axes>"
      ]
     },
     "metadata": {
      "needs_background": "light"
     },
     "output_type": "display_data"
    }
   ],
   "source": [
    "df_rides['duration'].hist(figsize=(10, 6), color='#B22222', legend=True, grid=True, bins=50)\n",
    "plt.xlabel('Продолжительность(в минктах)')\n",
    "plt.ylabel('Частота')\n",
    "plt.title('Гистограмма продолжительности поездок')\n",
    "plt.show()"
   ]
  },
  {
   "cell_type": "markdown",
   "id": "d26c4360",
   "metadata": {},
   "source": [
    "<td style=\"background-color: skyblue;\">Получились вполне адекватные распределения(Пуассоновские). Из странного:</td>"
   ]
  },
  {
   "cell_type": "markdown",
   "id": "41b7ecf0",
   "metadata": {},
   "source": [
    "- На гистограмме с расстоянием('distance') присутствуют 2 вершины: маленькая и большая(относительно друг друга), природу которых следует узнать на этапе предобработки данных."
   ]
  },
  {
   "cell_type": "markdown",
   "id": "4f52ba31",
   "metadata": {},
   "source": [
    "- На гистограмме со времнем('duration') есть слишком большое количество заездов где время около минуты что отражено на гистограмме. "
   ]
  },
  {
   "cell_type": "markdown",
   "id": "dbde1a49",
   "metadata": {},
   "source": [
    "*После первичного ознакомление с датасетами однозначно можно сказать, что набор данных вполне неплохой: вовсе отсутствуют пропущенные значения, распределения числовых атрибутов вполне адекватные(одно распределение мы разберём для выявление природы двойной вершины), единая стилистика названий столбцов соблюдена. Объём для предобработки не особо велик: нужно поработать с дубликатами(явными/неявными), узнать природу двойной вершины в одном из распределений и добавить конкретизующие столбцы(опционально), посмотреть зависимости столбцов(возможно будет найти не очень очевидные аномалии).*"
   ]
  },
  {
   "cell_type": "markdown",
   "id": "e95ebca7",
   "metadata": {},
   "source": [
    "#### Шаг 2. Предобработка данных"
   ]
  },
  {
   "cell_type": "markdown",
   "id": "2097eb7e",
   "metadata": {},
   "source": [
    "<td style=\"background-color: skyblue;\">Для начала зафиксируем количество записей в каждой таблице, чтобы установить процент потерянных данных после предобработки.</td>"
   ]
  },
  {
   "cell_type": "code",
   "execution_count": 16,
   "id": "86dc466d",
   "metadata": {},
   "outputs": [],
   "source": [
    "df_users_start, df_rides_start, df_subs_start = len(df_users), len(df_rides), len(df_subs)"
   ]
  },
  {
   "cell_type": "markdown",
   "id": "4b364d4c",
   "metadata": {},
   "source": [
    "<td style=\"background-color: pink;\">2.1 Изменим тип данных в столбце 'date' в датафрейме о поездках:</td>"
   ]
  },
  {
   "cell_type": "code",
   "execution_count": 17,
   "id": "69dbb4df",
   "metadata": {},
   "outputs": [],
   "source": [
    "df_rides['date'] = df_rides['date'].astype('datetime64[M]')"
   ]
  },
  {
   "cell_type": "markdown",
   "id": "b5916fd8",
   "metadata": {},
   "source": [
    "<td style=\"background-color: pink;\">2.2 Создайте новый столбец с номером месяца на основе столбца date:</td>"
   ]
  },
  {
   "cell_type": "markdown",
   "id": "a48ddc58",
   "metadata": {},
   "source": [
    "<td style=\"background-color: skyblue;\">Узнаем за какой период у  нас данные - выведем размах дат поездок:</td>"
   ]
  },
  {
   "cell_type": "code",
   "execution_count": 18,
   "id": "22b39822",
   "metadata": {},
   "outputs": [
    {
     "name": "stdout",
     "output_type": "stream",
     "text": [
      " Данные в df_rides имеют диапозон дат: от 2021-01-01 00:00:00 до 2021-12-01 00:00:00\n"
     ]
    }
   ],
   "source": [
    "# Прописываю print чтобы не было кавычек\n",
    "print(f\" Данные в df_rides имеют диапозон дат: от {df_rides['date'].min()} до {df_rides['date'].max()}\")"
   ]
  },
  {
   "cell_type": "markdown",
   "id": "b9f7b3f0",
   "metadata": {},
   "source": [
    "<td style=\"background-color: skyblue;\">Данные в наборе данных имеют диапозон за один год, а значит при использовании метода dt.month объединения в одну группу месяцев за разные года, имеющие ту же нумерацию не произойдёт. Всё будет работать и подсчитываться корректно.</td>"
   ]
  },
  {
   "cell_type": "code",
   "execution_count": 19,
   "id": "f929d5b2",
   "metadata": {},
   "outputs": [],
   "source": [
    "df_rides['month'] = df_rides['date'].dt.month"
   ]
  },
  {
   "cell_type": "markdown",
   "id": "3142efe2",
   "metadata": {},
   "source": [
    "<td style=\"background-color: pink;\">2.3 Проверьте наличие пропущенных значений и дубликатов в датафреймах. Обработайте их, если такие значения присутствуют.</td>"
   ]
  },
  {
   "cell_type": "code",
   "execution_count": 20,
   "id": "797a52ea",
   "metadata": {},
   "outputs": [
    {
     "data": {
      "text/plain": [
       "31"
      ]
     },
     "execution_count": 20,
     "metadata": {},
     "output_type": "execute_result"
    }
   ],
   "source": [
    "df_users.duplicated().sum()"
   ]
  },
  {
   "cell_type": "markdown",
   "id": "33266ca3",
   "metadata": {},
   "source": [
    "<td style=\"background-color: skyblue;\">Найден 31 дубликат в датафрейме df_users</td>"
   ]
  },
  {
   "cell_type": "code",
   "execution_count": 21,
   "id": "9f8b4fbf",
   "metadata": {},
   "outputs": [
    {
     "data": {
      "text/plain": [
       "0"
      ]
     },
     "execution_count": 21,
     "metadata": {},
     "output_type": "execute_result"
    }
   ],
   "source": [
    "df_rides.duplicated().sum()"
   ]
  },
  {
   "cell_type": "markdown",
   "id": "21622c9b",
   "metadata": {},
   "source": [
    "<td style=\"background-color: skyblue;\">Найдено 0 дубликатов в датафрейме df_rides</td>"
   ]
  },
  {
   "cell_type": "markdown",
   "id": "a9c13b2b",
   "metadata": {},
   "source": [
    "<td style=\"background-color: skyblue;\">В датафрейме  df_subs дубликатов нет т.к. там 2 отличающиеся друг от друга записи.</td>"
   ]
  },
  {
   "cell_type": "markdown",
   "id": "9a0125ee",
   "metadata": {},
   "source": [
    "<td style=\"background-color: skyblue;\">Удалим явные дубликаты в датафреймах(в таблице с типами подписки их однозначно нет т.к. в нём 2 записи):</td>"
   ]
  },
  {
   "cell_type": "code",
   "execution_count": 22,
   "id": "fb56db6e",
   "metadata": {},
   "outputs": [],
   "source": [
    "df_users = df_users.drop_duplicates()"
   ]
  },
  {
   "cell_type": "code",
   "execution_count": 23,
   "id": "99602e21",
   "metadata": {},
   "outputs": [],
   "source": [
    "df_rides = df_rides.drop_duplicates()"
   ]
  },
  {
   "cell_type": "markdown",
   "id": "095fad0d",
   "metadata": {},
   "source": [
    "<td style=\"background-color: skyblue;\">Вот теперь у нас 1534 записи в таблице с данными о клиентах, что соответствует максимальному значению идентификатора клиента. Проблема которую мы выявили в ознакомительном этапе устанена.</td>"
   ]
  },
  {
   "cell_type": "markdown",
   "id": "8a32a872",
   "metadata": {},
   "source": [
    "<td style=\"background-color: skyblue;\">Проверим наличие неявных дубликатов в таблицах:</td>"
   ]
  },
  {
   "cell_type": "markdown",
   "id": "601f4989",
   "metadata": {},
   "source": [
    "<td style=\"background-color: skyblue;\">Напишем функцию которая принимает в качетсве аргумента датафрейм и выводит все уникальные значения в каждом атрибуте:</td>"
   ]
  },
  {
   "cell_type": "code",
   "execution_count": 24,
   "id": "6aa8f91b",
   "metadata": {},
   "outputs": [],
   "source": [
    "def all_unique(df):\n",
    "    unique_attr = df.columns.to_list()\n",
    "    for attribute in unique_attr:\n",
    "        unique_values = df[attribute].unique()\n",
    "        print(f'Атрибут {attribute} хранит следующие уникальные значения: {unique_values}')\n",
    "        print()\n",
    "        print()"
   ]
  },
  {
   "cell_type": "code",
   "execution_count": 25,
   "id": "2b22955c",
   "metadata": {},
   "outputs": [
    {
     "name": "stdout",
     "output_type": "stream",
     "text": [
      "Атрибут user_id хранит следующие уникальные значения: [   1    2    3 ... 1532 1533 1534]\n",
      "\n",
      "\n",
      "Атрибут name хранит следующие уникальные значения: ['Кира' 'Станислав' 'Алексей' 'Константин' 'Адель' 'Регина' 'Игорь' 'Юрий'\n",
      " 'Ян' 'Валерий' 'Агата' 'Марк' 'Ева' 'Антонина' 'Валерия' 'Амалия'\n",
      " 'Даниил' 'Аделина' 'Святогор' 'Борис' 'Вероника' 'Ростислав' 'Назар'\n",
      " 'Эдуард' 'Василий' 'Денис' 'Тамара' 'Николай' 'Эвелина' 'Федор' 'Руслан'\n",
      " 'Иван' 'Любовь' 'Ярослава' 'Майя' 'Ильдар' 'Данила' 'Нина' 'Стефания'\n",
      " 'Ясмина' 'Дмитрий' 'Александр' 'Одиссей' 'Арсений' 'Алла' 'Таисия'\n",
      " 'Максим' 'Юлиана' 'Павел' 'Карина' 'Алиса' 'Лидия' 'Рамиль' 'Родион'\n",
      " 'Ника' 'Оксана' 'Анастасия' 'Маргарита' 'Вера' 'Тимур' 'Никита' 'Лев'\n",
      " 'Влад' 'Артур' 'Анна' 'Ольга' 'Вячеслав' 'Ксения' 'Виталина' 'Владислав'\n",
      " 'Тамерлан' 'Амина' 'Вадим' 'Олеся' 'Зарина' 'Егор' 'Гордей' 'Лилия'\n",
      " 'Святослав' 'Роберт' 'Амир' 'Влада' 'Богдан' 'Полина' 'Марат' 'Елисей'\n",
      " 'Макар' 'Алина' 'Глеб' 'Андрей' 'Альбина' 'Людмила' 'Марсель' 'Милена'\n",
      " 'Диана' 'Дарина' 'Данил' 'Артемий' 'Лиана' 'Альберт' 'Герман' 'Жанна'\n",
      " 'Нелли' 'Евгения' 'Ариана' 'Самира' 'Захар' 'Эльвира' 'Екатерина' 'Инна'\n",
      " 'Демид' 'Яна' 'Михаил' 'Татьяна' 'Степан' 'Мелания' 'Тимофей' 'Ирина'\n",
      " 'Анжелика' 'Владислава' 'Елизавета' 'Мадина' 'Снежана' 'Даниэль' 'Рустам'\n",
      " 'Каролина' 'Ангелина' 'Владимир' 'Виктория' 'Валентина' 'Семен' 'Арина'\n",
      " 'Лариса' 'Есения' 'Галина' 'Кирилл' 'Игнат' 'Виталий' 'Эмилия' 'Виолетта'\n",
      " 'Яромир' 'Софья' 'Мирослава' 'Евгений' 'Варвара' 'Платон' 'Наталия'\n",
      " 'Анатолий' 'Кристина' 'Всеволод' 'Дарья' 'Наташа' 'Мария' 'Марина'\n",
      " 'Василиса' 'Юлия' 'Илья' 'Злата' 'Роман' 'Наталья' 'Элина' 'Арсен'\n",
      " 'Айдар' 'Алия' 'Виктор' 'Мирон' 'Ульяна' 'Георгий' 'Петр' 'Эльмира'\n",
      " 'Олег' 'Дамир' 'Самир' 'Ярослав' 'Камилла' 'Сергей' 'Эмиль' 'Радмир'\n",
      " 'Савелий' 'Елена' 'Антон' 'Мирослав' 'София' 'Тихон' 'Артём' 'Давид'\n",
      " 'Григорий' 'Алёна' 'Светлана' 'Леонид' 'Александра' 'Василина' 'Милана'\n",
      " 'Матвей']\n",
      "\n",
      "\n",
      "Атрибут age хранит следующие уникальные значения: [22 31 20 26 28 25 23 21 18 27 24 29 32 14 19 30 17 12 35 33 13 15 37 16\n",
      " 34 38 36 39 43]\n",
      "\n",
      "\n",
      "Атрибут city хранит следующие уникальные значения: ['Тюмень' 'Омск' 'Москва' 'Ростов-на-Дону' 'Краснодар' 'Пятигорск'\n",
      " 'Екатеринбург' 'Сочи']\n",
      "\n",
      "\n",
      "Атрибут subscription_type хранит следующие уникальные значения: ['ultra' 'free']\n",
      "\n",
      "\n"
     ]
    }
   ],
   "source": [
    "all_unique(df_users)"
   ]
  },
  {
   "cell_type": "code",
   "execution_count": 26,
   "id": "1d1fcfe8",
   "metadata": {},
   "outputs": [
    {
     "name": "stdout",
     "output_type": "stream",
     "text": [
      "Атрибут user_id хранит следующие уникальные значения: [   1    2    3 ... 1532 1533 1534]\n",
      "\n",
      "\n",
      "Атрибут distance хранит следующие уникальные значения: [4409.9191402  2617.59215346  754.15980696 ... 3826.1855073  2902.30866066\n",
      " 2371.71119224]\n",
      "\n",
      "\n",
      "Атрибут duration хранит следующие уникальные значения: [25.59976897 15.81687145  6.23211346 ... 18.43505138 16.6743622\n",
      " 15.89391697]\n",
      "\n",
      "\n",
      "Атрибут date хранит следующие уникальные значения: ['2021-01-01T00:00:00.000000000' '2021-04-01T00:00:00.000000000'\n",
      " '2021-08-01T00:00:00.000000000' '2021-10-01T00:00:00.000000000'\n",
      " '2021-11-01T00:00:00.000000000' '2021-12-01T00:00:00.000000000'\n",
      " '2021-03-01T00:00:00.000000000' '2021-06-01T00:00:00.000000000'\n",
      " '2021-07-01T00:00:00.000000000' '2021-02-01T00:00:00.000000000'\n",
      " '2021-05-01T00:00:00.000000000' '2021-09-01T00:00:00.000000000']\n",
      "\n",
      "\n",
      "Атрибут month хранит следующие уникальные значения: [ 1  4  8 10 11 12  3  6  7  2  5  9]\n",
      "\n",
      "\n"
     ]
    }
   ],
   "source": [
    "all_unique(df_rides)"
   ]
  },
  {
   "cell_type": "markdown",
   "id": "f566ebfb",
   "metadata": {},
   "source": [
    "<td style=\"background-color: skyblue;\">Неявных дубликатов не обнаружено.</td>"
   ]
  },
  {
   "cell_type": "markdown",
   "id": "5a83df78",
   "metadata": {},
   "source": [
    "<td style=\"background-color: skyblue;\">Построим ящик с усами для столбца с дистанцией пользователей:</td>"
   ]
  },
  {
   "cell_type": "code",
   "execution_count": 27,
   "id": "1aba1735",
   "metadata": {},
   "outputs": [
    {
     "data": {
      "text/plain": [
       "Text(0.5, 1.0, 'Ящик с усами для столбца с расстоянием поездок')"
      ]
     },
     "execution_count": 27,
     "metadata": {},
     "output_type": "execute_result"
    },
    {
     "data": {
      "image/png": "[encoded data removed]",
      "text/plain": [
       "<Figure size 432x288 with 1 Axes>"
      ]
     },
     "metadata": {
      "needs_background": "light"
     },
     "output_type": "display_data"
    }
   ],
   "source": [
    "df_rides['distance'].plot(kind='box')\n",
    "plt.xlabel('Дистанция поездок(в метрах)')\n",
    "plt.ylabel('Частота')\n",
    "plt.title('Ящик с усами для столбца с расстоянием поездок')"
   ]
  },
  {
   "cell_type": "markdown",
   "id": "02d25345",
   "metadata": {},
   "source": [
    "<td style=\"background-color: skyblue;\">Самокат вполне может проехать больше 7500 м, поэтому расстояния которые согласно ящика с усами считаются выбросами сверху мы убирать не будем. А вот аномалии снизу ящика мы могли бы немного почистить: убрать значения где расстояние меньше 200м: мы так могли бы сделать т.к. это не противоречит ящику и нельзя сказать что кто-то будет намеренно проезжать так мало: скорее это ошибка или момент разрядки самоката и другое, но если мы удалим такие значения, то мы потеряем очень важные цифры для подсчёта выручки. Так что мы поступим следующим образом: удалять данные мы не можем, но мы для себя выделим возможное наличие аномалии, поэтому в дальшейшем при работе с этим атрибутом будем иметь это в виду при последующих действиях.td>"
   ]
  },
  {
   "cell_type": "code",
   "execution_count": 28,
   "id": "d168672e",
   "metadata": {},
   "outputs": [
    {
     "data": {
      "image/png": "[encoded data removed]",
      "text/plain": [
       "<Figure size 720x432 with 1 Axes>"
      ]
     },
     "metadata": {
      "needs_background": "light"
     },
     "output_type": "display_data"
    }
   ],
   "source": [
    "df_rides['distance'].hist(figsize=(10, 6), color='#89CEEB', legend=True, grid=True, bins=50, range=(0, 5000))\n",
    "plt.xlabel('Расстояние поездок(в метрах)')\n",
    "plt.ylabel('Частота')\n",
    "plt.title('Гистограмма расстояния поездок')\n",
    "plt.show()"
   ]
  },
  {
   "cell_type": "markdown",
   "id": "367bb060",
   "metadata": {},
   "source": [
    "<td style=\"background-color: skyblue;\">Найдём временной диапозон за который собрали данные:</td>"
   ]
  },
  {
   "cell_type": "code",
   "execution_count": 29,
   "id": "4ffc997e",
   "metadata": {},
   "outputs": [
    {
     "data": {
      "text/plain": [
       "'Промежуток времени за которые были собраны данные: 2021-01-01 00:00:00 - 2021-12-01 00:00:00'"
      ]
     },
     "execution_count": 29,
     "metadata": {},
     "output_type": "execute_result"
    }
   ],
   "source": [
    "f'Промежуток времени за которые были собраны данные: {df_rides[\"date\"].min()} - {df_rides[\"date\"].max()}'"
   ]
  },
  {
   "cell_type": "markdown",
   "id": "11aa2f3a",
   "metadata": {},
   "source": [
    "<td style=\"background-color: skyblue;\">У нас имеется 2 вершины и при этом одна гораздо меньше другой. О чём эта особенность может нам сказать? Скорее всего ошибки в единицах записи расстояния нет, т. к. 1)данных немного(+ они собраны за короткий промежуток времени - один год, также общая картина объёма работы предобработки говорит нам о том что набор данных относительно чистый), отсюда следует мысль о маловероятности ошибки(но она в любом случае возможна). Как мы поступим(ошибка возможна, но маловероятна)? Поступим согласно такому алгоритму:</td>"
   ]
  },
  {
   "cell_type": "markdown",
   "id": "fc8506cd",
   "metadata": {},
   "source": [
    "![image.png](АРСДП.jpg)"
   ]
  },
  {
   "cell_type": "markdown",
   "id": "a85039ad",
   "metadata": {},
   "source": [
    "<td style=\"background-color: skyblue;\">Добавим конкретизующий столбец: средняя скорость за сеанс(км/ч):</td>"
   ]
  },
  {
   "cell_type": "code",
   "execution_count": 30,
   "id": "7c79a6c8",
   "metadata": {},
   "outputs": [],
   "source": [
    "df_rides['avg_speed_km_h'] = (df_rides['distance'] / 1000) / (df_rides['duration'] / 60)"
   ]
  },
  {
   "cell_type": "markdown",
   "id": "f3b2552f",
   "metadata": {},
   "source": [
    "<td style=\"background-color: skyblue;\">Теперь найдём медианное значение скорости для каждого промежутка(которые составляют вершины):</td>"
   ]
  },
  {
   "cell_type": "code",
   "execution_count": 31,
   "id": "71a29695",
   "metadata": {},
   "outputs": [
    {
     "name": "stdout",
     "output_type": "stream",
     "text": [
      "4.180626948962365\n"
     ]
    }
   ],
   "source": [
    "med_speed_left_1500 = df_rides.query('distance < 1500')['avg_speed_km_h'].median()\n",
    "print(med_speed_left_1500)"
   ]
  },
  {
   "cell_type": "code",
   "execution_count": 32,
   "id": "2bc18dfd",
   "metadata": {},
   "outputs": [
    {
     "name": "stdout",
     "output_type": "stream",
     "text": [
      "10.660228073939763\n"
     ]
    }
   ],
   "source": [
    "med_speed_right_1500 = df_rides.query('distance > 1500')['avg_speed_km_h'].median()\n",
    "print(med_speed_right_1500)"
   ]
  },
  {
   "cell_type": "code",
   "execution_count": 33,
   "id": "fa77dc28",
   "metadata": {},
   "outputs": [
    {
     "name": "stdout",
     "output_type": "stream",
     "text": [
      "254.99%\n"
     ]
    }
   ],
   "source": [
    "print(f'{(med_speed_right_1500 / med_speed_left_1500 * 100).round(2)}%')\n",
    "# без 'print' выводятся кавычки "
   ]
  },
  {
   "cell_type": "markdown",
   "id": "2103c9c8",
   "metadata": {},
   "source": [
    "<td style=\"background-color: skyblue;\">Медианная скорость пользователей которые составляют большую вершину на 238% больше, а значит многовероятно что меньшую вершину образуют новички. Исходя из этого как-то видоизменять набор данных мы не будем(ошибки в единицах измерения записи данных не было).</td>"
   ]
  },
  {
   "cell_type": "markdown",
   "id": "9629fe26",
   "metadata": {},
   "source": [
    "<td style=\"background-color: skyblue;\">Интересно посмотреть описательные статистики для нового столбца:</td>"
   ]
  },
  {
   "cell_type": "code",
   "execution_count": 34,
   "id": "402592fc",
   "metadata": {},
   "outputs": [
    {
     "data": {
      "text/plain": [
       "count    18068.000000\n",
       "mean        13.785261\n",
       "std         44.156189\n",
       "min          0.005133\n",
       "25%          8.127843\n",
       "50%         10.251135\n",
       "75%         12.929800\n",
       "max        865.320929\n",
       "Name: avg_speed_km_h, dtype: float64"
      ]
     },
     "execution_count": 34,
     "metadata": {},
     "output_type": "execute_result"
    }
   ],
   "source": [
    "df_rides['avg_speed_km_h'].describe()"
   ]
  },
  {
   "cell_type": "markdown",
   "id": "774cb3b4",
   "metadata": {},
   "source": [
    "<td style=\"background-color: skyblue;\">Вот тут мы уже видим, что набор данных не такой уж и чистый т.к. максимальная скорость доходит до 865 км/ч. Построим 'boxplot'(ящик с усами) и поглядим на выбросы:</td>"
   ]
  },
  {
   "cell_type": "code",
   "execution_count": 35,
   "id": "7995d695",
   "metadata": {},
   "outputs": [
    {
     "data": {
      "image/png": "[encoded data removed]",
      "text/plain": [
       "<Figure size 432x288 with 1 Axes>"
      ]
     },
     "metadata": {
      "needs_background": "light"
     },
     "output_type": "display_data"
    }
   ],
   "source": [
    "df_rides['avg_speed_km_h'].plot(kind='box')\n",
    "plt.xlabel('Средняя скорость в поездке(в км/ч)')\n",
    "plt.ylabel('Частота')\n",
    "plt.title('Ящик с усами для столбца со средней скоростью за поездку')\n",
    "plt.show()"
   ]
  },
  {
   "cell_type": "markdown",
   "id": "2fd506f2",
   "metadata": {},
   "source": [
    "<td style=\"background-color: skyblue;\">За выбросы мы посчитаем заезды где скорость больше 25 км/ч: В ПДД прописаны ограничения для скорости и веса самокатов. Скорость — не более 25 км/ч для всех СИМ. Т.к. у нас атрибут средней скорости и мы знаем что компания блокирует скорость выше 25, то можно логически оценить, что достичь среднюю скорость заезда в 25 км/ч практически невозможно. Почему практически? В теории возможно что самокат не способен предоставлять надёжную блокировку скорости при спуска с горки(значит его можно разогнать в таком случае, но врятле компания этого не учла) и также не стоит забывать что клиент стартует и заканчивает поездку не с максимально возможной скорости(с нуля), поэтому если даже стараться выжжать максимум на самокате, то скорость будет лишь стремиться к 25км/ч. Не будем удалять выбросы снизу ящика, хотя они соответствуют статусу выбросов согласно концепции ящика с усами. Почему? Возможно в самокате возможно настроить невысокую скорость(данных о функционале самоката мы не имеем и в открытых ресурсах их нет) или пользователь ехал не так быстро и часто останавливался. Среднюю скорость за поездку где значение превышает 25 км/ч мы заменим на медианное значение.</td>"
   ]
  },
  {
   "cell_type": "code",
   "execution_count": 36,
   "id": "f7c6215f",
   "metadata": {},
   "outputs": [],
   "source": [
    "df_rides.loc[df_rides['avg_speed_km_h'] > 25, 'avg_speed_km_h'] = df_rides['avg_speed_km_h'].median()"
   ]
  },
  {
   "cell_type": "code",
   "execution_count": 37,
   "id": "7b061955",
   "metadata": {},
   "outputs": [
    {
     "data": {
      "text/plain": [
       "count    18068.000000\n",
       "mean        10.609698\n",
       "std          3.948946\n",
       "min          0.005133\n",
       "25%          8.127843\n",
       "50%         10.251093\n",
       "75%         12.850319\n",
       "max         24.905329\n",
       "Name: avg_speed_km_h, dtype: float64"
      ]
     },
     "execution_count": 37,
     "metadata": {},
     "output_type": "execute_result"
    }
   ],
   "source": [
    "df_rides['avg_speed_km_h'].describe()"
   ]
  },
  {
   "cell_type": "markdown",
   "id": "41e1d72c",
   "metadata": {},
   "source": [
    "<td style=\"background-color: skyblue;\">И от аномалий избавились, и записи в датафрейме сохранили.</td>"
   ]
  },
  {
   "cell_type": "markdown",
   "id": "2b80eb2e",
   "metadata": {},
   "source": [
    "\n",
    "<td style=\"background-color: skyblue;\">Посмотрим на заезды которые длились меньше минуты:</td>"
   ]
  },
  {
   "cell_type": "code",
   "execution_count": 38,
   "id": "fe37d391",
   "metadata": {},
   "outputs": [
    {
     "data": {
      "image/png": "[encoded data removed]",
      "text/plain": [
       "<Figure size 720x432 with 1 Axes>"
      ]
     },
     "metadata": {
      "needs_background": "light"
     },
     "output_type": "display_data"
    }
   ],
   "source": [
    "df_rides['duration'].hist(figsize=(10, 6), color='#B22222', legend=True, grid=True, bins=50)\n",
    "plt.xlabel('Длительность поездок(в минутах)')\n",
    "plt.ylabel('Частота')\n",
    "plt.title('Гистограмма для продолжительности поездок')\n",
    "plt.show()"
   ]
  },
  {
   "cell_type": "markdown",
   "id": "9d848465",
   "metadata": {},
   "source": [
    "\n",
    "<td style=\"background-color: skyblue;\">Посмотрим на записи где продолжительность меньше минуты, т.к. будто их слишком много:</td>"
   ]
  },
  {
   "cell_type": "code",
   "execution_count": 39,
   "id": "f98dd33c",
   "metadata": {},
   "outputs": [
    {
     "data": {
      "text/html": [
       "<div>\n",
       "<style scoped>\n",
       "    .dataframe tbody tr th:only-of-type {\n",
       "        vertical-align: middle;\n",
       "    }\n",
       "\n",
       "    .dataframe tbody tr th {\n",
       "        vertical-align: top;\n",
       "    }\n",
       "\n",
       "    .dataframe thead th {\n",
       "        text-align: right;\n",
       "    }\n",
       "</style>\n",
       "<table border=\"1\" class=\"dataframe\">\n",
       "  <thead>\n",
       "    <tr style=\"text-align: right;\">\n",
       "      <th></th>\n",
       "      <th>user_id</th>\n",
       "      <th>distance</th>\n",
       "      <th>duration</th>\n",
       "      <th>date</th>\n",
       "      <th>month</th>\n",
       "      <th>avg_speed_km_h</th>\n",
       "    </tr>\n",
       "  </thead>\n",
       "  <tbody>\n",
       "    <tr>\n",
       "      <th>6531</th>\n",
       "      <td>701</td>\n",
       "      <td>4196.445201</td>\n",
       "      <td>0.5</td>\n",
       "      <td>2021-08-01</td>\n",
       "      <td>8</td>\n",
       "      <td>10.251135</td>\n",
       "    </tr>\n",
       "    <tr>\n",
       "      <th>6570</th>\n",
       "      <td>704</td>\n",
       "      <td>4830.824371</td>\n",
       "      <td>0.5</td>\n",
       "      <td>2021-10-01</td>\n",
       "      <td>10</td>\n",
       "      <td>10.251135</td>\n",
       "    </tr>\n",
       "    <tr>\n",
       "      <th>6680</th>\n",
       "      <td>712</td>\n",
       "      <td>4684.004397</td>\n",
       "      <td>0.5</td>\n",
       "      <td>2021-03-01</td>\n",
       "      <td>3</td>\n",
       "      <td>10.251135</td>\n",
       "    </tr>\n",
       "    <tr>\n",
       "      <th>6695</th>\n",
       "      <td>713</td>\n",
       "      <td>5215.642710</td>\n",
       "      <td>0.5</td>\n",
       "      <td>2021-02-01</td>\n",
       "      <td>2</td>\n",
       "      <td>10.251135</td>\n",
       "    </tr>\n",
       "    <tr>\n",
       "      <th>6768</th>\n",
       "      <td>718</td>\n",
       "      <td>5197.436649</td>\n",
       "      <td>0.5</td>\n",
       "      <td>2021-02-01</td>\n",
       "      <td>2</td>\n",
       "      <td>10.251135</td>\n",
       "    </tr>\n",
       "    <tr>\n",
       "      <th>...</th>\n",
       "      <td>...</td>\n",
       "      <td>...</td>\n",
       "      <td>...</td>\n",
       "      <td>...</td>\n",
       "      <td>...</td>\n",
       "      <td>...</td>\n",
       "    </tr>\n",
       "    <tr>\n",
       "      <th>17004</th>\n",
       "      <td>1460</td>\n",
       "      <td>5531.335845</td>\n",
       "      <td>0.5</td>\n",
       "      <td>2021-01-01</td>\n",
       "      <td>1</td>\n",
       "      <td>10.251135</td>\n",
       "    </tr>\n",
       "    <tr>\n",
       "      <th>17242</th>\n",
       "      <td>1477</td>\n",
       "      <td>6724.932981</td>\n",
       "      <td>0.5</td>\n",
       "      <td>2021-01-01</td>\n",
       "      <td>1</td>\n",
       "      <td>10.251135</td>\n",
       "    </tr>\n",
       "    <tr>\n",
       "      <th>17314</th>\n",
       "      <td>1483</td>\n",
       "      <td>4445.481070</td>\n",
       "      <td>0.5</td>\n",
       "      <td>2021-03-01</td>\n",
       "      <td>3</td>\n",
       "      <td>10.251135</td>\n",
       "    </tr>\n",
       "    <tr>\n",
       "      <th>17505</th>\n",
       "      <td>1496</td>\n",
       "      <td>5722.551787</td>\n",
       "      <td>0.5</td>\n",
       "      <td>2021-02-01</td>\n",
       "      <td>2</td>\n",
       "      <td>10.251135</td>\n",
       "    </tr>\n",
       "    <tr>\n",
       "      <th>17909</th>\n",
       "      <td>1524</td>\n",
       "      <td>4103.998874</td>\n",
       "      <td>0.5</td>\n",
       "      <td>2021-06-01</td>\n",
       "      <td>6</td>\n",
       "      <td>10.251135</td>\n",
       "    </tr>\n",
       "  </tbody>\n",
       "</table>\n",
       "<p>95 rows × 6 columns</p>\n",
       "</div>"
      ],
      "text/plain": [
       "       user_id     distance  duration       date  month  avg_speed_km_h\n",
       "6531       701  4196.445201       0.5 2021-08-01      8       10.251135\n",
       "6570       704  4830.824371       0.5 2021-10-01     10       10.251135\n",
       "6680       712  4684.004397       0.5 2021-03-01      3       10.251135\n",
       "6695       713  5215.642710       0.5 2021-02-01      2       10.251135\n",
       "6768       718  5197.436649       0.5 2021-02-01      2       10.251135\n",
       "...        ...          ...       ...        ...    ...             ...\n",
       "17004     1460  5531.335845       0.5 2021-01-01      1       10.251135\n",
       "17242     1477  6724.932981       0.5 2021-01-01      1       10.251135\n",
       "17314     1483  4445.481070       0.5 2021-03-01      3       10.251135\n",
       "17505     1496  5722.551787       0.5 2021-02-01      2       10.251135\n",
       "17909     1524  4103.998874       0.5 2021-06-01      6       10.251135\n",
       "\n",
       "[95 rows x 6 columns]"
      ]
     },
     "execution_count": 39,
     "metadata": {},
     "output_type": "execute_result"
    }
   ],
   "source": [
    "df_rides.query('duration < 1')"
   ]
  },
  {
   "cell_type": "markdown",
   "id": "cd15fcf8",
   "metadata": {},
   "source": [
    "\n",
    "<td style=\"background-color: skyblue;\">Очень странно что за 30 секунд самокаты проезжали расстояние свыше 4000 метров, когда самокат едет с максимальной скоростью 25 км/ч(согласно правилам ПДД для организаций). За 30 секунд при равномерной скорости в 25 км/ч(хотя равномерная скорость тривиально считается теоритическим случаем) самокат проедет примерно 207 метров. Будем считать что пользователь каким-то образом разгонит его быстрее(за 30 сек 300метров), а поэтому заменим значения duration на медианное, где дистанция больше 600 метров и время меньше минуты:</td>"
   ]
  },
  {
   "cell_type": "code",
   "execution_count": 40,
   "id": "77106977",
   "metadata": {},
   "outputs": [
    {
     "data": {
      "text/plain": [
       "95"
      ]
     },
     "execution_count": 40,
     "metadata": {},
     "output_type": "execute_result"
    }
   ],
   "source": [
    "df_rides.loc[(df_rides['duration'] < 1) & (df_rides['distance'] > 600), 'duration'].count()"
   ]
  },
  {
   "cell_type": "markdown",
   "id": "486ee168",
   "metadata": {},
   "source": [
    "<td style=\"background-color: skyblue;\">У нас целых 95 таких случаев, исправим их.</td>"
   ]
  },
  {
   "cell_type": "code",
   "execution_count": 41,
   "id": "c72e257d",
   "metadata": {},
   "outputs": [],
   "source": [
    "df_rides.loc[(df_rides['duration'] < 1) & (df_rides['distance'] > 600), 'duration'] = df_rides['duration'].median()"
   ]
  },
  {
   "cell_type": "markdown",
   "id": "803c68fc",
   "metadata": {},
   "source": [
    "<td style=\"background-color: skyblue;\">Ещё раз взглянем на график:</td>"
   ]
  },
  {
   "cell_type": "code",
   "execution_count": 42,
   "id": "64b0a06c",
   "metadata": {},
   "outputs": [
    {
     "data": {
      "image/png": "[encoded data removed]",
      "text/plain": [
       "<Figure size 720x432 with 1 Axes>"
      ]
     },
     "metadata": {
      "needs_background": "light"
     },
     "output_type": "display_data"
    }
   ],
   "source": [
    "df_rides['duration'].hist(figsize=(10, 6), color='#B22222', legend=True, grid=True, bins=50)\n",
    "plt.xlabel('Длительность поездок(в минутах)')\n",
    "plt.ylabel('Частота')\n",
    "plt.title('Гистограмма для продолжительности поездок')\n",
    "plt.show()"
   ]
  },
  {
   "cell_type": "markdown",
   "id": "904a96e9",
   "metadata": {},
   "source": [
    "<td style=\"background-color: skyblue;\">От аномалий в данном атрибуте избавились: левого 'бугра' на гистограмме больше нет.</td>"
   ]
  },
  {
   "cell_type": "markdown",
   "id": "ad7ae445",
   "metadata": {},
   "source": [
    "На данном действий предобработку данных заканчиваем и подводим небольшой итог: набор данных оказался довольно коварным, так как только при добавлении нового столбца мы смогли отыскать значимое количество аномалий. Подведём итог в процентном соотношении потерь данных и перейдём к следующему этапу: "
   ]
  },
  {
   "cell_type": "code",
   "execution_count": 43,
   "id": "5d827c94",
   "metadata": {},
   "outputs": [
    {
     "name": "stdout",
     "output_type": "stream",
     "text": [
      "Процент остаточных данных в датафрейме df_users = 98.01916932907349\n",
      "Процент остаточных данных в датафрейме df_rides = 100.0\n",
      "Процент остаточных данных в датафрейме df_subs = 100.0\n"
     ]
    }
   ],
   "source": [
    "print(f'Процент остаточных данных в датафрейме df_users = {len(df_users) / df_users_start * 100}')\n",
    "\n",
    "print(f'Процент остаточных данных в датафрейме df_rides = {len(df_rides) / df_rides_start * 100}')\n",
    "\n",
    "print(f'Процент остаточных данных в датафрейме df_subs = {len(df_subs) / df_subs_start * 100}')"
   ]
  },
  {
   "cell_type": "markdown",
   "id": "ac70d17e",
   "metadata": {},
   "source": [
    "<td style=\"background-color: skyblue;\">Потери в данных оказались небольшими)</td>"
   ]
  },
  {
   "cell_type": "markdown",
   "id": "212593c7",
   "metadata": {},
   "source": [
    "#### Шаг 3. Исследовательский анализ данных"
   ]
  },
  {
   "cell_type": "markdown",
   "id": "e6949327",
   "metadata": {},
   "source": [
    "<td style=\"background-color: pink;\">3.1 Частота встречаемости городов:</td>"
   ]
  },
  {
   "cell_type": "code",
   "execution_count": 44,
   "id": "9b06d7fa",
   "metadata": {},
   "outputs": [
    {
     "data": {
      "text/html": [
       "<style  type=\"text/css\" >\n",
       "#T_f6ab3_row0_col0{\n",
       "            background-color:  #fcfdbf;\n",
       "            color:  #000000;\n",
       "        }#T_f6ab3_row1_col0{\n",
       "            background-color:  #f7725c;\n",
       "            color:  #000000;\n",
       "        }#T_f6ab3_row2_col0{\n",
       "            background-color:  #d9466b;\n",
       "            color:  #f1f1f1;\n",
       "        }#T_f6ab3_row3_col0{\n",
       "            background-color:  #b2357b;\n",
       "            color:  #f1f1f1;\n",
       "        }#T_f6ab3_row4_col0{\n",
       "            background-color:  #912b81;\n",
       "            color:  #f1f1f1;\n",
       "        }#T_f6ab3_row5_col0{\n",
       "            background-color:  #621980;\n",
       "            color:  #f1f1f1;\n",
       "        }#T_f6ab3_row6_col0{\n",
       "            background-color:  #4a1079;\n",
       "            color:  #f1f1f1;\n",
       "        }#T_f6ab3_row7_col0{\n",
       "            background-color:  #000004;\n",
       "            color:  #f1f1f1;\n",
       "        }</style><table id=\"T_f6ab3_\" ><thead>    <tr>        <th class=\"blank level0\" ></th>        <th class=\"col_heading level0 col0\" >city</th>    </tr></thead><tbody>\n",
       "                <tr>\n",
       "                        <th id=\"T_f6ab3_level0_row0\" class=\"row_heading level0 row0\" >Пятигорск</th>\n",
       "                        <td id=\"T_f6ab3_row0_col0\" class=\"data row0 col0\" >14.276402</td>\n",
       "            </tr>\n",
       "            <tr>\n",
       "                        <th id=\"T_f6ab3_level0_row1\" class=\"row_heading level0 row1\" >Екатеринбург</th>\n",
       "                        <td id=\"T_f6ab3_row1_col0\" class=\"data row1 col0\" >13.298566</td>\n",
       "            </tr>\n",
       "            <tr>\n",
       "                        <th id=\"T_f6ab3_level0_row2\" class=\"row_heading level0 row2\" >Ростов-на-Дону</th>\n",
       "                        <td id=\"T_f6ab3_row2_col0\" class=\"data row2 col0\" >12.907432</td>\n",
       "            </tr>\n",
       "            <tr>\n",
       "                        <th id=\"T_f6ab3_level0_row3\" class=\"row_heading level0 row3\" >Краснодар</th>\n",
       "                        <td id=\"T_f6ab3_row3_col0\" class=\"data row3 col0\" >12.581486</td>\n",
       "            </tr>\n",
       "            <tr>\n",
       "                        <th id=\"T_f6ab3_level0_row4\" class=\"row_heading level0 row4\" >Сочи</th>\n",
       "                        <td id=\"T_f6ab3_row4_col0\" class=\"data row4 col0\" >12.320730</td>\n",
       "            </tr>\n",
       "            <tr>\n",
       "                        <th id=\"T_f6ab3_level0_row5\" class=\"row_heading level0 row5\" >Омск</th>\n",
       "                        <td id=\"T_f6ab3_row5_col0\" class=\"data row5 col0\" >11.929596</td>\n",
       "            </tr>\n",
       "            <tr>\n",
       "                        <th id=\"T_f6ab3_level0_row6\" class=\"row_heading level0 row6\" >Тюмень</th>\n",
       "                        <td id=\"T_f6ab3_row6_col0\" class=\"data row6 col0\" >11.734029</td>\n",
       "            </tr>\n",
       "            <tr>\n",
       "                        <th id=\"T_f6ab3_level0_row7\" class=\"row_heading level0 row7\" >Москва</th>\n",
       "                        <td id=\"T_f6ab3_row7_col0\" class=\"data row7 col0\" >10.951760</td>\n",
       "            </tr>\n",
       "    </tbody></table>"
      ],
      "text/plain": [
       "<pandas.io.formats.style.Styler at 0x7f02fcba20d0>"
      ]
     },
     "execution_count": 44,
     "metadata": {},
     "output_type": "execute_result"
    }
   ],
   "source": [
    "# Создаем DataFrame из Series , чтобы более наглядно предоставить частоту\n",
    "\n",
    "df_city_counts = pd.DataFrame(df_users['city'].value_counts().sort_values(ascending=False) / len(df_users['city']) * 100)\n",
    "\n",
    "# Применяем стиль к DataFrame с цветовой картой 'magma'(cmap)\n",
    "df_city_counts = df_city_counts.style.background_gradient(cmap='magma')\n",
    "\n",
    "df_city_counts "
   ]
  },
  {
   "cell_type": "code",
   "execution_count": 45,
   "id": "9ee27c92",
   "metadata": {},
   "outputs": [
    {
     "data": {
      "image/png": "[encoded data removed]",
      "text/plain": [
       "<Figure size 432x360 with 1 Axes>"
      ]
     },
     "metadata": {
      "needs_background": "light"
     },
     "output_type": "display_data"
    }
   ],
   "source": [
    "df_users['city'].value_counts().plot(kind='bar', color='orange', figsize=(6, 5), legend=True)\n",
    "plt.xlabel('Название города')\n",
    "plt.ylabel('Частота')\n",
    "plt.title('Распредение поездок в городах')\n",
    "plt.show()"
   ]
  },
  {
   "cell_type": "markdown",
   "id": "8415e2f0",
   "metadata": {},
   "source": [
    "<td style=\"background-color: skyblue;\">Таблица рейтинга процентной клиентской базы приведена выше. Наша тройка лидеров: 1) Пятигорск, 2)Екатеринбург, 3)Ростов-на-Дону. Занятно что заинтересованность людей нашим сервисом в Москве очень плохая: возможно из-за наличия множества конкурентов.</td>"
   ]
  },
  {
   "cell_type": "markdown",
   "id": "c2751f3a",
   "metadata": {},
   "source": [
    "<td style=\"background-color: pink;\">3.2 Соотношение пользователей с подпиской и без подписки:</td>"
   ]
  },
  {
   "cell_type": "code",
   "execution_count": 46,
   "id": "9f9960ba",
   "metadata": {},
   "outputs": [],
   "source": [
    "subs_type_counts = df_users['subscription_type'].value_counts()"
   ]
  },
  {
   "cell_type": "code",
   "execution_count": 47,
   "id": "30567a35",
   "metadata": {},
   "outputs": [
    {
     "data": {
      "text/plain": [
       "free     835\n",
       "ultra    699\n",
       "Name: subscription_type, dtype: int64"
      ]
     },
     "execution_count": 47,
     "metadata": {},
     "output_type": "execute_result"
    }
   ],
   "source": [
    "subs_type_counts"
   ]
  },
  {
   "cell_type": "code",
   "execution_count": 48,
   "id": "252c49a0",
   "metadata": {},
   "outputs": [
    {
     "data": {
      "image/png": "[encoded data removed]",
      "text/plain": [
       "<Figure size 432x432 with 1 Axes>"
      ]
     },
     "metadata": {},
     "output_type": "display_data"
    }
   ],
   "source": [
    "# Построение круговой диаграммы\n",
    "\n",
    "plt.figure(figsize=(6, 6))\n",
    "\n",
    "plt.pie(subs_type_counts, labels=subs_type_counts.index, autopct='%1.0f%%', colors = ['red', 'blue'])\n",
    "\n",
    "plt.title('Соотношение пользователей с подпиской и без подписки')\n",
    "plt.show()"
   ]
  },
  {
   "cell_type": "markdown",
   "id": "398805c0",
   "metadata": {},
   "source": [
    "<td style=\"background-color: skyblue;\">46% пользователей имеет платную подписку - 'ultra'. Это довольно внушительный результат т.к. пользователи которые приобрели её являются постоянными(или потенциально постоянными) клиентами нашего сервиса. 54% пользователей используют бесплатный тариф.</td>"
   ]
  },
  {
   "cell_type": "markdown",
   "id": "f0c10c1e",
   "metadata": {},
   "source": [
    "<td style=\"background-color: pink;\">3.3 Возраст пользователей:</td>"
   ]
  },
  {
   "cell_type": "code",
   "execution_count": 49,
   "id": "bc93d5f5",
   "metadata": {},
   "outputs": [
    {
     "data": {
      "text/plain": [
       "count    1534.000000\n",
       "mean       24.903520\n",
       "std         4.572367\n",
       "min        12.000000\n",
       "25%        22.000000\n",
       "50%        25.000000\n",
       "75%        28.000000\n",
       "max        43.000000\n",
       "Name: age, dtype: float64"
      ]
     },
     "execution_count": 49,
     "metadata": {},
     "output_type": "execute_result"
    }
   ],
   "source": [
    "df_users['age'].describe()"
   ]
  },
  {
   "cell_type": "code",
   "execution_count": 50,
   "id": "7aeec803",
   "metadata": {},
   "outputs": [
    {
     "data": {
      "image/png": "[encoded data removed]",
      "text/plain": [
       "<Figure size 648x360 with 1 Axes>"
      ]
     },
     "metadata": {
      "needs_background": "light"
     },
     "output_type": "display_data"
    }
   ],
   "source": [
    "df_users['age'].hist(range=(12, 43), color='grey', figsize=(9,5), bins=31, legend=True, grid=True)\n",
    "plt.xlabel('Возраст')\n",
    "plt.ylabel('Частота')\n",
    "plt.title('Гистограмма возраста клиентов')\n",
    "plt.show()"
   ]
  },
  {
   "cell_type": "markdown",
   "id": "170e6ee0",
   "metadata": {},
   "source": [
    "<td style=\"background-color: skyblue;\">Медианное значение возраста равно 25-и годам, среднее - 24.9, межквартильный размах = значение 3-го квартиля - значение 1-го квартиля(25 и 75 перцентили соответсвенно) = 16, максимальное значение 43 года, стандартное отклонение равняется 4.57. Прекрасно что медианна и среднее не сильно оличаются т.к. это демонстрирует отсутствие выбросов. Распределение - Пуассоновское. Большая часть пользователей имеет диапозон возраста примерно от 18 до 32 лет.</td>"
   ]
  },
  {
   "cell_type": "markdown",
   "id": "0e92f597",
   "metadata": {},
   "source": [
    "<td style=\"background-color: pink;\">3.4 Расстояние, которое пользователь преодолел за одну поездку:</td>"
   ]
  },
  {
   "cell_type": "markdown",
   "id": "0af86142",
   "metadata": {},
   "source": [
    "<td style=\"background-color: skyblue;\">Построим гистограмму для расстояния и найдём описательные статистики:</td>"
   ]
  },
  {
   "cell_type": "code",
   "execution_count": 51,
   "id": "b70aed31",
   "metadata": {},
   "outputs": [
    {
     "data": {
      "text/plain": [
       "count    18068.000000\n",
       "mean      3070.659976\n",
       "std       1116.831209\n",
       "min          0.855683\n",
       "25%       2543.226360\n",
       "50%       3133.609994\n",
       "75%       3776.222735\n",
       "max       7211.007745\n",
       "Name: distance, dtype: float64"
      ]
     },
     "execution_count": 51,
     "metadata": {},
     "output_type": "execute_result"
    }
   ],
   "source": [
    "df_rides['distance'].describe()"
   ]
  },
  {
   "cell_type": "code",
   "execution_count": 52,
   "id": "3c52fa87",
   "metadata": {},
   "outputs": [
    {
     "data": {
      "image/png": "[encoded data removed]",
      "text/plain": [
       "<Figure size 576x432 with 1 Axes>"
      ]
     },
     "metadata": {
      "needs_background": "light"
     },
     "output_type": "display_data"
    }
   ],
   "source": [
    "df_rides['distance'].plot(kind='hist', range=(0, 8000), bins=50, color='yellow', legend=True, grid=True, figsize=(8,6))\n",
    "plt.xlabel('Расстояние за поездку')\n",
    "plt.ylabel('Частота')\n",
    "plt.title('Гистограмма расстояния пройденного за поездку')\n",
    "plt.show()"
   ]
  },
  {
   "cell_type": "markdown",
   "id": "f3870a07",
   "metadata": {},
   "source": [
    "<td style=\"background-color: skyblue;\">Основные описательные статистики отражены в методе выше. Из значимого: вероятно большинство опытных пользователей проезжают расстояние от ~ 2000 - ~ 4900 м, а основная часть новичкой от 200 м до 1200 м.</td>"
   ]
  },
  {
   "cell_type": "markdown",
   "id": "97c55fae",
   "metadata": {},
   "source": [
    "<td style=\"background-color: pink;\">3.5 Продолжительность поездок:</td>"
   ]
  },
  {
   "cell_type": "markdown",
   "id": "87ed2b5b",
   "metadata": {},
   "source": [
    "<td style=\"background-color: skyblue;\">Найдём описательные статистики и построим гистограмму для атрибута с продолжительностью поездок:</td>"
   ]
  },
  {
   "cell_type": "code",
   "execution_count": 53,
   "id": "aa1e3d36",
   "metadata": {},
   "outputs": [
    {
     "data": {
      "text/plain": [
       "count    18068.000000\n",
       "mean        17.895334\n",
       "std          5.959714\n",
       "min          2.035632\n",
       "25%         13.697117\n",
       "50%         17.679120\n",
       "75%         21.724800\n",
       "max         40.823963\n",
       "Name: duration, dtype: float64"
      ]
     },
     "execution_count": 53,
     "metadata": {},
     "output_type": "execute_result"
    }
   ],
   "source": [
    "df_rides['duration'].describe()"
   ]
  },
  {
   "cell_type": "code",
   "execution_count": 54,
   "id": "e2bbfd9f",
   "metadata": {},
   "outputs": [
    {
     "data": {
      "image/png": "[encoded data removed]",
      "text/plain": [
       "<Figure size 648x432 with 1 Axes>"
      ]
     },
     "metadata": {
      "needs_background": "light"
     },
     "output_type": "display_data"
    }
   ],
   "source": [
    "df_rides['duration'].plot(kind='hist', range=(2, 41), bins= 38, figsize=(9,6), color='red', legend=True, grid=True)\n",
    "plt.xlabel('Продолжительность поездок')\n",
    "plt.ylabel('Частота')\n",
    "plt.title('Гистограмма продолжительности поездок')\n",
    "plt.show()"
   ]
  },
  {
   "cell_type": "markdown",
   "id": "0d7c6747",
   "metadata": {},
   "source": [
    "<td style=\"background-color: skyblue;\">Описательные статистики определены выше. Основная часть клиентов проводит за поездкой примерно от 8-и до 28-и минут(2 стандартных отклонения ~ 95% всех данных).</td>"
   ]
  },
  {
   "cell_type": "markdown",
   "id": "4ef51331",
   "metadata": {},
   "source": [
    "#### Шаг 4. Объединение данных"
   ]
  },
  {
   "cell_type": "markdown",
   "id": "73049d3e",
   "metadata": {},
   "source": [
    "<td style=\"background-color: skyblue;\">Осуществим проверку размерности:</td>"
   ]
  },
  {
   "cell_type": "markdown",
   "id": "59c722ca",
   "metadata": {},
   "source": [
    "- размеры датасетов до объединения(размер результирующего датафрейма расчитаем после преобразований):"
   ]
  },
  {
   "cell_type": "code",
   "execution_count": 55,
   "id": "f9e5276b",
   "metadata": {},
   "outputs": [
    {
     "name": "stdout",
     "output_type": "stream",
     "text": [
      "Размерность датасетов: df_users - 1534, df_rides - 18068, df_subs - 2\n"
     ]
    }
   ],
   "source": [
    "print(f\"Размерность датасетов: df_users - {len(df_users)}, df_rides - {len(df_rides)}, df_subs - {len(df_subs)}\")"
   ]
  },
  {
   "cell_type": "markdown",
   "id": "c8a76d97",
   "metadata": {},
   "source": [
    "<td style=\"background-color: skyblue;\">После объединения данных у нас должен получиться датафрейм размерностью 18068(идентично максимального размеру из всех 3-х датафреймов).</td>"
   ]
  },
  {
   "cell_type": "markdown",
   "id": "179df7b9",
   "metadata": {},
   "source": [
    "<td style=\"background-color: pink;\">4.1 Объедините данные о пользователях, поездках и подписках в один датафрейм. Для этого воспользуйтесь методом merge().</td>"
   ]
  },
  {
   "cell_type": "markdown",
   "id": "9995733c",
   "metadata": {},
   "source": [
    "<td style=\"background-color: skyblue;\">Сначала объёдиним таблицу пользователей и поездок(связь - один(пользователь) ко многим(много поездок одного пользователя)).</td>"
   ]
  },
  {
   "cell_type": "code",
   "execution_count": 56,
   "id": "d5bf2d0c",
   "metadata": {},
   "outputs": [],
   "source": [
    "df = df_users.merge(df_rides, on='user_id')"
   ]
  },
  {
   "cell_type": "markdown",
   "id": "900f31f0",
   "metadata": {},
   "source": [
    "<td style=\"background-color: skyblue;\">Добавим таблицу с тарифами.</td>"
   ]
  },
  {
   "cell_type": "code",
   "execution_count": 57,
   "id": "171a37f3",
   "metadata": {},
   "outputs": [],
   "source": [
    "df = df.merge(df_subs, on='subscription_type')"
   ]
  },
  {
   "cell_type": "markdown",
   "id": "fa5782de",
   "metadata": {},
   "source": [
    "<td style=\"background-color: skyblue;\">Взглянем на случайную выборку 10-и записей в новом датафрейме:</td>"
   ]
  },
  {
   "cell_type": "code",
   "execution_count": 58,
   "id": "9f8c328e",
   "metadata": {},
   "outputs": [
    {
     "data": {
      "text/html": [
       "<div>\n",
       "<style scoped>\n",
       "    .dataframe tbody tr th:only-of-type {\n",
       "        vertical-align: middle;\n",
       "    }\n",
       "\n",
       "    .dataframe tbody tr th {\n",
       "        vertical-align: top;\n",
       "    }\n",
       "\n",
       "    .dataframe thead th {\n",
       "        text-align: right;\n",
       "    }\n",
       "</style>\n",
       "<table border=\"1\" class=\"dataframe\">\n",
       "  <thead>\n",
       "    <tr style=\"text-align: right;\">\n",
       "      <th></th>\n",
       "      <th>user_id</th>\n",
       "      <th>name</th>\n",
       "      <th>age</th>\n",
       "      <th>city</th>\n",
       "      <th>subscription_type</th>\n",
       "      <th>distance</th>\n",
       "      <th>duration</th>\n",
       "      <th>date</th>\n",
       "      <th>month</th>\n",
       "      <th>avg_speed_km_h</th>\n",
       "      <th>minute_price</th>\n",
       "      <th>start_ride_price</th>\n",
       "      <th>subscription_fee</th>\n",
       "    </tr>\n",
       "  </thead>\n",
       "  <tbody>\n",
       "    <tr>\n",
       "      <th>9043</th>\n",
       "      <td>890</td>\n",
       "      <td>Кира</td>\n",
       "      <td>30</td>\n",
       "      <td>Омск</td>\n",
       "      <td>free</td>\n",
       "      <td>4418.324507</td>\n",
       "      <td>22.594086</td>\n",
       "      <td>2021-08-01</td>\n",
       "      <td>8</td>\n",
       "      <td>11.733135</td>\n",
       "      <td>8</td>\n",
       "      <td>50</td>\n",
       "      <td>0</td>\n",
       "    </tr>\n",
       "    <tr>\n",
       "      <th>17114</th>\n",
       "      <td>1468</td>\n",
       "      <td>Вероника</td>\n",
       "      <td>20</td>\n",
       "      <td>Ростов-на-Дону</td>\n",
       "      <td>free</td>\n",
       "      <td>3446.034732</td>\n",
       "      <td>23.338104</td>\n",
       "      <td>2021-03-01</td>\n",
       "      <td>3</td>\n",
       "      <td>8.859421</td>\n",
       "      <td>8</td>\n",
       "      <td>50</td>\n",
       "      <td>0</td>\n",
       "    </tr>\n",
       "    <tr>\n",
       "      <th>2902</th>\n",
       "      <td>310</td>\n",
       "      <td>Алла</td>\n",
       "      <td>29</td>\n",
       "      <td>Омск</td>\n",
       "      <td>ultra</td>\n",
       "      <td>3060.964863</td>\n",
       "      <td>20.203216</td>\n",
       "      <td>2021-02-01</td>\n",
       "      <td>2</td>\n",
       "      <td>9.090527</td>\n",
       "      <td>6</td>\n",
       "      <td>0</td>\n",
       "      <td>199</td>\n",
       "    </tr>\n",
       "    <tr>\n",
       "      <th>16988</th>\n",
       "      <td>1458</td>\n",
       "      <td>Тамерлан</td>\n",
       "      <td>24</td>\n",
       "      <td>Сочи</td>\n",
       "      <td>free</td>\n",
       "      <td>3718.026959</td>\n",
       "      <td>22.262282</td>\n",
       "      <td>2021-11-01</td>\n",
       "      <td>11</td>\n",
       "      <td>10.020609</td>\n",
       "      <td>8</td>\n",
       "      <td>50</td>\n",
       "      <td>0</td>\n",
       "    </tr>\n",
       "    <tr>\n",
       "      <th>16613</th>\n",
       "      <td>1430</td>\n",
       "      <td>Маргарита</td>\n",
       "      <td>22</td>\n",
       "      <td>Краснодар</td>\n",
       "      <td>free</td>\n",
       "      <td>4422.767029</td>\n",
       "      <td>22.056918</td>\n",
       "      <td>2021-03-01</td>\n",
       "      <td>3</td>\n",
       "      <td>12.030966</td>\n",
       "      <td>8</td>\n",
       "      <td>50</td>\n",
       "      <td>0</td>\n",
       "    </tr>\n",
       "    <tr>\n",
       "      <th>665</th>\n",
       "      <td>74</td>\n",
       "      <td>Арсений</td>\n",
       "      <td>19</td>\n",
       "      <td>Тюмень</td>\n",
       "      <td>ultra</td>\n",
       "      <td>3318.663680</td>\n",
       "      <td>14.712931</td>\n",
       "      <td>2021-03-01</td>\n",
       "      <td>3</td>\n",
       "      <td>13.533661</td>\n",
       "      <td>6</td>\n",
       "      <td>0</td>\n",
       "      <td>199</td>\n",
       "    </tr>\n",
       "    <tr>\n",
       "      <th>15925</th>\n",
       "      <td>1384</td>\n",
       "      <td>Анатолий</td>\n",
       "      <td>22</td>\n",
       "      <td>Москва</td>\n",
       "      <td>free</td>\n",
       "      <td>4053.902835</td>\n",
       "      <td>24.373869</td>\n",
       "      <td>2021-07-01</td>\n",
       "      <td>7</td>\n",
       "      <td>9.979301</td>\n",
       "      <td>8</td>\n",
       "      <td>50</td>\n",
       "      <td>0</td>\n",
       "    </tr>\n",
       "    <tr>\n",
       "      <th>11067</th>\n",
       "      <td>1032</td>\n",
       "      <td>Галина</td>\n",
       "      <td>27</td>\n",
       "      <td>Екатеринбург</td>\n",
       "      <td>free</td>\n",
       "      <td>2926.081805</td>\n",
       "      <td>24.630409</td>\n",
       "      <td>2021-11-01</td>\n",
       "      <td>11</td>\n",
       "      <td>7.127974</td>\n",
       "      <td>8</td>\n",
       "      <td>50</td>\n",
       "      <td>0</td>\n",
       "    </tr>\n",
       "    <tr>\n",
       "      <th>8314</th>\n",
       "      <td>834</td>\n",
       "      <td>Давид</td>\n",
       "      <td>29</td>\n",
       "      <td>Пятигорск</td>\n",
       "      <td>free</td>\n",
       "      <td>3392.806235</td>\n",
       "      <td>25.974610</td>\n",
       "      <td>2021-07-01</td>\n",
       "      <td>7</td>\n",
       "      <td>7.837206</td>\n",
       "      <td>8</td>\n",
       "      <td>50</td>\n",
       "      <td>0</td>\n",
       "    </tr>\n",
       "    <tr>\n",
       "      <th>10805</th>\n",
       "      <td>1014</td>\n",
       "      <td>Эмиль</td>\n",
       "      <td>33</td>\n",
       "      <td>Тюмень</td>\n",
       "      <td>free</td>\n",
       "      <td>500.437890</td>\n",
       "      <td>5.729661</td>\n",
       "      <td>2021-10-01</td>\n",
       "      <td>10</td>\n",
       "      <td>5.240497</td>\n",
       "      <td>8</td>\n",
       "      <td>50</td>\n",
       "      <td>0</td>\n",
       "    </tr>\n",
       "  </tbody>\n",
       "</table>\n",
       "</div>"
      ],
      "text/plain": [
       "       user_id       name  age            city subscription_type     distance  \\\n",
       "9043       890       Кира   30            Омск              free  4418.324507   \n",
       "17114     1468   Вероника   20  Ростов-на-Дону              free  3446.034732   \n",
       "2902       310       Алла   29            Омск             ultra  3060.964863   \n",
       "16988     1458   Тамерлан   24            Сочи              free  3718.026959   \n",
       "16613     1430  Маргарита   22       Краснодар              free  4422.767029   \n",
       "665         74    Арсений   19          Тюмень             ultra  3318.663680   \n",
       "15925     1384   Анатолий   22          Москва              free  4053.902835   \n",
       "11067     1032     Галина   27    Екатеринбург              free  2926.081805   \n",
       "8314       834      Давид   29       Пятигорск              free  3392.806235   \n",
       "10805     1014      Эмиль   33          Тюмень              free   500.437890   \n",
       "\n",
       "        duration       date  month  avg_speed_km_h  minute_price  \\\n",
       "9043   22.594086 2021-08-01      8       11.733135             8   \n",
       "17114  23.338104 2021-03-01      3        8.859421             8   \n",
       "2902   20.203216 2021-02-01      2        9.090527             6   \n",
       "16988  22.262282 2021-11-01     11       10.020609             8   \n",
       "16613  22.056918 2021-03-01      3       12.030966             8   \n",
       "665    14.712931 2021-03-01      3       13.533661             6   \n",
       "15925  24.373869 2021-07-01      7        9.979301             8   \n",
       "11067  24.630409 2021-11-01     11        7.127974             8   \n",
       "8314   25.974610 2021-07-01      7        7.837206             8   \n",
       "10805   5.729661 2021-10-01     10        5.240497             8   \n",
       "\n",
       "       start_ride_price  subscription_fee  \n",
       "9043                 50                 0  \n",
       "17114                50                 0  \n",
       "2902                  0               199  \n",
       "16988                50                 0  \n",
       "16613                50                 0  \n",
       "665                   0               199  \n",
       "15925                50                 0  \n",
       "11067                50                 0  \n",
       "8314                 50                 0  \n",
       "10805                50                 0  "
      ]
     },
     "execution_count": 58,
     "metadata": {},
     "output_type": "execute_result"
    }
   ],
   "source": [
    "df.sample(n=10)"
   ]
  },
  {
   "cell_type": "markdown",
   "id": "eb90309b",
   "metadata": {},
   "source": [
    "<td style=\"background-color: skyblue;\">Всё неплохо, но можно лучше: перенесём атрибут 'subscription_type' к атрибутам которые имеют с ним зависимость. Так данные будут иметь более хорошую структуру: проще восприниматься человеком. </td>"
   ]
  },
  {
   "cell_type": "code",
   "execution_count": 59,
   "id": "ae56108a",
   "metadata": {},
   "outputs": [
    {
     "data": {
      "text/html": [
       "<div>\n",
       "<style scoped>\n",
       "    .dataframe tbody tr th:only-of-type {\n",
       "        vertical-align: middle;\n",
       "    }\n",
       "\n",
       "    .dataframe tbody tr th {\n",
       "        vertical-align: top;\n",
       "    }\n",
       "\n",
       "    .dataframe thead th {\n",
       "        text-align: right;\n",
       "    }\n",
       "</style>\n",
       "<table border=\"1\" class=\"dataframe\">\n",
       "  <thead>\n",
       "    <tr style=\"text-align: right;\">\n",
       "      <th></th>\n",
       "      <th>user_id</th>\n",
       "      <th>name</th>\n",
       "      <th>age</th>\n",
       "      <th>city</th>\n",
       "      <th>subscription_type</th>\n",
       "      <th>distance</th>\n",
       "      <th>duration</th>\n",
       "      <th>date</th>\n",
       "      <th>month</th>\n",
       "      <th>avg_speed_km_h</th>\n",
       "      <th>minute_price</th>\n",
       "      <th>start_ride_price</th>\n",
       "      <th>subscription_fee</th>\n",
       "    </tr>\n",
       "  </thead>\n",
       "  <tbody>\n",
       "    <tr>\n",
       "      <th>18053</th>\n",
       "      <td>1533</td>\n",
       "      <td>Степан</td>\n",
       "      <td>22</td>\n",
       "      <td>Краснодар</td>\n",
       "      <td>free</td>\n",
       "      <td>4581.943632</td>\n",
       "      <td>21.163887</td>\n",
       "      <td>2021-08-01</td>\n",
       "      <td>8</td>\n",
       "      <td>12.989892</td>\n",
       "      <td>8</td>\n",
       "      <td>50</td>\n",
       "      <td>0</td>\n",
       "    </tr>\n",
       "    <tr>\n",
       "      <th>18054</th>\n",
       "      <td>1533</td>\n",
       "      <td>Степан</td>\n",
       "      <td>22</td>\n",
       "      <td>Краснодар</td>\n",
       "      <td>free</td>\n",
       "      <td>3414.448028</td>\n",
       "      <td>25.657792</td>\n",
       "      <td>2021-11-01</td>\n",
       "      <td>11</td>\n",
       "      <td>7.984587</td>\n",
       "      <td>8</td>\n",
       "      <td>50</td>\n",
       "      <td>0</td>\n",
       "    </tr>\n",
       "    <tr>\n",
       "      <th>18055</th>\n",
       "      <td>1534</td>\n",
       "      <td>Альберт</td>\n",
       "      <td>25</td>\n",
       "      <td>Краснодар</td>\n",
       "      <td>free</td>\n",
       "      <td>4678.415899</td>\n",
       "      <td>15.228198</td>\n",
       "      <td>2021-01-01</td>\n",
       "      <td>1</td>\n",
       "      <td>18.433235</td>\n",
       "      <td>8</td>\n",
       "      <td>50</td>\n",
       "      <td>0</td>\n",
       "    </tr>\n",
       "    <tr>\n",
       "      <th>18056</th>\n",
       "      <td>1534</td>\n",
       "      <td>Альберт</td>\n",
       "      <td>25</td>\n",
       "      <td>Краснодар</td>\n",
       "      <td>free</td>\n",
       "      <td>2103.914120</td>\n",
       "      <td>13.425579</td>\n",
       "      <td>2021-02-01</td>\n",
       "      <td>2</td>\n",
       "      <td>9.402562</td>\n",
       "      <td>8</td>\n",
       "      <td>50</td>\n",
       "      <td>0</td>\n",
       "    </tr>\n",
       "    <tr>\n",
       "      <th>18057</th>\n",
       "      <td>1534</td>\n",
       "      <td>Альберт</td>\n",
       "      <td>25</td>\n",
       "      <td>Краснодар</td>\n",
       "      <td>free</td>\n",
       "      <td>3434.290912</td>\n",
       "      <td>14.366248</td>\n",
       "      <td>2021-04-01</td>\n",
       "      <td>4</td>\n",
       "      <td>14.343164</td>\n",
       "      <td>8</td>\n",
       "      <td>50</td>\n",
       "      <td>0</td>\n",
       "    </tr>\n",
       "    <tr>\n",
       "      <th>18058</th>\n",
       "      <td>1534</td>\n",
       "      <td>Альберт</td>\n",
       "      <td>25</td>\n",
       "      <td>Краснодар</td>\n",
       "      <td>free</td>\n",
       "      <td>195.447469</td>\n",
       "      <td>6.469074</td>\n",
       "      <td>2021-06-01</td>\n",
       "      <td>6</td>\n",
       "      <td>1.812755</td>\n",
       "      <td>8</td>\n",
       "      <td>50</td>\n",
       "      <td>0</td>\n",
       "    </tr>\n",
       "    <tr>\n",
       "      <th>18059</th>\n",
       "      <td>1534</td>\n",
       "      <td>Альберт</td>\n",
       "      <td>25</td>\n",
       "      <td>Краснодар</td>\n",
       "      <td>free</td>\n",
       "      <td>3214.021065</td>\n",
       "      <td>18.343604</td>\n",
       "      <td>2021-06-01</td>\n",
       "      <td>6</td>\n",
       "      <td>10.512725</td>\n",
       "      <td>8</td>\n",
       "      <td>50</td>\n",
       "      <td>0</td>\n",
       "    </tr>\n",
       "    <tr>\n",
       "      <th>18060</th>\n",
       "      <td>1534</td>\n",
       "      <td>Альберт</td>\n",
       "      <td>25</td>\n",
       "      <td>Краснодар</td>\n",
       "      <td>free</td>\n",
       "      <td>3644.708038</td>\n",
       "      <td>20.289416</td>\n",
       "      <td>2021-08-01</td>\n",
       "      <td>8</td>\n",
       "      <td>10.778156</td>\n",
       "      <td>8</td>\n",
       "      <td>50</td>\n",
       "      <td>0</td>\n",
       "    </tr>\n",
       "    <tr>\n",
       "      <th>18061</th>\n",
       "      <td>1534</td>\n",
       "      <td>Альберт</td>\n",
       "      <td>25</td>\n",
       "      <td>Краснодар</td>\n",
       "      <td>free</td>\n",
       "      <td>3977.744996</td>\n",
       "      <td>26.916544</td>\n",
       "      <td>2021-08-01</td>\n",
       "      <td>8</td>\n",
       "      <td>8.866840</td>\n",
       "      <td>8</td>\n",
       "      <td>50</td>\n",
       "      <td>0</td>\n",
       "    </tr>\n",
       "    <tr>\n",
       "      <th>18062</th>\n",
       "      <td>1534</td>\n",
       "      <td>Альберт</td>\n",
       "      <td>25</td>\n",
       "      <td>Краснодар</td>\n",
       "      <td>free</td>\n",
       "      <td>4928.173852</td>\n",
       "      <td>22.560373</td>\n",
       "      <td>2021-09-01</td>\n",
       "      <td>9</td>\n",
       "      <td>13.106629</td>\n",
       "      <td>8</td>\n",
       "      <td>50</td>\n",
       "      <td>0</td>\n",
       "    </tr>\n",
       "    <tr>\n",
       "      <th>18063</th>\n",
       "      <td>1534</td>\n",
       "      <td>Альберт</td>\n",
       "      <td>25</td>\n",
       "      <td>Краснодар</td>\n",
       "      <td>free</td>\n",
       "      <td>3781.098080</td>\n",
       "      <td>19.822962</td>\n",
       "      <td>2021-11-01</td>\n",
       "      <td>11</td>\n",
       "      <td>11.444601</td>\n",
       "      <td>8</td>\n",
       "      <td>50</td>\n",
       "      <td>0</td>\n",
       "    </tr>\n",
       "    <tr>\n",
       "      <th>18064</th>\n",
       "      <td>1534</td>\n",
       "      <td>Альберт</td>\n",
       "      <td>25</td>\n",
       "      <td>Краснодар</td>\n",
       "      <td>free</td>\n",
       "      <td>2840.423057</td>\n",
       "      <td>21.409799</td>\n",
       "      <td>2021-11-01</td>\n",
       "      <td>11</td>\n",
       "      <td>7.960158</td>\n",
       "      <td>8</td>\n",
       "      <td>50</td>\n",
       "      <td>0</td>\n",
       "    </tr>\n",
       "    <tr>\n",
       "      <th>18065</th>\n",
       "      <td>1534</td>\n",
       "      <td>Альберт</td>\n",
       "      <td>25</td>\n",
       "      <td>Краснодар</td>\n",
       "      <td>free</td>\n",
       "      <td>3826.185507</td>\n",
       "      <td>18.435051</td>\n",
       "      <td>2021-11-01</td>\n",
       "      <td>11</td>\n",
       "      <td>12.452969</td>\n",
       "      <td>8</td>\n",
       "      <td>50</td>\n",
       "      <td>0</td>\n",
       "    </tr>\n",
       "    <tr>\n",
       "      <th>18066</th>\n",
       "      <td>1534</td>\n",
       "      <td>Альберт</td>\n",
       "      <td>25</td>\n",
       "      <td>Краснодар</td>\n",
       "      <td>free</td>\n",
       "      <td>2902.308661</td>\n",
       "      <td>16.674362</td>\n",
       "      <td>2021-11-01</td>\n",
       "      <td>11</td>\n",
       "      <td>10.443489</td>\n",
       "      <td>8</td>\n",
       "      <td>50</td>\n",
       "      <td>0</td>\n",
       "    </tr>\n",
       "    <tr>\n",
       "      <th>18067</th>\n",
       "      <td>1534</td>\n",
       "      <td>Альберт</td>\n",
       "      <td>25</td>\n",
       "      <td>Краснодар</td>\n",
       "      <td>free</td>\n",
       "      <td>2371.711192</td>\n",
       "      <td>15.893917</td>\n",
       "      <td>2021-12-01</td>\n",
       "      <td>12</td>\n",
       "      <td>8.953279</td>\n",
       "      <td>8</td>\n",
       "      <td>50</td>\n",
       "      <td>0</td>\n",
       "    </tr>\n",
       "  </tbody>\n",
       "</table>\n",
       "</div>"
      ],
      "text/plain": [
       "       user_id     name  age       city subscription_type     distance  \\\n",
       "18053     1533   Степан   22  Краснодар              free  4581.943632   \n",
       "18054     1533   Степан   22  Краснодар              free  3414.448028   \n",
       "18055     1534  Альберт   25  Краснодар              free  4678.415899   \n",
       "18056     1534  Альберт   25  Краснодар              free  2103.914120   \n",
       "18057     1534  Альберт   25  Краснодар              free  3434.290912   \n",
       "18058     1534  Альберт   25  Краснодар              free   195.447469   \n",
       "18059     1534  Альберт   25  Краснодар              free  3214.021065   \n",
       "18060     1534  Альберт   25  Краснодар              free  3644.708038   \n",
       "18061     1534  Альберт   25  Краснодар              free  3977.744996   \n",
       "18062     1534  Альберт   25  Краснодар              free  4928.173852   \n",
       "18063     1534  Альберт   25  Краснодар              free  3781.098080   \n",
       "18064     1534  Альберт   25  Краснодар              free  2840.423057   \n",
       "18065     1534  Альберт   25  Краснодар              free  3826.185507   \n",
       "18066     1534  Альберт   25  Краснодар              free  2902.308661   \n",
       "18067     1534  Альберт   25  Краснодар              free  2371.711192   \n",
       "\n",
       "        duration       date  month  avg_speed_km_h  minute_price  \\\n",
       "18053  21.163887 2021-08-01      8       12.989892             8   \n",
       "18054  25.657792 2021-11-01     11        7.984587             8   \n",
       "18055  15.228198 2021-01-01      1       18.433235             8   \n",
       "18056  13.425579 2021-02-01      2        9.402562             8   \n",
       "18057  14.366248 2021-04-01      4       14.343164             8   \n",
       "18058   6.469074 2021-06-01      6        1.812755             8   \n",
       "18059  18.343604 2021-06-01      6       10.512725             8   \n",
       "18060  20.289416 2021-08-01      8       10.778156             8   \n",
       "18061  26.916544 2021-08-01      8        8.866840             8   \n",
       "18062  22.560373 2021-09-01      9       13.106629             8   \n",
       "18063  19.822962 2021-11-01     11       11.444601             8   \n",
       "18064  21.409799 2021-11-01     11        7.960158             8   \n",
       "18065  18.435051 2021-11-01     11       12.452969             8   \n",
       "18066  16.674362 2021-11-01     11       10.443489             8   \n",
       "18067  15.893917 2021-12-01     12        8.953279             8   \n",
       "\n",
       "       start_ride_price  subscription_fee  \n",
       "18053                50                 0  \n",
       "18054                50                 0  \n",
       "18055                50                 0  \n",
       "18056                50                 0  \n",
       "18057                50                 0  \n",
       "18058                50                 0  \n",
       "18059                50                 0  \n",
       "18060                50                 0  \n",
       "18061                50                 0  \n",
       "18062                50                 0  \n",
       "18063                50                 0  \n",
       "18064                50                 0  \n",
       "18065                50                 0  \n",
       "18066                50                 0  \n",
       "18067                50                 0  "
      ]
     },
     "execution_count": 59,
     "metadata": {},
     "output_type": "execute_result"
    }
   ],
   "source": [
    "# структура до\n",
    "\n",
    "df.tail(15)"
   ]
  },
  {
   "cell_type": "code",
   "execution_count": 60,
   "id": "e5d3ec7b",
   "metadata": {},
   "outputs": [],
   "source": [
    "subscription_type = df.pop('subscription_type')\n",
    "\n",
    "df.insert(9, 'subscription_type', subscription_type)"
   ]
  },
  {
   "cell_type": "code",
   "execution_count": 61,
   "id": "d9717f6c",
   "metadata": {},
   "outputs": [
    {
     "data": {
      "text/html": [
       "<div>\n",
       "<style scoped>\n",
       "    .dataframe tbody tr th:only-of-type {\n",
       "        vertical-align: middle;\n",
       "    }\n",
       "\n",
       "    .dataframe tbody tr th {\n",
       "        vertical-align: top;\n",
       "    }\n",
       "\n",
       "    .dataframe thead th {\n",
       "        text-align: right;\n",
       "    }\n",
       "</style>\n",
       "<table border=\"1\" class=\"dataframe\">\n",
       "  <thead>\n",
       "    <tr style=\"text-align: right;\">\n",
       "      <th></th>\n",
       "      <th>user_id</th>\n",
       "      <th>name</th>\n",
       "      <th>age</th>\n",
       "      <th>city</th>\n",
       "      <th>distance</th>\n",
       "      <th>duration</th>\n",
       "      <th>date</th>\n",
       "      <th>month</th>\n",
       "      <th>avg_speed_km_h</th>\n",
       "      <th>subscription_type</th>\n",
       "      <th>minute_price</th>\n",
       "      <th>start_ride_price</th>\n",
       "      <th>subscription_fee</th>\n",
       "    </tr>\n",
       "  </thead>\n",
       "  <tbody>\n",
       "    <tr>\n",
       "      <th>18053</th>\n",
       "      <td>1533</td>\n",
       "      <td>Степан</td>\n",
       "      <td>22</td>\n",
       "      <td>Краснодар</td>\n",
       "      <td>4581.943632</td>\n",
       "      <td>21.163887</td>\n",
       "      <td>2021-08-01</td>\n",
       "      <td>8</td>\n",
       "      <td>12.989892</td>\n",
       "      <td>free</td>\n",
       "      <td>8</td>\n",
       "      <td>50</td>\n",
       "      <td>0</td>\n",
       "    </tr>\n",
       "    <tr>\n",
       "      <th>18054</th>\n",
       "      <td>1533</td>\n",
       "      <td>Степан</td>\n",
       "      <td>22</td>\n",
       "      <td>Краснодар</td>\n",
       "      <td>3414.448028</td>\n",
       "      <td>25.657792</td>\n",
       "      <td>2021-11-01</td>\n",
       "      <td>11</td>\n",
       "      <td>7.984587</td>\n",
       "      <td>free</td>\n",
       "      <td>8</td>\n",
       "      <td>50</td>\n",
       "      <td>0</td>\n",
       "    </tr>\n",
       "    <tr>\n",
       "      <th>18055</th>\n",
       "      <td>1534</td>\n",
       "      <td>Альберт</td>\n",
       "      <td>25</td>\n",
       "      <td>Краснодар</td>\n",
       "      <td>4678.415899</td>\n",
       "      <td>15.228198</td>\n",
       "      <td>2021-01-01</td>\n",
       "      <td>1</td>\n",
       "      <td>18.433235</td>\n",
       "      <td>free</td>\n",
       "      <td>8</td>\n",
       "      <td>50</td>\n",
       "      <td>0</td>\n",
       "    </tr>\n",
       "    <tr>\n",
       "      <th>18056</th>\n",
       "      <td>1534</td>\n",
       "      <td>Альберт</td>\n",
       "      <td>25</td>\n",
       "      <td>Краснодар</td>\n",
       "      <td>2103.914120</td>\n",
       "      <td>13.425579</td>\n",
       "      <td>2021-02-01</td>\n",
       "      <td>2</td>\n",
       "      <td>9.402562</td>\n",
       "      <td>free</td>\n",
       "      <td>8</td>\n",
       "      <td>50</td>\n",
       "      <td>0</td>\n",
       "    </tr>\n",
       "    <tr>\n",
       "      <th>18057</th>\n",
       "      <td>1534</td>\n",
       "      <td>Альберт</td>\n",
       "      <td>25</td>\n",
       "      <td>Краснодар</td>\n",
       "      <td>3434.290912</td>\n",
       "      <td>14.366248</td>\n",
       "      <td>2021-04-01</td>\n",
       "      <td>4</td>\n",
       "      <td>14.343164</td>\n",
       "      <td>free</td>\n",
       "      <td>8</td>\n",
       "      <td>50</td>\n",
       "      <td>0</td>\n",
       "    </tr>\n",
       "    <tr>\n",
       "      <th>18058</th>\n",
       "      <td>1534</td>\n",
       "      <td>Альберт</td>\n",
       "      <td>25</td>\n",
       "      <td>Краснодар</td>\n",
       "      <td>195.447469</td>\n",
       "      <td>6.469074</td>\n",
       "      <td>2021-06-01</td>\n",
       "      <td>6</td>\n",
       "      <td>1.812755</td>\n",
       "      <td>free</td>\n",
       "      <td>8</td>\n",
       "      <td>50</td>\n",
       "      <td>0</td>\n",
       "    </tr>\n",
       "    <tr>\n",
       "      <th>18059</th>\n",
       "      <td>1534</td>\n",
       "      <td>Альберт</td>\n",
       "      <td>25</td>\n",
       "      <td>Краснодар</td>\n",
       "      <td>3214.021065</td>\n",
       "      <td>18.343604</td>\n",
       "      <td>2021-06-01</td>\n",
       "      <td>6</td>\n",
       "      <td>10.512725</td>\n",
       "      <td>free</td>\n",
       "      <td>8</td>\n",
       "      <td>50</td>\n",
       "      <td>0</td>\n",
       "    </tr>\n",
       "    <tr>\n",
       "      <th>18060</th>\n",
       "      <td>1534</td>\n",
       "      <td>Альберт</td>\n",
       "      <td>25</td>\n",
       "      <td>Краснодар</td>\n",
       "      <td>3644.708038</td>\n",
       "      <td>20.289416</td>\n",
       "      <td>2021-08-01</td>\n",
       "      <td>8</td>\n",
       "      <td>10.778156</td>\n",
       "      <td>free</td>\n",
       "      <td>8</td>\n",
       "      <td>50</td>\n",
       "      <td>0</td>\n",
       "    </tr>\n",
       "    <tr>\n",
       "      <th>18061</th>\n",
       "      <td>1534</td>\n",
       "      <td>Альберт</td>\n",
       "      <td>25</td>\n",
       "      <td>Краснодар</td>\n",
       "      <td>3977.744996</td>\n",
       "      <td>26.916544</td>\n",
       "      <td>2021-08-01</td>\n",
       "      <td>8</td>\n",
       "      <td>8.866840</td>\n",
       "      <td>free</td>\n",
       "      <td>8</td>\n",
       "      <td>50</td>\n",
       "      <td>0</td>\n",
       "    </tr>\n",
       "    <tr>\n",
       "      <th>18062</th>\n",
       "      <td>1534</td>\n",
       "      <td>Альберт</td>\n",
       "      <td>25</td>\n",
       "      <td>Краснодар</td>\n",
       "      <td>4928.173852</td>\n",
       "      <td>22.560373</td>\n",
       "      <td>2021-09-01</td>\n",
       "      <td>9</td>\n",
       "      <td>13.106629</td>\n",
       "      <td>free</td>\n",
       "      <td>8</td>\n",
       "      <td>50</td>\n",
       "      <td>0</td>\n",
       "    </tr>\n",
       "    <tr>\n",
       "      <th>18063</th>\n",
       "      <td>1534</td>\n",
       "      <td>Альберт</td>\n",
       "      <td>25</td>\n",
       "      <td>Краснодар</td>\n",
       "      <td>3781.098080</td>\n",
       "      <td>19.822962</td>\n",
       "      <td>2021-11-01</td>\n",
       "      <td>11</td>\n",
       "      <td>11.444601</td>\n",
       "      <td>free</td>\n",
       "      <td>8</td>\n",
       "      <td>50</td>\n",
       "      <td>0</td>\n",
       "    </tr>\n",
       "    <tr>\n",
       "      <th>18064</th>\n",
       "      <td>1534</td>\n",
       "      <td>Альберт</td>\n",
       "      <td>25</td>\n",
       "      <td>Краснодар</td>\n",
       "      <td>2840.423057</td>\n",
       "      <td>21.409799</td>\n",
       "      <td>2021-11-01</td>\n",
       "      <td>11</td>\n",
       "      <td>7.960158</td>\n",
       "      <td>free</td>\n",
       "      <td>8</td>\n",
       "      <td>50</td>\n",
       "      <td>0</td>\n",
       "    </tr>\n",
       "    <tr>\n",
       "      <th>18065</th>\n",
       "      <td>1534</td>\n",
       "      <td>Альберт</td>\n",
       "      <td>25</td>\n",
       "      <td>Краснодар</td>\n",
       "      <td>3826.185507</td>\n",
       "      <td>18.435051</td>\n",
       "      <td>2021-11-01</td>\n",
       "      <td>11</td>\n",
       "      <td>12.452969</td>\n",
       "      <td>free</td>\n",
       "      <td>8</td>\n",
       "      <td>50</td>\n",
       "      <td>0</td>\n",
       "    </tr>\n",
       "    <tr>\n",
       "      <th>18066</th>\n",
       "      <td>1534</td>\n",
       "      <td>Альберт</td>\n",
       "      <td>25</td>\n",
       "      <td>Краснодар</td>\n",
       "      <td>2902.308661</td>\n",
       "      <td>16.674362</td>\n",
       "      <td>2021-11-01</td>\n",
       "      <td>11</td>\n",
       "      <td>10.443489</td>\n",
       "      <td>free</td>\n",
       "      <td>8</td>\n",
       "      <td>50</td>\n",
       "      <td>0</td>\n",
       "    </tr>\n",
       "    <tr>\n",
       "      <th>18067</th>\n",
       "      <td>1534</td>\n",
       "      <td>Альберт</td>\n",
       "      <td>25</td>\n",
       "      <td>Краснодар</td>\n",
       "      <td>2371.711192</td>\n",
       "      <td>15.893917</td>\n",
       "      <td>2021-12-01</td>\n",
       "      <td>12</td>\n",
       "      <td>8.953279</td>\n",
       "      <td>free</td>\n",
       "      <td>8</td>\n",
       "      <td>50</td>\n",
       "      <td>0</td>\n",
       "    </tr>\n",
       "  </tbody>\n",
       "</table>\n",
       "</div>"
      ],
      "text/plain": [
       "       user_id     name  age       city     distance   duration       date  \\\n",
       "18053     1533   Степан   22  Краснодар  4581.943632  21.163887 2021-08-01   \n",
       "18054     1533   Степан   22  Краснодар  3414.448028  25.657792 2021-11-01   \n",
       "18055     1534  Альберт   25  Краснодар  4678.415899  15.228198 2021-01-01   \n",
       "18056     1534  Альберт   25  Краснодар  2103.914120  13.425579 2021-02-01   \n",
       "18057     1534  Альберт   25  Краснодар  3434.290912  14.366248 2021-04-01   \n",
       "18058     1534  Альберт   25  Краснодар   195.447469   6.469074 2021-06-01   \n",
       "18059     1534  Альберт   25  Краснодар  3214.021065  18.343604 2021-06-01   \n",
       "18060     1534  Альберт   25  Краснодар  3644.708038  20.289416 2021-08-01   \n",
       "18061     1534  Альберт   25  Краснодар  3977.744996  26.916544 2021-08-01   \n",
       "18062     1534  Альберт   25  Краснодар  4928.173852  22.560373 2021-09-01   \n",
       "18063     1534  Альберт   25  Краснодар  3781.098080  19.822962 2021-11-01   \n",
       "18064     1534  Альберт   25  Краснодар  2840.423057  21.409799 2021-11-01   \n",
       "18065     1534  Альберт   25  Краснодар  3826.185507  18.435051 2021-11-01   \n",
       "18066     1534  Альберт   25  Краснодар  2902.308661  16.674362 2021-11-01   \n",
       "18067     1534  Альберт   25  Краснодар  2371.711192  15.893917 2021-12-01   \n",
       "\n",
       "       month  avg_speed_km_h subscription_type  minute_price  \\\n",
       "18053      8       12.989892              free             8   \n",
       "18054     11        7.984587              free             8   \n",
       "18055      1       18.433235              free             8   \n",
       "18056      2        9.402562              free             8   \n",
       "18057      4       14.343164              free             8   \n",
       "18058      6        1.812755              free             8   \n",
       "18059      6       10.512725              free             8   \n",
       "18060      8       10.778156              free             8   \n",
       "18061      8        8.866840              free             8   \n",
       "18062      9       13.106629              free             8   \n",
       "18063     11       11.444601              free             8   \n",
       "18064     11        7.960158              free             8   \n",
       "18065     11       12.452969              free             8   \n",
       "18066     11       10.443489              free             8   \n",
       "18067     12        8.953279              free             8   \n",
       "\n",
       "       start_ride_price  subscription_fee  \n",
       "18053                50                 0  \n",
       "18054                50                 0  \n",
       "18055                50                 0  \n",
       "18056                50                 0  \n",
       "18057                50                 0  \n",
       "18058                50                 0  \n",
       "18059                50                 0  \n",
       "18060                50                 0  \n",
       "18061                50                 0  \n",
       "18062                50                 0  \n",
       "18063                50                 0  \n",
       "18064                50                 0  \n",
       "18065                50                 0  \n",
       "18066                50                 0  \n",
       "18067                50                 0  "
      ]
     },
     "execution_count": 61,
     "metadata": {},
     "output_type": "execute_result"
    }
   ],
   "source": [
    "# структура после\n",
    "\n",
    "df.tail(15)"
   ]
  },
  {
   "cell_type": "markdown",
   "id": "b4d31c6c",
   "metadata": {},
   "source": [
    "- размер результирующего датафрейма (с учетом типа объединения):"
   ]
  },
  {
   "cell_type": "code",
   "execution_count": 62,
   "id": "cb734893",
   "metadata": {},
   "outputs": [
    {
     "name": "stdout",
     "output_type": "stream",
     "text": [
      "Размерность датасета: df - 18068\n"
     ]
    }
   ],
   "source": [
    "print(f\"Размерность датасета: df - {len(df)}\")"
   ]
  },
  {
   "cell_type": "markdown",
   "id": "d54a8119",
   "metadata": {},
   "source": [
    "<td style=\"background-color: skyblue;\">Размерность нового датафрейма совпала с максимальной размерностью одного из 3-х датафреймов, а значит соединение таблиц прошло корректно.</td>"
   ]
  },
  {
   "cell_type": "markdown",
   "id": "4ea60875",
   "metadata": {},
   "source": [
    "<td style=\"background-color: pink;\">4.2 Создайте ещё два датафрейма из датафрейма, созданного на этапе 4.1:</td>"
   ]
  },
  {
   "cell_type": "markdown",
   "id": "6679c0df",
   "metadata": {},
   "source": [
    "- c данными о пользователях без подписки:"
   ]
  },
  {
   "cell_type": "code",
   "execution_count": 63,
   "id": "ef8622e6",
   "metadata": {},
   "outputs": [],
   "source": [
    "df_st_free = df.query('subscription_type == \"free\"')"
   ]
  },
  {
   "cell_type": "markdown",
   "id": "483f78c9",
   "metadata": {},
   "source": [
    "<td style=\"background-color: skyblue;\">Выведем выборку из получившегося датафрейма(размерность=15):</td>"
   ]
  },
  {
   "cell_type": "code",
   "execution_count": 64,
   "id": "83f1c472",
   "metadata": {},
   "outputs": [
    {
     "data": {
      "text/html": [
       "<div>\n",
       "<style scoped>\n",
       "    .dataframe tbody tr th:only-of-type {\n",
       "        vertical-align: middle;\n",
       "    }\n",
       "\n",
       "    .dataframe tbody tr th {\n",
       "        vertical-align: top;\n",
       "    }\n",
       "\n",
       "    .dataframe thead th {\n",
       "        text-align: right;\n",
       "    }\n",
       "</style>\n",
       "<table border=\"1\" class=\"dataframe\">\n",
       "  <thead>\n",
       "    <tr style=\"text-align: right;\">\n",
       "      <th></th>\n",
       "      <th>user_id</th>\n",
       "      <th>name</th>\n",
       "      <th>age</th>\n",
       "      <th>city</th>\n",
       "      <th>distance</th>\n",
       "      <th>duration</th>\n",
       "      <th>date</th>\n",
       "      <th>month</th>\n",
       "      <th>avg_speed_km_h</th>\n",
       "      <th>subscription_type</th>\n",
       "      <th>minute_price</th>\n",
       "      <th>start_ride_price</th>\n",
       "      <th>subscription_fee</th>\n",
       "    </tr>\n",
       "  </thead>\n",
       "  <tbody>\n",
       "    <tr>\n",
       "      <th>11387</th>\n",
       "      <td>1057</td>\n",
       "      <td>Адель</td>\n",
       "      <td>26</td>\n",
       "      <td>Москва</td>\n",
       "      <td>3283.312178</td>\n",
       "      <td>22.380892</td>\n",
       "      <td>2021-03-01</td>\n",
       "      <td>3</td>\n",
       "      <td>8.802095</td>\n",
       "      <td>free</td>\n",
       "      <td>8</td>\n",
       "      <td>50</td>\n",
       "      <td>0</td>\n",
       "    </tr>\n",
       "    <tr>\n",
       "      <th>16450</th>\n",
       "      <td>1420</td>\n",
       "      <td>Юлия</td>\n",
       "      <td>18</td>\n",
       "      <td>Краснодар</td>\n",
       "      <td>3208.911245</td>\n",
       "      <td>29.503152</td>\n",
       "      <td>2021-06-01</td>\n",
       "      <td>6</td>\n",
       "      <td>6.525902</td>\n",
       "      <td>free</td>\n",
       "      <td>8</td>\n",
       "      <td>50</td>\n",
       "      <td>0</td>\n",
       "    </tr>\n",
       "    <tr>\n",
       "      <th>14651</th>\n",
       "      <td>1290</td>\n",
       "      <td>Татьяна</td>\n",
       "      <td>23</td>\n",
       "      <td>Ростов-на-Дону</td>\n",
       "      <td>3259.142692</td>\n",
       "      <td>25.036571</td>\n",
       "      <td>2021-09-01</td>\n",
       "      <td>9</td>\n",
       "      <td>7.810517</td>\n",
       "      <td>free</td>\n",
       "      <td>8</td>\n",
       "      <td>50</td>\n",
       "      <td>0</td>\n",
       "    </tr>\n",
       "    <tr>\n",
       "      <th>13734</th>\n",
       "      <td>1226</td>\n",
       "      <td>Каролина</td>\n",
       "      <td>22</td>\n",
       "      <td>Москва</td>\n",
       "      <td>3800.106095</td>\n",
       "      <td>24.412139</td>\n",
       "      <td>2021-09-01</td>\n",
       "      <td>9</td>\n",
       "      <td>9.339877</td>\n",
       "      <td>free</td>\n",
       "      <td>8</td>\n",
       "      <td>50</td>\n",
       "      <td>0</td>\n",
       "    </tr>\n",
       "    <tr>\n",
       "      <th>6878</th>\n",
       "      <td>725</td>\n",
       "      <td>Ксения</td>\n",
       "      <td>29</td>\n",
       "      <td>Москва</td>\n",
       "      <td>4051.466318</td>\n",
       "      <td>25.257332</td>\n",
       "      <td>2021-12-01</td>\n",
       "      <td>12</td>\n",
       "      <td>9.624452</td>\n",
       "      <td>free</td>\n",
       "      <td>8</td>\n",
       "      <td>50</td>\n",
       "      <td>0</td>\n",
       "    </tr>\n",
       "    <tr>\n",
       "      <th>12728</th>\n",
       "      <td>1156</td>\n",
       "      <td>Эвелина</td>\n",
       "      <td>33</td>\n",
       "      <td>Тюмень</td>\n",
       "      <td>697.546388</td>\n",
       "      <td>14.550103</td>\n",
       "      <td>2021-02-01</td>\n",
       "      <td>2</td>\n",
       "      <td>2.876460</td>\n",
       "      <td>free</td>\n",
       "      <td>8</td>\n",
       "      <td>50</td>\n",
       "      <td>0</td>\n",
       "    </tr>\n",
       "    <tr>\n",
       "      <th>12158</th>\n",
       "      <td>1113</td>\n",
       "      <td>Николай</td>\n",
       "      <td>17</td>\n",
       "      <td>Екатеринбург</td>\n",
       "      <td>4496.306466</td>\n",
       "      <td>18.262654</td>\n",
       "      <td>2021-09-01</td>\n",
       "      <td>9</td>\n",
       "      <td>14.772135</td>\n",
       "      <td>free</td>\n",
       "      <td>8</td>\n",
       "      <td>50</td>\n",
       "      <td>0</td>\n",
       "    </tr>\n",
       "    <tr>\n",
       "      <th>16031</th>\n",
       "      <td>1392</td>\n",
       "      <td>Полина</td>\n",
       "      <td>32</td>\n",
       "      <td>Екатеринбург</td>\n",
       "      <td>235.127167</td>\n",
       "      <td>5.282512</td>\n",
       "      <td>2021-03-01</td>\n",
       "      <td>3</td>\n",
       "      <td>2.670629</td>\n",
       "      <td>free</td>\n",
       "      <td>8</td>\n",
       "      <td>50</td>\n",
       "      <td>0</td>\n",
       "    </tr>\n",
       "    <tr>\n",
       "      <th>10544</th>\n",
       "      <td>996</td>\n",
       "      <td>Александра</td>\n",
       "      <td>19</td>\n",
       "      <td>Ростов-на-Дону</td>\n",
       "      <td>3869.953842</td>\n",
       "      <td>13.930663</td>\n",
       "      <td>2021-02-01</td>\n",
       "      <td>2</td>\n",
       "      <td>16.668068</td>\n",
       "      <td>free</td>\n",
       "      <td>8</td>\n",
       "      <td>50</td>\n",
       "      <td>0</td>\n",
       "    </tr>\n",
       "    <tr>\n",
       "      <th>13888</th>\n",
       "      <td>1237</td>\n",
       "      <td>Евгения</td>\n",
       "      <td>23</td>\n",
       "      <td>Тюмень</td>\n",
       "      <td>2032.290057</td>\n",
       "      <td>14.172788</td>\n",
       "      <td>2021-07-01</td>\n",
       "      <td>7</td>\n",
       "      <td>8.603628</td>\n",
       "      <td>free</td>\n",
       "      <td>8</td>\n",
       "      <td>50</td>\n",
       "      <td>0</td>\n",
       "    </tr>\n",
       "    <tr>\n",
       "      <th>17889</th>\n",
       "      <td>1523</td>\n",
       "      <td>Святослав</td>\n",
       "      <td>26</td>\n",
       "      <td>Ростов-на-Дону</td>\n",
       "      <td>2623.899253</td>\n",
       "      <td>19.844955</td>\n",
       "      <td>2021-05-01</td>\n",
       "      <td>5</td>\n",
       "      <td>7.933198</td>\n",
       "      <td>free</td>\n",
       "      <td>8</td>\n",
       "      <td>50</td>\n",
       "      <td>0</td>\n",
       "    </tr>\n",
       "    <tr>\n",
       "      <th>7444</th>\n",
       "      <td>767</td>\n",
       "      <td>Ксения</td>\n",
       "      <td>28</td>\n",
       "      <td>Екатеринбург</td>\n",
       "      <td>4691.826728</td>\n",
       "      <td>18.075480</td>\n",
       "      <td>2021-05-01</td>\n",
       "      <td>5</td>\n",
       "      <td>15.574115</td>\n",
       "      <td>free</td>\n",
       "      <td>8</td>\n",
       "      <td>50</td>\n",
       "      <td>0</td>\n",
       "    </tr>\n",
       "    <tr>\n",
       "      <th>16113</th>\n",
       "      <td>1397</td>\n",
       "      <td>Святослав</td>\n",
       "      <td>26</td>\n",
       "      <td>Москва</td>\n",
       "      <td>3569.816774</td>\n",
       "      <td>12.385828</td>\n",
       "      <td>2021-05-01</td>\n",
       "      <td>5</td>\n",
       "      <td>17.293072</td>\n",
       "      <td>free</td>\n",
       "      <td>8</td>\n",
       "      <td>50</td>\n",
       "      <td>0</td>\n",
       "    </tr>\n",
       "    <tr>\n",
       "      <th>7108</th>\n",
       "      <td>741</td>\n",
       "      <td>Анна</td>\n",
       "      <td>22</td>\n",
       "      <td>Москва</td>\n",
       "      <td>2135.068414</td>\n",
       "      <td>18.150293</td>\n",
       "      <td>2021-09-01</td>\n",
       "      <td>9</td>\n",
       "      <td>7.057963</td>\n",
       "      <td>free</td>\n",
       "      <td>8</td>\n",
       "      <td>50</td>\n",
       "      <td>0</td>\n",
       "    </tr>\n",
       "    <tr>\n",
       "      <th>13989</th>\n",
       "      <td>1244</td>\n",
       "      <td>Ксения</td>\n",
       "      <td>23</td>\n",
       "      <td>Екатеринбург</td>\n",
       "      <td>3676.035356</td>\n",
       "      <td>22.168967</td>\n",
       "      <td>2021-09-01</td>\n",
       "      <td>9</td>\n",
       "      <td>9.949138</td>\n",
       "      <td>free</td>\n",
       "      <td>8</td>\n",
       "      <td>50</td>\n",
       "      <td>0</td>\n",
       "    </tr>\n",
       "  </tbody>\n",
       "</table>\n",
       "</div>"
      ],
      "text/plain": [
       "       user_id        name  age            city     distance   duration  \\\n",
       "11387     1057       Адель   26          Москва  3283.312178  22.380892   \n",
       "16450     1420        Юлия   18       Краснодар  3208.911245  29.503152   \n",
       "14651     1290     Татьяна   23  Ростов-на-Дону  3259.142692  25.036571   \n",
       "13734     1226    Каролина   22          Москва  3800.106095  24.412139   \n",
       "6878       725      Ксения   29          Москва  4051.466318  25.257332   \n",
       "12728     1156     Эвелина   33          Тюмень   697.546388  14.550103   \n",
       "12158     1113     Николай   17    Екатеринбург  4496.306466  18.262654   \n",
       "16031     1392      Полина   32    Екатеринбург   235.127167   5.282512   \n",
       "10544      996  Александра   19  Ростов-на-Дону  3869.953842  13.930663   \n",
       "13888     1237     Евгения   23          Тюмень  2032.290057  14.172788   \n",
       "17889     1523   Святослав   26  Ростов-на-Дону  2623.899253  19.844955   \n",
       "7444       767      Ксения   28    Екатеринбург  4691.826728  18.075480   \n",
       "16113     1397   Святослав   26          Москва  3569.816774  12.385828   \n",
       "7108       741        Анна   22          Москва  2135.068414  18.150293   \n",
       "13989     1244      Ксения   23    Екатеринбург  3676.035356  22.168967   \n",
       "\n",
       "            date  month  avg_speed_km_h subscription_type  minute_price  \\\n",
       "11387 2021-03-01      3        8.802095              free             8   \n",
       "16450 2021-06-01      6        6.525902              free             8   \n",
       "14651 2021-09-01      9        7.810517              free             8   \n",
       "13734 2021-09-01      9        9.339877              free             8   \n",
       "6878  2021-12-01     12        9.624452              free             8   \n",
       "12728 2021-02-01      2        2.876460              free             8   \n",
       "12158 2021-09-01      9       14.772135              free             8   \n",
       "16031 2021-03-01      3        2.670629              free             8   \n",
       "10544 2021-02-01      2       16.668068              free             8   \n",
       "13888 2021-07-01      7        8.603628              free             8   \n",
       "17889 2021-05-01      5        7.933198              free             8   \n",
       "7444  2021-05-01      5       15.574115              free             8   \n",
       "16113 2021-05-01      5       17.293072              free             8   \n",
       "7108  2021-09-01      9        7.057963              free             8   \n",
       "13989 2021-09-01      9        9.949138              free             8   \n",
       "\n",
       "       start_ride_price  subscription_fee  \n",
       "11387                50                 0  \n",
       "16450                50                 0  \n",
       "14651                50                 0  \n",
       "13734                50                 0  \n",
       "6878                 50                 0  \n",
       "12728                50                 0  \n",
       "12158                50                 0  \n",
       "16031                50                 0  \n",
       "10544                50                 0  \n",
       "13888                50                 0  \n",
       "17889                50                 0  \n",
       "7444                 50                 0  \n",
       "16113                50                 0  \n",
       "7108                 50                 0  \n",
       "13989                50                 0  "
      ]
     },
     "execution_count": 64,
     "metadata": {},
     "output_type": "execute_result"
    }
   ],
   "source": [
    "df_st_free.sample(n=15)"
   ]
  },
  {
   "cell_type": "markdown",
   "id": "d2daad37",
   "metadata": {},
   "source": [
    "- с данными о пользователях с подпиской:"
   ]
  },
  {
   "cell_type": "code",
   "execution_count": 65,
   "id": "0fddbb93",
   "metadata": {},
   "outputs": [],
   "source": [
    "df_st_ultra = df.query('subscription_type == \"ultra\"')"
   ]
  },
  {
   "cell_type": "markdown",
   "id": "79076b2a",
   "metadata": {},
   "source": [
    "<td style=\"background-color: skyblue;\">Выведем выборку из получившегося датафрейма(размерность=15):</td>"
   ]
  },
  {
   "cell_type": "code",
   "execution_count": 66,
   "id": "edc3f93a",
   "metadata": {},
   "outputs": [
    {
     "data": {
      "text/html": [
       "<div>\n",
       "<style scoped>\n",
       "    .dataframe tbody tr th:only-of-type {\n",
       "        vertical-align: middle;\n",
       "    }\n",
       "\n",
       "    .dataframe tbody tr th {\n",
       "        vertical-align: top;\n",
       "    }\n",
       "\n",
       "    .dataframe thead th {\n",
       "        text-align: right;\n",
       "    }\n",
       "</style>\n",
       "<table border=\"1\" class=\"dataframe\">\n",
       "  <thead>\n",
       "    <tr style=\"text-align: right;\">\n",
       "      <th></th>\n",
       "      <th>user_id</th>\n",
       "      <th>name</th>\n",
       "      <th>age</th>\n",
       "      <th>city</th>\n",
       "      <th>distance</th>\n",
       "      <th>duration</th>\n",
       "      <th>date</th>\n",
       "      <th>month</th>\n",
       "      <th>avg_speed_km_h</th>\n",
       "      <th>subscription_type</th>\n",
       "      <th>minute_price</th>\n",
       "      <th>start_ride_price</th>\n",
       "      <th>subscription_fee</th>\n",
       "    </tr>\n",
       "  </thead>\n",
       "  <tbody>\n",
       "    <tr>\n",
       "      <th>4841</th>\n",
       "      <td>521</td>\n",
       "      <td>Лиана</td>\n",
       "      <td>17</td>\n",
       "      <td>Сочи</td>\n",
       "      <td>3047.983539</td>\n",
       "      <td>16.951261</td>\n",
       "      <td>2021-09-01</td>\n",
       "      <td>9</td>\n",
       "      <td>10.788519</td>\n",
       "      <td>ultra</td>\n",
       "      <td>6</td>\n",
       "      <td>0</td>\n",
       "      <td>199</td>\n",
       "    </tr>\n",
       "    <tr>\n",
       "      <th>3684</th>\n",
       "      <td>396</td>\n",
       "      <td>Тимур</td>\n",
       "      <td>33</td>\n",
       "      <td>Екатеринбург</td>\n",
       "      <td>2655.786681</td>\n",
       "      <td>18.381943</td>\n",
       "      <td>2021-08-01</td>\n",
       "      <td>8</td>\n",
       "      <td>8.668681</td>\n",
       "      <td>ultra</td>\n",
       "      <td>6</td>\n",
       "      <td>0</td>\n",
       "      <td>199</td>\n",
       "    </tr>\n",
       "    <tr>\n",
       "      <th>3651</th>\n",
       "      <td>393</td>\n",
       "      <td>Георгий</td>\n",
       "      <td>15</td>\n",
       "      <td>Тюмень</td>\n",
       "      <td>2971.600010</td>\n",
       "      <td>22.905333</td>\n",
       "      <td>2021-05-01</td>\n",
       "      <td>5</td>\n",
       "      <td>7.784039</td>\n",
       "      <td>ultra</td>\n",
       "      <td>6</td>\n",
       "      <td>0</td>\n",
       "      <td>199</td>\n",
       "    </tr>\n",
       "    <tr>\n",
       "      <th>3498</th>\n",
       "      <td>376</td>\n",
       "      <td>Анна</td>\n",
       "      <td>28</td>\n",
       "      <td>Ростов-на-Дону</td>\n",
       "      <td>3233.459921</td>\n",
       "      <td>15.778200</td>\n",
       "      <td>2021-04-01</td>\n",
       "      <td>4</td>\n",
       "      <td>12.295927</td>\n",
       "      <td>ultra</td>\n",
       "      <td>6</td>\n",
       "      <td>0</td>\n",
       "      <td>199</td>\n",
       "    </tr>\n",
       "    <tr>\n",
       "      <th>3060</th>\n",
       "      <td>328</td>\n",
       "      <td>Данил</td>\n",
       "      <td>35</td>\n",
       "      <td>Пятигорск</td>\n",
       "      <td>2971.016931</td>\n",
       "      <td>11.130441</td>\n",
       "      <td>2021-08-01</td>\n",
       "      <td>8</td>\n",
       "      <td>16.015630</td>\n",
       "      <td>ultra</td>\n",
       "      <td>6</td>\n",
       "      <td>0</td>\n",
       "      <td>199</td>\n",
       "    </tr>\n",
       "    <tr>\n",
       "      <th>1195</th>\n",
       "      <td>128</td>\n",
       "      <td>Лидия</td>\n",
       "      <td>24</td>\n",
       "      <td>Ростов-на-Дону</td>\n",
       "      <td>2816.818139</td>\n",
       "      <td>17.048052</td>\n",
       "      <td>2021-11-01</td>\n",
       "      <td>11</td>\n",
       "      <td>9.913689</td>\n",
       "      <td>ultra</td>\n",
       "      <td>6</td>\n",
       "      <td>0</td>\n",
       "      <td>199</td>\n",
       "    </tr>\n",
       "    <tr>\n",
       "      <th>757</th>\n",
       "      <td>83</td>\n",
       "      <td>Ксения</td>\n",
       "      <td>23</td>\n",
       "      <td>Омск</td>\n",
       "      <td>4417.598762</td>\n",
       "      <td>23.670395</td>\n",
       "      <td>2021-06-01</td>\n",
       "      <td>6</td>\n",
       "      <td>11.197782</td>\n",
       "      <td>ultra</td>\n",
       "      <td>6</td>\n",
       "      <td>0</td>\n",
       "      <td>199</td>\n",
       "    </tr>\n",
       "    <tr>\n",
       "      <th>382</th>\n",
       "      <td>41</td>\n",
       "      <td>Данила</td>\n",
       "      <td>21</td>\n",
       "      <td>Екатеринбург</td>\n",
       "      <td>3296.582324</td>\n",
       "      <td>12.911798</td>\n",
       "      <td>2021-06-01</td>\n",
       "      <td>6</td>\n",
       "      <td>15.318931</td>\n",
       "      <td>ultra</td>\n",
       "      <td>6</td>\n",
       "      <td>0</td>\n",
       "      <td>199</td>\n",
       "    </tr>\n",
       "    <tr>\n",
       "      <th>3543</th>\n",
       "      <td>381</td>\n",
       "      <td>Алия</td>\n",
       "      <td>25</td>\n",
       "      <td>Краснодар</td>\n",
       "      <td>2853.376000</td>\n",
       "      <td>17.340836</td>\n",
       "      <td>2021-02-01</td>\n",
       "      <td>2</td>\n",
       "      <td>9.872798</td>\n",
       "      <td>ultra</td>\n",
       "      <td>6</td>\n",
       "      <td>0</td>\n",
       "      <td>199</td>\n",
       "    </tr>\n",
       "    <tr>\n",
       "      <th>3573</th>\n",
       "      <td>384</td>\n",
       "      <td>Виктор</td>\n",
       "      <td>38</td>\n",
       "      <td>Омск</td>\n",
       "      <td>3452.461007</td>\n",
       "      <td>24.185156</td>\n",
       "      <td>2021-02-01</td>\n",
       "      <td>2</td>\n",
       "      <td>8.565074</td>\n",
       "      <td>ultra</td>\n",
       "      <td>6</td>\n",
       "      <td>0</td>\n",
       "      <td>199</td>\n",
       "    </tr>\n",
       "    <tr>\n",
       "      <th>4391</th>\n",
       "      <td>472</td>\n",
       "      <td>Павел</td>\n",
       "      <td>27</td>\n",
       "      <td>Краснодар</td>\n",
       "      <td>1526.712813</td>\n",
       "      <td>15.089043</td>\n",
       "      <td>2021-12-01</td>\n",
       "      <td>12</td>\n",
       "      <td>6.070814</td>\n",
       "      <td>ultra</td>\n",
       "      <td>6</td>\n",
       "      <td>0</td>\n",
       "      <td>199</td>\n",
       "    </tr>\n",
       "    <tr>\n",
       "      <th>3894</th>\n",
       "      <td>419</td>\n",
       "      <td>Айдар</td>\n",
       "      <td>24</td>\n",
       "      <td>Омск</td>\n",
       "      <td>2924.150529</td>\n",
       "      <td>18.310376</td>\n",
       "      <td>2021-04-01</td>\n",
       "      <td>4</td>\n",
       "      <td>9.581946</td>\n",
       "      <td>ultra</td>\n",
       "      <td>6</td>\n",
       "      <td>0</td>\n",
       "      <td>199</td>\n",
       "    </tr>\n",
       "    <tr>\n",
       "      <th>4241</th>\n",
       "      <td>458</td>\n",
       "      <td>Самир</td>\n",
       "      <td>21</td>\n",
       "      <td>Екатеринбург</td>\n",
       "      <td>4594.295889</td>\n",
       "      <td>17.529898</td>\n",
       "      <td>2021-02-01</td>\n",
       "      <td>2</td>\n",
       "      <td>15.725006</td>\n",
       "      <td>ultra</td>\n",
       "      <td>6</td>\n",
       "      <td>0</td>\n",
       "      <td>199</td>\n",
       "    </tr>\n",
       "    <tr>\n",
       "      <th>4097</th>\n",
       "      <td>441</td>\n",
       "      <td>Вячеслав</td>\n",
       "      <td>22</td>\n",
       "      <td>Екатеринбург</td>\n",
       "      <td>4424.294507</td>\n",
       "      <td>24.272884</td>\n",
       "      <td>2021-09-01</td>\n",
       "      <td>9</td>\n",
       "      <td>10.936388</td>\n",
       "      <td>ultra</td>\n",
       "      <td>6</td>\n",
       "      <td>0</td>\n",
       "      <td>199</td>\n",
       "    </tr>\n",
       "    <tr>\n",
       "      <th>3242</th>\n",
       "      <td>351</td>\n",
       "      <td>Владислава</td>\n",
       "      <td>18</td>\n",
       "      <td>Москва</td>\n",
       "      <td>2445.633422</td>\n",
       "      <td>13.643769</td>\n",
       "      <td>2021-01-01</td>\n",
       "      <td>1</td>\n",
       "      <td>10.754946</td>\n",
       "      <td>ultra</td>\n",
       "      <td>6</td>\n",
       "      <td>0</td>\n",
       "      <td>199</td>\n",
       "    </tr>\n",
       "  </tbody>\n",
       "</table>\n",
       "</div>"
      ],
      "text/plain": [
       "      user_id        name  age            city     distance   duration  \\\n",
       "4841      521       Лиана   17            Сочи  3047.983539  16.951261   \n",
       "3684      396       Тимур   33    Екатеринбург  2655.786681  18.381943   \n",
       "3651      393     Георгий   15          Тюмень  2971.600010  22.905333   \n",
       "3498      376        Анна   28  Ростов-на-Дону  3233.459921  15.778200   \n",
       "3060      328       Данил   35       Пятигорск  2971.016931  11.130441   \n",
       "1195      128       Лидия   24  Ростов-на-Дону  2816.818139  17.048052   \n",
       "757        83      Ксения   23            Омск  4417.598762  23.670395   \n",
       "382        41      Данила   21    Екатеринбург  3296.582324  12.911798   \n",
       "3543      381        Алия   25       Краснодар  2853.376000  17.340836   \n",
       "3573      384      Виктор   38            Омск  3452.461007  24.185156   \n",
       "4391      472       Павел   27       Краснодар  1526.712813  15.089043   \n",
       "3894      419       Айдар   24            Омск  2924.150529  18.310376   \n",
       "4241      458       Самир   21    Екатеринбург  4594.295889  17.529898   \n",
       "4097      441    Вячеслав   22    Екатеринбург  4424.294507  24.272884   \n",
       "3242      351  Владислава   18          Москва  2445.633422  13.643769   \n",
       "\n",
       "           date  month  avg_speed_km_h subscription_type  minute_price  \\\n",
       "4841 2021-09-01      9       10.788519             ultra             6   \n",
       "3684 2021-08-01      8        8.668681             ultra             6   \n",
       "3651 2021-05-01      5        7.784039             ultra             6   \n",
       "3498 2021-04-01      4       12.295927             ultra             6   \n",
       "3060 2021-08-01      8       16.015630             ultra             6   \n",
       "1195 2021-11-01     11        9.913689             ultra             6   \n",
       "757  2021-06-01      6       11.197782             ultra             6   \n",
       "382  2021-06-01      6       15.318931             ultra             6   \n",
       "3543 2021-02-01      2        9.872798             ultra             6   \n",
       "3573 2021-02-01      2        8.565074             ultra             6   \n",
       "4391 2021-12-01     12        6.070814             ultra             6   \n",
       "3894 2021-04-01      4        9.581946             ultra             6   \n",
       "4241 2021-02-01      2       15.725006             ultra             6   \n",
       "4097 2021-09-01      9       10.936388             ultra             6   \n",
       "3242 2021-01-01      1       10.754946             ultra             6   \n",
       "\n",
       "      start_ride_price  subscription_fee  \n",
       "4841                 0               199  \n",
       "3684                 0               199  \n",
       "3651                 0               199  \n",
       "3498                 0               199  \n",
       "3060                 0               199  \n",
       "1195                 0               199  \n",
       "757                  0               199  \n",
       "382                  0               199  \n",
       "3543                 0               199  \n",
       "3573                 0               199  \n",
       "4391                 0               199  \n",
       "3894                 0               199  \n",
       "4241                 0               199  \n",
       "4097                 0               199  \n",
       "3242                 0               199  "
      ]
     },
     "execution_count": 66,
     "metadata": {},
     "output_type": "execute_result"
    }
   ],
   "source": [
    "df_st_ultra.sample(n=15)"
   ]
  },
  {
   "cell_type": "markdown",
   "id": "3d35cd3a",
   "metadata": {},
   "source": [
    "<td style=\"background-color: pink;\">4.3 Визуализируйте информацию о расстоянии и времени поездок для пользователей обеих категорий.</td>"
   ]
  },
  {
   "cell_type": "markdown",
   "id": "01ef6665",
   "metadata": {},
   "source": [
    "<td style=\"background-color: skyblue;\">Расстояние:</td>"
   ]
  },
  {
   "cell_type": "code",
   "execution_count": 67,
   "id": "0d5f4ba2",
   "metadata": {},
   "outputs": [
    {
     "data": {
      "text/plain": [
       "count    11568.000000\n",
       "mean      3045.495282\n",
       "std       1246.173806\n",
       "min          0.855683\n",
       "25%       2366.562689\n",
       "50%       3114.648465\n",
       "75%       3905.697894\n",
       "max       7211.007745\n",
       "Name: distance, dtype: float64"
      ]
     },
     "execution_count": 67,
     "metadata": {},
     "output_type": "execute_result"
    }
   ],
   "source": [
    "df_st_free['distance'].describe()"
   ]
  },
  {
   "cell_type": "code",
   "execution_count": 68,
   "id": "a479d687",
   "metadata": {},
   "outputs": [
    {
     "data": {
      "image/png": "[encoded data removed]",
      "text/plain": [
       "<Figure size 432x360 with 1 Axes>"
      ]
     },
     "metadata": {
      "needs_background": "light"
     },
     "output_type": "display_data"
    }
   ],
   "source": [
    "df_st_free['distance'].hist(range=(200, 7067), color='skyblue', grid=True, figsize=(6,5), bins=40)\n",
    "plt.xlabel('Расстояние за поездку')\n",
    "plt.ylabel('Частота')\n",
    "plt.title('Гистограмма расстояния пройденного за поездку обычных клиентов')\n",
    "plt.show()"
   ]
  },
  {
   "cell_type": "code",
   "execution_count": 69,
   "id": "c01d541d",
   "metadata": {},
   "outputs": [
    {
     "data": {
      "text/plain": [
       "count    6500.000000\n",
       "mean     3115.445388\n",
       "std       836.895330\n",
       "min       244.210438\n",
       "25%      2785.444017\n",
       "50%      3148.637229\n",
       "75%      3560.574425\n",
       "max      5699.769662\n",
       "Name: distance, dtype: float64"
      ]
     },
     "execution_count": 69,
     "metadata": {},
     "output_type": "execute_result"
    }
   ],
   "source": [
    "df_st_ultra['distance'].describe()"
   ]
  },
  {
   "cell_type": "code",
   "execution_count": 70,
   "id": "fa7d036d",
   "metadata": {},
   "outputs": [
    {
     "data": {
      "image/png": "[encoded data removed]",
      "text/plain": [
       "<Figure size 432x360 with 1 Axes>"
      ]
     },
     "metadata": {
      "needs_background": "light"
     },
     "output_type": "display_data"
    }
   ],
   "source": [
    "df_st_ultra['distance'].hist(range=(243, 5700), color='skyblue', grid=True, figsize=(6,5), bins=40)\n",
    "plt.xlabel('Расстояние за поездку')\n",
    "plt.ylabel('Частота')\n",
    "plt.title('Гистограмма расстояния пройденного за поездку премиум пользователей')\n",
    "plt.show()"
   ]
  },
  {
   "cell_type": "markdown",
   "id": "b01d21ba",
   "metadata": {},
   "source": [
    "<td style=\"background-color: skyblue;\">Расстояние которое проезжают пользователи с подпиской более предсказуемо(относительно расстояния которое проезжают пользователи без платной опции), хотя распределения довольно похожи. 'Маленькая' горка в гистограмме с подпиской 'ultra'(как и ожидалось) в процентном отношении меньше 'маленькой' аналогичной горки в гистограмме с 'free' подпиской(т.к. обычно пользователи при покупке платной подписке уже имеют навыки вождения самоката).</td>"
   ]
  },
  {
   "cell_type": "markdown",
   "id": "86920752",
   "metadata": {},
   "source": [
    "<td style=\"background-color: skyblue;\">Время поездок:</td>"
   ]
  },
  {
   "cell_type": "code",
   "execution_count": 71,
   "id": "fcbdaffb",
   "metadata": {},
   "outputs": [
    {
     "data": {
      "text/plain": [
       "count    11568.000000\n",
       "mean        17.531984\n",
       "std          6.137264\n",
       "min          2.035632\n",
       "25%         13.127082\n",
       "50%         17.446822\n",
       "75%         21.594071\n",
       "max         34.948498\n",
       "Name: duration, dtype: float64"
      ]
     },
     "execution_count": 71,
     "metadata": {},
     "output_type": "execute_result"
    }
   ],
   "source": [
    "df_st_free['duration'].describe()"
   ]
  },
  {
   "cell_type": "code",
   "execution_count": 72,
   "id": "fcc06943",
   "metadata": {},
   "outputs": [
    {
     "data": {
      "image/png": "[encoded data removed]",
      "text/plain": [
       "<Figure size 432x360 with 1 Axes>"
      ]
     },
     "metadata": {
      "needs_background": "light"
     },
     "output_type": "display_data"
    }
   ],
   "source": [
    "df_st_free['duration'].hist(range=(2, 35), color='orange', grid=True, figsize=(6,5), bins=40)\n",
    "plt.xlabel('Расстояние за поездку')\n",
    "plt.ylabel('Частота')\n",
    "plt.title('Гистограмма расстояния пройденного за поездку')\n",
    "plt.show()"
   ]
  },
  {
   "cell_type": "code",
   "execution_count": 73,
   "id": "9718d5e8",
   "metadata": {},
   "outputs": [
    {
     "data": {
      "text/plain": [
       "count    6500.000000\n",
       "mean       18.541985\n",
       "std         5.572048\n",
       "min         3.760353\n",
       "25%        14.524654\n",
       "50%        18.178153\n",
       "75%        21.884129\n",
       "max        40.823963\n",
       "Name: duration, dtype: float64"
      ]
     },
     "execution_count": 73,
     "metadata": {},
     "output_type": "execute_result"
    }
   ],
   "source": [
    "df_st_ultra['duration'].describe()"
   ]
  },
  {
   "cell_type": "code",
   "execution_count": 74,
   "id": "b7846e87",
   "metadata": {},
   "outputs": [
    {
     "data": {
      "text/plain": [
       "<AxesSubplot:>"
      ]
     },
     "execution_count": 74,
     "metadata": {},
     "output_type": "execute_result"
    },
    {
     "data": {
      "image/png": "[encoded data removed]",
      "text/plain": [
       "<Figure size 432x360 with 1 Axes>"
      ]
     },
     "metadata": {
      "needs_background": "light"
     },
     "output_type": "display_data"
    }
   ],
   "source": [
    "df_st_ultra['duration'].hist(range=(3, 41), color='orange', grid=True, figsize=(6,5), bins=40)"
   ]
  },
  {
   "cell_type": "markdown",
   "id": "006ae19b",
   "metadata": {},
   "source": [
    "<td style=\"background-color: skyblue;\">Снова заметим что вип-пользователи более предсказуемы во времени использования самоката(от 10 до 25 минут ~ 85-99% данных попадают в диапозон 2-х стандартных отклонений). У обычных пользователей стандартное отклонение времени использование выше, данные разнороднее. При условии что выбросы мы исключили средние значения получились похожими, но это ещё следует проверить.</td>"
   ]
  },
  {
   "cell_type": "markdown",
   "id": "402d620f",
   "metadata": {},
   "source": [
    "#### Шаг 5. Подсчёт выручки"
   ]
  },
  {
   "cell_type": "markdown",
   "id": "a077f4b2",
   "metadata": {},
   "source": [
    "<td style=\"background-color: pink;\">5.1 Создайте датафрейм с агрегированными данными о поездках на основе датафрейма с объединёнными данными из шага 4: найдите суммарное расстояние, количество поездок и суммарное время для каждого пользователя за каждый месяц.</td>"
   ]
  },
  {
   "cell_type": "markdown",
   "id": "2a8f3260",
   "metadata": {},
   "source": [
    "<td style=\"background-color: skyblue;\">До использования агрегации(создания сводной таблицы) округлим время каждой поездки в большую сторону до минуты:</td>"
   ]
  },
  {
   "cell_type": "markdown",
   "id": "8127dd8d",
   "metadata": {},
   "source": [
    "<td style=\"background-color: skyblue;\">Для начала взглянем на атрибут времени ДО изменения:</td>"
   ]
  },
  {
   "cell_type": "code",
   "execution_count": 75,
   "id": "a6a585e3",
   "metadata": {},
   "outputs": [
    {
     "data": {
      "text/plain": [
       "18058     6.469074\n",
       "18059    18.343604\n",
       "18060    20.289416\n",
       "18061    26.916544\n",
       "18062    22.560373\n",
       "18063    19.822962\n",
       "18064    21.409799\n",
       "18065    18.435051\n",
       "18066    16.674362\n",
       "18067    15.893917\n",
       "Name: duration, dtype: float64"
      ]
     },
     "execution_count": 75,
     "metadata": {},
     "output_type": "execute_result"
    }
   ],
   "source": [
    "df['duration'].tail(10)"
   ]
  },
  {
   "cell_type": "markdown",
   "id": "6c5e4d26",
   "metadata": {},
   "source": [
    "<td style=\"background-color: skyblue;\">Округлим до минуты в большую сторону:</td>"
   ]
  },
  {
   "cell_type": "code",
   "execution_count": 76,
   "id": "daccca4e",
   "metadata": {},
   "outputs": [],
   "source": [
    "df['duration'] = np.ceil(df['duration'])"
   ]
  },
  {
   "cell_type": "markdown",
   "id": "00d4bb4a",
   "metadata": {},
   "source": [
    "<td style=\"background-color: skyblue;\">Выведем также 10 последних записей чтобы сравнить и проверить корректность выполнения:</td>"
   ]
  },
  {
   "cell_type": "code",
   "execution_count": 77,
   "id": "82e43b26",
   "metadata": {},
   "outputs": [
    {
     "data": {
      "text/plain": [
       "18058     7.0\n",
       "18059    19.0\n",
       "18060    21.0\n",
       "18061    27.0\n",
       "18062    23.0\n",
       "18063    20.0\n",
       "18064    22.0\n",
       "18065    19.0\n",
       "18066    17.0\n",
       "18067    16.0\n",
       "Name: duration, dtype: float64"
      ]
     },
     "execution_count": 77,
     "metadata": {},
     "output_type": "execute_result"
    }
   ],
   "source": [
    "df['duration'].tail(10)"
   ]
  },
  {
   "cell_type": "markdown",
   "id": "5ec909dc",
   "metadata": {},
   "source": [
    "<td style=\"background-color: skyblue;\">Округление прошло успешно.</td>"
   ]
  },
  {
   "cell_type": "code",
   "execution_count": 78,
   "id": "98463487",
   "metadata": {},
   "outputs": [
    {
     "data": {
      "text/html": [
       "<div>\n",
       "<style scoped>\n",
       "    .dataframe tbody tr th:only-of-type {\n",
       "        vertical-align: middle;\n",
       "    }\n",
       "\n",
       "    .dataframe tbody tr th {\n",
       "        vertical-align: top;\n",
       "    }\n",
       "\n",
       "    .dataframe thead th {\n",
       "        text-align: right;\n",
       "    }\n",
       "</style>\n",
       "<table border=\"1\" class=\"dataframe\">\n",
       "  <thead>\n",
       "    <tr style=\"text-align: right;\">\n",
       "      <th></th>\n",
       "      <th>month</th>\n",
       "      <th>user_id</th>\n",
       "      <th>subscription_type</th>\n",
       "      <th>total_ride_in_month</th>\n",
       "      <th>distance</th>\n",
       "      <th>duration</th>\n",
       "    </tr>\n",
       "  </thead>\n",
       "  <tbody>\n",
       "    <tr>\n",
       "      <th>6452</th>\n",
       "      <td>7</td>\n",
       "      <td>1223</td>\n",
       "      <td>free</td>\n",
       "      <td>1</td>\n",
       "      <td>4311.498109</td>\n",
       "      <td>24.0</td>\n",
       "    </tr>\n",
       "    <tr>\n",
       "      <th>10560</th>\n",
       "      <td>12</td>\n",
       "      <td>351</td>\n",
       "      <td>ultra</td>\n",
       "      <td>1</td>\n",
       "      <td>4061.139532</td>\n",
       "      <td>32.0</td>\n",
       "    </tr>\n",
       "    <tr>\n",
       "      <th>2645</th>\n",
       "      <td>3</td>\n",
       "      <td>1251</td>\n",
       "      <td>free</td>\n",
       "      <td>1</td>\n",
       "      <td>4307.835592</td>\n",
       "      <td>14.0</td>\n",
       "    </tr>\n",
       "    <tr>\n",
       "      <th>8714</th>\n",
       "      <td>10</td>\n",
       "      <td>303</td>\n",
       "      <td>ultra</td>\n",
       "      <td>1</td>\n",
       "      <td>3588.585221</td>\n",
       "      <td>24.0</td>\n",
       "    </tr>\n",
       "    <tr>\n",
       "      <th>6715</th>\n",
       "      <td>8</td>\n",
       "      <td>75</td>\n",
       "      <td>ultra</td>\n",
       "      <td>2</td>\n",
       "      <td>6402.448614</td>\n",
       "      <td>37.0</td>\n",
       "    </tr>\n",
       "    <tr>\n",
       "      <th>224</th>\n",
       "      <td>1</td>\n",
       "      <td>413</td>\n",
       "      <td>ultra</td>\n",
       "      <td>2</td>\n",
       "      <td>8391.482951</td>\n",
       "      <td>44.0</td>\n",
       "    </tr>\n",
       "    <tr>\n",
       "      <th>10542</th>\n",
       "      <td>12</td>\n",
       "      <td>306</td>\n",
       "      <td>ultra</td>\n",
       "      <td>1</td>\n",
       "      <td>4237.836461</td>\n",
       "      <td>23.0</td>\n",
       "    </tr>\n",
       "    <tr>\n",
       "      <th>11005</th>\n",
       "      <td>12</td>\n",
       "      <td>1079</td>\n",
       "      <td>free</td>\n",
       "      <td>1</td>\n",
       "      <td>3978.383176</td>\n",
       "      <td>26.0</td>\n",
       "    </tr>\n",
       "    <tr>\n",
       "      <th>3344</th>\n",
       "      <td>4</td>\n",
       "      <td>926</td>\n",
       "      <td>free</td>\n",
       "      <td>2</td>\n",
       "      <td>6727.776639</td>\n",
       "      <td>41.0</td>\n",
       "    </tr>\n",
       "    <tr>\n",
       "      <th>7241</th>\n",
       "      <td>8</td>\n",
       "      <td>989</td>\n",
       "      <td>free</td>\n",
       "      <td>1</td>\n",
       "      <td>2269.204051</td>\n",
       "      <td>14.0</td>\n",
       "    </tr>\n",
       "  </tbody>\n",
       "</table>\n",
       "</div>"
      ],
      "text/plain": [
       "       month  user_id subscription_type  total_ride_in_month     distance  \\\n",
       "6452       7     1223              free                    1  4311.498109   \n",
       "10560     12      351             ultra                    1  4061.139532   \n",
       "2645       3     1251              free                    1  4307.835592   \n",
       "8714      10      303             ultra                    1  3588.585221   \n",
       "6715       8       75             ultra                    2  6402.448614   \n",
       "224        1      413             ultra                    2  8391.482951   \n",
       "10542     12      306             ultra                    1  4237.836461   \n",
       "11005     12     1079              free                    1  3978.383176   \n",
       "3344       4      926              free                    2  6727.776639   \n",
       "7241       8      989              free                    1  2269.204051   \n",
       "\n",
       "       duration  \n",
       "6452       24.0  \n",
       "10560      32.0  \n",
       "2645       14.0  \n",
       "8714       24.0  \n",
       "6715       37.0  \n",
       "224        44.0  \n",
       "10542      23.0  \n",
       "11005      26.0  \n",
       "3344       41.0  \n",
       "7241       14.0  "
      ]
     },
     "execution_count": 78,
     "metadata": {},
     "output_type": "execute_result"
    }
   ],
   "source": [
    "# Создание нового датафрейма\n",
    "df_with_profit = df.pivot_table(index=['month', 'user_id', 'subscription_type'], \n",
    "                                values=['distance', 'date', 'duration'], \n",
    "                                aggfunc={'distance': 'sum', 'date': 'count', 'duration': 'sum'})\n",
    "\n",
    "# Переименование столбцов\n",
    "df_with_profit = df_with_profit.rename(columns={'date': 'total_ride_in_month'})\n",
    "\n",
    "# Для того чтобы избавиться от мультииндекса\n",
    "df_with_profit.reset_index(inplace=True)\n",
    "\n",
    "# Вывдим случайные 10 записей\n",
    "df_with_profit.sample(10)"
   ]
  },
  {
   "cell_type": "markdown",
   "id": "c406c3b0",
   "metadata": {},
   "source": [
    "<td style=\"background-color: skyblue;\">Проверим наличие пропусков в новой сводной таблице:</td>"
   ]
  },
  {
   "cell_type": "code",
   "execution_count": 79,
   "id": "89403db9",
   "metadata": {},
   "outputs": [
    {
     "name": "stdout",
     "output_type": "stream",
     "text": [
      "<class 'pandas.core.frame.DataFrame'>\n",
      "RangeIndex: 11331 entries, 0 to 11330\n",
      "Data columns (total 6 columns):\n",
      " #   Column               Non-Null Count  Dtype  \n",
      "---  ------               --------------  -----  \n",
      " 0   month                11331 non-null  int64  \n",
      " 1   user_id              11331 non-null  int64  \n",
      " 2   subscription_type    11331 non-null  object \n",
      " 3   total_ride_in_month  11331 non-null  int64  \n",
      " 4   distance             11331 non-null  float64\n",
      " 5   duration             11331 non-null  float64\n",
      "dtypes: float64(2), int64(3), object(1)\n",
      "memory usage: 531.3+ KB\n"
     ]
    }
   ],
   "source": [
    "df_with_profit.info()"
   ]
  },
  {
   "cell_type": "markdown",
   "id": "fbf63222",
   "metadata": {},
   "source": [
    "<td style=\"background-color: skyblue;\">Пропусков нет.</td>"
   ]
  },
  {
   "cell_type": "markdown",
   "id": "c12e5ae4",
   "metadata": {},
   "source": [
    "<td style=\"background-color: pink;\">5.2 В этот же датафрейм добавьте столбец с помесячной выручкой, которую принёс каждый пользователь. Для этого обратитесь к информации об условиях оплаты для подписчиков и тех, у кого нет подписки. Продолжительность каждой поездки в каждой строке исходного датафрейма для подсчёта стоимости округляется до следующего целого числа: например, значения \n",
    "25.3\n",
    "25.3, \n",
    "25.5\n",
    "25.5 и \n",
    "26.0\n",
    "26.0 должны быть преобразованы к \n",
    "26\n",
    "26.</td>"
   ]
  },
  {
   "cell_type": "markdown",
   "id": "60e0f40d",
   "metadata": {},
   "source": [
    "<td style=\"background-color: skyblue;\">Замержденим таблицу с данными о подписках(потом удалим лишнее):</td>"
   ]
  },
  {
   "cell_type": "code",
   "execution_count": 80,
   "id": "54a2877c",
   "metadata": {},
   "outputs": [],
   "source": [
    "df_with_profit = pd.merge(df_with_profit, df_subs, on='subscription_type')"
   ]
  },
  {
   "cell_type": "markdown",
   "id": "b895a8d1",
   "metadata": {},
   "source": [
    "<td style=\"background-color: skyblue;\">Создадим функцию для подсчёта выручки для каждого пользователя за месяц:</td>"
   ]
  },
  {
   "cell_type": "code",
   "execution_count": 81,
   "id": "3bfd90d6",
   "metadata": {},
   "outputs": [],
   "source": [
    "def month_profit(row):\n",
    "    subscription_type = row['subscription_type']\n",
    "    if subscription_type == 'free':\n",
    "        minute_price_free = row['minute_price']\n",
    "        start_ride_price_free = row['start_ride_price']\n",
    "        subscription_fee_free = row['subscription_fee']\n",
    "        quantity_rides = row['total_ride_in_month']\n",
    "        return np.ceil((row['duration'] * minute_price_free + (start_ride_price_free * quantity_rides) + subscription_fee_free))\n",
    "    \n",
    "    elif subscription_type == 'ultra':\n",
    "        minute_price_ultra = row['minute_price']\n",
    "        start_ride_price_ultra = row['start_ride_price']\n",
    "        subscription_fee_ultra = row['subscription_fee']\n",
    "        quantity_rides = row['total_ride_in_month']\n",
    "        return np.ceil((row['duration'] * minute_price_ultra + (start_ride_price_ultra * quantity_rides) + subscription_fee_ultra))"
   ]
  },
  {
   "cell_type": "markdown",
   "id": "924b117c",
   "metadata": {},
   "source": [
    "<td style=\"background-color: skyblue;\">Создадим столбец с данными о выручке с каждого клиента:</td>"
   ]
  },
  {
   "cell_type": "code",
   "execution_count": 82,
   "id": "27bf43b7",
   "metadata": {},
   "outputs": [],
   "source": [
    "df_with_profit['month_price_per_client'] = df_with_profit.apply(month_profit, axis=1)"
   ]
  },
  {
   "cell_type": "code",
   "execution_count": 83,
   "id": "815e847e",
   "metadata": {},
   "outputs": [],
   "source": [
    "# для проверки гипотезы 6.3\n",
    "profit_month_ultra = df_with_profit.loc[df_with_profit['subscription_type'] == 'ultra', 'month_price_per_client']\n",
    "\n",
    "profit_month_free = df_with_profit.loc[df_with_profit['subscription_type'] == 'free', 'month_price_per_client']"
   ]
  },
  {
   "cell_type": "markdown",
   "id": "e39ae93a",
   "metadata": {},
   "source": [
    "<td style=\"background-color: skyblue;\">Проверим корректность выполнения работы функции.</td>"
   ]
  },
  {
   "cell_type": "code",
   "execution_count": 84,
   "id": "809ac2ba",
   "metadata": {},
   "outputs": [
    {
     "data": {
      "text/html": [
       "<div>\n",
       "<style scoped>\n",
       "    .dataframe tbody tr th:only-of-type {\n",
       "        vertical-align: middle;\n",
       "    }\n",
       "\n",
       "    .dataframe tbody tr th {\n",
       "        vertical-align: top;\n",
       "    }\n",
       "\n",
       "    .dataframe thead th {\n",
       "        text-align: right;\n",
       "    }\n",
       "</style>\n",
       "<table border=\"1\" class=\"dataframe\">\n",
       "  <thead>\n",
       "    <tr style=\"text-align: right;\">\n",
       "      <th></th>\n",
       "      <th>month</th>\n",
       "      <th>user_id</th>\n",
       "      <th>subscription_type</th>\n",
       "      <th>total_ride_in_month</th>\n",
       "      <th>distance</th>\n",
       "      <th>duration</th>\n",
       "      <th>minute_price</th>\n",
       "      <th>start_ride_price</th>\n",
       "      <th>subscription_fee</th>\n",
       "      <th>month_price_per_client</th>\n",
       "    </tr>\n",
       "  </thead>\n",
       "  <tbody>\n",
       "    <tr>\n",
       "      <th>10665</th>\n",
       "      <td>11</td>\n",
       "      <td>1425</td>\n",
       "      <td>free</td>\n",
       "      <td>1</td>\n",
       "      <td>1639.398305</td>\n",
       "      <td>11.0</td>\n",
       "      <td>8</td>\n",
       "      <td>50</td>\n",
       "      <td>0</td>\n",
       "      <td>138.0</td>\n",
       "    </tr>\n",
       "    <tr>\n",
       "      <th>10666</th>\n",
       "      <td>11</td>\n",
       "      <td>1426</td>\n",
       "      <td>free</td>\n",
       "      <td>2</td>\n",
       "      <td>4225.155065</td>\n",
       "      <td>32.0</td>\n",
       "      <td>8</td>\n",
       "      <td>50</td>\n",
       "      <td>0</td>\n",
       "      <td>356.0</td>\n",
       "    </tr>\n",
       "    <tr>\n",
       "      <th>10667</th>\n",
       "      <td>11</td>\n",
       "      <td>1427</td>\n",
       "      <td>free</td>\n",
       "      <td>3</td>\n",
       "      <td>7241.309641</td>\n",
       "      <td>34.0</td>\n",
       "      <td>8</td>\n",
       "      <td>50</td>\n",
       "      <td>0</td>\n",
       "      <td>422.0</td>\n",
       "    </tr>\n",
       "    <tr>\n",
       "      <th>10668</th>\n",
       "      <td>11</td>\n",
       "      <td>1428</td>\n",
       "      <td>free</td>\n",
       "      <td>2</td>\n",
       "      <td>4573.837455</td>\n",
       "      <td>16.0</td>\n",
       "      <td>8</td>\n",
       "      <td>50</td>\n",
       "      <td>0</td>\n",
       "      <td>228.0</td>\n",
       "    </tr>\n",
       "    <tr>\n",
       "      <th>10669</th>\n",
       "      <td>11</td>\n",
       "      <td>1429</td>\n",
       "      <td>free</td>\n",
       "      <td>2</td>\n",
       "      <td>7424.453156</td>\n",
       "      <td>32.0</td>\n",
       "      <td>8</td>\n",
       "      <td>50</td>\n",
       "      <td>0</td>\n",
       "      <td>356.0</td>\n",
       "    </tr>\n",
       "  </tbody>\n",
       "</table>\n",
       "</div>"
      ],
      "text/plain": [
       "       month  user_id subscription_type  total_ride_in_month     distance  \\\n",
       "10665     11     1425              free                    1  1639.398305   \n",
       "10666     11     1426              free                    2  4225.155065   \n",
       "10667     11     1427              free                    3  7241.309641   \n",
       "10668     11     1428              free                    2  4573.837455   \n",
       "10669     11     1429              free                    2  7424.453156   \n",
       "\n",
       "       duration  minute_price  start_ride_price  subscription_fee  \\\n",
       "10665      11.0             8                50                 0   \n",
       "10666      32.0             8                50                 0   \n",
       "10667      34.0             8                50                 0   \n",
       "10668      16.0             8                50                 0   \n",
       "10669      32.0             8                50                 0   \n",
       "\n",
       "       month_price_per_client  \n",
       "10665                   138.0  \n",
       "10666                   356.0  \n",
       "10667                   422.0  \n",
       "10668                   228.0  \n",
       "10669                   356.0  "
      ]
     },
     "execution_count": 84,
     "metadata": {},
     "output_type": "execute_result"
    }
   ],
   "source": [
    "df_with_profit.iloc[10665:10670]"
   ]
  },
  {
   "cell_type": "code",
   "execution_count": 85,
   "id": "6c1051ab",
   "metadata": {},
   "outputs": [
    {
     "data": {
      "text/html": [
       "<div>\n",
       "<style scoped>\n",
       "    .dataframe tbody tr th:only-of-type {\n",
       "        vertical-align: middle;\n",
       "    }\n",
       "\n",
       "    .dataframe tbody tr th {\n",
       "        vertical-align: top;\n",
       "    }\n",
       "\n",
       "    .dataframe thead th {\n",
       "        text-align: right;\n",
       "    }\n",
       "</style>\n",
       "<table border=\"1\" class=\"dataframe\">\n",
       "  <thead>\n",
       "    <tr style=\"text-align: right;\">\n",
       "      <th></th>\n",
       "      <th>month</th>\n",
       "      <th>user_id</th>\n",
       "      <th>subscription_type</th>\n",
       "      <th>total_ride_in_month</th>\n",
       "      <th>distance</th>\n",
       "      <th>duration</th>\n",
       "      <th>minute_price</th>\n",
       "      <th>start_ride_price</th>\n",
       "      <th>subscription_fee</th>\n",
       "      <th>month_price_per_client</th>\n",
       "    </tr>\n",
       "  </thead>\n",
       "  <tbody>\n",
       "    <tr>\n",
       "      <th>1</th>\n",
       "      <td>1</td>\n",
       "      <td>3</td>\n",
       "      <td>ultra</td>\n",
       "      <td>1</td>\n",
       "      <td>3061.777147</td>\n",
       "      <td>13.0</td>\n",
       "      <td>6</td>\n",
       "      <td>0</td>\n",
       "      <td>199</td>\n",
       "      <td>277.0</td>\n",
       "    </tr>\n",
       "    <tr>\n",
       "      <th>2</th>\n",
       "      <td>1</td>\n",
       "      <td>5</td>\n",
       "      <td>ultra</td>\n",
       "      <td>1</td>\n",
       "      <td>3914.646990</td>\n",
       "      <td>13.0</td>\n",
       "      <td>6</td>\n",
       "      <td>0</td>\n",
       "      <td>199</td>\n",
       "      <td>277.0</td>\n",
       "    </tr>\n",
       "    <tr>\n",
       "      <th>3</th>\n",
       "      <td>1</td>\n",
       "      <td>7</td>\n",
       "      <td>ultra</td>\n",
       "      <td>2</td>\n",
       "      <td>6478.080979</td>\n",
       "      <td>28.0</td>\n",
       "      <td>6</td>\n",
       "      <td>0</td>\n",
       "      <td>199</td>\n",
       "      <td>367.0</td>\n",
       "    </tr>\n",
       "    <tr>\n",
       "      <th>4</th>\n",
       "      <td>1</td>\n",
       "      <td>12</td>\n",
       "      <td>ultra</td>\n",
       "      <td>1</td>\n",
       "      <td>3577.151148</td>\n",
       "      <td>33.0</td>\n",
       "      <td>6</td>\n",
       "      <td>0</td>\n",
       "      <td>199</td>\n",
       "      <td>397.0</td>\n",
       "    </tr>\n",
       "    <tr>\n",
       "      <th>5</th>\n",
       "      <td>1</td>\n",
       "      <td>13</td>\n",
       "      <td>ultra</td>\n",
       "      <td>2</td>\n",
       "      <td>6687.987446</td>\n",
       "      <td>42.0</td>\n",
       "      <td>6</td>\n",
       "      <td>0</td>\n",
       "      <td>199</td>\n",
       "      <td>451.0</td>\n",
       "    </tr>\n",
       "    <tr>\n",
       "      <th>6</th>\n",
       "      <td>1</td>\n",
       "      <td>14</td>\n",
       "      <td>ultra</td>\n",
       "      <td>2</td>\n",
       "      <td>7699.643820</td>\n",
       "      <td>35.0</td>\n",
       "      <td>6</td>\n",
       "      <td>0</td>\n",
       "      <td>199</td>\n",
       "      <td>409.0</td>\n",
       "    </tr>\n",
       "    <tr>\n",
       "      <th>7</th>\n",
       "      <td>1</td>\n",
       "      <td>15</td>\n",
       "      <td>ultra</td>\n",
       "      <td>1</td>\n",
       "      <td>4187.621459</td>\n",
       "      <td>39.0</td>\n",
       "      <td>6</td>\n",
       "      <td>0</td>\n",
       "      <td>199</td>\n",
       "      <td>433.0</td>\n",
       "    </tr>\n",
       "    <tr>\n",
       "      <th>8</th>\n",
       "      <td>1</td>\n",
       "      <td>20</td>\n",
       "      <td>ultra</td>\n",
       "      <td>1</td>\n",
       "      <td>3516.719208</td>\n",
       "      <td>29.0</td>\n",
       "      <td>6</td>\n",
       "      <td>0</td>\n",
       "      <td>199</td>\n",
       "      <td>373.0</td>\n",
       "    </tr>\n",
       "    <tr>\n",
       "      <th>9</th>\n",
       "      <td>1</td>\n",
       "      <td>22</td>\n",
       "      <td>ultra</td>\n",
       "      <td>1</td>\n",
       "      <td>3058.692225</td>\n",
       "      <td>13.0</td>\n",
       "      <td>6</td>\n",
       "      <td>0</td>\n",
       "      <td>199</td>\n",
       "      <td>277.0</td>\n",
       "    </tr>\n",
       "  </tbody>\n",
       "</table>\n",
       "</div>"
      ],
      "text/plain": [
       "   month  user_id subscription_type  total_ride_in_month     distance  \\\n",
       "1      1        3             ultra                    1  3061.777147   \n",
       "2      1        5             ultra                    1  3914.646990   \n",
       "3      1        7             ultra                    2  6478.080979   \n",
       "4      1       12             ultra                    1  3577.151148   \n",
       "5      1       13             ultra                    2  6687.987446   \n",
       "6      1       14             ultra                    2  7699.643820   \n",
       "7      1       15             ultra                    1  4187.621459   \n",
       "8      1       20             ultra                    1  3516.719208   \n",
       "9      1       22             ultra                    1  3058.692225   \n",
       "\n",
       "   duration  minute_price  start_ride_price  subscription_fee  \\\n",
       "1      13.0             6                 0               199   \n",
       "2      13.0             6                 0               199   \n",
       "3      28.0             6                 0               199   \n",
       "4      33.0             6                 0               199   \n",
       "5      42.0             6                 0               199   \n",
       "6      35.0             6                 0               199   \n",
       "7      39.0             6                 0               199   \n",
       "8      29.0             6                 0               199   \n",
       "9      13.0             6                 0               199   \n",
       "\n",
       "   month_price_per_client  \n",
       "1                   277.0  \n",
       "2                   277.0  \n",
       "3                   367.0  \n",
       "4                   397.0  \n",
       "5                   451.0  \n",
       "6                   409.0  \n",
       "7                   433.0  \n",
       "8                   373.0  \n",
       "9                   277.0  "
      ]
     },
     "execution_count": 85,
     "metadata": {},
     "output_type": "execute_result"
    }
   ],
   "source": [
    "df_with_profit.iloc[1:10]"
   ]
  },
  {
   "cell_type": "markdown",
   "id": "2785d4eb",
   "metadata": {},
   "source": [
    "<td style=\"background-color: skyblue;\">Функция заполянет столбец корректно.</td>"
   ]
  },
  {
   "cell_type": "markdown",
   "id": "88a79d12",
   "metadata": {},
   "source": [
    "<td style=\"background-color: skyblue;\">Избавимся от избыточности:</td>"
   ]
  },
  {
   "cell_type": "code",
   "execution_count": 86,
   "id": "19547a44",
   "metadata": {},
   "outputs": [],
   "source": [
    "df_with_profit = df_with_profit.drop(['subscription_type', 'minute_price', 'start_ride_price', 'subscription_fee'], axis=1)"
   ]
  },
  {
   "cell_type": "markdown",
   "id": "49c9d3f0",
   "metadata": {},
   "source": [
    "<td style=\"background-color: skyblue;\">Посмотрим на корректность выполнения, выведя 15 случайных записей:</td>"
   ]
  },
  {
   "cell_type": "code",
   "execution_count": 87,
   "id": "580b03cc",
   "metadata": {},
   "outputs": [
    {
     "data": {
      "text/html": [
       "<div>\n",
       "<style scoped>\n",
       "    .dataframe tbody tr th:only-of-type {\n",
       "        vertical-align: middle;\n",
       "    }\n",
       "\n",
       "    .dataframe tbody tr th {\n",
       "        vertical-align: top;\n",
       "    }\n",
       "\n",
       "    .dataframe thead th {\n",
       "        text-align: right;\n",
       "    }\n",
       "</style>\n",
       "<table border=\"1\" class=\"dataframe\">\n",
       "  <thead>\n",
       "    <tr style=\"text-align: right;\">\n",
       "      <th></th>\n",
       "      <th>month</th>\n",
       "      <th>user_id</th>\n",
       "      <th>total_ride_in_month</th>\n",
       "      <th>distance</th>\n",
       "      <th>duration</th>\n",
       "      <th>month_price_per_client</th>\n",
       "    </tr>\n",
       "  </thead>\n",
       "  <tbody>\n",
       "    <tr>\n",
       "      <th>9492</th>\n",
       "      <td>9</td>\n",
       "      <td>1312</td>\n",
       "      <td>2</td>\n",
       "      <td>8006.448060</td>\n",
       "      <td>41.0</td>\n",
       "      <td>428.0</td>\n",
       "    </tr>\n",
       "    <tr>\n",
       "      <th>8095</th>\n",
       "      <td>7</td>\n",
       "      <td>938</td>\n",
       "      <td>1</td>\n",
       "      <td>1976.414724</td>\n",
       "      <td>13.0</td>\n",
       "      <td>154.0</td>\n",
       "    </tr>\n",
       "    <tr>\n",
       "      <th>8759</th>\n",
       "      <td>8</td>\n",
       "      <td>1099</td>\n",
       "      <td>4</td>\n",
       "      <td>11038.034242</td>\n",
       "      <td>82.0</td>\n",
       "      <td>856.0</td>\n",
       "    </tr>\n",
       "    <tr>\n",
       "      <th>9622</th>\n",
       "      <td>9</td>\n",
       "      <td>1508</td>\n",
       "      <td>2</td>\n",
       "      <td>9064.516933</td>\n",
       "      <td>48.0</td>\n",
       "      <td>484.0</td>\n",
       "    </tr>\n",
       "    <tr>\n",
       "      <th>7969</th>\n",
       "      <td>7</td>\n",
       "      <td>750</td>\n",
       "      <td>4</td>\n",
       "      <td>13451.845961</td>\n",
       "      <td>64.0</td>\n",
       "      <td>712.0</td>\n",
       "    </tr>\n",
       "    <tr>\n",
       "      <th>9510</th>\n",
       "      <td>9</td>\n",
       "      <td>1334</td>\n",
       "      <td>2</td>\n",
       "      <td>6506.874125</td>\n",
       "      <td>40.0</td>\n",
       "      <td>420.0</td>\n",
       "    </tr>\n",
       "    <tr>\n",
       "      <th>6953</th>\n",
       "      <td>5</td>\n",
       "      <td>970</td>\n",
       "      <td>1</td>\n",
       "      <td>2643.108253</td>\n",
       "      <td>11.0</td>\n",
       "      <td>138.0</td>\n",
       "    </tr>\n",
       "    <tr>\n",
       "      <th>6695</th>\n",
       "      <td>4</td>\n",
       "      <td>1427</td>\n",
       "      <td>2</td>\n",
       "      <td>6181.231541</td>\n",
       "      <td>44.0</td>\n",
       "      <td>452.0</td>\n",
       "    </tr>\n",
       "    <tr>\n",
       "      <th>202</th>\n",
       "      <td>1</td>\n",
       "      <td>374</td>\n",
       "      <td>1</td>\n",
       "      <td>4052.329703</td>\n",
       "      <td>18.0</td>\n",
       "      <td>307.0</td>\n",
       "    </tr>\n",
       "    <tr>\n",
       "      <th>9487</th>\n",
       "      <td>9</td>\n",
       "      <td>1300</td>\n",
       "      <td>1</td>\n",
       "      <td>3913.688205</td>\n",
       "      <td>34.0</td>\n",
       "      <td>322.0</td>\n",
       "    </tr>\n",
       "  </tbody>\n",
       "</table>\n",
       "</div>"
      ],
      "text/plain": [
       "      month  user_id  total_ride_in_month      distance  duration  \\\n",
       "9492      9     1312                    2   8006.448060      41.0   \n",
       "8095      7      938                    1   1976.414724      13.0   \n",
       "8759      8     1099                    4  11038.034242      82.0   \n",
       "9622      9     1508                    2   9064.516933      48.0   \n",
       "7969      7      750                    4  13451.845961      64.0   \n",
       "9510      9     1334                    2   6506.874125      40.0   \n",
       "6953      5      970                    1   2643.108253      11.0   \n",
       "6695      4     1427                    2   6181.231541      44.0   \n",
       "202       1      374                    1   4052.329703      18.0   \n",
       "9487      9     1300                    1   3913.688205      34.0   \n",
       "\n",
       "      month_price_per_client  \n",
       "9492                   428.0  \n",
       "8095                   154.0  \n",
       "8759                   856.0  \n",
       "9622                   484.0  \n",
       "7969                   712.0  \n",
       "9510                   420.0  \n",
       "6953                   138.0  \n",
       "6695                   452.0  \n",
       "202                    307.0  \n",
       "9487                   322.0  "
      ]
     },
     "execution_count": 87,
     "metadata": {},
     "output_type": "execute_result"
    }
   ],
   "source": [
    "df_with_profit.sample(10)"
   ]
  },
  {
   "cell_type": "markdown",
   "id": "20137e9f",
   "metadata": {},
   "source": [
    "<td style=\"background-color: skyblue;\">Получили необходимый датафрейм без избыточности.</td>"
   ]
  },
  {
   "cell_type": "markdown",
   "id": "41545ac0",
   "metadata": {},
   "source": [
    "#### Шаг 6. Проверка гипотез"
   ]
  },
  {
   "cell_type": "markdown",
   "id": "06e20646",
   "metadata": {},
   "source": [
    "<td style=\"background-color: pink;\">Продакт-менеджеры сервиса хотят увеличить количество пользователей с подпиской. Для этого они будут проводить различные акции, но сначала нужно выяснить несколько важных моментов.</td>"
   ]
  },
  {
   "cell_type": "markdown",
   "id": "f7e77b19",
   "metadata": {},
   "source": [
    "<td style=\"background-color: pink;\">6.1 Важно понять, тратят ли пользователи с подпиской больше времени на поездки? Если да, то пользователи с подпиской могут быть «выгоднее» для компании. Проверьте гипотезу. Используйте исходные данные о продолжительности каждой сессии — отдельно для подписчиков и тех, у кого нет подписки.</td>"
   ]
  },
  {
   "cell_type": "markdown",
   "id": "58c7d99e",
   "metadata": {},
   "source": [
    "<td style=\"background-color: skyblue;\">Проверим гипотезу о более высокой «выгодности» для компании пользователей с подпиской(относительно пользователей без подписки) следующим образом: H0: среднее значение времени поездки пользователей с подпиской равно среднему времени поездки пользователей без неё, H1: среднее значение времени поездки пользователей с подпиской больше среднего времени поездки пользователей без неё(одностороняя альтернативная гипотеза: alternative='greater' т.е. правая часть приемлема). Т.к. у нас сравниваются средние значение 2-х выборок, то воспользуемся методом ttest_ind:</td>"
   ]
  },
  {
   "cell_type": "code",
   "execution_count": 88,
   "id": "a40c2e35",
   "metadata": {},
   "outputs": [
    {
     "name": "stdout",
     "output_type": "stream",
     "text": [
      "p-value: 3.3080597507158844e-28\n",
      "Отвергаем нулевую гипотезу\n"
     ]
    }
   ],
   "source": [
    "\n",
    "df_st_ultra_h = df_st_ultra['duration']\n",
    "df_st_free_h = df_st_free['duration']\n",
    "    \n",
    "alpha = .05\n",
    "\n",
    "results = st.ttest_ind(df_st_ultra_h, df_st_free_h, alternative='greater')\n",
    "\n",
    "print(f'p-value: {results.pvalue}')\n",
    "\n",
    "# проверяем p-value\n",
    "if results.pvalue < alpha:\n",
    "    print('Отвергаем нулевую гипотезу')\n",
    "else:\n",
    "    print('Нет оснований отвергнуть нулевую гипотезу')"
   ]
  },
  {
   "cell_type": "markdown",
   "id": "ee57aa42",
   "metadata": {},
   "source": [
    "<td style=\"background-color: skyblue;\">Получилось  маленькое  p-значения, что указывает на то, что существует очень низкая вероятность получить такие или более экстремальные результаты, если бы нулевая гипотеза была верна. Мы отвергли нулевую гипотезу о равенстве 2-х средних, значит всё же вип-пользователи тратят больше времени на поездки.</td>"
   ]
  },
  {
   "cell_type": "markdown",
   "id": "5e31186b",
   "metadata": {},
   "source": [
    "<td style=\"background-color: pink;\">6.2 Расстояние одной поездки в \n",
    "3130 метров — оптимальное с точки зрения износа самоката. Можно ли сказать, что среднее расстояние, которое проезжают пользователи с подпиской за одну поездку, не превышает \n",
    "3130 метров? Проверьте гипотезу и сделайте выводы.</td>"
   ]
  },
  {
   "cell_type": "markdown",
   "id": "a2163d90",
   "metadata": {},
   "source": [
    "<td style=\"background-color: skyblue;\">Проверим гипотезу о оптимальной дистанции за одну поездку у клиентов с подпиской следующим образом: H0: среднее значение равно 3130 м, H1: среднее значение больше 3130 м(одностороняя альтернативная гипотеза). Т.к. у нас сравнивается среднее выборки с определённым значением, то воспользуемся методом st.ttest_1samp:</td>"
   ]
  },
  {
   "cell_type": "code",
   "execution_count": 89,
   "id": "ee72049e",
   "metadata": {},
   "outputs": [
    {
     "name": "stdout",
     "output_type": "stream",
     "text": [
      "p-значение: 0.9195368847849785\n",
      "Не получилось отвергнуть нулевую гипотезу\n"
     ]
    }
   ],
   "source": [
    "interested_value = 3130 # оптимальное расстояния за одну поездку\n",
    "\n",
    "alpha = .05 # уровень статистической значимости\n",
    "            \n",
    "\n",
    "results = st.ttest_1samp(\n",
    "    df_st_ultra['distance'], \n",
    "    interested_value, alternative='greater')\n",
    "\n",
    "print('p-значение:', results.pvalue)\n",
    "\n",
    "if results.pvalue < alpha:\n",
    "    print('Отвергаем нулевую гипотезу')\n",
    "else:\n",
    "    print('Не получилось отвергнуть нулевую гипотезу')"
   ]
  },
  {
   "cell_type": "markdown",
   "id": "55e1e53d",
   "metadata": {},
   "source": [
    "<td style=\"background-color: skyblue;\">Довольно уверенное p-значение у нас получилось, дополнительных тестов проводить не необходимо. Нулевую гипотезу мы не отвергаем: вероятность получить оптимальное расстояние(3130м) у случайного вип-клиента довольно значима.</td>"
   ]
  },
  {
   "cell_type": "markdown",
   "id": "6b642fec",
   "metadata": {},
   "source": [
    "<td style=\"background-color: pink;\">6.3 Проверьте гипотезу о том, будет ли помесячная выручка от пользователей с подпиской по месяцам выше, чем выручка от пользователей без подписки. Сделайте вывод.</td>"
   ]
  },
  {
   "cell_type": "markdown",
   "id": "951c98aa",
   "metadata": {},
   "source": [
    "<td style=\"background-color: skyblue;\">Проверим гипотезу о более высоких тратах вип-клиентов с подпиской следующим образом: H0: среднее значение трат за месяц вип клиентов равно среднему значению трат обычных клиентов без подписки, H1: среднее значение трат за месяц вип клиентов больше среднего значени трат обычных клиентов без подписки. Т.к. у нас сравниваются средние значения 2-х выборок, то воспользуемся методом st.ttest_ind:</td>"
   ]
  },
  {
   "cell_type": "code",
   "execution_count": 90,
   "id": "7a71478f",
   "metadata": {},
   "outputs": [
    {
     "name": "stdout",
     "output_type": "stream",
     "text": [
      "p-value: 3.24111879849303e-28\n",
      "Отвергаем нулевую гипотезу\n"
     ]
    }
   ],
   "source": [
    "profit_month_free_h = profit_month_free\n",
    "profit_month_ultra_h = profit_month_ultra\n",
    "    \n",
    "alpha = .05\n",
    "\n",
    "# проводим ttest для двух выборок, в качестве альтернативной используем одностороннюю гипотезу «больше»\n",
    "results = st.ttest_ind(profit_month_ultra_h, profit_month_free_h, alternative='greater')\n",
    "\n",
    "print(f'p-value: {results.pvalue}')\n",
    "\n",
    "# проверяем p-value\n",
    "if results.pvalue < alpha:\n",
    "    print('Отвергаем нулевую гипотезу')\n",
    "else:\n",
    "    print('Нет оснований отвергнуть нулевую гипотезу')"
   ]
  },
  {
   "cell_type": "markdown",
   "id": "f9b2551c",
   "metadata": {},
   "source": [
    "<td style=\"background-color: skyblue;\">Получили очень близкое к нулю p-значение из-за чего отвергли нулевую гипотезу в пользу альтернативной одностороней: среднее значение трат вип клиентов за месяц выше среднего значения трат обычных клиентов. Вип-клиенты при условии истинности нулевой гипотезы приносят больше финансов компании.</td>"
   ]
  },
  {
   "cell_type": "markdown",
   "id": "b6f7bc30",
   "metadata": {},
   "source": [
    "<td style=\"background-color: pink;\">6.4 Представьте такую ситуацию: техническая команда сервиса обновила сервера, с которыми взаимодействует мобильное приложение. Она надеется, что из-за этого количество обращений в техподдержку значимо снизилось. Некоторый файл содержит для каждого пользователя данные о количестве обращений до обновления и после него. Какой тест вам понадобился бы для проверки этой гипотезы?</td>"
   ]
  },
  {
   "cell_type": "markdown",
   "id": "bc74e8ba",
   "metadata": {},
   "source": [
    "<td style=\"background-color: skyblue;\">Так как у нас получаются парные выборки: до и после обновления серверов, то целесобразно использовать алгоритм проверки гипотезы о равенстве средних для зависимых (парных) выборок. В библиотеке scipy: scipy.stats.ttest_rel().</td>"
   ]
  },
  {
   "cell_type": "markdown",
   "id": "2f740f50",
   "metadata": {},
   "source": [
    "#### Шаг 8. Общий вывод. "
   ]
  },
  {
   "cell_type": "markdown",
   "id": "e331e6e0",
   "metadata": {},
   "source": [
    "- популярность нашего сервиса среди городов(в процентах)"
   ]
  },
  {
   "cell_type": "code",
   "execution_count": 91,
   "id": "26601c92",
   "metadata": {},
   "outputs": [
    {
     "data": {
      "text/html": [
       "<style  type=\"text/css\" >\n",
       "#T_65964_row0_col0{\n",
       "            background-color:  #fcfdbf;\n",
       "            color:  #000000;\n",
       "            background-color:  #fcfdbf;\n",
       "            color:  #000000;\n",
       "        }#T_65964_row1_col0{\n",
       "            background-color:  #f7725c;\n",
       "            color:  #000000;\n",
       "            background-color:  #f7725c;\n",
       "            color:  #000000;\n",
       "        }#T_65964_row2_col0{\n",
       "            background-color:  #d9466b;\n",
       "            color:  #f1f1f1;\n",
       "            background-color:  #d9466b;\n",
       "            color:  #f1f1f1;\n",
       "        }#T_65964_row3_col0{\n",
       "            background-color:  #b2357b;\n",
       "            color:  #f1f1f1;\n",
       "            background-color:  #b2357b;\n",
       "            color:  #f1f1f1;\n",
       "        }#T_65964_row4_col0{\n",
       "            background-color:  #912b81;\n",
       "            color:  #f1f1f1;\n",
       "            background-color:  #912b81;\n",
       "            color:  #f1f1f1;\n",
       "        }#T_65964_row5_col0{\n",
       "            background-color:  #621980;\n",
       "            color:  #f1f1f1;\n",
       "            background-color:  #621980;\n",
       "            color:  #f1f1f1;\n",
       "        }#T_65964_row6_col0{\n",
       "            background-color:  #4a1079;\n",
       "            color:  #f1f1f1;\n",
       "            background-color:  #4a1079;\n",
       "            color:  #f1f1f1;\n",
       "        }#T_65964_row7_col0{\n",
       "            background-color:  #000004;\n",
       "            color:  #f1f1f1;\n",
       "            background-color:  #000004;\n",
       "            color:  #f1f1f1;\n",
       "        }</style><table id=\"T_65964_\" ><thead>    <tr>        <th class=\"blank level0\" ></th>        <th class=\"col_heading level0 col0\" >city</th>    </tr></thead><tbody>\n",
       "                <tr>\n",
       "                        <th id=\"T_65964_level0_row0\" class=\"row_heading level0 row0\" >Пятигорск</th>\n",
       "                        <td id=\"T_65964_row0_col0\" class=\"data row0 col0\" >14.276402</td>\n",
       "            </tr>\n",
       "            <tr>\n",
       "                        <th id=\"T_65964_level0_row1\" class=\"row_heading level0 row1\" >Екатеринбург</th>\n",
       "                        <td id=\"T_65964_row1_col0\" class=\"data row1 col0\" >13.298566</td>\n",
       "            </tr>\n",
       "            <tr>\n",
       "                        <th id=\"T_65964_level0_row2\" class=\"row_heading level0 row2\" >Ростов-на-Дону</th>\n",
       "                        <td id=\"T_65964_row2_col0\" class=\"data row2 col0\" >12.907432</td>\n",
       "            </tr>\n",
       "            <tr>\n",
       "                        <th id=\"T_65964_level0_row3\" class=\"row_heading level0 row3\" >Краснодар</th>\n",
       "                        <td id=\"T_65964_row3_col0\" class=\"data row3 col0\" >12.581486</td>\n",
       "            </tr>\n",
       "            <tr>\n",
       "                        <th id=\"T_65964_level0_row4\" class=\"row_heading level0 row4\" >Сочи</th>\n",
       "                        <td id=\"T_65964_row4_col0\" class=\"data row4 col0\" >12.320730</td>\n",
       "            </tr>\n",
       "            <tr>\n",
       "                        <th id=\"T_65964_level0_row5\" class=\"row_heading level0 row5\" >Омск</th>\n",
       "                        <td id=\"T_65964_row5_col0\" class=\"data row5 col0\" >11.929596</td>\n",
       "            </tr>\n",
       "            <tr>\n",
       "                        <th id=\"T_65964_level0_row6\" class=\"row_heading level0 row6\" >Тюмень</th>\n",
       "                        <td id=\"T_65964_row6_col0\" class=\"data row6 col0\" >11.734029</td>\n",
       "            </tr>\n",
       "            <tr>\n",
       "                        <th id=\"T_65964_level0_row7\" class=\"row_heading level0 row7\" >Москва</th>\n",
       "                        <td id=\"T_65964_row7_col0\" class=\"data row7 col0\" >10.951760</td>\n",
       "            </tr>\n",
       "    </tbody></table>"
      ],
      "text/plain": [
       "<pandas.io.formats.style.Styler at 0x7fd68e72a580>"
      ]
     },
     "execution_count": 91,
     "metadata": {},
     "output_type": "execute_result"
    }
   ],
   "source": [
    "df_city_counts "
   ]
  },
  {
   "cell_type": "markdown",
   "id": "fc6b4e30",
   "metadata": {},
   "source": [
    "- процент клиентов без подписки и с подпиской: 54% и 46%."
   ]
  },
  {
   "cell_type": "markdown",
   "id": "48474e4d",
   "metadata": {},
   "source": [
    "- Большая часть пользователей имеет диапозон возраста примерно от 18 до 32 лет."
   ]
  },
  {
   "cell_type": "markdown",
   "id": "5f923238",
   "metadata": {},
   "source": [
    "- вероятно большинство опытных пользователей проезжают расстояние от ~ 2000 - ~ 4900 м, а основная часть новичкой от 200 м до 1200 м."
   ]
  },
  {
   "cell_type": "markdown",
   "id": "91ebeb37",
   "metadata": {},
   "source": [
    "- Основная часть клиентов проводит за поездкой примерно от 8-и до 28-и минут(2 стандартных отклонения ~ 95% всех данных)."
   ]
  },
  {
   "cell_type": "markdown",
   "id": "b606d478",
   "metadata": {},
   "source": [
    "- Расстояние которое проезжают пользователи с подпиской более предсказуемо(относительно расстояния которое проезжают пользователи без платной опции), хотя распределения довольно похожи"
   ]
  },
  {
   "cell_type": "markdown",
   "id": "c6cd4dec",
   "metadata": {},
   "source": [
    "<td style=\"background-color: skyblue;\">Мы написали функцию для подсчёта выручки и получили следующие итого статистического анализа данных:</td>"
   ]
  },
  {
   "cell_type": "markdown",
   "id": "dc48c21e",
   "metadata": {},
   "source": [
    "- вип-пользователи тратят больше времени на поездки."
   ]
  },
  {
   "cell_type": "markdown",
   "id": "a2391d7e",
   "metadata": {},
   "source": [
    "- вероятность получить оптимальное расстояние(3130м) у случайного вип-клиента довольно значима, что может также улучшить финансовое положение компании из-за уменьшения трат на издержки в виде ремонта самокатов."
   ]
  },
  {
   "cell_type": "markdown",
   "id": "e8b54abc",
   "metadata": {},
   "source": [
    "- Вип-клиенты при условии истинности нулевой гипотезы(6.3) приносят больше финансов компании."
   ]
  },
  {
   "cell_type": "markdown",
   "id": "0fe61a39",
   "metadata": {},
   "source": [
    "<td style=\"background-color: lightgreen;\">Рекомендации:</td>"
   ]
  },
  {
   "cell_type": "markdown",
   "id": "4f39edb2",
   "metadata": {},
   "source": [
    "- Клиенты с подпиской более предсказуемы и в теории сохраняют и приносят больше финансов компании, поэтому предлагаем попытаться увеличить долю клиентов с подпиской за счёт рекламы, временных акций и т.д. Так как поведение клиентов с подпиской более выгодно для компании с финансовой точки зрения."
   ]
  },
  {
   "cell_type": "markdown",
   "id": "3521af6e",
   "metadata": {},
   "source": [
    "- Так как основная часть пользователей возрастом от 22 до 28 лет, то необходимо постараться акцентировать внимание на данном сегменте пользователей(при создании рекламы понимать что она нацелена в большую степень на данный возраст и т.д.)."
   ]
  },
  {
   "cell_type": "markdown",
   "id": "ef283b43",
   "metadata": {},
   "source": [
    "- Поскольку Пятигорск, Екатеринбург и Ростов-на-Дону входят в топ-3 городов по доле пользователей нашего сервиса, то стоит максимально проявлять активность и развитие проекта именно в этих городах, так как в других населённых пунктах либо наш сервис не так интересен, либо присутствуют сильные конкуренты, которых пользователи предпочитают больше."
   ]
  }
 ],
 "metadata": {
  "ExecuteTimeLog": [
   {
    "duration": 866,
    "start_time": "2024-03-18T15:49:51.863Z"
   },
   {
    "duration": 91,
    "start_time": "2024-03-18T15:56:13.156Z"
   },
   {
    "duration": 177,
    "start_time": "2024-03-18T15:56:16.985Z"
   },
   {
    "duration": 69,
    "start_time": "2024-03-18T15:56:19.614Z"
   },
   {
    "duration": 29,
    "start_time": "2024-03-18T15:56:52.419Z"
   },
   {
    "duration": 14,
    "start_time": "2024-03-18T15:58:31.514Z"
   },
   {
    "duration": 28,
    "start_time": "2024-03-18T15:58:52.653Z"
   },
   {
    "duration": 10,
    "start_time": "2024-03-18T15:58:54.777Z"
   },
   {
    "duration": 9,
    "start_time": "2024-03-18T15:59:01.048Z"
   },
   {
    "duration": 39,
    "start_time": "2024-03-18T15:59:09.431Z"
   },
   {
    "duration": 9,
    "start_time": "2024-03-18T15:59:12.233Z"
   },
   {
    "duration": 7,
    "start_time": "2024-03-18T15:59:18.594Z"
   },
   {
    "duration": 26,
    "start_time": "2024-03-18T15:59:25.498Z"
   },
   {
    "duration": 7,
    "start_time": "2024-03-18T15:59:29.888Z"
   },
   {
    "duration": 53,
    "start_time": "2024-03-19T12:21:49.542Z"
   },
   {
    "duration": 840,
    "start_time": "2024-03-19T12:22:00.855Z"
   },
   {
    "duration": 76,
    "start_time": "2024-03-19T12:22:01.734Z"
   },
   {
    "duration": 69,
    "start_time": "2024-03-19T12:22:02.101Z"
   },
   {
    "duration": 63,
    "start_time": "2024-03-19T12:22:03.322Z"
   },
   {
    "duration": 22,
    "start_time": "2024-03-19T12:22:05.363Z"
   },
   {
    "duration": 11,
    "start_time": "2024-03-19T12:22:06.046Z"
   },
   {
    "duration": 12,
    "start_time": "2024-03-19T12:23:55.106Z"
   },
   {
    "duration": 12,
    "start_time": "2024-03-19T12:33:22.423Z"
   },
   {
    "duration": 11,
    "start_time": "2024-03-19T12:37:12.735Z"
   },
   {
    "duration": 17,
    "start_time": "2024-03-19T13:13:37.102Z"
   },
   {
    "duration": 12,
    "start_time": "2024-03-19T13:13:48.970Z"
   },
   {
    "duration": 25,
    "start_time": "2024-03-19T13:13:57.533Z"
   },
   {
    "duration": 16,
    "start_time": "2024-03-19T13:15:03.905Z"
   },
   {
    "duration": 927,
    "start_time": "2024-03-19T17:01:11.462Z"
   },
   {
    "duration": 88,
    "start_time": "2024-03-19T17:01:12.504Z"
   },
   {
    "duration": 166,
    "start_time": "2024-03-19T17:01:14.226Z"
   },
   {
    "duration": 56,
    "start_time": "2024-03-19T17:01:14.596Z"
   },
   {
    "duration": 14,
    "start_time": "2024-03-19T17:01:18.096Z"
   },
   {
    "duration": 13,
    "start_time": "2024-03-19T17:01:20.681Z"
   },
   {
    "duration": 8,
    "start_time": "2024-03-19T17:01:25.018Z"
   },
   {
    "duration": 13,
    "start_time": "2024-03-19T17:01:27.694Z"
   },
   {
    "duration": 13,
    "start_time": "2024-03-19T17:01:31.730Z"
   },
   {
    "duration": 10,
    "start_time": "2024-03-19T17:01:36.198Z"
   },
   {
    "duration": 16,
    "start_time": "2024-03-19T17:01:45.455Z"
   },
   {
    "duration": 401,
    "start_time": "2024-03-19T17:18:29.523Z"
   },
   {
    "duration": 277,
    "start_time": "2024-03-19T17:18:38.719Z"
   },
   {
    "duration": 354,
    "start_time": "2024-03-19T17:18:43.650Z"
   },
   {
    "duration": 170,
    "start_time": "2024-03-19T17:18:57.536Z"
   },
   {
    "duration": 19,
    "start_time": "2024-03-19T17:23:21.544Z"
   },
   {
    "duration": 18,
    "start_time": "2024-03-19T17:23:29.230Z"
   },
   {
    "duration": 19,
    "start_time": "2024-03-19T17:23:35.894Z"
   },
   {
    "duration": 21,
    "start_time": "2024-03-19T17:26:43.195Z"
   },
   {
    "duration": 23,
    "start_time": "2024-03-19T17:26:45.071Z"
   },
   {
    "duration": 20,
    "start_time": "2024-03-19T17:26:47.470Z"
   },
   {
    "duration": 440,
    "start_time": "2024-03-19T17:29:31.345Z"
   },
   {
    "duration": 78,
    "start_time": "2024-03-19T17:29:51.903Z"
   },
   {
    "duration": 429,
    "start_time": "2024-03-19T17:30:05.312Z"
   },
   {
    "duration": 394,
    "start_time": "2024-03-19T17:30:11.491Z"
   },
   {
    "duration": 373,
    "start_time": "2024-03-19T17:30:16.323Z"
   },
   {
    "duration": 570,
    "start_time": "2024-03-19T17:30:23.508Z"
   },
   {
    "duration": 532,
    "start_time": "2024-03-19T17:30:30.687Z"
   },
   {
    "duration": 521,
    "start_time": "2024-03-19T17:31:45.748Z"
   },
   {
    "duration": 1603,
    "start_time": "2024-03-19T17:32:46.282Z"
   },
   {
    "duration": 246,
    "start_time": "2024-03-19T17:33:41.124Z"
   },
   {
    "duration": 196,
    "start_time": "2024-03-19T17:33:49.684Z"
   },
   {
    "duration": 161,
    "start_time": "2024-03-19T17:33:54.380Z"
   },
   {
    "duration": 179,
    "start_time": "2024-03-19T17:33:58.432Z"
   },
   {
    "duration": 163,
    "start_time": "2024-03-19T17:34:22.367Z"
   },
   {
    "duration": 260,
    "start_time": "2024-03-19T17:34:40.097Z"
   },
   {
    "duration": 171,
    "start_time": "2024-03-19T17:34:43.725Z"
   },
   {
    "duration": 170,
    "start_time": "2024-03-19T17:34:55.466Z"
   },
   {
    "duration": 181,
    "start_time": "2024-03-19T17:35:00.437Z"
   },
   {
    "duration": 134,
    "start_time": "2024-03-19T17:35:09.155Z"
   },
   {
    "duration": 169,
    "start_time": "2024-03-19T17:35:12.903Z"
   },
   {
    "duration": 138,
    "start_time": "2024-03-19T17:35:17.283Z"
   },
   {
    "duration": 163,
    "start_time": "2024-03-19T17:35:20.408Z"
   },
   {
    "duration": 163,
    "start_time": "2024-03-19T17:44:33.350Z"
   },
   {
    "duration": 213,
    "start_time": "2024-03-19T17:46:25.932Z"
   },
   {
    "duration": 176,
    "start_time": "2024-03-19T17:46:30.877Z"
   },
   {
    "duration": 216,
    "start_time": "2024-03-19T17:46:38.672Z"
   },
   {
    "duration": 210,
    "start_time": "2024-03-19T17:46:48.524Z"
   },
   {
    "duration": 197,
    "start_time": "2024-03-19T17:46:52.204Z"
   },
   {
    "duration": 212,
    "start_time": "2024-03-19T17:47:07.124Z"
   },
   {
    "duration": 364,
    "start_time": "2024-03-19T17:47:14.930Z"
   },
   {
    "duration": 188,
    "start_time": "2024-03-19T17:47:19.466Z"
   },
   {
    "duration": 186,
    "start_time": "2024-03-19T17:47:22.981Z"
   },
   {
    "duration": 215,
    "start_time": "2024-03-19T17:47:26.810Z"
   },
   {
    "duration": 222,
    "start_time": "2024-03-19T17:47:30.805Z"
   },
   {
    "duration": 226,
    "start_time": "2024-03-19T17:47:55.469Z"
   },
   {
    "duration": 249,
    "start_time": "2024-03-19T17:48:09.608Z"
   },
   {
    "duration": 3,
    "start_time": "2024-03-19T18:22:37.920Z"
   },
   {
    "duration": 28,
    "start_time": "2024-03-19T18:22:38.208Z"
   },
   {
    "duration": 30,
    "start_time": "2024-03-19T18:22:38.342Z"
   },
   {
    "duration": 20,
    "start_time": "2024-03-19T18:22:38.486Z"
   },
   {
    "duration": 11,
    "start_time": "2024-03-19T18:22:38.764Z"
   },
   {
    "duration": 10,
    "start_time": "2024-03-19T18:22:38.903Z"
   },
   {
    "duration": 19,
    "start_time": "2024-03-19T18:22:39.386Z"
   },
   {
    "duration": 11,
    "start_time": "2024-03-19T18:22:39.637Z"
   },
   {
    "duration": 12,
    "start_time": "2024-03-19T18:22:39.918Z"
   },
   {
    "duration": 11,
    "start_time": "2024-03-19T18:22:40.565Z"
   },
   {
    "duration": 19,
    "start_time": "2024-03-19T18:22:40.948Z"
   },
   {
    "duration": 20,
    "start_time": "2024-03-19T18:22:41.214Z"
   },
   {
    "duration": 221,
    "start_time": "2024-03-19T18:22:41.618Z"
   },
   {
    "duration": 244,
    "start_time": "2024-03-19T18:22:43.503Z"
   },
   {
    "duration": 258,
    "start_time": "2024-03-19T18:22:43.748Z"
   },
   {
    "duration": 77,
    "start_time": "2024-03-19T18:32:47.028Z"
   },
   {
    "duration": 28,
    "start_time": "2024-03-19T18:33:01.235Z"
   },
   {
    "duration": 31,
    "start_time": "2024-03-19T18:33:21.825Z"
   },
   {
    "duration": 24,
    "start_time": "2024-03-19T18:33:31.989Z"
   },
   {
    "duration": 27,
    "start_time": "2024-03-19T18:34:23.459Z"
   },
   {
    "duration": 22,
    "start_time": "2024-03-19T18:34:43.963Z"
   },
   {
    "duration": 3,
    "start_time": "2024-03-19T19:28:29.736Z"
   },
   {
    "duration": 9,
    "start_time": "2024-03-19T19:29:15.051Z"
   },
   {
    "duration": 3,
    "start_time": "2024-03-19T19:29:36.147Z"
   },
   {
    "duration": 29,
    "start_time": "2024-03-19T19:29:36.211Z"
   },
   {
    "duration": 30,
    "start_time": "2024-03-19T19:29:36.242Z"
   },
   {
    "duration": 18,
    "start_time": "2024-03-19T19:29:36.279Z"
   },
   {
    "duration": 21,
    "start_time": "2024-03-19T19:29:36.341Z"
   },
   {
    "duration": 10,
    "start_time": "2024-03-19T19:29:36.875Z"
   },
   {
    "duration": 8,
    "start_time": "2024-03-19T19:29:37.066Z"
   },
   {
    "duration": 11,
    "start_time": "2024-03-19T19:29:37.380Z"
   },
   {
    "duration": 12,
    "start_time": "2024-03-19T19:29:37.815Z"
   },
   {
    "duration": 11,
    "start_time": "2024-03-19T19:29:38.433Z"
   },
   {
    "duration": 29,
    "start_time": "2024-03-19T19:29:38.978Z"
   },
   {
    "duration": 22,
    "start_time": "2024-03-19T19:29:39.668Z"
   },
   {
    "duration": 238,
    "start_time": "2024-03-19T19:29:40.672Z"
   },
   {
    "duration": 257,
    "start_time": "2024-03-19T19:29:41.047Z"
   },
   {
    "duration": 414,
    "start_time": "2024-03-19T19:29:41.571Z"
   },
   {
    "duration": 3,
    "start_time": "2024-03-19T19:29:44.969Z"
   },
   {
    "duration": 3,
    "start_time": "2024-03-19T19:29:52.215Z"
   },
   {
    "duration": 7,
    "start_time": "2024-03-19T19:33:52.036Z"
   },
   {
    "duration": 13,
    "start_time": "2024-03-19T19:34:15.100Z"
   },
   {
    "duration": 4,
    "start_time": "2024-03-19T19:34:45.805Z"
   },
   {
    "duration": 8,
    "start_time": "2024-03-19T19:52:45.755Z"
   },
   {
    "duration": 7,
    "start_time": "2024-03-19T19:52:52.104Z"
   },
   {
    "duration": 5,
    "start_time": "2024-03-19T19:53:14.195Z"
   },
   {
    "duration": 4,
    "start_time": "2024-03-19T20:15:33.533Z"
   },
   {
    "duration": 14,
    "start_time": "2024-03-19T20:17:03.836Z"
   },
   {
    "duration": 3,
    "start_time": "2024-03-19T20:24:52.104Z"
   },
   {
    "duration": 6,
    "start_time": "2024-03-19T20:24:53.265Z"
   },
   {
    "duration": 4,
    "start_time": "2024-03-19T20:25:25.057Z"
   },
   {
    "duration": 6,
    "start_time": "2024-03-19T20:25:28.833Z"
   },
   {
    "duration": 3,
    "start_time": "2024-03-19T20:26:11.816Z"
   },
   {
    "duration": 7,
    "start_time": "2024-03-19T20:26:13.164Z"
   },
   {
    "duration": 9,
    "start_time": "2024-03-19T20:27:02.655Z"
   },
   {
    "duration": 9,
    "start_time": "2024-03-19T20:27:08.887Z"
   },
   {
    "duration": 225,
    "start_time": "2024-03-19T20:35:34.601Z"
   },
   {
    "duration": 844,
    "start_time": "2024-03-20T07:02:48.562Z"
   },
   {
    "duration": 76,
    "start_time": "2024-03-20T07:02:49.408Z"
   },
   {
    "duration": 69,
    "start_time": "2024-03-20T07:02:49.657Z"
   },
   {
    "duration": 54,
    "start_time": "2024-03-20T07:02:50.213Z"
   },
   {
    "duration": 14,
    "start_time": "2024-03-20T07:02:51.969Z"
   },
   {
    "duration": 11,
    "start_time": "2024-03-20T07:02:53.798Z"
   },
   {
    "duration": 11,
    "start_time": "2024-03-20T07:02:54.753Z"
   },
   {
    "duration": 11,
    "start_time": "2024-03-20T07:02:55.207Z"
   },
   {
    "duration": 11,
    "start_time": "2024-03-20T07:02:55.586Z"
   },
   {
    "duration": 13,
    "start_time": "2024-03-20T07:02:56.769Z"
   },
   {
    "duration": 19,
    "start_time": "2024-03-20T07:02:58.371Z"
   },
   {
    "duration": 61,
    "start_time": "2024-03-20T07:02:59.245Z"
   },
   {
    "duration": 203,
    "start_time": "2024-03-20T07:03:00.468Z"
   },
   {
    "duration": 251,
    "start_time": "2024-03-20T07:03:00.897Z"
   },
   {
    "duration": 232,
    "start_time": "2024-03-20T07:03:01.375Z"
   },
   {
    "duration": 3,
    "start_time": "2024-03-20T07:03:04.417Z"
   },
   {
    "duration": 5,
    "start_time": "2024-03-20T07:03:05.221Z"
   },
   {
    "duration": 10,
    "start_time": "2024-03-20T07:03:05.456Z"
   },
   {
    "duration": 3,
    "start_time": "2024-03-20T07:03:07.727Z"
   },
   {
    "duration": 8,
    "start_time": "2024-03-20T07:03:08.364Z"
   },
   {
    "duration": 8,
    "start_time": "2024-03-20T07:03:08.783Z"
   },
   {
    "duration": 271,
    "start_time": "2024-03-20T07:04:35.276Z"
   },
   {
    "duration": 178,
    "start_time": "2024-03-20T07:04:44.421Z"
   },
   {
    "duration": 173,
    "start_time": "2024-03-20T07:04:49.160Z"
   },
   {
    "duration": 179,
    "start_time": "2024-03-20T07:05:01.129Z"
   },
   {
    "duration": 150,
    "start_time": "2024-03-20T07:05:04.348Z"
   },
   {
    "duration": 160,
    "start_time": "2024-03-20T07:05:08.371Z"
   },
   {
    "duration": 191,
    "start_time": "2024-03-20T07:05:21.188Z"
   },
   {
    "duration": 152,
    "start_time": "2024-03-20T07:05:26.376Z"
   },
   {
    "duration": 164,
    "start_time": "2024-03-20T07:05:40.118Z"
   },
   {
    "duration": 226,
    "start_time": "2024-03-20T07:06:05.919Z"
   },
   {
    "duration": 296,
    "start_time": "2024-03-20T07:06:17.950Z"
   },
   {
    "duration": 190,
    "start_time": "2024-03-20T07:06:24.308Z"
   },
   {
    "duration": 200,
    "start_time": "2024-03-20T07:06:30.219Z"
   },
   {
    "duration": 177,
    "start_time": "2024-03-20T07:06:37.563Z"
   },
   {
    "duration": 164,
    "start_time": "2024-03-20T07:06:45.297Z"
   },
   {
    "duration": 185,
    "start_time": "2024-03-20T07:07:22.512Z"
   },
   {
    "duration": 3,
    "start_time": "2024-03-20T08:00:20.052Z"
   },
   {
    "duration": 31,
    "start_time": "2024-03-20T08:00:20.514Z"
   },
   {
    "duration": 28,
    "start_time": "2024-03-20T08:00:20.943Z"
   },
   {
    "duration": 16,
    "start_time": "2024-03-20T08:00:21.283Z"
   },
   {
    "duration": 9,
    "start_time": "2024-03-20T08:00:22.313Z"
   },
   {
    "duration": 10,
    "start_time": "2024-03-20T08:00:22.496Z"
   },
   {
    "duration": 6,
    "start_time": "2024-03-20T08:00:22.681Z"
   },
   {
    "duration": 12,
    "start_time": "2024-03-20T08:00:23.968Z"
   },
   {
    "duration": 11,
    "start_time": "2024-03-20T08:00:24.930Z"
   },
   {
    "duration": 10,
    "start_time": "2024-03-20T08:00:25.516Z"
   },
   {
    "duration": 21,
    "start_time": "2024-03-20T08:00:26.650Z"
   },
   {
    "duration": 23,
    "start_time": "2024-03-20T08:00:27.309Z"
   },
   {
    "duration": 181,
    "start_time": "2024-03-20T08:00:28.344Z"
   },
   {
    "duration": 205,
    "start_time": "2024-03-20T08:00:29.093Z"
   },
   {
    "duration": 212,
    "start_time": "2024-03-20T08:00:29.559Z"
   },
   {
    "duration": 3,
    "start_time": "2024-03-20T08:00:32.487Z"
   },
   {
    "duration": 6,
    "start_time": "2024-03-20T08:00:33.224Z"
   },
   {
    "duration": 8,
    "start_time": "2024-03-20T08:00:33.399Z"
   },
   {
    "duration": 3,
    "start_time": "2024-03-20T08:00:34.410Z"
   },
   {
    "duration": 8,
    "start_time": "2024-03-20T08:00:34.763Z"
   },
   {
    "duration": 9,
    "start_time": "2024-03-20T08:00:35.178Z"
   },
   {
    "duration": 198,
    "start_time": "2024-03-20T08:00:35.845Z"
   },
   {
    "duration": 268,
    "start_time": "2024-03-20T08:10:19.949Z"
   },
   {
    "duration": 164,
    "start_time": "2024-03-20T08:10:29.623Z"
   },
   {
    "duration": 68,
    "start_time": "2024-03-20T08:11:25.544Z"
   },
   {
    "duration": 13,
    "start_time": "2024-03-20T08:11:53.471Z"
   },
   {
    "duration": 13,
    "start_time": "2024-03-20T08:12:59.786Z"
   },
   {
    "duration": 12,
    "start_time": "2024-03-20T08:13:54.889Z"
   },
   {
    "duration": 16,
    "start_time": "2024-03-20T08:14:22.677Z"
   },
   {
    "duration": 13,
    "start_time": "2024-03-20T08:14:58.062Z"
   },
   {
    "duration": 12,
    "start_time": "2024-03-20T08:15:36.438Z"
   },
   {
    "duration": 7,
    "start_time": "2024-03-20T08:15:56.148Z"
   },
   {
    "duration": 7,
    "start_time": "2024-03-20T08:16:13.657Z"
   },
   {
    "duration": 6,
    "start_time": "2024-03-20T08:25:17.944Z"
   },
   {
    "duration": 5,
    "start_time": "2024-03-20T08:25:25.373Z"
   },
   {
    "duration": 100,
    "start_time": "2024-03-20T08:28:03.629Z"
   },
   {
    "duration": 83,
    "start_time": "2024-03-20T08:28:25.434Z"
   },
   {
    "duration": 5,
    "start_time": "2024-03-20T08:30:03.005Z"
   },
   {
    "duration": 6,
    "start_time": "2024-03-20T08:31:52.050Z"
   },
   {
    "duration": 6,
    "start_time": "2024-03-20T08:31:58.111Z"
   },
   {
    "duration": 793,
    "start_time": "2024-03-20T09:02:38.620Z"
   },
   {
    "duration": 3,
    "start_time": "2024-03-20T09:03:19.510Z"
   },
   {
    "duration": 31,
    "start_time": "2024-03-20T09:03:19.569Z"
   },
   {
    "duration": 28,
    "start_time": "2024-03-20T09:03:19.608Z"
   },
   {
    "duration": 16,
    "start_time": "2024-03-20T09:03:19.639Z"
   },
   {
    "duration": 11,
    "start_time": "2024-03-20T09:03:19.694Z"
   },
   {
    "duration": 10,
    "start_time": "2024-03-20T09:03:19.745Z"
   },
   {
    "duration": 31,
    "start_time": "2024-03-20T09:03:19.760Z"
   },
   {
    "duration": 12,
    "start_time": "2024-03-20T09:03:19.821Z"
   },
   {
    "duration": 12,
    "start_time": "2024-03-20T09:03:19.878Z"
   },
   {
    "duration": 10,
    "start_time": "2024-03-20T09:03:19.939Z"
   },
   {
    "duration": 19,
    "start_time": "2024-03-20T09:03:20.034Z"
   },
   {
    "duration": 20,
    "start_time": "2024-03-20T09:03:20.097Z"
   },
   {
    "duration": 183,
    "start_time": "2024-03-20T09:03:20.185Z"
   },
   {
    "duration": 214,
    "start_time": "2024-03-20T09:03:20.369Z"
   },
   {
    "duration": 244,
    "start_time": "2024-03-20T09:03:20.584Z"
   },
   {
    "duration": 3,
    "start_time": "2024-03-20T09:03:21.132Z"
   },
   {
    "duration": 5,
    "start_time": "2024-03-20T09:03:21.193Z"
   },
   {
    "duration": 8,
    "start_time": "2024-03-20T09:03:21.226Z"
   },
   {
    "duration": 3,
    "start_time": "2024-03-20T09:03:21.349Z"
   },
   {
    "duration": 6,
    "start_time": "2024-03-20T09:03:21.374Z"
   },
   {
    "duration": 8,
    "start_time": "2024-03-20T09:03:21.410Z"
   },
   {
    "duration": 153,
    "start_time": "2024-03-20T09:03:21.467Z"
   },
   {
    "duration": 7,
    "start_time": "2024-03-20T09:03:21.621Z"
   },
   {
    "duration": 816,
    "start_time": "2024-03-21T04:21:39.532Z"
   },
   {
    "duration": 102,
    "start_time": "2024-03-21T04:21:40.351Z"
   },
   {
    "duration": 150,
    "start_time": "2024-03-21T04:21:40.455Z"
   },
   {
    "duration": 57,
    "start_time": "2024-03-21T04:21:40.607Z"
   },
   {
    "duration": 14,
    "start_time": "2024-03-21T04:21:41.354Z"
   },
   {
    "duration": 10,
    "start_time": "2024-03-21T04:21:41.667Z"
   },
   {
    "duration": 6,
    "start_time": "2024-03-21T04:21:42.369Z"
   },
   {
    "duration": 19,
    "start_time": "2024-03-21T04:21:43.852Z"
   },
   {
    "duration": 12,
    "start_time": "2024-03-21T04:21:44.281Z"
   },
   {
    "duration": 10,
    "start_time": "2024-03-21T04:21:44.920Z"
   },
   {
    "duration": 17,
    "start_time": "2024-03-21T04:21:45.737Z"
   },
   {
    "duration": 55,
    "start_time": "2024-03-21T04:21:46.356Z"
   },
   {
    "duration": 210,
    "start_time": "2024-03-21T04:21:47.233Z"
   },
   {
    "duration": 205,
    "start_time": "2024-03-21T04:21:47.522Z"
   },
   {
    "duration": 219,
    "start_time": "2024-03-21T04:21:47.753Z"
   },
   {
    "duration": 3,
    "start_time": "2024-03-21T04:21:50.275Z"
   },
   {
    "duration": 6,
    "start_time": "2024-03-21T04:21:50.899Z"
   },
   {
    "duration": 8,
    "start_time": "2024-03-21T04:21:51.068Z"
   },
   {
    "duration": 3,
    "start_time": "2024-03-21T04:21:52.097Z"
   },
   {
    "duration": 7,
    "start_time": "2024-03-21T04:21:52.324Z"
   },
   {
    "duration": 9,
    "start_time": "2024-03-21T04:21:52.728Z"
   },
   {
    "duration": 227,
    "start_time": "2024-03-21T04:21:53.372Z"
   },
   {
    "duration": 7,
    "start_time": "2024-03-21T04:21:55.295Z"
   },
   {
    "duration": 9,
    "start_time": "2024-03-21T04:28:47.103Z"
   },
   {
    "duration": 4,
    "start_time": "2024-03-21T04:35:51.275Z"
   },
   {
    "duration": 9,
    "start_time": "2024-03-21T04:36:08.027Z"
   },
   {
    "duration": 5,
    "start_time": "2024-03-21T04:37:59.341Z"
   },
   {
    "duration": 10,
    "start_time": "2024-03-21T04:38:00.644Z"
   },
   {
    "duration": 4,
    "start_time": "2024-03-21T04:41:59.431Z"
   },
   {
    "duration": 11,
    "start_time": "2024-03-21T04:42:00.178Z"
   },
   {
    "duration": 3,
    "start_time": "2024-03-21T04:42:31.745Z"
   },
   {
    "duration": 30,
    "start_time": "2024-03-21T04:42:32.270Z"
   },
   {
    "duration": 28,
    "start_time": "2024-03-21T04:42:32.585Z"
   },
   {
    "duration": 15,
    "start_time": "2024-03-21T04:42:32.796Z"
   },
   {
    "duration": 10,
    "start_time": "2024-03-21T04:42:33.166Z"
   },
   {
    "duration": 10,
    "start_time": "2024-03-21T04:42:33.385Z"
   },
   {
    "duration": 6,
    "start_time": "2024-03-21T04:42:33.919Z"
   },
   {
    "duration": 11,
    "start_time": "2024-03-21T04:42:34.704Z"
   },
   {
    "duration": 11,
    "start_time": "2024-03-21T04:42:35.313Z"
   },
   {
    "duration": 10,
    "start_time": "2024-03-21T04:42:35.808Z"
   },
   {
    "duration": 18,
    "start_time": "2024-03-21T04:42:36.455Z"
   },
   {
    "duration": 21,
    "start_time": "2024-03-21T04:42:37.355Z"
   },
   {
    "duration": 187,
    "start_time": "2024-03-21T04:42:38.244Z"
   },
   {
    "duration": 210,
    "start_time": "2024-03-21T04:42:38.496Z"
   },
   {
    "duration": 218,
    "start_time": "2024-03-21T04:42:38.870Z"
   },
   {
    "duration": 3,
    "start_time": "2024-03-21T04:42:41.534Z"
   },
   {
    "duration": 5,
    "start_time": "2024-03-21T04:42:42.678Z"
   },
   {
    "duration": 8,
    "start_time": "2024-03-21T04:42:42.846Z"
   },
   {
    "duration": 4,
    "start_time": "2024-03-21T04:42:43.626Z"
   },
   {
    "duration": 7,
    "start_time": "2024-03-21T04:42:44.100Z"
   },
   {
    "duration": 8,
    "start_time": "2024-03-21T04:42:44.314Z"
   },
   {
    "duration": 169,
    "start_time": "2024-03-21T04:42:45.023Z"
   },
   {
    "duration": 7,
    "start_time": "2024-03-21T04:42:45.961Z"
   },
   {
    "duration": 5,
    "start_time": "2024-03-21T04:42:50.257Z"
   },
   {
    "duration": 10,
    "start_time": "2024-03-21T04:42:52.791Z"
   },
   {
    "duration": 9,
    "start_time": "2024-03-21T04:46:12.290Z"
   },
   {
    "duration": 7,
    "start_time": "2024-03-21T04:46:27.871Z"
   },
   {
    "duration": 6,
    "start_time": "2024-03-21T04:46:41.453Z"
   },
   {
    "duration": 10,
    "start_time": "2024-03-21T04:47:56.857Z"
   },
   {
    "duration": 7,
    "start_time": "2024-03-21T04:48:45.385Z"
   },
   {
    "duration": 6,
    "start_time": "2024-03-21T04:49:14.026Z"
   },
   {
    "duration": 7,
    "start_time": "2024-03-21T04:49:34.562Z"
   },
   {
    "duration": 4,
    "start_time": "2024-03-21T04:50:42.419Z"
   },
   {
    "duration": 4,
    "start_time": "2024-03-21T04:51:11.998Z"
   },
   {
    "duration": 3,
    "start_time": "2024-03-21T04:51:15.974Z"
   },
   {
    "duration": 4,
    "start_time": "2024-03-21T04:51:32.237Z"
   },
   {
    "duration": 3,
    "start_time": "2024-03-21T04:51:38.780Z"
   },
   {
    "duration": 3,
    "start_time": "2024-03-21T04:51:52.430Z"
   },
   {
    "duration": 3,
    "start_time": "2024-03-21T04:52:27.184Z"
   },
   {
    "duration": 9,
    "start_time": "2024-03-21T05:15:30.897Z"
   },
   {
    "duration": 10,
    "start_time": "2024-03-21T05:15:41.615Z"
   },
   {
    "duration": 85,
    "start_time": "2024-03-21T05:16:19.166Z"
   },
   {
    "duration": 12,
    "start_time": "2024-03-21T05:16:30.796Z"
   },
   {
    "duration": 8,
    "start_time": "2024-03-21T05:16:36.234Z"
   },
   {
    "duration": 15,
    "start_time": "2024-03-21T05:20:51.756Z"
   },
   {
    "duration": 16,
    "start_time": "2024-03-21T05:22:51.606Z"
   },
   {
    "duration": 15,
    "start_time": "2024-03-21T05:22:58.831Z"
   },
   {
    "duration": 1519,
    "start_time": "2024-03-21T05:27:25.403Z"
   },
   {
    "duration": 95,
    "start_time": "2024-03-21T05:27:40.513Z"
   },
   {
    "duration": 111,
    "start_time": "2024-03-21T05:28:45.405Z"
   },
   {
    "duration": 95,
    "start_time": "2024-03-21T05:28:56.705Z"
   },
   {
    "duration": 98,
    "start_time": "2024-03-21T05:29:11.740Z"
   },
   {
    "duration": 104,
    "start_time": "2024-03-21T05:29:16.233Z"
   },
   {
    "duration": 165,
    "start_time": "2024-03-21T05:29:28.362Z"
   },
   {
    "duration": 7,
    "start_time": "2024-03-21T05:56:54.544Z"
   },
   {
    "duration": 230,
    "start_time": "2024-03-21T06:02:38.936Z"
   },
   {
    "duration": 3,
    "start_time": "2024-03-21T06:12:01.185Z"
   },
   {
    "duration": 31,
    "start_time": "2024-03-21T06:12:01.565Z"
   },
   {
    "duration": 28,
    "start_time": "2024-03-21T06:12:01.728Z"
   },
   {
    "duration": 16,
    "start_time": "2024-03-21T06:12:01.901Z"
   },
   {
    "duration": 10,
    "start_time": "2024-03-21T06:12:02.244Z"
   },
   {
    "duration": 10,
    "start_time": "2024-03-21T06:12:02.440Z"
   },
   {
    "duration": 7,
    "start_time": "2024-03-21T06:12:02.583Z"
   },
   {
    "duration": 10,
    "start_time": "2024-03-21T06:12:03.112Z"
   },
   {
    "duration": 12,
    "start_time": "2024-03-21T06:12:03.467Z"
   },
   {
    "duration": 11,
    "start_time": "2024-03-21T06:12:03.795Z"
   },
   {
    "duration": 18,
    "start_time": "2024-03-21T06:12:06.168Z"
   },
   {
    "duration": 20,
    "start_time": "2024-03-21T06:12:06.610Z"
   },
   {
    "duration": 194,
    "start_time": "2024-03-21T06:12:07.582Z"
   },
   {
    "duration": 231,
    "start_time": "2024-03-21T06:12:07.778Z"
   },
   {
    "duration": 234,
    "start_time": "2024-03-21T06:12:08.010Z"
   },
   {
    "duration": 3,
    "start_time": "2024-03-21T06:12:09.426Z"
   },
   {
    "duration": 5,
    "start_time": "2024-03-21T06:12:09.486Z"
   },
   {
    "duration": 8,
    "start_time": "2024-03-21T06:12:09.521Z"
   },
   {
    "duration": 3,
    "start_time": "2024-03-21T06:12:09.652Z"
   },
   {
    "duration": 7,
    "start_time": "2024-03-21T06:12:09.673Z"
   },
   {
    "duration": 9,
    "start_time": "2024-03-21T06:12:09.702Z"
   },
   {
    "duration": 167,
    "start_time": "2024-03-21T06:12:09.807Z"
   },
   {
    "duration": 7,
    "start_time": "2024-03-21T06:12:09.976Z"
   },
   {
    "duration": 5,
    "start_time": "2024-03-21T06:12:09.987Z"
   },
   {
    "duration": 7,
    "start_time": "2024-03-21T06:12:10.061Z"
   },
   {
    "duration": 6,
    "start_time": "2024-03-21T06:12:10.103Z"
   },
   {
    "duration": 13,
    "start_time": "2024-03-21T06:12:10.128Z"
   },
   {
    "duration": 8,
    "start_time": "2024-03-21T06:12:10.193Z"
   },
   {
    "duration": 94,
    "start_time": "2024-03-21T06:12:10.263Z"
   },
   {
    "duration": 109,
    "start_time": "2024-03-21T06:12:10.359Z"
   },
   {
    "duration": 5,
    "start_time": "2024-03-21T06:12:10.469Z"
   },
   {
    "duration": 223,
    "start_time": "2024-03-21T06:12:10.487Z"
   },
   {
    "duration": 3,
    "start_time": "2024-03-21T06:12:40.712Z"
   },
   {
    "duration": 29,
    "start_time": "2024-03-21T06:12:41.125Z"
   },
   {
    "duration": 29,
    "start_time": "2024-03-21T06:12:41.221Z"
   },
   {
    "duration": 16,
    "start_time": "2024-03-21T06:12:41.420Z"
   },
   {
    "duration": 10,
    "start_time": "2024-03-21T06:12:41.859Z"
   },
   {
    "duration": 10,
    "start_time": "2024-03-21T06:12:42.063Z"
   },
   {
    "duration": 7,
    "start_time": "2024-03-21T06:12:42.268Z"
   },
   {
    "duration": 10,
    "start_time": "2024-03-21T06:12:43.086Z"
   },
   {
    "duration": 11,
    "start_time": "2024-03-21T06:12:43.538Z"
   },
   {
    "duration": 10,
    "start_time": "2024-03-21T06:12:44.111Z"
   },
   {
    "duration": 17,
    "start_time": "2024-03-21T06:12:45.141Z"
   },
   {
    "duration": 21,
    "start_time": "2024-03-21T06:12:45.749Z"
   },
   {
    "duration": 268,
    "start_time": "2024-03-21T06:12:47.249Z"
   },
   {
    "duration": 226,
    "start_time": "2024-03-21T06:12:48.214Z"
   },
   {
    "duration": 221,
    "start_time": "2024-03-21T06:12:48.890Z"
   },
   {
    "duration": 3,
    "start_time": "2024-03-21T06:12:51.571Z"
   },
   {
    "duration": 6,
    "start_time": "2024-03-21T06:12:52.087Z"
   },
   {
    "duration": 9,
    "start_time": "2024-03-21T06:12:52.738Z"
   },
   {
    "duration": 3,
    "start_time": "2024-03-21T06:12:53.964Z"
   },
   {
    "duration": 8,
    "start_time": "2024-03-21T06:12:54.423Z"
   },
   {
    "duration": 9,
    "start_time": "2024-03-21T06:12:54.736Z"
   },
   {
    "duration": 165,
    "start_time": "2024-03-21T06:12:56.580Z"
   },
   {
    "duration": 7,
    "start_time": "2024-03-21T06:12:57.827Z"
   },
   {
    "duration": 4,
    "start_time": "2024-03-21T06:12:59.727Z"
   },
   {
    "duration": 6,
    "start_time": "2024-03-21T06:13:00.548Z"
   },
   {
    "duration": 8,
    "start_time": "2024-03-21T06:13:00.861Z"
   },
   {
    "duration": 4,
    "start_time": "2024-03-21T06:13:01.818Z"
   },
   {
    "duration": 10,
    "start_time": "2024-03-21T06:13:03.824Z"
   },
   {
    "duration": 96,
    "start_time": "2024-03-21T06:13:05.206Z"
   },
   {
    "duration": 96,
    "start_time": "2024-03-21T06:13:06.285Z"
   },
   {
    "duration": 5,
    "start_time": "2024-03-21T06:13:09.359Z"
   },
   {
    "duration": 222,
    "start_time": "2024-03-21T06:13:10.991Z"
   },
   {
    "duration": 19,
    "start_time": "2024-03-21T06:19:40.526Z"
   },
   {
    "duration": 4,
    "start_time": "2024-03-21T06:20:01.092Z"
   },
   {
    "duration": 118,
    "start_time": "2024-03-21T06:20:35.195Z"
   },
   {
    "duration": 147,
    "start_time": "2024-03-21T06:20:38.346Z"
   },
   {
    "duration": 101,
    "start_time": "2024-03-21T06:21:00.688Z"
   },
   {
    "duration": 97,
    "start_time": "2024-03-21T06:21:56.659Z"
   },
   {
    "duration": 8,
    "start_time": "2024-03-21T06:22:19.790Z"
   },
   {
    "duration": 9,
    "start_time": "2024-03-21T06:22:31.219Z"
   },
   {
    "duration": 7,
    "start_time": "2024-03-21T06:23:23.826Z"
   },
   {
    "duration": 3,
    "start_time": "2024-03-21T06:23:39.506Z"
   },
   {
    "duration": 3,
    "start_time": "2024-03-21T06:24:55.322Z"
   },
   {
    "duration": 4,
    "start_time": "2024-03-21T06:25:17.878Z"
   },
   {
    "duration": 834,
    "start_time": "2024-03-21T08:26:41.440Z"
   },
   {
    "duration": 88,
    "start_time": "2024-03-21T08:26:42.276Z"
   },
   {
    "duration": 77,
    "start_time": "2024-03-21T08:26:42.469Z"
   },
   {
    "duration": 53,
    "start_time": "2024-03-21T08:26:42.798Z"
   },
   {
    "duration": 15,
    "start_time": "2024-03-21T08:26:43.491Z"
   },
   {
    "duration": 14,
    "start_time": "2024-03-21T08:26:43.768Z"
   },
   {
    "duration": 8,
    "start_time": "2024-03-21T08:26:44.345Z"
   },
   {
    "duration": 12,
    "start_time": "2024-03-21T08:26:45.090Z"
   },
   {
    "duration": 11,
    "start_time": "2024-03-21T08:26:45.933Z"
   },
   {
    "duration": 11,
    "start_time": "2024-03-21T08:26:46.738Z"
   },
   {
    "duration": 24,
    "start_time": "2024-03-21T08:26:47.906Z"
   },
   {
    "duration": 59,
    "start_time": "2024-03-21T08:26:48.662Z"
   },
   {
    "duration": 197,
    "start_time": "2024-03-21T08:26:50.087Z"
   },
   {
    "duration": 223,
    "start_time": "2024-03-21T08:26:50.292Z"
   },
   {
    "duration": 233,
    "start_time": "2024-03-21T08:26:50.814Z"
   },
   {
    "duration": 2,
    "start_time": "2024-03-21T08:26:54.764Z"
   },
   {
    "duration": 6,
    "start_time": "2024-03-21T08:26:55.738Z"
   },
   {
    "duration": 8,
    "start_time": "2024-03-21T08:26:56.078Z"
   },
   {
    "duration": 4,
    "start_time": "2024-03-21T08:26:57.707Z"
   },
   {
    "duration": 6,
    "start_time": "2024-03-21T08:26:58.263Z"
   },
   {
    "duration": 9,
    "start_time": "2024-03-21T08:26:58.618Z"
   },
   {
    "duration": 239,
    "start_time": "2024-03-21T08:26:59.683Z"
   },
   {
    "duration": 7,
    "start_time": "2024-03-21T08:27:00.470Z"
   },
   {
    "duration": 6,
    "start_time": "2024-03-21T08:27:01.991Z"
   },
   {
    "duration": 6,
    "start_time": "2024-03-21T08:27:02.903Z"
   },
   {
    "duration": 8,
    "start_time": "2024-03-21T08:27:03.135Z"
   },
   {
    "duration": 4,
    "start_time": "2024-03-21T08:27:03.599Z"
   },
   {
    "duration": 8,
    "start_time": "2024-03-21T08:27:05.043Z"
   },
   {
    "duration": 98,
    "start_time": "2024-03-21T08:27:05.911Z"
   },
   {
    "duration": 97,
    "start_time": "2024-03-21T08:27:06.442Z"
   },
   {
    "duration": 5,
    "start_time": "2024-03-21T08:27:07.627Z"
   },
   {
    "duration": 236,
    "start_time": "2024-03-21T08:27:08.750Z"
   },
   {
    "duration": 4,
    "start_time": "2024-03-21T08:27:11.027Z"
   },
   {
    "duration": 3,
    "start_time": "2024-03-21T08:33:42.097Z"
   },
   {
    "duration": 8,
    "start_time": "2024-03-21T08:38:38.161Z"
   },
   {
    "duration": 12,
    "start_time": "2024-03-21T08:38:57.402Z"
   },
   {
    "duration": 5,
    "start_time": "2024-03-21T08:47:00.569Z"
   },
   {
    "duration": 12,
    "start_time": "2024-03-21T08:47:13.887Z"
   },
   {
    "duration": 3,
    "start_time": "2024-03-21T08:47:39.672Z"
   },
   {
    "duration": 29,
    "start_time": "2024-03-21T08:47:40.326Z"
   },
   {
    "duration": 28,
    "start_time": "2024-03-21T08:47:41.311Z"
   },
   {
    "duration": 26,
    "start_time": "2024-03-21T08:47:41.513Z"
   },
   {
    "duration": 15,
    "start_time": "2024-03-21T08:47:42.177Z"
   },
   {
    "duration": 11,
    "start_time": "2024-03-21T08:47:42.469Z"
   },
   {
    "duration": 8,
    "start_time": "2024-03-21T08:47:42.696Z"
   },
   {
    "duration": 11,
    "start_time": "2024-03-21T08:47:43.178Z"
   },
   {
    "duration": 11,
    "start_time": "2024-03-21T08:47:43.584Z"
   },
   {
    "duration": 11,
    "start_time": "2024-03-21T08:47:43.985Z"
   },
   {
    "duration": 19,
    "start_time": "2024-03-21T08:47:44.761Z"
   },
   {
    "duration": 20,
    "start_time": "2024-03-21T08:47:45.442Z"
   },
   {
    "duration": 203,
    "start_time": "2024-03-21T08:47:46.301Z"
   },
   {
    "duration": 231,
    "start_time": "2024-03-21T08:47:46.674Z"
   },
   {
    "duration": 232,
    "start_time": "2024-03-21T08:47:47.341Z"
   },
   {
    "duration": 2,
    "start_time": "2024-03-21T08:47:48.946Z"
   },
   {
    "duration": 10,
    "start_time": "2024-03-21T08:47:50.786Z"
   },
   {
    "duration": 11,
    "start_time": "2024-03-21T08:47:51.750Z"
   },
   {
    "duration": 5,
    "start_time": "2024-03-21T08:48:09.194Z"
   },
   {
    "duration": 11,
    "start_time": "2024-03-21T08:48:11.321Z"
   },
   {
    "duration": 3,
    "start_time": "2024-03-21T08:48:29.037Z"
   },
   {
    "duration": 2,
    "start_time": "2024-03-21T08:48:46.358Z"
   },
   {
    "duration": 28,
    "start_time": "2024-03-21T08:48:47.060Z"
   },
   {
    "duration": 27,
    "start_time": "2024-03-21T08:48:47.269Z"
   },
   {
    "duration": 15,
    "start_time": "2024-03-21T08:48:47.463Z"
   },
   {
    "duration": 11,
    "start_time": "2024-03-21T08:48:47.883Z"
   },
   {
    "duration": 14,
    "start_time": "2024-03-21T08:48:48.063Z"
   },
   {
    "duration": 7,
    "start_time": "2024-03-21T08:48:48.262Z"
   },
   {
    "duration": 11,
    "start_time": "2024-03-21T08:48:48.684Z"
   },
   {
    "duration": 11,
    "start_time": "2024-03-21T08:48:49.192Z"
   },
   {
    "duration": 13,
    "start_time": "2024-03-21T08:48:49.587Z"
   },
   {
    "duration": 17,
    "start_time": "2024-03-21T08:48:50.183Z"
   },
   {
    "duration": 19,
    "start_time": "2024-03-21T08:48:50.600Z"
   },
   {
    "duration": 191,
    "start_time": "2024-03-21T08:48:51.291Z"
   },
   {
    "duration": 210,
    "start_time": "2024-03-21T08:48:51.513Z"
   },
   {
    "duration": 311,
    "start_time": "2024-03-21T08:48:51.725Z"
   },
   {
    "duration": 3,
    "start_time": "2024-03-21T08:48:53.709Z"
   },
   {
    "duration": 9,
    "start_time": "2024-03-21T08:48:54.352Z"
   },
   {
    "duration": 10,
    "start_time": "2024-03-21T08:48:56.649Z"
   },
   {
    "duration": 6,
    "start_time": "2024-03-21T09:06:19.336Z"
   },
   {
    "duration": 16,
    "start_time": "2024-03-21T09:06:28.207Z"
   },
   {
    "duration": 8,
    "start_time": "2024-03-21T09:06:51.217Z"
   },
   {
    "duration": 3,
    "start_time": "2024-03-21T09:09:17.407Z"
   },
   {
    "duration": 29,
    "start_time": "2024-03-21T09:09:17.774Z"
   },
   {
    "duration": 32,
    "start_time": "2024-03-21T09:09:17.944Z"
   },
   {
    "duration": 16,
    "start_time": "2024-03-21T09:09:18.125Z"
   },
   {
    "duration": 12,
    "start_time": "2024-03-21T09:09:18.449Z"
   },
   {
    "duration": 10,
    "start_time": "2024-03-21T09:09:18.621Z"
   },
   {
    "duration": 7,
    "start_time": "2024-03-21T09:09:18.791Z"
   },
   {
    "duration": 18,
    "start_time": "2024-03-21T09:09:19.536Z"
   },
   {
    "duration": 12,
    "start_time": "2024-03-21T09:09:19.871Z"
   },
   {
    "duration": 10,
    "start_time": "2024-03-21T09:09:20.235Z"
   },
   {
    "duration": 19,
    "start_time": "2024-03-21T09:09:20.742Z"
   },
   {
    "duration": 20,
    "start_time": "2024-03-21T09:09:21.050Z"
   },
   {
    "duration": 200,
    "start_time": "2024-03-21T09:09:21.560Z"
   },
   {
    "duration": 226,
    "start_time": "2024-03-21T09:09:21.915Z"
   },
   {
    "duration": 262,
    "start_time": "2024-03-21T09:09:22.143Z"
   },
   {
    "duration": 3,
    "start_time": "2024-03-21T09:09:24.490Z"
   },
   {
    "duration": 9,
    "start_time": "2024-03-21T09:09:25.120Z"
   },
   {
    "duration": 6,
    "start_time": "2024-03-21T09:09:25.746Z"
   },
   {
    "duration": 8,
    "start_time": "2024-03-21T09:09:27.709Z"
   },
   {
    "duration": 9,
    "start_time": "2024-03-21T09:09:28.174Z"
   },
   {
    "duration": 3,
    "start_time": "2024-03-21T09:09:31.233Z"
   },
   {
    "duration": 7,
    "start_time": "2024-03-21T09:09:31.872Z"
   },
   {
    "duration": 10,
    "start_time": "2024-03-21T09:09:32.059Z"
   },
   {
    "duration": 172,
    "start_time": "2024-03-21T09:09:32.842Z"
   },
   {
    "duration": 6,
    "start_time": "2024-03-21T09:09:33.769Z"
   },
   {
    "duration": 5,
    "start_time": "2024-03-21T09:09:35.256Z"
   },
   {
    "duration": 7,
    "start_time": "2024-03-21T09:09:35.678Z"
   },
   {
    "duration": 8,
    "start_time": "2024-03-21T09:09:35.950Z"
   },
   {
    "duration": 3,
    "start_time": "2024-03-21T09:09:36.253Z"
   },
   {
    "duration": 9,
    "start_time": "2024-03-21T09:09:37.234Z"
   },
   {
    "duration": 96,
    "start_time": "2024-03-21T09:09:37.996Z"
   },
   {
    "duration": 103,
    "start_time": "2024-03-21T09:09:38.352Z"
   },
   {
    "duration": 5,
    "start_time": "2024-03-21T09:09:39.608Z"
   },
   {
    "duration": 226,
    "start_time": "2024-03-21T09:09:40.202Z"
   },
   {
    "duration": 4,
    "start_time": "2024-03-21T09:09:41.558Z"
   },
   {
    "duration": 89,
    "start_time": "2024-03-21T09:15:39.701Z"
   },
   {
    "duration": 64,
    "start_time": "2024-03-21T09:16:12.841Z"
   },
   {
    "duration": 75,
    "start_time": "2024-03-21T09:16:51.313Z"
   },
   {
    "duration": 66,
    "start_time": "2024-03-21T09:17:23.666Z"
   },
   {
    "duration": 803,
    "start_time": "2024-03-21T11:35:25.559Z"
   },
   {
    "duration": 98,
    "start_time": "2024-03-21T11:35:26.364Z"
   },
   {
    "duration": 163,
    "start_time": "2024-03-21T11:35:26.464Z"
   },
   {
    "duration": 57,
    "start_time": "2024-03-21T11:35:26.629Z"
   },
   {
    "duration": 14,
    "start_time": "2024-03-21T11:35:26.829Z"
   },
   {
    "duration": 10,
    "start_time": "2024-03-21T11:35:27.277Z"
   },
   {
    "duration": 7,
    "start_time": "2024-03-21T11:35:27.460Z"
   },
   {
    "duration": 11,
    "start_time": "2024-03-21T11:35:28.187Z"
   },
   {
    "duration": 12,
    "start_time": "2024-03-21T11:35:28.619Z"
   },
   {
    "duration": 10,
    "start_time": "2024-03-21T11:35:29.417Z"
   },
   {
    "duration": 18,
    "start_time": "2024-03-21T11:35:30.444Z"
   },
   {
    "duration": 68,
    "start_time": "2024-03-21T11:35:31.112Z"
   },
   {
    "duration": 204,
    "start_time": "2024-03-21T11:35:31.688Z"
   },
   {
    "duration": 197,
    "start_time": "2024-03-21T11:35:32.009Z"
   },
   {
    "duration": 201,
    "start_time": "2024-03-21T11:35:32.480Z"
   },
   {
    "duration": 2,
    "start_time": "2024-03-21T11:35:37.362Z"
   },
   {
    "duration": 9,
    "start_time": "2024-03-21T11:35:38.547Z"
   },
   {
    "duration": 5,
    "start_time": "2024-03-21T11:35:38.882Z"
   },
   {
    "duration": 6,
    "start_time": "2024-03-21T11:35:39.707Z"
   },
   {
    "duration": 8,
    "start_time": "2024-03-21T11:35:40.035Z"
   },
   {
    "duration": 3,
    "start_time": "2024-03-21T11:35:41.391Z"
   },
   {
    "duration": 7,
    "start_time": "2024-03-21T11:35:41.462Z"
   },
   {
    "duration": 7,
    "start_time": "2024-03-21T11:35:41.930Z"
   },
   {
    "duration": 203,
    "start_time": "2024-03-21T11:35:43.197Z"
   },
   {
    "duration": 4,
    "start_time": "2024-03-21T11:35:43.980Z"
   },
   {
    "duration": 5,
    "start_time": "2024-03-21T11:35:45.565Z"
   },
   {
    "duration": 7,
    "start_time": "2024-03-21T11:35:46.214Z"
   },
   {
    "duration": 7,
    "start_time": "2024-03-21T11:35:46.392Z"
   },
   {
    "duration": 3,
    "start_time": "2024-03-21T11:35:46.808Z"
   },
   {
    "duration": 8,
    "start_time": "2024-03-21T11:35:48.081Z"
   },
   {
    "duration": 83,
    "start_time": "2024-03-21T11:35:48.777Z"
   },
   {
    "duration": 96,
    "start_time": "2024-03-21T11:35:49.214Z"
   },
   {
    "duration": 6,
    "start_time": "2024-03-21T11:35:50.055Z"
   },
   {
    "duration": 213,
    "start_time": "2024-03-21T11:35:50.816Z"
   },
   {
    "duration": 4,
    "start_time": "2024-03-21T11:35:52.006Z"
   },
   {
    "duration": 841,
    "start_time": "2024-03-21T16:49:06.265Z"
   },
   {
    "duration": 97,
    "start_time": "2024-03-21T16:49:07.108Z"
   },
   {
    "duration": 154,
    "start_time": "2024-03-21T16:49:07.206Z"
   },
   {
    "duration": 56,
    "start_time": "2024-03-21T16:49:07.362Z"
   },
   {
    "duration": 13,
    "start_time": "2024-03-21T16:49:07.520Z"
   },
   {
    "duration": 13,
    "start_time": "2024-03-21T16:49:07.780Z"
   },
   {
    "duration": 6,
    "start_time": "2024-03-21T16:49:08.000Z"
   },
   {
    "duration": 11,
    "start_time": "2024-03-21T16:49:08.409Z"
   },
   {
    "duration": 11,
    "start_time": "2024-03-21T16:49:08.809Z"
   },
   {
    "duration": 13,
    "start_time": "2024-03-21T16:49:09.212Z"
   },
   {
    "duration": 19,
    "start_time": "2024-03-21T16:49:10.006Z"
   },
   {
    "duration": 56,
    "start_time": "2024-03-21T16:49:10.432Z"
   },
   {
    "duration": 203,
    "start_time": "2024-03-21T16:49:11.075Z"
   },
   {
    "duration": 202,
    "start_time": "2024-03-21T16:49:11.315Z"
   },
   {
    "duration": 216,
    "start_time": "2024-03-21T16:49:11.526Z"
   },
   {
    "duration": 2,
    "start_time": "2024-03-21T16:49:12.967Z"
   },
   {
    "duration": 10,
    "start_time": "2024-03-21T16:49:13.371Z"
   },
   {
    "duration": 5,
    "start_time": "2024-03-21T16:49:13.985Z"
   },
   {
    "duration": 5,
    "start_time": "2024-03-21T16:49:14.843Z"
   },
   {
    "duration": 8,
    "start_time": "2024-03-21T16:49:15.092Z"
   },
   {
    "duration": 3,
    "start_time": "2024-03-21T16:49:16.001Z"
   },
   {
    "duration": 6,
    "start_time": "2024-03-21T16:49:16.235Z"
   },
   {
    "duration": 8,
    "start_time": "2024-03-21T16:49:16.529Z"
   },
   {
    "duration": 193,
    "start_time": "2024-03-21T16:49:17.326Z"
   },
   {
    "duration": 4,
    "start_time": "2024-03-21T16:49:18.172Z"
   },
   {
    "duration": 7,
    "start_time": "2024-03-21T16:49:19.265Z"
   },
   {
    "duration": 7,
    "start_time": "2024-03-21T16:49:19.658Z"
   },
   {
    "duration": 7,
    "start_time": "2024-03-21T16:49:19.860Z"
   },
   {
    "duration": 3,
    "start_time": "2024-03-21T16:49:20.112Z"
   },
   {
    "duration": 10,
    "start_time": "2024-03-21T16:49:21.953Z"
   },
   {
    "duration": 86,
    "start_time": "2024-03-21T16:49:22.456Z"
   },
   {
    "duration": 93,
    "start_time": "2024-03-21T16:49:22.822Z"
   },
   {
    "duration": 5,
    "start_time": "2024-03-21T16:49:23.382Z"
   },
   {
    "duration": 198,
    "start_time": "2024-03-21T16:49:23.920Z"
   },
   {
    "duration": 3,
    "start_time": "2024-03-21T16:49:24.879Z"
   },
   {
    "duration": 65,
    "start_time": "2024-03-21T16:49:49.198Z"
   },
   {
    "duration": 14,
    "start_time": "2024-03-21T16:49:54.569Z"
   },
   {
    "duration": 13,
    "start_time": "2024-03-21T16:50:03.922Z"
   },
   {
    "duration": 115,
    "start_time": "2024-03-21T16:50:49.577Z"
   },
   {
    "duration": 13,
    "start_time": "2024-03-21T16:51:24.257Z"
   },
   {
    "duration": 12,
    "start_time": "2024-03-21T16:51:38.212Z"
   },
   {
    "duration": 12,
    "start_time": "2024-03-21T16:53:55.097Z"
   },
   {
    "duration": 65,
    "start_time": "2024-03-21T16:55:24.934Z"
   },
   {
    "duration": 4,
    "start_time": "2024-03-21T16:55:39.383Z"
   },
   {
    "duration": 4,
    "start_time": "2024-03-21T16:55:54.766Z"
   },
   {
    "duration": 64,
    "start_time": "2024-03-21T16:55:59.679Z"
   },
   {
    "duration": 11,
    "start_time": "2024-03-21T16:57:11.714Z"
   },
   {
    "duration": 5,
    "start_time": "2024-03-21T16:57:26.649Z"
   },
   {
    "duration": 12,
    "start_time": "2024-03-21T17:02:30.115Z"
   },
   {
    "duration": 9,
    "start_time": "2024-03-21T17:04:21.242Z"
   },
   {
    "duration": 13,
    "start_time": "2024-03-21T17:04:59.874Z"
   },
   {
    "duration": 10,
    "start_time": "2024-03-21T17:05:37.074Z"
   },
   {
    "duration": 23,
    "start_time": "2024-03-21T17:06:29.464Z"
   },
   {
    "duration": 13,
    "start_time": "2024-03-21T17:06:33.883Z"
   },
   {
    "duration": 13,
    "start_time": "2024-03-21T17:06:48.273Z"
   },
   {
    "duration": 13,
    "start_time": "2024-03-21T17:07:04.694Z"
   },
   {
    "duration": 12,
    "start_time": "2024-03-21T17:07:44.744Z"
   },
   {
    "duration": 7,
    "start_time": "2024-03-21T17:07:53.693Z"
   },
   {
    "duration": 11,
    "start_time": "2024-03-21T17:10:02.714Z"
   },
   {
    "duration": 12,
    "start_time": "2024-03-21T17:10:52.422Z"
   },
   {
    "duration": 11,
    "start_time": "2024-03-21T17:11:33.802Z"
   },
   {
    "duration": 134,
    "start_time": "2024-03-21T17:11:49.863Z"
   },
   {
    "duration": 135,
    "start_time": "2024-03-21T17:12:22.280Z"
   },
   {
    "duration": 135,
    "start_time": "2024-03-21T17:12:40.709Z"
   },
   {
    "duration": 188,
    "start_time": "2024-03-21T17:14:36.995Z"
   },
   {
    "duration": 67,
    "start_time": "2024-03-21T17:16:27.780Z"
   },
   {
    "duration": 69,
    "start_time": "2024-03-21T17:17:54.743Z"
   },
   {
    "duration": 71,
    "start_time": "2024-03-21T17:18:14.359Z"
   },
   {
    "duration": 8,
    "start_time": "2024-03-21T17:19:03.812Z"
   },
   {
    "duration": 60,
    "start_time": "2024-03-21T17:19:47.015Z"
   },
   {
    "duration": 70,
    "start_time": "2024-03-21T17:20:14.968Z"
   },
   {
    "duration": 11,
    "start_time": "2024-03-21T17:26:20.062Z"
   },
   {
    "duration": 15,
    "start_time": "2024-03-21T17:29:46.648Z"
   },
   {
    "duration": 2,
    "start_time": "2024-03-21T17:30:44.723Z"
   },
   {
    "duration": 27,
    "start_time": "2024-03-21T17:30:44.785Z"
   },
   {
    "duration": 26,
    "start_time": "2024-03-21T17:30:44.814Z"
   },
   {
    "duration": 14,
    "start_time": "2024-03-21T17:30:44.842Z"
   },
   {
    "duration": 11,
    "start_time": "2024-03-21T17:30:44.908Z"
   },
   {
    "duration": 9,
    "start_time": "2024-03-21T17:30:44.928Z"
   },
   {
    "duration": 6,
    "start_time": "2024-03-21T17:30:44.966Z"
   },
   {
    "duration": 10,
    "start_time": "2024-03-21T17:30:45.022Z"
   },
   {
    "duration": 11,
    "start_time": "2024-03-21T17:30:45.124Z"
   },
   {
    "duration": 43,
    "start_time": "2024-03-21T17:30:45.152Z"
   },
   {
    "duration": 36,
    "start_time": "2024-03-21T17:30:45.236Z"
   },
   {
    "duration": 58,
    "start_time": "2024-03-21T17:30:45.309Z"
   },
   {
    "duration": 197,
    "start_time": "2024-03-21T17:30:45.400Z"
   },
   {
    "duration": 208,
    "start_time": "2024-03-21T17:30:45.599Z"
   },
   {
    "duration": 215,
    "start_time": "2024-03-21T17:30:45.809Z"
   },
   {
    "duration": 3,
    "start_time": "2024-03-21T17:30:46.026Z"
   },
   {
    "duration": 11,
    "start_time": "2024-03-21T17:30:46.030Z"
   },
   {
    "duration": 5,
    "start_time": "2024-03-21T17:30:46.470Z"
   },
   {
    "duration": 4,
    "start_time": "2024-03-21T17:30:46.557Z"
   },
   {
    "duration": 17,
    "start_time": "2024-03-21T17:30:46.586Z"
   },
   {
    "duration": 4,
    "start_time": "2024-03-21T17:30:46.710Z"
   },
   {
    "duration": 6,
    "start_time": "2024-03-21T17:30:46.749Z"
   },
   {
    "duration": 9,
    "start_time": "2024-03-21T17:30:46.776Z"
   },
   {
    "duration": 147,
    "start_time": "2024-03-21T17:30:46.869Z"
   },
   {
    "duration": 5,
    "start_time": "2024-03-21T17:30:47.018Z"
   },
   {
    "duration": 4,
    "start_time": "2024-03-21T17:30:47.428Z"
   },
   {
    "duration": 7,
    "start_time": "2024-03-21T17:30:47.764Z"
   },
   {
    "duration": 6,
    "start_time": "2024-03-21T17:30:47.971Z"
   },
   {
    "duration": 4,
    "start_time": "2024-03-21T17:30:48.146Z"
   },
   {
    "duration": 9,
    "start_time": "2024-03-21T17:30:48.659Z"
   },
   {
    "duration": 85,
    "start_time": "2024-03-21T17:30:49.043Z"
   },
   {
    "duration": 178,
    "start_time": "2024-03-21T17:30:49.261Z"
   },
   {
    "duration": 5,
    "start_time": "2024-03-21T17:30:49.678Z"
   },
   {
    "duration": 198,
    "start_time": "2024-03-21T17:30:50.049Z"
   },
   {
    "duration": 4,
    "start_time": "2024-03-21T17:30:50.655Z"
   },
   {
    "duration": 17,
    "start_time": "2024-03-21T17:30:51.714Z"
   },
   {
    "duration": 12,
    "start_time": "2024-03-21T17:31:34.693Z"
   },
   {
    "duration": 12,
    "start_time": "2024-03-21T17:32:21.643Z"
   },
   {
    "duration": 11,
    "start_time": "2024-03-21T17:32:26.591Z"
   },
   {
    "duration": 13,
    "start_time": "2024-03-21T17:32:39.105Z"
   },
   {
    "duration": 10,
    "start_time": "2024-03-21T17:34:02.104Z"
   },
   {
    "duration": 7,
    "start_time": "2024-03-21T17:34:47.139Z"
   },
   {
    "duration": 122,
    "start_time": "2024-03-21T17:56:27.579Z"
   },
   {
    "duration": 127,
    "start_time": "2024-03-21T17:56:32.728Z"
   },
   {
    "duration": 119,
    "start_time": "2024-03-21T17:56:36.392Z"
   },
   {
    "duration": 125,
    "start_time": "2024-03-21T17:56:45.625Z"
   },
   {
    "duration": 122,
    "start_time": "2024-03-21T17:56:51.691Z"
   },
   {
    "duration": 119,
    "start_time": "2024-03-21T17:57:46.955Z"
   },
   {
    "duration": 124,
    "start_time": "2024-03-21T17:58:30.621Z"
   },
   {
    "duration": 128,
    "start_time": "2024-03-21T17:58:45.056Z"
   },
   {
    "duration": 15,
    "start_time": "2024-03-21T18:03:57.154Z"
   },
   {
    "duration": 11,
    "start_time": "2024-03-21T18:04:03.082Z"
   },
   {
    "duration": 8,
    "start_time": "2024-03-21T18:34:35.416Z"
   },
   {
    "duration": 11,
    "start_time": "2024-03-21T18:34:48.300Z"
   },
   {
    "duration": 164,
    "start_time": "2024-03-21T18:35:01.460Z"
   },
   {
    "duration": 8,
    "start_time": "2024-03-21T18:35:26.255Z"
   },
   {
    "duration": 151,
    "start_time": "2024-03-21T18:36:03.526Z"
   },
   {
    "duration": 118,
    "start_time": "2024-03-21T18:36:15.874Z"
   },
   {
    "duration": 202,
    "start_time": "2024-03-21T18:36:31.749Z"
   },
   {
    "duration": 120,
    "start_time": "2024-03-21T18:36:36.649Z"
   },
   {
    "duration": 123,
    "start_time": "2024-03-21T18:36:53.952Z"
   },
   {
    "duration": 134,
    "start_time": "2024-03-21T18:37:13.687Z"
   },
   {
    "duration": 133,
    "start_time": "2024-03-21T18:37:18.113Z"
   },
   {
    "duration": 133,
    "start_time": "2024-03-21T18:37:23.148Z"
   },
   {
    "duration": 132,
    "start_time": "2024-03-21T18:37:27.329Z"
   },
   {
    "duration": 134,
    "start_time": "2024-03-21T18:37:30.656Z"
   },
   {
    "duration": 157,
    "start_time": "2024-03-21T18:37:47.117Z"
   },
   {
    "duration": 126,
    "start_time": "2024-03-21T18:37:53.056Z"
   },
   {
    "duration": 131,
    "start_time": "2024-03-21T18:37:58.525Z"
   },
   {
    "duration": 225,
    "start_time": "2024-03-21T18:38:03.972Z"
   },
   {
    "duration": 167,
    "start_time": "2024-03-21T18:38:08.427Z"
   },
   {
    "duration": 260,
    "start_time": "2024-03-21T18:38:15.112Z"
   },
   {
    "duration": 150,
    "start_time": "2024-03-21T18:38:20.303Z"
   },
   {
    "duration": 170,
    "start_time": "2024-03-21T18:38:24.714Z"
   },
   {
    "duration": 140,
    "start_time": "2024-03-21T18:38:30.083Z"
   },
   {
    "duration": 151,
    "start_time": "2024-03-21T18:38:35.819Z"
   },
   {
    "duration": 184,
    "start_time": "2024-03-21T18:39:00.292Z"
   },
   {
    "duration": 169,
    "start_time": "2024-03-21T18:39:04.098Z"
   },
   {
    "duration": 155,
    "start_time": "2024-03-21T18:39:08.610Z"
   },
   {
    "duration": 148,
    "start_time": "2024-03-21T18:39:11.595Z"
   },
   {
    "duration": 145,
    "start_time": "2024-03-21T18:40:41.836Z"
   },
   {
    "duration": 11,
    "start_time": "2024-03-21T19:33:43.076Z"
   },
   {
    "duration": 72,
    "start_time": "2024-03-21T19:33:54.332Z"
   },
   {
    "duration": 8,
    "start_time": "2024-03-21T19:34:14.641Z"
   },
   {
    "duration": 74,
    "start_time": "2024-03-21T19:36:08.115Z"
   },
   {
    "duration": 73,
    "start_time": "2024-03-21T19:36:13.754Z"
   },
   {
    "duration": 72,
    "start_time": "2024-03-21T19:36:17.719Z"
   },
   {
    "duration": 86,
    "start_time": "2024-03-21T19:36:21.310Z"
   },
   {
    "duration": 79,
    "start_time": "2024-03-21T19:36:26.501Z"
   },
   {
    "duration": 78,
    "start_time": "2024-03-21T19:36:29.571Z"
   },
   {
    "duration": 73,
    "start_time": "2024-03-21T19:36:34.658Z"
   },
   {
    "duration": 222,
    "start_time": "2024-03-21T19:36:43.899Z"
   },
   {
    "duration": 79,
    "start_time": "2024-03-21T19:36:47.584Z"
   },
   {
    "duration": 74,
    "start_time": "2024-03-21T19:36:56.146Z"
   },
   {
    "duration": 10,
    "start_time": "2024-03-21T19:38:32.561Z"
   },
   {
    "duration": 13,
    "start_time": "2024-03-21T19:38:40.184Z"
   },
   {
    "duration": 125,
    "start_time": "2024-03-21T19:43:21.816Z"
   },
   {
    "duration": 1349,
    "start_time": "2024-03-21T19:43:32.634Z"
   },
   {
    "duration": 672,
    "start_time": "2024-03-21T19:43:41.618Z"
   },
   {
    "duration": 338,
    "start_time": "2024-03-21T19:43:45.411Z"
   },
   {
    "duration": 431,
    "start_time": "2024-03-21T19:43:48.253Z"
   },
   {
    "duration": 194,
    "start_time": "2024-03-21T19:44:11.437Z"
   },
   {
    "duration": 8,
    "start_time": "2024-03-21T19:44:29.522Z"
   },
   {
    "duration": 189,
    "start_time": "2024-03-21T19:46:15.368Z"
   },
   {
    "duration": 182,
    "start_time": "2024-03-21T19:51:08.028Z"
   },
   {
    "duration": 9,
    "start_time": "2024-03-21T19:53:00.943Z"
   },
   {
    "duration": 97,
    "start_time": "2024-03-21T19:53:36.341Z"
   },
   {
    "duration": 99,
    "start_time": "2024-03-21T19:54:48.848Z"
   },
   {
    "duration": 9,
    "start_time": "2024-03-21T20:00:16.799Z"
   },
   {
    "duration": 6,
    "start_time": "2024-03-21T20:00:38.859Z"
   },
   {
    "duration": 2,
    "start_time": "2024-03-21T20:03:59.726Z"
   },
   {
    "duration": 29,
    "start_time": "2024-03-21T20:03:59.778Z"
   },
   {
    "duration": 29,
    "start_time": "2024-03-21T20:03:59.810Z"
   },
   {
    "duration": 15,
    "start_time": "2024-03-21T20:03:59.841Z"
   },
   {
    "duration": 9,
    "start_time": "2024-03-21T20:03:59.918Z"
   },
   {
    "duration": 8,
    "start_time": "2024-03-21T20:03:59.937Z"
   },
   {
    "duration": 7,
    "start_time": "2024-03-21T20:03:59.976Z"
   },
   {
    "duration": 11,
    "start_time": "2024-03-21T20:04:00.023Z"
   },
   {
    "duration": 23,
    "start_time": "2024-03-21T20:04:00.091Z"
   },
   {
    "duration": 9,
    "start_time": "2024-03-21T20:04:00.148Z"
   },
   {
    "duration": 23,
    "start_time": "2024-03-21T20:04:00.237Z"
   },
   {
    "duration": 20,
    "start_time": "2024-03-21T20:04:00.320Z"
   },
   {
    "duration": 182,
    "start_time": "2024-03-21T20:04:00.404Z"
   },
   {
    "duration": 216,
    "start_time": "2024-03-21T20:04:00.588Z"
   },
   {
    "duration": 224,
    "start_time": "2024-03-21T20:04:00.805Z"
   },
   {
    "duration": 3,
    "start_time": "2024-03-21T20:04:01.031Z"
   },
   {
    "duration": 9,
    "start_time": "2024-03-21T20:04:02.207Z"
   },
   {
    "duration": 5,
    "start_time": "2024-03-21T20:04:02.517Z"
   },
   {
    "duration": 5,
    "start_time": "2024-03-21T20:04:02.966Z"
   },
   {
    "duration": 8,
    "start_time": "2024-03-21T20:04:03.245Z"
   },
   {
    "duration": 3,
    "start_time": "2024-03-21T20:04:04.028Z"
   },
   {
    "duration": 7,
    "start_time": "2024-03-21T20:04:04.182Z"
   },
   {
    "duration": 9,
    "start_time": "2024-03-21T20:04:04.339Z"
   },
   {
    "duration": 103,
    "start_time": "2024-03-21T20:04:04.839Z"
   },
   {
    "duration": 5,
    "start_time": "2024-03-21T20:04:05.722Z"
   },
   {
    "duration": 199,
    "start_time": "2024-03-21T20:04:05.897Z"
   },
   {
    "duration": 5,
    "start_time": "2024-03-21T20:04:06.758Z"
   },
   {
    "duration": 5,
    "start_time": "2024-03-21T20:04:08.144Z"
   },
   {
    "duration": 7,
    "start_time": "2024-03-21T20:04:08.997Z"
   },
   {
    "duration": 8,
    "start_time": "2024-03-21T20:04:09.490Z"
   },
   {
    "duration": 4,
    "start_time": "2024-03-21T20:04:09.648Z"
   },
   {
    "duration": 8,
    "start_time": "2024-03-21T20:04:14.397Z"
   },
   {
    "duration": 83,
    "start_time": "2024-03-21T20:04:16.165Z"
   },
   {
    "duration": 96,
    "start_time": "2024-03-21T20:04:21.416Z"
   },
   {
    "duration": 5,
    "start_time": "2024-03-21T20:04:24.243Z"
   },
   {
    "duration": 209,
    "start_time": "2024-03-21T20:04:25.564Z"
   },
   {
    "duration": 4,
    "start_time": "2024-03-21T20:04:28.350Z"
   },
   {
    "duration": 11,
    "start_time": "2024-03-21T20:04:38.248Z"
   },
   {
    "duration": 147,
    "start_time": "2024-03-21T20:04:40.114Z"
   },
   {
    "duration": 3,
    "start_time": "2024-03-21T20:04:41.333Z"
   },
   {
    "duration": 5,
    "start_time": "2024-03-21T20:04:41.882Z"
   },
   {
    "duration": 77,
    "start_time": "2024-03-21T20:04:42.553Z"
   },
   {
    "duration": 7,
    "start_time": "2024-03-21T20:04:44.738Z"
   },
   {
    "duration": 171,
    "start_time": "2024-03-21T20:04:47.773Z"
   },
   {
    "duration": 8,
    "start_time": "2024-03-21T20:04:50.866Z"
   },
   {
    "duration": 174,
    "start_time": "2024-03-21T20:04:53.297Z"
   },
   {
    "duration": 5,
    "start_time": "2024-03-21T20:05:21.435Z"
   },
   {
    "duration": 202,
    "start_time": "2024-03-21T20:05:21.936Z"
   },
   {
    "duration": 5,
    "start_time": "2024-03-21T20:05:22.561Z"
   },
   {
    "duration": 4,
    "start_time": "2024-03-21T20:05:24.350Z"
   },
   {
    "duration": 6,
    "start_time": "2024-03-21T20:05:24.862Z"
   },
   {
    "duration": 7,
    "start_time": "2024-03-21T20:05:25.048Z"
   },
   {
    "duration": 3,
    "start_time": "2024-03-21T20:05:25.357Z"
   },
   {
    "duration": 7,
    "start_time": "2024-03-21T20:05:26.068Z"
   },
   {
    "duration": 86,
    "start_time": "2024-03-21T20:05:26.717Z"
   },
   {
    "duration": 99,
    "start_time": "2024-03-21T20:05:27.081Z"
   },
   {
    "duration": 6,
    "start_time": "2024-03-21T20:05:27.689Z"
   },
   {
    "duration": 199,
    "start_time": "2024-03-21T20:05:28.207Z"
   },
   {
    "duration": 4,
    "start_time": "2024-03-21T20:05:30.909Z"
   },
   {
    "duration": 12,
    "start_time": "2024-03-21T20:05:37.751Z"
   },
   {
    "duration": 342,
    "start_time": "2024-03-21T20:05:37.891Z"
   },
   {
    "duration": 4,
    "start_time": "2024-03-21T20:05:38.566Z"
   },
   {
    "duration": 4,
    "start_time": "2024-03-21T20:05:38.801Z"
   },
   {
    "duration": 76,
    "start_time": "2024-03-21T20:05:39.214Z"
   },
   {
    "duration": 12,
    "start_time": "2024-03-21T20:05:39.923Z"
   },
   {
    "duration": 157,
    "start_time": "2024-03-21T20:05:40.068Z"
   },
   {
    "duration": 9,
    "start_time": "2024-03-21T20:05:42.029Z"
   },
   {
    "duration": 182,
    "start_time": "2024-03-21T20:05:49.359Z"
   },
   {
    "duration": 14,
    "start_time": "2024-03-21T20:14:43.625Z"
   },
   {
    "duration": 8,
    "start_time": "2024-03-21T20:15:08.984Z"
   },
   {
    "duration": 8,
    "start_time": "2024-03-21T20:16:16.888Z"
   },
   {
    "duration": 155,
    "start_time": "2024-03-21T20:16:50.254Z"
   },
   {
    "duration": 162,
    "start_time": "2024-03-21T20:17:05.981Z"
   },
   {
    "duration": 169,
    "start_time": "2024-03-21T20:17:09.514Z"
   },
   {
    "duration": 169,
    "start_time": "2024-03-21T20:17:13.567Z"
   },
   {
    "duration": 151,
    "start_time": "2024-03-21T20:17:16.716Z"
   },
   {
    "duration": 160,
    "start_time": "2024-03-21T20:17:24.439Z"
   },
   {
    "duration": 166,
    "start_time": "2024-03-21T20:17:32.777Z"
   },
   {
    "duration": 216,
    "start_time": "2024-03-21T20:18:02.987Z"
   },
   {
    "duration": 177,
    "start_time": "2024-03-21T20:18:16.111Z"
   },
   {
    "duration": 169,
    "start_time": "2024-03-21T20:18:28.759Z"
   },
   {
    "duration": 138,
    "start_time": "2024-03-21T20:18:40.108Z"
   },
   {
    "duration": 164,
    "start_time": "2024-03-21T20:18:58.917Z"
   },
   {
    "duration": 208,
    "start_time": "2024-03-21T20:19:06.777Z"
   },
   {
    "duration": 211,
    "start_time": "2024-03-21T20:19:26.256Z"
   },
   {
    "duration": 13,
    "start_time": "2024-03-21T20:24:55.132Z"
   },
   {
    "duration": 11,
    "start_time": "2024-03-21T20:25:20.578Z"
   },
   {
    "duration": 48,
    "start_time": "2024-03-22T06:48:01.761Z"
   },
   {
    "duration": 855,
    "start_time": "2024-03-22T06:48:31.466Z"
   },
   {
    "duration": 91,
    "start_time": "2024-03-22T06:48:32.323Z"
   },
   {
    "duration": 161,
    "start_time": "2024-03-22T06:48:32.415Z"
   },
   {
    "duration": 57,
    "start_time": "2024-03-22T06:48:32.578Z"
   },
   {
    "duration": 13,
    "start_time": "2024-03-22T06:48:32.637Z"
   },
   {
    "duration": 10,
    "start_time": "2024-03-22T06:48:32.651Z"
   },
   {
    "duration": 8,
    "start_time": "2024-03-22T06:48:32.662Z"
   },
   {
    "duration": 30,
    "start_time": "2024-03-22T06:48:32.671Z"
   },
   {
    "duration": 13,
    "start_time": "2024-03-22T06:48:32.702Z"
   },
   {
    "duration": 13,
    "start_time": "2024-03-22T06:48:32.717Z"
   },
   {
    "duration": 28,
    "start_time": "2024-03-22T06:48:32.731Z"
   },
   {
    "duration": 56,
    "start_time": "2024-03-22T06:48:32.974Z"
   },
   {
    "duration": 186,
    "start_time": "2024-03-22T06:48:33.065Z"
   },
   {
    "duration": 245,
    "start_time": "2024-03-22T06:48:33.253Z"
   },
   {
    "duration": 280,
    "start_time": "2024-03-22T06:48:33.500Z"
   },
   {
    "duration": 2,
    "start_time": "2024-03-22T06:48:33.782Z"
   },
   {
    "duration": 16,
    "start_time": "2024-03-22T06:48:33.786Z"
   },
   {
    "duration": 4,
    "start_time": "2024-03-22T06:48:33.803Z"
   },
   {
    "duration": 4,
    "start_time": "2024-03-22T06:48:33.809Z"
   },
   {
    "duration": 10,
    "start_time": "2024-03-22T06:48:33.814Z"
   },
   {
    "duration": 3,
    "start_time": "2024-03-22T06:48:35.245Z"
   },
   {
    "duration": 6,
    "start_time": "2024-03-22T06:48:35.272Z"
   },
   {
    "duration": 8,
    "start_time": "2024-03-22T06:48:35.307Z"
   },
   {
    "duration": 94,
    "start_time": "2024-03-22T06:48:35.403Z"
   },
   {
    "duration": 5,
    "start_time": "2024-03-22T06:48:35.499Z"
   },
   {
    "duration": 184,
    "start_time": "2024-03-22T06:48:35.522Z"
   },
   {
    "duration": 4,
    "start_time": "2024-03-22T06:48:35.708Z"
   },
   {
    "duration": 6,
    "start_time": "2024-03-22T06:48:35.716Z"
   },
   {
    "duration": 7,
    "start_time": "2024-03-22T06:48:36.188Z"
   },
   {
    "duration": 6,
    "start_time": "2024-03-22T06:48:36.387Z"
   },
   {
    "duration": 3,
    "start_time": "2024-03-22T06:48:36.581Z"
   },
   {
    "duration": 8,
    "start_time": "2024-03-22T06:48:37.092Z"
   },
   {
    "duration": 87,
    "start_time": "2024-03-22T06:48:37.441Z"
   },
   {
    "duration": 88,
    "start_time": "2024-03-22T06:48:37.637Z"
   },
   {
    "duration": 5,
    "start_time": "2024-03-22T06:48:38.239Z"
   },
   {
    "duration": 196,
    "start_time": "2024-03-22T06:48:38.817Z"
   },
   {
    "duration": 4,
    "start_time": "2024-03-22T06:48:39.371Z"
   },
   {
    "duration": 12,
    "start_time": "2024-03-22T06:48:40.087Z"
   },
   {
    "duration": 126,
    "start_time": "2024-03-22T06:48:40.267Z"
   },
   {
    "duration": 4,
    "start_time": "2024-03-22T06:48:41.078Z"
   },
   {
    "duration": 5,
    "start_time": "2024-03-22T06:48:41.283Z"
   },
   {
    "duration": 73,
    "start_time": "2024-03-22T06:48:41.682Z"
   },
   {
    "duration": 7,
    "start_time": "2024-03-22T06:48:42.470Z"
   },
   {
    "duration": 162,
    "start_time": "2024-03-22T06:48:42.650Z"
   },
   {
    "duration": 8,
    "start_time": "2024-03-22T06:48:44.555Z"
   },
   {
    "duration": 281,
    "start_time": "2024-03-22T06:48:45.352Z"
   },
   {
    "duration": 11,
    "start_time": "2024-03-22T06:48:47.423Z"
   },
   {
    "duration": 182,
    "start_time": "2024-03-22T06:48:48.002Z"
   },
   {
    "duration": 43,
    "start_time": "2024-03-22T06:48:50.346Z"
   },
   {
    "duration": 13,
    "start_time": "2024-03-22T06:49:19.507Z"
   },
   {
    "duration": 13,
    "start_time": "2024-03-22T06:49:25.135Z"
   },
   {
    "duration": 11,
    "start_time": "2024-03-22T06:50:09.068Z"
   },
   {
    "duration": 11,
    "start_time": "2024-03-22T06:51:46.211Z"
   },
   {
    "duration": 9,
    "start_time": "2024-03-22T06:53:01.243Z"
   },
   {
    "duration": 14,
    "start_time": "2024-03-22T06:53:03.511Z"
   },
   {
    "duration": 18,
    "start_time": "2024-03-22T06:53:20.005Z"
   },
   {
    "duration": 10,
    "start_time": "2024-03-22T06:54:03.069Z"
   },
   {
    "duration": 19,
    "start_time": "2024-03-22T06:54:05.471Z"
   },
   {
    "duration": 11,
    "start_time": "2024-03-22T06:54:18.503Z"
   },
   {
    "duration": 18,
    "start_time": "2024-03-22T06:54:25.330Z"
   },
   {
    "duration": 11,
    "start_time": "2024-03-22T06:54:36.067Z"
   },
   {
    "duration": 14,
    "start_time": "2024-03-22T06:54:51.531Z"
   },
   {
    "duration": 16,
    "start_time": "2024-03-22T06:55:03.480Z"
   },
   {
    "duration": 12,
    "start_time": "2024-03-22T06:55:10.085Z"
   },
   {
    "duration": 8,
    "start_time": "2024-03-22T06:55:27.125Z"
   },
   {
    "duration": 14,
    "start_time": "2024-03-22T06:56:17.695Z"
   },
   {
    "duration": 14,
    "start_time": "2024-03-22T06:56:34.827Z"
   },
   {
    "duration": 12,
    "start_time": "2024-03-22T06:56:44.505Z"
   },
   {
    "duration": 6,
    "start_time": "2024-03-22T06:57:53.772Z"
   },
   {
    "duration": 10,
    "start_time": "2024-03-22T06:59:01.788Z"
   },
   {
    "duration": 18,
    "start_time": "2024-03-22T06:59:11.165Z"
   },
   {
    "duration": 15,
    "start_time": "2024-03-22T07:00:14.497Z"
   },
   {
    "duration": 4,
    "start_time": "2024-03-22T07:07:45.651Z"
   },
   {
    "duration": 14,
    "start_time": "2024-03-22T07:07:56.542Z"
   },
   {
    "duration": 14,
    "start_time": "2024-03-22T07:09:16.217Z"
   },
   {
    "duration": 13,
    "start_time": "2024-03-22T07:10:14.207Z"
   },
   {
    "duration": 13,
    "start_time": "2024-03-22T07:10:16.827Z"
   },
   {
    "duration": 15,
    "start_time": "2024-03-22T07:10:18.987Z"
   },
   {
    "duration": 14,
    "start_time": "2024-03-22T07:10:20.157Z"
   },
   {
    "duration": 14,
    "start_time": "2024-03-22T07:10:20.849Z"
   },
   {
    "duration": 2,
    "start_time": "2024-03-22T07:10:37.302Z"
   },
   {
    "duration": 28,
    "start_time": "2024-03-22T07:10:39.394Z"
   },
   {
    "duration": 29,
    "start_time": "2024-03-22T07:10:39.586Z"
   },
   {
    "duration": 16,
    "start_time": "2024-03-22T07:10:39.785Z"
   },
   {
    "duration": 9,
    "start_time": "2024-03-22T07:10:40.956Z"
   },
   {
    "duration": 9,
    "start_time": "2024-03-22T07:10:41.354Z"
   },
   {
    "duration": 6,
    "start_time": "2024-03-22T07:10:42.027Z"
   },
   {
    "duration": 10,
    "start_time": "2024-03-22T07:10:42.429Z"
   },
   {
    "duration": 11,
    "start_time": "2024-03-22T07:10:43.258Z"
   },
   {
    "duration": 9,
    "start_time": "2024-03-22T07:10:43.672Z"
   },
   {
    "duration": 17,
    "start_time": "2024-03-22T07:10:44.253Z"
   },
   {
    "duration": 18,
    "start_time": "2024-03-22T07:10:44.634Z"
   },
   {
    "duration": 167,
    "start_time": "2024-03-22T07:10:45.187Z"
   },
   {
    "duration": 203,
    "start_time": "2024-03-22T07:10:45.369Z"
   },
   {
    "duration": 205,
    "start_time": "2024-03-22T07:10:45.574Z"
   },
   {
    "duration": 3,
    "start_time": "2024-03-22T07:10:46.859Z"
   },
   {
    "duration": 8,
    "start_time": "2024-03-22T07:10:47.262Z"
   },
   {
    "duration": 4,
    "start_time": "2024-03-22T07:10:47.719Z"
   },
   {
    "duration": 5,
    "start_time": "2024-03-22T07:10:48.611Z"
   },
   {
    "duration": 8,
    "start_time": "2024-03-22T07:10:48.963Z"
   },
   {
    "duration": 4,
    "start_time": "2024-03-22T07:10:50.191Z"
   },
   {
    "duration": 6,
    "start_time": "2024-03-22T07:10:50.684Z"
   },
   {
    "duration": 8,
    "start_time": "2024-03-22T07:10:50.883Z"
   },
   {
    "duration": 96,
    "start_time": "2024-03-22T07:10:52.312Z"
   },
   {
    "duration": 6,
    "start_time": "2024-03-22T07:10:53.923Z"
   },
   {
    "duration": 188,
    "start_time": "2024-03-22T07:10:54.612Z"
   },
   {
    "duration": 5,
    "start_time": "2024-03-22T07:10:55.855Z"
   },
   {
    "duration": 4,
    "start_time": "2024-03-22T07:10:58.302Z"
   },
   {
    "duration": 6,
    "start_time": "2024-03-22T07:10:59.091Z"
   },
   {
    "duration": 6,
    "start_time": "2024-03-22T07:10:59.502Z"
   },
   {
    "duration": 3,
    "start_time": "2024-03-22T07:10:59.929Z"
   },
   {
    "duration": 9,
    "start_time": "2024-03-22T07:11:25.007Z"
   },
   {
    "duration": 85,
    "start_time": "2024-03-22T07:11:26.398Z"
   },
   {
    "duration": 84,
    "start_time": "2024-03-22T07:11:27.183Z"
   },
   {
    "duration": 5,
    "start_time": "2024-03-22T07:11:27.978Z"
   },
   {
    "duration": 262,
    "start_time": "2024-03-22T07:11:28.900Z"
   },
   {
    "duration": 4,
    "start_time": "2024-03-22T07:11:29.856Z"
   },
   {
    "duration": 13,
    "start_time": "2024-03-22T07:11:31.168Z"
   },
   {
    "duration": 11,
    "start_time": "2024-03-22T07:12:59.846Z"
   },
   {
    "duration": 154,
    "start_time": "2024-03-22T07:13:00.567Z"
   },
   {
    "duration": 3,
    "start_time": "2024-03-22T07:13:02.379Z"
   },
   {
    "duration": 4,
    "start_time": "2024-03-22T07:13:02.545Z"
   },
   {
    "duration": 76,
    "start_time": "2024-03-22T07:13:02.722Z"
   },
   {
    "duration": 7,
    "start_time": "2024-03-22T07:13:03.471Z"
   },
   {
    "duration": 174,
    "start_time": "2024-03-22T07:13:03.652Z"
   },
   {
    "duration": 9,
    "start_time": "2024-03-22T07:13:04.713Z"
   },
   {
    "duration": 219,
    "start_time": "2024-03-22T07:13:05.169Z"
   },
   {
    "duration": 8,
    "start_time": "2024-03-22T07:13:06.135Z"
   },
   {
    "duration": 188,
    "start_time": "2024-03-22T07:13:06.350Z"
   },
   {
    "duration": 13,
    "start_time": "2024-03-22T07:13:08.293Z"
   },
   {
    "duration": 9,
    "start_time": "2024-03-22T07:13:09.982Z"
   },
   {
    "duration": 14,
    "start_time": "2024-03-22T07:13:12.310Z"
   },
   {
    "duration": 14,
    "start_time": "2024-03-22T07:13:13.410Z"
   },
   {
    "duration": 5,
    "start_time": "2024-03-22T07:13:13.712Z"
   },
   {
    "duration": 14,
    "start_time": "2024-03-22T07:13:14.082Z"
   },
   {
    "duration": 14,
    "start_time": "2024-03-22T07:13:14.549Z"
   },
   {
    "duration": 18,
    "start_time": "2024-03-22T07:25:02.910Z"
   },
   {
    "duration": 26,
    "start_time": "2024-03-22T07:26:22.905Z"
   },
   {
    "duration": 8,
    "start_time": "2024-03-22T07:26:31.738Z"
   },
   {
    "duration": 29,
    "start_time": "2024-03-22T07:26:42.020Z"
   },
   {
    "duration": 5,
    "start_time": "2024-03-22T07:27:03.938Z"
   },
   {
    "duration": 6,
    "start_time": "2024-03-22T07:28:11.566Z"
   },
   {
    "duration": 19,
    "start_time": "2024-03-22T07:28:20.460Z"
   },
   {
    "duration": 837,
    "start_time": "2024-03-22T10:02:08.822Z"
   },
   {
    "duration": 99,
    "start_time": "2024-03-22T10:02:09.661Z"
   },
   {
    "duration": 161,
    "start_time": "2024-03-22T10:02:09.814Z"
   },
   {
    "duration": 68,
    "start_time": "2024-03-22T10:02:17.496Z"
   },
   {
    "duration": 13,
    "start_time": "2024-03-22T10:02:18.304Z"
   },
   {
    "duration": 10,
    "start_time": "2024-03-22T10:02:18.527Z"
   },
   {
    "duration": 6,
    "start_time": "2024-03-22T10:02:18.794Z"
   },
   {
    "duration": 11,
    "start_time": "2024-03-22T10:02:19.312Z"
   },
   {
    "duration": 10,
    "start_time": "2024-03-22T10:02:19.690Z"
   },
   {
    "duration": 9,
    "start_time": "2024-03-22T10:02:20.086Z"
   },
   {
    "duration": 2,
    "start_time": "2024-03-22T10:31:27.632Z"
   },
   {
    "duration": 30,
    "start_time": "2024-03-22T10:31:27.693Z"
   },
   {
    "duration": 29,
    "start_time": "2024-03-22T10:31:27.725Z"
   },
   {
    "duration": 16,
    "start_time": "2024-03-22T10:31:27.758Z"
   },
   {
    "duration": 10,
    "start_time": "2024-03-22T10:31:27.845Z"
   },
   {
    "duration": 9,
    "start_time": "2024-03-22T10:31:27.883Z"
   },
   {
    "duration": 6,
    "start_time": "2024-03-22T10:31:27.910Z"
   },
   {
    "duration": 10,
    "start_time": "2024-03-22T10:31:27.972Z"
   },
   {
    "duration": 11,
    "start_time": "2024-03-22T10:31:28.031Z"
   },
   {
    "duration": 9,
    "start_time": "2024-03-22T10:31:28.091Z"
   },
   {
    "duration": 18,
    "start_time": "2024-03-22T10:31:28.181Z"
   },
   {
    "duration": 57,
    "start_time": "2024-03-22T10:31:28.238Z"
   },
   {
    "duration": 203,
    "start_time": "2024-03-22T10:31:28.350Z"
   },
   {
    "duration": 224,
    "start_time": "2024-03-22T10:31:28.555Z"
   },
   {
    "duration": 235,
    "start_time": "2024-03-22T10:31:28.781Z"
   },
   {
    "duration": 3,
    "start_time": "2024-03-22T10:31:29.347Z"
   },
   {
    "duration": 9,
    "start_time": "2024-03-22T10:31:29.418Z"
   },
   {
    "duration": 5,
    "start_time": "2024-03-22T10:31:29.486Z"
   },
   {
    "duration": 5,
    "start_time": "2024-03-22T10:31:29.575Z"
   },
   {
    "duration": 8,
    "start_time": "2024-03-22T10:31:29.603Z"
   },
   {
    "duration": 3,
    "start_time": "2024-03-22T10:31:30.242Z"
   },
   {
    "duration": 8,
    "start_time": "2024-03-22T10:31:30.413Z"
   },
   {
    "duration": 64,
    "start_time": "2024-03-22T10:31:30.596Z"
   },
   {
    "duration": 172,
    "start_time": "2024-03-22T10:31:31.142Z"
   },
   {
    "duration": 7,
    "start_time": "2024-03-22T10:31:31.714Z"
   },
   {
    "duration": 197,
    "start_time": "2024-03-22T10:31:31.919Z"
   },
   {
    "duration": 4,
    "start_time": "2024-03-22T10:31:32.452Z"
   },
   {
    "duration": 5,
    "start_time": "2024-03-22T10:31:33.198Z"
   },
   {
    "duration": 7,
    "start_time": "2024-03-22T10:31:33.593Z"
   },
   {
    "duration": 6,
    "start_time": "2024-03-22T10:31:33.778Z"
   },
   {
    "duration": 3,
    "start_time": "2024-03-22T10:31:33.965Z"
   },
   {
    "duration": 9,
    "start_time": "2024-03-22T10:31:34.544Z"
   },
   {
    "duration": 91,
    "start_time": "2024-03-22T10:31:34.935Z"
   },
   {
    "duration": 95,
    "start_time": "2024-03-22T10:31:35.121Z"
   },
   {
    "duration": 6,
    "start_time": "2024-03-22T10:31:35.522Z"
   },
   {
    "duration": 213,
    "start_time": "2024-03-22T10:31:35.899Z"
   },
   {
    "duration": 3,
    "start_time": "2024-03-22T10:31:36.477Z"
   },
   {
    "duration": 14,
    "start_time": "2024-03-22T10:31:37.227Z"
   },
   {
    "duration": 134,
    "start_time": "2024-03-22T10:31:37.412Z"
   },
   {
    "duration": 3,
    "start_time": "2024-03-22T10:31:38.013Z"
   },
   {
    "duration": 4,
    "start_time": "2024-03-22T10:31:38.199Z"
   },
   {
    "duration": 74,
    "start_time": "2024-03-22T10:31:38.427Z"
   },
   {
    "duration": 8,
    "start_time": "2024-03-22T10:31:39.138Z"
   },
   {
    "duration": 171,
    "start_time": "2024-03-22T10:31:39.329Z"
   },
   {
    "duration": 9,
    "start_time": "2024-03-22T10:31:40.110Z"
   },
   {
    "duration": 267,
    "start_time": "2024-03-22T10:31:40.302Z"
   },
   {
    "duration": 8,
    "start_time": "2024-03-22T10:31:41.215Z"
   },
   {
    "duration": 284,
    "start_time": "2024-03-22T10:31:41.425Z"
   },
   {
    "duration": 10,
    "start_time": "2024-03-22T10:31:42.495Z"
   },
   {
    "duration": 9,
    "start_time": "2024-03-22T10:31:42.941Z"
   },
   {
    "duration": 16,
    "start_time": "2024-03-22T10:31:43.386Z"
   },
   {
    "duration": 15,
    "start_time": "2024-03-22T10:31:43.958Z"
   },
   {
    "duration": 5,
    "start_time": "2024-03-22T10:31:44.262Z"
   },
   {
    "duration": 15,
    "start_time": "2024-03-22T10:31:44.462Z"
   },
   {
    "duration": 7,
    "start_time": "2024-03-22T10:31:46.825Z"
   },
   {
    "duration": 6,
    "start_time": "2024-03-22T10:31:47.652Z"
   },
   {
    "duration": 26,
    "start_time": "2024-03-22T10:32:02.563Z"
   },
   {
    "duration": 5,
    "start_time": "2024-03-22T10:32:26.190Z"
   },
   {
    "duration": 131,
    "start_time": "2024-03-22T11:44:20.163Z"
   },
   {
    "duration": 76,
    "start_time": "2024-03-22T11:44:40.876Z"
   },
   {
    "duration": 9,
    "start_time": "2024-03-22T11:44:46.833Z"
   },
   {
    "duration": 127,
    "start_time": "2024-03-22T11:45:42.799Z"
   },
   {
    "duration": 167,
    "start_time": "2024-03-22T11:45:54.172Z"
   },
   {
    "duration": 7,
    "start_time": "2024-03-22T11:46:35.979Z"
   },
   {
    "duration": 167,
    "start_time": "2024-03-22T11:46:55.218Z"
   },
   {
    "duration": 153,
    "start_time": "2024-03-22T11:47:18.941Z"
   },
   {
    "duration": 132,
    "start_time": "2024-03-22T11:47:23.258Z"
   },
   {
    "duration": 137,
    "start_time": "2024-03-22T11:48:32.160Z"
   },
   {
    "duration": 157,
    "start_time": "2024-03-22T11:48:37.657Z"
   },
   {
    "duration": 9,
    "start_time": "2024-03-22T12:25:18.041Z"
   },
   {
    "duration": 8,
    "start_time": "2024-03-22T12:26:15.742Z"
   },
   {
    "duration": 164,
    "start_time": "2024-03-22T12:26:46.634Z"
   },
   {
    "duration": 9,
    "start_time": "2024-03-22T12:26:52.163Z"
   },
   {
    "duration": 157,
    "start_time": "2024-03-22T12:27:05.837Z"
   },
   {
    "duration": 248,
    "start_time": "2024-03-22T12:28:07.562Z"
   },
   {
    "duration": 158,
    "start_time": "2024-03-22T12:28:12.600Z"
   },
   {
    "duration": 845,
    "start_time": "2024-03-22T14:52:31.230Z"
   },
   {
    "duration": 86,
    "start_time": "2024-03-22T14:52:32.077Z"
   },
   {
    "duration": 157,
    "start_time": "2024-03-22T14:52:32.165Z"
   },
   {
    "duration": 54,
    "start_time": "2024-03-22T14:52:32.324Z"
   },
   {
    "duration": 14,
    "start_time": "2024-03-22T14:52:32.380Z"
   },
   {
    "duration": 20,
    "start_time": "2024-03-22T14:52:32.395Z"
   },
   {
    "duration": 29,
    "start_time": "2024-03-22T14:52:32.417Z"
   },
   {
    "duration": 29,
    "start_time": "2024-03-22T14:52:32.448Z"
   },
   {
    "duration": 32,
    "start_time": "2024-03-22T14:52:32.479Z"
   },
   {
    "duration": 29,
    "start_time": "2024-03-22T14:52:32.514Z"
   },
   {
    "duration": 42,
    "start_time": "2024-03-22T14:52:32.544Z"
   },
   {
    "duration": 70,
    "start_time": "2024-03-22T14:52:32.587Z"
   },
   {
    "duration": 207,
    "start_time": "2024-03-22T14:52:32.659Z"
   },
   {
    "duration": 231,
    "start_time": "2024-03-22T14:52:32.868Z"
   },
   {
    "duration": 229,
    "start_time": "2024-03-22T14:52:33.100Z"
   },
   {
    "duration": 3,
    "start_time": "2024-03-22T14:52:34.234Z"
   },
   {
    "duration": 67,
    "start_time": "2024-03-22T14:52:34.270Z"
   },
   {
    "duration": 54,
    "start_time": "2024-03-22T14:52:34.338Z"
   },
   {
    "duration": 5,
    "start_time": "2024-03-22T14:52:35.071Z"
   },
   {
    "duration": 8,
    "start_time": "2024-03-22T14:52:35.378Z"
   },
   {
    "duration": 3,
    "start_time": "2024-03-22T14:52:36.276Z"
   },
   {
    "duration": 7,
    "start_time": "2024-03-22T14:52:36.500Z"
   },
   {
    "duration": 9,
    "start_time": "2024-03-22T14:52:36.677Z"
   },
   {
    "duration": 162,
    "start_time": "2024-03-22T14:52:37.225Z"
   },
   {
    "duration": 7,
    "start_time": "2024-03-22T14:52:38.048Z"
   },
   {
    "duration": 207,
    "start_time": "2024-03-22T14:52:38.091Z"
   },
   {
    "duration": 5,
    "start_time": "2024-03-22T14:52:38.513Z"
   },
   {
    "duration": 4,
    "start_time": "2024-03-22T14:52:39.214Z"
   },
   {
    "duration": 7,
    "start_time": "2024-03-22T14:52:39.614Z"
   },
   {
    "duration": 8,
    "start_time": "2024-03-22T14:52:39.817Z"
   },
   {
    "duration": 3,
    "start_time": "2024-03-22T14:52:40.033Z"
   },
   {
    "duration": 8,
    "start_time": "2024-03-22T14:52:40.967Z"
   },
   {
    "duration": 103,
    "start_time": "2024-03-22T14:52:41.523Z"
   },
   {
    "duration": 93,
    "start_time": "2024-03-22T14:52:42.111Z"
   },
   {
    "duration": 6,
    "start_time": "2024-03-22T14:52:43.014Z"
   },
   {
    "duration": 212,
    "start_time": "2024-03-22T14:52:43.903Z"
   },
   {
    "duration": 5,
    "start_time": "2024-03-22T14:52:45.701Z"
   },
   {
    "duration": 14,
    "start_time": "2024-03-22T14:52:47.759Z"
   },
   {
    "duration": 140,
    "start_time": "2024-03-22T14:52:47.963Z"
   },
   {
    "duration": 3,
    "start_time": "2024-03-22T14:52:48.641Z"
   },
   {
    "duration": 5,
    "start_time": "2024-03-22T14:52:48.842Z"
   },
   {
    "duration": 83,
    "start_time": "2024-03-22T14:52:49.010Z"
   },
   {
    "duration": 8,
    "start_time": "2024-03-22T14:52:49.708Z"
   },
   {
    "duration": 194,
    "start_time": "2024-03-22T14:52:49.878Z"
   },
   {
    "duration": 8,
    "start_time": "2024-03-22T14:52:50.580Z"
   },
   {
    "duration": 220,
    "start_time": "2024-03-22T14:52:50.770Z"
   },
   {
    "duration": 8,
    "start_time": "2024-03-22T14:52:51.517Z"
   },
   {
    "duration": 277,
    "start_time": "2024-03-22T14:52:51.704Z"
   },
   {
    "duration": 10,
    "start_time": "2024-03-22T14:52:52.736Z"
   },
   {
    "duration": 9,
    "start_time": "2024-03-22T14:52:53.110Z"
   },
   {
    "duration": 16,
    "start_time": "2024-03-22T14:52:53.415Z"
   },
   {
    "duration": 14,
    "start_time": "2024-03-22T14:52:53.903Z"
   },
   {
    "duration": 4,
    "start_time": "2024-03-22T14:52:54.101Z"
   },
   {
    "duration": 15,
    "start_time": "2024-03-22T14:52:54.278Z"
   },
   {
    "duration": 7,
    "start_time": "2024-03-22T14:52:54.968Z"
   },
   {
    "duration": 6,
    "start_time": "2024-03-22T14:52:55.674Z"
   },
   {
    "duration": 8,
    "start_time": "2024-03-22T14:52:56.734Z"
   },
   {
    "duration": 177,
    "start_time": "2024-03-22T14:52:57.182Z"
   },
   {
    "duration": 8,
    "start_time": "2024-03-22T14:52:57.616Z"
   },
   {
    "duration": 177,
    "start_time": "2024-03-22T14:52:58.180Z"
   },
   {
    "duration": 9,
    "start_time": "2024-03-22T14:52:59.886Z"
   },
   {
    "duration": 177,
    "start_time": "2024-03-22T14:53:00.687Z"
   },
   {
    "duration": 9,
    "start_time": "2024-03-22T14:53:01.387Z"
   },
   {
    "duration": 170,
    "start_time": "2024-03-22T14:53:02.246Z"
   },
   {
    "duration": 759,
    "start_time": "2024-03-22T19:53:40.613Z"
   },
   {
    "duration": 86,
    "start_time": "2024-03-22T19:53:41.374Z"
   },
   {
    "duration": 77,
    "start_time": "2024-03-22T19:53:41.462Z"
   },
   {
    "duration": 59,
    "start_time": "2024-03-22T19:53:41.541Z"
   },
   {
    "duration": 14,
    "start_time": "2024-03-22T19:53:42.443Z"
   },
   {
    "duration": 9,
    "start_time": "2024-03-22T19:53:42.658Z"
   },
   {
    "duration": 7,
    "start_time": "2024-03-22T19:53:42.974Z"
   },
   {
    "duration": 10,
    "start_time": "2024-03-22T19:53:43.403Z"
   },
   {
    "duration": 10,
    "start_time": "2024-03-22T19:53:43.825Z"
   },
   {
    "duration": 9,
    "start_time": "2024-03-22T19:53:44.254Z"
   },
   {
    "duration": 17,
    "start_time": "2024-03-22T19:53:44.838Z"
   },
   {
    "duration": 52,
    "start_time": "2024-03-22T19:53:45.198Z"
   },
   {
    "duration": 192,
    "start_time": "2024-03-22T19:53:45.762Z"
   },
   {
    "duration": 181,
    "start_time": "2024-03-22T19:53:45.976Z"
   },
   {
    "duration": 201,
    "start_time": "2024-03-22T19:53:46.159Z"
   },
   {
    "duration": 3,
    "start_time": "2024-03-22T19:53:47.468Z"
   },
   {
    "duration": 9,
    "start_time": "2024-03-22T19:53:48.006Z"
   },
   {
    "duration": 5,
    "start_time": "2024-03-22T19:53:48.082Z"
   },
   {
    "duration": 5,
    "start_time": "2024-03-22T19:53:48.163Z"
   },
   {
    "duration": 8,
    "start_time": "2024-03-22T19:53:48.205Z"
   },
   {
    "duration": 3,
    "start_time": "2024-03-22T19:53:48.319Z"
   },
   {
    "duration": 6,
    "start_time": "2024-03-22T19:53:48.357Z"
   },
   {
    "duration": 9,
    "start_time": "2024-03-22T19:53:48.380Z"
   },
   {
    "duration": 145,
    "start_time": "2024-03-22T19:53:48.482Z"
   },
   {
    "duration": 6,
    "start_time": "2024-03-22T19:53:48.629Z"
   },
   {
    "duration": 192,
    "start_time": "2024-03-22T19:53:48.636Z"
   },
   {
    "duration": 4,
    "start_time": "2024-03-22T19:53:48.830Z"
   },
   {
    "duration": 3,
    "start_time": "2024-03-22T19:53:48.845Z"
   },
   {
    "duration": 7,
    "start_time": "2024-03-22T19:53:48.854Z"
   },
   {
    "duration": 6,
    "start_time": "2024-03-22T19:53:48.871Z"
   },
   {
    "duration": 3,
    "start_time": "2024-03-22T19:53:48.913Z"
   },
   {
    "duration": 7,
    "start_time": "2024-03-22T19:53:48.998Z"
   },
   {
    "duration": 78,
    "start_time": "2024-03-22T19:53:49.050Z"
   },
   {
    "duration": 92,
    "start_time": "2024-03-22T19:53:49.130Z"
   },
   {
    "duration": 5,
    "start_time": "2024-03-22T19:53:49.224Z"
   },
   {
    "duration": 191,
    "start_time": "2024-03-22T19:53:49.244Z"
   },
   {
    "duration": 10,
    "start_time": "2024-03-22T19:53:49.436Z"
   },
   {
    "duration": 14,
    "start_time": "2024-03-22T19:53:49.447Z"
   },
   {
    "duration": 141,
    "start_time": "2024-03-22T19:53:49.463Z"
   },
   {
    "duration": 3,
    "start_time": "2024-03-22T19:53:49.606Z"
   },
   {
    "duration": 5,
    "start_time": "2024-03-22T19:53:49.611Z"
   },
   {
    "duration": 93,
    "start_time": "2024-03-22T19:53:49.618Z"
   },
   {
    "duration": 7,
    "start_time": "2024-03-22T19:53:49.713Z"
   },
   {
    "duration": 179,
    "start_time": "2024-03-22T19:53:49.722Z"
   },
   {
    "duration": 8,
    "start_time": "2024-03-22T19:53:50.691Z"
   },
   {
    "duration": 193,
    "start_time": "2024-03-22T19:53:50.730Z"
   },
   {
    "duration": 7,
    "start_time": "2024-03-22T19:53:50.925Z"
   },
   {
    "duration": 251,
    "start_time": "2024-03-22T19:53:50.945Z"
   },
   {
    "duration": 9,
    "start_time": "2024-03-22T19:53:51.198Z"
   },
   {
    "duration": 8,
    "start_time": "2024-03-22T19:53:51.208Z"
   },
   {
    "duration": 31,
    "start_time": "2024-03-22T19:53:51.217Z"
   },
   {
    "duration": 13,
    "start_time": "2024-03-22T19:53:51.584Z"
   },
   {
    "duration": 5,
    "start_time": "2024-03-22T19:53:52.106Z"
   },
   {
    "duration": 23,
    "start_time": "2024-03-22T19:53:52.116Z"
   },
   {
    "duration": 6,
    "start_time": "2024-03-22T19:53:52.210Z"
   },
   {
    "duration": 6,
    "start_time": "2024-03-22T19:53:52.275Z"
   },
   {
    "duration": 8,
    "start_time": "2024-03-22T19:53:52.373Z"
   },
   {
    "duration": 156,
    "start_time": "2024-03-22T19:53:52.410Z"
   },
   {
    "duration": 8,
    "start_time": "2024-03-22T19:53:52.568Z"
   },
   {
    "duration": 186,
    "start_time": "2024-03-22T19:53:52.578Z"
   },
   {
    "duration": 7,
    "start_time": "2024-03-22T19:53:52.766Z"
   },
   {
    "duration": 156,
    "start_time": "2024-03-22T19:53:52.774Z"
   },
   {
    "duration": 15,
    "start_time": "2024-03-22T19:53:52.931Z"
   },
   {
    "duration": 149,
    "start_time": "2024-03-22T19:53:52.947Z"
   },
   {
    "duration": 838,
    "start_time": "2024-03-23T07:09:58.010Z"
   },
   {
    "duration": 83,
    "start_time": "2024-03-23T07:09:58.850Z"
   },
   {
    "duration": 78,
    "start_time": "2024-03-23T07:09:58.936Z"
   },
   {
    "duration": 58,
    "start_time": "2024-03-23T07:09:59.016Z"
   },
   {
    "duration": 14,
    "start_time": "2024-03-23T07:09:59.257Z"
   },
   {
    "duration": 10,
    "start_time": "2024-03-23T07:09:59.435Z"
   },
   {
    "duration": 9,
    "start_time": "2024-03-23T07:09:59.661Z"
   },
   {
    "duration": 12,
    "start_time": "2024-03-23T07:10:00.037Z"
   },
   {
    "duration": 12,
    "start_time": "2024-03-23T07:10:00.389Z"
   },
   {
    "duration": 11,
    "start_time": "2024-03-23T07:10:00.740Z"
   },
   {
    "duration": 19,
    "start_time": "2024-03-23T07:10:01.255Z"
   },
   {
    "duration": 60,
    "start_time": "2024-03-23T07:10:01.610Z"
   },
   {
    "duration": 213,
    "start_time": "2024-03-23T07:10:02.137Z"
   },
   {
    "duration": 284,
    "start_time": "2024-03-23T07:10:02.351Z"
   },
   {
    "duration": 252,
    "start_time": "2024-03-23T07:10:02.637Z"
   },
   {
    "duration": 3,
    "start_time": "2024-03-23T07:10:03.712Z"
   },
   {
    "duration": 10,
    "start_time": "2024-03-23T07:10:04.027Z"
   },
   {
    "duration": 5,
    "start_time": "2024-03-23T07:10:04.400Z"
   },
   {
    "duration": 6,
    "start_time": "2024-03-23T07:10:04.911Z"
   },
   {
    "duration": 9,
    "start_time": "2024-03-23T07:10:05.090Z"
   },
   {
    "duration": 3,
    "start_time": "2024-03-23T07:10:05.777Z"
   },
   {
    "duration": 7,
    "start_time": "2024-03-23T07:10:05.963Z"
   },
   {
    "duration": 10,
    "start_time": "2024-03-23T07:10:06.140Z"
   },
   {
    "duration": 175,
    "start_time": "2024-03-23T07:10:06.696Z"
   },
   {
    "duration": 7,
    "start_time": "2024-03-23T07:10:07.267Z"
   },
   {
    "duration": 228,
    "start_time": "2024-03-23T07:10:07.456Z"
   },
   {
    "duration": 5,
    "start_time": "2024-03-23T07:10:07.813Z"
   },
   {
    "duration": 5,
    "start_time": "2024-03-23T07:10:08.541Z"
   },
   {
    "duration": 8,
    "start_time": "2024-03-23T07:10:08.901Z"
   },
   {
    "duration": 8,
    "start_time": "2024-03-23T07:10:09.112Z"
   },
   {
    "duration": 4,
    "start_time": "2024-03-23T07:10:09.264Z"
   },
   {
    "duration": 9,
    "start_time": "2024-03-23T07:10:10.123Z"
   },
   {
    "duration": 99,
    "start_time": "2024-03-23T07:10:10.214Z"
   },
   {
    "duration": 108,
    "start_time": "2024-03-23T07:10:10.315Z"
   },
   {
    "duration": 5,
    "start_time": "2024-03-23T07:10:10.425Z"
   },
   {
    "duration": 242,
    "start_time": "2024-03-23T07:10:10.431Z"
   },
   {
    "duration": 8,
    "start_time": "2024-03-23T07:10:10.675Z"
   },
   {
    "duration": 16,
    "start_time": "2024-03-23T07:10:10.822Z"
   },
   {
    "duration": 172,
    "start_time": "2024-03-23T07:10:11.012Z"
   },
   {
    "duration": 4,
    "start_time": "2024-03-23T07:10:11.629Z"
   },
   {
    "duration": 4,
    "start_time": "2024-03-23T07:10:11.824Z"
   },
   {
    "duration": 87,
    "start_time": "2024-03-23T07:10:12.025Z"
   },
   {
    "duration": 8,
    "start_time": "2024-03-23T07:10:12.599Z"
   },
   {
    "duration": 207,
    "start_time": "2024-03-23T07:10:12.779Z"
   },
   {
    "duration": 9,
    "start_time": "2024-03-23T07:10:13.515Z"
   },
   {
    "duration": 251,
    "start_time": "2024-03-23T07:10:13.687Z"
   },
   {
    "duration": 8,
    "start_time": "2024-03-23T07:10:14.451Z"
   },
   {
    "duration": 292,
    "start_time": "2024-03-23T07:10:14.649Z"
   },
   {
    "duration": 10,
    "start_time": "2024-03-23T07:10:15.844Z"
   },
   {
    "duration": 10,
    "start_time": "2024-03-23T07:10:16.363Z"
   },
   {
    "duration": 19,
    "start_time": "2024-03-23T07:10:16.713Z"
   },
   {
    "duration": 15,
    "start_time": "2024-03-23T07:10:17.121Z"
   },
   {
    "duration": 5,
    "start_time": "2024-03-23T07:10:17.353Z"
   },
   {
    "duration": 17,
    "start_time": "2024-03-23T07:10:17.514Z"
   },
   {
    "duration": 8,
    "start_time": "2024-03-23T07:10:18.146Z"
   },
   {
    "duration": 6,
    "start_time": "2024-03-23T07:10:18.512Z"
   },
   {
    "duration": 9,
    "start_time": "2024-03-23T07:10:19.135Z"
   },
   {
    "duration": 187,
    "start_time": "2024-03-23T07:10:19.338Z"
   },
   {
    "duration": 8,
    "start_time": "2024-03-23T07:10:19.553Z"
   },
   {
    "duration": 178,
    "start_time": "2024-03-23T07:10:19.756Z"
   },
   {
    "duration": 8,
    "start_time": "2024-03-23T07:10:20.353Z"
   },
   {
    "duration": 178,
    "start_time": "2024-03-23T07:10:20.537Z"
   },
   {
    "duration": 9,
    "start_time": "2024-03-23T07:10:20.732Z"
   },
   {
    "duration": 167,
    "start_time": "2024-03-23T07:10:20.998Z"
   },
   {
    "duration": 82,
    "start_time": "2024-03-23T07:22:35.668Z"
   },
   {
    "duration": 12,
    "start_time": "2024-03-23T07:22:52.583Z"
   },
   {
    "duration": 20,
    "start_time": "2024-03-23T07:23:04.895Z"
   },
   {
    "duration": 24,
    "start_time": "2024-03-23T07:27:56.698Z"
   },
   {
    "duration": 22,
    "start_time": "2024-03-23T07:28:46.856Z"
   },
   {
    "duration": 16,
    "start_time": "2024-03-23T07:29:17.501Z"
   },
   {
    "duration": 23,
    "start_time": "2024-03-23T07:29:31.233Z"
   },
   {
    "duration": 9,
    "start_time": "2024-03-23T07:29:37.379Z"
   },
   {
    "duration": 23,
    "start_time": "2024-03-23T07:29:44.271Z"
   },
   {
    "duration": 13,
    "start_time": "2024-03-23T07:32:12.635Z"
   },
   {
    "duration": 22,
    "start_time": "2024-03-23T07:32:22.358Z"
   },
   {
    "duration": 11,
    "start_time": "2024-03-23T07:35:39.853Z"
   },
   {
    "duration": 11,
    "start_time": "2024-03-23T07:35:56.310Z"
   },
   {
    "duration": 22,
    "start_time": "2024-03-23T07:36:09.699Z"
   },
   {
    "duration": 11,
    "start_time": "2024-03-23T07:37:37.779Z"
   },
   {
    "duration": 23,
    "start_time": "2024-03-23T07:37:44.674Z"
   },
   {
    "duration": 35,
    "start_time": "2024-03-23T07:40:02.530Z"
   },
   {
    "duration": 24,
    "start_time": "2024-03-23T07:42:08.421Z"
   },
   {
    "duration": 25,
    "start_time": "2024-03-23T07:42:15.139Z"
   },
   {
    "duration": 23,
    "start_time": "2024-03-23T07:42:22.046Z"
   },
   {
    "duration": 24,
    "start_time": "2024-03-23T07:42:39.714Z"
   },
   {
    "duration": 26,
    "start_time": "2024-03-23T08:02:55.947Z"
   },
   {
    "duration": 24,
    "start_time": "2024-03-23T08:03:07.574Z"
   },
   {
    "duration": 31,
    "start_time": "2024-03-23T08:03:54.293Z"
   },
   {
    "duration": 39,
    "start_time": "2024-03-23T08:04:12.648Z"
   },
   {
    "duration": 28,
    "start_time": "2024-03-23T08:05:11.146Z"
   },
   {
    "duration": 32,
    "start_time": "2024-03-23T08:05:16.365Z"
   },
   {
    "duration": 37,
    "start_time": "2024-03-23T10:12:55.200Z"
   },
   {
    "duration": 7,
    "start_time": "2024-03-23T10:14:22.476Z"
   },
   {
    "duration": 53,
    "start_time": "2024-03-23T10:39:24.482Z"
   },
   {
    "duration": 59,
    "start_time": "2024-03-23T10:40:00.856Z"
   },
   {
    "duration": 3,
    "start_time": "2024-03-23T10:41:08.889Z"
   },
   {
    "duration": 51,
    "start_time": "2024-03-23T10:41:20.182Z"
   },
   {
    "duration": 5,
    "start_time": "2024-03-23T10:42:46.165Z"
   },
   {
    "duration": 4,
    "start_time": "2024-03-23T10:43:09.097Z"
   },
   {
    "duration": 3,
    "start_time": "2024-03-23T10:44:51.468Z"
   },
   {
    "duration": 10,
    "start_time": "2024-03-23T10:46:18.560Z"
   },
   {
    "duration": 9,
    "start_time": "2024-03-23T10:46:27.725Z"
   },
   {
    "duration": 6,
    "start_time": "2024-03-23T10:46:37.863Z"
   },
   {
    "duration": 7,
    "start_time": "2024-03-23T10:46:46.179Z"
   },
   {
    "duration": 5,
    "start_time": "2024-03-23T10:48:43.523Z"
   },
   {
    "duration": 3,
    "start_time": "2024-03-23T10:48:45.808Z"
   },
   {
    "duration": 5,
    "start_time": "2024-03-23T10:49:27.821Z"
   },
   {
    "duration": 1053,
    "start_time": "2024-03-23T10:49:29.730Z"
   },
   {
    "duration": 7,
    "start_time": "2024-03-23T10:49:47.436Z"
   },
   {
    "duration": 7,
    "start_time": "2024-03-23T11:04:57.928Z"
   },
   {
    "duration": 4,
    "start_time": "2024-03-23T11:07:37.094Z"
   },
   {
    "duration": 987,
    "start_time": "2024-03-23T11:07:41.559Z"
   },
   {
    "duration": 12,
    "start_time": "2024-03-23T11:12:29.704Z"
   },
   {
    "duration": 37,
    "start_time": "2024-03-23T11:28:04.123Z"
   },
   {
    "duration": 55,
    "start_time": "2024-03-23T11:28:46.312Z"
   },
   {
    "duration": 25,
    "start_time": "2024-03-23T11:29:06.766Z"
   },
   {
    "duration": 27,
    "start_time": "2024-03-23T11:39:34.376Z"
   },
   {
    "duration": 27,
    "start_time": "2024-03-23T11:42:50.537Z"
   },
   {
    "duration": 29,
    "start_time": "2024-03-23T11:42:59.917Z"
   },
   {
    "duration": 11,
    "start_time": "2024-03-23T11:43:05.927Z"
   },
   {
    "duration": 14,
    "start_time": "2024-03-23T11:45:30.772Z"
   },
   {
    "duration": 17,
    "start_time": "2024-03-23T11:55:59.444Z"
   },
   {
    "duration": 26,
    "start_time": "2024-03-23T11:56:21.777Z"
   },
   {
    "duration": 848,
    "start_time": "2024-03-23T17:34:07.251Z"
   },
   {
    "duration": 112,
    "start_time": "2024-03-23T17:34:08.101Z"
   },
   {
    "duration": 132,
    "start_time": "2024-03-23T17:34:08.215Z"
   },
   {
    "duration": 67,
    "start_time": "2024-03-23T17:34:08.349Z"
   },
   {
    "duration": 14,
    "start_time": "2024-03-23T17:34:08.479Z"
   },
   {
    "duration": 11,
    "start_time": "2024-03-23T17:34:08.650Z"
   },
   {
    "duration": 9,
    "start_time": "2024-03-23T17:34:08.830Z"
   },
   {
    "duration": 13,
    "start_time": "2024-03-23T17:34:09.192Z"
   },
   {
    "duration": 12,
    "start_time": "2024-03-23T17:34:09.571Z"
   },
   {
    "duration": 13,
    "start_time": "2024-03-23T17:34:09.923Z"
   },
   {
    "duration": 19,
    "start_time": "2024-03-23T17:34:10.460Z"
   },
   {
    "duration": 57,
    "start_time": "2024-03-23T17:34:10.820Z"
   },
   {
    "duration": 198,
    "start_time": "2024-03-23T17:34:11.355Z"
   },
   {
    "duration": 225,
    "start_time": "2024-03-23T17:34:11.555Z"
   },
   {
    "duration": 233,
    "start_time": "2024-03-23T17:34:11.781Z"
   },
   {
    "duration": 3,
    "start_time": "2024-03-23T17:34:13.032Z"
   },
   {
    "duration": 9,
    "start_time": "2024-03-23T17:34:13.391Z"
   },
   {
    "duration": 5,
    "start_time": "2024-03-23T17:34:13.765Z"
   },
   {
    "duration": 5,
    "start_time": "2024-03-23T17:34:14.312Z"
   },
   {
    "duration": 9,
    "start_time": "2024-03-23T17:34:14.494Z"
   },
   {
    "duration": 3,
    "start_time": "2024-03-23T17:34:15.237Z"
   },
   {
    "duration": 5,
    "start_time": "2024-03-23T17:34:15.428Z"
   },
   {
    "duration": 8,
    "start_time": "2024-03-23T17:34:15.618Z"
   },
   {
    "duration": 171,
    "start_time": "2024-03-23T17:34:16.221Z"
   },
   {
    "duration": 7,
    "start_time": "2024-03-23T17:34:16.795Z"
   },
   {
    "duration": 193,
    "start_time": "2024-03-23T17:34:17.007Z"
   },
   {
    "duration": 6,
    "start_time": "2024-03-23T17:34:17.388Z"
   },
   {
    "duration": 4,
    "start_time": "2024-03-23T17:34:18.201Z"
   },
   {
    "duration": 7,
    "start_time": "2024-03-23T17:34:18.570Z"
   },
   {
    "duration": 7,
    "start_time": "2024-03-23T17:34:18.757Z"
   },
   {
    "duration": 4,
    "start_time": "2024-03-23T17:34:18.949Z"
   },
   {
    "duration": 9,
    "start_time": "2024-03-23T17:34:19.518Z"
   },
   {
    "duration": 93,
    "start_time": "2024-03-23T17:34:19.926Z"
   },
   {
    "duration": 94,
    "start_time": "2024-03-23T17:34:20.124Z"
   },
   {
    "duration": 6,
    "start_time": "2024-03-23T17:34:20.519Z"
   },
   {
    "duration": 211,
    "start_time": "2024-03-23T17:34:20.923Z"
   },
   {
    "duration": 4,
    "start_time": "2024-03-23T17:34:21.523Z"
   },
   {
    "duration": 13,
    "start_time": "2024-03-23T17:34:22.359Z"
   },
   {
    "duration": 138,
    "start_time": "2024-03-23T17:34:22.573Z"
   },
   {
    "duration": 4,
    "start_time": "2024-03-23T17:34:23.233Z"
   },
   {
    "duration": 5,
    "start_time": "2024-03-23T17:34:23.424Z"
   },
   {
    "duration": 88,
    "start_time": "2024-03-23T17:34:23.634Z"
   },
   {
    "duration": 7,
    "start_time": "2024-03-23T17:34:24.258Z"
   },
   {
    "duration": 197,
    "start_time": "2024-03-23T17:34:24.479Z"
   },
   {
    "duration": 9,
    "start_time": "2024-03-23T17:34:25.316Z"
   },
   {
    "duration": 221,
    "start_time": "2024-03-23T17:34:25.513Z"
   },
   {
    "duration": 9,
    "start_time": "2024-03-23T17:34:26.388Z"
   },
   {
    "duration": 271,
    "start_time": "2024-03-23T17:34:26.618Z"
   },
   {
    "duration": 9,
    "start_time": "2024-03-23T17:34:27.724Z"
   },
   {
    "duration": 9,
    "start_time": "2024-03-23T17:34:28.119Z"
   },
   {
    "duration": 16,
    "start_time": "2024-03-23T17:34:28.554Z"
   },
   {
    "duration": 14,
    "start_time": "2024-03-23T17:34:28.987Z"
   },
   {
    "duration": 5,
    "start_time": "2024-03-23T17:34:29.191Z"
   },
   {
    "duration": 14,
    "start_time": "2024-03-23T17:34:29.400Z"
   },
   {
    "duration": 7,
    "start_time": "2024-03-23T17:34:30.030Z"
   },
   {
    "duration": 6,
    "start_time": "2024-03-23T17:34:30.463Z"
   },
   {
    "duration": 9,
    "start_time": "2024-03-23T17:34:31.057Z"
   },
   {
    "duration": 171,
    "start_time": "2024-03-23T17:34:31.265Z"
   },
   {
    "duration": 9,
    "start_time": "2024-03-23T17:34:31.475Z"
   },
   {
    "duration": 159,
    "start_time": "2024-03-23T17:34:31.658Z"
   },
   {
    "duration": 8,
    "start_time": "2024-03-23T17:34:32.281Z"
   },
   {
    "duration": 189,
    "start_time": "2024-03-23T17:34:32.474Z"
   },
   {
    "duration": 8,
    "start_time": "2024-03-23T17:34:32.681Z"
   },
   {
    "duration": 158,
    "start_time": "2024-03-23T17:34:32.875Z"
   },
   {
    "duration": 32,
    "start_time": "2024-03-23T17:34:33.659Z"
   },
   {
    "duration": 85,
    "start_time": "2024-03-23T17:34:34.060Z"
   },
   {
    "duration": 67,
    "start_time": "2024-03-23T17:34:34.244Z"
   },
   {
    "duration": 749,
    "start_time": "2024-03-24T07:39:08.926Z"
   },
   {
    "duration": 104,
    "start_time": "2024-03-24T07:39:09.677Z"
   },
   {
    "duration": 138,
    "start_time": "2024-03-24T07:39:09.783Z"
   },
   {
    "duration": 69,
    "start_time": "2024-03-24T07:39:09.923Z"
   },
   {
    "duration": 14,
    "start_time": "2024-03-24T07:39:10.443Z"
   },
   {
    "duration": 10,
    "start_time": "2024-03-24T07:39:10.636Z"
   },
   {
    "duration": 7,
    "start_time": "2024-03-24T07:39:10.849Z"
   },
   {
    "duration": 11,
    "start_time": "2024-03-24T07:39:11.279Z"
   },
   {
    "duration": 11,
    "start_time": "2024-03-24T07:39:11.712Z"
   },
   {
    "duration": 14,
    "start_time": "2024-03-24T07:39:12.618Z"
   },
   {
    "duration": 19,
    "start_time": "2024-03-24T07:39:13.583Z"
   },
   {
    "duration": 54,
    "start_time": "2024-03-24T07:39:13.929Z"
   },
   {
    "duration": 202,
    "start_time": "2024-03-24T07:39:15.003Z"
   },
   {
    "duration": 202,
    "start_time": "2024-03-24T07:39:15.796Z"
   },
   {
    "duration": 248,
    "start_time": "2024-03-24T07:39:16.000Z"
   },
   {
    "duration": 3,
    "start_time": "2024-03-24T07:39:17.181Z"
   },
   {
    "duration": 9,
    "start_time": "2024-03-24T07:39:17.524Z"
   },
   {
    "duration": 5,
    "start_time": "2024-03-24T07:39:17.883Z"
   },
   {
    "duration": 5,
    "start_time": "2024-03-24T07:39:18.431Z"
   },
   {
    "duration": 8,
    "start_time": "2024-03-24T07:39:18.622Z"
   },
   {
    "duration": 3,
    "start_time": "2024-03-24T07:39:19.378Z"
   },
   {
    "duration": 6,
    "start_time": "2024-03-24T07:39:19.573Z"
   },
   {
    "duration": 9,
    "start_time": "2024-03-24T07:39:19.842Z"
   },
   {
    "duration": 157,
    "start_time": "2024-03-24T07:39:20.493Z"
   },
   {
    "duration": 6,
    "start_time": "2024-03-24T07:39:21.103Z"
   },
   {
    "duration": 195,
    "start_time": "2024-03-24T07:39:21.367Z"
   },
   {
    "duration": 4,
    "start_time": "2024-03-24T07:39:21.775Z"
   },
   {
    "duration": 4,
    "start_time": "2024-03-24T07:39:22.561Z"
   },
   {
    "duration": 7,
    "start_time": "2024-03-24T07:39:22.938Z"
   },
   {
    "duration": 6,
    "start_time": "2024-03-24T07:39:23.128Z"
   },
   {
    "duration": 3,
    "start_time": "2024-03-24T07:39:23.311Z"
   },
   {
    "duration": 8,
    "start_time": "2024-03-24T07:39:23.900Z"
   },
   {
    "duration": 85,
    "start_time": "2024-03-24T07:39:24.416Z"
   },
   {
    "duration": 94,
    "start_time": "2024-03-24T07:39:24.621Z"
   },
   {
    "duration": 6,
    "start_time": "2024-03-24T07:39:25.235Z"
   },
   {
    "duration": 211,
    "start_time": "2024-03-24T07:39:25.672Z"
   },
   {
    "duration": 4,
    "start_time": "2024-03-24T07:39:26.298Z"
   },
   {
    "duration": 13,
    "start_time": "2024-03-24T07:39:27.124Z"
   },
   {
    "duration": 138,
    "start_time": "2024-03-24T07:39:27.327Z"
   },
   {
    "duration": 3,
    "start_time": "2024-03-24T07:39:27.901Z"
   },
   {
    "duration": 4,
    "start_time": "2024-03-24T07:39:28.098Z"
   },
   {
    "duration": 80,
    "start_time": "2024-03-24T07:39:28.313Z"
   },
   {
    "duration": 7,
    "start_time": "2024-03-24T07:39:28.882Z"
   },
   {
    "duration": 176,
    "start_time": "2024-03-24T07:39:29.090Z"
   },
   {
    "duration": 9,
    "start_time": "2024-03-24T07:39:29.872Z"
   },
   {
    "duration": 233,
    "start_time": "2024-03-24T07:39:30.075Z"
   },
   {
    "duration": 9,
    "start_time": "2024-03-24T07:39:31.064Z"
   },
   {
    "duration": 263,
    "start_time": "2024-03-24T07:39:31.258Z"
   },
   {
    "duration": 9,
    "start_time": "2024-03-24T07:39:32.343Z"
   },
   {
    "duration": 8,
    "start_time": "2024-03-24T07:39:32.732Z"
   },
   {
    "duration": 16,
    "start_time": "2024-03-24T07:39:33.140Z"
   },
   {
    "duration": 14,
    "start_time": "2024-03-24T07:39:33.572Z"
   },
   {
    "duration": 4,
    "start_time": "2024-03-24T07:39:33.802Z"
   },
   {
    "duration": 14,
    "start_time": "2024-03-24T07:39:34.012Z"
   },
   {
    "duration": 7,
    "start_time": "2024-03-24T07:39:34.614Z"
   },
   {
    "duration": 7,
    "start_time": "2024-03-24T07:39:35.049Z"
   },
   {
    "duration": 8,
    "start_time": "2024-03-24T07:39:35.800Z"
   },
   {
    "duration": 193,
    "start_time": "2024-03-24T07:39:36.050Z"
   },
   {
    "duration": 8,
    "start_time": "2024-03-24T07:39:36.276Z"
   },
   {
    "duration": 157,
    "start_time": "2024-03-24T07:39:36.529Z"
   },
   {
    "duration": 9,
    "start_time": "2024-03-24T07:39:37.227Z"
   },
   {
    "duration": 154,
    "start_time": "2024-03-24T07:39:37.656Z"
   },
   {
    "duration": 8,
    "start_time": "2024-03-24T07:39:37.857Z"
   },
   {
    "duration": 157,
    "start_time": "2024-03-24T07:39:38.042Z"
   },
   {
    "duration": 26,
    "start_time": "2024-03-24T07:39:38.842Z"
   },
   {
    "duration": 86,
    "start_time": "2024-03-24T07:39:39.250Z"
   },
   {
    "duration": 76,
    "start_time": "2024-03-24T07:39:39.504Z"
   },
   {
    "duration": 11,
    "start_time": "2024-03-24T07:43:28.996Z"
   },
   {
    "duration": 25,
    "start_time": "2024-03-24T07:49:42.932Z"
   },
   {
    "duration": 24,
    "start_time": "2024-03-24T07:50:04.339Z"
   },
   {
    "duration": 22,
    "start_time": "2024-03-24T07:50:20.989Z"
   },
   {
    "duration": 27,
    "start_time": "2024-03-24T07:51:02.129Z"
   },
   {
    "duration": 10,
    "start_time": "2024-03-24T07:51:12.475Z"
   },
   {
    "duration": 4,
    "start_time": "2024-03-24T07:52:26.306Z"
   },
   {
    "duration": 3,
    "start_time": "2024-03-24T07:52:47.363Z"
   },
   {
    "duration": 16,
    "start_time": "2024-03-24T08:28:14.390Z"
   },
   {
    "duration": 48,
    "start_time": "2024-03-24T08:28:33.414Z"
   },
   {
    "duration": 23,
    "start_time": "2024-03-24T08:28:44.452Z"
   },
   {
    "duration": 1447,
    "start_time": "2024-03-24T08:31:59.055Z"
   },
   {
    "duration": 11,
    "start_time": "2024-03-24T08:32:09.054Z"
   },
   {
    "duration": 13,
    "start_time": "2024-03-24T08:58:19.129Z"
   },
   {
    "duration": 44,
    "start_time": "2024-03-24T09:10:10.337Z"
   },
   {
    "duration": 26,
    "start_time": "2024-03-24T09:10:24.924Z"
   },
   {
    "duration": 9,
    "start_time": "2024-03-24T09:10:27.887Z"
   },
   {
    "duration": 4,
    "start_time": "2024-03-24T09:10:44.061Z"
   },
   {
    "duration": 7,
    "start_time": "2024-03-24T09:19:37.341Z"
   },
   {
    "duration": 12,
    "start_time": "2024-03-24T09:19:48.159Z"
   },
   {
    "duration": 30,
    "start_time": "2024-03-24T09:22:10.281Z"
   },
   {
    "duration": 30,
    "start_time": "2024-03-24T09:22:31.254Z"
   },
   {
    "duration": 33,
    "start_time": "2024-03-24T09:22:48.308Z"
   },
   {
    "duration": 11,
    "start_time": "2024-03-24T09:23:01.776Z"
   },
   {
    "duration": 12,
    "start_time": "2024-03-24T09:23:52.704Z"
   },
   {
    "duration": 4,
    "start_time": "2024-03-24T09:27:34.102Z"
   },
   {
    "duration": 4,
    "start_time": "2024-03-24T09:28:01.198Z"
   },
   {
    "duration": 4,
    "start_time": "2024-03-24T09:28:32.999Z"
   },
   {
    "duration": 11,
    "start_time": "2024-03-24T09:28:34.716Z"
   },
   {
    "duration": 80,
    "start_time": "2024-03-24T09:40:24.504Z"
   },
   {
    "duration": 4,
    "start_time": "2024-03-24T09:40:32.272Z"
   },
   {
    "duration": 13,
    "start_time": "2024-03-24T09:40:35.766Z"
   },
   {
    "duration": 27167,
    "start_time": "2024-03-24T09:42:16.285Z"
   },
   {
    "duration": 0,
    "start_time": "2024-03-24T09:42:43.453Z"
   },
   {
    "duration": 3,
    "start_time": "2024-03-24T09:43:38.114Z"
   },
   {
    "duration": 29,
    "start_time": "2024-03-24T09:43:38.177Z"
   },
   {
    "duration": 24,
    "start_time": "2024-03-24T09:43:38.213Z"
   },
   {
    "duration": 15,
    "start_time": "2024-03-24T09:43:38.245Z"
   },
   {
    "duration": 9,
    "start_time": "2024-03-24T09:43:38.334Z"
   },
   {
    "duration": 9,
    "start_time": "2024-03-24T09:43:38.367Z"
   },
   {
    "duration": 7,
    "start_time": "2024-03-24T09:43:38.407Z"
   },
   {
    "duration": 11,
    "start_time": "2024-03-24T09:43:38.472Z"
   },
   {
    "duration": 11,
    "start_time": "2024-03-24T09:43:38.530Z"
   },
   {
    "duration": 10,
    "start_time": "2024-03-24T09:43:38.598Z"
   },
   {
    "duration": 17,
    "start_time": "2024-03-24T09:43:38.690Z"
   },
   {
    "duration": 19,
    "start_time": "2024-03-24T09:43:38.751Z"
   },
   {
    "duration": 170,
    "start_time": "2024-03-24T09:43:38.845Z"
   },
   {
    "duration": 205,
    "start_time": "2024-03-24T09:43:39.017Z"
   },
   {
    "duration": 310,
    "start_time": "2024-03-24T09:43:39.225Z"
   },
   {
    "duration": 3,
    "start_time": "2024-03-24T09:43:39.537Z"
   },
   {
    "duration": 15,
    "start_time": "2024-03-24T09:43:39.542Z"
   },
   {
    "duration": 10,
    "start_time": "2024-03-24T09:43:39.559Z"
   },
   {
    "duration": 5,
    "start_time": "2024-03-24T09:43:39.571Z"
   },
   {
    "duration": 16,
    "start_time": "2024-03-24T09:43:39.577Z"
   },
   {
    "duration": 3,
    "start_time": "2024-03-24T09:43:39.596Z"
   },
   {
    "duration": 17,
    "start_time": "2024-03-24T09:43:39.600Z"
   },
   {
    "duration": 9,
    "start_time": "2024-03-24T09:43:39.619Z"
   },
   {
    "duration": 116,
    "start_time": "2024-03-24T09:43:39.630Z"
   },
   {
    "duration": 5,
    "start_time": "2024-03-24T09:43:39.748Z"
   },
   {
    "duration": 227,
    "start_time": "2024-03-24T09:43:39.755Z"
   },
   {
    "duration": 5,
    "start_time": "2024-03-24T09:43:39.984Z"
   },
   {
    "duration": 20,
    "start_time": "2024-03-24T09:43:39.990Z"
   },
   {
    "duration": 14,
    "start_time": "2024-03-24T09:43:40.012Z"
   },
   {
    "duration": 7,
    "start_time": "2024-03-24T09:43:40.029Z"
   },
   {
    "duration": 4,
    "start_time": "2024-03-24T09:43:40.058Z"
   },
   {
    "duration": 9,
    "start_time": "2024-03-24T09:43:40.148Z"
   },
   {
    "duration": 87,
    "start_time": "2024-03-24T09:43:40.220Z"
   },
   {
    "duration": 108,
    "start_time": "2024-03-24T09:43:40.309Z"
   },
   {
    "duration": 6,
    "start_time": "2024-03-24T09:43:40.419Z"
   },
   {
    "duration": 242,
    "start_time": "2024-03-24T09:43:40.427Z"
   },
   {
    "duration": 3,
    "start_time": "2024-03-24T09:43:40.671Z"
   },
   {
    "duration": 37,
    "start_time": "2024-03-24T09:43:40.676Z"
   },
   {
    "duration": 129,
    "start_time": "2024-03-24T09:43:40.715Z"
   },
   {
    "duration": 4,
    "start_time": "2024-03-24T09:43:41.178Z"
   },
   {
    "duration": 4,
    "start_time": "2024-03-24T09:43:41.370Z"
   },
   {
    "duration": 75,
    "start_time": "2024-03-24T09:43:41.567Z"
   },
   {
    "duration": 9,
    "start_time": "2024-03-24T09:43:42.028Z"
   },
   {
    "duration": 174,
    "start_time": "2024-03-24T09:43:42.181Z"
   },
   {
    "duration": 8,
    "start_time": "2024-03-24T09:43:42.799Z"
   },
   {
    "duration": 214,
    "start_time": "2024-03-24T09:43:42.962Z"
   },
   {
    "duration": 8,
    "start_time": "2024-03-24T09:43:43.616Z"
   },
   {
    "duration": 192,
    "start_time": "2024-03-24T09:43:43.805Z"
   },
   {
    "duration": 10,
    "start_time": "2024-03-24T09:43:44.612Z"
   },
   {
    "duration": 8,
    "start_time": "2024-03-24T09:43:44.946Z"
   },
   {
    "duration": 16,
    "start_time": "2024-03-24T09:43:45.295Z"
   },
   {
    "duration": 13,
    "start_time": "2024-03-24T09:43:45.673Z"
   },
   {
    "duration": 5,
    "start_time": "2024-03-24T09:43:45.841Z"
   },
   {
    "duration": 14,
    "start_time": "2024-03-24T09:43:46.021Z"
   },
   {
    "duration": 8,
    "start_time": "2024-03-24T09:43:46.550Z"
   },
   {
    "duration": 6,
    "start_time": "2024-03-24T09:43:46.917Z"
   },
   {
    "duration": 8,
    "start_time": "2024-03-24T09:43:47.449Z"
   },
   {
    "duration": 258,
    "start_time": "2024-03-24T09:43:47.608Z"
   },
   {
    "duration": 7,
    "start_time": "2024-03-24T09:43:47.868Z"
   },
   {
    "duration": 159,
    "start_time": "2024-03-24T09:43:47.949Z"
   },
   {
    "duration": 8,
    "start_time": "2024-03-24T09:43:48.516Z"
   },
   {
    "duration": 155,
    "start_time": "2024-03-24T09:43:48.709Z"
   },
   {
    "duration": 7,
    "start_time": "2024-03-24T09:43:48.882Z"
   },
   {
    "duration": 153,
    "start_time": "2024-03-24T09:43:49.056Z"
   },
   {
    "duration": 30,
    "start_time": "2024-03-24T09:43:49.817Z"
   },
   {
    "duration": 27026,
    "start_time": "2024-03-24T09:43:50.488Z"
   },
   {
    "duration": 12,
    "start_time": "2024-03-24T09:44:17.516Z"
   },
   {
    "duration": 0,
    "start_time": "2024-03-24T09:44:17.530Z"
   },
   {
    "duration": 11,
    "start_time": "2024-03-24T09:48:06.320Z"
   },
   {
    "duration": 8,
    "start_time": "2024-03-24T09:50:26.074Z"
   },
   {
    "duration": 15,
    "start_time": "2024-03-24T09:50:33.147Z"
   },
   {
    "duration": 8,
    "start_time": "2024-03-24T09:51:01.616Z"
   },
   {
    "duration": 16,
    "start_time": "2024-03-24T09:51:03.702Z"
   },
   {
    "duration": 4,
    "start_time": "2024-03-24T09:51:14.375Z"
   },
   {
    "duration": 18,
    "start_time": "2024-03-24T09:51:16.271Z"
   },
   {
    "duration": 8,
    "start_time": "2024-03-24T09:52:49.573Z"
   },
   {
    "duration": 16,
    "start_time": "2024-03-24T09:52:51.163Z"
   },
   {
    "duration": 3,
    "start_time": "2024-03-24T09:52:54.383Z"
   },
   {
    "duration": 25,
    "start_time": "2024-03-24T09:52:56.568Z"
   },
   {
    "duration": 4,
    "start_time": "2024-03-24T09:54:32.337Z"
   },
   {
    "duration": 1458,
    "start_time": "2024-03-24T09:54:34.913Z"
   },
   {
    "duration": 16,
    "start_time": "2024-03-24T09:54:49.117Z"
   },
   {
    "duration": 4,
    "start_time": "2024-03-24T09:56:19.335Z"
   },
   {
    "duration": 16,
    "start_time": "2024-03-24T09:56:21.530Z"
   },
   {
    "duration": 4,
    "start_time": "2024-03-24T09:57:39.756Z"
   },
   {
    "duration": 1435,
    "start_time": "2024-03-24T09:57:43.539Z"
   },
   {
    "duration": 7,
    "start_time": "2024-03-24T09:59:13.233Z"
   },
   {
    "duration": 3,
    "start_time": "2024-03-24T10:00:05.615Z"
   },
   {
    "duration": 1401,
    "start_time": "2024-03-24T10:00:07.512Z"
   },
   {
    "duration": 3,
    "start_time": "2024-03-24T10:00:29.607Z"
   },
   {
    "duration": 29,
    "start_time": "2024-03-24T10:00:29.666Z"
   },
   {
    "duration": 28,
    "start_time": "2024-03-24T10:00:29.897Z"
   },
   {
    "duration": 17,
    "start_time": "2024-03-24T10:00:30.120Z"
   },
   {
    "duration": 9,
    "start_time": "2024-03-24T10:00:30.607Z"
   },
   {
    "duration": 11,
    "start_time": "2024-03-24T10:00:30.758Z"
   },
   {
    "duration": 8,
    "start_time": "2024-03-24T10:00:30.929Z"
   },
   {
    "duration": 16,
    "start_time": "2024-03-24T10:00:31.235Z"
   },
   {
    "duration": 12,
    "start_time": "2024-03-24T10:00:31.573Z"
   },
   {
    "duration": 10,
    "start_time": "2024-03-24T10:00:31.907Z"
   },
   {
    "duration": 19,
    "start_time": "2024-03-24T10:00:32.387Z"
   },
   {
    "duration": 20,
    "start_time": "2024-03-24T10:00:32.705Z"
   },
   {
    "duration": 194,
    "start_time": "2024-03-24T10:00:33.182Z"
   },
   {
    "duration": 227,
    "start_time": "2024-03-24T10:00:33.378Z"
   },
   {
    "duration": 238,
    "start_time": "2024-03-24T10:00:33.607Z"
   },
   {
    "duration": 3,
    "start_time": "2024-03-24T10:00:34.753Z"
   },
   {
    "duration": 10,
    "start_time": "2024-03-24T10:00:35.047Z"
   },
   {
    "duration": 6,
    "start_time": "2024-03-24T10:00:35.384Z"
   },
   {
    "duration": 5,
    "start_time": "2024-03-24T10:00:35.911Z"
   },
   {
    "duration": 9,
    "start_time": "2024-03-24T10:00:36.076Z"
   },
   {
    "duration": 3,
    "start_time": "2024-03-24T10:00:36.777Z"
   },
   {
    "duration": 7,
    "start_time": "2024-03-24T10:00:36.962Z"
   },
   {
    "duration": 9,
    "start_time": "2024-03-24T10:00:37.122Z"
   },
   {
    "duration": 116,
    "start_time": "2024-03-24T10:00:37.698Z"
   },
   {
    "duration": 5,
    "start_time": "2024-03-24T10:00:38.263Z"
   },
   {
    "duration": 202,
    "start_time": "2024-03-24T10:00:38.443Z"
   },
   {
    "duration": 5,
    "start_time": "2024-03-24T10:00:38.793Z"
   },
   {
    "duration": 5,
    "start_time": "2024-03-24T10:00:39.496Z"
   },
   {
    "duration": 8,
    "start_time": "2024-03-24T10:00:39.859Z"
   },
   {
    "duration": 8,
    "start_time": "2024-03-24T10:00:40.041Z"
   },
   {
    "duration": 4,
    "start_time": "2024-03-24T10:00:40.209Z"
   },
   {
    "duration": 9,
    "start_time": "2024-03-24T10:00:41.103Z"
   },
   {
    "duration": 95,
    "start_time": "2024-03-24T10:00:41.446Z"
   },
   {
    "duration": 100,
    "start_time": "2024-03-24T10:00:41.623Z"
   },
   {
    "duration": 5,
    "start_time": "2024-03-24T10:00:41.987Z"
   },
   {
    "duration": 213,
    "start_time": "2024-03-24T10:00:42.345Z"
   },
   {
    "duration": 4,
    "start_time": "2024-03-24T10:00:42.896Z"
   },
   {
    "duration": 12,
    "start_time": "2024-03-24T10:00:43.935Z"
   },
   {
    "duration": 266,
    "start_time": "2024-03-24T10:00:43.964Z"
   },
   {
    "duration": 4,
    "start_time": "2024-03-24T10:00:44.232Z"
   },
   {
    "duration": 20,
    "start_time": "2024-03-24T10:00:44.237Z"
   },
   {
    "duration": 91,
    "start_time": "2024-03-24T10:00:44.259Z"
   },
   {
    "duration": 7,
    "start_time": "2024-03-24T10:00:44.351Z"
   },
   {
    "duration": 203,
    "start_time": "2024-03-24T10:00:44.360Z"
   },
   {
    "duration": 9,
    "start_time": "2024-03-24T10:00:44.570Z"
   },
   {
    "duration": 243,
    "start_time": "2024-03-24T10:00:44.580Z"
   },
   {
    "duration": 9,
    "start_time": "2024-03-24T10:00:45.196Z"
   },
   {
    "duration": 224,
    "start_time": "2024-03-24T10:00:45.415Z"
   },
   {
    "duration": 10,
    "start_time": "2024-03-24T10:00:46.408Z"
   },
   {
    "duration": 10,
    "start_time": "2024-03-24T10:00:46.927Z"
   },
   {
    "duration": 18,
    "start_time": "2024-03-24T10:00:49.227Z"
   },
   {
    "duration": 15,
    "start_time": "2024-03-24T10:00:49.560Z"
   },
   {
    "duration": 5,
    "start_time": "2024-03-24T10:00:49.721Z"
   },
   {
    "duration": 16,
    "start_time": "2024-03-24T10:00:49.898Z"
   },
   {
    "duration": 7,
    "start_time": "2024-03-24T10:00:50.817Z"
   },
   {
    "duration": 8,
    "start_time": "2024-03-24T10:00:51.149Z"
   },
   {
    "duration": 8,
    "start_time": "2024-03-24T10:00:52.337Z"
   },
   {
    "duration": 172,
    "start_time": "2024-03-24T10:00:52.840Z"
   },
   {
    "duration": 8,
    "start_time": "2024-03-24T10:00:53.281Z"
   },
   {
    "duration": 163,
    "start_time": "2024-03-24T10:00:53.775Z"
   },
   {
    "duration": 8,
    "start_time": "2024-03-24T10:00:55.645Z"
   },
   {
    "duration": 160,
    "start_time": "2024-03-24T10:00:56.206Z"
   },
   {
    "duration": 7,
    "start_time": "2024-03-24T10:00:56.667Z"
   },
   {
    "duration": 160,
    "start_time": "2024-03-24T10:00:57.070Z"
   },
   {
    "duration": 32,
    "start_time": "2024-03-24T10:01:00.619Z"
   },
   {
    "duration": 6,
    "start_time": "2024-03-24T10:01:02.293Z"
   },
   {
    "duration": 15,
    "start_time": "2024-03-24T10:01:04.730Z"
   },
   {
    "duration": 6,
    "start_time": "2024-03-24T10:01:08.433Z"
   },
   {
    "duration": 4,
    "start_time": "2024-03-24T10:01:10.424Z"
   },
   {
    "duration": 1481,
    "start_time": "2024-03-24T10:01:11.194Z"
   },
   {
    "duration": 10,
    "start_time": "2024-03-24T10:01:29.899Z"
   },
   {
    "duration": 9,
    "start_time": "2024-03-24T10:01:59.493Z"
   },
   {
    "duration": 10,
    "start_time": "2024-03-24T10:02:06.811Z"
   },
   {
    "duration": 4,
    "start_time": "2024-03-24T10:03:30.652Z"
   },
   {
    "duration": 1436,
    "start_time": "2024-03-24T10:03:33.235Z"
   },
   {
    "duration": 14,
    "start_time": "2024-03-24T10:03:38.376Z"
   },
   {
    "duration": 4,
    "start_time": "2024-03-24T10:26:42.503Z"
   },
   {
    "duration": 1123,
    "start_time": "2024-03-24T10:26:44.719Z"
   },
   {
    "duration": 10,
    "start_time": "2024-03-24T10:27:27.558Z"
   },
   {
    "duration": 4,
    "start_time": "2024-03-24T10:42:12.331Z"
   },
   {
    "duration": 184,
    "start_time": "2024-03-24T10:42:14.742Z"
   },
   {
    "duration": 16,
    "start_time": "2024-03-24T10:42:17.753Z"
   },
   {
    "duration": 694,
    "start_time": "2024-03-24T14:12:24.299Z"
   },
   {
    "duration": 75,
    "start_time": "2024-03-24T14:12:24.994Z"
   },
   {
    "duration": 76,
    "start_time": "2024-03-24T14:12:25.070Z"
   },
   {
    "duration": 60,
    "start_time": "2024-03-24T14:12:25.147Z"
   },
   {
    "duration": 12,
    "start_time": "2024-03-24T14:12:25.208Z"
   },
   {
    "duration": 9,
    "start_time": "2024-03-24T14:12:25.222Z"
   },
   {
    "duration": 8,
    "start_time": "2024-03-24T14:12:25.233Z"
   },
   {
    "duration": 14,
    "start_time": "2024-03-24T14:12:25.243Z"
   },
   {
    "duration": 32,
    "start_time": "2024-03-24T14:12:25.259Z"
   },
   {
    "duration": 10,
    "start_time": "2024-03-24T14:12:25.293Z"
   },
   {
    "duration": 16,
    "start_time": "2024-03-24T14:12:25.304Z"
   },
   {
    "duration": 50,
    "start_time": "2024-03-24T14:12:25.322Z"
   },
   {
    "duration": 195,
    "start_time": "2024-03-24T14:12:25.373Z"
   },
   {
    "duration": 182,
    "start_time": "2024-03-24T14:12:25.569Z"
   },
   {
    "duration": 195,
    "start_time": "2024-03-24T14:12:25.753Z"
   },
   {
    "duration": 2,
    "start_time": "2024-03-24T14:12:25.950Z"
   },
   {
    "duration": 9,
    "start_time": "2024-03-24T14:12:25.954Z"
   },
   {
    "duration": 16,
    "start_time": "2024-03-24T14:12:25.964Z"
   },
   {
    "duration": 4,
    "start_time": "2024-03-24T14:12:25.981Z"
   },
   {
    "duration": 7,
    "start_time": "2024-03-24T14:12:25.986Z"
   },
   {
    "duration": 2,
    "start_time": "2024-03-24T14:12:25.995Z"
   },
   {
    "duration": 7,
    "start_time": "2024-03-24T14:12:25.999Z"
   },
   {
    "duration": 72,
    "start_time": "2024-03-24T14:12:26.007Z"
   },
   {
    "duration": 102,
    "start_time": "2024-03-24T14:12:26.081Z"
   },
   {
    "duration": 6,
    "start_time": "2024-03-24T14:12:26.184Z"
   },
   {
    "duration": 189,
    "start_time": "2024-03-24T14:12:26.191Z"
   },
   {
    "duration": 4,
    "start_time": "2024-03-24T14:12:26.383Z"
   },
   {
    "duration": 4,
    "start_time": "2024-03-24T14:12:26.388Z"
   },
   {
    "duration": 5,
    "start_time": "2024-03-24T14:12:26.394Z"
   },
   {
    "duration": 20,
    "start_time": "2024-03-24T14:12:26.400Z"
   },
   {
    "duration": 3,
    "start_time": "2024-03-24T14:12:26.421Z"
   },
   {
    "duration": 7,
    "start_time": "2024-03-24T14:12:27.078Z"
   },
   {
    "duration": 89,
    "start_time": "2024-03-24T14:12:27.134Z"
   },
   {
    "duration": 105,
    "start_time": "2024-03-24T14:12:27.225Z"
   },
   {
    "duration": 14,
    "start_time": "2024-03-24T14:12:27.332Z"
   },
   {
    "duration": 205,
    "start_time": "2024-03-24T14:12:27.347Z"
   },
   {
    "duration": 4,
    "start_time": "2024-03-24T14:12:27.554Z"
   },
   {
    "duration": 13,
    "start_time": "2024-03-24T14:12:27.564Z"
   },
   {
    "duration": 200,
    "start_time": "2024-03-24T14:12:27.578Z"
   },
   {
    "duration": 3,
    "start_time": "2024-03-24T14:12:28.246Z"
   },
   {
    "duration": 4,
    "start_time": "2024-03-24T14:12:28.429Z"
   },
   {
    "duration": 71,
    "start_time": "2024-03-24T14:12:28.582Z"
   },
   {
    "duration": 7,
    "start_time": "2024-03-24T14:12:29.063Z"
   },
   {
    "duration": 156,
    "start_time": "2024-03-24T14:12:29.275Z"
   },
   {
    "duration": 7,
    "start_time": "2024-03-24T14:12:29.835Z"
   },
   {
    "duration": 187,
    "start_time": "2024-03-24T14:12:29.991Z"
   },
   {
    "duration": 7,
    "start_time": "2024-03-24T14:12:30.657Z"
   },
   {
    "duration": 245,
    "start_time": "2024-03-24T14:12:30.838Z"
   },
   {
    "duration": 8,
    "start_time": "2024-03-24T14:12:31.799Z"
   },
   {
    "duration": 9,
    "start_time": "2024-03-24T14:12:32.483Z"
   },
   {
    "duration": 15,
    "start_time": "2024-03-24T14:12:32.556Z"
   },
   {
    "duration": 13,
    "start_time": "2024-03-24T14:12:32.638Z"
   },
   {
    "duration": 5,
    "start_time": "2024-03-24T14:12:32.658Z"
   },
   {
    "duration": 12,
    "start_time": "2024-03-24T14:12:32.691Z"
   },
   {
    "duration": 9,
    "start_time": "2024-03-24T14:12:32.779Z"
   },
   {
    "duration": 6,
    "start_time": "2024-03-24T14:12:33.022Z"
   },
   {
    "duration": 7,
    "start_time": "2024-03-24T14:12:33.639Z"
   },
   {
    "duration": 148,
    "start_time": "2024-03-24T14:12:33.819Z"
   },
   {
    "duration": 8,
    "start_time": "2024-03-24T14:12:34.048Z"
   },
   {
    "duration": 142,
    "start_time": "2024-03-24T14:12:34.565Z"
   },
   {
    "duration": 7,
    "start_time": "2024-03-24T14:12:34.709Z"
   },
   {
    "duration": 158,
    "start_time": "2024-03-24T14:12:34.717Z"
   },
   {
    "duration": 8,
    "start_time": "2024-03-24T14:12:34.876Z"
   },
   {
    "duration": 151,
    "start_time": "2024-03-24T14:12:34.885Z"
   },
   {
    "duration": 28,
    "start_time": "2024-03-24T14:12:35.045Z"
   },
   {
    "duration": 6,
    "start_time": "2024-03-24T14:12:35.142Z"
   },
   {
    "duration": 11,
    "start_time": "2024-03-24T14:12:35.385Z"
   },
   {
    "duration": 10,
    "start_time": "2024-03-24T14:12:36.267Z"
   },
   {
    "duration": 11,
    "start_time": "2024-03-24T14:12:36.531Z"
   },
   {
    "duration": 4,
    "start_time": "2024-03-24T14:12:36.747Z"
   },
   {
    "duration": 173,
    "start_time": "2024-03-24T14:12:37.954Z"
   },
   {
    "duration": 14,
    "start_time": "2024-03-24T14:12:38.401Z"
   },
   {
    "duration": 4,
    "start_time": "2024-03-24T14:15:35.010Z"
   },
   {
    "duration": 203,
    "start_time": "2024-03-24T14:15:36.741Z"
   },
   {
    "duration": 14,
    "start_time": "2024-03-24T14:15:38.935Z"
   },
   {
    "duration": 18,
    "start_time": "2024-03-24T14:18:04.200Z"
   },
   {
    "duration": 11,
    "start_time": "2024-03-24T14:20:11.167Z"
   },
   {
    "duration": 55,
    "start_time": "2024-03-24T14:21:08.410Z"
   },
   {
    "duration": 132,
    "start_time": "2024-03-24T14:21:29.901Z"
   },
   {
    "duration": 3,
    "start_time": "2024-03-24T14:21:43.719Z"
   },
   {
    "duration": 3,
    "start_time": "2024-03-24T14:25:35.203Z"
   },
   {
    "duration": 78,
    "start_time": "2024-03-24T14:25:38.118Z"
   },
   {
    "duration": 9,
    "start_time": "2024-03-24T14:27:14.302Z"
   },
   {
    "duration": 9,
    "start_time": "2024-03-24T14:27:39.602Z"
   },
   {
    "duration": 9,
    "start_time": "2024-03-24T14:27:42.068Z"
   },
   {
    "duration": 3,
    "start_time": "2024-03-24T14:46:03.949Z"
   },
   {
    "duration": 28,
    "start_time": "2024-03-24T14:46:04.010Z"
   },
   {
    "duration": 28,
    "start_time": "2024-03-24T14:46:04.051Z"
   },
   {
    "duration": 16,
    "start_time": "2024-03-24T14:46:04.080Z"
   },
   {
    "duration": 9,
    "start_time": "2024-03-24T14:46:04.171Z"
   },
   {
    "duration": 8,
    "start_time": "2024-03-24T14:46:04.203Z"
   },
   {
    "duration": 7,
    "start_time": "2024-03-24T14:46:04.243Z"
   },
   {
    "duration": 11,
    "start_time": "2024-03-24T14:46:04.303Z"
   },
   {
    "duration": 11,
    "start_time": "2024-03-24T14:46:04.379Z"
   },
   {
    "duration": 9,
    "start_time": "2024-03-24T14:46:04.428Z"
   },
   {
    "duration": 18,
    "start_time": "2024-03-24T14:46:04.525Z"
   },
   {
    "duration": 17,
    "start_time": "2024-03-24T14:46:04.581Z"
   },
   {
    "duration": 170,
    "start_time": "2024-03-24T14:46:04.678Z"
   },
   {
    "duration": 200,
    "start_time": "2024-03-24T14:46:04.850Z"
   },
   {
    "duration": 213,
    "start_time": "2024-03-24T14:46:05.052Z"
   },
   {
    "duration": 4,
    "start_time": "2024-03-24T14:46:05.267Z"
   },
   {
    "duration": 24,
    "start_time": "2024-03-24T14:46:05.272Z"
   },
   {
    "duration": 11,
    "start_time": "2024-03-24T14:46:05.297Z"
   },
   {
    "duration": 40,
    "start_time": "2024-03-24T14:46:05.309Z"
   },
   {
    "duration": 14,
    "start_time": "2024-03-24T14:46:05.350Z"
   },
   {
    "duration": 21,
    "start_time": "2024-03-24T14:46:05.366Z"
   },
   {
    "duration": 14,
    "start_time": "2024-03-24T14:46:05.388Z"
   },
   {
    "duration": 16,
    "start_time": "2024-03-24T14:46:05.404Z"
   },
   {
    "duration": 108,
    "start_time": "2024-03-24T14:46:05.454Z"
   },
   {
    "duration": 5,
    "start_time": "2024-03-24T14:46:05.564Z"
   },
   {
    "duration": 195,
    "start_time": "2024-03-24T14:46:05.577Z"
   },
   {
    "duration": 4,
    "start_time": "2024-03-24T14:46:05.773Z"
   },
   {
    "duration": 15,
    "start_time": "2024-03-24T14:46:05.778Z"
   },
   {
    "duration": 5,
    "start_time": "2024-03-24T14:46:05.828Z"
   },
   {
    "duration": 6,
    "start_time": "2024-03-24T14:46:05.858Z"
   },
   {
    "duration": 3,
    "start_time": "2024-03-24T14:46:05.896Z"
   },
   {
    "duration": 8,
    "start_time": "2024-03-24T14:46:05.994Z"
   },
   {
    "duration": 161,
    "start_time": "2024-03-24T14:46:06.054Z"
   },
   {
    "duration": 95,
    "start_time": "2024-03-24T14:46:06.216Z"
   },
   {
    "duration": 5,
    "start_time": "2024-03-24T14:46:06.313Z"
   },
   {
    "duration": 204,
    "start_time": "2024-03-24T14:46:06.319Z"
   },
   {
    "duration": 3,
    "start_time": "2024-03-24T14:46:06.525Z"
   },
   {
    "duration": 21,
    "start_time": "2024-03-24T14:46:06.530Z"
   },
   {
    "duration": 139,
    "start_time": "2024-03-24T14:46:06.553Z"
   },
   {
    "duration": 3,
    "start_time": "2024-03-24T14:46:06.694Z"
   },
   {
    "duration": 22,
    "start_time": "2024-03-24T14:46:06.698Z"
   },
   {
    "duration": 100,
    "start_time": "2024-03-24T14:46:06.722Z"
   },
   {
    "duration": 8,
    "start_time": "2024-03-24T14:46:06.824Z"
   },
   {
    "duration": 188,
    "start_time": "2024-03-24T14:46:06.844Z"
   },
   {
    "duration": 11,
    "start_time": "2024-03-24T14:46:07.034Z"
   },
   {
    "duration": 241,
    "start_time": "2024-03-24T14:46:07.047Z"
   },
   {
    "duration": 7,
    "start_time": "2024-03-24T14:46:07.289Z"
   },
   {
    "duration": 196,
    "start_time": "2024-03-24T14:46:07.298Z"
   },
   {
    "duration": 10,
    "start_time": "2024-03-24T14:46:07.875Z"
   },
   {
    "duration": 9,
    "start_time": "2024-03-24T14:46:07.947Z"
   },
   {
    "duration": 16,
    "start_time": "2024-03-24T14:46:08.011Z"
   },
   {
    "duration": 15,
    "start_time": "2024-03-24T14:46:08.088Z"
   },
   {
    "duration": 5,
    "start_time": "2024-03-24T14:46:08.119Z"
   },
   {
    "duration": 14,
    "start_time": "2024-03-24T14:46:08.149Z"
   },
   {
    "duration": 9,
    "start_time": "2024-03-24T14:46:08.239Z"
   },
   {
    "duration": 7,
    "start_time": "2024-03-24T14:46:08.299Z"
   },
   {
    "duration": 9,
    "start_time": "2024-03-24T14:46:08.381Z"
   },
   {
    "duration": 147,
    "start_time": "2024-03-24T14:46:08.417Z"
   },
   {
    "duration": 7,
    "start_time": "2024-03-24T14:46:08.566Z"
   },
   {
    "duration": 159,
    "start_time": "2024-03-24T14:46:08.574Z"
   },
   {
    "duration": 15,
    "start_time": "2024-03-24T14:46:08.735Z"
   },
   {
    "duration": 154,
    "start_time": "2024-03-24T14:46:08.751Z"
   },
   {
    "duration": 7,
    "start_time": "2024-03-24T14:46:08.907Z"
   },
   {
    "duration": 255,
    "start_time": "2024-03-24T14:46:08.916Z"
   },
   {
    "duration": 39,
    "start_time": "2024-03-24T14:46:09.173Z"
   },
   {
    "duration": 9,
    "start_time": "2024-03-24T14:46:12.597Z"
   },
   {
    "duration": 4,
    "start_time": "2024-03-24T14:46:13.501Z"
   },
   {
    "duration": 212,
    "start_time": "2024-03-24T14:46:15.810Z"
   },
   {
    "duration": 15,
    "start_time": "2024-03-24T14:46:24.411Z"
   },
   {
    "duration": 5,
    "start_time": "2024-03-24T14:46:32.999Z"
   },
   {
    "duration": 10,
    "start_time": "2024-03-24T14:46:58.373Z"
   },
   {
    "duration": 820,
    "start_time": "2024-03-25T10:07:03.799Z"
   },
   {
    "duration": 73,
    "start_time": "2024-03-25T10:07:04.621Z"
   },
   {
    "duration": 76,
    "start_time": "2024-03-25T10:07:04.696Z"
   },
   {
    "duration": 58,
    "start_time": "2024-03-25T10:07:04.774Z"
   },
   {
    "duration": 14,
    "start_time": "2024-03-25T10:07:04.833Z"
   },
   {
    "duration": 37,
    "start_time": "2024-03-25T10:07:04.848Z"
   },
   {
    "duration": 31,
    "start_time": "2024-03-25T10:07:04.887Z"
   },
   {
    "duration": 45,
    "start_time": "2024-03-25T10:07:04.919Z"
   },
   {
    "duration": 19,
    "start_time": "2024-03-25T10:07:04.965Z"
   },
   {
    "duration": 20,
    "start_time": "2024-03-25T10:07:04.986Z"
   },
   {
    "duration": 66,
    "start_time": "2024-03-25T10:07:05.008Z"
   },
   {
    "duration": 66,
    "start_time": "2024-03-25T10:07:05.076Z"
   },
   {
    "duration": 207,
    "start_time": "2024-03-25T10:07:05.144Z"
   },
   {
    "duration": 221,
    "start_time": "2024-03-25T10:07:05.353Z"
   },
   {
    "duration": 232,
    "start_time": "2024-03-25T10:07:05.575Z"
   },
   {
    "duration": 3,
    "start_time": "2024-03-25T10:07:05.808Z"
   },
   {
    "duration": 25,
    "start_time": "2024-03-25T10:07:05.819Z"
   },
   {
    "duration": 29,
    "start_time": "2024-03-25T10:07:05.845Z"
   },
   {
    "duration": 14,
    "start_time": "2024-03-25T10:07:05.876Z"
   },
   {
    "duration": 27,
    "start_time": "2024-03-25T10:07:05.892Z"
   },
   {
    "duration": 11,
    "start_time": "2024-03-25T10:07:05.920Z"
   },
   {
    "duration": 34,
    "start_time": "2024-03-25T10:07:05.932Z"
   },
   {
    "duration": 93,
    "start_time": "2024-03-25T10:07:05.968Z"
   },
   {
    "duration": 112,
    "start_time": "2024-03-25T10:07:06.063Z"
   },
   {
    "duration": 7,
    "start_time": "2024-03-25T10:07:06.176Z"
   },
   {
    "duration": 235,
    "start_time": "2024-03-25T10:07:06.184Z"
   },
   {
    "duration": 4,
    "start_time": "2024-03-25T10:07:06.421Z"
   },
   {
    "duration": 6,
    "start_time": "2024-03-25T10:07:06.738Z"
   },
   {
    "duration": 8,
    "start_time": "2024-03-25T10:07:06.805Z"
   },
   {
    "duration": 7,
    "start_time": "2024-03-25T10:07:06.848Z"
   },
   {
    "duration": 3,
    "start_time": "2024-03-25T10:07:06.886Z"
   },
   {
    "duration": 9,
    "start_time": "2024-03-25T10:07:06.978Z"
   },
   {
    "duration": 87,
    "start_time": "2024-03-25T10:07:07.050Z"
   },
   {
    "duration": 102,
    "start_time": "2024-03-25T10:07:07.139Z"
   },
   {
    "duration": 5,
    "start_time": "2024-03-25T10:07:07.243Z"
   },
   {
    "duration": 226,
    "start_time": "2024-03-25T10:07:07.249Z"
   },
   {
    "duration": 4,
    "start_time": "2024-03-25T10:07:07.477Z"
   },
   {
    "duration": 26,
    "start_time": "2024-03-25T10:07:07.482Z"
   },
   {
    "duration": 171,
    "start_time": "2024-03-25T10:07:07.510Z"
   },
   {
    "duration": 4,
    "start_time": "2024-03-25T10:07:07.683Z"
   },
   {
    "duration": 12,
    "start_time": "2024-03-25T10:07:07.688Z"
   },
   {
    "duration": 89,
    "start_time": "2024-03-25T10:07:07.701Z"
   },
   {
    "duration": 7,
    "start_time": "2024-03-25T10:07:07.792Z"
   },
   {
    "duration": 187,
    "start_time": "2024-03-25T10:07:07.800Z"
   },
   {
    "duration": 8,
    "start_time": "2024-03-25T10:07:07.989Z"
   },
   {
    "duration": 260,
    "start_time": "2024-03-25T10:07:07.998Z"
   },
   {
    "duration": 8,
    "start_time": "2024-03-25T10:07:08.260Z"
   },
   {
    "duration": 328,
    "start_time": "2024-03-25T10:07:08.270Z"
   },
   {
    "duration": 22,
    "start_time": "2024-03-25T10:07:08.600Z"
   },
   {
    "duration": 11,
    "start_time": "2024-03-25T10:07:08.624Z"
   },
   {
    "duration": 29,
    "start_time": "2024-03-25T10:07:08.636Z"
   },
   {
    "duration": 16,
    "start_time": "2024-03-25T10:07:08.666Z"
   },
   {
    "duration": 20,
    "start_time": "2024-03-25T10:07:08.683Z"
   },
   {
    "duration": 25,
    "start_time": "2024-03-25T10:07:08.705Z"
   },
   {
    "duration": 14,
    "start_time": "2024-03-25T10:07:08.732Z"
   },
   {
    "duration": 28,
    "start_time": "2024-03-25T10:07:08.748Z"
   },
   {
    "duration": 16,
    "start_time": "2024-03-25T10:07:08.778Z"
   },
   {
    "duration": 177,
    "start_time": "2024-03-25T10:07:08.813Z"
   },
   {
    "duration": 8,
    "start_time": "2024-03-25T10:07:08.992Z"
   },
   {
    "duration": 178,
    "start_time": "2024-03-25T10:07:09.001Z"
   },
   {
    "duration": 8,
    "start_time": "2024-03-25T10:07:09.391Z"
   },
   {
    "duration": 174,
    "start_time": "2024-03-25T10:07:09.623Z"
   },
   {
    "duration": 20,
    "start_time": "2024-03-25T10:07:09.799Z"
   },
   {
    "duration": 154,
    "start_time": "2024-03-25T10:07:09.920Z"
   },
   {
    "duration": 31,
    "start_time": "2024-03-25T10:07:10.790Z"
   },
   {
    "duration": 6,
    "start_time": "2024-03-25T10:07:11.484Z"
   },
   {
    "duration": 4,
    "start_time": "2024-03-25T10:07:11.793Z"
   },
   {
    "duration": 242,
    "start_time": "2024-03-25T10:07:12.104Z"
   },
   {
    "duration": 4,
    "start_time": "2024-03-25T10:07:12.423Z"
   },
   {
    "duration": 11,
    "start_time": "2024-03-25T10:07:12.727Z"
   },
   {
    "duration": 10,
    "start_time": "2024-03-25T10:43:34.016Z"
   },
   {
    "duration": 78,
    "start_time": "2024-03-25T10:43:59.433Z"
   },
   {
    "duration": 9,
    "start_time": "2024-03-25T10:44:10.823Z"
   },
   {
    "duration": 12,
    "start_time": "2024-03-25T13:23:58.749Z"
   },
   {
    "duration": 411,
    "start_time": "2024-03-25T13:25:30.212Z"
   },
   {
    "duration": 1012,
    "start_time": "2024-03-25T13:25:42.231Z"
   },
   {
    "duration": 7,
    "start_time": "2024-03-25T13:25:59.999Z"
   },
   {
    "duration": 6,
    "start_time": "2024-03-25T13:38:01.907Z"
   },
   {
    "duration": 6,
    "start_time": "2024-03-25T13:38:10.245Z"
   },
   {
    "duration": 5,
    "start_time": "2024-03-25T13:45:34.564Z"
   },
   {
    "duration": 4,
    "start_time": "2024-03-25T13:45:45.921Z"
   },
   {
    "duration": 4,
    "start_time": "2024-03-25T13:46:04.843Z"
   },
   {
    "duration": 8,
    "start_time": "2024-03-25T14:02:33.053Z"
   },
   {
    "duration": 6,
    "start_time": "2024-03-25T14:57:19.427Z"
   },
   {
    "duration": 24,
    "start_time": "2024-03-25T15:42:57.194Z"
   },
   {
    "duration": 1041,
    "start_time": "2024-03-25T15:50:16.962Z"
   },
   {
    "duration": 3,
    "start_time": "2024-03-25T15:51:29.342Z"
   },
   {
    "duration": 29,
    "start_time": "2024-03-25T15:51:29.418Z"
   },
   {
    "duration": 28,
    "start_time": "2024-03-25T15:51:29.448Z"
   },
   {
    "duration": 15,
    "start_time": "2024-03-25T15:51:29.486Z"
   },
   {
    "duration": 14,
    "start_time": "2024-03-25T15:51:29.580Z"
   },
   {
    "duration": 11,
    "start_time": "2024-03-25T15:51:29.612Z"
   },
   {
    "duration": 9,
    "start_time": "2024-03-25T15:51:29.651Z"
   },
   {
    "duration": 12,
    "start_time": "2024-03-25T15:51:29.723Z"
   },
   {
    "duration": 12,
    "start_time": "2024-03-25T15:51:29.793Z"
   },
   {
    "duration": 14,
    "start_time": "2024-03-25T15:51:29.867Z"
   },
   {
    "duration": 20,
    "start_time": "2024-03-25T15:51:29.957Z"
   },
   {
    "duration": 21,
    "start_time": "2024-03-25T15:51:30.028Z"
   },
   {
    "duration": 293,
    "start_time": "2024-03-25T15:51:30.119Z"
   },
   {
    "duration": 224,
    "start_time": "2024-03-25T15:51:30.417Z"
   },
   {
    "duration": 232,
    "start_time": "2024-03-25T15:51:30.643Z"
   },
   {
    "duration": 3,
    "start_time": "2024-03-25T15:51:30.878Z"
   },
   {
    "duration": 57,
    "start_time": "2024-03-25T15:51:30.883Z"
   },
   {
    "duration": 43,
    "start_time": "2024-03-25T15:51:30.941Z"
   },
   {
    "duration": 56,
    "start_time": "2024-03-25T15:51:30.985Z"
   },
   {
    "duration": 55,
    "start_time": "2024-03-25T15:51:31.044Z"
   },
   {
    "duration": 70,
    "start_time": "2024-03-25T15:51:31.102Z"
   },
   {
    "duration": 52,
    "start_time": "2024-03-25T15:51:31.175Z"
   },
   {
    "duration": 55,
    "start_time": "2024-03-25T15:51:31.229Z"
   },
   {
    "duration": 154,
    "start_time": "2024-03-25T15:51:31.287Z"
   },
   {
    "duration": 6,
    "start_time": "2024-03-25T15:51:31.443Z"
   },
   {
    "duration": 256,
    "start_time": "2024-03-25T15:51:31.450Z"
   },
   {
    "duration": 12,
    "start_time": "2024-03-25T15:51:31.707Z"
   },
   {
    "duration": 12,
    "start_time": "2024-03-25T15:51:31.722Z"
   },
   {
    "duration": 17,
    "start_time": "2024-03-25T15:51:31.735Z"
   },
   {
    "duration": 20,
    "start_time": "2024-03-25T15:51:31.754Z"
   },
   {
    "duration": 26,
    "start_time": "2024-03-25T15:51:31.776Z"
   },
   {
    "duration": 20,
    "start_time": "2024-03-25T15:51:31.803Z"
   },
   {
    "duration": 99,
    "start_time": "2024-03-25T15:51:31.825Z"
   },
   {
    "duration": 110,
    "start_time": "2024-03-25T15:51:31.926Z"
   },
   {
    "duration": 6,
    "start_time": "2024-03-25T15:51:32.038Z"
   },
   {
    "duration": 232,
    "start_time": "2024-03-25T15:51:32.045Z"
   },
   {
    "duration": 4,
    "start_time": "2024-03-25T15:51:32.280Z"
   },
   {
    "duration": 41,
    "start_time": "2024-03-25T15:51:32.286Z"
   },
   {
    "duration": 161,
    "start_time": "2024-03-25T15:51:32.329Z"
   },
   {
    "duration": 5,
    "start_time": "2024-03-25T15:51:32.492Z"
   },
   {
    "duration": 20,
    "start_time": "2024-03-25T15:51:32.499Z"
   },
   {
    "duration": 102,
    "start_time": "2024-03-25T15:51:32.521Z"
   },
   {
    "duration": 8,
    "start_time": "2024-03-25T15:51:32.625Z"
   },
   {
    "duration": 208,
    "start_time": "2024-03-25T15:51:32.635Z"
   },
   {
    "duration": 9,
    "start_time": "2024-03-25T15:51:32.844Z"
   },
   {
    "duration": 236,
    "start_time": "2024-03-25T15:51:32.855Z"
   },
   {
    "duration": 29,
    "start_time": "2024-03-25T15:51:33.093Z"
   },
   {
    "duration": 323,
    "start_time": "2024-03-25T15:51:33.125Z"
   },
   {
    "duration": 11,
    "start_time": "2024-03-25T15:51:33.450Z"
   },
   {
    "duration": 15,
    "start_time": "2024-03-25T15:51:33.463Z"
   },
   {
    "duration": 39,
    "start_time": "2024-03-25T15:51:33.480Z"
   },
   {
    "duration": 15,
    "start_time": "2024-03-25T15:51:33.520Z"
   },
   {
    "duration": 5,
    "start_time": "2024-03-25T15:51:33.536Z"
   },
   {
    "duration": 19,
    "start_time": "2024-03-25T15:51:33.542Z"
   },
   {
    "duration": 10,
    "start_time": "2024-03-25T15:51:33.563Z"
   },
   {
    "duration": 6,
    "start_time": "2024-03-25T15:51:33.800Z"
   },
   {
    "duration": 8,
    "start_time": "2024-03-25T15:51:34.329Z"
   },
   {
    "duration": 170,
    "start_time": "2024-03-25T15:51:34.513Z"
   },
   {
    "duration": 7,
    "start_time": "2024-03-25T15:51:34.718Z"
   },
   {
    "duration": 171,
    "start_time": "2024-03-25T15:51:34.891Z"
   },
   {
    "duration": 9,
    "start_time": "2024-03-25T15:51:35.379Z"
   },
   {
    "duration": 189,
    "start_time": "2024-03-25T15:51:35.556Z"
   },
   {
    "duration": 9,
    "start_time": "2024-03-25T15:51:35.747Z"
   },
   {
    "duration": 189,
    "start_time": "2024-03-25T15:51:35.899Z"
   },
   {
    "duration": 33,
    "start_time": "2024-03-25T15:51:36.611Z"
   },
   {
    "duration": 9,
    "start_time": "2024-03-25T15:51:37.150Z"
   },
   {
    "duration": 5,
    "start_time": "2024-03-25T15:51:37.500Z"
   },
   {
    "duration": 263,
    "start_time": "2024-03-25T15:51:37.995Z"
   },
   {
    "duration": 6,
    "start_time": "2024-03-25T15:51:39.521Z"
   },
   {
    "duration": 6,
    "start_time": "2024-03-25T15:51:49.201Z"
   },
   {
    "duration": 5,
    "start_time": "2024-03-25T15:52:06.760Z"
   },
   {
    "duration": 11,
    "start_time": "2024-03-25T15:52:07.281Z"
   },
   {
    "duration": 6,
    "start_time": "2024-03-25T15:52:08.406Z"
   },
   {
    "duration": 7,
    "start_time": "2024-03-25T15:52:09.639Z"
   },
   {
    "duration": 8,
    "start_time": "2024-03-25T15:52:11.088Z"
   },
   {
    "duration": 20,
    "start_time": "2024-03-25T15:52:13.182Z"
   },
   {
    "duration": 7,
    "start_time": "2024-03-25T15:56:47.360Z"
   },
   {
    "duration": 6,
    "start_time": "2024-03-25T15:59:02.482Z"
   },
   {
    "duration": 6,
    "start_time": "2024-03-25T15:59:12.861Z"
   },
   {
    "duration": 9,
    "start_time": "2024-03-25T16:20:34.564Z"
   },
   {
    "duration": 1051,
    "start_time": "2024-03-25T17:02:26.930Z"
   },
   {
    "duration": 28,
    "start_time": "2024-03-25T17:02:27.983Z"
   },
   {
    "duration": 28,
    "start_time": "2024-03-25T17:02:28.012Z"
   },
   {
    "duration": 15,
    "start_time": "2024-03-25T17:02:28.041Z"
   },
   {
    "duration": 40,
    "start_time": "2024-03-25T17:02:28.058Z"
   },
   {
    "duration": 21,
    "start_time": "2024-03-25T17:02:28.099Z"
   },
   {
    "duration": 23,
    "start_time": "2024-03-25T17:02:28.122Z"
   },
   {
    "duration": 41,
    "start_time": "2024-03-25T17:02:28.147Z"
   },
   {
    "duration": 33,
    "start_time": "2024-03-25T17:02:28.189Z"
   },
   {
    "duration": 29,
    "start_time": "2024-03-25T17:02:28.224Z"
   },
   {
    "duration": 42,
    "start_time": "2024-03-25T17:02:28.254Z"
   },
   {
    "duration": 81,
    "start_time": "2024-03-25T17:02:28.297Z"
   },
   {
    "duration": 181,
    "start_time": "2024-03-25T17:02:28.379Z"
   },
   {
    "duration": 197,
    "start_time": "2024-03-25T17:02:28.562Z"
   },
   {
    "duration": 212,
    "start_time": "2024-03-25T17:02:28.760Z"
   },
   {
    "duration": 2,
    "start_time": "2024-03-25T17:02:28.973Z"
   },
   {
    "duration": 19,
    "start_time": "2024-03-25T17:02:28.976Z"
   },
   {
    "duration": 19,
    "start_time": "2024-03-25T17:02:28.997Z"
   },
   {
    "duration": 14,
    "start_time": "2024-03-25T17:02:29.017Z"
   },
   {
    "duration": 8,
    "start_time": "2024-03-25T17:02:29.032Z"
   },
   {
    "duration": 3,
    "start_time": "2024-03-25T17:02:29.041Z"
   },
   {
    "duration": 7,
    "start_time": "2024-03-25T17:02:29.045Z"
   },
   {
    "duration": 8,
    "start_time": "2024-03-25T17:02:29.053Z"
   },
   {
    "duration": 111,
    "start_time": "2024-03-25T17:02:29.063Z"
   },
   {
    "duration": 6,
    "start_time": "2024-03-25T17:02:29.175Z"
   },
   {
    "duration": 200,
    "start_time": "2024-03-25T17:02:29.182Z"
   },
   {
    "duration": 4,
    "start_time": "2024-03-25T17:02:29.384Z"
   },
   {
    "duration": 4,
    "start_time": "2024-03-25T17:02:29.392Z"
   },
   {
    "duration": 8,
    "start_time": "2024-03-25T17:02:29.397Z"
   },
   {
    "duration": 35,
    "start_time": "2024-03-25T17:02:29.406Z"
   },
   {
    "duration": 24,
    "start_time": "2024-03-25T17:02:29.443Z"
   },
   {
    "duration": 13,
    "start_time": "2024-03-25T17:02:29.468Z"
   },
   {
    "duration": 81,
    "start_time": "2024-03-25T17:02:29.482Z"
   },
   {
    "duration": 142,
    "start_time": "2024-03-25T17:02:29.565Z"
   },
   {
    "duration": 5,
    "start_time": "2024-03-25T17:02:29.708Z"
   },
   {
    "duration": 197,
    "start_time": "2024-03-25T17:02:29.714Z"
   },
   {
    "duration": 4,
    "start_time": "2024-03-25T17:02:29.912Z"
   },
   {
    "duration": 14,
    "start_time": "2024-03-25T17:02:29.917Z"
   },
   {
    "duration": 148,
    "start_time": "2024-03-25T17:02:29.932Z"
   },
   {
    "duration": 3,
    "start_time": "2024-03-25T17:02:30.081Z"
   },
   {
    "duration": 85,
    "start_time": "2024-03-25T17:02:30.086Z"
   },
   {
    "duration": 176,
    "start_time": "2024-03-25T17:02:30.172Z"
   },
   {
    "duration": 7,
    "start_time": "2024-03-25T17:02:30.350Z"
   },
   {
    "duration": 199,
    "start_time": "2024-03-25T17:02:30.358Z"
   },
   {
    "duration": 8,
    "start_time": "2024-03-25T17:02:30.559Z"
   },
   {
    "duration": 275,
    "start_time": "2024-03-25T17:02:30.568Z"
   },
   {
    "duration": 9,
    "start_time": "2024-03-25T17:02:30.845Z"
   },
   {
    "duration": 326,
    "start_time": "2024-03-25T17:02:30.856Z"
   },
   {
    "duration": 10,
    "start_time": "2024-03-25T17:02:31.184Z"
   },
   {
    "duration": 247,
    "start_time": "2024-03-25T17:02:31.195Z"
   },
   {
    "duration": 142,
    "start_time": "2024-03-25T17:02:31.443Z"
   },
   {
    "duration": 68,
    "start_time": "2024-03-25T17:02:31.587Z"
   },
   {
    "duration": 77,
    "start_time": "2024-03-25T17:02:31.657Z"
   },
   {
    "duration": 49,
    "start_time": "2024-03-25T17:02:31.735Z"
   },
   {
    "duration": 25,
    "start_time": "2024-03-25T17:02:31.785Z"
   },
   {
    "duration": 30,
    "start_time": "2024-03-25T17:02:31.812Z"
   },
   {
    "duration": 38,
    "start_time": "2024-03-25T17:02:31.844Z"
   },
   {
    "duration": 176,
    "start_time": "2024-03-25T17:02:31.884Z"
   },
   {
    "duration": 7,
    "start_time": "2024-03-25T17:02:32.061Z"
   },
   {
    "duration": 171,
    "start_time": "2024-03-25T17:02:32.069Z"
   },
   {
    "duration": 9,
    "start_time": "2024-03-25T17:02:32.241Z"
   },
   {
    "duration": 310,
    "start_time": "2024-03-25T17:02:32.251Z"
   },
   {
    "duration": 8,
    "start_time": "2024-03-25T17:02:32.562Z"
   },
   {
    "duration": 251,
    "start_time": "2024-03-25T17:02:32.571Z"
   },
   {
    "duration": 30,
    "start_time": "2024-03-25T17:02:32.823Z"
   },
   {
    "duration": 23,
    "start_time": "2024-03-25T17:02:32.855Z"
   },
   {
    "duration": 8,
    "start_time": "2024-03-25T17:02:32.880Z"
   },
   {
    "duration": 290,
    "start_time": "2024-03-25T17:02:32.890Z"
   },
   {
    "duration": 5,
    "start_time": "2024-03-25T17:02:33.181Z"
   },
   {
    "duration": 7,
    "start_time": "2024-03-25T17:02:33.188Z"
   },
   {
    "duration": 44,
    "start_time": "2024-03-25T17:02:33.196Z"
   },
   {
    "duration": 34,
    "start_time": "2024-03-25T17:02:33.241Z"
   },
   {
    "duration": 22,
    "start_time": "2024-03-25T17:02:33.276Z"
   },
   {
    "duration": 29,
    "start_time": "2024-03-25T17:02:33.300Z"
   },
   {
    "duration": 14,
    "start_time": "2024-03-25T17:02:33.330Z"
   },
   {
    "duration": 11,
    "start_time": "2024-03-25T17:12:35.291Z"
   },
   {
    "duration": 5,
    "start_time": "2024-03-25T17:12:53.601Z"
   },
   {
    "duration": 5,
    "start_time": "2024-03-25T17:13:00.452Z"
   },
   {
    "duration": 10,
    "start_time": "2024-03-25T17:13:11.637Z"
   },
   {
    "duration": 9,
    "start_time": "2024-03-25T17:13:19.308Z"
   },
   {
    "duration": 8,
    "start_time": "2024-03-25T17:14:14.951Z"
   },
   {
    "duration": 4,
    "start_time": "2024-03-25T17:16:46.167Z"
   },
   {
    "duration": 4,
    "start_time": "2024-03-25T17:16:56.258Z"
   },
   {
    "duration": 5,
    "start_time": "2024-03-25T17:17:02.068Z"
   },
   {
    "duration": 5,
    "start_time": "2024-03-25T17:18:02.650Z"
   },
   {
    "duration": 50,
    "start_time": "2024-03-26T16:26:10.557Z"
   },
   {
    "duration": 1391,
    "start_time": "2024-03-26T16:26:20.883Z"
   },
   {
    "duration": 108,
    "start_time": "2024-03-26T16:26:22.276Z"
   },
   {
    "duration": 144,
    "start_time": "2024-03-26T16:26:22.386Z"
   },
   {
    "duration": 73,
    "start_time": "2024-03-26T16:26:22.532Z"
   },
   {
    "duration": 14,
    "start_time": "2024-03-26T16:26:22.607Z"
   },
   {
    "duration": 10,
    "start_time": "2024-03-26T16:26:22.622Z"
   },
   {
    "duration": 8,
    "start_time": "2024-03-26T16:26:22.633Z"
   },
   {
    "duration": 11,
    "start_time": "2024-03-26T16:26:23.175Z"
   },
   {
    "duration": 12,
    "start_time": "2024-03-26T16:26:23.737Z"
   },
   {
    "duration": 15,
    "start_time": "2024-03-26T16:26:24.088Z"
   },
   {
    "duration": 19,
    "start_time": "2024-03-26T16:26:24.871Z"
   },
   {
    "duration": 58,
    "start_time": "2024-03-26T16:26:25.743Z"
   },
   {
    "duration": 243,
    "start_time": "2024-03-26T16:26:26.582Z"
   },
   {
    "duration": 3,
    "start_time": "2024-03-26T17:25:41.340Z"
   },
   {
    "duration": 31,
    "start_time": "2024-03-26T17:25:42.317Z"
   },
   {
    "duration": 29,
    "start_time": "2024-03-26T17:25:42.578Z"
   },
   {
    "duration": 17,
    "start_time": "2024-03-26T17:25:42.802Z"
   },
   {
    "duration": 11,
    "start_time": "2024-03-26T17:25:43.463Z"
   },
   {
    "duration": 10,
    "start_time": "2024-03-26T17:25:43.866Z"
   },
   {
    "duration": 8,
    "start_time": "2024-03-26T17:25:44.082Z"
   },
   {
    "duration": 11,
    "start_time": "2024-03-26T17:25:44.437Z"
   },
   {
    "duration": 12,
    "start_time": "2024-03-26T17:25:44.796Z"
   },
   {
    "duration": 10,
    "start_time": "2024-03-26T17:25:45.138Z"
   },
   {
    "duration": 19,
    "start_time": "2024-03-26T17:25:45.694Z"
   },
   {
    "duration": 21,
    "start_time": "2024-03-26T17:25:46.036Z"
   },
   {
    "duration": 202,
    "start_time": "2024-03-26T17:25:46.557Z"
   },
   {
    "duration": 259,
    "start_time": "2024-03-26T17:25:46.897Z"
   },
   {
    "duration": 1191,
    "start_time": "2024-03-26T19:53:42.869Z"
   },
   {
    "duration": 82,
    "start_time": "2024-03-26T19:53:44.062Z"
   },
   {
    "duration": 76,
    "start_time": "2024-03-26T19:53:44.166Z"
   },
   {
    "duration": 58,
    "start_time": "2024-03-26T19:53:44.320Z"
   },
   {
    "duration": 13,
    "start_time": "2024-03-26T19:53:46.103Z"
   },
   {
    "duration": 9,
    "start_time": "2024-03-26T19:53:46.381Z"
   },
   {
    "duration": 6,
    "start_time": "2024-03-26T19:53:47.048Z"
   },
   {
    "duration": 10,
    "start_time": "2024-03-26T19:53:48.670Z"
   },
   {
    "duration": 11,
    "start_time": "2024-03-26T19:53:49.805Z"
   },
   {
    "duration": 9,
    "start_time": "2024-03-26T19:53:50.308Z"
   },
   {
    "duration": 16,
    "start_time": "2024-03-26T19:53:51.135Z"
   },
   {
    "duration": 50,
    "start_time": "2024-03-26T19:53:51.402Z"
   },
   {
    "duration": 199,
    "start_time": "2024-03-26T19:58:34.435Z"
   },
   {
    "duration": 176,
    "start_time": "2024-03-26T20:00:23.036Z"
   },
   {
    "duration": 184,
    "start_time": "2024-03-26T20:01:37.871Z"
   },
   {
    "duration": 185,
    "start_time": "2024-03-26T20:01:57.054Z"
   },
   {
    "duration": 185,
    "start_time": "2024-03-26T20:02:13.713Z"
   },
   {
    "duration": 193,
    "start_time": "2024-03-26T20:02:32.150Z"
   },
   {
    "duration": 206,
    "start_time": "2024-03-26T20:03:00.140Z"
   },
   {
    "duration": 205,
    "start_time": "2024-03-26T20:03:11.805Z"
   },
   {
    "duration": 235,
    "start_time": "2024-03-26T20:03:33.776Z"
   },
   {
    "duration": 172,
    "start_time": "2024-03-26T20:03:43.966Z"
   },
   {
    "duration": 205,
    "start_time": "2024-03-26T20:04:41.901Z"
   },
   {
    "duration": 214,
    "start_time": "2024-03-26T20:05:19.352Z"
   },
   {
    "duration": 203,
    "start_time": "2024-03-26T20:05:34.114Z"
   },
   {
    "duration": 104,
    "start_time": "2024-03-26T20:06:56.565Z"
   },
   {
    "duration": 208,
    "start_time": "2024-03-26T20:08:23.387Z"
   },
   {
    "duration": 1000,
    "start_time": "2024-03-26T20:12:32.813Z"
   },
   {
    "duration": 283,
    "start_time": "2024-03-26T20:12:49.660Z"
   },
   {
    "duration": 195,
    "start_time": "2024-03-26T20:12:50.606Z"
   },
   {
    "duration": 199,
    "start_time": "2024-03-26T20:12:51.531Z"
   },
   {
    "duration": 3,
    "start_time": "2024-03-26T20:12:58.416Z"
   },
   {
    "duration": 9,
    "start_time": "2024-03-26T20:13:00.948Z"
   },
   {
    "duration": 4,
    "start_time": "2024-03-26T20:13:09.098Z"
   },
   {
    "duration": 4,
    "start_time": "2024-03-26T20:13:12.211Z"
   },
   {
    "duration": 8,
    "start_time": "2024-03-26T20:13:12.672Z"
   },
   {
    "duration": 3,
    "start_time": "2024-03-26T20:13:22.047Z"
   },
   {
    "duration": 7,
    "start_time": "2024-03-26T20:13:23.197Z"
   },
   {
    "duration": 7,
    "start_time": "2024-03-26T20:13:23.371Z"
   },
   {
    "duration": 109,
    "start_time": "2024-03-26T20:13:25.632Z"
   },
   {
    "duration": 999,
    "start_time": "2024-03-26T20:31:13.387Z"
   },
   {
    "duration": 193,
    "start_time": "2024-03-26T20:36:43.598Z"
   },
   {
    "duration": 149,
    "start_time": "2024-03-26T20:38:30.470Z"
   },
   {
    "duration": 173,
    "start_time": "2024-03-26T20:39:13.276Z"
   },
   {
    "duration": 170,
    "start_time": "2024-03-26T20:39:23.725Z"
   },
   {
    "duration": 237,
    "start_time": "2024-03-26T20:40:23.403Z"
   },
   {
    "duration": 311,
    "start_time": "2024-03-26T20:40:50.679Z"
   },
   {
    "duration": 209,
    "start_time": "2024-03-26T20:40:55.754Z"
   },
   {
    "duration": 219,
    "start_time": "2024-03-26T20:41:02.144Z"
   },
   {
    "duration": 220,
    "start_time": "2024-03-26T20:41:05.948Z"
   },
   {
    "duration": 210,
    "start_time": "2024-03-26T20:41:10.398Z"
   },
   {
    "duration": 211,
    "start_time": "2024-03-26T20:41:14.699Z"
   },
   {
    "duration": 181,
    "start_time": "2024-03-26T20:42:17.790Z"
   },
   {
    "duration": 9,
    "start_time": "2024-03-26T20:42:44.411Z"
   },
   {
    "duration": 8,
    "start_time": "2024-03-26T20:43:18.186Z"
   },
   {
    "duration": 3,
    "start_time": "2024-03-26T20:43:56.161Z"
   },
   {
    "duration": 28,
    "start_time": "2024-03-26T20:43:56.641Z"
   },
   {
    "duration": 26,
    "start_time": "2024-03-26T20:43:56.790Z"
   },
   {
    "duration": 15,
    "start_time": "2024-03-26T20:43:56.972Z"
   },
   {
    "duration": 9,
    "start_time": "2024-03-26T20:43:57.722Z"
   },
   {
    "duration": 9,
    "start_time": "2024-03-26T20:43:57.890Z"
   },
   {
    "duration": 8,
    "start_time": "2024-03-26T20:43:58.057Z"
   },
   {
    "duration": 10,
    "start_time": "2024-03-26T20:43:58.469Z"
   },
   {
    "duration": 13,
    "start_time": "2024-03-26T20:43:59.023Z"
   },
   {
    "duration": 8,
    "start_time": "2024-03-26T20:43:59.400Z"
   },
   {
    "duration": 16,
    "start_time": "2024-03-26T20:43:59.954Z"
   },
   {
    "duration": 17,
    "start_time": "2024-03-26T20:44:00.298Z"
   },
   {
    "duration": 186,
    "start_time": "2024-03-26T20:44:00.745Z"
   },
   {
    "duration": 206,
    "start_time": "2024-03-26T20:44:01.318Z"
   },
   {
    "duration": 349,
    "start_time": "2024-03-26T20:44:01.525Z"
   },
   {
    "duration": 2,
    "start_time": "2024-03-26T20:44:02.768Z"
   },
   {
    "duration": 8,
    "start_time": "2024-03-26T20:44:03.096Z"
   },
   {
    "duration": 5,
    "start_time": "2024-03-26T20:44:04.134Z"
   },
   {
    "duration": 4,
    "start_time": "2024-03-26T20:44:05.175Z"
   },
   {
    "duration": 7,
    "start_time": "2024-03-26T20:44:05.321Z"
   },
   {
    "duration": 3,
    "start_time": "2024-03-26T20:44:06.210Z"
   },
   {
    "duration": 6,
    "start_time": "2024-03-26T20:44:06.350Z"
   },
   {
    "duration": 10,
    "start_time": "2024-03-26T20:44:06.525Z"
   },
   {
    "duration": 108,
    "start_time": "2024-03-26T20:44:07.065Z"
   },
   {
    "duration": 190,
    "start_time": "2024-03-26T20:44:07.779Z"
   },
   {
    "duration": 5,
    "start_time": "2024-03-26T20:44:08.132Z"
   },
   {
    "duration": 5,
    "start_time": "2024-03-26T20:44:08.826Z"
   },
   {
    "duration": 7,
    "start_time": "2024-03-26T20:44:09.185Z"
   },
   {
    "duration": 6,
    "start_time": "2024-03-26T20:44:09.406Z"
   },
   {
    "duration": 3,
    "start_time": "2024-03-26T20:44:09.550Z"
   },
   {
    "duration": 7,
    "start_time": "2024-03-26T20:44:10.137Z"
   },
   {
    "duration": 97,
    "start_time": "2024-03-26T20:44:10.510Z"
   },
   {
    "duration": 5,
    "start_time": "2024-03-26T20:44:12.838Z"
   },
   {
    "duration": 197,
    "start_time": "2024-03-26T20:44:14.618Z"
   },
   {
    "duration": 4,
    "start_time": "2024-03-26T20:44:16.088Z"
   },
   {
    "duration": 12,
    "start_time": "2024-03-26T20:44:17.959Z"
   },
   {
    "duration": 137,
    "start_time": "2024-03-26T20:44:18.101Z"
   },
   {
    "duration": 3,
    "start_time": "2024-03-26T20:44:20.571Z"
   },
   {
    "duration": 4,
    "start_time": "2024-03-26T20:44:20.748Z"
   },
   {
    "duration": 71,
    "start_time": "2024-03-26T20:44:20.922Z"
   },
   {
    "duration": 7,
    "start_time": "2024-03-26T20:44:22.664Z"
   },
   {
    "duration": 171,
    "start_time": "2024-03-26T20:44:22.672Z"
   },
   {
    "duration": 7,
    "start_time": "2024-03-26T20:44:26.100Z"
   },
   {
    "duration": 219,
    "start_time": "2024-03-26T20:44:27.004Z"
   },
   {
    "duration": 8,
    "start_time": "2024-03-26T20:44:30.109Z"
   },
   {
    "duration": 199,
    "start_time": "2024-03-26T20:44:30.790Z"
   },
   {
    "duration": 9,
    "start_time": "2024-03-26T20:44:34.939Z"
   },
   {
    "duration": 9,
    "start_time": "2024-03-26T20:44:35.334Z"
   },
   {
    "duration": 14,
    "start_time": "2024-03-26T20:44:35.926Z"
   },
   {
    "duration": 14,
    "start_time": "2024-03-26T20:44:36.571Z"
   },
   {
    "duration": 4,
    "start_time": "2024-03-26T20:44:36.998Z"
   },
   {
    "duration": 13,
    "start_time": "2024-03-26T20:44:37.390Z"
   },
   {
    "duration": 6,
    "start_time": "2024-03-26T20:44:40.137Z"
   },
   {
    "duration": 7,
    "start_time": "2024-03-26T20:44:40.739Z"
   },
   {
    "duration": 7,
    "start_time": "2024-03-26T20:44:42.317Z"
   },
   {
    "duration": 170,
    "start_time": "2024-03-26T20:44:42.938Z"
   },
   {
    "duration": 7,
    "start_time": "2024-03-26T20:44:44.381Z"
   },
   {
    "duration": 164,
    "start_time": "2024-03-26T20:44:45.857Z"
   },
   {
    "duration": 7,
    "start_time": "2024-03-26T20:44:52.903Z"
   },
   {
    "duration": 154,
    "start_time": "2024-03-26T20:44:53.605Z"
   },
   {
    "duration": 171,
    "start_time": "2024-03-26T20:45:28.972Z"
   },
   {
    "duration": 175,
    "start_time": "2024-03-26T20:45:56.207Z"
   },
   {
    "duration": 318,
    "start_time": "2024-03-26T20:46:34.331Z"
   },
   {
    "duration": 159,
    "start_time": "2024-03-26T20:46:42.410Z"
   },
   {
    "duration": 167,
    "start_time": "2024-03-26T20:46:44.344Z"
   },
   {
    "duration": 7,
    "start_time": "2024-03-26T20:46:50.843Z"
   },
   {
    "duration": 1270,
    "start_time": "2024-03-27T07:14:21.765Z"
   },
   {
    "duration": 77,
    "start_time": "2024-03-27T07:14:23.037Z"
   },
   {
    "duration": 84,
    "start_time": "2024-03-27T07:14:23.126Z"
   },
   {
    "duration": 61,
    "start_time": "2024-03-27T07:14:23.330Z"
   },
   {
    "duration": 16,
    "start_time": "2024-03-27T07:14:24.096Z"
   },
   {
    "duration": 10,
    "start_time": "2024-03-27T07:14:24.285Z"
   },
   {
    "duration": 7,
    "start_time": "2024-03-27T07:14:24.455Z"
   },
   {
    "duration": 12,
    "start_time": "2024-03-27T07:14:24.799Z"
   },
   {
    "duration": 12,
    "start_time": "2024-03-27T07:14:25.171Z"
   },
   {
    "duration": 11,
    "start_time": "2024-03-27T07:14:25.539Z"
   },
   {
    "duration": 20,
    "start_time": "2024-03-27T07:14:26.054Z"
   },
   {
    "duration": 54,
    "start_time": "2024-03-27T07:14:26.395Z"
   },
   {
    "duration": 207,
    "start_time": "2024-03-27T07:14:26.955Z"
   },
   {
    "duration": 55,
    "start_time": "2024-03-27T07:27:44.151Z"
   },
   {
    "duration": 4,
    "start_time": "2024-03-27T07:59:16.918Z"
   },
   {
    "duration": 31,
    "start_time": "2024-03-27T07:59:17.679Z"
   },
   {
    "duration": 28,
    "start_time": "2024-03-27T07:59:17.840Z"
   },
   {
    "duration": 16,
    "start_time": "2024-03-27T07:59:18.083Z"
   },
   {
    "duration": 10,
    "start_time": "2024-03-27T07:59:18.791Z"
   },
   {
    "duration": 10,
    "start_time": "2024-03-27T07:59:19.020Z"
   },
   {
    "duration": 7,
    "start_time": "2024-03-27T07:59:19.240Z"
   },
   {
    "duration": 12,
    "start_time": "2024-03-27T07:59:19.760Z"
   },
   {
    "duration": 11,
    "start_time": "2024-03-27T07:59:20.387Z"
   },
   {
    "duration": 9,
    "start_time": "2024-03-27T07:59:20.880Z"
   },
   {
    "duration": 19,
    "start_time": "2024-03-27T07:59:21.529Z"
   },
   {
    "duration": 19,
    "start_time": "2024-03-27T07:59:21.900Z"
   },
   {
    "duration": 200,
    "start_time": "2024-03-27T07:59:23.807Z"
   },
   {
    "duration": 231,
    "start_time": "2024-03-27T07:59:25.497Z"
   },
   {
    "duration": 243,
    "start_time": "2024-03-27T07:59:25.951Z"
   },
   {
    "duration": 3,
    "start_time": "2024-03-27T07:59:29.451Z"
   },
   {
    "duration": 9,
    "start_time": "2024-03-27T07:59:31.978Z"
   },
   {
    "duration": 4,
    "start_time": "2024-03-27T08:00:15.672Z"
   },
   {
    "duration": 4,
    "start_time": "2024-03-27T08:07:06.596Z"
   },
   {
    "duration": 5,
    "start_time": "2024-03-27T08:07:58.397Z"
   },
   {
    "duration": 4,
    "start_time": "2024-03-27T08:08:00.817Z"
   },
   {
    "duration": 5,
    "start_time": "2024-03-27T08:08:02.466Z"
   },
   {
    "duration": 7,
    "start_time": "2024-03-27T08:09:42.548Z"
   },
   {
    "duration": 7,
    "start_time": "2024-03-27T08:09:53.148Z"
   },
   {
    "duration": 8,
    "start_time": "2024-03-27T08:10:09.004Z"
   },
   {
    "duration": 5,
    "start_time": "2024-03-27T08:14:02.007Z"
   },
   {
    "duration": 8,
    "start_time": "2024-03-27T08:14:02.717Z"
   },
   {
    "duration": 5,
    "start_time": "2024-03-27T08:14:25.225Z"
   },
   {
    "duration": 7,
    "start_time": "2024-03-27T08:14:25.388Z"
   },
   {
    "duration": 8,
    "start_time": "2024-03-27T08:14:25.518Z"
   },
   {
    "duration": 139,
    "start_time": "2024-03-27T08:14:26.669Z"
   },
   {
    "duration": 225,
    "start_time": "2024-03-27T08:14:39.158Z"
   },
   {
    "duration": 5,
    "start_time": "2024-03-27T08:14:42.205Z"
   },
   {
    "duration": 18,
    "start_time": "2024-03-27T08:14:48.248Z"
   },
   {
    "duration": 8,
    "start_time": "2024-03-27T08:14:48.959Z"
   },
   {
    "duration": 7,
    "start_time": "2024-03-27T08:14:49.538Z"
   },
   {
    "duration": 3,
    "start_time": "2024-03-27T08:14:51.967Z"
   },
   {
    "duration": 11,
    "start_time": "2024-03-27T08:15:36.717Z"
   },
   {
    "duration": 115,
    "start_time": "2024-03-27T08:15:58.498Z"
   },
   {
    "duration": 5,
    "start_time": "2024-03-27T08:20:33.430Z"
   },
   {
    "duration": 6,
    "start_time": "2024-03-27T08:20:46.576Z"
   },
   {
    "duration": 8,
    "start_time": "2024-03-27T08:21:14.388Z"
   },
   {
    "duration": 326,
    "start_time": "2024-03-27T08:24:23.868Z"
   },
   {
    "duration": 17,
    "start_time": "2024-03-27T08:27:39.282Z"
   },
   {
    "duration": 243,
    "start_time": "2024-03-27T08:28:34.338Z"
   },
   {
    "duration": 16,
    "start_time": "2024-03-27T08:28:38.157Z"
   },
   {
    "duration": 18,
    "start_time": "2024-03-27T08:41:25.715Z"
   },
   {
    "duration": 6,
    "start_time": "2024-03-27T08:43:40.200Z"
   },
   {
    "duration": 5,
    "start_time": "2024-03-27T08:45:20.350Z"
   },
   {
    "duration": 242,
    "start_time": "2024-03-27T08:46:18.170Z"
   },
   {
    "duration": 4,
    "start_time": "2024-03-27T08:47:40.037Z"
   },
   {
    "duration": 14,
    "start_time": "2024-03-27T08:47:57.706Z"
   },
   {
    "duration": 152,
    "start_time": "2024-03-27T08:47:59.974Z"
   },
   {
    "duration": 4,
    "start_time": "2024-03-27T08:48:04.095Z"
   },
   {
    "duration": 4,
    "start_time": "2024-03-27T08:48:04.196Z"
   },
   {
    "duration": 89,
    "start_time": "2024-03-27T08:48:04.356Z"
   },
   {
    "duration": 7,
    "start_time": "2024-03-27T08:48:07.335Z"
   },
   {
    "duration": 209,
    "start_time": "2024-03-27T08:48:08.447Z"
   },
   {
    "duration": 8,
    "start_time": "2024-03-27T08:48:12.345Z"
   },
   {
    "duration": 251,
    "start_time": "2024-03-27T08:48:12.535Z"
   },
   {
    "duration": 11,
    "start_time": "2024-03-27T08:48:16.463Z"
   },
   {
    "duration": 230,
    "start_time": "2024-03-27T08:48:20.097Z"
   },
   {
    "duration": 4,
    "start_time": "2024-03-27T08:55:35.235Z"
   },
   {
    "duration": 12,
    "start_time": "2024-03-27T08:57:30.379Z"
   },
   {
    "duration": 9,
    "start_time": "2024-03-27T08:57:30.769Z"
   },
   {
    "duration": 19,
    "start_time": "2024-03-27T08:57:32.280Z"
   },
   {
    "duration": 15,
    "start_time": "2024-03-27T08:57:34.628Z"
   },
   {
    "duration": 4,
    "start_time": "2024-03-27T08:57:35.147Z"
   },
   {
    "duration": 3,
    "start_time": "2024-03-27T08:58:25.531Z"
   },
   {
    "duration": 94,
    "start_time": "2024-03-27T09:01:42.945Z"
   },
   {
    "duration": 8,
    "start_time": "2024-03-27T09:01:53.326Z"
   },
   {
    "duration": 15,
    "start_time": "2024-03-27T09:01:53.876Z"
   },
   {
    "duration": 15,
    "start_time": "2024-03-27T09:02:51.016Z"
   },
   {
    "duration": 102,
    "start_time": "2024-03-27T09:02:54.607Z"
   },
   {
    "duration": 15,
    "start_time": "2024-03-27T09:03:20.564Z"
   },
   {
    "duration": 15,
    "start_time": "2024-03-27T09:03:24.462Z"
   },
   {
    "duration": 9,
    "start_time": "2024-03-27T09:05:12.480Z"
   },
   {
    "duration": 205,
    "start_time": "2024-03-27T09:05:13.664Z"
   },
   {
    "duration": 10,
    "start_time": "2024-03-27T09:05:14.678Z"
   },
   {
    "duration": 192,
    "start_time": "2024-03-27T09:05:14.852Z"
   },
   {
    "duration": 8,
    "start_time": "2024-03-27T09:05:18.340Z"
   },
   {
    "duration": 208,
    "start_time": "2024-03-27T09:05:18.834Z"
   },
   {
    "duration": 8,
    "start_time": "2024-03-27T09:05:19.968Z"
   },
   {
    "duration": 155,
    "start_time": "2024-03-27T09:05:21.138Z"
   },
   {
    "duration": 10,
    "start_time": "2024-03-27T09:10:45.818Z"
   },
   {
    "duration": 34,
    "start_time": "2024-03-27T09:10:51.726Z"
   },
   {
    "duration": 11,
    "start_time": "2024-03-27T09:10:54.137Z"
   },
   {
    "duration": 1106,
    "start_time": "2024-03-27T10:55:56.942Z"
   },
   {
    "duration": 32,
    "start_time": "2024-03-27T10:55:58.050Z"
   },
   {
    "duration": 42,
    "start_time": "2024-03-27T10:55:58.084Z"
   },
   {
    "duration": 17,
    "start_time": "2024-03-27T10:55:58.128Z"
   },
   {
    "duration": 16,
    "start_time": "2024-03-27T10:55:58.146Z"
   },
   {
    "duration": 16,
    "start_time": "2024-03-27T10:55:58.164Z"
   },
   {
    "duration": 13,
    "start_time": "2024-03-27T10:55:58.182Z"
   },
   {
    "duration": 13,
    "start_time": "2024-03-27T10:55:58.196Z"
   },
   {
    "duration": 10,
    "start_time": "2024-03-27T10:55:58.211Z"
   },
   {
    "duration": 9,
    "start_time": "2024-03-27T10:55:58.223Z"
   },
   {
    "duration": 43,
    "start_time": "2024-03-27T10:55:58.233Z"
   },
   {
    "duration": 57,
    "start_time": "2024-03-27T10:55:58.278Z"
   },
   {
    "duration": 217,
    "start_time": "2024-03-27T10:55:58.583Z"
   },
   {
    "duration": 244,
    "start_time": "2024-03-27T10:55:59.054Z"
   },
   {
    "duration": 266,
    "start_time": "2024-03-27T10:55:59.300Z"
   },
   {
    "duration": 2,
    "start_time": "2024-03-27T10:56:00.579Z"
   },
   {
    "duration": 9,
    "start_time": "2024-03-27T10:56:00.993Z"
   },
   {
    "duration": 5,
    "start_time": "2024-03-27T10:56:01.547Z"
   },
   {
    "duration": 5,
    "start_time": "2024-03-27T10:56:01.926Z"
   },
   {
    "duration": 7,
    "start_time": "2024-03-27T10:56:03.609Z"
   },
   {
    "duration": 8,
    "start_time": "2024-03-27T10:56:04.346Z"
   },
   {
    "duration": 6,
    "start_time": "2024-03-27T10:56:05.389Z"
   },
   {
    "duration": 7,
    "start_time": "2024-03-27T10:56:05.542Z"
   },
   {
    "duration": 4,
    "start_time": "2024-03-27T10:56:07.295Z"
   },
   {
    "duration": 7,
    "start_time": "2024-03-27T10:56:07.466Z"
   },
   {
    "duration": 9,
    "start_time": "2024-03-27T10:56:07.789Z"
   },
   {
    "duration": 124,
    "start_time": "2024-03-27T10:56:08.955Z"
   },
   {
    "duration": 227,
    "start_time": "2024-03-27T10:56:12.226Z"
   },
   {
    "duration": 6,
    "start_time": "2024-03-27T10:56:13.068Z"
   },
   {
    "duration": 7,
    "start_time": "2024-03-27T10:56:13.962Z"
   },
   {
    "duration": 8,
    "start_time": "2024-03-27T10:56:14.319Z"
   },
   {
    "duration": 7,
    "start_time": "2024-03-27T10:56:14.477Z"
   },
   {
    "duration": 3,
    "start_time": "2024-03-27T10:56:14.646Z"
   },
   {
    "duration": 8,
    "start_time": "2024-03-27T10:56:15.440Z"
   },
   {
    "duration": 125,
    "start_time": "2024-03-27T10:56:16.194Z"
   },
   {
    "duration": 5,
    "start_time": "2024-03-27T10:56:16.790Z"
   },
   {
    "duration": 8,
    "start_time": "2024-03-27T10:56:17.015Z"
   },
   {
    "duration": 251,
    "start_time": "2024-03-27T10:56:19.225Z"
   },
   {
    "duration": 18,
    "start_time": "2024-03-27T10:56:19.896Z"
   },
   {
    "duration": 7,
    "start_time": "2024-03-27T10:56:20.419Z"
   },
   {
    "duration": 6,
    "start_time": "2024-03-27T10:56:21.637Z"
   },
   {
    "duration": 318,
    "start_time": "2024-03-27T10:56:22.401Z"
   },
   {
    "duration": 4,
    "start_time": "2024-03-27T10:56:24.147Z"
   },
   {
    "duration": 14,
    "start_time": "2024-03-27T10:56:26.482Z"
   },
   {
    "duration": 154,
    "start_time": "2024-03-27T10:56:26.884Z"
   },
   {
    "duration": 4,
    "start_time": "2024-03-27T10:56:27.955Z"
   },
   {
    "duration": 4,
    "start_time": "2024-03-27T10:56:28.749Z"
   },
   {
    "duration": 90,
    "start_time": "2024-03-27T10:56:29.320Z"
   },
   {
    "duration": 7,
    "start_time": "2024-03-27T10:56:29.983Z"
   },
   {
    "duration": 201,
    "start_time": "2024-03-27T10:56:30.152Z"
   },
   {
    "duration": 10,
    "start_time": "2024-03-27T10:56:31.078Z"
   },
   {
    "duration": 253,
    "start_time": "2024-03-27T10:56:31.264Z"
   },
   {
    "duration": 8,
    "start_time": "2024-03-27T10:56:32.818Z"
   },
   {
    "duration": 218,
    "start_time": "2024-03-27T10:56:33.244Z"
   },
   {
    "duration": 4,
    "start_time": "2024-03-27T10:56:36.254Z"
   },
   {
    "duration": 13,
    "start_time": "2024-03-27T10:56:37.110Z"
   },
   {
    "duration": 12,
    "start_time": "2024-03-27T10:56:37.561Z"
   },
   {
    "duration": 18,
    "start_time": "2024-03-27T10:56:38.032Z"
   },
   {
    "duration": 14,
    "start_time": "2024-03-27T10:56:38.455Z"
   },
   {
    "duration": 5,
    "start_time": "2024-03-27T10:56:38.644Z"
   },
   {
    "duration": 15,
    "start_time": "2024-03-27T10:56:38.827Z"
   },
   {
    "duration": 3,
    "start_time": "2024-03-27T10:56:39.475Z"
   },
   {
    "duration": 9,
    "start_time": "2024-03-27T10:56:40.302Z"
   },
   {
    "duration": 16,
    "start_time": "2024-03-27T10:56:41.094Z"
   },
   {
    "duration": 7,
    "start_time": "2024-03-27T10:56:41.509Z"
   },
   {
    "duration": 19,
    "start_time": "2024-03-27T10:56:42.391Z"
   },
   {
    "duration": 10,
    "start_time": "2024-03-27T10:56:45.591Z"
   },
   {
    "duration": 193,
    "start_time": "2024-03-27T10:56:46.019Z"
   },
   {
    "duration": 11,
    "start_time": "2024-03-27T10:56:46.220Z"
   },
   {
    "duration": 212,
    "start_time": "2024-03-27T10:56:46.418Z"
   },
   {
    "duration": 7,
    "start_time": "2024-03-27T10:56:47.670Z"
   },
   {
    "duration": 181,
    "start_time": "2024-03-27T10:56:48.105Z"
   },
   {
    "duration": 8,
    "start_time": "2024-03-27T10:56:48.555Z"
   },
   {
    "duration": 160,
    "start_time": "2024-03-27T10:56:49.221Z"
   },
   {
    "duration": 48,
    "start_time": "2024-03-27T10:56:55.892Z"
   },
   {
    "duration": 11,
    "start_time": "2024-03-27T10:56:56.488Z"
   },
   {
    "duration": 74,
    "start_time": "2024-03-27T11:10:36.608Z"
   },
   {
    "duration": 10,
    "start_time": "2024-03-27T11:10:48.415Z"
   },
   {
    "duration": 8,
    "start_time": "2024-03-27T11:12:55.855Z"
   },
   {
    "duration": 7,
    "start_time": "2024-03-27T11:13:14.306Z"
   },
   {
    "duration": 5,
    "start_time": "2024-03-27T11:13:42.892Z"
   },
   {
    "duration": 5,
    "start_time": "2024-03-27T11:14:05.640Z"
   },
   {
    "duration": 5,
    "start_time": "2024-03-27T11:14:50.437Z"
   },
   {
    "duration": 4,
    "start_time": "2024-03-27T11:17:07.700Z"
   },
   {
    "duration": 7,
    "start_time": "2024-03-27T11:18:04.654Z"
   },
   {
    "duration": 143,
    "start_time": "2024-03-27T11:18:39.040Z"
   },
   {
    "duration": 14,
    "start_time": "2024-03-27T11:18:43.018Z"
   },
   {
    "duration": 8,
    "start_time": "2024-03-27T11:19:22.237Z"
   },
   {
    "duration": 6,
    "start_time": "2024-03-27T11:19:24.104Z"
   },
   {
    "duration": 260,
    "start_time": "2024-03-27T11:19:25.714Z"
   },
   {
    "duration": 6,
    "start_time": "2024-03-27T11:19:26.062Z"
   },
   {
    "duration": 4,
    "start_time": "2024-03-27T11:19:27.692Z"
   },
   {
    "duration": 13,
    "start_time": "2024-03-27T11:19:30.565Z"
   },
   {
    "duration": 3,
    "start_time": "2024-03-27T11:29:03.409Z"
   },
   {
    "duration": 29,
    "start_time": "2024-03-27T11:29:03.509Z"
   },
   {
    "duration": 29,
    "start_time": "2024-03-27T11:29:03.542Z"
   },
   {
    "duration": 16,
    "start_time": "2024-03-27T11:29:03.580Z"
   },
   {
    "duration": 10,
    "start_time": "2024-03-27T11:29:03.670Z"
   },
   {
    "duration": 13,
    "start_time": "2024-03-27T11:29:03.702Z"
   },
   {
    "duration": 9,
    "start_time": "2024-03-27T11:29:03.756Z"
   },
   {
    "duration": 15,
    "start_time": "2024-03-27T11:29:04.045Z"
   },
   {
    "duration": 14,
    "start_time": "2024-03-27T11:29:04.362Z"
   },
   {
    "duration": 14,
    "start_time": "2024-03-27T11:29:05.063Z"
   },
   {
    "duration": 24,
    "start_time": "2024-03-27T11:29:05.177Z"
   },
   {
    "duration": 29,
    "start_time": "2024-03-27T11:29:05.255Z"
   },
   {
    "duration": 239,
    "start_time": "2024-03-27T11:29:05.353Z"
   },
   {
    "duration": 279,
    "start_time": "2024-03-27T11:29:05.594Z"
   },
   {
    "duration": 274,
    "start_time": "2024-03-27T11:29:05.875Z"
   },
   {
    "duration": 3,
    "start_time": "2024-03-27T11:29:07.519Z"
   },
   {
    "duration": 9,
    "start_time": "2024-03-27T11:29:07.863Z"
   },
   {
    "duration": 5,
    "start_time": "2024-03-27T11:29:08.344Z"
   },
   {
    "duration": 5,
    "start_time": "2024-03-27T11:29:08.650Z"
   },
   {
    "duration": 7,
    "start_time": "2024-03-27T11:29:09.625Z"
   },
   {
    "duration": 9,
    "start_time": "2024-03-27T11:29:10.299Z"
   },
   {
    "duration": 5,
    "start_time": "2024-03-27T11:29:10.433Z"
   },
   {
    "duration": 8,
    "start_time": "2024-03-27T11:29:10.484Z"
   },
   {
    "duration": 4,
    "start_time": "2024-03-27T11:29:10.649Z"
   },
   {
    "duration": 8,
    "start_time": "2024-03-27T11:29:10.687Z"
   },
   {
    "duration": 9,
    "start_time": "2024-03-27T11:29:10.722Z"
   },
   {
    "duration": 126,
    "start_time": "2024-03-27T11:29:11.596Z"
   },
   {
    "duration": 251,
    "start_time": "2024-03-27T11:29:13.002Z"
   },
   {
    "duration": 5,
    "start_time": "2024-03-27T11:29:14.228Z"
   },
   {
    "duration": 5,
    "start_time": "2024-03-27T11:29:15.564Z"
   },
   {
    "duration": 8,
    "start_time": "2024-03-27T11:29:16.128Z"
   },
   {
    "duration": 17,
    "start_time": "2024-03-27T11:29:16.272Z"
   },
   {
    "duration": 3,
    "start_time": "2024-03-27T11:29:16.473Z"
   },
   {
    "duration": 9,
    "start_time": "2024-03-27T11:29:17.156Z"
   },
   {
    "duration": 128,
    "start_time": "2024-03-27T11:29:17.656Z"
   },
   {
    "duration": 5,
    "start_time": "2024-03-27T11:29:18.449Z"
   },
   {
    "duration": 8,
    "start_time": "2024-03-27T11:29:18.656Z"
   },
   {
    "duration": 240,
    "start_time": "2024-03-27T11:29:20.341Z"
   },
   {
    "duration": 16,
    "start_time": "2024-03-27T11:29:21.216Z"
   },
   {
    "duration": 7,
    "start_time": "2024-03-27T11:29:21.904Z"
   },
   {
    "duration": 5,
    "start_time": "2024-03-27T11:29:22.361Z"
   },
   {
    "duration": 237,
    "start_time": "2024-03-27T11:29:22.683Z"
   },
   {
    "duration": 4,
    "start_time": "2024-03-27T11:29:23.386Z"
   },
   {
    "duration": 14,
    "start_time": "2024-03-27T11:29:24.251Z"
   },
   {
    "duration": 158,
    "start_time": "2024-03-27T11:29:24.398Z"
   },
   {
    "duration": 4,
    "start_time": "2024-03-27T11:29:31.747Z"
   },
   {
    "duration": 5,
    "start_time": "2024-03-27T11:29:31.908Z"
   },
   {
    "duration": 81,
    "start_time": "2024-03-27T11:29:32.067Z"
   },
   {
    "duration": 9,
    "start_time": "2024-03-27T11:29:32.786Z"
   },
   {
    "duration": 333,
    "start_time": "2024-03-27T11:29:32.950Z"
   },
   {
    "duration": 9,
    "start_time": "2024-03-27T11:29:33.737Z"
   },
   {
    "duration": 250,
    "start_time": "2024-03-27T11:29:33.895Z"
   },
   {
    "duration": 11,
    "start_time": "2024-03-27T11:29:34.789Z"
   },
   {
    "duration": 241,
    "start_time": "2024-03-27T11:29:34.947Z"
   },
   {
    "duration": 3,
    "start_time": "2024-03-27T11:29:37.097Z"
   },
   {
    "duration": 11,
    "start_time": "2024-03-27T11:29:37.807Z"
   },
   {
    "duration": 10,
    "start_time": "2024-03-27T11:29:38.141Z"
   },
   {
    "duration": 18,
    "start_time": "2024-03-27T11:29:38.494Z"
   },
   {
    "duration": 21,
    "start_time": "2024-03-27T11:29:38.878Z"
   },
   {
    "duration": 6,
    "start_time": "2024-03-27T11:29:39.051Z"
   },
   {
    "duration": 15,
    "start_time": "2024-03-27T11:29:39.235Z"
   },
   {
    "duration": 3,
    "start_time": "2024-03-27T11:29:39.781Z"
   },
   {
    "duration": 10,
    "start_time": "2024-03-27T11:29:40.690Z"
   },
   {
    "duration": 15,
    "start_time": "2024-03-27T11:29:41.318Z"
   },
   {
    "duration": 6,
    "start_time": "2024-03-27T11:29:41.890Z"
   },
   {
    "duration": 15,
    "start_time": "2024-03-27T11:29:42.543Z"
   },
   {
    "duration": 8,
    "start_time": "2024-03-27T11:29:44.163Z"
   },
   {
    "duration": 239,
    "start_time": "2024-03-27T11:29:44.581Z"
   },
   {
    "duration": 9,
    "start_time": "2024-03-27T11:29:44.822Z"
   },
   {
    "duration": 194,
    "start_time": "2024-03-27T11:29:45.425Z"
   },
   {
    "duration": 10,
    "start_time": "2024-03-27T11:29:46.617Z"
   },
   {
    "duration": 204,
    "start_time": "2024-03-27T11:29:47.710Z"
   },
   {
    "duration": 11,
    "start_time": "2024-03-27T11:29:47.917Z"
   },
   {
    "duration": 173,
    "start_time": "2024-03-27T11:29:48.334Z"
   },
   {
    "duration": 6,
    "start_time": "2024-03-27T11:29:51.707Z"
   },
   {
    "duration": 3,
    "start_time": "2024-03-27T11:29:52.413Z"
   },
   {
    "duration": 6,
    "start_time": "2024-03-27T11:29:53.132Z"
   },
   {
    "duration": 31,
    "start_time": "2024-03-27T11:29:54.918Z"
   },
   {
    "duration": 12,
    "start_time": "2024-03-27T11:29:56.506Z"
   },
   {
    "duration": 9,
    "start_time": "2024-03-27T11:29:58.680Z"
   },
   {
    "duration": 51,
    "start_time": "2024-03-27T11:29:59.640Z"
   },
   {
    "duration": 5,
    "start_time": "2024-03-27T11:30:45.532Z"
   },
   {
    "duration": 4,
    "start_time": "2024-03-27T11:30:47.313Z"
   },
   {
    "duration": 21,
    "start_time": "2024-03-27T11:30:47.966Z"
   },
   {
    "duration": 5,
    "start_time": "2024-03-27T11:31:25.870Z"
   },
   {
    "duration": 4,
    "start_time": "2024-03-27T11:31:27.059Z"
   },
   {
    "duration": 257,
    "start_time": "2024-03-27T11:31:28.352Z"
   },
   {
    "duration": 6,
    "start_time": "2024-03-27T11:31:31.320Z"
   },
   {
    "duration": 5,
    "start_time": "2024-03-27T11:31:33.539Z"
   },
   {
    "duration": 11,
    "start_time": "2024-03-27T11:31:36.257Z"
   },
   {
    "duration": 10,
    "start_time": "2024-03-27T11:31:43.810Z"
   },
   {
    "duration": 9,
    "start_time": "2024-03-27T11:33:17.239Z"
   },
   {
    "duration": 9,
    "start_time": "2024-03-27T11:33:22.921Z"
   },
   {
    "duration": 15,
    "start_time": "2024-03-27T11:34:28.208Z"
   },
   {
    "duration": 10,
    "start_time": "2024-03-27T11:34:49.805Z"
   },
   {
    "duration": 17,
    "start_time": "2024-03-27T11:36:11.252Z"
   },
   {
    "duration": 11,
    "start_time": "2024-03-27T11:36:46.988Z"
   },
   {
    "duration": 10,
    "start_time": "2024-03-27T11:38:09.084Z"
   },
   {
    "duration": 10,
    "start_time": "2024-03-27T11:38:20.307Z"
   },
   {
    "duration": 3,
    "start_time": "2024-03-27T11:43:00.813Z"
   },
   {
    "duration": 29,
    "start_time": "2024-03-27T11:43:00.907Z"
   },
   {
    "duration": 74,
    "start_time": "2024-03-27T11:43:00.944Z"
   },
   {
    "duration": 83,
    "start_time": "2024-03-27T11:43:01.020Z"
   },
   {
    "duration": 103,
    "start_time": "2024-03-27T11:43:01.105Z"
   },
   {
    "duration": 119,
    "start_time": "2024-03-27T11:43:01.210Z"
   },
   {
    "duration": 230,
    "start_time": "2024-03-27T11:43:01.330Z"
   },
   {
    "duration": 67,
    "start_time": "2024-03-27T11:43:01.562Z"
   },
   {
    "duration": 228,
    "start_time": "2024-03-27T11:43:01.630Z"
   },
   {
    "duration": 77,
    "start_time": "2024-03-27T11:43:01.860Z"
   },
   {
    "duration": 68,
    "start_time": "2024-03-27T11:43:01.939Z"
   },
   {
    "duration": 23,
    "start_time": "2024-03-27T11:43:02.009Z"
   },
   {
    "duration": 198,
    "start_time": "2024-03-27T11:43:02.034Z"
   },
   {
    "duration": 260,
    "start_time": "2024-03-27T11:43:02.234Z"
   },
   {
    "duration": 263,
    "start_time": "2024-03-27T11:43:02.496Z"
   },
   {
    "duration": 7,
    "start_time": "2024-03-27T11:43:02.760Z"
   },
   {
    "duration": 56,
    "start_time": "2024-03-27T11:43:02.768Z"
   },
   {
    "duration": 23,
    "start_time": "2024-03-27T11:43:02.828Z"
   },
   {
    "duration": 31,
    "start_time": "2024-03-27T11:43:02.852Z"
   },
   {
    "duration": 14,
    "start_time": "2024-03-27T11:43:02.884Z"
   },
   {
    "duration": 20,
    "start_time": "2024-03-27T11:43:02.899Z"
   },
   {
    "duration": 14,
    "start_time": "2024-03-27T11:43:02.921Z"
   },
   {
    "duration": 21,
    "start_time": "2024-03-27T11:43:02.937Z"
   },
   {
    "duration": 4,
    "start_time": "2024-03-27T11:43:02.960Z"
   },
   {
    "duration": 12,
    "start_time": "2024-03-27T11:43:02.965Z"
   },
   {
    "duration": 9,
    "start_time": "2024-03-27T11:43:02.979Z"
   },
   {
    "duration": 134,
    "start_time": "2024-03-27T11:43:02.990Z"
   },
   {
    "duration": 387,
    "start_time": "2024-03-27T11:43:03.126Z"
   },
   {
    "duration": 4,
    "start_time": "2024-03-27T11:43:03.515Z"
   },
   {
    "duration": 36,
    "start_time": "2024-03-27T11:43:03.521Z"
   },
   {
    "duration": 23,
    "start_time": "2024-03-27T11:43:03.559Z"
   },
   {
    "duration": 7,
    "start_time": "2024-03-27T11:43:03.584Z"
   },
   {
    "duration": 3,
    "start_time": "2024-03-27T11:43:03.592Z"
   },
   {
    "duration": 35,
    "start_time": "2024-03-27T11:43:03.596Z"
   },
   {
    "duration": 112,
    "start_time": "2024-03-27T11:43:03.633Z"
   },
   {
    "duration": 5,
    "start_time": "2024-03-27T11:43:03.746Z"
   },
   {
    "duration": 20,
    "start_time": "2024-03-27T11:43:03.753Z"
   },
   {
    "duration": 332,
    "start_time": "2024-03-27T11:43:04.359Z"
   },
   {
    "duration": 17,
    "start_time": "2024-03-27T11:43:04.693Z"
   },
   {
    "duration": 6,
    "start_time": "2024-03-27T11:43:04.965Z"
   },
   {
    "duration": 5,
    "start_time": "2024-03-27T11:43:05.293Z"
   },
   {
    "duration": 237,
    "start_time": "2024-03-27T11:43:05.611Z"
   },
   {
    "duration": 5,
    "start_time": "2024-03-27T11:43:06.115Z"
   },
   {
    "duration": 11,
    "start_time": "2024-03-27T11:43:06.908Z"
   },
   {
    "duration": 160,
    "start_time": "2024-03-27T11:43:07.070Z"
   },
   {
    "duration": 4,
    "start_time": "2024-03-27T11:43:07.604Z"
   },
   {
    "duration": 5,
    "start_time": "2024-03-27T11:43:07.779Z"
   },
   {
    "duration": 82,
    "start_time": "2024-03-27T11:43:07.950Z"
   },
   {
    "duration": 14,
    "start_time": "2024-03-27T11:43:08.663Z"
   },
   {
    "duration": 221,
    "start_time": "2024-03-27T11:43:08.841Z"
   },
   {
    "duration": 8,
    "start_time": "2024-03-27T11:43:09.688Z"
   },
   {
    "duration": 264,
    "start_time": "2024-03-27T11:43:09.850Z"
   },
   {
    "duration": 10,
    "start_time": "2024-03-27T11:43:10.675Z"
   },
   {
    "duration": 237,
    "start_time": "2024-03-27T11:43:10.857Z"
   },
   {
    "duration": 3,
    "start_time": "2024-03-27T11:43:13.274Z"
   },
   {
    "duration": 13,
    "start_time": "2024-03-27T11:43:14.503Z"
   },
   {
    "duration": 9,
    "start_time": "2024-03-27T11:43:15.040Z"
   },
   {
    "duration": 17,
    "start_time": "2024-03-27T11:43:15.477Z"
   },
   {
    "duration": 19,
    "start_time": "2024-03-27T11:43:16.225Z"
   },
   {
    "duration": 4,
    "start_time": "2024-03-27T11:43:16.601Z"
   },
   {
    "duration": 14,
    "start_time": "2024-03-27T11:43:16.966Z"
   },
   {
    "duration": 3,
    "start_time": "2024-03-27T11:43:17.700Z"
   },
   {
    "duration": 10,
    "start_time": "2024-03-27T11:43:19.473Z"
   },
   {
    "duration": 16,
    "start_time": "2024-03-27T11:43:20.439Z"
   },
   {
    "duration": 7,
    "start_time": "2024-03-27T11:43:22.104Z"
   },
   {
    "duration": 16,
    "start_time": "2024-03-27T11:43:22.694Z"
   },
   {
    "duration": 12,
    "start_time": "2024-03-27T11:43:25.333Z"
   },
   {
    "duration": 213,
    "start_time": "2024-03-27T11:43:25.889Z"
   },
   {
    "duration": 9,
    "start_time": "2024-03-27T11:43:26.104Z"
   },
   {
    "duration": 199,
    "start_time": "2024-03-27T11:43:26.278Z"
   },
   {
    "duration": 8,
    "start_time": "2024-03-27T11:43:27.123Z"
   },
   {
    "duration": 195,
    "start_time": "2024-03-27T11:43:27.272Z"
   },
   {
    "duration": 9,
    "start_time": "2024-03-27T11:43:27.469Z"
   },
   {
    "duration": 158,
    "start_time": "2024-03-27T11:43:27.609Z"
   },
   {
    "duration": 6,
    "start_time": "2024-03-27T11:43:36.242Z"
   },
   {
    "duration": 4,
    "start_time": "2024-03-27T11:43:37.942Z"
   },
   {
    "duration": 25,
    "start_time": "2024-03-27T11:43:37.948Z"
   },
   {
    "duration": 32,
    "start_time": "2024-03-27T11:43:39.338Z"
   },
   {
    "duration": 16,
    "start_time": "2024-03-27T11:43:40.844Z"
   },
   {
    "duration": 8,
    "start_time": "2024-03-27T11:43:45.555Z"
   },
   {
    "duration": 4,
    "start_time": "2024-03-27T11:43:46.207Z"
   },
   {
    "duration": 272,
    "start_time": "2024-03-27T11:43:47.766Z"
   },
   {
    "duration": 6,
    "start_time": "2024-03-27T11:43:48.126Z"
   },
   {
    "duration": 5,
    "start_time": "2024-03-27T11:43:50.047Z"
   },
   {
    "duration": 14,
    "start_time": "2024-03-27T11:44:11.228Z"
   },
   {
    "duration": 3,
    "start_time": "2024-03-27T11:44:50.404Z"
   },
   {
    "duration": 29,
    "start_time": "2024-03-27T11:44:50.504Z"
   },
   {
    "duration": 26,
    "start_time": "2024-03-27T11:44:50.538Z"
   },
   {
    "duration": 17,
    "start_time": "2024-03-27T11:44:50.581Z"
   },
   {
    "duration": 10,
    "start_time": "2024-03-27T11:44:50.667Z"
   },
   {
    "duration": 10,
    "start_time": "2024-03-27T11:44:50.700Z"
   },
   {
    "duration": 10,
    "start_time": "2024-03-27T11:44:50.745Z"
   },
   {
    "duration": 10,
    "start_time": "2024-03-27T11:44:50.805Z"
   },
   {
    "duration": 11,
    "start_time": "2024-03-27T11:44:50.878Z"
   },
   {
    "duration": 10,
    "start_time": "2024-03-27T11:44:50.935Z"
   },
   {
    "duration": 18,
    "start_time": "2024-03-27T11:44:51.030Z"
   },
   {
    "duration": 20,
    "start_time": "2024-03-27T11:44:51.085Z"
   },
   {
    "duration": 197,
    "start_time": "2024-03-27T11:44:51.183Z"
   },
   {
    "duration": 431,
    "start_time": "2024-03-27T11:44:51.381Z"
   },
   {
    "duration": 265,
    "start_time": "2024-03-27T11:44:51.814Z"
   },
   {
    "duration": 3,
    "start_time": "2024-03-27T11:44:52.081Z"
   },
   {
    "duration": 19,
    "start_time": "2024-03-27T11:44:52.086Z"
   },
   {
    "duration": 20,
    "start_time": "2024-03-27T11:44:52.107Z"
   },
   {
    "duration": 30,
    "start_time": "2024-03-27T11:44:52.128Z"
   },
   {
    "duration": 24,
    "start_time": "2024-03-27T11:44:52.160Z"
   },
   {
    "duration": 21,
    "start_time": "2024-03-27T11:44:52.186Z"
   },
   {
    "duration": 12,
    "start_time": "2024-03-27T11:44:52.209Z"
   },
   {
    "duration": 9,
    "start_time": "2024-03-27T11:44:52.364Z"
   },
   {
    "duration": 4,
    "start_time": "2024-03-27T11:44:53.456Z"
   },
   {
    "duration": 8,
    "start_time": "2024-03-27T11:44:53.493Z"
   },
   {
    "duration": 9,
    "start_time": "2024-03-27T11:44:53.529Z"
   },
   {
    "duration": 126,
    "start_time": "2024-03-27T11:44:53.634Z"
   },
   {
    "duration": 226,
    "start_time": "2024-03-27T11:44:53.768Z"
   },
   {
    "duration": 5,
    "start_time": "2024-03-27T11:44:53.996Z"
   },
   {
    "duration": 5,
    "start_time": "2024-03-27T11:44:54.003Z"
   },
   {
    "duration": 6,
    "start_time": "2024-03-27T11:44:54.043Z"
   },
   {
    "duration": 7,
    "start_time": "2024-03-27T11:44:54.071Z"
   },
   {
    "duration": 3,
    "start_time": "2024-03-27T11:44:54.115Z"
   },
   {
    "duration": 9,
    "start_time": "2024-03-27T11:44:54.206Z"
   },
   {
    "duration": 113,
    "start_time": "2024-03-27T11:44:54.278Z"
   },
   {
    "duration": 5,
    "start_time": "2024-03-27T11:44:54.392Z"
   },
   {
    "duration": 8,
    "start_time": "2024-03-27T11:44:54.459Z"
   },
   {
    "duration": 294,
    "start_time": "2024-03-27T11:44:55.741Z"
   },
   {
    "duration": 27,
    "start_time": "2024-03-27T11:44:56.041Z"
   },
   {
    "duration": 20,
    "start_time": "2024-03-27T11:44:56.070Z"
   },
   {
    "duration": 10,
    "start_time": "2024-03-27T11:44:56.092Z"
   },
   {
    "duration": 268,
    "start_time": "2024-03-27T11:44:56.103Z"
   },
   {
    "duration": 5,
    "start_time": "2024-03-27T11:44:56.374Z"
   },
   {
    "duration": 38,
    "start_time": "2024-03-27T11:44:56.381Z"
   },
   {
    "duration": 175,
    "start_time": "2024-03-27T11:44:56.421Z"
   },
   {
    "duration": 4,
    "start_time": "2024-03-27T11:44:56.599Z"
   },
   {
    "duration": 9,
    "start_time": "2024-03-27T11:44:56.604Z"
   },
   {
    "duration": 101,
    "start_time": "2024-03-27T11:44:56.615Z"
   },
   {
    "duration": 8,
    "start_time": "2024-03-27T11:44:56.718Z"
   },
   {
    "duration": 206,
    "start_time": "2024-03-27T11:44:56.740Z"
   },
   {
    "duration": 9,
    "start_time": "2024-03-27T11:44:57.567Z"
   },
   {
    "duration": 260,
    "start_time": "2024-03-27T11:44:57.742Z"
   },
   {
    "duration": 12,
    "start_time": "2024-03-27T11:44:58.366Z"
   },
   {
    "duration": 217,
    "start_time": "2024-03-27T11:44:58.405Z"
   },
   {
    "duration": 4,
    "start_time": "2024-03-27T11:44:58.752Z"
   },
   {
    "duration": 10,
    "start_time": "2024-03-27T11:44:59.707Z"
   },
   {
    "duration": 11,
    "start_time": "2024-03-27T11:44:59.774Z"
   },
   {
    "duration": 16,
    "start_time": "2024-03-27T11:44:59.846Z"
   },
   {
    "duration": 14,
    "start_time": "2024-03-27T11:44:59.922Z"
   },
   {
    "duration": 5,
    "start_time": "2024-03-27T11:44:59.957Z"
   },
   {
    "duration": 16,
    "start_time": "2024-03-27T11:44:59.993Z"
   },
   {
    "duration": 4,
    "start_time": "2024-03-27T11:45:00.263Z"
   },
   {
    "duration": 10,
    "start_time": "2024-03-27T11:45:01.072Z"
   },
   {
    "duration": 17,
    "start_time": "2024-03-27T11:45:01.430Z"
   },
   {
    "duration": 7,
    "start_time": "2024-03-27T11:45:01.795Z"
   },
   {
    "duration": 17,
    "start_time": "2024-03-27T11:45:03.388Z"
   },
   {
    "duration": 10,
    "start_time": "2024-03-27T11:45:05.573Z"
   },
   {
    "duration": 202,
    "start_time": "2024-03-27T11:45:06.124Z"
   },
   {
    "duration": 11,
    "start_time": "2024-03-27T11:45:06.777Z"
   },
   {
    "duration": 197,
    "start_time": "2024-03-27T11:45:07.248Z"
   },
   {
    "duration": 8,
    "start_time": "2024-03-27T11:45:09.553Z"
   },
   {
    "duration": 204,
    "start_time": "2024-03-27T11:45:09.988Z"
   },
   {
    "duration": 12,
    "start_time": "2024-03-27T11:45:10.659Z"
   },
   {
    "duration": 178,
    "start_time": "2024-03-27T11:45:10.829Z"
   },
   {
    "duration": 5,
    "start_time": "2024-03-27T11:45:13.647Z"
   },
   {
    "duration": 4,
    "start_time": "2024-03-27T11:45:14.310Z"
   },
   {
    "duration": 6,
    "start_time": "2024-03-27T11:45:17.658Z"
   },
   {
    "duration": 32,
    "start_time": "2024-03-27T11:45:18.903Z"
   },
   {
    "duration": 11,
    "start_time": "2024-03-27T11:45:22.340Z"
   },
   {
    "duration": 8,
    "start_time": "2024-03-27T11:45:28.524Z"
   },
   {
    "duration": 6,
    "start_time": "2024-03-27T11:45:29.483Z"
   },
   {
    "duration": 280,
    "start_time": "2024-03-27T11:45:32.296Z"
   },
   {
    "duration": 5,
    "start_time": "2024-03-27T11:45:32.681Z"
   },
   {
    "duration": 16,
    "start_time": "2024-03-27T11:45:33.815Z"
   },
   {
    "duration": 13,
    "start_time": "2024-03-27T11:45:55.847Z"
   },
   {
    "duration": 52,
    "start_time": "2024-03-27T11:46:20.498Z"
   },
   {
    "duration": 10,
    "start_time": "2024-03-27T11:46:32.990Z"
   },
   {
    "duration": 1429,
    "start_time": "2024-03-27T14:05:14.258Z"
   },
   {
    "duration": 113,
    "start_time": "2024-03-27T14:05:15.689Z"
   },
   {
    "duration": 138,
    "start_time": "2024-03-27T14:05:15.804Z"
   },
   {
    "duration": 68,
    "start_time": "2024-03-27T14:05:15.944Z"
   },
   {
    "duration": 15,
    "start_time": "2024-03-27T14:05:16.014Z"
   },
   {
    "duration": 25,
    "start_time": "2024-03-27T14:05:16.030Z"
   },
   {
    "duration": 36,
    "start_time": "2024-03-27T14:05:16.056Z"
   },
   {
    "duration": 40,
    "start_time": "2024-03-27T14:05:16.094Z"
   },
   {
    "duration": 17,
    "start_time": "2024-03-27T14:05:16.136Z"
   },
   {
    "duration": 15,
    "start_time": "2024-03-27T14:05:16.155Z"
   },
   {
    "duration": 23,
    "start_time": "2024-03-27T14:05:16.172Z"
   },
   {
    "duration": 61,
    "start_time": "2024-03-27T14:05:16.197Z"
   },
   {
    "duration": 260,
    "start_time": "2024-03-27T14:05:16.260Z"
   },
   {
    "duration": 288,
    "start_time": "2024-03-27T14:05:16.522Z"
   },
   {
    "duration": 269,
    "start_time": "2024-03-27T14:05:16.812Z"
   },
   {
    "duration": 3,
    "start_time": "2024-03-27T14:05:17.083Z"
   },
   {
    "duration": 24,
    "start_time": "2024-03-27T14:05:17.087Z"
   },
   {
    "duration": 23,
    "start_time": "2024-03-27T14:05:17.113Z"
   },
   {
    "duration": 24,
    "start_time": "2024-03-27T14:05:17.138Z"
   },
   {
    "duration": 19,
    "start_time": "2024-03-27T14:05:17.164Z"
   },
   {
    "duration": 10,
    "start_time": "2024-03-27T14:05:17.185Z"
   },
   {
    "duration": 5,
    "start_time": "2024-03-27T14:05:17.197Z"
   },
   {
    "duration": 15,
    "start_time": "2024-03-27T14:05:17.204Z"
   },
   {
    "duration": 16,
    "start_time": "2024-03-27T14:05:17.221Z"
   },
   {
    "duration": 8,
    "start_time": "2024-03-27T14:05:17.241Z"
   },
   {
    "duration": 31,
    "start_time": "2024-03-27T14:05:17.251Z"
   },
   {
    "duration": 142,
    "start_time": "2024-03-27T14:05:17.284Z"
   },
   {
    "duration": 252,
    "start_time": "2024-03-27T14:05:17.428Z"
   },
   {
    "duration": 4,
    "start_time": "2024-03-27T14:05:17.682Z"
   },
   {
    "duration": 17,
    "start_time": "2024-03-27T14:05:17.688Z"
   },
   {
    "duration": 15,
    "start_time": "2024-03-27T14:05:17.707Z"
   },
   {
    "duration": 24,
    "start_time": "2024-03-27T14:05:17.724Z"
   },
   {
    "duration": 35,
    "start_time": "2024-03-27T14:05:17.750Z"
   },
   {
    "duration": 13,
    "start_time": "2024-03-27T14:05:17.787Z"
   },
   {
    "duration": 129,
    "start_time": "2024-03-27T14:05:17.802Z"
   },
   {
    "duration": 6,
    "start_time": "2024-03-27T14:05:17.933Z"
   },
   {
    "duration": 10,
    "start_time": "2024-03-27T14:05:17.941Z"
   },
   {
    "duration": 289,
    "start_time": "2024-03-27T14:05:17.952Z"
   },
   {
    "duration": 37,
    "start_time": "2024-03-27T14:05:18.245Z"
   },
   {
    "duration": 6,
    "start_time": "2024-03-27T14:05:18.284Z"
   },
   {
    "duration": 19,
    "start_time": "2024-03-27T14:05:18.292Z"
   },
   {
    "duration": 347,
    "start_time": "2024-03-27T14:05:18.313Z"
   },
   {
    "duration": 4,
    "start_time": "2024-03-27T14:05:18.662Z"
   },
   {
    "duration": 14,
    "start_time": "2024-03-27T14:05:18.894Z"
   },
   {
    "duration": 171,
    "start_time": "2024-03-27T14:05:18.926Z"
   },
   {
    "duration": 4,
    "start_time": "2024-03-27T14:05:19.099Z"
   },
   {
    "duration": 24,
    "start_time": "2024-03-27T14:05:19.104Z"
   },
   {
    "duration": 85,
    "start_time": "2024-03-27T14:05:19.130Z"
   },
   {
    "duration": 9,
    "start_time": "2024-03-27T14:05:19.258Z"
   },
   {
    "duration": 220,
    "start_time": "2024-03-27T14:05:19.298Z"
   },
   {
    "duration": 12,
    "start_time": "2024-03-27T14:05:19.521Z"
   },
   {
    "duration": 290,
    "start_time": "2024-03-27T14:05:19.535Z"
   },
   {
    "duration": 9,
    "start_time": "2024-03-27T14:05:19.827Z"
   },
   {
    "duration": 264,
    "start_time": "2024-03-27T14:05:19.838Z"
   },
   {
    "duration": 3,
    "start_time": "2024-03-27T14:05:20.105Z"
   },
   {
    "duration": 32,
    "start_time": "2024-03-27T14:05:20.110Z"
   },
   {
    "duration": 11,
    "start_time": "2024-03-27T14:05:20.144Z"
   },
   {
    "duration": 17,
    "start_time": "2024-03-27T14:05:20.205Z"
   },
   {
    "duration": 16,
    "start_time": "2024-03-27T14:05:20.283Z"
   },
   {
    "duration": 5,
    "start_time": "2024-03-27T14:05:20.317Z"
   },
   {
    "duration": 16,
    "start_time": "2024-03-27T14:05:20.353Z"
   },
   {
    "duration": 4,
    "start_time": "2024-03-27T14:05:20.424Z"
   },
   {
    "duration": 8,
    "start_time": "2024-03-27T14:05:20.580Z"
   },
   {
    "duration": 17,
    "start_time": "2024-03-27T14:05:20.630Z"
   },
   {
    "duration": 7,
    "start_time": "2024-03-27T14:05:20.697Z"
   },
   {
    "duration": 17,
    "start_time": "2024-03-27T14:05:20.764Z"
   },
   {
    "duration": 9,
    "start_time": "2024-03-27T14:05:20.921Z"
   },
   {
    "duration": 217,
    "start_time": "2024-03-27T14:05:20.958Z"
   },
   {
    "duration": 10,
    "start_time": "2024-03-27T14:05:21.180Z"
   },
   {
    "duration": 247,
    "start_time": "2024-03-27T14:05:21.191Z"
   },
   {
    "duration": 9,
    "start_time": "2024-03-27T14:05:21.440Z"
   },
   {
    "duration": 222,
    "start_time": "2024-03-27T14:05:21.450Z"
   },
   {
    "duration": 13,
    "start_time": "2024-03-27T14:05:21.673Z"
   },
   {
    "duration": 192,
    "start_time": "2024-03-27T14:05:21.688Z"
   },
   {
    "duration": 115,
    "start_time": "2024-03-27T14:05:22.556Z"
   },
   {
    "duration": 8,
    "start_time": "2024-03-27T14:05:23.138Z"
   },
   {
    "duration": 9,
    "start_time": "2024-03-27T14:05:23.525Z"
   },
   {
    "duration": 134,
    "start_time": "2024-03-27T14:05:49.673Z"
   },
   {
    "duration": 6,
    "start_time": "2024-03-27T14:06:40.655Z"
   },
   {
    "duration": 4,
    "start_time": "2024-03-27T14:06:44.337Z"
   },
   {
    "duration": 5,
    "start_time": "2024-03-27T14:06:47.326Z"
   },
   {
    "duration": 34,
    "start_time": "2024-03-27T14:06:57.386Z"
   },
   {
    "duration": 13,
    "start_time": "2024-03-27T14:07:01.817Z"
   },
   {
    "duration": 7,
    "start_time": "2024-03-27T14:07:06.800Z"
   },
   {
    "duration": 5,
    "start_time": "2024-03-27T14:07:08.147Z"
   },
   {
    "duration": 291,
    "start_time": "2024-03-27T14:07:11.873Z"
   },
   {
    "duration": 6,
    "start_time": "2024-03-27T14:07:16.619Z"
   },
   {
    "duration": 11,
    "start_time": "2024-03-27T14:07:23.152Z"
   },
   {
    "duration": 13,
    "start_time": "2024-03-27T14:08:41.156Z"
   },
   {
    "duration": 5,
    "start_time": "2024-03-27T14:10:24.886Z"
   },
   {
    "duration": 11,
    "start_time": "2024-03-27T14:10:26.624Z"
   },
   {
    "duration": 12,
    "start_time": "2024-03-27T14:10:43.478Z"
   },
   {
    "duration": 11,
    "start_time": "2024-03-27T14:10:46.640Z"
   },
   {
    "duration": 1275,
    "start_time": "2024-03-27T19:33:15.186Z"
   },
   {
    "duration": 109,
    "start_time": "2024-03-27T19:33:16.463Z"
   },
   {
    "duration": 152,
    "start_time": "2024-03-27T19:33:16.574Z"
   },
   {
    "duration": 66,
    "start_time": "2024-03-27T19:33:16.728Z"
   },
   {
    "duration": 35,
    "start_time": "2024-03-27T19:33:16.796Z"
   },
   {
    "duration": 42,
    "start_time": "2024-03-27T19:33:16.833Z"
   },
   {
    "duration": 26,
    "start_time": "2024-03-27T19:33:16.877Z"
   },
   {
    "duration": 64,
    "start_time": "2024-03-27T19:33:16.905Z"
   },
   {
    "duration": 11,
    "start_time": "2024-03-27T19:33:16.971Z"
   },
   {
    "duration": 9,
    "start_time": "2024-03-27T19:33:16.985Z"
   },
   {
    "duration": 25,
    "start_time": "2024-03-27T19:33:16.995Z"
   },
   {
    "duration": 58,
    "start_time": "2024-03-27T19:33:17.243Z"
   },
   {
    "duration": 214,
    "start_time": "2024-03-27T19:33:17.902Z"
   },
   {
    "duration": 223,
    "start_time": "2024-03-27T19:33:18.474Z"
   },
   {
    "duration": 233,
    "start_time": "2024-03-27T19:33:18.738Z"
   },
   {
    "duration": 3,
    "start_time": "2024-03-27T19:33:20.407Z"
   },
   {
    "duration": 11,
    "start_time": "2024-03-27T19:33:20.754Z"
   },
   {
    "duration": 5,
    "start_time": "2024-03-27T19:33:21.339Z"
   },
   {
    "duration": 5,
    "start_time": "2024-03-27T19:33:21.432Z"
   },
   {
    "duration": 6,
    "start_time": "2024-03-27T19:33:21.571Z"
   },
   {
    "duration": 8,
    "start_time": "2024-03-27T19:33:21.938Z"
   },
   {
    "duration": 5,
    "start_time": "2024-03-27T19:33:23.098Z"
   },
   {
    "duration": 8,
    "start_time": "2024-03-27T19:33:23.128Z"
   },
   {
    "duration": 3,
    "start_time": "2024-03-27T19:33:23.329Z"
   },
   {
    "duration": 7,
    "start_time": "2024-03-27T19:33:23.355Z"
   },
   {
    "duration": 8,
    "start_time": "2024-03-27T19:33:23.390Z"
   },
   {
    "duration": 129,
    "start_time": "2024-03-27T19:33:23.500Z"
   },
   {
    "duration": 223,
    "start_time": "2024-03-27T19:33:23.634Z"
   },
   {
    "duration": 4,
    "start_time": "2024-03-27T19:33:23.859Z"
   },
   {
    "duration": 6,
    "start_time": "2024-03-27T19:33:23.865Z"
   },
   {
    "duration": 7,
    "start_time": "2024-03-27T19:33:23.911Z"
   },
   {
    "duration": 7,
    "start_time": "2024-03-27T19:33:23.947Z"
   },
   {
    "duration": 3,
    "start_time": "2024-03-27T19:33:24.063Z"
   },
   {
    "duration": 8,
    "start_time": "2024-03-27T19:33:24.795Z"
   },
   {
    "duration": 126,
    "start_time": "2024-03-27T19:33:25.383Z"
   },
   {
    "duration": 5,
    "start_time": "2024-03-27T19:33:25.801Z"
   },
   {
    "duration": 8,
    "start_time": "2024-03-27T19:33:26.038Z"
   },
   {
    "duration": 259,
    "start_time": "2024-03-27T19:33:27.146Z"
   },
   {
    "duration": 16,
    "start_time": "2024-03-27T19:33:27.859Z"
   },
   {
    "duration": 5,
    "start_time": "2024-03-27T19:33:27.970Z"
   },
   {
    "duration": 5,
    "start_time": "2024-03-27T19:33:28.025Z"
   },
   {
    "duration": 311,
    "start_time": "2024-03-27T19:33:28.097Z"
   },
   {
    "duration": 4,
    "start_time": "2024-03-27T19:33:28.410Z"
   },
   {
    "duration": 15,
    "start_time": "2024-03-27T19:33:28.880Z"
   },
   {
    "duration": 163,
    "start_time": "2024-03-27T19:33:29.091Z"
   },
   {
    "duration": 4,
    "start_time": "2024-03-27T19:33:29.796Z"
   },
   {
    "duration": 5,
    "start_time": "2024-03-27T19:33:30.021Z"
   },
   {
    "duration": 75,
    "start_time": "2024-03-27T19:33:30.244Z"
   },
   {
    "duration": 8,
    "start_time": "2024-03-27T19:33:31.359Z"
   },
   {
    "duration": 191,
    "start_time": "2024-03-27T19:33:31.643Z"
   },
   {
    "duration": 9,
    "start_time": "2024-03-27T19:33:32.734Z"
   },
   {
    "duration": 244,
    "start_time": "2024-03-27T19:33:33.000Z"
   },
   {
    "duration": 8,
    "start_time": "2024-03-27T19:33:34.227Z"
   },
   {
    "duration": 227,
    "start_time": "2024-03-27T19:33:34.469Z"
   },
   {
    "duration": 3,
    "start_time": "2024-03-27T19:33:38.602Z"
   },
   {
    "duration": 11,
    "start_time": "2024-03-27T19:33:39.526Z"
   },
   {
    "duration": 10,
    "start_time": "2024-03-27T19:33:39.957Z"
   },
   {
    "duration": 17,
    "start_time": "2024-03-27T19:33:40.448Z"
   },
   {
    "duration": 14,
    "start_time": "2024-03-27T19:33:40.855Z"
   },
   {
    "duration": 4,
    "start_time": "2024-03-27T19:33:41.082Z"
   },
   {
    "duration": 15,
    "start_time": "2024-03-27T19:33:41.291Z"
   },
   {
    "duration": 3,
    "start_time": "2024-03-27T19:33:41.753Z"
   },
   {
    "duration": 9,
    "start_time": "2024-03-27T19:33:42.702Z"
   },
   {
    "duration": 16,
    "start_time": "2024-03-27T19:33:43.137Z"
   },
   {
    "duration": 7,
    "start_time": "2024-03-27T19:33:43.593Z"
   },
   {
    "duration": 16,
    "start_time": "2024-03-27T19:33:44.081Z"
   },
   {
    "duration": 9,
    "start_time": "2024-03-27T19:33:45.375Z"
   },
   {
    "duration": 201,
    "start_time": "2024-03-27T19:33:45.590Z"
   },
   {
    "duration": 8,
    "start_time": "2024-03-27T19:33:45.882Z"
   },
   {
    "duration": 193,
    "start_time": "2024-03-27T19:33:46.542Z"
   },
   {
    "duration": 8,
    "start_time": "2024-03-27T19:33:48.127Z"
   },
   {
    "duration": 194,
    "start_time": "2024-03-27T19:33:48.447Z"
   },
   {
    "duration": 8,
    "start_time": "2024-03-27T19:33:48.706Z"
   },
   {
    "duration": 176,
    "start_time": "2024-03-27T19:33:49.296Z"
   },
   {
    "duration": 4,
    "start_time": "2024-03-27T19:33:54.118Z"
   },
   {
    "duration": 3,
    "start_time": "2024-03-27T19:33:55.527Z"
   },
   {
    "duration": 4,
    "start_time": "2024-03-27T19:33:56.229Z"
   },
   {
    "duration": 34,
    "start_time": "2024-03-27T19:33:58.209Z"
   },
   {
    "duration": 10,
    "start_time": "2024-03-27T19:33:59.781Z"
   },
   {
    "duration": 8,
    "start_time": "2024-03-27T19:34:03.532Z"
   },
   {
    "duration": 5,
    "start_time": "2024-03-27T19:34:06.458Z"
   },
   {
    "duration": 260,
    "start_time": "2024-03-27T19:34:07.922Z"
   },
   {
    "duration": 6,
    "start_time": "2024-03-27T19:34:08.301Z"
   },
   {
    "duration": 11,
    "start_time": "2024-03-27T19:34:09.197Z"
   },
   {
    "duration": 100,
    "start_time": "2024-03-27T19:34:10.283Z"
   },
   {
    "duration": 5,
    "start_time": "2024-03-27T19:34:11.854Z"
   },
   {
    "duration": 11,
    "start_time": "2024-03-27T19:34:13.151Z"
   },
   {
    "duration": 2,
    "start_time": "2024-03-27T20:10:05.163Z"
   },
   {
    "duration": 28,
    "start_time": "2024-03-27T20:10:12.819Z"
   },
   {
    "duration": 26,
    "start_time": "2024-03-27T20:10:13.056Z"
   },
   {
    "duration": 15,
    "start_time": "2024-03-27T20:10:13.304Z"
   },
   {
    "duration": 11,
    "start_time": "2024-03-27T20:10:14.851Z"
   },
   {
    "duration": 9,
    "start_time": "2024-03-27T20:10:15.199Z"
   },
   {
    "duration": 7,
    "start_time": "2024-03-27T20:10:15.851Z"
   },
   {
    "duration": 10,
    "start_time": "2024-03-27T20:10:16.666Z"
   },
   {
    "duration": 11,
    "start_time": "2024-03-27T20:10:17.617Z"
   },
   {
    "duration": 9,
    "start_time": "2024-03-27T20:10:18.440Z"
   },
   {
    "duration": 17,
    "start_time": "2024-03-27T20:10:22.955Z"
   },
   {
    "duration": 19,
    "start_time": "2024-03-27T20:10:24.251Z"
   },
   {
    "duration": 209,
    "start_time": "2024-03-27T20:10:24.815Z"
   },
   {
    "duration": 222,
    "start_time": "2024-03-27T20:10:25.252Z"
   },
   {
    "duration": 246,
    "start_time": "2024-03-27T20:10:25.476Z"
   },
   {
    "duration": 2,
    "start_time": "2024-03-27T20:10:26.863Z"
   },
   {
    "duration": 8,
    "start_time": "2024-03-27T20:10:27.212Z"
   },
   {
    "duration": 4,
    "start_time": "2024-03-27T20:10:27.735Z"
   },
   {
    "duration": 4,
    "start_time": "2024-03-27T20:10:28.091Z"
   },
   {
    "duration": 6,
    "start_time": "2024-03-27T20:10:28.752Z"
   },
   {
    "duration": 8,
    "start_time": "2024-03-27T20:10:29.139Z"
   },
   {
    "duration": 5,
    "start_time": "2024-03-27T20:10:29.832Z"
   },
   {
    "duration": 7,
    "start_time": "2024-03-27T20:10:30.008Z"
   },
   {
    "duration": 3,
    "start_time": "2024-03-27T20:10:30.987Z"
   },
   {
    "duration": 6,
    "start_time": "2024-03-27T20:10:31.136Z"
   },
   {
    "duration": 7,
    "start_time": "2024-03-27T20:10:31.312Z"
   },
   {
    "duration": 118,
    "start_time": "2024-03-27T20:10:31.821Z"
   },
   {
    "duration": 215,
    "start_time": "2024-03-27T20:10:32.554Z"
   },
   {
    "duration": 5,
    "start_time": "2024-03-27T20:10:32.948Z"
   },
   {
    "duration": 5,
    "start_time": "2024-03-27T20:10:33.647Z"
   },
   {
    "duration": 7,
    "start_time": "2024-03-27T20:10:34.029Z"
   },
   {
    "duration": 8,
    "start_time": "2024-03-27T20:10:34.188Z"
   },
   {
    "duration": 2,
    "start_time": "2024-03-27T20:10:34.394Z"
   },
   {
    "duration": 8,
    "start_time": "2024-03-27T20:10:35.078Z"
   },
   {
    "duration": 109,
    "start_time": "2024-03-27T20:10:35.494Z"
   },
   {
    "duration": 4,
    "start_time": "2024-03-27T20:10:35.848Z"
   },
   {
    "duration": 8,
    "start_time": "2024-03-27T20:10:36.046Z"
   },
   {
    "duration": 228,
    "start_time": "2024-03-27T20:10:37.279Z"
   },
   {
    "duration": 16,
    "start_time": "2024-03-27T20:10:37.624Z"
   },
   {
    "duration": 6,
    "start_time": "2024-03-27T20:10:38.125Z"
   },
   {
    "duration": 5,
    "start_time": "2024-03-27T20:10:38.563Z"
   },
   {
    "duration": 246,
    "start_time": "2024-03-27T20:10:39.067Z"
   },
   {
    "duration": 3,
    "start_time": "2024-03-27T20:10:40.099Z"
   },
   {
    "duration": 12,
    "start_time": "2024-03-27T20:10:41.990Z"
   },
   {
    "duration": 150,
    "start_time": "2024-03-27T20:10:42.326Z"
   },
   {
    "duration": 3,
    "start_time": "2024-03-27T20:10:43.095Z"
   },
   {
    "duration": 5,
    "start_time": "2024-03-27T20:10:47.291Z"
   },
   {
    "duration": 82,
    "start_time": "2024-03-27T20:10:47.460Z"
   },
   {
    "duration": 7,
    "start_time": "2024-03-27T20:10:48.359Z"
   },
   {
    "duration": 302,
    "start_time": "2024-03-27T20:10:48.746Z"
   },
   {
    "duration": 9,
    "start_time": "2024-03-27T20:10:49.813Z"
   },
   {
    "duration": 243,
    "start_time": "2024-03-27T20:10:50.019Z"
   },
   {
    "duration": 8,
    "start_time": "2024-03-27T20:10:51.100Z"
   },
   {
    "duration": 225,
    "start_time": "2024-03-27T20:10:51.292Z"
   },
   {
    "duration": 4,
    "start_time": "2024-03-27T20:10:53.794Z"
   },
   {
    "duration": 9,
    "start_time": "2024-03-27T20:10:54.533Z"
   },
   {
    "duration": 10,
    "start_time": "2024-03-27T20:10:54.921Z"
   },
   {
    "duration": 17,
    "start_time": "2024-03-27T20:10:55.238Z"
   },
   {
    "duration": 15,
    "start_time": "2024-03-27T20:10:55.600Z"
   },
   {
    "duration": 4,
    "start_time": "2024-03-27T20:10:55.779Z"
   },
   {
    "duration": 14,
    "start_time": "2024-03-27T20:10:55.975Z"
   },
   {
    "duration": 2,
    "start_time": "2024-03-27T20:10:56.353Z"
   },
   {
    "duration": 7,
    "start_time": "2024-03-27T20:10:57.429Z"
   },
   {
    "duration": 15,
    "start_time": "2024-03-27T20:10:57.798Z"
   },
   {
    "duration": 6,
    "start_time": "2024-03-27T20:10:58.242Z"
   },
   {
    "duration": 15,
    "start_time": "2024-03-27T20:10:58.642Z"
   },
   {
    "duration": 8,
    "start_time": "2024-03-27T20:11:01.562Z"
   },
   {
    "duration": 215,
    "start_time": "2024-03-27T20:11:01.735Z"
   },
   {
    "duration": 7,
    "start_time": "2024-03-27T20:11:02.175Z"
   },
   {
    "duration": 181,
    "start_time": "2024-03-27T20:11:02.484Z"
   },
   {
    "duration": 9,
    "start_time": "2024-03-27T20:11:04.121Z"
   },
   {
    "duration": 175,
    "start_time": "2024-03-27T20:11:04.317Z"
   },
   {
    "duration": 8,
    "start_time": "2024-03-27T20:11:04.689Z"
   },
   {
    "duration": 168,
    "start_time": "2024-03-27T20:11:04.897Z"
   },
   {
    "duration": 4,
    "start_time": "2024-03-27T20:11:06.987Z"
   },
   {
    "duration": 3,
    "start_time": "2024-03-27T20:11:07.361Z"
   },
   {
    "duration": 5,
    "start_time": "2024-03-27T20:11:07.740Z"
   },
   {
    "duration": 30,
    "start_time": "2024-03-27T20:11:08.118Z"
   },
   {
    "duration": 11,
    "start_time": "2024-03-27T20:11:08.523Z"
   },
   {
    "duration": 6,
    "start_time": "2024-03-27T20:11:10.440Z"
   },
   {
    "duration": 4,
    "start_time": "2024-03-27T20:11:10.835Z"
   },
   {
    "duration": 257,
    "start_time": "2024-03-27T20:11:11.318Z"
   },
   {
    "duration": 6,
    "start_time": "2024-03-27T20:11:11.930Z"
   },
   {
    "duration": 10,
    "start_time": "2024-03-27T20:11:12.297Z"
   },
   {
    "duration": 13,
    "start_time": "2024-03-27T20:11:12.489Z"
   },
   {
    "duration": 5,
    "start_time": "2024-03-27T20:11:13.082Z"
   },
   {
    "duration": 10,
    "start_time": "2024-03-27T20:11:13.466Z"
   },
   {
    "duration": 106,
    "start_time": "2024-03-27T20:35:12.687Z"
   },
   {
    "duration": 12,
    "start_time": "2024-03-27T20:41:15.840Z"
   },
   {
    "duration": 8,
    "start_time": "2024-03-27T20:41:24.626Z"
   },
   {
    "duration": 8,
    "start_time": "2024-03-27T20:49:28.614Z"
   },
   {
    "duration": 7,
    "start_time": "2024-03-27T20:52:24.401Z"
   },
   {
    "duration": 4,
    "start_time": "2024-03-27T20:54:40.681Z"
   },
   {
    "duration": 7,
    "start_time": "2024-03-27T20:54:52.450Z"
   },
   {
    "duration": 6,
    "start_time": "2024-03-27T20:55:03.387Z"
   },
   {
    "duration": 7,
    "start_time": "2024-03-27T20:55:13.508Z"
   },
   {
    "duration": 8,
    "start_time": "2024-03-27T20:56:45.467Z"
   },
   {
    "duration": 8,
    "start_time": "2024-03-27T21:02:52.181Z"
   },
   {
    "duration": 7,
    "start_time": "2024-03-27T21:02:53.743Z"
   },
   {
    "duration": 7,
    "start_time": "2024-03-27T21:02:55.345Z"
   },
   {
    "duration": 7,
    "start_time": "2024-03-27T21:02:56.136Z"
   },
   {
    "duration": 6,
    "start_time": "2024-03-27T21:02:56.572Z"
   },
   {
    "duration": 6,
    "start_time": "2024-03-27T21:02:57.225Z"
   },
   {
    "duration": 6,
    "start_time": "2024-03-27T21:02:57.680Z"
   },
   {
    "duration": 6,
    "start_time": "2024-03-27T21:02:58.180Z"
   },
   {
    "duration": 6,
    "start_time": "2024-03-27T21:02:58.673Z"
   },
   {
    "duration": 7,
    "start_time": "2024-03-27T21:03:00.274Z"
   },
   {
    "duration": 7,
    "start_time": "2024-03-27T21:03:00.707Z"
   },
   {
    "duration": 6,
    "start_time": "2024-03-27T21:03:01.738Z"
   },
   {
    "duration": 7,
    "start_time": "2024-03-27T21:03:02.520Z"
   },
   {
    "duration": 6,
    "start_time": "2024-03-27T21:03:03.195Z"
   },
   {
    "duration": 6,
    "start_time": "2024-03-27T21:03:03.707Z"
   },
   {
    "duration": 6,
    "start_time": "2024-03-27T21:03:04.349Z"
   },
   {
    "duration": 8,
    "start_time": "2024-03-27T21:03:05.209Z"
   },
   {
    "duration": 7,
    "start_time": "2024-03-27T21:03:05.711Z"
   },
   {
    "duration": 7,
    "start_time": "2024-03-27T21:03:06.276Z"
   },
   {
    "duration": 6,
    "start_time": "2024-03-27T21:03:06.747Z"
   },
   {
    "duration": 8,
    "start_time": "2024-03-27T21:03:07.195Z"
   },
   {
    "duration": 7,
    "start_time": "2024-03-27T21:03:07.591Z"
   },
   {
    "duration": 6,
    "start_time": "2024-03-27T21:03:07.975Z"
   },
   {
    "duration": 7,
    "start_time": "2024-03-27T21:03:08.334Z"
   },
   {
    "duration": 6,
    "start_time": "2024-03-27T21:03:08.691Z"
   },
   {
    "duration": 7,
    "start_time": "2024-03-27T21:03:09.007Z"
   },
   {
    "duration": 7,
    "start_time": "2024-03-27T21:03:09.289Z"
   },
   {
    "duration": 6,
    "start_time": "2024-03-27T21:03:09.633Z"
   },
   {
    "duration": 6,
    "start_time": "2024-03-27T21:03:09.897Z"
   },
   {
    "duration": 6,
    "start_time": "2024-03-27T21:03:10.144Z"
   },
   {
    "duration": 7,
    "start_time": "2024-03-27T21:03:10.352Z"
   },
   {
    "duration": 6,
    "start_time": "2024-03-27T21:03:10.581Z"
   },
   {
    "duration": 6,
    "start_time": "2024-03-27T21:03:10.765Z"
   },
   {
    "duration": 7,
    "start_time": "2024-03-27T21:03:10.943Z"
   },
   {
    "duration": 6,
    "start_time": "2024-03-27T21:03:11.105Z"
   },
   {
    "duration": 6,
    "start_time": "2024-03-27T21:03:11.254Z"
   },
   {
    "duration": 6,
    "start_time": "2024-03-27T21:03:11.403Z"
   },
   {
    "duration": 6,
    "start_time": "2024-03-27T21:03:11.575Z"
   },
   {
    "duration": 6,
    "start_time": "2024-03-27T21:03:11.808Z"
   },
   {
    "duration": 6,
    "start_time": "2024-03-27T21:03:12.075Z"
   },
   {
    "duration": 6,
    "start_time": "2024-03-27T21:03:12.327Z"
   },
   {
    "duration": 6,
    "start_time": "2024-03-27T21:03:12.698Z"
   },
   {
    "duration": 7,
    "start_time": "2024-03-27T21:03:13.021Z"
   },
   {
    "duration": 6,
    "start_time": "2024-03-27T21:03:13.328Z"
   },
   {
    "duration": 7,
    "start_time": "2024-03-27T21:03:13.611Z"
   },
   {
    "duration": 7,
    "start_time": "2024-03-27T21:03:13.785Z"
   },
   {
    "duration": 6,
    "start_time": "2024-03-27T21:03:13.948Z"
   },
   {
    "duration": 7,
    "start_time": "2024-03-27T21:03:14.081Z"
   },
   {
    "duration": 8,
    "start_time": "2024-03-27T21:03:14.241Z"
   },
   {
    "duration": 6,
    "start_time": "2024-03-27T21:03:14.374Z"
   },
   {
    "duration": 6,
    "start_time": "2024-03-27T21:03:14.533Z"
   },
   {
    "duration": 6,
    "start_time": "2024-03-27T21:03:14.676Z"
   },
   {
    "duration": 69,
    "start_time": "2024-03-27T21:03:15.197Z"
   },
   {
    "duration": 3,
    "start_time": "2024-03-27T21:23:50.849Z"
   },
   {
    "duration": 26,
    "start_time": "2024-03-27T21:23:50.951Z"
   },
   {
    "duration": 26,
    "start_time": "2024-03-27T21:23:50.979Z"
   },
   {
    "duration": 14,
    "start_time": "2024-03-27T21:23:51.014Z"
   },
   {
    "duration": 9,
    "start_time": "2024-03-27T21:23:51.118Z"
   },
   {
    "duration": 22,
    "start_time": "2024-03-27T21:23:51.143Z"
   },
   {
    "duration": 49,
    "start_time": "2024-03-27T21:23:51.173Z"
   },
   {
    "duration": 13,
    "start_time": "2024-03-27T21:23:51.246Z"
   },
   {
    "duration": 14,
    "start_time": "2024-03-27T21:23:51.310Z"
   },
   {
    "duration": 10,
    "start_time": "2024-03-27T21:23:51.378Z"
   },
   {
    "duration": 17,
    "start_time": "2024-03-27T21:23:51.459Z"
   },
   {
    "duration": 19,
    "start_time": "2024-03-27T21:23:51.527Z"
   },
   {
    "duration": 191,
    "start_time": "2024-03-27T21:23:51.632Z"
   },
   {
    "duration": 409,
    "start_time": "2024-03-27T21:23:51.825Z"
   },
   {
    "duration": 234,
    "start_time": "2024-03-27T21:23:52.235Z"
   },
   {
    "duration": 3,
    "start_time": "2024-03-27T21:23:52.471Z"
   },
   {
    "duration": 24,
    "start_time": "2024-03-27T21:23:52.475Z"
   },
   {
    "duration": 8,
    "start_time": "2024-03-27T21:23:52.501Z"
   },
   {
    "duration": 24,
    "start_time": "2024-03-27T21:23:52.510Z"
   },
   {
    "duration": 27,
    "start_time": "2024-03-27T21:23:52.535Z"
   },
   {
    "duration": 32,
    "start_time": "2024-03-27T21:23:52.564Z"
   },
   {
    "duration": 32,
    "start_time": "2024-03-27T21:23:52.597Z"
   },
   {
    "duration": 30,
    "start_time": "2024-03-27T21:23:52.630Z"
   },
   {
    "duration": 4,
    "start_time": "2024-03-27T21:23:52.706Z"
   },
   {
    "duration": 5,
    "start_time": "2024-03-27T21:23:52.747Z"
   },
   {
    "duration": 8,
    "start_time": "2024-03-27T21:23:52.780Z"
   },
   {
    "duration": 111,
    "start_time": "2024-03-27T21:23:52.878Z"
   },
   {
    "duration": 229,
    "start_time": "2024-03-27T21:23:52.998Z"
   },
   {
    "duration": 4,
    "start_time": "2024-03-27T21:23:53.229Z"
   },
   {
    "duration": 37,
    "start_time": "2024-03-27T21:23:53.234Z"
   },
   {
    "duration": 30,
    "start_time": "2024-03-27T21:23:53.273Z"
   },
   {
    "duration": 8,
    "start_time": "2024-03-27T21:23:53.304Z"
   },
   {
    "duration": 3,
    "start_time": "2024-03-27T21:23:53.314Z"
   },
   {
    "duration": 8,
    "start_time": "2024-03-27T21:23:53.394Z"
   },
   {
    "duration": 107,
    "start_time": "2024-03-27T21:23:53.470Z"
   },
   {
    "duration": 4,
    "start_time": "2024-03-27T21:23:53.579Z"
   },
   {
    "duration": 12,
    "start_time": "2024-03-27T21:23:53.593Z"
   },
   {
    "duration": 228,
    "start_time": "2024-03-27T21:23:53.705Z"
   },
   {
    "duration": 17,
    "start_time": "2024-03-27T21:23:53.934Z"
   },
   {
    "duration": 33,
    "start_time": "2024-03-27T21:23:53.952Z"
   },
   {
    "duration": 23,
    "start_time": "2024-03-27T21:23:53.987Z"
   },
   {
    "duration": 219,
    "start_time": "2024-03-27T21:23:54.012Z"
   },
   {
    "duration": 4,
    "start_time": "2024-03-27T21:23:54.233Z"
   },
   {
    "duration": 27,
    "start_time": "2024-03-27T21:23:54.238Z"
   },
   {
    "duration": 169,
    "start_time": "2024-03-27T21:23:54.267Z"
   },
   {
    "duration": 3,
    "start_time": "2024-03-27T21:23:54.438Z"
   },
   {
    "duration": 18,
    "start_time": "2024-03-27T21:23:54.443Z"
   },
   {
    "duration": 105,
    "start_time": "2024-03-27T21:23:54.463Z"
   },
   {
    "duration": 7,
    "start_time": "2024-03-27T21:23:54.570Z"
   },
   {
    "duration": 193,
    "start_time": "2024-03-27T21:23:54.578Z"
   },
   {
    "duration": 7,
    "start_time": "2024-03-27T21:23:55.103Z"
   },
   {
    "duration": 226,
    "start_time": "2024-03-27T21:23:55.250Z"
   },
   {
    "duration": 8,
    "start_time": "2024-03-27T21:23:56.127Z"
   },
   {
    "duration": 208,
    "start_time": "2024-03-27T21:23:56.306Z"
   },
   {
    "duration": 4,
    "start_time": "2024-03-27T21:23:58.031Z"
   },
   {
    "duration": 11,
    "start_time": "2024-03-27T21:23:58.759Z"
   },
   {
    "duration": 10,
    "start_time": "2024-03-27T21:23:59.133Z"
   },
   {
    "duration": 24,
    "start_time": "2024-03-27T21:23:59.512Z"
   },
   {
    "duration": 15,
    "start_time": "2024-03-27T21:23:59.894Z"
   },
   {
    "duration": 5,
    "start_time": "2024-03-27T21:24:00.091Z"
   },
   {
    "duration": 14,
    "start_time": "2024-03-27T21:24:00.298Z"
   },
   {
    "duration": 3,
    "start_time": "2024-03-27T21:24:00.688Z"
   },
   {
    "duration": 8,
    "start_time": "2024-03-27T21:24:01.477Z"
   },
   {
    "duration": 15,
    "start_time": "2024-03-27T21:24:01.879Z"
   },
   {
    "duration": 7,
    "start_time": "2024-03-27T21:24:02.536Z"
   },
   {
    "duration": 52,
    "start_time": "2024-03-27T21:24:02.611Z"
   },
   {
    "duration": 8,
    "start_time": "2024-03-27T21:24:02.763Z"
   },
   {
    "duration": 202,
    "start_time": "2024-03-27T21:24:02.804Z"
   },
   {
    "duration": 7,
    "start_time": "2024-03-27T21:24:03.008Z"
   },
   {
    "duration": 221,
    "start_time": "2024-03-27T21:24:03.016Z"
   },
   {
    "duration": 9,
    "start_time": "2024-03-27T21:24:03.239Z"
   },
   {
    "duration": 216,
    "start_time": "2024-03-27T21:24:03.250Z"
   },
   {
    "duration": 9,
    "start_time": "2024-03-27T21:24:03.468Z"
   },
   {
    "duration": 193,
    "start_time": "2024-03-27T21:24:03.479Z"
   },
   {
    "duration": 5,
    "start_time": "2024-03-27T21:24:03.674Z"
   },
   {
    "duration": 20,
    "start_time": "2024-03-27T21:24:03.680Z"
   },
   {
    "duration": 14,
    "start_time": "2024-03-27T21:24:03.702Z"
   },
   {
    "duration": 30,
    "start_time": "2024-03-27T21:24:04.057Z"
   },
   {
    "duration": 10,
    "start_time": "2024-03-27T21:24:04.443Z"
   },
   {
    "duration": 7,
    "start_time": "2024-03-27T21:24:05.756Z"
   },
   {
    "duration": 4,
    "start_time": "2024-03-27T21:24:05.862Z"
   },
   {
    "duration": 245,
    "start_time": "2024-03-27T21:24:05.901Z"
   },
   {
    "duration": 5,
    "start_time": "2024-03-27T21:24:06.148Z"
   },
   {
    "duration": 89,
    "start_time": "2024-03-27T21:24:06.154Z"
   },
   {
    "duration": 52,
    "start_time": "2024-03-27T21:24:06.244Z"
   },
   {
    "duration": 126,
    "start_time": "2024-03-27T21:24:06.298Z"
   },
   {
    "duration": 70,
    "start_time": "2024-03-27T21:24:06.425Z"
   },
   {
    "duration": 30,
    "start_time": "2024-03-27T21:24:06.530Z"
   },
   {
    "duration": 4,
    "start_time": "2024-03-27T21:24:06.717Z"
   },
   {
    "duration": 6,
    "start_time": "2024-03-27T21:24:06.828Z"
   },
   {
    "duration": 7,
    "start_time": "2024-03-27T21:24:09.242Z"
   },
   {
    "duration": 1333,
    "start_time": "2024-03-28T10:09:45.393Z"
   },
   {
    "duration": 105,
    "start_time": "2024-03-28T10:09:46.728Z"
   },
   {
    "duration": 138,
    "start_time": "2024-03-28T10:09:46.835Z"
   },
   {
    "duration": 70,
    "start_time": "2024-03-28T10:09:46.975Z"
   },
   {
    "duration": 13,
    "start_time": "2024-03-28T10:09:47.046Z"
   },
   {
    "duration": 8,
    "start_time": "2024-03-28T10:09:47.061Z"
   },
   {
    "duration": 10,
    "start_time": "2024-03-28T10:09:47.071Z"
   },
   {
    "duration": 17,
    "start_time": "2024-03-28T10:09:47.083Z"
   },
   {
    "duration": 27,
    "start_time": "2024-03-28T10:09:47.102Z"
   },
   {
    "duration": 30,
    "start_time": "2024-03-28T10:09:47.131Z"
   },
   {
    "duration": 22,
    "start_time": "2024-03-28T10:09:47.163Z"
   },
   {
    "duration": 54,
    "start_time": "2024-03-28T10:09:47.186Z"
   },
   {
    "duration": 230,
    "start_time": "2024-03-28T10:09:47.241Z"
   },
   {
    "duration": 250,
    "start_time": "2024-03-28T10:09:47.473Z"
   },
   {
    "duration": 240,
    "start_time": "2024-03-28T10:09:47.724Z"
   },
   {
    "duration": 2,
    "start_time": "2024-03-28T10:09:47.969Z"
   },
   {
    "duration": 14,
    "start_time": "2024-03-28T10:09:47.973Z"
   },
   {
    "duration": 15,
    "start_time": "2024-03-28T10:09:47.988Z"
   },
   {
    "duration": 5,
    "start_time": "2024-03-28T10:09:48.005Z"
   },
   {
    "duration": 6,
    "start_time": "2024-03-28T10:09:48.011Z"
   },
   {
    "duration": 12,
    "start_time": "2024-03-28T10:09:48.019Z"
   },
   {
    "duration": 6,
    "start_time": "2024-03-28T10:09:48.033Z"
   },
   {
    "duration": 10,
    "start_time": "2024-03-28T10:09:48.041Z"
   },
   {
    "duration": 16,
    "start_time": "2024-03-28T10:09:48.053Z"
   },
   {
    "duration": 32,
    "start_time": "2024-03-28T10:09:48.070Z"
   },
   {
    "duration": 8,
    "start_time": "2024-03-28T10:09:48.104Z"
   },
   {
    "duration": 121,
    "start_time": "2024-03-28T10:09:48.114Z"
   },
   {
    "duration": 236,
    "start_time": "2024-03-28T10:09:48.239Z"
   },
   {
    "duration": 5,
    "start_time": "2024-03-28T10:09:48.477Z"
   },
   {
    "duration": 6,
    "start_time": "2024-03-28T10:09:48.483Z"
   },
   {
    "duration": 8,
    "start_time": "2024-03-28T10:09:48.490Z"
   },
   {
    "duration": 8,
    "start_time": "2024-03-28T10:09:48.499Z"
   },
   {
    "duration": 5,
    "start_time": "2024-03-28T10:09:48.508Z"
   },
   {
    "duration": 17,
    "start_time": "2024-03-28T10:09:48.515Z"
   },
   {
    "duration": 140,
    "start_time": "2024-03-28T10:09:48.534Z"
   },
   {
    "duration": 4,
    "start_time": "2024-03-28T10:09:48.676Z"
   },
   {
    "duration": 10,
    "start_time": "2024-03-28T10:09:48.681Z"
   },
   {
    "duration": 327,
    "start_time": "2024-03-28T10:09:48.693Z"
   },
   {
    "duration": 16,
    "start_time": "2024-03-28T10:09:49.022Z"
   },
   {
    "duration": 7,
    "start_time": "2024-03-28T10:09:49.040Z"
   },
   {
    "duration": 4,
    "start_time": "2024-03-28T10:09:49.049Z"
   },
   {
    "duration": 238,
    "start_time": "2024-03-28T10:09:49.070Z"
   },
   {
    "duration": 4,
    "start_time": "2024-03-28T10:09:49.310Z"
   },
   {
    "duration": 17,
    "start_time": "2024-03-28T10:09:49.316Z"
   },
   {
    "duration": 169,
    "start_time": "2024-03-28T10:09:49.335Z"
   },
   {
    "duration": 4,
    "start_time": "2024-03-28T10:09:49.506Z"
   },
   {
    "duration": 35,
    "start_time": "2024-03-28T10:09:49.511Z"
   },
   {
    "duration": 93,
    "start_time": "2024-03-28T10:09:49.548Z"
   },
   {
    "duration": 8,
    "start_time": "2024-03-28T10:09:49.642Z"
   },
   {
    "duration": 221,
    "start_time": "2024-03-28T10:09:49.651Z"
   },
   {
    "duration": 10,
    "start_time": "2024-03-28T10:09:49.874Z"
   },
   {
    "duration": 277,
    "start_time": "2024-03-28T10:09:49.886Z"
   },
   {
    "duration": 9,
    "start_time": "2024-03-28T10:09:50.168Z"
   },
   {
    "duration": 234,
    "start_time": "2024-03-28T10:09:50.178Z"
   },
   {
    "duration": 3,
    "start_time": "2024-03-28T10:09:50.414Z"
   },
   {
    "duration": 20,
    "start_time": "2024-03-28T10:09:50.419Z"
   },
   {
    "duration": 10,
    "start_time": "2024-03-28T10:09:50.441Z"
   },
   {
    "duration": 32,
    "start_time": "2024-03-28T10:09:50.453Z"
   },
   {
    "duration": 16,
    "start_time": "2024-03-28T10:09:50.486Z"
   },
   {
    "duration": 20,
    "start_time": "2024-03-28T10:09:50.503Z"
   },
   {
    "duration": 40,
    "start_time": "2024-03-28T10:09:50.525Z"
   },
   {
    "duration": 8,
    "start_time": "2024-03-28T10:09:50.567Z"
   },
   {
    "duration": 28,
    "start_time": "2024-03-28T10:09:50.577Z"
   },
   {
    "duration": 70,
    "start_time": "2024-03-28T10:09:50.607Z"
   },
   {
    "duration": 18,
    "start_time": "2024-03-28T10:09:50.679Z"
   },
   {
    "duration": 47,
    "start_time": "2024-03-28T10:09:50.699Z"
   },
   {
    "duration": 34,
    "start_time": "2024-03-28T10:09:50.747Z"
   },
   {
    "duration": 210,
    "start_time": "2024-03-28T10:09:50.782Z"
   },
   {
    "duration": 8,
    "start_time": "2024-03-28T10:09:50.994Z"
   },
   {
    "duration": 206,
    "start_time": "2024-03-28T10:09:51.004Z"
   },
   {
    "duration": 8,
    "start_time": "2024-03-28T10:09:51.212Z"
   },
   {
    "duration": 289,
    "start_time": "2024-03-28T10:09:51.222Z"
   },
   {
    "duration": 8,
    "start_time": "2024-03-28T10:09:51.513Z"
   },
   {
    "duration": 186,
    "start_time": "2024-03-28T10:09:51.523Z"
   },
   {
    "duration": 6,
    "start_time": "2024-03-28T10:09:51.711Z"
   },
   {
    "duration": 10,
    "start_time": "2024-03-28T10:09:51.719Z"
   },
   {
    "duration": 24,
    "start_time": "2024-03-28T10:09:51.731Z"
   },
   {
    "duration": 49,
    "start_time": "2024-03-28T10:09:51.757Z"
   },
   {
    "duration": 12,
    "start_time": "2024-03-28T10:09:51.808Z"
   },
   {
    "duration": 10,
    "start_time": "2024-03-28T10:09:51.821Z"
   },
   {
    "duration": 5,
    "start_time": "2024-03-28T10:09:51.832Z"
   },
   {
    "duration": 312,
    "start_time": "2024-03-28T10:09:51.842Z"
   },
   {
    "duration": 6,
    "start_time": "2024-03-28T10:09:52.155Z"
   },
   {
    "duration": 24,
    "start_time": "2024-03-28T10:09:52.162Z"
   },
   {
    "duration": 33,
    "start_time": "2024-03-28T10:09:52.188Z"
   },
   {
    "duration": 13,
    "start_time": "2024-03-28T10:09:52.222Z"
   },
   {
    "duration": 16,
    "start_time": "2024-03-28T10:09:52.236Z"
   },
   {
    "duration": 34,
    "start_time": "2024-03-28T10:09:52.253Z"
   },
   {
    "duration": 61,
    "start_time": "2024-03-28T10:09:52.289Z"
   },
   {
    "duration": 38,
    "start_time": "2024-03-28T10:09:52.352Z"
   },
   {
    "duration": 42,
    "start_time": "2024-03-28T10:09:52.392Z"
   },
   {
    "duration": 15,
    "start_time": "2024-03-28T10:13:17.684Z"
   },
   {
    "duration": 11,
    "start_time": "2024-03-28T10:13:46.685Z"
   },
   {
    "duration": 4,
    "start_time": "2024-03-28T10:14:33.232Z"
   },
   {
    "duration": 1257,
    "start_time": "2024-03-28T16:04:58.916Z"
   },
   {
    "duration": 90,
    "start_time": "2024-03-28T16:05:00.175Z"
   },
   {
    "duration": 82,
    "start_time": "2024-03-28T16:05:00.266Z"
   },
   {
    "duration": 62,
    "start_time": "2024-03-28T16:05:00.350Z"
   },
   {
    "duration": 13,
    "start_time": "2024-03-28T16:05:01.156Z"
   },
   {
    "duration": 10,
    "start_time": "2024-03-28T16:05:01.480Z"
   },
   {
    "duration": 7,
    "start_time": "2024-03-28T16:05:01.667Z"
   },
   {
    "duration": 11,
    "start_time": "2024-03-28T16:05:02.442Z"
   },
   {
    "duration": 10,
    "start_time": "2024-03-28T16:05:03.001Z"
   },
   {
    "duration": 9,
    "start_time": "2024-03-28T16:05:03.386Z"
   },
   {
    "duration": 19,
    "start_time": "2024-03-28T16:05:04.256Z"
   },
   {
    "duration": 56,
    "start_time": "2024-03-28T16:05:04.850Z"
   },
   {
    "duration": 221,
    "start_time": "2024-03-28T16:05:05.648Z"
   },
   {
    "duration": 191,
    "start_time": "2024-03-28T16:05:31.218Z"
   },
   {
    "duration": 189,
    "start_time": "2024-03-28T16:07:21.019Z"
   },
   {
    "duration": 202,
    "start_time": "2024-03-28T16:07:23.715Z"
   },
   {
    "duration": 216,
    "start_time": "2024-03-28T16:07:30.921Z"
   },
   {
    "duration": 213,
    "start_time": "2024-03-28T16:07:31.994Z"
   },
   {
    "duration": 242,
    "start_time": "2024-03-28T16:07:37.872Z"
   },
   {
    "duration": 2,
    "start_time": "2024-03-28T16:07:42.195Z"
   },
   {
    "duration": 11,
    "start_time": "2024-03-28T16:07:42.540Z"
   },
   {
    "duration": 4,
    "start_time": "2024-03-28T16:07:43.328Z"
   },
   {
    "duration": 5,
    "start_time": "2024-03-28T16:07:44.098Z"
   },
   {
    "duration": 6,
    "start_time": "2024-03-28T16:07:48.651Z"
   },
   {
    "duration": 8,
    "start_time": "2024-03-28T16:07:49.464Z"
   },
   {
    "duration": 4,
    "start_time": "2024-03-28T16:07:50.322Z"
   },
   {
    "duration": 7,
    "start_time": "2024-03-28T16:07:50.486Z"
   },
   {
    "duration": 3,
    "start_time": "2024-03-28T16:07:53.430Z"
   },
   {
    "duration": 7,
    "start_time": "2024-03-28T16:07:53.586Z"
   },
   {
    "duration": 8,
    "start_time": "2024-03-28T16:07:53.978Z"
   },
   {
    "duration": 215,
    "start_time": "2024-03-28T16:07:55.034Z"
   },
   {
    "duration": 225,
    "start_time": "2024-03-28T16:08:04.842Z"
   },
   {
    "duration": 5,
    "start_time": "2024-03-28T16:08:07.309Z"
   },
   {
    "duration": 5,
    "start_time": "2024-03-28T16:08:08.959Z"
   },
   {
    "duration": 7,
    "start_time": "2024-03-28T16:08:09.818Z"
   },
   {
    "duration": 7,
    "start_time": "2024-03-28T16:08:10.159Z"
   },
   {
    "duration": 3,
    "start_time": "2024-03-28T16:08:10.608Z"
   },
   {
    "duration": 9,
    "start_time": "2024-03-28T16:08:11.588Z"
   },
   {
    "duration": 117,
    "start_time": "2024-03-28T16:08:12.516Z"
   },
   {
    "duration": 5,
    "start_time": "2024-03-28T16:08:13.912Z"
   },
   {
    "duration": 9,
    "start_time": "2024-03-28T16:08:14.228Z"
   },
   {
    "duration": 119,
    "start_time": "2024-03-28T16:08:20.531Z"
   },
   {
    "duration": 5,
    "start_time": "2024-03-28T16:08:29.145Z"
   },
   {
    "duration": 8,
    "start_time": "2024-03-28T16:08:29.400Z"
   },
   {
    "duration": 224,
    "start_time": "2024-03-28T16:08:35.346Z"
   },
   {
    "duration": 18,
    "start_time": "2024-03-28T16:08:36.388Z"
   },
   {
    "duration": 6,
    "start_time": "2024-03-28T16:08:37.132Z"
   },
   {
    "duration": 5,
    "start_time": "2024-03-28T16:08:37.748Z"
   },
   {
    "duration": 230,
    "start_time": "2024-03-28T16:08:38.076Z"
   },
   {
    "duration": 245,
    "start_time": "2024-03-28T16:08:43.014Z"
   },
   {
    "duration": 4,
    "start_time": "2024-03-28T16:08:44.737Z"
   },
   {
    "duration": 14,
    "start_time": "2024-03-28T16:08:46.338Z"
   },
   {
    "duration": 160,
    "start_time": "2024-03-28T16:08:46.929Z"
   },
   {
    "duration": 232,
    "start_time": "2024-03-28T16:08:53.154Z"
   },
   {
    "duration": 4,
    "start_time": "2024-03-28T16:08:55.453Z"
   },
   {
    "duration": 5,
    "start_time": "2024-03-28T16:08:55.652Z"
   },
   {
    "duration": 88,
    "start_time": "2024-03-28T16:08:57.968Z"
   },
   {
    "duration": 9,
    "start_time": "2024-03-28T16:09:01.180Z"
   },
   {
    "duration": 218,
    "start_time": "2024-03-28T16:09:06.747Z"
   },
   {
    "duration": 9,
    "start_time": "2024-03-28T16:09:10.000Z"
   },
   {
    "duration": 243,
    "start_time": "2024-03-28T16:09:10.567Z"
   },
   {
    "duration": 238,
    "start_time": "2024-03-28T16:09:14.302Z"
   },
   {
    "duration": 10,
    "start_time": "2024-03-28T16:09:16.921Z"
   },
   {
    "duration": 234,
    "start_time": "2024-03-28T16:09:20.459Z"
   },
   {
    "duration": 3,
    "start_time": "2024-03-28T16:09:24.743Z"
   },
   {
    "duration": 10,
    "start_time": "2024-03-28T16:09:25.641Z"
   },
   {
    "duration": 10,
    "start_time": "2024-03-28T16:09:26.141Z"
   },
   {
    "duration": 17,
    "start_time": "2024-03-28T16:09:26.541Z"
   },
   {
    "duration": 16,
    "start_time": "2024-03-28T16:09:27.001Z"
   },
   {
    "duration": 4,
    "start_time": "2024-03-28T16:09:27.205Z"
   },
   {
    "duration": 14,
    "start_time": "2024-03-28T16:09:27.441Z"
   },
   {
    "duration": 3,
    "start_time": "2024-03-28T16:09:28.552Z"
   },
   {
    "duration": 7,
    "start_time": "2024-03-28T16:09:30.320Z"
   },
   {
    "duration": 17,
    "start_time": "2024-03-28T16:09:31.157Z"
   },
   {
    "duration": 7,
    "start_time": "2024-03-28T16:09:31.762Z"
   },
   {
    "duration": 16,
    "start_time": "2024-03-28T16:09:32.396Z"
   },
   {
    "duration": 12,
    "start_time": "2024-03-28T16:09:35.424Z"
   },
   {
    "duration": 199,
    "start_time": "2024-03-28T16:09:35.919Z"
   },
   {
    "duration": 7,
    "start_time": "2024-03-28T16:09:36.121Z"
   },
   {
    "duration": 220,
    "start_time": "2024-03-28T16:09:36.641Z"
   },
   {
    "duration": 194,
    "start_time": "2024-03-28T16:09:42.802Z"
   },
   {
    "duration": 10,
    "start_time": "2024-03-28T16:09:45.366Z"
   },
   {
    "duration": 289,
    "start_time": "2024-03-28T16:09:48.832Z"
   },
   {
    "duration": 11,
    "start_time": "2024-03-28T16:09:53.258Z"
   },
   {
    "duration": 189,
    "start_time": "2024-03-28T16:09:58.804Z"
   },
   {
    "duration": 10,
    "start_time": "2024-03-28T16:09:59.583Z"
   },
   {
    "duration": 201,
    "start_time": "2024-03-28T16:10:06.883Z"
   },
   {
    "duration": 5,
    "start_time": "2024-03-28T16:10:14.118Z"
   },
   {
    "duration": 4,
    "start_time": "2024-03-28T16:10:14.493Z"
   },
   {
    "duration": 6,
    "start_time": "2024-03-28T16:10:14.847Z"
   },
   {
    "duration": 32,
    "start_time": "2024-03-28T16:10:15.281Z"
   },
   {
    "duration": 15,
    "start_time": "2024-03-28T16:10:15.837Z"
   },
   {
    "duration": 8,
    "start_time": "2024-03-28T16:10:19.063Z"
   },
   {
    "duration": 5,
    "start_time": "2024-03-28T16:10:19.966Z"
   },
   {
    "duration": 282,
    "start_time": "2024-03-28T16:10:20.624Z"
   },
   {
    "duration": 7,
    "start_time": "2024-03-28T16:10:21.179Z"
   },
   {
    "duration": 15,
    "start_time": "2024-03-28T16:10:22.486Z"
   },
   {
    "duration": 12,
    "start_time": "2024-03-28T16:10:22.728Z"
   },
   {
    "duration": 6,
    "start_time": "2024-03-28T16:10:23.743Z"
   },
   {
    "duration": 12,
    "start_time": "2024-03-28T16:10:24.211Z"
   },
   {
    "duration": 8,
    "start_time": "2024-03-28T16:10:44.516Z"
   },
   {
    "duration": 7,
    "start_time": "2024-03-28T16:14:04.215Z"
   },
   {
    "duration": 6,
    "start_time": "2024-03-28T16:14:25.205Z"
   },
   {
    "duration": 5,
    "start_time": "2024-03-28T16:14:27.701Z"
   },
   {
    "duration": 107,
    "start_time": "2024-03-28T16:16:07.793Z"
   },
   {
    "duration": 5,
    "start_time": "2024-03-28T16:17:28.825Z"
   },
   {
    "duration": 5,
    "start_time": "2024-03-28T16:17:54.405Z"
   },
   {
    "duration": 5,
    "start_time": "2024-03-28T16:18:26.833Z"
   },
   {
    "duration": 5,
    "start_time": "2024-03-28T16:25:32.269Z"
   },
   {
    "duration": 8,
    "start_time": "2024-03-28T16:25:39.384Z"
   },
   {
    "duration": 3,
    "start_time": "2024-03-28T16:26:27.294Z"
   },
   {
    "duration": 30,
    "start_time": "2024-03-28T16:26:27.910Z"
   },
   {
    "duration": 28,
    "start_time": "2024-03-28T16:26:27.961Z"
   },
   {
    "duration": 16,
    "start_time": "2024-03-28T16:26:28.023Z"
   },
   {
    "duration": 10,
    "start_time": "2024-03-28T16:26:28.152Z"
   },
   {
    "duration": 9,
    "start_time": "2024-03-28T16:26:28.255Z"
   },
   {
    "duration": 7,
    "start_time": "2024-03-28T16:26:28.381Z"
   },
   {
    "duration": 10,
    "start_time": "2024-03-28T16:26:28.701Z"
   },
   {
    "duration": 11,
    "start_time": "2024-03-28T16:26:29.028Z"
   },
   {
    "duration": 10,
    "start_time": "2024-03-28T16:26:29.369Z"
   },
   {
    "duration": 17,
    "start_time": "2024-03-28T16:26:30.078Z"
   },
   {
    "duration": 20,
    "start_time": "2024-03-28T16:26:30.180Z"
   },
   {
    "duration": 200,
    "start_time": "2024-03-28T16:26:30.307Z"
   },
   {
    "duration": 215,
    "start_time": "2024-03-28T16:26:31.079Z"
   },
   {
    "duration": 233,
    "start_time": "2024-03-28T16:26:31.296Z"
   },
   {
    "duration": 3,
    "start_time": "2024-03-28T16:26:32.592Z"
   },
   {
    "duration": 9,
    "start_time": "2024-03-28T16:26:33.285Z"
   },
   {
    "duration": 4,
    "start_time": "2024-03-28T16:26:33.417Z"
   },
   {
    "duration": 5,
    "start_time": "2024-03-28T16:26:33.514Z"
   },
   {
    "duration": 6,
    "start_time": "2024-03-28T16:26:33.713Z"
   },
   {
    "duration": 7,
    "start_time": "2024-03-28T16:26:33.806Z"
   },
   {
    "duration": 6,
    "start_time": "2024-03-28T16:26:34.486Z"
   },
   {
    "duration": 7,
    "start_time": "2024-03-28T16:26:34.668Z"
   },
   {
    "duration": 3,
    "start_time": "2024-03-28T16:26:35.709Z"
   },
   {
    "duration": 6,
    "start_time": "2024-03-28T16:26:35.852Z"
   },
   {
    "duration": 8,
    "start_time": "2024-03-28T16:26:36.026Z"
   },
   {
    "duration": 124,
    "start_time": "2024-03-28T16:26:36.561Z"
   },
   {
    "duration": 218,
    "start_time": "2024-03-28T16:26:37.451Z"
   },
   {
    "duration": 5,
    "start_time": "2024-03-28T16:26:37.816Z"
   },
   {
    "duration": 4,
    "start_time": "2024-03-28T16:26:38.552Z"
   },
   {
    "duration": 7,
    "start_time": "2024-03-28T16:26:38.894Z"
   },
   {
    "duration": 7,
    "start_time": "2024-03-28T16:26:39.054Z"
   },
   {
    "duration": 3,
    "start_time": "2024-03-28T16:26:39.234Z"
   },
   {
    "duration": 9,
    "start_time": "2024-03-28T16:26:39.736Z"
   },
   {
    "duration": 105,
    "start_time": "2024-03-28T16:26:40.097Z"
   },
   {
    "duration": 4,
    "start_time": "2024-03-28T16:26:40.468Z"
   },
   {
    "duration": 9,
    "start_time": "2024-03-28T16:26:40.646Z"
   },
   {
    "duration": 234,
    "start_time": "2024-03-28T16:26:41.570Z"
   },
   {
    "duration": 17,
    "start_time": "2024-03-28T16:26:41.931Z"
   },
   {
    "duration": 5,
    "start_time": "2024-03-28T16:26:42.284Z"
   },
   {
    "duration": 4,
    "start_time": "2024-03-28T16:26:42.652Z"
   },
   {
    "duration": 340,
    "start_time": "2024-03-28T16:26:43.028Z"
   },
   {
    "duration": 3,
    "start_time": "2024-03-28T16:26:43.572Z"
   },
   {
    "duration": 12,
    "start_time": "2024-03-28T16:26:44.495Z"
   },
   {
    "duration": 160,
    "start_time": "2024-03-28T16:26:44.685Z"
   },
   {
    "duration": 4,
    "start_time": "2024-03-28T16:26:45.211Z"
   },
   {
    "duration": 4,
    "start_time": "2024-03-28T16:26:45.389Z"
   },
   {
    "duration": 77,
    "start_time": "2024-03-28T16:26:45.563Z"
   },
   {
    "duration": 8,
    "start_time": "2024-03-28T16:26:46.335Z"
   },
   {
    "duration": 186,
    "start_time": "2024-03-28T16:26:46.517Z"
   },
   {
    "duration": 8,
    "start_time": "2024-03-28T16:26:47.496Z"
   },
   {
    "duration": 238,
    "start_time": "2024-03-28T16:26:47.678Z"
   },
   {
    "duration": 9,
    "start_time": "2024-03-28T16:26:48.774Z"
   },
   {
    "duration": 218,
    "start_time": "2024-03-28T16:26:48.960Z"
   },
   {
    "duration": 3,
    "start_time": "2024-03-28T16:26:50.513Z"
   },
   {
    "duration": 11,
    "start_time": "2024-03-28T16:26:51.311Z"
   },
   {
    "duration": 9,
    "start_time": "2024-03-28T16:26:51.710Z"
   },
   {
    "duration": 17,
    "start_time": "2024-03-28T16:26:52.092Z"
   },
   {
    "duration": 15,
    "start_time": "2024-03-28T16:26:52.465Z"
   },
   {
    "duration": 5,
    "start_time": "2024-03-28T16:26:52.642Z"
   },
   {
    "duration": 18,
    "start_time": "2024-03-28T16:26:52.831Z"
   },
   {
    "duration": 3,
    "start_time": "2024-03-28T16:26:53.215Z"
   },
   {
    "duration": 7,
    "start_time": "2024-03-28T16:26:54.121Z"
   },
   {
    "duration": 15,
    "start_time": "2024-03-28T16:26:54.507Z"
   },
   {
    "duration": 6,
    "start_time": "2024-03-28T16:26:54.886Z"
   },
   {
    "duration": 15,
    "start_time": "2024-03-28T16:26:55.271Z"
   },
   {
    "duration": 8,
    "start_time": "2024-03-28T16:26:56.224Z"
   },
   {
    "duration": 198,
    "start_time": "2024-03-28T16:26:56.736Z"
   },
   {
    "duration": 8,
    "start_time": "2024-03-28T16:26:56.936Z"
   },
   {
    "duration": 217,
    "start_time": "2024-03-28T16:26:56.946Z"
   },
   {
    "duration": 26,
    "start_time": "2024-03-28T16:26:57.165Z"
   },
   {
    "duration": 192,
    "start_time": "2024-03-28T16:26:57.193Z"
   },
   {
    "duration": 8,
    "start_time": "2024-03-28T16:26:57.387Z"
   },
   {
    "duration": 176,
    "start_time": "2024-03-28T16:26:57.397Z"
   },
   {
    "duration": 5,
    "start_time": "2024-03-28T16:26:58.893Z"
   },
   {
    "duration": 4,
    "start_time": "2024-03-28T16:26:59.253Z"
   },
   {
    "duration": 4,
    "start_time": "2024-03-28T16:26:59.611Z"
   },
   {
    "duration": 33,
    "start_time": "2024-03-28T16:27:00.023Z"
   },
   {
    "duration": 11,
    "start_time": "2024-03-28T16:27:00.614Z"
   },
   {
    "duration": 6,
    "start_time": "2024-03-28T16:27:02.904Z"
   },
   {
    "duration": 4,
    "start_time": "2024-03-28T16:27:03.268Z"
   },
   {
    "duration": 257,
    "start_time": "2024-03-28T16:27:03.704Z"
   },
   {
    "duration": 5,
    "start_time": "2024-03-28T16:27:03.963Z"
   },
   {
    "duration": 11,
    "start_time": "2024-03-28T16:27:04.317Z"
   },
   {
    "duration": 12,
    "start_time": "2024-03-28T16:27:04.543Z"
   },
   {
    "duration": 4,
    "start_time": "2024-03-28T16:27:05.200Z"
   },
   {
    "duration": 14,
    "start_time": "2024-03-28T16:27:05.620Z"
   },
   {
    "duration": 6,
    "start_time": "2024-03-28T16:27:08.447Z"
   },
   {
    "duration": 5,
    "start_time": "2024-03-28T16:27:29.825Z"
   },
   {
    "duration": 7,
    "start_time": "2024-03-28T16:27:33.300Z"
   },
   {
    "duration": 8,
    "start_time": "2024-03-28T16:27:38.494Z"
   },
   {
    "duration": 1068,
    "start_time": "2024-03-28T19:16:18.913Z"
   },
   {
    "duration": 79,
    "start_time": "2024-03-28T19:16:19.983Z"
   },
   {
    "duration": 84,
    "start_time": "2024-03-28T19:16:20.064Z"
   },
   {
    "duration": 56,
    "start_time": "2024-03-28T19:16:20.150Z"
   },
   {
    "duration": 12,
    "start_time": "2024-03-28T19:16:20.207Z"
   },
   {
    "duration": 33,
    "start_time": "2024-03-28T19:16:20.221Z"
   },
   {
    "duration": 10,
    "start_time": "2024-03-28T19:16:20.256Z"
   },
   {
    "duration": 11,
    "start_time": "2024-03-28T19:16:20.267Z"
   },
   {
    "duration": 15,
    "start_time": "2024-03-28T19:16:20.280Z"
   },
   {
    "duration": 53,
    "start_time": "2024-03-28T19:16:20.297Z"
   },
   {
    "duration": 16,
    "start_time": "2024-03-28T19:16:20.352Z"
   },
   {
    "duration": 100,
    "start_time": "2024-03-28T19:16:20.369Z"
   },
   {
    "duration": 399,
    "start_time": "2024-03-28T19:16:20.470Z"
   },
   {
    "duration": 333,
    "start_time": "2024-03-28T19:16:20.871Z"
   },
   {
    "duration": 220,
    "start_time": "2024-03-28T19:16:21.205Z"
   },
   {
    "duration": 2,
    "start_time": "2024-03-28T19:16:21.427Z"
   },
   {
    "duration": 18,
    "start_time": "2024-03-28T19:16:21.430Z"
   },
   {
    "duration": 4,
    "start_time": "2024-03-28T19:16:21.449Z"
   },
   {
    "duration": 5,
    "start_time": "2024-03-28T19:16:21.454Z"
   },
   {
    "duration": 5,
    "start_time": "2024-03-28T19:16:21.460Z"
   },
   {
    "duration": 7,
    "start_time": "2024-03-28T19:16:21.466Z"
   },
   {
    "duration": 4,
    "start_time": "2024-03-28T19:16:21.475Z"
   },
   {
    "duration": 7,
    "start_time": "2024-03-28T19:16:21.480Z"
   },
   {
    "duration": 3,
    "start_time": "2024-03-28T19:16:21.488Z"
   },
   {
    "duration": 8,
    "start_time": "2024-03-28T19:16:21.492Z"
   },
   {
    "duration": 7,
    "start_time": "2024-03-28T19:16:21.501Z"
   },
   {
    "duration": 143,
    "start_time": "2024-03-28T19:16:21.509Z"
   },
   {
    "duration": 204,
    "start_time": "2024-03-28T19:16:21.655Z"
   },
   {
    "duration": 4,
    "start_time": "2024-03-28T19:16:21.861Z"
   },
   {
    "duration": 5,
    "start_time": "2024-03-28T19:16:21.867Z"
   },
   {
    "duration": 18,
    "start_time": "2024-03-28T19:16:21.874Z"
   },
   {
    "duration": 6,
    "start_time": "2024-03-28T19:16:21.894Z"
   },
   {
    "duration": 3,
    "start_time": "2024-03-28T19:16:21.902Z"
   },
   {
    "duration": 8,
    "start_time": "2024-03-28T19:16:21.907Z"
   },
   {
    "duration": 131,
    "start_time": "2024-03-28T19:16:21.917Z"
   },
   {
    "duration": 5,
    "start_time": "2024-03-28T19:16:22.049Z"
   },
   {
    "duration": 8,
    "start_time": "2024-03-28T19:16:22.055Z"
   },
   {
    "duration": 287,
    "start_time": "2024-03-28T19:16:22.065Z"
   },
   {
    "duration": 15,
    "start_time": "2024-03-28T19:16:22.353Z"
   },
   {
    "duration": 5,
    "start_time": "2024-03-28T19:16:22.369Z"
   },
   {
    "duration": 7,
    "start_time": "2024-03-28T19:16:22.375Z"
   },
   {
    "duration": 215,
    "start_time": "2024-03-28T19:16:22.383Z"
   },
   {
    "duration": 4,
    "start_time": "2024-03-28T19:16:22.599Z"
   },
   {
    "duration": 14,
    "start_time": "2024-03-28T19:16:22.605Z"
   },
   {
    "duration": 154,
    "start_time": "2024-03-28T19:16:22.620Z"
   },
   {
    "duration": 4,
    "start_time": "2024-03-28T19:16:22.775Z"
   },
   {
    "duration": 5,
    "start_time": "2024-03-28T19:16:22.780Z"
   },
   {
    "duration": 85,
    "start_time": "2024-03-28T19:16:22.786Z"
   },
   {
    "duration": 7,
    "start_time": "2024-03-28T19:16:22.872Z"
   },
   {
    "duration": 189,
    "start_time": "2024-03-28T19:16:22.881Z"
   },
   {
    "duration": 7,
    "start_time": "2024-03-28T19:16:23.072Z"
   },
   {
    "duration": 222,
    "start_time": "2024-03-28T19:16:23.081Z"
   },
   {
    "duration": 8,
    "start_time": "2024-03-28T19:16:23.304Z"
   },
   {
    "duration": 211,
    "start_time": "2024-03-28T19:16:23.313Z"
   },
   {
    "duration": 3,
    "start_time": "2024-03-28T19:16:23.525Z"
   },
   {
    "duration": 18,
    "start_time": "2024-03-28T19:16:23.530Z"
   },
   {
    "duration": 14,
    "start_time": "2024-03-28T19:16:23.550Z"
   },
   {
    "duration": 19,
    "start_time": "2024-03-28T19:16:23.566Z"
   },
   {
    "duration": 17,
    "start_time": "2024-03-28T19:16:23.587Z"
   },
   {
    "duration": 5,
    "start_time": "2024-03-28T19:16:23.606Z"
   },
   {
    "duration": 39,
    "start_time": "2024-03-28T19:16:23.613Z"
   },
   {
    "duration": 11,
    "start_time": "2024-03-28T19:16:23.653Z"
   },
   {
    "duration": 7,
    "start_time": "2024-03-28T19:16:23.666Z"
   },
   {
    "duration": 14,
    "start_time": "2024-03-28T19:16:23.675Z"
   },
   {
    "duration": 7,
    "start_time": "2024-03-28T19:16:23.690Z"
   },
   {
    "duration": 16,
    "start_time": "2024-03-28T19:16:23.698Z"
   },
   {
    "duration": 10,
    "start_time": "2024-03-28T19:16:23.715Z"
   },
   {
    "duration": 190,
    "start_time": "2024-03-28T19:16:23.726Z"
   },
   {
    "duration": 7,
    "start_time": "2024-03-28T19:16:23.918Z"
   },
   {
    "duration": 257,
    "start_time": "2024-03-28T19:16:23.926Z"
   },
   {
    "duration": 7,
    "start_time": "2024-03-28T19:16:24.184Z"
   },
   {
    "duration": 178,
    "start_time": "2024-03-28T19:16:24.193Z"
   },
   {
    "duration": 7,
    "start_time": "2024-03-28T19:16:24.373Z"
   },
   {
    "duration": 164,
    "start_time": "2024-03-28T19:16:24.382Z"
   },
   {
    "duration": 5,
    "start_time": "2024-03-28T19:16:24.547Z"
   },
   {
    "duration": 7,
    "start_time": "2024-03-28T19:16:24.553Z"
   },
   {
    "duration": 6,
    "start_time": "2024-03-28T19:16:24.561Z"
   },
   {
    "duration": 29,
    "start_time": "2024-03-28T19:16:24.569Z"
   },
   {
    "duration": 10,
    "start_time": "2024-03-28T19:16:24.600Z"
   },
   {
    "duration": 37,
    "start_time": "2024-03-28T19:16:24.612Z"
   },
   {
    "duration": 4,
    "start_time": "2024-03-28T19:16:24.651Z"
   },
   {
    "duration": 254,
    "start_time": "2024-03-28T19:16:24.661Z"
   },
   {
    "duration": 6,
    "start_time": "2024-03-28T19:16:24.916Z"
   },
   {
    "duration": 15,
    "start_time": "2024-03-28T19:16:24.924Z"
   },
   {
    "duration": 11,
    "start_time": "2024-03-28T19:16:24.947Z"
   },
   {
    "duration": 18,
    "start_time": "2024-03-28T19:16:24.960Z"
   },
   {
    "duration": 9,
    "start_time": "2024-03-28T19:16:24.980Z"
   },
   {
    "duration": 4,
    "start_time": "2024-03-28T19:16:24.991Z"
   },
   {
    "duration": 4,
    "start_time": "2024-03-28T19:16:24.997Z"
   },
   {
    "duration": 6,
    "start_time": "2024-03-28T19:16:25.002Z"
   },
   {
    "duration": 9,
    "start_time": "2024-03-28T19:16:25.010Z"
   },
   {
    "duration": 19,
    "start_time": "2024-03-28T19:16:37.646Z"
   },
   {
    "duration": 44,
    "start_time": "2024-04-03T10:39:12.034Z"
   },
   {
    "duration": 1018,
    "start_time": "2024-04-03T10:39:26.258Z"
   },
   {
    "duration": 99,
    "start_time": "2024-04-03T10:39:27.952Z"
   },
   {
    "duration": 131,
    "start_time": "2024-04-03T10:39:28.113Z"
   },
   {
    "duration": 66,
    "start_time": "2024-04-03T10:39:28.284Z"
   },
   {
    "duration": 14,
    "start_time": "2024-04-03T10:39:28.798Z"
   },
   {
    "duration": 9,
    "start_time": "2024-04-03T10:39:28.966Z"
   },
   {
    "duration": 6,
    "start_time": "2024-04-03T10:39:29.141Z"
   },
   {
    "duration": 10,
    "start_time": "2024-04-03T10:39:29.557Z"
   },
   {
    "duration": 11,
    "start_time": "2024-04-03T10:39:29.915Z"
   },
   {
    "duration": 10,
    "start_time": "2024-04-03T10:39:30.281Z"
   },
   {
    "duration": 18,
    "start_time": "2024-04-03T10:39:30.841Z"
   },
   {
    "duration": 58,
    "start_time": "2024-04-03T10:39:31.163Z"
   },
   {
    "duration": 209,
    "start_time": "2024-04-03T10:39:31.836Z"
   },
   {
    "duration": 224,
    "start_time": "2024-04-03T10:39:32.697Z"
   },
   {
    "duration": 239,
    "start_time": "2024-04-03T10:39:32.923Z"
   },
   {
    "duration": 3,
    "start_time": "2024-04-03T10:39:34.137Z"
   },
   {
    "duration": 9,
    "start_time": "2024-04-03T10:39:35.274Z"
   },
   {
    "duration": 31,
    "start_time": "2024-04-03T10:39:35.285Z"
   },
   {
    "duration": 17,
    "start_time": "2024-04-03T10:39:35.318Z"
   },
   {
    "duration": 27,
    "start_time": "2024-04-03T10:39:35.337Z"
   },
   {
    "duration": 23,
    "start_time": "2024-04-03T10:39:35.365Z"
   },
   {
    "duration": 5,
    "start_time": "2024-04-03T10:39:35.879Z"
   },
   {
    "duration": 8,
    "start_time": "2024-04-03T10:39:36.017Z"
   },
   {
    "duration": 5,
    "start_time": "2024-04-03T10:39:37.298Z"
   },
   {
    "duration": 6,
    "start_time": "2024-04-03T10:39:37.462Z"
   },
   {
    "duration": 7,
    "start_time": "2024-04-03T10:39:37.637Z"
   },
   {
    "duration": 128,
    "start_time": "2024-04-03T10:39:38.185Z"
   },
   {
    "duration": 207,
    "start_time": "2024-04-03T10:39:39.074Z"
   },
   {
    "duration": 4,
    "start_time": "2024-04-03T10:39:39.563Z"
   },
   {
    "duration": 5,
    "start_time": "2024-04-03T10:39:40.228Z"
   },
   {
    "duration": 7,
    "start_time": "2024-04-03T10:39:40.589Z"
   },
   {
    "duration": 7,
    "start_time": "2024-04-03T10:39:40.748Z"
   },
   {
    "duration": 3,
    "start_time": "2024-04-03T10:39:40.942Z"
   },
   {
    "duration": 9,
    "start_time": "2024-04-03T10:39:41.464Z"
   },
   {
    "duration": 108,
    "start_time": "2024-04-03T10:39:41.807Z"
   },
   {
    "duration": 5,
    "start_time": "2024-04-03T10:39:42.351Z"
   },
   {
    "duration": 9,
    "start_time": "2024-04-03T10:39:42.520Z"
   },
   {
    "duration": 244,
    "start_time": "2024-04-03T10:39:43.373Z"
   },
   {
    "duration": 17,
    "start_time": "2024-04-03T10:39:43.758Z"
   },
   {
    "duration": 6,
    "start_time": "2024-04-03T10:39:44.104Z"
   },
   {
    "duration": 5,
    "start_time": "2024-04-03T10:39:44.442Z"
   },
   {
    "duration": 325,
    "start_time": "2024-04-03T10:39:44.820Z"
   },
   {
    "duration": 4,
    "start_time": "2024-04-03T10:39:45.342Z"
   },
   {
    "duration": 13,
    "start_time": "2024-04-03T10:39:46.221Z"
   },
   {
    "duration": 155,
    "start_time": "2024-04-03T10:39:46.404Z"
   },
   {
    "duration": 4,
    "start_time": "2024-04-03T10:39:46.933Z"
   },
   {
    "duration": 4,
    "start_time": "2024-04-03T10:39:47.115Z"
   },
   {
    "duration": 78,
    "start_time": "2024-04-03T10:39:47.281Z"
   },
   {
    "duration": 8,
    "start_time": "2024-04-03T10:39:47.986Z"
   },
   {
    "duration": 192,
    "start_time": "2024-04-03T10:39:48.360Z"
   },
   {
    "duration": 8,
    "start_time": "2024-04-03T10:39:49.318Z"
   },
   {
    "duration": 232,
    "start_time": "2024-04-03T10:39:49.509Z"
   },
   {
    "duration": 9,
    "start_time": "2024-04-03T10:39:50.410Z"
   },
   {
    "duration": 220,
    "start_time": "2024-04-03T10:39:50.596Z"
   },
   {
    "duration": 3,
    "start_time": "2024-04-03T10:39:52.011Z"
   },
   {
    "duration": 11,
    "start_time": "2024-04-03T10:39:52.764Z"
   },
   {
    "duration": 10,
    "start_time": "2024-04-03T10:39:53.335Z"
   },
   {
    "duration": 20,
    "start_time": "2024-04-03T10:39:54.039Z"
   },
   {
    "duration": 13,
    "start_time": "2024-04-03T10:39:54.406Z"
   },
   {
    "duration": 4,
    "start_time": "2024-04-03T10:39:54.586Z"
   },
   {
    "duration": 14,
    "start_time": "2024-04-03T10:39:54.760Z"
   },
   {
    "duration": 3,
    "start_time": "2024-04-03T10:39:55.113Z"
   },
   {
    "duration": 7,
    "start_time": "2024-04-03T10:39:56.123Z"
   },
   {
    "duration": 16,
    "start_time": "2024-04-03T10:39:56.469Z"
   },
   {
    "duration": 6,
    "start_time": "2024-04-03T10:39:56.832Z"
   },
   {
    "duration": 15,
    "start_time": "2024-04-03T10:39:57.238Z"
   },
   {
    "duration": 8,
    "start_time": "2024-04-03T10:39:58.139Z"
   },
   {
    "duration": 204,
    "start_time": "2024-04-03T10:39:58.390Z"
   },
   {
    "duration": 8,
    "start_time": "2024-04-03T10:39:58.596Z"
   },
   {
    "duration": 192,
    "start_time": "2024-04-03T10:39:58.785Z"
   },
   {
    "duration": 9,
    "start_time": "2024-04-03T10:39:59.506Z"
   },
   {
    "duration": 185,
    "start_time": "2024-04-03T10:39:59.713Z"
   },
   {
    "duration": 8,
    "start_time": "2024-04-03T10:39:59.913Z"
   },
   {
    "duration": 163,
    "start_time": "2024-04-03T10:40:00.104Z"
   },
   {
    "duration": 5,
    "start_time": "2024-04-03T10:40:01.780Z"
   },
   {
    "duration": 121,
    "start_time": "2024-04-03T10:40:01.845Z"
   },
   {
    "duration": 93,
    "start_time": "2024-04-03T10:40:01.968Z"
   },
   {
    "duration": 108,
    "start_time": "2024-04-03T10:40:02.064Z"
   },
   {
    "duration": 136,
    "start_time": "2024-04-03T10:40:02.174Z"
   },
   {
    "duration": 7,
    "start_time": "2024-04-03T10:40:03.529Z"
   },
   {
    "duration": 5,
    "start_time": "2024-04-03T10:40:04.400Z"
   },
   {
    "duration": 280,
    "start_time": "2024-04-03T10:40:04.811Z"
   },
   {
    "duration": 6,
    "start_time": "2024-04-03T10:40:05.093Z"
   },
   {
    "duration": 11,
    "start_time": "2024-04-03T10:40:05.450Z"
   },
   {
    "duration": 100,
    "start_time": "2024-04-03T10:40:05.650Z"
   },
   {
    "duration": 4,
    "start_time": "2024-04-03T10:40:06.261Z"
   },
   {
    "duration": 11,
    "start_time": "2024-04-03T10:40:06.813Z"
   },
   {
    "duration": 6,
    "start_time": "2024-04-03T10:40:10.476Z"
   },
   {
    "duration": 5,
    "start_time": "2024-04-03T10:40:12.212Z"
   },
   {
    "duration": 5,
    "start_time": "2024-04-03T10:40:12.966Z"
   },
   {
    "duration": 21,
    "start_time": "2024-04-03T10:40:16.578Z"
   },
   {
    "duration": 21,
    "start_time": "2024-04-03T10:49:17.766Z"
   },
   {
    "duration": 14,
    "start_time": "2024-04-03T10:49:33.036Z"
   },
   {
    "duration": 14,
    "start_time": "2024-04-03T10:50:00.950Z"
   },
   {
    "duration": 178,
    "start_time": "2024-04-03T11:03:41.148Z"
   },
   {
    "duration": 5,
    "start_time": "2024-04-03T11:04:19.951Z"
   },
   {
    "duration": 20,
    "start_time": "2024-04-03T11:20:12.928Z"
   },
   {
    "duration": 84,
    "start_time": "2024-04-03T11:30:00.680Z"
   },
   {
    "duration": 167,
    "start_time": "2024-04-03T11:30:10.076Z"
   },
   {
    "duration": 9,
    "start_time": "2024-04-03T11:31:33.009Z"
   },
   {
    "duration": 153,
    "start_time": "2024-04-03T11:32:23.213Z"
   },
   {
    "duration": 8,
    "start_time": "2024-04-03T11:32:39.807Z"
   },
   {
    "duration": 965,
    "start_time": "2024-04-03T13:37:30.069Z"
   },
   {
    "duration": 81,
    "start_time": "2024-04-03T13:37:50.928Z"
   },
   {
    "duration": 10,
    "start_time": "2024-04-03T13:39:39.420Z"
   },
   {
    "duration": 7,
    "start_time": "2024-04-03T13:39:47.848Z"
   },
   {
    "duration": 619,
    "start_time": "2024-04-03T13:40:03.244Z"
   },
   {
    "duration": 100,
    "start_time": "2024-04-03T13:40:04.626Z"
   },
   {
    "duration": 132,
    "start_time": "2024-04-03T13:40:04.778Z"
   },
   {
    "duration": 66,
    "start_time": "2024-04-03T13:40:04.941Z"
   },
   {
    "duration": 13,
    "start_time": "2024-04-03T13:40:05.488Z"
   },
   {
    "duration": 10,
    "start_time": "2024-04-03T13:40:05.656Z"
   },
   {
    "duration": 7,
    "start_time": "2024-04-03T13:40:05.838Z"
   },
   {
    "duration": 10,
    "start_time": "2024-04-03T13:40:06.187Z"
   },
   {
    "duration": 11,
    "start_time": "2024-04-03T13:40:06.735Z"
   },
   {
    "duration": 10,
    "start_time": "2024-04-03T13:40:06.831Z"
   },
   {
    "duration": 17,
    "start_time": "2024-04-03T13:40:06.941Z"
   },
   {
    "duration": 59,
    "start_time": "2024-04-03T13:40:07.006Z"
   },
   {
    "duration": 209,
    "start_time": "2024-04-03T13:40:07.119Z"
   },
   {
    "duration": 232,
    "start_time": "2024-04-03T13:40:07.740Z"
   },
   {
    "duration": 248,
    "start_time": "2024-04-03T13:40:07.974Z"
   },
   {
    "duration": 3,
    "start_time": "2024-04-03T13:40:09.574Z"
   },
   {
    "duration": 9,
    "start_time": "2024-04-03T13:40:09.647Z"
   },
   {
    "duration": 4,
    "start_time": "2024-04-03T13:40:09.966Z"
   },
   {
    "duration": 6,
    "start_time": "2024-04-03T13:40:10.324Z"
   },
   {
    "duration": 5,
    "start_time": "2024-04-03T13:40:11.299Z"
   },
   {
    "duration": 8,
    "start_time": "2024-04-03T13:40:11.716Z"
   },
   {
    "duration": 5,
    "start_time": "2024-04-03T13:40:12.855Z"
   },
   {
    "duration": 8,
    "start_time": "2024-04-03T13:40:13.045Z"
   },
   {
    "duration": 3,
    "start_time": "2024-04-03T13:40:14.193Z"
   },
   {
    "duration": 7,
    "start_time": "2024-04-03T13:40:14.391Z"
   },
   {
    "duration": 9,
    "start_time": "2024-04-03T13:40:14.592Z"
   },
   {
    "duration": 196,
    "start_time": "2024-04-03T13:40:15.192Z"
   },
   {
    "duration": 209,
    "start_time": "2024-04-03T13:40:16.177Z"
   },
   {
    "duration": 4,
    "start_time": "2024-04-03T13:40:16.603Z"
   },
   {
    "duration": 6,
    "start_time": "2024-04-03T13:40:17.390Z"
   },
   {
    "duration": 6,
    "start_time": "2024-04-03T13:40:17.787Z"
   },
   {
    "duration": 6,
    "start_time": "2024-04-03T13:40:17.973Z"
   },
   {
    "duration": 3,
    "start_time": "2024-04-03T13:40:18.471Z"
   },
   {
    "duration": 8,
    "start_time": "2024-04-03T13:40:18.654Z"
   },
   {
    "duration": 109,
    "start_time": "2024-04-03T13:40:18.990Z"
   },
   {
    "duration": 5,
    "start_time": "2024-04-03T13:40:19.395Z"
   },
   {
    "duration": 9,
    "start_time": "2024-04-03T13:40:19.603Z"
   },
   {
    "duration": 267,
    "start_time": "2024-04-03T13:40:20.596Z"
   },
   {
    "duration": 19,
    "start_time": "2024-04-03T13:40:20.996Z"
   },
   {
    "duration": 6,
    "start_time": "2024-04-03T13:40:21.385Z"
   },
   {
    "duration": 5,
    "start_time": "2024-04-03T13:40:21.802Z"
   },
   {
    "duration": 249,
    "start_time": "2024-04-03T13:40:22.212Z"
   },
   {
    "duration": 5,
    "start_time": "2024-04-03T13:40:22.838Z"
   },
   {
    "duration": 16,
    "start_time": "2024-04-03T13:40:23.865Z"
   },
   {
    "duration": 165,
    "start_time": "2024-04-03T13:40:24.076Z"
   },
   {
    "duration": 4,
    "start_time": "2024-04-03T13:40:24.667Z"
   },
   {
    "duration": 5,
    "start_time": "2024-04-03T13:40:24.874Z"
   },
   {
    "duration": 83,
    "start_time": "2024-04-03T13:40:25.091Z"
   },
   {
    "duration": 7,
    "start_time": "2024-04-03T13:40:25.907Z"
   },
   {
    "duration": 218,
    "start_time": "2024-04-03T13:40:26.109Z"
   },
   {
    "duration": 8,
    "start_time": "2024-04-03T13:40:26.927Z"
   },
   {
    "duration": 251,
    "start_time": "2024-04-03T13:40:26.978Z"
   },
   {
    "duration": 8,
    "start_time": "2024-04-03T13:40:27.231Z"
   },
   {
    "duration": 344,
    "start_time": "2024-04-03T13:40:27.240Z"
   },
   {
    "duration": 3,
    "start_time": "2024-04-03T13:40:28.507Z"
   },
   {
    "duration": 9,
    "start_time": "2024-04-03T13:40:28.853Z"
   },
   {
    "duration": 9,
    "start_time": "2024-04-03T13:40:29.392Z"
   },
   {
    "duration": 16,
    "start_time": "2024-04-03T13:40:29.463Z"
   },
   {
    "duration": 14,
    "start_time": "2024-04-03T13:40:29.542Z"
   },
   {
    "duration": 6,
    "start_time": "2024-04-03T13:40:29.576Z"
   },
   {
    "duration": 15,
    "start_time": "2024-04-03T13:40:29.612Z"
   },
   {
    "duration": 3,
    "start_time": "2024-04-03T13:40:29.692Z"
   },
   {
    "duration": 8,
    "start_time": "2024-04-03T13:40:29.847Z"
   },
   {
    "duration": 16,
    "start_time": "2024-04-03T13:40:29.963Z"
   },
   {
    "duration": 6,
    "start_time": "2024-04-03T13:40:30.432Z"
   },
   {
    "duration": 15,
    "start_time": "2024-04-03T13:40:30.952Z"
   },
   {
    "duration": 99,
    "start_time": "2024-04-03T13:40:31.130Z"
   },
   {
    "duration": 254,
    "start_time": "2024-04-03T13:40:31.231Z"
   },
   {
    "duration": 15,
    "start_time": "2024-04-03T13:40:31.487Z"
   },
   {
    "duration": 314,
    "start_time": "2024-04-03T13:40:31.505Z"
   },
   {
    "duration": 8,
    "start_time": "2024-04-03T13:40:31.821Z"
   },
   {
    "duration": 249,
    "start_time": "2024-04-03T13:40:31.831Z"
   },
   {
    "duration": 8,
    "start_time": "2024-04-03T13:40:32.082Z"
   },
   {
    "duration": 189,
    "start_time": "2024-04-03T13:40:32.094Z"
   },
   {
    "duration": 6,
    "start_time": "2024-04-03T13:40:32.678Z"
   },
   {
    "duration": 4,
    "start_time": "2024-04-03T13:40:32.755Z"
   },
   {
    "duration": 6,
    "start_time": "2024-04-03T13:40:32.900Z"
   },
   {
    "duration": 32,
    "start_time": "2024-04-03T13:40:33.349Z"
   },
   {
    "duration": 12,
    "start_time": "2024-04-03T13:40:33.887Z"
   },
   {
    "duration": 8,
    "start_time": "2024-04-03T13:40:34.124Z"
   },
   {
    "duration": 4,
    "start_time": "2024-04-03T13:40:34.504Z"
   },
   {
    "duration": 265,
    "start_time": "2024-04-03T13:40:34.903Z"
   },
   {
    "duration": 5,
    "start_time": "2024-04-03T13:40:35.170Z"
   },
   {
    "duration": 11,
    "start_time": "2024-04-03T13:40:35.534Z"
   },
   {
    "duration": 101,
    "start_time": "2024-04-03T13:40:36.045Z"
   },
   {
    "duration": 21,
    "start_time": "2024-04-03T13:40:36.150Z"
   },
   {
    "duration": 10,
    "start_time": "2024-04-03T13:40:36.220Z"
   },
   {
    "duration": 7,
    "start_time": "2024-04-03T13:40:37.856Z"
   },
   {
    "duration": 5,
    "start_time": "2024-04-03T13:40:39.779Z"
   },
   {
    "duration": 5,
    "start_time": "2024-04-03T13:40:40.686Z"
   },
   {
    "duration": 13,
    "start_time": "2024-04-03T13:40:44.126Z"
   },
   {
    "duration": 15,
    "start_time": "2024-04-03T13:40:44.306Z"
   },
   {
    "duration": 182,
    "start_time": "2024-04-03T13:40:45.175Z"
   },
   {
    "duration": 5,
    "start_time": "2024-04-03T13:40:45.587Z"
   },
   {
    "duration": 173,
    "start_time": "2024-04-03T13:40:47.352Z"
   },
   {
    "duration": 8,
    "start_time": "2024-04-03T13:40:47.704Z"
   },
   {
    "duration": 193,
    "start_time": "2024-04-03T13:40:48.346Z"
   },
   {
    "duration": 8,
    "start_time": "2024-04-03T13:40:48.590Z"
   },
   {
    "duration": 2,
    "start_time": "2024-04-03T13:40:50.669Z"
   },
   {
    "duration": 39,
    "start_time": "2024-04-03T13:40:51.142Z"
   },
   {
    "duration": 318,
    "start_time": "2024-04-03T13:42:35.426Z"
   },
   {
    "duration": 774,
    "start_time": "2024-04-03T15:38:09.006Z"
   },
   {
    "duration": 621,
    "start_time": "2024-04-03T15:38:27.728Z"
   },
   {
    "duration": 157,
    "start_time": "2024-04-03T15:38:28.453Z"
   },
   {
    "duration": 137,
    "start_time": "2024-04-03T15:38:28.612Z"
   },
   {
    "duration": 67,
    "start_time": "2024-04-03T15:38:28.790Z"
   },
   {
    "duration": 21,
    "start_time": "2024-04-03T15:38:29.406Z"
   },
   {
    "duration": 17,
    "start_time": "2024-04-03T15:38:29.593Z"
   },
   {
    "duration": 12,
    "start_time": "2024-04-03T15:38:29.789Z"
   },
   {
    "duration": 13,
    "start_time": "2024-04-03T15:38:30.328Z"
   },
   {
    "duration": 21,
    "start_time": "2024-04-03T15:38:30.420Z"
   },
   {
    "duration": 19,
    "start_time": "2024-04-03T15:38:30.489Z"
   },
   {
    "duration": 23,
    "start_time": "2024-04-03T15:38:30.591Z"
   },
   {
    "duration": 104,
    "start_time": "2024-04-03T15:38:30.666Z"
   },
   {
    "duration": 290,
    "start_time": "2024-04-03T15:38:30.772Z"
   },
   {
    "duration": 251,
    "start_time": "2024-04-03T15:38:31.064Z"
   },
   {
    "duration": 289,
    "start_time": "2024-04-03T15:38:31.317Z"
   },
   {
    "duration": 3,
    "start_time": "2024-04-03T15:38:32.248Z"
   },
   {
    "duration": 10,
    "start_time": "2024-04-03T15:38:32.318Z"
   },
   {
    "duration": 3,
    "start_time": "2024-04-03T15:38:32.469Z"
   },
   {
    "duration": 6,
    "start_time": "2024-04-03T15:38:32.897Z"
   },
   {
    "duration": 6,
    "start_time": "2024-04-03T15:38:33.533Z"
   },
   {
    "duration": 8,
    "start_time": "2024-04-03T15:38:33.607Z"
   },
   {
    "duration": 5,
    "start_time": "2024-04-03T15:38:33.745Z"
   },
   {
    "duration": 8,
    "start_time": "2024-04-03T15:38:33.838Z"
   },
   {
    "duration": 4,
    "start_time": "2024-04-03T15:38:34.514Z"
   },
   {
    "duration": 7,
    "start_time": "2024-04-03T15:38:34.557Z"
   },
   {
    "duration": 18,
    "start_time": "2024-04-03T15:38:34.591Z"
   },
   {
    "duration": 132,
    "start_time": "2024-04-03T15:38:34.694Z"
   },
   {
    "duration": 255,
    "start_time": "2024-04-03T15:38:34.853Z"
   },
   {
    "duration": 5,
    "start_time": "2024-04-03T15:38:35.411Z"
   },
   {
    "duration": 5,
    "start_time": "2024-04-03T15:38:36.007Z"
   },
   {
    "duration": 7,
    "start_time": "2024-04-03T15:38:36.071Z"
   },
   {
    "duration": 24,
    "start_time": "2024-04-03T15:38:36.119Z"
   },
   {
    "duration": 2,
    "start_time": "2024-04-03T15:38:36.158Z"
   },
   {
    "duration": 9,
    "start_time": "2024-04-03T15:38:36.255Z"
   },
   {
    "duration": 111,
    "start_time": "2024-04-03T15:38:36.334Z"
   },
   {
    "duration": 5,
    "start_time": "2024-04-03T15:38:36.753Z"
   },
   {
    "duration": 8,
    "start_time": "2024-04-03T15:38:37.267Z"
   },
   {
    "duration": 272,
    "start_time": "2024-04-03T15:38:37.438Z"
   },
   {
    "duration": 18,
    "start_time": "2024-04-03T15:38:37.712Z"
   },
   {
    "duration": 19,
    "start_time": "2024-04-03T15:38:37.731Z"
   },
   {
    "duration": 30,
    "start_time": "2024-04-03T15:38:37.752Z"
   },
   {
    "duration": 321,
    "start_time": "2024-04-03T15:38:37.858Z"
   },
   {
    "duration": 5,
    "start_time": "2024-04-03T15:38:38.437Z"
   },
   {
    "duration": 15,
    "start_time": "2024-04-03T15:38:38.606Z"
   },
   {
    "duration": 172,
    "start_time": "2024-04-03T15:38:38.644Z"
   },
   {
    "duration": 3,
    "start_time": "2024-04-03T15:38:38.818Z"
   },
   {
    "duration": 21,
    "start_time": "2024-04-03T15:38:38.823Z"
   },
   {
    "duration": 99,
    "start_time": "2024-04-03T15:38:38.926Z"
   },
   {
    "duration": 11,
    "start_time": "2024-04-03T15:38:39.499Z"
   },
   {
    "duration": 226,
    "start_time": "2024-04-03T15:38:39.542Z"
   },
   {
    "duration": 8,
    "start_time": "2024-04-03T15:38:39.770Z"
   },
   {
    "duration": 279,
    "start_time": "2024-04-03T15:38:39.780Z"
   },
   {
    "duration": 9,
    "start_time": "2024-04-03T15:38:40.061Z"
   },
   {
    "duration": 248,
    "start_time": "2024-04-03T15:38:40.454Z"
   },
   {
    "duration": 4,
    "start_time": "2024-04-03T15:38:40.715Z"
   },
   {
    "duration": 10,
    "start_time": "2024-04-03T15:38:41.281Z"
   },
   {
    "duration": 9,
    "start_time": "2024-04-03T15:38:41.822Z"
   },
   {
    "duration": 26,
    "start_time": "2024-04-03T15:38:41.889Z"
   },
   {
    "duration": 14,
    "start_time": "2024-04-03T15:38:41.964Z"
   },
   {
    "duration": 23,
    "start_time": "2024-04-03T15:38:42.006Z"
   },
   {
    "duration": 23,
    "start_time": "2024-04-03T15:38:42.036Z"
   },
   {
    "duration": 3,
    "start_time": "2024-04-03T15:38:42.162Z"
   },
   {
    "duration": 8,
    "start_time": "2024-04-03T15:38:42.796Z"
   },
   {
    "duration": 15,
    "start_time": "2024-04-03T15:38:42.867Z"
   },
   {
    "duration": 6,
    "start_time": "2024-04-03T15:38:43.506Z"
   },
   {
    "duration": 16,
    "start_time": "2024-04-03T15:38:43.562Z"
   },
   {
    "duration": 9,
    "start_time": "2024-04-03T15:38:43.732Z"
   },
   {
    "duration": 199,
    "start_time": "2024-04-03T15:38:43.876Z"
   },
   {
    "duration": 8,
    "start_time": "2024-04-03T15:38:44.391Z"
   },
   {
    "duration": 181,
    "start_time": "2024-04-03T15:38:44.428Z"
   },
   {
    "duration": 9,
    "start_time": "2024-04-03T15:38:44.610Z"
   },
   {
    "duration": 201,
    "start_time": "2024-04-03T15:38:44.621Z"
   },
   {
    "duration": 9,
    "start_time": "2024-04-03T15:38:44.824Z"
   },
   {
    "duration": 200,
    "start_time": "2024-04-03T15:38:44.834Z"
   },
   {
    "duration": 5,
    "start_time": "2024-04-03T15:38:45.506Z"
   },
   {
    "duration": 3,
    "start_time": "2024-04-03T15:38:45.683Z"
   },
   {
    "duration": 6,
    "start_time": "2024-04-03T15:38:46.223Z"
   },
   {
    "duration": 31,
    "start_time": "2024-04-03T15:38:46.310Z"
   },
   {
    "duration": 12,
    "start_time": "2024-04-03T15:38:46.382Z"
   },
   {
    "duration": 9,
    "start_time": "2024-04-03T15:38:47.186Z"
   },
   {
    "duration": 6,
    "start_time": "2024-04-03T15:38:47.260Z"
   },
   {
    "duration": 303,
    "start_time": "2024-04-03T15:38:47.326Z"
   },
   {
    "duration": 6,
    "start_time": "2024-04-03T15:38:47.631Z"
   },
   {
    "duration": 11,
    "start_time": "2024-04-03T15:38:47.977Z"
   },
   {
    "duration": 96,
    "start_time": "2024-04-03T15:38:48.022Z"
   },
   {
    "duration": 25,
    "start_time": "2024-04-03T15:38:48.125Z"
   },
   {
    "duration": 11,
    "start_time": "2024-04-03T15:38:48.186Z"
   },
   {
    "duration": 6,
    "start_time": "2024-04-03T15:38:49.713Z"
   },
   {
    "duration": 4,
    "start_time": "2024-04-03T15:38:50.601Z"
   },
   {
    "duration": 5,
    "start_time": "2024-04-03T15:38:51.329Z"
   },
   {
    "duration": 13,
    "start_time": "2024-04-03T15:38:53.870Z"
   },
   {
    "duration": 16,
    "start_time": "2024-04-03T15:38:54.067Z"
   },
   {
    "duration": 196,
    "start_time": "2024-04-03T15:38:54.972Z"
   },
   {
    "duration": 5,
    "start_time": "2024-04-03T15:38:55.343Z"
   },
   {
    "duration": 176,
    "start_time": "2024-04-03T15:38:57.027Z"
   },
   {
    "duration": 10,
    "start_time": "2024-04-03T15:38:57.376Z"
   },
   {
    "duration": 163,
    "start_time": "2024-04-03T15:38:57.823Z"
   },
   {
    "duration": 7,
    "start_time": "2024-04-03T15:38:58.281Z"
   },
   {
    "duration": 670,
    "start_time": "2024-04-03T15:38:59.894Z"
   },
   {
    "duration": 7,
    "start_time": "2024-04-03T15:39:01.645Z"
   },
   {
    "duration": 6,
    "start_time": "2024-04-03T15:40:11.749Z"
   },
   {
    "duration": 6,
    "start_time": "2024-04-03T15:40:54.107Z"
   },
   {
    "duration": 5,
    "start_time": "2024-04-03T15:40:55.214Z"
   },
   {
    "duration": 7,
    "start_time": "2024-04-03T15:43:34.893Z"
   },
   {
    "duration": 421,
    "start_time": "2024-04-03T15:53:32.677Z"
   },
   {
    "duration": 24,
    "start_time": "2024-04-03T16:03:08.253Z"
   },
   {
    "duration": 1479,
    "start_time": "2024-04-03T16:03:36.422Z"
   },
   {
    "duration": 57,
    "start_time": "2024-04-03T16:03:52.040Z"
   },
   {
    "duration": 68,
    "start_time": "2024-04-03T16:04:38.731Z"
   },
   {
    "duration": 5,
    "start_time": "2024-04-03T16:10:43.597Z"
   },
   {
    "duration": 5,
    "start_time": "2024-04-03T16:11:02.072Z"
   },
   {
    "duration": 10,
    "start_time": "2024-04-03T16:12:40.247Z"
   },
   {
    "duration": 11,
    "start_time": "2024-04-03T16:12:46.917Z"
   },
   {
    "duration": 1738,
    "start_time": "2024-04-03T16:13:15.158Z"
   },
   {
    "duration": 5,
    "start_time": "2024-04-03T16:13:35.637Z"
   },
   {
    "duration": 73,
    "start_time": "2024-04-03T16:15:54.422Z"
   },
   {
    "duration": 3,
    "start_time": "2024-04-03T16:22:43.474Z"
   },
   {
    "duration": 28,
    "start_time": "2024-04-03T16:22:43.636Z"
   },
   {
    "duration": 26,
    "start_time": "2024-04-03T16:22:43.666Z"
   },
   {
    "duration": 15,
    "start_time": "2024-04-03T16:22:43.693Z"
   },
   {
    "duration": 10,
    "start_time": "2024-04-03T16:22:43.746Z"
   },
   {
    "duration": 9,
    "start_time": "2024-04-03T16:22:43.778Z"
   },
   {
    "duration": 7,
    "start_time": "2024-04-03T16:22:43.827Z"
   },
   {
    "duration": 10,
    "start_time": "2024-04-03T16:22:43.891Z"
   },
   {
    "duration": 10,
    "start_time": "2024-04-03T16:22:43.951Z"
   },
   {
    "duration": 9,
    "start_time": "2024-04-03T16:22:44.013Z"
   },
   {
    "duration": 19,
    "start_time": "2024-04-03T16:22:44.125Z"
   },
   {
    "duration": 19,
    "start_time": "2024-04-03T16:22:44.185Z"
   },
   {
    "duration": 200,
    "start_time": "2024-04-03T16:22:44.294Z"
   },
   {
    "duration": 240,
    "start_time": "2024-04-03T16:22:44.495Z"
   },
   {
    "duration": 290,
    "start_time": "2024-04-03T16:22:44.737Z"
   },
   {
    "duration": 3,
    "start_time": "2024-04-03T16:22:45.470Z"
   },
   {
    "duration": 8,
    "start_time": "2024-04-03T16:22:45.539Z"
   },
   {
    "duration": 4,
    "start_time": "2024-04-03T16:22:45.638Z"
   },
   {
    "duration": 5,
    "start_time": "2024-04-03T16:22:45.714Z"
   },
   {
    "duration": 5,
    "start_time": "2024-04-03T16:22:45.867Z"
   },
   {
    "duration": 7,
    "start_time": "2024-04-03T16:22:45.926Z"
   },
   {
    "duration": 6,
    "start_time": "2024-04-03T16:22:46.060Z"
   },
   {
    "duration": 7,
    "start_time": "2024-04-03T16:22:46.104Z"
   },
   {
    "duration": 7,
    "start_time": "2024-04-03T16:22:46.279Z"
   },
   {
    "duration": 6,
    "start_time": "2024-04-03T16:22:46.323Z"
   },
   {
    "duration": 8,
    "start_time": "2024-04-03T16:22:46.358Z"
   },
   {
    "duration": 119,
    "start_time": "2024-04-03T16:22:46.454Z"
   },
   {
    "duration": 209,
    "start_time": "2024-04-03T16:22:46.620Z"
   },
   {
    "duration": 4,
    "start_time": "2024-04-03T16:22:46.831Z"
   },
   {
    "duration": 53,
    "start_time": "2024-04-03T16:22:46.836Z"
   },
   {
    "duration": 51,
    "start_time": "2024-04-03T16:22:46.891Z"
   },
   {
    "duration": 16,
    "start_time": "2024-04-03T16:22:46.943Z"
   },
   {
    "duration": 19,
    "start_time": "2024-04-03T16:22:46.961Z"
   },
   {
    "duration": 8,
    "start_time": "2024-04-03T16:22:47.054Z"
   },
   {
    "duration": 101,
    "start_time": "2024-04-03T16:22:47.120Z"
   },
   {
    "duration": 5,
    "start_time": "2024-04-03T16:22:47.222Z"
   },
   {
    "duration": 20,
    "start_time": "2024-04-03T16:22:47.229Z"
   },
   {
    "duration": 243,
    "start_time": "2024-04-03T16:22:47.394Z"
   },
   {
    "duration": 16,
    "start_time": "2024-04-03T16:22:47.639Z"
   },
   {
    "duration": 32,
    "start_time": "2024-04-03T16:22:47.657Z"
   },
   {
    "duration": 36,
    "start_time": "2024-04-03T16:22:47.690Z"
   },
   {
    "duration": 338,
    "start_time": "2024-04-03T16:22:47.727Z"
   },
   {
    "duration": 4,
    "start_time": "2024-04-03T16:22:48.066Z"
   },
   {
    "duration": 12,
    "start_time": "2024-04-03T16:22:48.294Z"
   },
   {
    "duration": 149,
    "start_time": "2024-04-03T16:22:48.480Z"
   },
   {
    "duration": 4,
    "start_time": "2024-04-03T16:22:48.962Z"
   },
   {
    "duration": 4,
    "start_time": "2024-04-03T16:22:49.134Z"
   },
   {
    "duration": 75,
    "start_time": "2024-04-03T16:22:49.320Z"
   },
   {
    "duration": 8,
    "start_time": "2024-04-03T16:22:50.379Z"
   },
   {
    "duration": 189,
    "start_time": "2024-04-03T16:22:50.412Z"
   },
   {
    "duration": 8,
    "start_time": "2024-04-03T16:22:50.605Z"
   },
   {
    "duration": 234,
    "start_time": "2024-04-03T16:22:50.625Z"
   },
   {
    "duration": 8,
    "start_time": "2024-04-03T16:22:51.210Z"
   },
   {
    "duration": 231,
    "start_time": "2024-04-03T16:22:51.371Z"
   },
   {
    "duration": 3,
    "start_time": "2024-04-03T16:22:52.515Z"
   },
   {
    "duration": 10,
    "start_time": "2024-04-03T16:22:52.668Z"
   },
   {
    "duration": 12,
    "start_time": "2024-04-03T16:22:52.726Z"
   },
   {
    "duration": 16,
    "start_time": "2024-04-03T16:22:52.795Z"
   },
   {
    "duration": 14,
    "start_time": "2024-04-03T16:22:52.853Z"
   },
   {
    "duration": 4,
    "start_time": "2024-04-03T16:22:52.905Z"
   },
   {
    "duration": 15,
    "start_time": "2024-04-03T16:22:52.944Z"
   },
   {
    "duration": 3,
    "start_time": "2024-04-03T16:22:53.010Z"
   },
   {
    "duration": 7,
    "start_time": "2024-04-03T16:22:53.160Z"
   },
   {
    "duration": 15,
    "start_time": "2024-04-03T16:22:53.223Z"
   },
   {
    "duration": 7,
    "start_time": "2024-04-03T16:22:53.286Z"
   },
   {
    "duration": 15,
    "start_time": "2024-04-03T16:22:53.364Z"
   },
   {
    "duration": 9,
    "start_time": "2024-04-03T16:22:53.507Z"
   },
   {
    "duration": 195,
    "start_time": "2024-04-03T16:22:53.647Z"
   },
   {
    "duration": 10,
    "start_time": "2024-04-03T16:22:54.029Z"
   },
   {
    "duration": 182,
    "start_time": "2024-04-03T16:22:54.357Z"
   },
   {
    "duration": 11,
    "start_time": "2024-04-03T16:22:55.177Z"
   },
   {
    "duration": 184,
    "start_time": "2024-04-03T16:22:55.221Z"
   },
   {
    "duration": 9,
    "start_time": "2024-04-03T16:22:55.407Z"
   },
   {
    "duration": 180,
    "start_time": "2024-04-03T16:22:55.418Z"
   },
   {
    "duration": 5,
    "start_time": "2024-04-03T16:22:56.163Z"
   },
   {
    "duration": 3,
    "start_time": "2024-04-03T16:22:56.242Z"
   },
   {
    "duration": 5,
    "start_time": "2024-04-03T16:22:56.309Z"
   },
   {
    "duration": 44,
    "start_time": "2024-04-03T16:22:56.378Z"
   },
   {
    "duration": 11,
    "start_time": "2024-04-03T16:22:56.448Z"
   },
   {
    "duration": 7,
    "start_time": "2024-04-03T16:22:57.613Z"
   },
   {
    "duration": 4,
    "start_time": "2024-04-03T16:22:57.693Z"
   },
   {
    "duration": 263,
    "start_time": "2024-04-03T16:22:57.756Z"
   },
   {
    "duration": 6,
    "start_time": "2024-04-03T16:22:58.020Z"
   },
   {
    "duration": 32,
    "start_time": "2024-04-03T16:22:58.027Z"
   },
   {
    "duration": 19,
    "start_time": "2024-04-03T16:22:58.061Z"
   },
   {
    "duration": 3,
    "start_time": "2024-04-03T16:22:58.674Z"
   },
   {
    "duration": 13,
    "start_time": "2024-04-03T16:22:59.208Z"
   },
   {
    "duration": 6,
    "start_time": "2024-04-03T16:23:00.909Z"
   },
   {
    "duration": 5,
    "start_time": "2024-04-03T16:23:02.660Z"
   },
   {
    "duration": 5,
    "start_time": "2024-04-03T16:23:02.892Z"
   },
   {
    "duration": 11,
    "start_time": "2024-04-03T16:23:07.822Z"
   },
   {
    "duration": 12,
    "start_time": "2024-04-03T16:23:12.083Z"
   },
   {
    "duration": 13,
    "start_time": "2024-04-03T17:12:36.273Z"
   },
   {
    "duration": 18,
    "start_time": "2024-04-03T17:13:12.020Z"
   },
   {
    "duration": 21,
    "start_time": "2024-04-03T17:15:32.057Z"
   },
   {
    "duration": 137,
    "start_time": "2024-04-03T17:16:01.018Z"
   },
   {
    "duration": 122,
    "start_time": "2024-04-03T17:17:52.463Z"
   },
   {
    "duration": 235,
    "start_time": "2024-04-03T17:18:05.611Z"
   },
   {
    "duration": 247,
    "start_time": "2024-04-03T17:18:18.679Z"
   },
   {
    "duration": 244,
    "start_time": "2024-04-03T17:18:25.517Z"
   },
   {
    "duration": 253,
    "start_time": "2024-04-03T17:18:36.021Z"
   },
   {
    "duration": 255,
    "start_time": "2024-04-03T17:18:40.250Z"
   },
   {
    "duration": 293,
    "start_time": "2024-04-03T17:19:47.355Z"
   },
   {
    "duration": 412,
    "start_time": "2024-04-03T17:21:35.542Z"
   },
   {
    "duration": 288,
    "start_time": "2024-04-03T17:24:27.014Z"
   },
   {
    "duration": 187,
    "start_time": "2024-04-03T17:24:40.521Z"
   },
   {
    "duration": 187,
    "start_time": "2024-04-03T17:27:15.482Z"
   },
   {
    "duration": 194,
    "start_time": "2024-04-03T17:27:37.355Z"
   },
   {
    "duration": 185,
    "start_time": "2024-04-03T17:28:53.419Z"
   },
   {
    "duration": 174,
    "start_time": "2024-04-03T17:29:10.277Z"
   },
   {
    "duration": 181,
    "start_time": "2024-04-03T17:29:28.498Z"
   },
   {
    "duration": 320,
    "start_time": "2024-04-03T17:31:00.758Z"
   },
   {
    "duration": 10,
    "start_time": "2024-04-03T17:34:37.381Z"
   },
   {
    "duration": 99,
    "start_time": "2024-04-03T17:34:55.049Z"
   },
   {
    "duration": 107,
    "start_time": "2024-04-03T17:35:39.680Z"
   },
   {
    "duration": 94,
    "start_time": "2024-04-03T17:35:49.741Z"
   },
   {
    "duration": 25,
    "start_time": "2024-04-03T17:45:43.900Z"
   },
   {
    "duration": 148,
    "start_time": "2024-04-03T17:46:06.785Z"
   },
   {
    "duration": 6,
    "start_time": "2024-04-03T17:46:12.306Z"
   },
   {
    "duration": 150,
    "start_time": "2024-04-03T17:47:58.032Z"
   },
   {
    "duration": 5,
    "start_time": "2024-04-03T17:50:35.219Z"
   },
   {
    "duration": 6,
    "start_time": "2024-04-03T17:50:38.259Z"
   },
   {
    "duration": 5,
    "start_time": "2024-04-03T17:51:21.962Z"
   },
   {
    "duration": 4,
    "start_time": "2024-04-03T17:56:54.319Z"
   },
   {
    "duration": 150,
    "start_time": "2024-04-03T17:58:35.537Z"
   },
   {
    "duration": 165,
    "start_time": "2024-04-03T18:06:01.413Z"
   },
   {
    "duration": 1442,
    "start_time": "2024-04-03T18:06:09.531Z"
   },
   {
    "duration": 9,
    "start_time": "2024-04-03T18:06:28.485Z"
   },
   {
    "duration": 8,
    "start_time": "2024-04-03T18:06:54.775Z"
   },
   {
    "duration": 162,
    "start_time": "2024-04-03T18:08:36.052Z"
   },
   {
    "duration": 8,
    "start_time": "2024-04-03T18:08:39.689Z"
   },
   {
    "duration": 163,
    "start_time": "2024-04-03T18:10:00.827Z"
   },
   {
    "duration": 153,
    "start_time": "2024-04-03T18:10:21.445Z"
   },
   {
    "duration": 43,
    "start_time": "2024-04-03T18:12:16.252Z"
   },
   {
    "duration": 40,
    "start_time": "2024-04-03T18:12:31.459Z"
   },
   {
    "duration": 14,
    "start_time": "2024-04-03T18:41:38.830Z"
   },
   {
    "duration": 34,
    "start_time": "2024-04-03T18:42:47.187Z"
   },
   {
    "duration": 82,
    "start_time": "2024-04-03T18:43:43.433Z"
   },
   {
    "duration": 29,
    "start_time": "2024-04-03T18:43:51.878Z"
   },
   {
    "duration": 19,
    "start_time": "2024-04-03T18:45:00.855Z"
   },
   {
    "duration": 150,
    "start_time": "2024-04-03T18:57:15.063Z"
   },
   {
    "duration": 156,
    "start_time": "2024-04-03T18:58:12.192Z"
   },
   {
    "duration": 165,
    "start_time": "2024-04-03T18:59:23.425Z"
   },
   {
    "duration": 13,
    "start_time": "2024-04-03T19:04:03.430Z"
   },
   {
    "duration": 267,
    "start_time": "2024-04-03T19:06:26.809Z"
   },
   {
    "duration": 11,
    "start_time": "2024-04-03T19:08:28.896Z"
   },
   {
    "duration": 144,
    "start_time": "2024-04-03T19:08:41.380Z"
   },
   {
    "duration": 10,
    "start_time": "2024-04-03T19:11:35.654Z"
   },
   {
    "duration": 76,
    "start_time": "2024-04-03T19:11:55.728Z"
   },
   {
    "duration": 103,
    "start_time": "2024-04-03T19:12:03.792Z"
   },
   {
    "duration": 270,
    "start_time": "2024-04-03T19:13:21.898Z"
   },
   {
    "duration": 226,
    "start_time": "2024-04-03T19:26:51.852Z"
   },
   {
    "duration": 933,
    "start_time": "2024-04-03T19:27:03.554Z"
   },
   {
    "duration": 1347,
    "start_time": "2024-04-04T08:17:43.618Z"
   },
   {
    "duration": 103,
    "start_time": "2024-04-04T08:17:44.967Z"
   },
   {
    "duration": 141,
    "start_time": "2024-04-04T08:17:45.072Z"
   },
   {
    "duration": 69,
    "start_time": "2024-04-04T08:17:45.215Z"
   },
   {
    "duration": 14,
    "start_time": "2024-04-04T08:17:45.286Z"
   },
   {
    "duration": 52,
    "start_time": "2024-04-04T08:17:45.301Z"
   },
   {
    "duration": 42,
    "start_time": "2024-04-04T08:17:45.354Z"
   },
   {
    "duration": 33,
    "start_time": "2024-04-04T08:17:45.398Z"
   },
   {
    "duration": 22,
    "start_time": "2024-04-04T08:17:45.433Z"
   },
   {
    "duration": 14,
    "start_time": "2024-04-04T08:17:45.457Z"
   },
   {
    "duration": 27,
    "start_time": "2024-04-04T08:17:45.472Z"
   },
   {
    "duration": 83,
    "start_time": "2024-04-04T08:17:45.501Z"
   },
   {
    "duration": 220,
    "start_time": "2024-04-04T08:17:45.586Z"
   },
   {
    "duration": 252,
    "start_time": "2024-04-04T08:17:45.808Z"
   },
   {
    "duration": 250,
    "start_time": "2024-04-04T08:17:46.062Z"
   },
   {
    "duration": 3,
    "start_time": "2024-04-04T08:17:46.315Z"
   },
   {
    "duration": 48,
    "start_time": "2024-04-04T08:17:46.319Z"
   },
   {
    "duration": 16,
    "start_time": "2024-04-04T08:17:46.369Z"
   },
   {
    "duration": 9,
    "start_time": "2024-04-04T08:17:46.387Z"
   },
   {
    "duration": 15,
    "start_time": "2024-04-04T08:17:46.398Z"
   },
   {
    "duration": 9,
    "start_time": "2024-04-04T08:17:46.415Z"
   },
   {
    "duration": 5,
    "start_time": "2024-04-04T08:17:46.500Z"
   },
   {
    "duration": 7,
    "start_time": "2024-04-04T08:17:46.577Z"
   },
   {
    "duration": 4,
    "start_time": "2024-04-04T08:17:46.863Z"
   },
   {
    "duration": 7,
    "start_time": "2024-04-04T08:17:46.921Z"
   },
   {
    "duration": 8,
    "start_time": "2024-04-04T08:17:46.979Z"
   },
   {
    "duration": 129,
    "start_time": "2024-04-04T08:17:47.129Z"
   },
   {
    "duration": 223,
    "start_time": "2024-04-04T08:17:47.365Z"
   },
   {
    "duration": 5,
    "start_time": "2024-04-04T08:17:47.589Z"
   },
   {
    "duration": 5,
    "start_time": "2024-04-04T08:17:47.660Z"
   },
   {
    "duration": 8,
    "start_time": "2024-04-04T08:17:47.765Z"
   },
   {
    "duration": 8,
    "start_time": "2024-04-04T08:17:47.824Z"
   },
   {
    "duration": 3,
    "start_time": "2024-04-04T08:17:47.882Z"
   },
   {
    "duration": 8,
    "start_time": "2024-04-04T08:17:48.038Z"
   },
   {
    "duration": 113,
    "start_time": "2024-04-04T08:17:48.165Z"
   },
   {
    "duration": 5,
    "start_time": "2024-04-04T08:17:48.280Z"
   },
   {
    "duration": 8,
    "start_time": "2024-04-04T08:17:48.328Z"
   },
   {
    "duration": 241,
    "start_time": "2024-04-04T08:17:48.565Z"
   },
   {
    "duration": 17,
    "start_time": "2024-04-04T08:17:48.809Z"
   },
   {
    "duration": 10,
    "start_time": "2024-04-04T08:17:48.828Z"
   },
   {
    "duration": 6,
    "start_time": "2024-04-04T08:17:48.878Z"
   },
   {
    "duration": 338,
    "start_time": "2024-04-04T08:17:48.984Z"
   },
   {
    "duration": 4,
    "start_time": "2024-04-04T08:17:49.324Z"
   },
   {
    "duration": 14,
    "start_time": "2024-04-04T08:17:49.372Z"
   },
   {
    "duration": 159,
    "start_time": "2024-04-04T08:17:49.431Z"
   },
   {
    "duration": 3,
    "start_time": "2024-04-04T08:17:49.592Z"
   },
   {
    "duration": 4,
    "start_time": "2024-04-04T08:17:49.635Z"
   },
   {
    "duration": 82,
    "start_time": "2024-04-04T08:17:49.696Z"
   },
   {
    "duration": 8,
    "start_time": "2024-04-04T08:17:49.885Z"
   },
   {
    "duration": 203,
    "start_time": "2024-04-04T08:17:49.945Z"
   },
   {
    "duration": 9,
    "start_time": "2024-04-04T08:17:50.178Z"
   },
   {
    "duration": 262,
    "start_time": "2024-04-04T08:17:50.238Z"
   },
   {
    "duration": 10,
    "start_time": "2024-04-04T08:17:50.502Z"
   },
   {
    "duration": 228,
    "start_time": "2024-04-04T08:17:50.556Z"
   },
   {
    "duration": 3,
    "start_time": "2024-04-04T08:17:50.918Z"
   },
   {
    "duration": 11,
    "start_time": "2024-04-04T08:17:51.111Z"
   },
   {
    "duration": 11,
    "start_time": "2024-04-04T08:17:51.213Z"
   },
   {
    "duration": 17,
    "start_time": "2024-04-04T08:17:51.316Z"
   },
   {
    "duration": 15,
    "start_time": "2024-04-04T08:17:51.440Z"
   },
   {
    "duration": 5,
    "start_time": "2024-04-04T08:17:51.741Z"
   },
   {
    "duration": 15,
    "start_time": "2024-04-04T08:17:51.936Z"
   },
   {
    "duration": 3,
    "start_time": "2024-04-04T08:17:52.288Z"
   },
   {
    "duration": 8,
    "start_time": "2024-04-04T08:17:53.341Z"
   },
   {
    "duration": 16,
    "start_time": "2024-04-04T08:17:53.450Z"
   },
   {
    "duration": 6,
    "start_time": "2024-04-04T08:17:53.558Z"
   },
   {
    "duration": 16,
    "start_time": "2024-04-04T08:17:53.666Z"
   },
   {
    "duration": 11,
    "start_time": "2024-04-04T08:17:53.904Z"
   },
   {
    "duration": 210,
    "start_time": "2024-04-04T08:17:53.979Z"
   },
   {
    "duration": 9,
    "start_time": "2024-04-04T08:17:54.191Z"
   },
   {
    "duration": 229,
    "start_time": "2024-04-04T08:17:54.202Z"
   },
   {
    "duration": 12,
    "start_time": "2024-04-04T08:17:54.434Z"
   },
   {
    "duration": 220,
    "start_time": "2024-04-04T08:17:54.447Z"
   },
   {
    "duration": 9,
    "start_time": "2024-04-04T08:17:54.669Z"
   },
   {
    "duration": 184,
    "start_time": "2024-04-04T08:17:54.688Z"
   },
   {
    "duration": 5,
    "start_time": "2024-04-04T08:17:54.887Z"
   },
   {
    "duration": 3,
    "start_time": "2024-04-04T08:17:54.995Z"
   },
   {
    "duration": 6,
    "start_time": "2024-04-04T08:17:55.101Z"
   },
   {
    "duration": 36,
    "start_time": "2024-04-04T08:17:55.212Z"
   },
   {
    "duration": 11,
    "start_time": "2024-04-04T08:17:55.330Z"
   },
   {
    "duration": 7,
    "start_time": "2024-04-04T08:17:55.655Z"
   },
   {
    "duration": 4,
    "start_time": "2024-04-04T08:17:55.768Z"
   },
   {
    "duration": 273,
    "start_time": "2024-04-04T08:17:55.874Z"
   },
   {
    "duration": 5,
    "start_time": "2024-04-04T08:17:56.149Z"
   },
   {
    "duration": 116,
    "start_time": "2024-04-04T08:17:56.156Z"
   },
   {
    "duration": 17,
    "start_time": "2024-04-04T08:17:56.274Z"
   },
   {
    "duration": 6,
    "start_time": "2024-04-04T08:17:56.293Z"
   },
   {
    "duration": 14,
    "start_time": "2024-04-04T08:17:56.360Z"
   },
   {
    "duration": 5,
    "start_time": "2024-04-04T08:17:56.908Z"
   },
   {
    "duration": 5,
    "start_time": "2024-04-04T08:17:57.325Z"
   },
   {
    "duration": 5,
    "start_time": "2024-04-04T08:17:57.524Z"
   },
   {
    "duration": 8,
    "start_time": "2024-04-04T08:17:58.025Z"
   },
   {
    "duration": 13,
    "start_time": "2024-04-04T08:21:40.146Z"
   },
   {
    "duration": 1058,
    "start_time": "2024-04-04T08:22:27.959Z"
   },
   {
    "duration": 886,
    "start_time": "2024-04-04T08:24:08.116Z"
   },
   {
    "duration": 890,
    "start_time": "2024-04-04T08:27:12.942Z"
   },
   {
    "duration": 1065,
    "start_time": "2024-04-04T08:27:32.909Z"
   },
   {
    "duration": 870,
    "start_time": "2024-04-04T08:27:38.621Z"
   },
   {
    "duration": 904,
    "start_time": "2024-04-04T08:27:44.668Z"
   },
   {
    "duration": 10,
    "start_time": "2024-04-04T08:30:11.559Z"
   },
   {
    "duration": 17,
    "start_time": "2024-04-04T08:30:20.774Z"
   },
   {
    "duration": 893,
    "start_time": "2024-04-04T08:30:38.245Z"
   },
   {
    "duration": 81,
    "start_time": "2024-04-04T08:31:04.676Z"
   },
   {
    "duration": 105,
    "start_time": "2024-04-04T08:33:39.071Z"
   },
   {
    "duration": 81,
    "start_time": "2024-04-04T08:33:49.735Z"
   },
   {
    "duration": 78,
    "start_time": "2024-04-04T08:37:19.513Z"
   },
   {
    "duration": 719,
    "start_time": "2024-04-04T08:37:26.993Z"
   },
   {
    "duration": 717,
    "start_time": "2024-04-04T08:38:45.336Z"
   },
   {
    "duration": 752,
    "start_time": "2024-04-04T08:42:27.410Z"
   },
   {
    "duration": 707,
    "start_time": "2024-04-04T08:42:39.682Z"
   },
   {
    "duration": 713,
    "start_time": "2024-04-04T08:43:39.825Z"
   },
   {
    "duration": 727,
    "start_time": "2024-04-04T08:45:54.470Z"
   },
   {
    "duration": 2275,
    "start_time": "2024-04-04T08:46:44.620Z"
   },
   {
    "duration": 2202,
    "start_time": "2024-04-04T08:47:22.782Z"
   },
   {
    "duration": 738,
    "start_time": "2024-04-04T08:47:49.205Z"
   },
   {
    "duration": 235,
    "start_time": "2024-04-04T08:49:01.683Z"
   },
   {
    "duration": 230,
    "start_time": "2024-04-04T08:49:36.282Z"
   },
   {
    "duration": 227,
    "start_time": "2024-04-04T08:49:40.297Z"
   },
   {
    "duration": 231,
    "start_time": "2024-04-04T08:49:48.514Z"
   },
   {
    "duration": 233,
    "start_time": "2024-04-04T08:50:22.442Z"
   },
   {
    "duration": 214,
    "start_time": "2024-04-04T08:52:11.927Z"
   },
   {
    "duration": 221,
    "start_time": "2024-04-04T08:52:16.055Z"
   },
   {
    "duration": 299,
    "start_time": "2024-04-04T08:52:22.887Z"
   },
   {
    "duration": 340,
    "start_time": "2024-04-04T08:56:47.338Z"
   },
   {
    "duration": 247,
    "start_time": "2024-04-04T08:59:33.199Z"
   },
   {
    "duration": 227,
    "start_time": "2024-04-04T09:00:36.498Z"
   },
   {
    "duration": 241,
    "start_time": "2024-04-04T09:10:03.377Z"
   },
   {
    "duration": 5,
    "start_time": "2024-04-04T09:10:16.721Z"
   },
   {
    "duration": 1444,
    "start_time": "2024-04-04T09:10:26.377Z"
   },
   {
    "duration": 2005,
    "start_time": "2024-04-04T16:51:16.160Z"
   },
   {
    "duration": 74,
    "start_time": "2024-04-04T16:51:18.565Z"
   },
   {
    "duration": 78,
    "start_time": "2024-04-04T16:51:19.451Z"
   },
   {
    "duration": 70,
    "start_time": "2024-04-04T16:51:19.878Z"
   },
   {
    "duration": 19,
    "start_time": "2024-04-04T16:51:20.382Z"
   },
   {
    "duration": 10,
    "start_time": "2024-04-04T16:51:20.716Z"
   },
   {
    "duration": 32,
    "start_time": "2024-04-04T16:51:20.734Z"
   },
   {
    "duration": 11,
    "start_time": "2024-04-04T16:51:21.230Z"
   },
   {
    "duration": 24,
    "start_time": "2024-04-04T16:51:21.344Z"
   },
   {
    "duration": 10,
    "start_time": "2024-04-04T16:51:21.388Z"
   },
   {
    "duration": 19,
    "start_time": "2024-04-04T16:51:21.619Z"
   },
   {
    "duration": 117,
    "start_time": "2024-04-04T16:51:21.666Z"
   },
   {
    "duration": 482,
    "start_time": "2024-04-04T16:51:21.785Z"
   },
   {
    "duration": 428,
    "start_time": "2024-04-04T16:51:22.268Z"
   },
   {
    "duration": 482,
    "start_time": "2024-04-04T16:51:22.697Z"
   },
   {
    "duration": 3,
    "start_time": "2024-04-04T16:51:23.181Z"
   },
   {
    "duration": 12,
    "start_time": "2024-04-04T16:51:23.185Z"
   },
   {
    "duration": 5,
    "start_time": "2024-04-04T16:51:23.198Z"
   },
   {
    "duration": 30,
    "start_time": "2024-04-04T16:51:23.265Z"
   },
   {
    "duration": 69,
    "start_time": "2024-04-04T16:51:23.297Z"
   },
   {
    "duration": 8,
    "start_time": "2024-04-04T16:51:23.368Z"
   },
   {
    "duration": 5,
    "start_time": "2024-04-04T16:51:23.379Z"
   },
   {
    "duration": 10,
    "start_time": "2024-04-04T16:51:23.386Z"
   },
   {
    "duration": 67,
    "start_time": "2024-04-04T16:51:23.398Z"
   },
   {
    "duration": 7,
    "start_time": "2024-04-04T16:51:23.466Z"
   },
   {
    "duration": 8,
    "start_time": "2024-04-04T16:51:23.475Z"
   },
   {
    "duration": 246,
    "start_time": "2024-04-04T16:51:24.236Z"
   },
   {
    "duration": 415,
    "start_time": "2024-04-04T16:51:25.267Z"
   },
   {
    "duration": 4,
    "start_time": "2024-04-04T16:51:25.685Z"
   },
   {
    "duration": 5,
    "start_time": "2024-04-04T16:51:26.608Z"
   },
   {
    "duration": 7,
    "start_time": "2024-04-04T16:51:27.191Z"
   },
   {
    "duration": 8,
    "start_time": "2024-04-04T16:51:27.199Z"
   },
   {
    "duration": 4,
    "start_time": "2024-04-04T16:51:27.362Z"
   },
   {
    "duration": 10,
    "start_time": "2024-04-04T16:51:28.017Z"
   },
   {
    "duration": 192,
    "start_time": "2024-04-04T16:51:28.203Z"
   },
   {
    "duration": 5,
    "start_time": "2024-04-04T16:51:28.396Z"
   },
   {
    "duration": 67,
    "start_time": "2024-04-04T16:51:28.402Z"
   },
   {
    "duration": 615,
    "start_time": "2024-04-04T16:51:28.471Z"
   },
   {
    "duration": 80,
    "start_time": "2024-04-04T16:51:29.089Z"
   },
   {
    "duration": 6,
    "start_time": "2024-04-04T16:51:29.170Z"
   },
   {
    "duration": 6,
    "start_time": "2024-04-04T16:51:29.177Z"
   },
   {
    "duration": 682,
    "start_time": "2024-04-04T16:51:29.184Z"
   },
   {
    "duration": 3,
    "start_time": "2024-04-04T16:51:29.868Z"
   },
   {
    "duration": 20,
    "start_time": "2024-04-04T16:51:29.873Z"
   },
   {
    "duration": 309,
    "start_time": "2024-04-04T16:51:29.894Z"
   },
   {
    "duration": 4,
    "start_time": "2024-04-04T16:51:30.205Z"
   },
   {
    "duration": 57,
    "start_time": "2024-04-04T16:51:30.210Z"
   },
   {
    "duration": 216,
    "start_time": "2024-04-04T16:51:30.270Z"
   },
   {
    "duration": 8,
    "start_time": "2024-04-04T16:51:30.488Z"
   },
   {
    "duration": 605,
    "start_time": "2024-04-04T16:51:30.498Z"
   },
   {
    "duration": 63,
    "start_time": "2024-04-04T16:51:31.105Z"
   },
   {
    "duration": 438,
    "start_time": "2024-04-04T16:51:31.170Z"
   },
   {
    "duration": 63,
    "start_time": "2024-04-04T16:51:31.609Z"
   },
   {
    "duration": 504,
    "start_time": "2024-04-04T16:51:31.674Z"
   },
   {
    "duration": 4,
    "start_time": "2024-04-04T16:51:32.180Z"
   },
   {
    "duration": 85,
    "start_time": "2024-04-04T16:51:32.185Z"
   },
   {
    "duration": 28,
    "start_time": "2024-04-04T16:51:32.272Z"
   },
   {
    "duration": 66,
    "start_time": "2024-04-04T16:51:32.302Z"
   },
   {
    "duration": 15,
    "start_time": "2024-04-04T16:51:32.369Z"
   },
   {
    "duration": 7,
    "start_time": "2024-04-04T16:51:32.387Z"
   },
   {
    "duration": 78,
    "start_time": "2024-04-04T16:51:32.396Z"
   },
   {
    "duration": 11,
    "start_time": "2024-04-04T16:51:32.475Z"
   },
   {
    "duration": 30,
    "start_time": "2024-04-04T16:51:32.487Z"
   },
   {
    "duration": 61,
    "start_time": "2024-04-04T16:51:32.518Z"
   },
   {
    "duration": 6,
    "start_time": "2024-04-04T16:51:32.580Z"
   },
   {
    "duration": 18,
    "start_time": "2024-04-04T16:51:32.588Z"
   },
   {
    "duration": 65,
    "start_time": "2024-04-04T16:51:32.607Z"
   },
   {
    "duration": 398,
    "start_time": "2024-04-04T16:51:32.673Z"
   },
   {
    "duration": 8,
    "start_time": "2024-04-04T16:51:33.073Z"
   },
   {
    "duration": 402,
    "start_time": "2024-04-04T16:51:33.083Z"
   },
   {
    "duration": 9,
    "start_time": "2024-04-04T16:51:33.487Z"
   },
   {
    "duration": 669,
    "start_time": "2024-04-04T16:51:33.498Z"
   },
   {
    "duration": 8,
    "start_time": "2024-04-04T16:51:34.169Z"
   },
   {
    "duration": 308,
    "start_time": "2024-04-04T16:51:34.269Z"
   }
  ],
  "kernelspec": {
   "display_name": "Python 3 (ipykernel)",
   "language": "python",
   "name": "python3"
  },
  "language_info": {
   "codemirror_mode": {
    "name": "ipython",
    "version": 3
   },
   "file_extension": ".py",
   "mimetype": "text/x-python",
   "name": "python",
   "nbconvert_exporter": "python",
   "pygments_lexer": "ipython3",
   "version": "3.11.5"
  },
  "toc": {
   "base_numbering": 1,
   "nav_menu": {},
   "number_sections": true,
   "sideBar": true,
   "skip_h1_title": true,
   "title_cell": "Table of Contents",
   "title_sidebar": "Contents",
   "toc_cell": false,
   "toc_position": {
    "height": "calc(100% - 180px)",
    "left": "10px",
    "top": "150px",
    "width": "507.391px"
   },
   "toc_section_display": true,
   "toc_window_display": false
  }
 },
 "nbformat": 4,
 "nbformat_minor": 5
}
